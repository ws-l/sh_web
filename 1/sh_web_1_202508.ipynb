{
  "nbformat": 4,
  "nbformat_minor": 0,
  "metadata": {
    "colab": {
      "provenance": []
    },
    "kernelspec": {
      "name": "python3",
      "display_name": "Python 3"
    },
    "language_info": {
      "name": "python"
    }
  },
  "cells": [
    {
      "cell_type": "markdown",
      "source": [
        "#1.웹 수집"
      ],
      "metadata": {
        "id": "k5isDh7r_zml"
      }
    },
    {
      "cell_type": "markdown",
      "metadata": {
        "id": "5zRdb1L5qepi"
      },
      "source": [
        "- 크롤링(Crawling), 스크래핑(Scarping)\n",
        "\n",
        "- HTTP(Hyper Text Transfer Protocol): 인터넷에서 데이터를 주고 받을 수 있는 프로토콜\n",
        "\n",
        "- HTML: 웹에 사용되는 표준 Markup언어\n",
        "\n",
        "- 파싱(Parsing) : 어떤 페이지(문서, html)에서 원하는 데이터를 특정 패턴이나 순서로 추출하여 정보 가공\n",
        "\n"
      ]
    },
    {
      "cell_type": "markdown",
      "source": [
        "- 절차\n",
        " - URL 소스 수집(목록, 검색, 사이트맵)\n",
        " - Fetch(요청/렌더링) → Parse(선택자/정제) → Normalize(공백/인코딩)\n",
        " - Dedupe(내용 해시) → 메타데이터 부착(소스, 크롤 시각, 해시)\n",
        " - 저장(CSV/JSONL/Parquet/SQLite) → 품질검사(결측/중복/길이)\n",
        " - 한도 고려/재시도/로깅 → 스케줄러(cron) 운영"
      ],
      "metadata": {
        "id": "fUbecaqduPce"
      }
    },
    {
      "cell_type": "markdown",
      "metadata": {
        "id": "ThzwwkL5r2QG"
      },
      "source": [
        "- HTML 소개\n",
        "\n",
        "<Strong>\n",
        "Hypertext Markup <U>Language </U> (HTML)\n",
        "</Strong>\n",
        "\n",
        "<h1>Test</h1>\n",
        "<h1>This is heading 1</h1>\n",
        "<h2>This is heading 2</h2>\n",
        "<h3>This is heading</h3>\n",
        "<h4>This is heading</h4>\n",
        "<h5>This is heading</h5>\n",
        "<h6>This is heading</h6>\n",
        "\n",
        "# This is heading1"
      ]
    },
    {
      "cell_type": "markdown",
      "source": [
        "1) HTML의 역할\n",
        " - 콘텐츠의 구조를 정의(제목, 문단, 목록, 표, 폼 등)\n",
        " - 의미를 담는 시맨틱 마크업으로 SEO/접근성/유지보수성 향상\n",
        " - CSS(표현), JS(행동)와 구분된 표현-행동-구조 분리\n",
        "\n",
        "2) 기본 문서 골격\n",
        "\n",
        "\n",
        "\n"
      ],
      "metadata": {
        "id": "6UstFHidvCu7"
      }
    },
    {
      "cell_type": "markdown",
      "source": [
        "<!doctype html>: HTML5 선언\n",
        "\n",
        "<html lang=\"ko\"> : 언어 설정(검색·TTS·맞춤법·스크린리더)\n",
        "\n",
        "<head>: 메타데이터, 리소스 링크, SEO 정보\n",
        "\n",
        "<body>: 사용자에게 보이는 실제 콘텐츠\n",
        "\n",
        "<!doctype html>\n",
        "<html lang=\"ko\">\n",
        "<head>\n",
        "  <meta charset=\"utf-8\">\n",
        "  <meta name=\"viewport\" content=\"width=device-width, initial-scale=1\">\n",
        "  <title>문서 제목</title>\n",
        "  <meta name=\"description\" content=\"페이지 한줄 요약\">\n",
        "  <link rel=\"icon\" href=\"/favicon.ico\">\n",
        "  <link rel=\"preconnect\" href=\"https://fonts.googleapis.com\">\n",
        "  <script defer src=\"/app.js\"></script>\n",
        "  <link rel=\"stylesheet\" href=\"/styles.css\">\n",
        "</head>\n",
        "<body>\n",
        "  <main>콘텐츠…</main>\n",
        "</body>\n",
        "</html>"
      ],
      "metadata": {
        "id": "QJsYLw1iwBGG"
      }
    },
    {
      "cell_type": "markdown",
      "metadata": {
        "id": "D0iszA3iugbm"
      },
      "source": [
        "- HTML 태그?: 태그 내부에 값을 넣을 수 있을 뿐만 아니라, 태그마다 속성을 부여할 수 있음. 태그의 속성은 <태그 속성=\"값\"> 의 형태로 사용, 태그마다 여러 속성을 부여 할 수도 있음."
      ]
    },
    {
      "cell_type": "markdown",
      "source": [
        "3) 시맨틱 레이아웃 요소\n",
        " - 페이지 뼈대: <header> <nav> <main> <section> <article> <aside> <footer>\n",
        " - 텍스트 그룹: <h1~h6> <p> <blockquote> <pre> <code> <figure> <figcaption>\n",
        " - 의미에 맞는 태그 사용 → 스크린리더·검색봇이 구조를 이해\n",
        "\n",
        "4) 링크 & 내비게이션\n",
        " - <a href=\"…\"> : 내·외부 링크, download, target=\"_blank\", rel=\"noopener noreferrer\"\n",
        " - 스킵 링크: <a href=\"#main\">본문으로 건너뛰기</a>\n",
        " - 내비: <nav>에 사이트/섹션 메뉴 배치\n",
        "\n",
        "5) 이미지·미디어\n",
        " - <img src=\"…\" alt=\"대체텍스트\"> (접근성·SEO 핵심)\n",
        " - 반응형 이미지: srcset/sizes, <picture>\n",
        " - 비디오/오디오: <video controls> <audio controls> + <track kind=\"captions\">\n",
        " - 성능: loading=\"lazy\"(img/iframe 지연 로딩)\n",
        "\n",
        "6) 리스트·표\n",
        " - 리스트: <ul> <ol> <dl>\n",
        " - 표: <table> <thead> <tbody> <tfoot> <th> <td> + scope/headers로 의미 부여\n",
        " - 표는 데이터 표현에만, 레이아웃 용도로 사용 금지\n",
        "\n",
        "7) 폼(Form)\n",
        " - <form method=\"get|post\" action=\"…\"> + 입력요소\n",
        " - 입력유형: type=\"text email url tel number date time range file checkbox radio password search\"\n",
        " - 레이블: <label for=\"id\"> (접근성)\n",
        " - 검증 속성: required minlength maxlength pattern min max step\n",
        " - 자동완성: autocomplete=\"email|name|one-time-code|off\"\n",
        " - 모바일 키패드: inputmode=\"numeric\", enterkeyhint=\"search\"\n",
        " - 그룹: <fieldset><legend> / 선택: <select><option> / 텍스트박스: <textarea>\n",
        "\n",
        "8) 글로벌 속성(대부분 요소 공통)\n",
        " - id class title style hidden tabindex contenteditable draggable\n",
        " - lang dir(텍스트 방향) data-*(사용자 정의 데이터)\n",
        " - 접근성: role 및 aria-*(필요할 때만, 시맨틱 태그 우선)"
      ],
      "metadata": {
        "id": "IDnIRC9lwAG8"
      }
    },
    {
      "cell_type": "markdown",
      "metadata": {
        "id": "yx6-AebIZXH3"
      },
      "source": [
        "- Xpath: XML 문서의 특정 요소나 속성에 접근하기 위한 경로를 지정하는 언어.\n",
        "\n",
        " - /html/body/div/span/a..."
      ]
    },
    {
      "cell_type": "markdown",
      "source": [
        "1) 개념\n",
        "- XML/HTML 트리에서 노드를 찾는 경로 언어\n",
        "- 셀레니움/플레이라이트/크롤러에서 안정적인 요소 지정자로 사용\n",
        "- 인덱스는 1부터 시작(주의)\n",
        "\n",
        "2) 기본 표기\n",
        "- 절대 경로: /html/body/div\n",
        "- 상대 경로: //div(문서 어디든), .//a(현재 노드 기준)\n",
        "- 현재/부모: . / ..\n",
        "- 속성: @href, [@id='x']\n",
        "- 와일드카드: *(모든 태그)\n",
        "- 조건(프레디케이트): []\n",
        "- 합집합: | (예: //h1 | //h2)\n",
        "- 텍스트 노드: text() 또는 normalize-space(.)\n",
        "\n",
        "3) 축(Axes) 핵심\n",
        "- child::(생략 가능), descendant::(= //), parent::, ancestor::\n",
        "- following-sibling::, preceding-sibling::\n",
        "- self::node()(자기 자신), attribute::(= @)\n",
        "- 예) 라벨 옆 입력창:\n",
        "- //label[normalize-space()='이메일']/following-sibling::input\n",
        "\n",
        "4) 자주 쓰는 함수/패턴 (XPath 1.0 기준)\n",
        "- 포함: contains( @class, 'btn' )\n",
        "- 시작: starts-with( @id, 'user_' )\n",
        "- 공백 정리: normalize-space(.)\n",
        "- 대소문자 무시: contains( translate(., 'ABCDEFGHIJKLMNOPQRSTUVWXYZ', 'abcdefghijklmnopqrstuvwxyz'), 'login')\n",
        "- 위치/개수: position(), last()\n",
        "- 부정: not(@disabled)\n",
        "- n번째 요소: (//li[@role='option'])[3]\n",
        "- 마지막 행: (//table//tr)[last()]\n",
        "- 형제 중 n번째: //ul/li[position()=2]\n",
        "\n",
        "- XPath 2.0+의 ends-with, matches, lower-case 등은 브라우저/셀레니움 기본은 미지원 → 1.0 함수로 우회(예: translate)."
      ],
      "metadata": {
        "id": "TUDxex2Cwa-y"
      }
    },
    {
      "cell_type": "markdown",
      "metadata": {
        "id": "-sp7pnHZKjeA"
      },
      "source": [
        "## 1.1. requests - 웹페이지 읽기 / urllib, urllib2 을 사용하거나 requests 를 사용\n",
        "- HTTP GET, POST, PUT, DELETE 등을 사용할 수 있음\n",
        "- 데이타 인코딩 기능을 제공: 데이타를 Dictionary로 만들어 GET, POST 등에서 사용\n"
      ]
    },
    {
      "cell_type": "code",
      "metadata": {
        "id": "wcdtswhqKqYE"
      },
      "source": [
        "#!pip install requests"
      ],
      "execution_count": null,
      "outputs": []
    },
    {
      "cell_type": "code",
      "metadata": {
        "colab": {
          "base_uri": "https://localhost:8080/"
        },
        "id": "5G5z22VgKs5K",
        "outputId": "644fff38-20bb-4bd5-85c3-7fc283d9568d"
      },
      "source": [
        "import requests\n",
        "res = requests.get('http://www.naver.com')\n",
        "print('결과: ', res.status_code) #200은 정상적인 접속"
      ],
      "execution_count": 1,
      "outputs": [
        {
          "output_type": "stream",
          "name": "stdout",
          "text": [
            "결과:  200\n"
          ]
        }
      ]
    },
    {
      "cell_type": "code",
      "metadata": {
        "colab": {
          "base_uri": "https://localhost:8080/"
        },
        "id": "hZ8yXegsLGu0",
        "outputId": "8d81e6a1-49ea-4a0c-8e71-551c286d8c0e"
      },
      "source": [
        "import requests\n",
        "res = requests.get('https://www.naver.com/abcdefg')\n",
        "print('결과 : ', res.status_code) #400수준 코드는 접속 불가"
      ],
      "execution_count": null,
      "outputs": [
        {
          "output_type": "stream",
          "name": "stdout",
          "text": [
            "결과 :  404\n"
          ]
        }
      ]
    },
    {
      "cell_type": "code",
      "metadata": {
        "colab": {
          "base_uri": "https://localhost:8080/"
        },
        "id": "x47aQ_09MMd4",
        "outputId": "04d36e03-d489-40a2-ac97-7ed177a4623b"
      },
      "source": [
        "import requests\n",
        "res = requests.get('http://naver.com')\n",
        "print('결과: ', res.status_code)\n",
        "\n",
        "if res.status_code == requests.codes.ok:\n",
        "  print('ok')\n",
        "else :\n",
        "  print(\"error code:\",res.status_code)"
      ],
      "execution_count": null,
      "outputs": [
        {
          "output_type": "stream",
          "name": "stdout",
          "text": [
            "결과:  200\n",
            "ok\n"
          ]
        }
      ]
    },
    {
      "cell_type": "code",
      "metadata": {
        "colab": {
          "base_uri": "https://localhost:8080/"
        },
        "id": "zemz2-d7Mw3Y",
        "outputId": "f7e9f2d6-dfd3-4bdb-ca8e-ba3ec08b83e0"
      },
      "source": [
        "import requests\n",
        "res = requests.get('http://naver.com')\n",
        "print('결과 : ', res.status_code)\n",
        "\n",
        "res.raise_for_status() #res가 정상이 아닌 경우 오류\n",
        "print('crawling start')"
      ],
      "execution_count": null,
      "outputs": [
        {
          "output_type": "stream",
          "name": "stdout",
          "text": [
            "결과 :  200\n",
            "crawling start\n"
          ]
        }
      ]
    },
    {
      "cell_type": "code",
      "metadata": {
        "id": "f-x2086NNJJn",
        "colab": {
          "base_uri": "https://localhost:8080/",
          "height": 201
        },
        "outputId": "16e1d330-8e29-48fa-b257-0fbfb5123f2c"
      },
      "source": [
        "import requests\n",
        "res = requests.get('http://naver.com')\n",
        "res.raise_for_status()\n",
        "\n",
        "res.text"
      ],
      "execution_count": null,
      "outputs": [
        {
          "output_type": "execute_result",
          "data": {
            "text/plain": [
              "'   <!doctype html> <html lang=\"ko\" class=\"fzoom\"> <head> <meta charset=\"utf-8\"> <meta name=\"Referrer\" content=\"origin\"> <meta http-equiv=\"X-UA-Compatible\" content=\"IE=edge\"> <meta name=\"viewport\" content=\"width=1190\"> <title>NAVER</title> <meta name=\"apple-mobile-web-app-title\" content=\"NAVER\"/> <meta name=\"robots\" content=\"index,nofollow\"/> <meta name=\"description\" content=\"네이버 메인에서 다양한 정보와 유용한 컨텐츠를 만나 보세요\"/> <meta property=\"og:title\" content=\"네이버\"> <meta property=\"og:url\" content=\"https://www.naver.com/\"> <meta property=\"og:image\" content=\"https://s.pstatic.net/static/www/mobile/edit/2016/0705/mobile_212852414260.png\"> <meta property=\"og:description\" content=\"네이버 메인에서 다양한 정보와 유용한 컨텐츠를 만나 보세요\"/> <meta name=\"twitter:card\" content=\"summary\"> <meta name=\"twitter:title\" content=\"\"> <meta name=\"twitter:url\" content=\"https://www.naver.com/\"> <meta name=\"twitter:image\" content=\"https://s.pstatic.net/static/www/mobile/edit/2016/0705/mobile_212852414260.png\"> <meta name=\"twitter:description\" content=\"네이버 메인에서 다양한 정보와 유용한 컨텐츠를 만나 보세요\"/> <meta name=\"google-site-verification\" content=\"uru5NJKa1Bfr5nv5AdQ26Qat7UrPU_02l-PIZRLzI-g\"/> <link rel=\"shortcut icon\" type=\"image/x-icon\" href=\"/favicon.ico?1\"> <link rel=\"apple-touch-icon-precomposed\" href=\"https://s.pstatic.net/static/www/nFavicon96.png\"/> <link rel=\"apple-touch-icon\" sizes=\"114x114\" href=\"https://s.pstatic.net/static/www/u/2014/0328/mma_204243574.png\"/> <link rel=\"apple-touch-icon\" href=\"https://s.pstatic.net/static/www/u/2014/0328/mma_20432863.png\"/> <link rel=\"stylesheet\" href=\"https://ssl.pstatic.net/sstatic/search/pc/css/sp_autocomplete_241121.css\"> <link rel=\"canonical\" href=\"https://www.naver.com/\"> <link rel=\"alternate\" media=\"only screen and (max-width: 767px)\" href=\"https://m.naver.com/\"> <script>window.gladsdk=window.gladsdk||{},window.gladsdk.cmd=window.gladsdk.cmd||[],window.ndpsdk=window.ndpsdk||{},window.ndpsdk.cmd=window.ndpsdk.cmd||[],window.ndpsdk.polyfill=window.ndpsdk.polyfill||{cmd:[]};var g_ssc=\"navertop.v5\";window.nsc=g_ssc,window.nmain=window.nmain||{},window.nmain.jsOrigin=\"www\"</script> <script>window.ntm=window.ntm||[]</script> <script async src=\"https://ssl.pstatic.net/tveta/libs/ndpsdk/prod/ndp-loader.js\"></script> <script async src=\"https://ssl.pstatic.net/tveta/libs/glad/prod/gfp-core.js\"></script> <script src=\"https://ssl.pstatic.net/tveta/libs/assets/js/pc/main/min/pc.veta.core.min.js\" defer=\"defer\"></script>  <script>\\nwindow[\"EAGER-DATA\"] = window[\"EAGER-DATA\"] || {};\\nwindow[\"EAGER-DATA\"][\"PC-FEED-WRAPPER\"] = {\"@type\":\"BLOCK\",\"blocks\":[{\"@type\":\"BLOCK\",\"blocks\":[{\"@type\":\"BLOCK\",\"blocks\":null,\"materials\":[{\"@type\":\"MATERIAL-PC-FEED\",\"title\":\"가을 코디 필수템, 화이트 H라인 데님 스커트 위시리스트\",\"url\":\"https://in.naver.com/gime/topic/856522500670976\",\"image\":{\"url\":\"https://s.pstatic.net/dthumb.phinf/?src=%22https%3A%2F%2Finfluencer-phinf.pstatic.net%2FMjAyNTA4MTdfMTMz%2FMDAxNzU1NDEyNTk1NDYz.ZQohFW0vzstZoVsSv8exVkZCWNfEXcoljAVUx0gm9dgg.TQT8_EdUvXJedmTVkwanEeQ2tPHmQdJuAHL4n2VfRVwg.PNG%2F36f8.png%22&type=ff364_236&service=navermain\"},\"source\":{\"name\":\"김미\",\"image\":{\"url\":\"https://s.pstatic.net/dthumb.phinf/?src=%22https%3A%2F%2Finfluencer-phinf.pstatic.net%2FMjAyMDEyMjJfMjQ3%2FMDAxNjA4NjIxMjUxMzM4.rDt34Q8CBKdzmNGyg-w1yj3ghA__12xIHegzsmZ5oMwg.oUdz_MgFcYwMXLETvWBevujOu9DU8PVoCgxjZ5SdiZcg.JPEG%2FIMG_20201212_052850_700.jpg%22&type=nf40_40&service=navermain\"}},\"showLiveBadge\":false,\"_id\":\"654ad80598c6dbca70ba6cce\"},{\"@type\":\"MATERIAL-PC-FEED\",\"title\":\"유행따라 재출시된 차정원 에르메스가방 숄더 버킨 사이즈 국내입고 정보\",\"url\":\"https://in.naver.com/leexjam/topic/857200887944992\",\"image\":{\"url\":\"https://s.pstatic.net/dthumb.phinf/?src=%22https%3A%2F%2Finfluencer-phinf.pstatic.net%2FMjAyNTA4MTlfNTQg%2FMDAxNzU1NTc4MzI5MDE3.RJxlv2DLmCSMXjKlaxrACHyp8THME9ZAQayjxPx4rykg.pO6fV7YfJ44jmAOFGYpnoWV1H9cJohJbFaChpewwbiEg.PNG%2F79c9.png%22&type=ff364_236&service=navermain\"},\"source\":{\"name\":\"이잼잼\",\"image\":{\"url\":\"https://s.pstatic.net/dthumb.phinf/?src=%22https%3A%2F%2Fhomebuilder-phinf.pstatic.net%2FMjAyMzEwMTZfMTEy%2FMDAxNjk3NDI2NzQzMjI4.ZE5ZdkSufkbK-SGHhjhund7z4C-FnpmBdkQNRMl-sscg.SO5zLBUrOEgXGYkt-SFjlhbSXqwfCLUEhsXMAxsjvFIg.JPEG%2F1697426743186_IMG_2012.jpeg%22&type=nf40_40&service=navermain\"}},\"showLiveBadge\":false,\"_id\":\"654ad80598c6dbca70ba6ccf\"},{\"@type\":\"MATERIAL-PC-FEED\",\"title\":\"하지원이 너무 편해서 내돈내산한 뉴발란스 운동화\",\"url\":\"https://in.naver.com/choisfashion/topic/856617528190496\",\"image\":{\"url\":\"https://s.pstatic.net/dthumb.phinf/?src=%22https%3A%2F%2Finfluencer-phinf.pstatic.net%2FMjAyNTA4MTdfMjgz%2FMDAxNzU1NDM1OTMzMDYx.E5eaKPulGPUSKvTN3ukSaTuq80QugF3WPj1S7GAx-ywg.XwcKD5iAb0pDs6MqUV8SgAE1dGlT3kj8h-FcStMnzhwg.PNG%2F05db.png%22&type=ff364_236&service=navermain\"},\"source\":{\"name\":\"헤이초이\",\"image\":{\"url\":\"https://s.pstatic.net/dthumb.phinf/?src=%22https%3A%2F%2Fhomebuilder-phinf.pstatic.net%2FMjAyMzExMjFfMTA1%2FMDAxNzAwNTYyNDYxNTA0.waLVbY_cNPG8d_oAgNvCCyPEmXLd2gQm53P1VBBOHrkg.YvI7NHkdL-rbWuqBdB5q4KuNpoJkGgj3ARxBCAbm-ZEg.JPEG%2F1700562461482_0D44C8C0-4845-4BA0-A151-A1CB454279C6.jpeg%22&type=nf40_40&service=navermain\"}},\"showLiveBadge\":false,\"_id\":\"654ad80598c6dbca70ba6cd0\"},{\"@type\":\"MATERIAL-PC-FEED\",\"title\":\"요즘 자라에서 가장 잘팔리는 구두 3가지\",\"url\":\"https://in.naver.com/daisy_717/topic/856990648166208\",\"image\":{\"url\":\"https://s.pstatic.net/dthumb.phinf/?src=%22https%3A%2F%2Finfluencer-phinf.pstatic.net%2FMjAyNTA4MThfMjI3%2FMDAxNzU1NTI2OTEzMjM3.9Nc96Jlu6uTWrm3rBTggb4idC4Wu9YZIwe7ZmFET3FMg.7HQ1v9utZsqWLpOMDoAfv-NZt7y-DW-K7prcbjaI9Cgg.PNG%2Fab32.png%22&type=ff364_236&service=navermain\"},\"source\":{\"name\":\"또또룩\",\"image\":{\"url\":\"https://s.pstatic.net/dthumb.phinf/?src=%22https%3A%2F%2Fhomebuilder-phinf.pstatic.net%2FMjAyNDExMjFfMjE4%2FMDAxNzMyMTY2NzUyMjI4.CTKBbAs2hepp8lDq4BY4_ETkqu3l1AQRCOkGpFxv4t4g.PDzHdnuzt3KAjkZ85KvKPY5fvmANb9wV7jnjhPFgrJQg.JPEG%2F1732166752188_IMG_7706.jpeg%22&type=nf40_40&service=navermain\"}},\"showLiveBadge\":false,\"_id\":\"654ad80598c6dbca70ba6cd1\"},{\"@type\":\"MATERIAL-PC-FEED\",\"title\":\"남자 간절기 바람막이 추천.zip\",\"url\":\"https://in.naver.com/gozimozi/topic/856803441903104\",\"image\":{\"url\":\"https://s.pstatic.net/dthumb.phinf/?src=%22https%3A%2F%2Finfluencer-phinf.pstatic.net%2FMjAyNTA4MThfMTY5%2FMDAxNzU1NDgxMjkwOTAw.-IGcA0FId9ritcvt3uLcYQbGDImuIy7IxSmx5G32-M8g.AmKOZKeIeTBZGC9ickDTC3gnHNmr7LqtB2f4Pq4JXZ4g.PNG%2F5c32.png%22&type=ff364_236&service=navermain\"},\"source\":{\"name\":\"고지모지\",\"image\":{\"url\":\"https://s.pstatic.net/dthumb.phinf/?src=%22https%3A%2F%2Fblogpfthumb-phinf.pstatic.net%2FMjAyMjEyMjBfMTIx%2FMDAxNjcxNDYyNDQyNTY4.lhPEOyUTMK86z1cL3vwf2S3YUvScmICeqFLSqfhcqIwg.hwXzICNmFs5KV24dAnW9ACqlw915qjqf4QdijYdh3jgg.PNG.gozimozi%2FprofileImage.png%22&type=nf40_40&service=navermain\"}},\"showLiveBadge\":false,\"_id\":\"654ad80598c6dbca70ba6cd2\"},{\"@type\":\"MATERIAL-PC-FEED\",\"title\":\"아이브 장원영 청순한 화이트가 잘어울리는 패션\\xa0\",\"url\":\"https://in.naver.com/king_of_fashion91/topic/856783049312064\",\"image\":{\"url\":\"https://s.pstatic.net/dthumb.phinf/?src=%22https%3A%2F%2Finfluencer-phinf.pstatic.net%2FMjAyNTA4MThfMjY0%2FMDAxNzU1NDc2MTYwODI2.JhnHJeRV9JhCUTsxaJNi4kLClq8t9Fx8t28eWwujlTgg.0u9eYGApxjEB369apmkomN9ZVlpeVaH7jIVgrRnXpM8g.PNG%2F2d20.png%22&type=ff364_236&service=navermain\"},\"source\":{\"name\":\"패션왕\",\"image\":{\"url\":\"https://s.pstatic.net/dthumb.phinf/?src=%22https%3A%2F%2Fphinf.pstatic.net%2Fcontact%2F20210923_126%2F1632406499409pAVVo_JPEG%2Fimage.jpg%22&type=nf40_40&service=navermain\"}},\"showLiveBadge\":false,\"_id\":\"654ad80598c6dbca70ba6cd3\"},{\"@type\":\"MATERIAL-PC-FEED\",\"title\":\"코디력을 올려줄 포인트 가방 추천\",\"url\":\"https://in.naver.com/1o__goodbuy/topic/857181905102624\",\"image\":{\"url\":\"https://s.pstatic.net/dthumb.phinf/?src=%22https%3A%2F%2Finfluencer-phinf.pstatic.net%2FMjAyNTA4MThfMzQg%2FMDAxNzU1NDkxOTQwMzM4.GYWs7MjPQ93U_QPZl49LA6_Fa3EaRMOF7qE7VVeFcFcg.Eo3L1ofmAG21JvGK-dsXYwC8pIJIkJs7RU9yT7qeJjUg.PNG%2F5a44.png%22&type=ff364_236&service=navermain\"},\"source\":{\"name\":\"이롯\",\"image\":{\"url\":\"https://s.pstatic.net/dthumb.phinf/?src=%22https%3A%2F%2Fhomebuilder-phinf.pstatic.net%2FMjAyNDEyMTlfMjg1%2FMDAxNzM0NTQ0NjUxNDIy.s2QDk2rtcDjt5sly-U-piUz-pEcaLX3NCqpfWRvi3dgg.BvkgoFbcz3yiL3dZOkFrb1eLNW19grzcAbNmwFZ1PMog.PNG%2F1734544651415_1722745109743.png%22&type=nf40_40&service=navermain\"}},\"showLiveBadge\":false,\"_id\":\"654ad80598c6dbca70ba6cd4\"},{\"@type\":\"MATERIAL-PC-FEED\",\"title\":\"키작녀가 말아주는 여름 원피스 ootd\",\"url\":\"https://in.naver.com/meandyou_vvvv/topic/856508207879904\",\"image\":{\"url\":\"https://s.pstatic.net/dthumb.phinf/?src=%22https%3A%2F%2Finfluencer-phinf.pstatic.net%2FMjAyNTA4MTdfMTYy%2FMDAxNzU1NDA5MTM5OTcx.4aE4hExUOOHv0UdDl_1CymjlZ6PK4YjwnCkkmm44PuAg.gkSVqtzG6ihbneyzoKOCwinGKC6Bv5Op-Wmrbv__VC4g.PNG%2F6703.png%22&type=ff364_236&service=navermain\"},\"source\":{\"name\":\"키묘링\",\"image\":{\"url\":\"https://s.pstatic.net/dthumb.phinf/?src=%22https%3A%2F%2Fblogpfthumb-phinf.pstatic.net%2FMjAyMjA5MjVfMjEz%2FMDAxNjY0MDg0MDY1ODk5.RE_tXVtPilLNoagu326pfDjAkL-BjHKG0Z2LUmCuu54g.32RTIVRsPjqboJh2aHGyTdV4PG7v5VK0iVSEc6KSw3gg.PNG.thdgywjd987%2FprofileImage.png%22&type=nf40_40&service=navermain\"}},\"showLiveBadge\":false,\"_id\":\"654ad80598c6dbca70ba6cd5\"},{\"@type\":\"MATERIAL-PC-FEED\",\"title\":\"여성분들 주목! 폴로 랄프로렌 셔츠 추천\",\"url\":\"https://in.naver.com/alodia/topic/856832811476704\",\"image\":{\"url\":\"https://s.pstatic.net/dthumb.phinf/?src=%22https%3A%2F%2Finfluencer-phinf.pstatic.net%2FMjAyNTA4MThfMjQ2%2FMDAxNzU1NDg4MzA1MDI4.LadAR8o36xht4TLz-eu6J0uctNgwQTHxN32ycVSY7Uwg.QsvcPDgmhjSuAbWm3VovE2u19l48WrRMW287NHg97gUg.PNG%2Fa45d.png%22&type=ff364_236&service=navermain\"},\"source\":{\"name\":\"알로디아\",\"image\":{\"url\":\"https://s.pstatic.net/dthumb.phinf/?src=%22https%3A%2F%2Fhomebuilder-phinf.pstatic.net%2FMjAyNTAxMTJfMTQz%2FMDAxNzM2NjIzNDM5ODAy.Icu9YEW-NrmfzRs8A95dQISQX9kP-T1d6L0o9TQ2iaUg.VrgCUsmDpD-IeO8jj6aU0yFrqb9J1na6cVEXLvmdwfEg.JPEG%2F1736623439795_1736393836082-3.jpg%22&type=nf40_40&service=navermain\"}},\"showLiveBadge\":false,\"_id\":\"654ad80598c6dbca70ba6cd6\"},{\"@type\":\"MATERIAL-PC-FEED\",\"title\":\"백화점 줄 왜 서요, 올영에 다 있는데? 키엘 인생템.zip\",\"url\":\"https://in.naver.com/pland/topic/856564224853536\",\"image\":{\"url\":\"https://s.pstatic.net/dthumb.phinf/?src=%22https%3A%2F%2Finfluencer-phinf.pstatic.net%2FMjAyNTA4MTdfMjA4%2FMDAxNzU1NDIyODY0NDgy.lFwTlyu-HNOraQsetpYB3TbDPxTZK9AZ2-c5QQZunEAg.DQKrJpzLr1TRp5tDePtX0Cxc22sWuCtFdscfm7VyCIwg.PNG%2F1a4b.png%22&type=ff364_236&service=navermain\"},\"source\":{\"name\":\"랜디\",\"image\":{\"url\":\"https://s.pstatic.net/dthumb.phinf/?src=%22https%3A%2F%2Fhomebuilder-phinf.pstatic.net%2FMjAyNTA4MDRfMTgx%2FMDAxNzU0MjcxNTUwNDUz.Rr53GiYdhOGFz-ClfrD3-jNg5KJwpTPWAmbUi7d3piMg.7yH5XB2NMJF98kVej5adHFoL0IZcv7o447Es1owhbkEg.JPEG%2F1754271550418_IMG_6477.jpeg%22&type=nf40_40&service=navermain\"}},\"showLiveBadge\":false,\"_id\":\"654ad80598c6dbca70ba6cd7\"},{\"@type\":\"MATERIAL-PC-FEED\",\"title\":\"최근 20년 회춘한 앤 해서웨이도 못 피한 중년의 뱃살 굴욕?\",\"url\":\"https://in.naver.com/naoki_eunji/topic/856870183859936\",\"image\":{\"url\":\"https://s.pstatic.net/dthumb.phinf/?src=%22https%3A%2F%2Finfluencer-phinf.pstatic.net%2FMjAyNTA4MThfMjE4%2FMDAxNzU1NDk1MTY4Nzg1.ZxWA04uPzqPB77pTI63KFVa2-c_YpF1jt5PzB7gZyO4g.lboPN8Tf-6tZ8e6cSUjvN4cALOBUkgIKq20hgVIucc0g.PNG%2F3137.png%22&type=ff364_236&service=navermain\"},\"source\":{\"name\":\"Nao\",\"image\":{\"url\":\"https://s.pstatic.net/dthumb.phinf/?src=%22https%3A%2F%2Fblogpfthumb-phinf.pstatic.net%2F20130604_47%2Fkeita_hitomi_13703349869060bvQk_JPEG%2F%EC%82%AC%EB%B3%B8_%EC%82%AC%EB%B3%B8-%7E1.JPG%22&type=nf40_40&service=navermain\"}},\"showLiveBadge\":false,\"_id\":\"654ad80598c6dbca70ba6cd8\"},{\"@type\":\"MATERIAL-PC-FEED\",\"title\":\"여름 끝, 모공 탄력 바로잡는 PDRN 케어 루틴\",\"url\":\"https://in.naver.com/jji_bro/topic/856640308119360\",\"image\":{\"url\":\"https://s.pstatic.net/dthumb.phinf/?src=%22https%3A%2F%2Finfluencer-phinf.pstatic.net%2FMjAyNTA4MTdfODAg%2FMDAxNzU1NDQxMzg2MTY3.x467D7qnCEW6getfXSKlsnzpp9tlizIFfBmY2udgVXsg.wKYwfUnWCD7nTeQUKYzb_bsllYUMVnYhrxYC7Y7azDAg.PNG%2F3b3c.png%22&type=ff364_236&service=navermain\"},\"source\":{\"name\":\"하이은비\",\"image\":{\"url\":\"https://s.pstatic.net/dthumb.phinf/?src=%22https%3A%2F%2Fhomebuilder-phinf.pstatic.net%2FMjAyNDA4MDVfMTE4%2FMDAxNzIyNzkwNTMwOTQy.VT4v0QyoIfzjNfiXXDkPgfdLzR3ySS6rbMbt8UimSOsg.vNauyys0j_44XmXBfDeRIxNWKYZxGEjXly5zIA12JeMg.JPEG%2F1722790530890_IMG_2257.jpeg%22&type=nf40_40&service=navermain\"}},\"showLiveBadge\":false,\"_id\":\"654ad80598c6dbca70ba6cd9\"}],\"excludeInPaging\":false,\"positionForPaging\":0,\"realtime\":false,\"_id\":null,\"@type\":\"BLOCK\",\"@code\":\"PC-FEED-BEAUTY-CARD-1\",\"@template\":\"FOUR-COLUMNS\",\"@flowId\":null,\"@flowExecutionId\":null,\"@provider\":null,\"@lastModifiedAt\":null},{\"@type\":\"BLOCK\",\"blocks\":null,\"materials\":[{\"@type\":\"MATERIAL-PC-FEED\",\"title\":\"늘어나는 피지와 모공, 블랙헤드까지 클렌징 오일 사용법\",\"url\":\"https://in.naver.com/antoinettee/topic/857152780416512\",\"image\":{\"url\":\"https://s.pstatic.net/dthumb.phinf/?src=%22https%3A%2F%2Finfluencer-phinf.pstatic.net%2FMjAyNTA4MTlfMTUz%2FMDAxNzU1NTY2NjEzMTc3.KE5riYFUwAjDySQkl6fSrNuiyZ9q9sDGd3jYwXEnFrgg.DPFWWU_SAs41MMiIL4WL47iVib_9RaNtJm5vZFn_lI0g.PNG%2F7785.png%22&type=ff364_236&service=navermain\"},\"source\":{\"name\":\"어뮤즈살롱\",\"image\":{\"url\":\"https://s.pstatic.net/dthumb.phinf/?src=%22https%3A%2F%2Fhomebuilder-phinf.pstatic.net%2FMjAyMzA4MzBfMjA0%2FMDAxNjkzMzYzNDk3OTc2.p3qRFyeaMVkVzHnetbrKWIfnr9cSXjMfGkO0Bx6uzTog.xAKzEHfDxXvqMMdfgnokVDJVur4DBkP423kCYx479NIg.JPEG%2F1693363497859_P20230829_145021080_FED37B1F-4471-4BB8-A016-B77100E05667.JPG%22&type=nf40_40&service=navermain\"}},\"showLiveBadge\":false,\"_id\":\"654ad80598c6dbca70ba6cda\"},{\"@type\":\"MATERIAL-PC-FEED\",\"title\":\"(반응 심상치 않은) 차정원 휠라 신상 운동화\",\"url\":\"https://in.naver.com/jjye/topic/857027711727424\",\"image\":{\"url\":\"https://s.pstatic.net/dthumb.phinf/?src=%22https%3A%2F%2Finfluencer-phinf.pstatic.net%2FMjAyNTA4MTlfMTg5%2FMDAxNzU1NTM1OTM2Njg3.o8gyAN7nQeS5AjQkCqCKHIOXw1zox1wUvqa4XVCN8YQg.b93mnogENg3q_N5Rp8dI1A1SIMMrdxv9EURURXKzslEg.PNG%2F04cf.png%22&type=ff364_236&service=navermain\"},\"source\":{\"name\":\"쪠\",\"image\":{\"url\":\"https://s.pstatic.net/dthumb.phinf/?src=%22https%3A%2F%2Fhomebuilder-phinf.pstatic.net%2FMjAyMzAyMDlfNiAg%2FMDAxNjc1OTQ0MzE4NDcz.WCzYJW61TM3dTzmFNW8iHGpmu2R23BwKTtP0Ze5Jaiog.3EiR777cMpaYweFzA0KSA5Dlhe2iNYKgLDGv9L3Z2Dwg.JPEG%2F1675944318375_IMG_20230128_3.jpg%22&type=nf40_40&service=navermain\"}},\"showLiveBadge\":false,\"_id\":\"654ad80598c6dbca70ba6cdb\"},{\"@type\":\"MATERIAL-PC-FEED\",\"title\":\"올리브영 촉촉쿠션 1위? 다 써본 사람만 아는 에이지투웨니스.zip\",\"url\":\"https://in.naver.com/pland/topic/856846294607360\",\"image\":{\"url\":\"https://s.pstatic.net/dthumb.phinf/?src=%22https%3A%2F%2Finfluencer-phinf.pstatic.net%2FMjAyNTA4MThfMzIg%2FMDAxNzU1NDc3ODQzMjUw.pAeEbZeTV5SxWsr28jeC4RvoX-wwuP7Lz-qJg6h9Yn8g.nYRfz5yGKmX8ORBJKTVVy1EBh-302RCNcmPV5qV2UD8g.PNG%2F9392.png%22&type=ff364_236&service=navermain\"},\"source\":{\"name\":\"랜디\",\"image\":{\"url\":\"https://s.pstatic.net/dthumb.phinf/?src=%22https%3A%2F%2Fhomebuilder-phinf.pstatic.net%2FMjAyNTA4MDRfMTgx%2FMDAxNzU0MjcxNTUwNDUz.Rr53GiYdhOGFz-ClfrD3-jNg5KJwpTPWAmbUi7d3piMg.7yH5XB2NMJF98kVej5adHFoL0IZcv7o447Es1owhbkEg.JPEG%2F1754271550418_IMG_6477.jpeg%22&type=nf40_40&service=navermain\"}},\"showLiveBadge\":false,\"_id\":\"654ad80598c6dbca70ba6cdc\"},{\"@type\":\"MATERIAL-PC-FEED\",\"title\":\"기름기 제로! 보송한 피부 완성하는법\",\"url\":\"https://in.naver.com/howzu/topic/856787357382240\",\"image\":{\"url\":\"https://s.pstatic.net/dthumb.phinf/?src=%22https%3A%2F%2Finfluencer-phinf.pstatic.net%2FMjAyNTA4MTdfNjYg%2FMDAxNzU1MzkzNjkxMzA1.dRJ02wV6W_vs416LNIspLgJnz4507N4lkNfS2MOMN3Ug.bmBsk2kD6jG3nEAosqWQjlWOHfxwZ2429KdyZVFwfEsg.PNG%2F6a72.png%22&type=ff364_236&service=navermain\"},\"source\":{\"name\":\"하우쥬\",\"image\":{\"url\":\"https://s.pstatic.net/dthumb.phinf/?src=%22https%3A%2F%2Fhomebuilder-phinf.pstatic.net%2FMjAyMzEwMDZfMTcz%2FMDAxNjk2NTUzMjk2OTk3.LWipACCrbzn1yOqldx64SWRG3gcl3FvMK4t19OmhzOEg.Ul0WgGbowTZdQzv8jhgZ3WN5q-2-71Bd3xCxCL81_lMg.JPEG%2F1696553296869_IMG_2581_Original.jpeg%22&type=nf40_40&service=navermain\"}},\"showLiveBadge\":false,\"_id\":\"654ad80598c6dbca70ba6cdd\"},{\"@type\":\"MATERIAL-PC-FEED\",\"title\":\"모공 속 피지 제거 거뭇한 블랙헤드 여름 케어 추천템\",\"url\":\"https://in.naver.com/nagi96/topic/857237029144384\",\"image\":{\"url\":\"https://s.pstatic.net/dthumb.phinf/?src=%22https%3A%2F%2Finfluencer-phinf.pstatic.net%2FMjAyNTA4MTlfMjc0%2FMDAxNzU1NTg2OTY5NTM4.7Kxl2Q37PleBpBsdxE7dWqwqSfZTz7UWxQgZnld8nfIg.PLFHJfvn3KE9vSrSFkf4jbwUugV7PeFitxwomi5Ley4g.PNG%2F1045.png%22&type=ff364_236&service=navermain\"},\"source\":{\"name\":\"나긍\",\"image\":{\"url\":\"https://s.pstatic.net/dthumb.phinf/?src=%22https%3A%2F%2Fhomebuilder-phinf.pstatic.net%2FMjAyMjExMTFfMTcw%2FMDAxNjY4MTMwNjc3OTQ1.V3RzOIfY9W2FSnnNrWV-cQ6GiwWE-Md1r9z4lJj0srAg.0iQJ1Bk9Nf9o7heEOaBId3fn8Q30x6LXeJhkvB_Ovpgg.JPEG%2F1668130677927_C39F9FF3-C7BA-488F-8B5B-69F592063F34.jpeg%22&type=nf40_40&service=navermain\"}},\"showLiveBadge\":false,\"_id\":\"654ad80598c6dbca70ba6cde\"},{\"@type\":\"MATERIAL-PC-FEED\",\"title\":\"고급스러운 호텔룩 명품 무드 원피스 추천 ✨ 라장스 & 짐머만 드레스\",\"url\":\"https://in.naver.com/kkyulchoi/topic/856619735525088\",\"image\":{\"url\":\"https://s.pstatic.net/dthumb.phinf/?src=%22https%3A%2F%2Finfluencer-phinf.pstatic.net%2FMjAyNTA4MTdfMjM0%2FMDAxNzU1NDM2MzQzNjc2.yCm6Kk3iJP8ANhKKcoYwjXCT-AGUmcQFOD_5k5QXzuEg.0Es34lqpc7cMJ4bGaXP9WNpk3SEzkMG3ADeLgcHi0S4g.PNG%2Fe3f5.png%22&type=ff364_236&service=navermain\"},\"source\":{\"name\":\"뀰초이\",\"image\":{\"url\":\"https://s.pstatic.net/dthumb.phinf/?src=%22https%3A%2F%2Fhomebuilder-phinf.pstatic.net%2FMjAyNTA0MjFfMjAg%2FMDAxNzQ1MTYxOTA4MjQx.Q7ZsjiWF9uGnJ9t6X-WcRNaUzo3G9LsveYM6FM7o4mAg.LzpQNrVYH5KYl9EBYHPTkkTxFGazC7q73RnKInSF-xgg.JPEG%2F1745161908187_%25ED%2586%25A012.jpeg%22&type=nf40_40&service=navermain\"}},\"showLiveBadge\":false,\"_id\":\"654ad80598c6dbca70ba6cdf\"},{\"@type\":\"MATERIAL-PC-FEED\",\"title\":\"“반바지가 정장이라고? 샤를리즈 테론도 놀랄 여름 출근룩 공식\",\"url\":\"https://in.naver.com/lheestyle/topic/857201222796800\",\"image\":{\"url\":\"https://s.pstatic.net/dthumb.phinf/?src=%22https%3A%2F%2Finfluencer-phinf.pstatic.net%2FMjAyNTA4MTlfMiAg%2FMDAxNzU1NTc4MTAyMzUz.R5xLxuNhAyFmezy1aSeYZsq7I64k9IfvCMgD-N0eK1cg.0lHMmS2GFnY6ImowUz6Rv7xkawPnJCPamQVRMj21eokg.PNG%2F97ef.png%22&type=ff364_236&service=navermain\"},\"source\":{\"name\":\"NULE mag | 늘 (패션 셀럽 스타일링)\",\"image\":{\"url\":\"https://s.pstatic.net/dthumb.phinf/?src=%22https%3A%2F%2Fhomebuilder-phinf.pstatic.net%2FMjAyNTA1MTNfMTM0%2FMDAxNzQ3MTI3NTIwMDU5.W8Oqnof5DKzU0rmbJqKrJN2sdo0R4FLNsdFIlD_kS0kg._iAYMH3E0h6zefVHdRYM0nbe-bifxT9PxPkFJax6MvEg.JPEG%2F1747127520033_IMG_6454.jpeg%22&type=nf40_40&service=navermain\"}},\"showLiveBadge\":false,\"_id\":\"654ad80598c6dbca70ba6ce0\"},{\"@type\":\"MATERIAL-PC-FEED\",\"title\":\"다이소뷰티, VT 화장품 4종\\xa0\",\"url\":\"https://in.naver.com/starlike_zz/topic/857007279953632\",\"image\":{\"url\":\"https://s.pstatic.net/dthumb.phinf/?src=%22https%3A%2F%2Finfluencer-phinf.pstatic.net%2FMjAyNTA4MTlfMTMg%2FMDAxNzU1NTMwODgyMDM1.5FdwTyiGLE0PY3Cj7g23lXTezbqNW8B-CcB6k8I-Xssg.1v2EukzrzJChGGNHN5ky6HDqWV2srZICKCfJhoQHofMg.PNG%2F3dfa.png%22&type=ff364_236&service=navermain\"},\"source\":{\"name\":\"미째\",\"image\":{\"url\":\"https://s.pstatic.net/dthumb.phinf/?src=%22https%3A%2F%2Fhomebuilder-phinf.pstatic.net%2FMjAyNTAxMjFfMjUg%2FMDAxNzM3Mzg4NTQ2OTM5.Kogrug75sjOnIDKA7i7bZdIEIERNXqEd0GypAO_w9I0g.ei4p3UrPgeuFx_jybfGvnm5Pz4ulfq9KX6QUV_NW03Ug.JPEG%2F1737388546927_3472436925902315572_20201030204614620.jpeg%22&type=nf40_40&service=navermain\"}},\"showLiveBadge\":false,\"_id\":\"654ad80598c6dbca70ba6ce1\"},{\"@type\":\"MATERIAL-PC-FEED\",\"title\":\"한소희 때문에 판매량 미쳤다는 신상 디올 가방\",\"url\":\"https://in.naver.com/choisfashion/topic/857201436522208\",\"image\":{\"url\":\"https://s.pstatic.net/dthumb.phinf/?src=%22https%3A%2F%2Finfluencer-phinf.pstatic.net%2FMjAyNTA4MTlfMTEy%2FMDAxNzU1NTc4MjAwMTc5.eyythYaTCUqPiT1-roY7rV08lCxFmCLb352rEPFI3HMg.dSv8kpk2Pljjecn9Yyv4tCHsJTiuGqy0jBs8PXvsUScg.PNG%2Fc337.png%22&type=ff364_236&service=navermain\"},\"source\":{\"name\":\"헤이초이\",\"image\":{\"url\":\"https://s.pstatic.net/dthumb.phinf/?src=%22https%3A%2F%2Fhomebuilder-phinf.pstatic.net%2FMjAyMzExMjFfMTA1%2FMDAxNzAwNTYyNDYxNTA0.waLVbY_cNPG8d_oAgNvCCyPEmXLd2gQm53P1VBBOHrkg.YvI7NHkdL-rbWuqBdB5q4KuNpoJkGgj3ARxBCAbm-ZEg.JPEG%2F1700562461482_0D44C8C0-4845-4BA0-A151-A1CB454279C6.jpeg%22&type=nf40_40&service=navermain\"}},\"showLiveBadge\":false,\"_id\":\"654ad80598c6dbca70ba6ce2\"},{\"@type\":\"MATERIAL-PC-FEED\",\"title\":\"여자 화이트 셔츠 코디는 ☆ 정려원처럼!\",\"url\":\"https://in.naver.com/alodia/topic/856481409336928\",\"image\":{\"url\":\"https://s.pstatic.net/dthumb.phinf/?src=%22https%3A%2F%2Finfluencer-phinf.pstatic.net%2FMjAyNTA4MTdfMjQg%2FMDAxNzU1NDAyNTYxNjIz.aKZSEE5Q4YK2d1mY1KfjA3gXGSKPX14FyGawK7pCfZkg.sGD0XBp6Ls8Esf2mmSVVKeje9E-qOaN-ZxwX3P4FtLQg.PNG%2Fae89.png%22&type=ff364_236&service=navermain\"},\"source\":{\"name\":\"알로디아\",\"image\":{\"url\":\"https://s.pstatic.net/dthumb.phinf/?src=%22https%3A%2F%2Fhomebuilder-phinf.pstatic.net%2FMjAyNTAxMTJfMTQz%2FMDAxNzM2NjIzNDM5ODAy.Icu9YEW-NrmfzRs8A95dQISQX9kP-T1d6L0o9TQ2iaUg.VrgCUsmDpD-IeO8jj6aU0yFrqb9J1na6cVEXLvmdwfEg.JPEG%2F1736623439795_1736393836082-3.jpg%22&type=nf40_40&service=navermain\"}},\"showLiveBadge\":false,\"_id\":\"654ad80598c6dbca70ba6ce3\"},{\"@type\":\"MATERIAL-PC-FEED\",\"title\":\"이 셔츠 하나로 분위기 180도 바뀐다는데..?\",\"url\":\"https://in.naver.com/22u.zip/topic/856588840523488\",\"image\":{\"url\":\"https://s.pstatic.net/dthumb.phinf/?src=%22https%3A%2F%2Finfluencer-phinf.pstatic.net%2FMjAyNTA4MTdfMjYw%2FMDAxNzU1NDI4ODY5NzEz.kfBwd-51aqoGRd8LvRcIFF24Cda_DrX2zqe_Vev9Tj0g.X4HbfIDUwANlA7BD9WnwGd6hclTM7XJxwE1duK_zVfAg.PNG%2Fbd5b.png%22&type=ff364_236&service=navermain\"},\"source\":{\"name\":\"쭈잉\",\"image\":{\"url\":\"https://s.pstatic.net/dthumb.phinf/?src=%22https%3A%2F%2Fhomebuilder-phinf.pstatic.net%2FMjAyNTA1MjNfMjM0%2FMDAxNzQ4MDA1NjU1MDc2.4f6bJN6O4RREoy7hvn8BUM345yXruGa6f02mBI3JMDMg.UOZ-muUoUjZ5jGijJ3CypQQ0ZOTWqfnSkKVFJL9zaMAg.JPEG%2F1748005654960_IMG_5654.jpeg%22&type=nf40_40&service=navermain\"}},\"showLiveBadge\":false,\"_id\":\"654ad80598c6dbca70ba6ce4\"},{\"@type\":\"MATERIAL-PC-FEED\",\"title\":\"젠몬 감성이지만 가격은 1/10인 선글라스🕶\",\"url\":\"https://in.naver.com/countdahoon/topic/857147946424128\",\"image\":{\"url\":\"https://s.pstatic.net/dthumb.phinf/?src=%22https%3A%2F%2Finfluencer-phinf.pstatic.net%2FMjAyNTA4MTlfMTQy%2FMDAxNzU1NTY1MTg5NTQx.XMOo9upjgfCd3WJ9G9aqbFfaV5P5A886GH8X_4Nph-Qg.E8fkc4PLWrrK-CT-5oRElwpM8Wk83DhXrqzzoVA5uHog.PNG%2F8de8.png%22&type=ff364_236&service=navermain\"},\"source\":{\"name\":\"countdahoon\",\"image\":{\"url\":\"https://s.pstatic.net/dthumb.phinf/?src=%22https%3A%2F%2Fhomebuilder-phinf.pstatic.net%2FMjAyMjA1MDRfMTg5%2FMDAxNjUxNjU3MjI2OTYx.jnU8JZdxwLDSqWOR7C0jobPGVbG3sBUUYTm_qdm25Z8g.-ktMh8qMmJ0wsA1o462doyjUeVdnv3sBHfoTH0qRb0sg.JPEG%2F1651657226937_467DBBB4-070C-4F27-ABBA-274888BF57EE.jpeg%22&type=nf40_40&service=navermain\"}},\"showLiveBadge\":false,\"_id\":\"654ad80598c6dbca70ba6ce5\"}],\"excludeInPaging\":false,\"positionForPaging\":0,\"realtime\":false,\"_id\":null,\"@type\":\"BLOCK\",\"@code\":\"PC-FEED-BEAUTY-CARD-2\",\"@template\":\"FOUR-COLUMNS\",\"@flowId\":null,\"@flowExecutionId\":null,\"@provider\":null,\"@lastModifiedAt\":null}],\"materials\":null,\"excludeInPaging\":false,\"positionForPaging\":0,\"realtime\":false,\"_id\":null,\"@type\":\"BLOCK\",\"@code\":\"PC-FEED-BEAUTY\",\"@template\":\"NONE\",\"@flowId\":null,\"@flowExecutionId\":null,\"@provider\":null,\"@lastModifiedAt\":null}],\"materials\":null,\"excludeInPaging\":false,\"positionForPaging\":0,\"realtime\":false,\"_id\":\"6441ca92a10d3006855f9acd\",\"@type\":\"BLOCK\",\"@code\":\"PC-FEED-WRAPPER\",\"@template\":\"PC-FEED-WRAPPER\",\"@flowId\":\"PC-FEED-WRAPPER\",\"@flowExecutionId\":\"5cf1c193-7cce-11f0-88f0-5f49b089eed8\",\"@provider\":\"lambda\",\"@lastModifiedAt\":[2025,8,19,7,30,21,932000000]}\\nwindow[\"EAGER-DATA\"][\"CAS-MINICONTENT-PC-SPECIAL-LOGO\"] = {\"@type\":\"MINI-CONTENT-BLOCK\",\"blocks\":null,\"materials\":null,\"excludeInPaging\":false,\"positionForPaging\":0,\"realtime\":false,\"items\":[],\"_id\":\"6433d8e3a10d3006850274e8\",\"@type\":\"MINI-CONTENT-BLOCK\",\"@code\":\"CAS-MINICONTENT-PC-SPECIAL-LOGO\",\"@template\":\"NONE\",\"@flowId\":\"CAS-MINICONTENT\",\"@flowExecutionId\":\"43c77eba-7cce-11f0-85b8-0f5888f2675e\",\"@provider\":\"lambda\",\"@lastModifiedAt\":[2025,8,19,7,29,39,100000000]}\\nwindow[\"EAGER-DATA\"][\"PC-MEDIA-WRAPPER\"] = {\"@type\":\"PC-MEDIA-CONTENTS-BLOCK\",\"blocks\":[{\"@type\":\"BLOCK\",\"blocks\":[{\"@type\":\"PC-NEWSSTAND-BLOCK\",\"blocks\":[{\"@type\":\"PC-NEWSSTAND-PRESS-BLOCK\",\"blocks\":null,\"materials\":null,\"excludeInPaging\":false,\"positionForPaging\":0,\"realtime\":false,\"pid\":\"907\",\"name\":\"경북매일신문\",\"logoLight\":{\"url\":\"https://s.pstatic.net/static/newsstand/2020/logo/light/0604/907.png\"},\"logoDark\":{\"url\":\"https://s.pstatic.net/static/newsstand/2020/logo/dark/0604/907.png\"},\"showThumbnailView\":true,\"showListView\":true,\"regDate\":\"20250819 16:02:43\",\"_id\":null,\"@type\":\"PC-NEWSSTAND-PRESS-BLOCK\",\"@code\":null,\"@template\":\"NONE\",\"@flowId\":null,\"@flowExecutionId\":null,\"@provider\":null,\"@lastModifiedAt\":null},{\"@type\":\"PC-NEWSSTAND-PRESS-BLOCK\",\"blocks\":null,\"materials\":null,\"excludeInPaging\":false,\"positionForPaging\":0,\"realtime\":false,\"pid\":\"908\",\"name\":\"국방일보\",\"logoLight\":{\"url\":\"https://s.pstatic.net/static/newsstand/2020/logo/light/0604/908.png\"},\"logoDark\":{\"url\":\"https://s.pstatic.net/static/newsstand/2020/logo/dark/0604/908.png\"},\"showThumbnailView\":true,\"showListView\":true,\"regDate\":\"20250818 17:55:52\",\"_id\":null,\"@type\":\"PC-NEWSSTAND-PRESS-BLOCK\",\"@code\":null,\"@template\":\"NONE\",\"@flowId\":null,\"@flowExecutionId\":null,\"@provider\":null,\"@lastModifiedAt\":null},{\"@type\":\"PC-NEWSSTAND-PRESS-BLOCK\",\"blocks\":null,\"materials\":null,\"excludeInPaging\":false,\"positionForPaging\":0,\"realtime\":false,\"pid\":\"909\",\"name\":\"기호일보\",\"logoLight\":{\"url\":\"https://s.pstatic.net/static/newsstand/2020/logo/light/0604/909.png\"},\"logoDark\":{\"url\":\"https://s.pstatic.net/static/newsstand/2020/logo/dark/0604/909.png\"},\"showThumbnailView\":true,\"showListView\":true,\"regDate\":\"20250819 16:11:16\",\"_id\":null,\"@type\":\"PC-NEWSSTAND-PRESS-BLOCK\",\"@code\":null,\"@template\":\"NONE\",\"@flowId\":null,\"@flowExecutionId\":null,\"@provider\":null,\"@lastModifiedAt\":null},{\"@type\":\"PC-NEWSSTAND-PRESS-BLOCK\",\"blocks\":null,\"materials\":null,\"excludeInPaging\":false,\"positionForPaging\":0,\"realtime\":false,\"pid\":\"353\",\"name\":\"중앙SUNDAY\",\"logoLight\":{\"url\":\"https://s.pstatic.net/static/newsstand/up/2025/0418/nsd181433494.png\"},\"logoDark\":{\"url\":\"https://s.pstatic.net/static/newsstand/up/2025/0418/nsd181453897.png\"},\"showThumbnailView\":true,\"showListView\":true,\"regDate\":\"20250819 09:07:34\",\"_id\":null,\"@type\":\"PC-NEWSSTAND-PRESS-BLOCK\",\"@code\":null,\"@template\":\"NONE\",\"@flowId\":null,\"@flowExecutionId\":null,\"@provider\":null,\"@lastModifiedAt\":null},{\"@type\":\"PC-NEWSSTAND-PRESS-BLOCK\",\"blocks\":null,\"materials\":null,\"excludeInPaging\":false,\"positionForPaging\":0,\"realtime\":false,\"pid\":\"354\",\"name\":\"엘르\",\"logoLight\":{\"url\":\"https://s.pstatic.net/static/newsstand/2020/logo/light/0604/354.png\"},\"logoDark\":{\"url\":\"https://s.pstatic.net/static/newsstand/2020/logo/dark/0604/354.png\"},\"showThumbnailView\":true,\"showListView\":true,\"regDate\":\"20250819 16:15:18\",\"_id\":null,\"@type\":\"PC-NEWSSTAND-PRESS-BLOCK\",\"@code\":null,\"@template\":\"NONE\",\"@flowId\":null,\"@flowExecutionId\":null,\"@provider\":null,\"@lastModifiedAt\":null},{\"@type\":\"PC-NEWSSTAND-PRESS-BLOCK\",\"blocks\":null,\"materials\":null,\"excludeInPaging\":false,\"positionForPaging\":0,\"realtime\":false,\"pid\":\"355\",\"name\":\"사이언스타임즈\",\"logoLight\":{\"url\":\"https://s.pstatic.net/static/newsstand/2020/logo/light/0604/355.png\"},\"logoDark\":{\"url\":\"https://s.pstatic.net/static/newsstand/2020/logo/dark/0604/355.png\"},\"showThumbnailView\":true,\"showListView\":true,\"regDate\":\"20250819 09:10:38\",\"_id\":null,\"@type\":\"PC-NEWSSTAND-PRESS-BLOCK\",\"@code\":null,\"@template\":\"NONE\",\"@flowId\":null,\"@flowExecutionId\":null,\"@provider\":null,\"@lastModifiedAt\":null},{\"@type\":\"PC-NEWSSTAND-PRESS-BLOCK\",\"blocks\":null,\"materials\":null,\"excludeInPaging\":false,\"positionForPaging\":0,\"realtime\":false,\"pid\":\"356\",\"name\":\"게임메카\",\"logoLight\":{\"url\":\"https://s.pstatic.net/static/newsstand/2020/logo/light/0604/356.png\"},\"logoDark\":{\"url\":\"https://s.pstatic.net/static/newsstand/2020/logo/dark/0604/356.png\"},\"showThumbnailView\":true,\"showListView\":true,\"regDate\":\"20250819 15:28:43\",\"_id\":null,\"@type\":\"PC-NEWSSTAND-PRESS-BLOCK\",\"@code\":null,\"@template\":\"NONE\",\"@flowId\":null,\"@flowExecutionId\":null,\"@provider\":null,\"@lastModifiedAt\":null},{\"@type\":\"PC-NEWSSTAND-PRESS-BLOCK\",\"blocks\":null,\"materials\":null,\"excludeInPaging\":false,\"positionForPaging\":0,\"realtime\":false,\"pid\":\"477\",\"name\":\"스포티비뉴스\",\"logoLight\":{\"url\":\"https://s.pstatic.net/static/newsstand/up/2021/1130/nsd10159718.png\"},\"logoDark\":{\"url\":\"https://s.pstatic.net/static/newsstand/up/2021/1130/nsd101536636.png\"},\"showThumbnailView\":true,\"showListView\":true,\"regDate\":\"20250819 16:10:07\",\"_id\":null,\"@type\":\"PC-NEWSSTAND-PRESS-BLOCK\",\"@code\":null,\"@template\":\"NONE\",\"@flowId\":null,\"@flowExecutionId\":null,\"@provider\":null,\"@lastModifiedAt\":null},{\"@type\":\"PC-NEWSSTAND-PRESS-BLOCK\",\"blocks\":null,\"materials\":null,\"excludeInPaging\":false,\"positionForPaging\":0,\"realtime\":false,\"pid\":\"117\",\"name\":\"마이데일리\",\"logoLight\":{\"url\":\"https://s.pstatic.net/static/newsstand/2020/logo/light/0604/117.png\"},\"logoDark\":{\"url\":\"https://s.pstatic.net/static/newsstand/2020/logo/dark/0604/117.png\"},\"showThumbnailView\":true,\"showListView\":true,\"regDate\":\"20250819 15:49:41\",\"_id\":null,\"@type\":\"PC-NEWSSTAND-PRESS-BLOCK\",\"@code\":null,\"@template\":\"NONE\",\"@flowId\":null,\"@flowExecutionId\":null,\"@provider\":null,\"@lastModifiedAt\":null},{\"@type\":\"PC-NEWSSTAND-PRESS-BLOCK\",\"blocks\":null,\"materials\":null,\"excludeInPaging\":false,\"positionForPaging\":0,\"realtime\":false,\"pid\":\"910\",\"name\":\"넥스트데일리\",\"logoLight\":{\"url\":\"https://s.pstatic.net/static/newsstand/2020/logo/light/0604/910.png\"},\"logoDark\":{\"url\":\"https://s.pstatic.net/static/newsstand/2020/logo/dark/0604/910.png\"},\"showThumbnailView\":true,\"showListView\":true,\"regDate\":\"20250819 16:10:42\",\"_id\":null,\"@type\":\"PC-NEWSSTAND-PRESS-BLOCK\",\"@code\":null,\"@template\":\"NONE\",\"@flowId\":null,\"@flowExecutionId\":null,\"@provider\":null,\"@lastModifiedAt\":null},{\"@type\":\"PC-NEWSSTAND-PRESS-BLOCK\",\"blocks\":null,\"materials\":null,\"excludeInPaging\":false,\"positionForPaging\":0,\"realtime\":false,\"pid\":\"911\",\"name\":\"농민신문\",\"logoLight\":{\"url\":\"https://s.pstatic.net/static/newsstand/up/2025/0418/nsd165932303.png\"},\"logoDark\":{\"url\":\"https://s.pstatic.net/static/newsstand/up/2025/0418/nsd165949113.png\"},\"showThumbnailView\":true,\"showListView\":true,\"regDate\":\"20250818 07:00:04\",\"_id\":null,\"@type\":\"PC-NEWSSTAND-PRESS-BLOCK\",\"@code\":null,\"@template\":\"NONE\",\"@flowId\":null,\"@flowExecutionId\":null,\"@provider\":null,\"@lastModifiedAt\":null},{\"@type\":\"PC-NEWSSTAND-PRESS-BLOCK\",\"blocks\":null,\"materials\":null,\"excludeInPaging\":false,\"positionForPaging\":0,\"realtime\":false,\"pid\":\"913\",\"name\":\"뉴스토마토\",\"logoLight\":{\"url\":\"https://s.pstatic.net/static/newsstand/2020/logo/light/0604/913.png\"},\"logoDark\":{\"url\":\"https://s.pstatic.net/static/newsstand/2020/logo/dark/0604/913.png\"},\"showThumbnailView\":true,\"showListView\":true,\"regDate\":\"20250819 16:21:55\",\"_id\":null,\"@type\":\"PC-NEWSSTAND-PRESS-BLOCK\",\"@code\":null,\"@template\":\"NONE\",\"@flowId\":null,\"@flowExecutionId\":null,\"@provider\":null,\"@lastModifiedAt\":null},{\"@type\":\"PC-NEWSSTAND-PRESS-BLOCK\",\"blocks\":null,\"materials\":null,\"excludeInPaging\":false,\"positionForPaging\":0,\"realtime\":false,\"pid\":\"914\",\"name\":\"뉴스핌\",\"logoLight\":{\"url\":\"https://s.pstatic.net/static/newsstand/2020/logo/light/0604/914.png\"},\"logoDark\":{\"url\":\"https://s.pstatic.net/static/newsstand/2020/logo/dark/0604/914.png\"},\"showThumbnailView\":true,\"showListView\":true,\"regDate\":\"20250819 16:21:30\",\"_id\":null,\"@type\":\"PC-NEWSSTAND-PRESS-BLOCK\",\"@code\":null,\"@template\":\"NONE\",\"@flowId\":null,\"@flowExecutionId\":null,\"@provider\":null,\"@lastModifiedAt\":null},{\"@type\":\"PC-NEWSSTAND-PRESS-BLOCK\",\"blocks\":null,\"materials\":null,\"excludeInPaging\":false,\"positionForPaging\":0,\"realtime\":false,\"pid\":\"915\",\"name\":\"르몽드 디플로마티크\",\"logoLight\":{\"url\":\"https://s.pstatic.net/static/newsstand/2020/logo/light/0604/915.png\"},\"logoDark\":{\"url\":\"https://s.pstatic.net/static/newsstand/2020/logo/dark/0604/915.png\"},\"showThumbnailView\":true,\"showListView\":true,\"regDate\":\"20250801 17:19:42\",\"_id\":null,\"@type\":\"PC-NEWSSTAND-PRESS-BLOCK\",\"@code\":null,\"@template\":\"NONE\",\"@flowId\":null,\"@flowExecutionId\":null,\"@provider\":null,\"@lastModifiedAt\":null},{\"@type\":\"PC-NEWSSTAND-PRESS-BLOCK\",\"blocks\":null,\"materials\":null,\"excludeInPaging\":false,\"positionForPaging\":0,\"realtime\":false,\"pid\":\"916\",\"name\":\"머니투데이방송\",\"logoLight\":{\"url\":\"https://s.pstatic.net/static/newsstand/up/2021/0420/nsd105139164.png\"},\"logoDark\":{\"url\":\"https://s.pstatic.net/static/newsstand/up/2021/0420/nsd104943516.png\"},\"showThumbnailView\":true,\"showListView\":true,\"regDate\":\"20250819 15:03:32\",\"_id\":null,\"@type\":\"PC-NEWSSTAND-PRESS-BLOCK\",\"@code\":null,\"@template\":\"NONE\",\"@flowId\":null,\"@flowExecutionId\":null,\"@provider\":null,\"@lastModifiedAt\":null},{\"@type\":\"PC-NEWSSTAND-PRESS-BLOCK\",\"blocks\":null,\"materials\":null,\"excludeInPaging\":false,\"positionForPaging\":0,\"realtime\":false,\"pid\":\"917\",\"name\":\"IT조선\",\"logoLight\":{\"url\":\"https://s.pstatic.net/static/newsstand/2020/logo/light/0604/917.png\"},\"logoDark\":{\"url\":\"https://s.pstatic.net/static/newsstand/2020/logo/dark/0604/917.png\"},\"showThumbnailView\":true,\"showListView\":true,\"regDate\":\"20250819 16:11:13\",\"_id\":null,\"@type\":\"PC-NEWSSTAND-PRESS-BLOCK\",\"@code\":null,\"@template\":\"NONE\",\"@flowId\":null,\"@flowExecutionId\":null,\"@provider\":null,\"@lastModifiedAt\":null},{\"@type\":\"PC-NEWSSTAND-PRESS-BLOCK\",\"blocks\":null,\"materials\":null,\"excludeInPaging\":false,\"positionForPaging\":0,\"realtime\":false,\"pid\":\"361\",\"name\":\"채널예스\",\"logoLight\":{\"url\":\"https://s.pstatic.net/static/newsstand/up/2023/0418/nsd124959421.png\"},\"logoDark\":{\"url\":\"https://s.pstatic.net/static/newsstand/up/2023/0418/nsd124945796.png\"},\"showThumbnailView\":true,\"showListView\":true,\"regDate\":\"20250819 16:10:47\",\"_id\":null,\"@type\":\"PC-NEWSSTAND-PRESS-BLOCK\",\"@code\":null,\"@template\":\"NONE\",\"@flowId\":null,\"@flowExecutionId\":null,\"@provider\":null,\"@lastModifiedAt\":null},{\"@type\":\"PC-NEWSSTAND-PRESS-BLOCK\",\"blocks\":null,\"materials\":null,\"excludeInPaging\":false,\"positionForPaging\":0,\"realtime\":false,\"pid\":\"120\",\"name\":\"EBN\",\"logoLight\":{\"url\":\"https://s.pstatic.net/static/newsstand/2020/logo/light/0604/120.png\"},\"logoDark\":{\"url\":\"https://s.pstatic.net/static/newsstand/2020/logo/dark/0604/120.png\"},\"showThumbnailView\":true,\"showListView\":true,\"regDate\":\"20250819 16:11:15\",\"_id\":null,\"@type\":\"PC-NEWSSTAND-PRESS-BLOCK\",\"@code\":null,\"@template\":\"NONE\",\"@flowId\":null,\"@flowExecutionId\":null,\"@provider\":null,\"@lastModifiedAt\":null},{\"@type\":\"PC-NEWSSTAND-PRESS-BLOCK\",\"blocks\":null,\"materials\":null,\"excludeInPaging\":false,\"positionForPaging\":0,\"realtime\":false,\"pid\":\"241\",\"name\":\"일간스포츠\",\"logoLight\":{\"url\":\"https://s.pstatic.net/static/newsstand/up/2023/0112/nsd92558162.png\"},\"logoDark\":{\"url\":\"https://s.pstatic.net/static/newsstand/2020/logo/dark/0604/241.png\"},\"showThumbnailView\":true,\"showListView\":true,\"regDate\":\"20250819 15:19:41\",\"_id\":null,\"@type\":\"PC-NEWSSTAND-PRESS-BLOCK\",\"@code\":null,\"@template\":\"NONE\",\"@flowId\":null,\"@flowExecutionId\":null,\"@provider\":null,\"@lastModifiedAt\":null},{\"@type\":\"PC-NEWSSTAND-PRESS-BLOCK\",\"blocks\":null,\"materials\":null,\"excludeInPaging\":false,\"positionForPaging\":0,\"realtime\":false,\"pid\":\"363\",\"name\":\"동아사이언스\",\"logoLight\":{\"url\":\"https://s.pstatic.net/static/newsstand/up/2025/0418/nsd171358594.png\"},\"logoDark\":{\"url\":\"https://s.pstatic.net/static/newsstand/up/2025/0418/nsd171410616.png\"},\"showThumbnailView\":true,\"showListView\":true,\"regDate\":\"20250819 09:57:23\",\"_id\":null,\"@type\":\"PC-NEWSSTAND-PRESS-BLOCK\",\"@code\":null,\"@template\":\"NONE\",\"@flowId\":null,\"@flowExecutionId\":null,\"@provider\":null,\"@lastModifiedAt\":null},{\"@type\":\"PC-NEWSSTAND-PRESS-BLOCK\",\"blocks\":null,\"materials\":null,\"excludeInPaging\":false,\"positionForPaging\":0,\"realtime\":false,\"pid\":\"122\",\"name\":\"법률신문\",\"logoLight\":{\"url\":\"https://s.pstatic.net/static/newsstand/up/2022/1103/nsd124326426.png\"},\"logoDark\":{\"url\":\"https://s.pstatic.net/static/newsstand/up/2022/1103/nsd124320554.png\"},\"showThumbnailView\":true,\"showListView\":true,\"regDate\":\"20250819 15:47:24\",\"_id\":null,\"@type\":\"PC-NEWSSTAND-PRESS-BLOCK\",\"@code\":null,\"@template\":\"NONE\",\"@flowId\":null,\"@flowExecutionId\":null,\"@provider\":null,\"@lastModifiedAt\":null},{\"@type\":\"PC-NEWSSTAND-PRESS-BLOCK\",\"blocks\":null,\"materials\":null,\"excludeInPaging\":false,\"positionForPaging\":0,\"realtime\":false,\"pid\":\"243\",\"name\":\"이코노미스트\",\"logoLight\":{\"url\":\"https://s.pstatic.net/static/newsstand/up/2025/0418/nsd1875841.png\"},\"logoDark\":{\"url\":\"https://s.pstatic.net/static/newsstand/up/2025/0418/nsd18718795.png\"},\"showThumbnailView\":true,\"showListView\":true,\"regDate\":\"20250819 15:18:43\",\"_id\":null,\"@type\":\"PC-NEWSSTAND-PRESS-BLOCK\",\"@code\":null,\"@template\":\"NONE\",\"@flowId\":null,\"@flowExecutionId\":null,\"@provider\":null,\"@lastModifiedAt\":null},{\"@type\":\"PC-NEWSSTAND-PRESS-BLOCK\",\"blocks\":null,\"materials\":null,\"excludeInPaging\":false,\"positionForPaging\":0,\"realtime\":false,\"pid\":\"364\",\"name\":\"디지털포스트(PC사랑)\",\"logoLight\":{\"url\":\"https://s.pstatic.net/static/newsstand/up/2024/1121/nsd174657186.png\"},\"logoDark\":{\"url\":\"https://s.pstatic.net/static/newsstand/up/2024/1121/nsd174650998.png\"},\"showThumbnailView\":true,\"showListView\":true,\"regDate\":\"20250819 16:11:14\",\"_id\":null,\"@type\":\"PC-NEWSSTAND-PRESS-BLOCK\",\"@code\":null,\"@template\":\"NONE\",\"@flowId\":null,\"@flowExecutionId\":null,\"@provider\":null,\"@lastModifiedAt\":null},{\"@type\":\"PC-NEWSSTAND-PRESS-BLOCK\",\"blocks\":null,\"materials\":null,\"excludeInPaging\":false,\"positionForPaging\":0,\"realtime\":false,\"pid\":\"002\",\"name\":\"프레시안\",\"logoLight\":{\"url\":\"https://s.pstatic.net/static/newsstand/up/2025/0421/nsd113059820.png\"},\"logoDark\":{\"url\":\"https://s.pstatic.net/static/newsstand/up/2025/0421/nsd113113968.png\"},\"showThumbnailView\":true,\"showListView\":true,\"regDate\":\"20250819 15:29:49\",\"_id\":null,\"@type\":\"PC-NEWSSTAND-PRESS-BLOCK\",\"@code\":null,\"@template\":\"NONE\",\"@flowId\":null,\"@flowExecutionId\":null,\"@provider\":null,\"@lastModifiedAt\":null},{\"@type\":\"PC-NEWSSTAND-PRESS-BLOCK\",\"blocks\":null,\"materials\":null,\"excludeInPaging\":false,\"positionForPaging\":0,\"realtime\":false,\"pid\":\"123\",\"name\":\"조세일보\",\"logoLight\":{\"url\":\"https://s.pstatic.net/static/newsstand/up/2025/0418/nsd18119444.png\"},\"logoDark\":{\"url\":\"https://s.pstatic.net/static/newsstand/up/2025/0418/nsd181123257.png\"},\"showThumbnailView\":true,\"showListView\":true,\"regDate\":\"20250819 16:02:36\",\"_id\":null,\"@type\":\"PC-NEWSSTAND-PRESS-BLOCK\",\"@code\":null,\"@template\":\"NONE\",\"@flowId\":null,\"@flowExecutionId\":null,\"@provider\":null,\"@lastModifiedAt\":null},{\"@type\":\"PC-NEWSSTAND-PRESS-BLOCK\",\"blocks\":null,\"materials\":null,\"excludeInPaging\":false,\"positionForPaging\":0,\"realtime\":false,\"pid\":\"003\",\"name\":\"뉴시스\",\"logoLight\":{\"url\":\"https://s.pstatic.net/static/newsstand/up/2025/0418/nsd17349214.png\"},\"logoDark\":{\"url\":\"https://s.pstatic.net/static/newsstand/up/2025/0418/nsd1742154.png\"},\"showThumbnailView\":true,\"showListView\":true,\"regDate\":\"20250819 16:12:14\",\"_id\":null,\"@type\":\"PC-NEWSSTAND-PRESS-BLOCK\",\"@code\":null,\"@template\":\"NONE\",\"@flowId\":null,\"@flowExecutionId\":null,\"@provider\":null,\"@lastModifiedAt\":null},{\"@type\":\"PC-NEWSSTAND-PRESS-BLOCK\",\"blocks\":null,\"materials\":null,\"excludeInPaging\":false,\"positionForPaging\":0,\"realtime\":false,\"pid\":\"366\",\"name\":\"조선비즈\",\"logoLight\":{\"url\":\"https://s.pstatic.net/static/newsstand/up/2025/0418/nsd1891202.png\"},\"logoDark\":{\"url\":\"https://s.pstatic.net/static/newsstand/up/2025/0418/nsd18915842.png\"},\"showThumbnailView\":true,\"showListView\":true,\"regDate\":\"20250819 15:48:30\",\"_id\":null,\"@type\":\"PC-NEWSSTAND-PRESS-BLOCK\",\"@code\":null,\"@template\":\"NONE\",\"@flowId\":null,\"@flowExecutionId\":null,\"@provider\":null,\"@lastModifiedAt\":null},{\"@type\":\"PC-NEWSSTAND-PRESS-BLOCK\",\"blocks\":null,\"materials\":null,\"excludeInPaging\":false,\"positionForPaging\":0,\"realtime\":false,\"pid\":\"005\",\"name\":\"국민일보\",\"logoLight\":{\"url\":\"https://s.pstatic.net/static/newsstand/up/2025/0418/nsd165523873.png\"},\"logoDark\":{\"url\":\"https://s.pstatic.net/static/newsstand/up/2025/0418/nsd165538205.png\"},\"showThumbnailView\":true,\"showListView\":true,\"regDate\":\"20250819 16:10:50\",\"_id\":null,\"@type\":\"PC-NEWSSTAND-PRESS-BLOCK\",\"@code\":null,\"@template\":\"NONE\",\"@flowId\":null,\"@flowExecutionId\":null,\"@provider\":null,\"@lastModifiedAt\":null},{\"@type\":\"PC-NEWSSTAND-PRESS-BLOCK\",\"blocks\":null,\"materials\":null,\"excludeInPaging\":false,\"positionForPaging\":0,\"realtime\":false,\"pid\":\"368\",\"name\":\"데일리안\",\"logoLight\":{\"url\":\"https://s.pstatic.net/static/newsstand/up/2025/0418/nsd17819300.png\"},\"logoDark\":{\"url\":\"https://s.pstatic.net/static/newsstand/up/2025/0418/nsd17834561.png\"},\"showThumbnailView\":true,\"showListView\":true,\"regDate\":\"20250819 16:06:57\",\"_id\":null,\"@type\":\"PC-NEWSSTAND-PRESS-BLOCK\",\"@code\":null,\"@template\":\"NONE\",\"@flowId\":null,\"@flowExecutionId\":null,\"@provider\":null,\"@lastModifiedAt\":null},{\"@type\":\"PC-NEWSSTAND-PRESS-BLOCK\",\"blocks\":null,\"materials\":null,\"excludeInPaging\":false,\"positionForPaging\":0,\"realtime\":false,\"pid\":\"006\",\"name\":\"미디어오늘\",\"logoLight\":{\"url\":\"https://s.pstatic.net/static/newsstand/up/2025/0418/nsd17414424.png\"},\"logoDark\":{\"url\":\"https://s.pstatic.net/static/newsstand/up/2025/0418/nsd174159582.png\"},\"showThumbnailView\":true,\"showListView\":true,\"regDate\":\"20250819 16:15:02\",\"_id\":null,\"@type\":\"PC-NEWSSTAND-PRESS-BLOCK\",\"@code\":null,\"@template\":\"NONE\",\"@flowId\":null,\"@flowExecutionId\":null,\"@provider\":null,\"@lastModifiedAt\":null},{\"@type\":\"PC-NEWSSTAND-PRESS-BLOCK\",\"blocks\":null,\"materials\":null,\"excludeInPaging\":false,\"positionForPaging\":0,\"realtime\":false,\"pid\":\"920\",\"name\":\"아시아투데이\",\"logoLight\":{\"url\":\"https://s.pstatic.net/static/newsstand/2020/logo/light/0604/920.png\"},\"logoDark\":{\"url\":\"https://s.pstatic.net/static/newsstand/2020/logo/dark/0604/920.png\"},\"showThumbnailView\":true,\"showListView\":true,\"regDate\":\"20250819 16:14:03\",\"_id\":null,\"@type\":\"PC-NEWSSTAND-PRESS-BLOCK\",\"@code\":null,\"@template\":\"NONE\",\"@flowId\":null,\"@flowExecutionId\":null,\"@provider\":null,\"@lastModifiedAt\":null},{\"@type\":\"PC-NEWSSTAND-PRESS-BLOCK\",\"blocks\":null,\"materials\":null,\"excludeInPaging\":false,\"positionForPaging\":0,\"realtime\":false,\"pid\":\"008\",\"name\":\"머니투데이\",\"logoLight\":{\"url\":\"https://s.pstatic.net/static/newsstand/up/2025/0418/nsd173935353.png\"},\"logoDark\":{\"url\":\"https://s.pstatic.net/static/newsstand/up/2025/0418/nsd173950592.png\"},\"showThumbnailView\":true,\"showListView\":true,\"regDate\":\"20250819 16:20:04\",\"_id\":null,\"@type\":\"PC-NEWSSTAND-PRESS-BLOCK\",\"@code\":null,\"@template\":\"NONE\",\"@flowId\":null,\"@flowExecutionId\":null,\"@provider\":null,\"@lastModifiedAt\":null},{\"@type\":\"PC-NEWSSTAND-PRESS-BLOCK\",\"blocks\":null,\"materials\":null,\"excludeInPaging\":false,\"positionForPaging\":0,\"realtime\":false,\"pid\":\"921\",\"name\":\"아주경제\",\"logoLight\":{\"url\":\"https://s.pstatic.net/static/newsstand/up/2023/0731/nsd13387289.png\"},\"logoDark\":{\"url\":\"https://s.pstatic.net/static/newsstand/up/2023/0731/nsd133759965.png\"},\"showThumbnailView\":true,\"showListView\":true,\"regDate\":\"20250819 16:20:01\",\"_id\":null,\"@type\":\"PC-NEWSSTAND-PRESS-BLOCK\",\"@code\":null,\"@template\":\"NONE\",\"@flowId\":null,\"@flowExecutionId\":null,\"@provider\":null,\"@lastModifiedAt\":null},{\"@type\":\"PC-NEWSSTAND-PRESS-BLOCK\",\"blocks\":null,\"materials\":null,\"excludeInPaging\":false,\"positionForPaging\":0,\"realtime\":false,\"pid\":\"009\",\"name\":\"매일경제\",\"logoLight\":{\"url\":\"https://s.pstatic.net/static/newsstand/up/2025/0418/nsd173553657.png\"},\"logoDark\":{\"url\":\"https://s.pstatic.net/static/newsstand/up/2025/0418/nsd17369120.png\"},\"showThumbnailView\":true,\"showListView\":true,\"regDate\":\"20250819 16:15:08\",\"_id\":null,\"@type\":\"PC-NEWSSTAND-PRESS-BLOCK\",\"@code\":null,\"@template\":\"NONE\",\"@flowId\":null,\"@flowExecutionId\":null,\"@provider\":null,\"@lastModifiedAt\":null},{\"@type\":\"PC-NEWSSTAND-PRESS-BLOCK\",\"blocks\":null,\"materials\":null,\"excludeInPaging\":false,\"positionForPaging\":0,\"realtime\":false,\"pid\":\"801\",\"name\":\"위키리크스한국\",\"logoLight\":{\"url\":\"https://s.pstatic.net/static/newsstand/2020/logo/light/0604/801.png\"},\"logoDark\":{\"url\":\"https://s.pstatic.net/static/newsstand/2020/logo/dark/0604/801.png\"},\"showThumbnailView\":true,\"showListView\":true,\"regDate\":\"20250819 16:10:09\",\"_id\":null,\"@type\":\"PC-NEWSSTAND-PRESS-BLOCK\",\"@code\":null,\"@template\":\"NONE\",\"@flowId\":null,\"@flowExecutionId\":null,\"@provider\":null,\"@lastModifiedAt\":null},{\"@type\":\"PC-NEWSSTAND-PRESS-BLOCK\",\"blocks\":null,\"materials\":null,\"excludeInPaging\":false,\"positionForPaging\":0,\"realtime\":false,\"pid\":\"922\",\"name\":\"이투데이\",\"logoLight\":{\"url\":\"https://s.pstatic.net/static/newsstand/2020/logo/light/0604/922.png\"},\"logoDark\":{\"url\":\"https://s.pstatic.net/static/newsstand/2020/logo/dark/0604/922.png\"},\"showThumbnailView\":true,\"showListView\":true,\"regDate\":\"20250819 16:10:19\",\"_id\":null,\"@type\":\"PC-NEWSSTAND-PRESS-BLOCK\",\"@code\":null,\"@template\":\"NONE\",\"@flowId\":null,\"@flowExecutionId\":null,\"@provider\":null,\"@lastModifiedAt\":null},{\"@type\":\"PC-NEWSSTAND-PRESS-BLOCK\",\"blocks\":null,\"materials\":null,\"excludeInPaging\":false,\"positionForPaging\":0,\"realtime\":false,\"pid\":\"802\",\"name\":\"스포츠Q\",\"logoLight\":{\"url\":\"https://s.pstatic.net/static/newsstand/2020/logo/light/0604/802.png\"},\"logoDark\":{\"url\":\"https://s.pstatic.net/static/newsstand/2020/logo/dark/0604/802.png\"},\"showThumbnailView\":true,\"showListView\":true,\"regDate\":\"20250819 16:10:10\",\"_id\":null,\"@type\":\"PC-NEWSSTAND-PRESS-BLOCK\",\"@code\":null,\"@template\":\"NONE\",\"@flowId\":null,\"@flowExecutionId\":null,\"@provider\":null,\"@lastModifiedAt\":null},{\"@type\":\"PC-NEWSSTAND-PRESS-BLOCK\",\"blocks\":null,\"materials\":null,\"excludeInPaging\":false,\"positionForPaging\":0,\"realtime\":false,\"pid\":\"923\",\"name\":\"인민망\",\"logoLight\":{\"url\":\"https://s.pstatic.net/static/newsstand/2020/logo/light/0604/923.png\"},\"logoDark\":{\"url\":\"https://s.pstatic.net/static/newsstand/2020/logo/dark/0604/923.png\"},\"showThumbnailView\":true,\"showListView\":true,\"regDate\":\"20250819 12:30:03\",\"_id\":null,\"@type\":\"PC-NEWSSTAND-PRESS-BLOCK\",\"@code\":null,\"@template\":\"NONE\",\"@flowId\":null,\"@flowExecutionId\":null,\"@provider\":null,\"@lastModifiedAt\":null},{\"@type\":\"PC-NEWSSTAND-PRESS-BLOCK\",\"blocks\":null,\"materials\":null,\"excludeInPaging\":false,\"positionForPaging\":0,\"realtime\":false,\"pid\":\"803\",\"name\":\"인더스트리뉴스\",\"logoLight\":{\"url\":\"https://s.pstatic.net/static/newsstand/up/2021/0907/nsd9423633.png\"},\"logoDark\":{\"url\":\"https://s.pstatic.net/static/newsstand/up/2021/0907/nsd94216114.png\"},\"showThumbnailView\":true,\"showListView\":true,\"regDate\":\"20250819 16:10:11\",\"_id\":null,\"@type\":\"PC-NEWSSTAND-PRESS-BLOCK\",\"@code\":null,\"@template\":\"NONE\",\"@flowId\":null,\"@flowExecutionId\":null,\"@provider\":null,\"@lastModifiedAt\":null},{\"@type\":\"PC-NEWSSTAND-PRESS-BLOCK\",\"blocks\":null,\"materials\":null,\"excludeInPaging\":false,\"positionForPaging\":0,\"realtime\":false,\"pid\":\"924\",\"name\":\"인벤\",\"logoLight\":{\"url\":\"https://s.pstatic.net/static/newsstand/up/2025/0421/nsd122024363.png\"},\"logoDark\":{\"url\":\"https://s.pstatic.net/static/newsstand/up/2025/0421/nsd122015588.png\"},\"showThumbnailView\":true,\"showListView\":true,\"regDate\":\"20250819 16:11:23\",\"_id\":null,\"@type\":\"PC-NEWSSTAND-PRESS-BLOCK\",\"@code\":null,\"@template\":\"NONE\",\"@flowId\":null,\"@flowExecutionId\":null,\"@provider\":null,\"@lastModifiedAt\":null},{\"@type\":\"PC-NEWSSTAND-PRESS-BLOCK\",\"blocks\":null,\"materials\":null,\"excludeInPaging\":false,\"positionForPaging\":0,\"realtime\":false,\"pid\":\"804\",\"name\":\"데이터뉴스\",\"logoLight\":{\"url\":\"https://s.pstatic.net/static/newsstand/2020/logo/light/0604/804.png\"},\"logoDark\":{\"url\":\"https://s.pstatic.net/static/newsstand/2020/logo/dark/0604/804.png\"},\"showThumbnailView\":true,\"showListView\":true,\"regDate\":\"20250819 15:45:02\",\"_id\":null,\"@type\":\"PC-NEWSSTAND-PRESS-BLOCK\",\"@code\":null,\"@template\":\"NONE\",\"@flowId\":null,\"@flowExecutionId\":null,\"@provider\":null,\"@lastModifiedAt\":null},{\"@type\":\"PC-NEWSSTAND-PRESS-BLOCK\",\"blocks\":null,\"materials\":null,\"excludeInPaging\":false,\"positionForPaging\":0,\"realtime\":false,\"pid\":\"925\",\"name\":\"일요신문\",\"logoLight\":{\"url\":\"https://s.pstatic.net/static/newsstand/2020/logo/light/0604/925.png\"},\"logoDark\":{\"url\":\"https://s.pstatic.net/static/newsstand/2020/logo/dark/0604/925.png\"},\"showThumbnailView\":true,\"showListView\":true,\"regDate\":\"20250819 11:12:40\",\"_id\":null,\"@type\":\"PC-NEWSSTAND-PRESS-BLOCK\",\"@code\":null,\"@template\":\"NONE\",\"@flowId\":null,\"@flowExecutionId\":null,\"@provider\":null,\"@lastModifiedAt\":null},{\"@type\":\"PC-NEWSSTAND-PRESS-BLOCK\",\"blocks\":null,\"materials\":null,\"excludeInPaging\":false,\"positionForPaging\":0,\"realtime\":false,\"pid\":\"805\",\"name\":\"한경잡앤조이\",\"logoLight\":{\"url\":\"https://s.pstatic.net/static/newsstand/up/2020/0615/nsd10319824.png\"},\"logoDark\":{\"url\":\"https://s.pstatic.net/static/newsstand/up/2020/0615/nsd10311145.png\"},\"showThumbnailView\":true,\"showListView\":true,\"regDate\":\"20250819 09:37:07\",\"_id\":null,\"@type\":\"PC-NEWSSTAND-PRESS-BLOCK\",\"@code\":null,\"@template\":\"NONE\",\"@flowId\":null,\"@flowExecutionId\":null,\"@provider\":null,\"@lastModifiedAt\":null},{\"@type\":\"PC-NEWSSTAND-PRESS-BLOCK\",\"blocks\":null,\"materials\":null,\"excludeInPaging\":false,\"positionForPaging\":0,\"realtime\":false,\"pid\":\"926\",\"name\":\"중부일보\",\"logoLight\":{\"url\":\"https://s.pstatic.net/static/newsstand/up/2025/0512/nsd155319792.png\"},\"logoDark\":{\"url\":\"https://s.pstatic.net/static/newsstand/up/2025/0512/nsd155341133.png\"},\"showThumbnailView\":true,\"showListView\":true,\"regDate\":\"20250819 15:11:14\",\"_id\":null,\"@type\":\"PC-NEWSSTAND-PRESS-BLOCK\",\"@code\":null,\"@template\":\"NONE\",\"@flowId\":null,\"@flowExecutionId\":null,\"@provider\":null,\"@lastModifiedAt\":null},{\"@type\":\"PC-NEWSSTAND-PRESS-BLOCK\",\"blocks\":null,\"materials\":null,\"excludeInPaging\":false,\"positionForPaging\":0,\"realtime\":false,\"pid\":\"806\",\"name\":\"한경머니\",\"logoLight\":{\"url\":\"https://s.pstatic.net/static/newsstand/up/2024/0531/nsd115428801.png\"},\"logoDark\":{\"url\":\"https://s.pstatic.net/static/newsstand/up/2024/0531/nsd115449376.png\"},\"showThumbnailView\":true,\"showListView\":true,\"regDate\":\"20250819 09:18:07\",\"_id\":null,\"@type\":\"PC-NEWSSTAND-PRESS-BLOCK\",\"@code\":null,\"@template\":\"NONE\",\"@flowId\":null,\"@flowExecutionId\":null,\"@provider\":null,\"@lastModifiedAt\":null},{\"@type\":\"PC-NEWSSTAND-PRESS-BLOCK\",\"blocks\":null,\"materials\":null,\"excludeInPaging\":false,\"positionForPaging\":0,\"realtime\":false,\"pid\":\"927\",\"name\":\"충북일보\",\"logoLight\":{\"url\":\"https://s.pstatic.net/static/newsstand/2020/logo/light/0604/927.png\"},\"logoDark\":{\"url\":\"https://s.pstatic.net/static/newsstand/2020/logo/dark/0604/927.png\"},\"showThumbnailView\":true,\"showListView\":true,\"regDate\":\"20250818 20:32:05\",\"_id\":null,\"@type\":\"PC-NEWSSTAND-PRESS-BLOCK\",\"@code\":null,\"@template\":\"NONE\",\"@flowId\":null,\"@flowExecutionId\":null,\"@provider\":null,\"@lastModifiedAt\":null},{\"@type\":\"PC-NEWSSTAND-PRESS-BLOCK\",\"blocks\":null,\"materials\":null,\"excludeInPaging\":false,\"positionForPaging\":0,\"realtime\":false,\"pid\":\"807\",\"name\":\"인사이트코리아\",\"logoLight\":{\"url\":\"https://s.pstatic.net/static/newsstand/2020/logo/light/0604/807.png\"},\"logoDark\":{\"url\":\"https://s.pstatic.net/static/newsstand/2020/logo/dark/0604/807.png\"},\"showThumbnailView\":true,\"showListView\":true,\"regDate\":\"20250819 16:10:27\",\"_id\":null,\"@type\":\"PC-NEWSSTAND-PRESS-BLOCK\",\"@code\":null,\"@template\":\"NONE\",\"@flowId\":null,\"@flowExecutionId\":null,\"@provider\":null,\"@lastModifiedAt\":null},{\"@type\":\"PC-NEWSSTAND-PRESS-BLOCK\",\"blocks\":null,\"materials\":null,\"excludeInPaging\":false,\"positionForPaging\":0,\"realtime\":false,\"pid\":\"928\",\"name\":\"컴퓨터월드\",\"logoLight\":{\"url\":\"https://s.pstatic.net/static/newsstand/2020/logo/light/0604/928.png\"},\"logoDark\":{\"url\":\"https://s.pstatic.net/static/newsstand/2020/logo/dark/0604/928.png\"},\"showThumbnailView\":true,\"showListView\":true,\"regDate\":\"20250731 12:00:12\",\"_id\":null,\"@type\":\"PC-NEWSSTAND-PRESS-BLOCK\",\"@code\":null,\"@template\":\"NONE\",\"@flowId\":null,\"@flowExecutionId\":null,\"@provider\":null,\"@lastModifiedAt\":null},{\"@type\":\"PC-NEWSSTAND-PRESS-BLOCK\",\"blocks\":null,\"materials\":null,\"excludeInPaging\":false,\"positionForPaging\":0,\"realtime\":false,\"pid\":\"808\",\"name\":\"산업일보\",\"logoLight\":{\"url\":\"https://s.pstatic.net/static/newsstand/2020/logo/light/0604/808.png\"},\"logoDark\":{\"url\":\"https://s.pstatic.net/static/newsstand/2020/logo/dark/0604/808.png\"},\"showThumbnailView\":true,\"showListView\":true,\"regDate\":\"20250819 16:15:05\",\"_id\":null,\"@type\":\"PC-NEWSSTAND-PRESS-BLOCK\",\"@code\":null,\"@template\":\"NONE\",\"@flowId\":null,\"@flowExecutionId\":null,\"@provider\":null,\"@lastModifiedAt\":null},{\"@type\":\"PC-NEWSSTAND-PRESS-BLOCK\",\"blocks\":null,\"materials\":null,\"excludeInPaging\":false,\"positionForPaging\":0,\"realtime\":false,\"pid\":\"809\",\"name\":\"미디어펜\",\"logoLight\":{\"url\":\"https://s.pstatic.net/static/newsstand/2020/logo/light/0604/809.png\"},\"logoDark\":{\"url\":\"https://s.pstatic.net/static/newsstand/2020/logo/dark/0604/809.png\"},\"showThumbnailView\":true,\"showListView\":true,\"regDate\":\"20250819 16:11:30\",\"_id\":null,\"@type\":\"PC-NEWSSTAND-PRESS-BLOCK\",\"@code\":null,\"@template\":\"NONE\",\"@flowId\":null,\"@flowExecutionId\":null,\"@provider\":null,\"@lastModifiedAt\":null},{\"@type\":\"PC-NEWSSTAND-PRESS-BLOCK\",\"blocks\":null,\"materials\":null,\"excludeInPaging\":false,\"positionForPaging\":0,\"realtime\":false,\"pid\":\"011\",\"name\":\"서울경제\",\"logoLight\":{\"url\":\"https://s.pstatic.net/static/newsstand/up/2025/0418/nsd174559608.png\"},\"logoDark\":{\"url\":\"https://s.pstatic.net/static/newsstand/up/2025/0418/nsd174615810.png\"},\"showThumbnailView\":true,\"showListView\":true,\"regDate\":\"20250819 16:08:40\",\"_id\":null,\"@type\":\"PC-NEWSSTAND-PRESS-BLOCK\",\"@code\":null,\"@template\":\"NONE\",\"@flowId\":null,\"@flowExecutionId\":null,\"@provider\":null,\"@lastModifiedAt\":null},{\"@type\":\"PC-NEWSSTAND-PRESS-BLOCK\",\"blocks\":null,\"materials\":null,\"excludeInPaging\":false,\"positionForPaging\":0,\"realtime\":false,\"pid\":\"374\",\"name\":\"SBS Biz\",\"logoLight\":{\"url\":\"https://s.pstatic.net/static/newsstand/up/2025/0418/nsd161857755.png\"},\"logoDark\":{\"url\":\"https://s.pstatic.net/static/newsstand/up/2025/0418/nsd161857755.png\"},\"showThumbnailView\":true,\"showListView\":true,\"regDate\":\"20250819 15:41:32\",\"_id\":null,\"@type\":\"PC-NEWSSTAND-PRESS-BLOCK\",\"@code\":null,\"@template\":\"NONE\",\"@flowId\":null,\"@flowExecutionId\":null,\"@provider\":null,\"@lastModifiedAt\":null},{\"@type\":\"PC-NEWSSTAND-PRESS-BLOCK\",\"blocks\":null,\"materials\":null,\"excludeInPaging\":false,\"positionForPaging\":0,\"realtime\":false,\"pid\":\"013\",\"name\":\"연합인포맥스\",\"logoLight\":{\"url\":\"https://s.pstatic.net/static/newsstand/2020/logo/light/0604/013.png\"},\"logoDark\":{\"url\":\"https://s.pstatic.net/static/newsstand/2020/logo/dark/0604/013.png\"},\"showThumbnailView\":true,\"showListView\":true,\"regDate\":\"20250819 16:10:48\",\"_id\":null,\"@type\":\"PC-NEWSSTAND-PRESS-BLOCK\",\"@code\":null,\"@template\":\"NONE\",\"@flowId\":null,\"@flowExecutionId\":null,\"@provider\":null,\"@lastModifiedAt\":null},{\"@type\":\"PC-NEWSSTAND-PRESS-BLOCK\",\"blocks\":null,\"materials\":null,\"excludeInPaging\":false,\"positionForPaging\":0,\"realtime\":false,\"pid\":\"376\",\"name\":\"지지통신\",\"logoLight\":{\"url\":\"https://s.pstatic.net/static/newsstand/2020/logo/light/0604/376.png\"},\"logoDark\":{\"url\":\"https://s.pstatic.net/static/newsstand/2020/logo/dark/0604/376.png\"},\"showThumbnailView\":true,\"showListView\":true,\"regDate\":\"20250819 16:10:03\",\"_id\":null,\"@type\":\"PC-NEWSSTAND-PRESS-BLOCK\",\"@code\":null,\"@template\":\"NONE\",\"@flowId\":null,\"@flowExecutionId\":null,\"@provider\":null,\"@lastModifiedAt\":null},{\"@type\":\"PC-NEWSSTAND-PRESS-BLOCK\",\"blocks\":null,\"materials\":null,\"excludeInPaging\":false,\"positionForPaging\":0,\"realtime\":false,\"pid\":\"014\",\"name\":\"파이낸셜뉴스\",\"logoLight\":{\"url\":\"https://s.pstatic.net/static/newsstand/up/2025/0418/nsd182326399.png\"},\"logoDark\":{\"url\":\"https://s.pstatic.net/static/newsstand/up/2025/0418/nsd182338294.png\"},\"showThumbnailView\":true,\"showListView\":true,\"regDate\":\"20250819 16:10:06\",\"_id\":null,\"@type\":\"PC-NEWSSTAND-PRESS-BLOCK\",\"@code\":null,\"@template\":\"NONE\",\"@flowId\":null,\"@flowExecutionId\":null,\"@provider\":null,\"@lastModifiedAt\":null},{\"@type\":\"PC-NEWSSTAND-PRESS-BLOCK\",\"blocks\":null,\"materials\":null,\"excludeInPaging\":false,\"positionForPaging\":0,\"realtime\":false,\"pid\":\"135\",\"name\":\"시사저널\",\"logoLight\":{\"url\":\"https://s.pstatic.net/static/newsstand/up/2025/0418/nsd175014923.png\"},\"logoDark\":{\"url\":\"https://s.pstatic.net/static/newsstand/up/2025/0418/nsd175026897.png\"},\"showThumbnailView\":true,\"showListView\":true,\"regDate\":\"20250819 16:10:08\",\"_id\":null,\"@type\":\"PC-NEWSSTAND-PRESS-BLOCK\",\"@code\":null,\"@template\":\"NONE\",\"@flowId\":null,\"@flowExecutionId\":null,\"@provider\":null,\"@lastModifiedAt\":null},{\"@type\":\"PC-NEWSSTAND-PRESS-BLOCK\",\"blocks\":null,\"materials\":null,\"excludeInPaging\":false,\"positionForPaging\":0,\"realtime\":false,\"pid\":\"015\",\"name\":\"한국경제\",\"logoLight\":{\"url\":\"https://s.pstatic.net/static/newsstand/up/2025/0418/nsd182845526.png\"},\"logoDark\":{\"url\":\"https://s.pstatic.net/static/newsstand/up/2025/0418/nsd182857171.png\"},\"showThumbnailView\":true,\"showListView\":true,\"regDate\":\"20250819 16:05:21\",\"_id\":null,\"@type\":\"PC-NEWSSTAND-PRESS-BLOCK\",\"@code\":null,\"@template\":\"NONE\",\"@flowId\":null,\"@flowExecutionId\":null,\"@provider\":null,\"@lastModifiedAt\":null},{\"@type\":\"PC-NEWSSTAND-PRESS-BLOCK\",\"blocks\":null,\"materials\":null,\"excludeInPaging\":false,\"positionForPaging\":0,\"realtime\":false,\"pid\":\"016\",\"name\":\"헤럴드경제\",\"logoLight\":{\"url\":\"https://s.pstatic.net/static/newsstand/up/2025/0418/nsd183149251.png\"},\"logoDark\":{\"url\":\"https://s.pstatic.net/static/newsstand/up/2025/0418/nsd1832047.png\"},\"showThumbnailView\":true,\"showListView\":true,\"regDate\":\"20250819 16:08:55\",\"_id\":null,\"@type\":\"PC-NEWSSTAND-PRESS-BLOCK\",\"@code\":null,\"@template\":\"NONE\",\"@flowId\":null,\"@flowExecutionId\":null,\"@provider\":null,\"@lastModifiedAt\":null},{\"@type\":\"PC-NEWSSTAND-PRESS-BLOCK\",\"blocks\":null,\"materials\":null,\"excludeInPaging\":false,\"positionForPaging\":0,\"realtime\":false,\"pid\":\"138\",\"name\":\"디지털데일리\",\"logoLight\":{\"url\":\"https://s.pstatic.net/static/newsstand/up/2025/0418/nsd173217384.png\"},\"logoDark\":{\"url\":\"https://s.pstatic.net/static/newsstand/up/2025/0418/nsd173232634.png\"},\"showThumbnailView\":true,\"showListView\":true,\"regDate\":\"20250819 14:37:09\",\"_id\":null,\"@type\":\"PC-NEWSSTAND-PRESS-BLOCK\",\"@code\":null,\"@template\":\"NONE\",\"@flowId\":null,\"@flowExecutionId\":null,\"@provider\":null,\"@lastModifiedAt\":null},{\"@type\":\"PC-NEWSSTAND-PRESS-BLOCK\",\"blocks\":null,\"materials\":null,\"excludeInPaging\":false,\"positionForPaging\":0,\"realtime\":false,\"pid\":\"930\",\"name\":\"뉴스타파\",\"logoLight\":{\"url\":\"https://s.pstatic.net/static/newsstand/up/2025/0418/nsd17236863.png\"},\"logoDark\":{\"url\":\"https://s.pstatic.net/static/newsstand/up/2025/0418/nsd17254320.png\"},\"showThumbnailView\":true,\"showListView\":true,\"regDate\":\"20250819 16:15:27\",\"_id\":null,\"@type\":\"PC-NEWSSTAND-PRESS-BLOCK\",\"@code\":null,\"@template\":\"NONE\",\"@flowId\":null,\"@flowExecutionId\":null,\"@provider\":null,\"@lastModifiedAt\":null},{\"@type\":\"PC-NEWSSTAND-PRESS-BLOCK\",\"blocks\":null,\"materials\":null,\"excludeInPaging\":false,\"positionForPaging\":0,\"realtime\":false,\"pid\":\"018\",\"name\":\"이데일리\",\"logoLight\":{\"url\":\"https://s.pstatic.net/static/newsstand/up/2025/0418/nsd18551402.png\"},\"logoDark\":{\"url\":\"https://s.pstatic.net/static/newsstand/up/2025/0418/nsd1866881.png\"},\"showThumbnailView\":true,\"showListView\":true,\"regDate\":\"20250819 15:51:25\",\"_id\":null,\"@type\":\"PC-NEWSSTAND-PRESS-BLOCK\",\"@code\":null,\"@template\":\"NONE\",\"@flowId\":null,\"@flowExecutionId\":null,\"@provider\":null,\"@lastModifiedAt\":null},{\"@type\":\"PC-NEWSSTAND-PRESS-BLOCK\",\"blocks\":null,\"materials\":null,\"excludeInPaging\":false,\"positionForPaging\":0,\"realtime\":false,\"pid\":\"139\",\"name\":\"스포탈코리아\",\"logoLight\":{\"url\":\"https://s.pstatic.net/static/newsstand/2020/logo/light/0604/139.png\"},\"logoDark\":{\"url\":\"https://s.pstatic.net/static/newsstand/2020/logo/dark/0604/139.png\"},\"showThumbnailView\":true,\"showListView\":true,\"regDate\":\"20250819 16:11:17\",\"_id\":null,\"@type\":\"PC-NEWSSTAND-PRESS-BLOCK\",\"@code\":null,\"@template\":\"NONE\",\"@flowId\":null,\"@flowExecutionId\":null,\"@provider\":null,\"@lastModifiedAt\":null},{\"@type\":\"PC-NEWSSTAND-PRESS-BLOCK\",\"blocks\":null,\"materials\":null,\"excludeInPaging\":false,\"positionForPaging\":0,\"realtime\":false,\"pid\":\"810\",\"name\":\"신아일보\",\"logoLight\":{\"url\":\"https://s.pstatic.net/static/newsstand/up/2021/0316/nsd103953129.png\"},\"logoDark\":{\"url\":\"https://s.pstatic.net/static/newsstand/up/2021/0316/nsd104012979.png\"},\"showThumbnailView\":true,\"showListView\":true,\"regDate\":\"20250819 16:10:12\",\"_id\":null,\"@type\":\"PC-NEWSSTAND-PRESS-BLOCK\",\"@code\":null,\"@template\":\"NONE\",\"@flowId\":null,\"@flowExecutionId\":null,\"@provider\":null,\"@lastModifiedAt\":null},{\"@type\":\"PC-NEWSSTAND-PRESS-BLOCK\",\"blocks\":null,\"materials\":null,\"excludeInPaging\":false,\"positionForPaging\":0,\"realtime\":false,\"pid\":\"811\",\"name\":\"한국농어촌방송\",\"logoLight\":{\"url\":\"https://s.pstatic.net/static/newsstand/up/2022/0315/nsd181452869.png\"},\"logoDark\":{\"url\":\"https://s.pstatic.net/static/newsstand/up/2022/0315/nsd18156958.png\"},\"showThumbnailView\":true,\"showListView\":true,\"regDate\":\"20250819 16:10:28\",\"_id\":null,\"@type\":\"PC-NEWSSTAND-PRESS-BLOCK\",\"@code\":null,\"@template\":\"NONE\",\"@flowId\":null,\"@flowExecutionId\":null,\"@provider\":null,\"@lastModifiedAt\":null},{\"@type\":\"PC-NEWSSTAND-PRESS-BLOCK\",\"blocks\":null,\"materials\":null,\"excludeInPaging\":false,\"positionForPaging\":0,\"realtime\":false,\"pid\":\"932\",\"name\":\"CEO스코어데일리\",\"logoLight\":{\"url\":\"https://s.pstatic.net/static/newsstand/2020/logo/light/0604/932.png\"},\"logoDark\":{\"url\":\"https://s.pstatic.net/static/newsstand/2020/logo/dark/0604/932.png\"},\"showThumbnailView\":true,\"showListView\":true,\"regDate\":\"20250819 07:04:26\",\"_id\":null,\"@type\":\"PC-NEWSSTAND-PRESS-BLOCK\",\"@code\":null,\"@template\":\"NONE\",\"@flowId\":null,\"@flowExecutionId\":null,\"@provider\":null,\"@lastModifiedAt\":null},{\"@type\":\"PC-NEWSSTAND-PRESS-BLOCK\",\"blocks\":null,\"materials\":null,\"excludeInPaging\":false,\"positionForPaging\":0,\"realtime\":false,\"pid\":\"812\",\"name\":\"딜사이트 경제TV\",\"logoLight\":{\"url\":\"https://s.pstatic.net/static/newsstand/up/2024/0701/nsd105216680.png\"},\"logoDark\":{\"url\":\"https://s.pstatic.net/static/newsstand/up/2024/0701/nsd10529721.png\"},\"showThumbnailView\":true,\"showListView\":true,\"regDate\":\"20250819 16:20:01\",\"_id\":null,\"@type\":\"PC-NEWSSTAND-PRESS-BLOCK\",\"@code\":null,\"@template\":\"NONE\",\"@flowId\":null,\"@flowExecutionId\":null,\"@provider\":null,\"@lastModifiedAt\":null},{\"@type\":\"PC-NEWSSTAND-PRESS-BLOCK\",\"blocks\":null,\"materials\":null,\"excludeInPaging\":false,\"positionForPaging\":0,\"realtime\":false,\"pid\":\"813\",\"name\":\"이코노믹리뷰\",\"logoLight\":{\"url\":\"https://s.pstatic.net/static/newsstand/up/2022/0418/nsd164755323.png\"},\"logoDark\":{\"url\":\"https://s.pstatic.net/static/newsstand/up/2022/0418/nsd164818946.png\"},\"showThumbnailView\":true,\"showListView\":true,\"regDate\":\"20250819 16:10:30\",\"_id\":null,\"@type\":\"PC-NEWSSTAND-PRESS-BLOCK\",\"@code\":null,\"@template\":\"NONE\",\"@flowId\":null,\"@flowExecutionId\":null,\"@provider\":null,\"@lastModifiedAt\":null},{\"@type\":\"PC-NEWSSTAND-PRESS-BLOCK\",\"blocks\":null,\"materials\":null,\"excludeInPaging\":false,\"positionForPaging\":0,\"realtime\":false,\"pid\":\"934\",\"name\":\"Arirang TV\",\"logoLight\":{\"url\":\"https://s.pstatic.net/static/newsstand/2020/logo/light/0604/934.png\"},\"logoDark\":{\"url\":\"https://s.pstatic.net/static/newsstand/2020/logo/dark/0604/934.png\"},\"showThumbnailView\":true,\"showListView\":true,\"regDate\":\"20250819 11:42:32\",\"_id\":null,\"@type\":\"PC-NEWSSTAND-PRESS-BLOCK\",\"@code\":null,\"@template\":\"NONE\",\"@flowId\":null,\"@flowExecutionId\":null,\"@provider\":null,\"@lastModifiedAt\":null},{\"@type\":\"PC-NEWSSTAND-PRESS-BLOCK\",\"blocks\":null,\"materials\":null,\"excludeInPaging\":false,\"positionForPaging\":0,\"realtime\":false,\"pid\":\"814\",\"name\":\"미주한국일보\",\"logoLight\":{\"url\":\"https://s.pstatic.net/static/newsstand/2020/logo/light/0604/814.png\"},\"logoDark\":{\"url\":\"https://s.pstatic.net/static/newsstand/2020/logo/dark/0604/814.png\"},\"showThumbnailView\":true,\"showListView\":true,\"regDate\":\"20250819 12:44:23\",\"_id\":null,\"@type\":\"PC-NEWSSTAND-PRESS-BLOCK\",\"@code\":null,\"@template\":\"NONE\",\"@flowId\":null,\"@flowExecutionId\":null,\"@provider\":null,\"@lastModifiedAt\":null},{\"@type\":\"PC-NEWSSTAND-PRESS-BLOCK\",\"blocks\":null,\"materials\":null,\"excludeInPaging\":false,\"positionForPaging\":0,\"realtime\":false,\"pid\":\"935\",\"name\":\"경상일보\",\"logoLight\":{\"url\":\"https://s.pstatic.net/static/newsstand/2020/logo/light/0604/935.png\"},\"logoDark\":{\"url\":\"https://s.pstatic.net/static/newsstand/2020/logo/dark/0604/935.png\"},\"showThumbnailView\":true,\"showListView\":true,\"regDate\":\"20250819 00:35:15\",\"_id\":null,\"@type\":\"PC-NEWSSTAND-PRESS-BLOCK\",\"@code\":null,\"@template\":\"NONE\",\"@flowId\":null,\"@flowExecutionId\":null,\"@provider\":null,\"@lastModifiedAt\":null},{\"@type\":\"PC-NEWSSTAND-PRESS-BLOCK\",\"blocks\":null,\"materials\":null,\"excludeInPaging\":false,\"positionForPaging\":0,\"realtime\":false,\"pid\":\"815\",\"name\":\"법률방송뉴스\",\"logoLight\":{\"url\":\"https://s.pstatic.net/static/newsstand/2020/logo/light/0604/815.png\"},\"logoDark\":{\"url\":\"https://s.pstatic.net/static/newsstand/2020/logo/dark/0604/815.png\"},\"showThumbnailView\":true,\"showListView\":true,\"regDate\":\"20250819 16:10:29\",\"_id\":null,\"@type\":\"PC-NEWSSTAND-PRESS-BLOCK\",\"@code\":null,\"@template\":\"NONE\",\"@flowId\":null,\"@flowExecutionId\":null,\"@provider\":null,\"@lastModifiedAt\":null},{\"@type\":\"PC-NEWSSTAND-PRESS-BLOCK\",\"blocks\":null,\"materials\":null,\"excludeInPaging\":false,\"positionForPaging\":0,\"realtime\":false,\"pid\":\"936\",\"name\":\"대구일보\",\"logoLight\":{\"url\":\"https://s.pstatic.net/static/newsstand/2020/logo/light/0604/936.png\"},\"logoDark\":{\"url\":\"https://s.pstatic.net/static/newsstand/2020/logo/dark/0604/936.png\"},\"showThumbnailView\":true,\"showListView\":true,\"regDate\":\"20250819 16:11:14\",\"_id\":null,\"@type\":\"PC-NEWSSTAND-PRESS-BLOCK\",\"@code\":null,\"@template\":\"NONE\",\"@flowId\":null,\"@flowExecutionId\":null,\"@provider\":null,\"@lastModifiedAt\":null},{\"@type\":\"PC-NEWSSTAND-PRESS-BLOCK\",\"blocks\":null,\"materials\":null,\"excludeInPaging\":false,\"positionForPaging\":0,\"realtime\":false,\"pid\":\"816\",\"name\":\"시사오늘\",\"logoLight\":{\"url\":\"https://s.pstatic.net/static/newsstand/2020/logo/light/0604/816.png\"},\"logoDark\":{\"url\":\"https://s.pstatic.net/static/newsstand/2020/logo/dark/0604/816.png\"},\"showThumbnailView\":true,\"showListView\":true,\"regDate\":\"20250819 16:10:30\",\"_id\":null,\"@type\":\"PC-NEWSSTAND-PRESS-BLOCK\",\"@code\":null,\"@template\":\"NONE\",\"@flowId\":null,\"@flowExecutionId\":null,\"@provider\":null,\"@lastModifiedAt\":null},{\"@type\":\"PC-NEWSSTAND-PRESS-BLOCK\",\"blocks\":null,\"materials\":null,\"excludeInPaging\":false,\"positionForPaging\":0,\"realtime\":false,\"pid\":\"937\",\"name\":\"전북도민일보\",\"logoLight\":{\"url\":\"https://s.pstatic.net/static/newsstand/2020/logo/light/0604/937.png\"},\"logoDark\":{\"url\":\"https://s.pstatic.net/static/newsstand/2020/logo/dark/0604/937.png\"},\"showThumbnailView\":true,\"showListView\":true,\"regDate\":\"20250818 19:18:46\",\"_id\":null,\"@type\":\"PC-NEWSSTAND-PRESS-BLOCK\",\"@code\":null,\"@template\":\"NONE\",\"@flowId\":null,\"@flowExecutionId\":null,\"@provider\":null,\"@lastModifiedAt\":null},{\"@type\":\"PC-NEWSSTAND-PRESS-BLOCK\",\"blocks\":null,\"materials\":null,\"excludeInPaging\":false,\"positionForPaging\":0,\"realtime\":false,\"pid\":\"817\",\"name\":\"미디어제주\",\"logoLight\":{\"url\":\"https://s.pstatic.net/static/newsstand/2020/logo/light/0604/817.png\"},\"logoDark\":{\"url\":\"https://s.pstatic.net/static/newsstand/2020/logo/dark/0604/817.png\"},\"showThumbnailView\":true,\"showListView\":true,\"regDate\":\"20250819 16:10:31\",\"_id\":null,\"@type\":\"PC-NEWSSTAND-PRESS-BLOCK\",\"@code\":null,\"@template\":\"NONE\",\"@flowId\":null,\"@flowExecutionId\":null,\"@provider\":null,\"@lastModifiedAt\":null},{\"@type\":\"PC-NEWSSTAND-PRESS-BLOCK\",\"blocks\":null,\"materials\":null,\"excludeInPaging\":false,\"positionForPaging\":0,\"realtime\":false,\"pid\":\"938\",\"name\":\"그린포스트코리아\",\"logoLight\":{\"url\":\"https://s.pstatic.net/static/newsstand/2020/logo/light/0604/938.png\"},\"logoDark\":{\"url\":\"https://s.pstatic.net/static/newsstand/2020/logo/dark/0604/938.png\"},\"showThumbnailView\":true,\"showListView\":true,\"regDate\":\"20250819 16:10:52\",\"_id\":null,\"@type\":\"PC-NEWSSTAND-PRESS-BLOCK\",\"@code\":null,\"@template\":\"NONE\",\"@flowId\":null,\"@flowExecutionId\":null,\"@provider\":null,\"@lastModifiedAt\":null},{\"@type\":\"PC-NEWSSTAND-PRESS-BLOCK\",\"blocks\":null,\"materials\":null,\"excludeInPaging\":false,\"positionForPaging\":0,\"realtime\":false,\"pid\":\"818\",\"name\":\"IT동아\",\"logoLight\":{\"url\":\"https://s.pstatic.net/static/newsstand/2020/logo/light/0604/818.png\"},\"logoDark\":{\"url\":\"https://s.pstatic.net/static/newsstand/2020/logo/dark/0604/818.png\"},\"showThumbnailView\":true,\"showListView\":true,\"regDate\":\"20250819 13:49:51\",\"_id\":null,\"@type\":\"PC-NEWSSTAND-PRESS-BLOCK\",\"@code\":null,\"@template\":\"NONE\",\"@flowId\":null,\"@flowExecutionId\":null,\"@provider\":null,\"@lastModifiedAt\":null},{\"@type\":\"PC-NEWSSTAND-PRESS-BLOCK\",\"blocks\":null,\"materials\":null,\"excludeInPaging\":false,\"positionForPaging\":0,\"realtime\":false,\"pid\":\"819\",\"name\":\"바이라인네트워크\",\"logoLight\":{\"url\":\"https://s.pstatic.net/static/newsstand/2020/logo/light/0604/819.png\"},\"logoDark\":{\"url\":\"https://s.pstatic.net/static/newsstand/2020/logo/dark/0604/819.png\"},\"showThumbnailView\":true,\"showListView\":true,\"regDate\":\"20250819 15:56:29\",\"_id\":null,\"@type\":\"PC-NEWSSTAND-PRESS-BLOCK\",\"@code\":null,\"@template\":\"NONE\",\"@flowId\":null,\"@flowExecutionId\":null,\"@provider\":null,\"@lastModifiedAt\":null},{\"@type\":\"PC-NEWSSTAND-PRESS-BLOCK\",\"blocks\":null,\"materials\":null,\"excludeInPaging\":false,\"positionForPaging\":0,\"realtime\":false,\"pid\":\"140\",\"name\":\"씨네21\",\"logoLight\":{\"url\":\"https://s.pstatic.net/static/newsstand/2020/logo/light/0604/140.png\"},\"logoDark\":{\"url\":\"https://s.pstatic.net/static/newsstand/2020/logo/dark/0604/140.png\"},\"showThumbnailView\":true,\"showListView\":true,\"regDate\":\"20250819 16:00:00\",\"_id\":null,\"@type\":\"PC-NEWSSTAND-PRESS-BLOCK\",\"@code\":null,\"@template\":\"NONE\",\"@flowId\":null,\"@flowExecutionId\":null,\"@provider\":null,\"@lastModifiedAt\":null},{\"@type\":\"PC-NEWSSTAND-PRESS-BLOCK\",\"blocks\":null,\"materials\":null,\"excludeInPaging\":false,\"positionForPaging\":0,\"realtime\":false,\"pid\":\"020\",\"name\":\"동아일보\",\"logoLight\":{\"url\":\"https://s.pstatic.net/static/newsstand/up/2025/0418/nsd17313279.png\"},\"logoDark\":{\"url\":\"https://s.pstatic.net/static/newsstand/up/2025/0418/nsd173115317.png\"},\"showThumbnailView\":true,\"showListView\":true,\"regDate\":\"20250819 16:15:04\",\"_id\":null,\"@type\":\"PC-NEWSSTAND-PRESS-BLOCK\",\"@code\":null,\"@template\":\"NONE\",\"@flowId\":null,\"@flowExecutionId\":null,\"@provider\":null,\"@lastModifiedAt\":null},{\"@type\":\"PC-NEWSSTAND-PRESS-BLOCK\",\"blocks\":null,\"materials\":null,\"excludeInPaging\":false,\"positionForPaging\":0,\"realtime\":false,\"pid\":\"021\",\"name\":\"문화일보\",\"logoLight\":{\"url\":\"https://s.pstatic.net/static/newsstand/up/2025/0418/nsd174041516.png\"},\"logoDark\":{\"url\":\"https://s.pstatic.net/static/newsstand/up/2025/0418/nsd174052596.png\"},\"showThumbnailView\":true,\"showListView\":true,\"regDate\":\"20250819 16:15:06\",\"_id\":null,\"@type\":\"PC-NEWSSTAND-PRESS-BLOCK\",\"@code\":null,\"@template\":\"NONE\",\"@flowId\":null,\"@flowExecutionId\":null,\"@provider\":null,\"@lastModifiedAt\":null},{\"@type\":\"PC-NEWSSTAND-PRESS-BLOCK\",\"blocks\":null,\"materials\":null,\"excludeInPaging\":false,\"positionForPaging\":0,\"realtime\":false,\"pid\":\"384\",\"name\":\"한국대학신문\",\"logoLight\":{\"url\":\"https://s.pstatic.net/static/newsstand/2020/logo/light/0604/384.png\"},\"logoDark\":{\"url\":\"https://s.pstatic.net/static/newsstand/2020/logo/dark/0604/384.png\"},\"showThumbnailView\":true,\"showListView\":true,\"regDate\":\"20250819 16:10:06\",\"_id\":null,\"@type\":\"PC-NEWSSTAND-PRESS-BLOCK\",\"@code\":null,\"@template\":\"NONE\",\"@flowId\":null,\"@flowExecutionId\":null,\"@provider\":null,\"@lastModifiedAt\":null},{\"@type\":\"PC-NEWSSTAND-PRESS-BLOCK\",\"blocks\":null,\"materials\":null,\"excludeInPaging\":false,\"positionForPaging\":0,\"realtime\":false,\"pid\":\"022\",\"name\":\"세계일보\",\"logoLight\":{\"url\":\"https://s.pstatic.net/static/newsstand/up/2025/0418/nsd174812228.png\"},\"logoDark\":{\"url\":\"https://s.pstatic.net/static/newsstand/up/2025/0418/nsd174823953.png\"},\"showThumbnailView\":true,\"showListView\":true,\"regDate\":\"20250819 16:03:23\",\"_id\":null,\"@type\":\"PC-NEWSSTAND-PRESS-BLOCK\",\"@code\":null,\"@template\":\"NONE\",\"@flowId\":null,\"@flowExecutionId\":null,\"@provider\":null,\"@lastModifiedAt\":null},{\"@type\":\"PC-NEWSSTAND-PRESS-BLOCK\",\"blocks\":null,\"materials\":null,\"excludeInPaging\":false,\"positionForPaging\":0,\"realtime\":false,\"pid\":\"143\",\"name\":\"쿠키뉴스\",\"logoLight\":{\"url\":\"https://s.pstatic.net/static/newsstand/up/2025/0421/nsd111533869.png\"},\"logoDark\":{\"url\":\"https://s.pstatic.net/static/newsstand/up/2025/0421/nsd111551222.png\"},\"showThumbnailView\":true,\"showListView\":true,\"regDate\":\"20250819 16:08:09\",\"_id\":null,\"@type\":\"PC-NEWSSTAND-PRESS-BLOCK\",\"@code\":null,\"@template\":\"NONE\",\"@flowId\":null,\"@flowExecutionId\":null,\"@provider\":null,\"@lastModifiedAt\":null},{\"@type\":\"PC-NEWSSTAND-PRESS-BLOCK\",\"blocks\":null,\"materials\":null,\"excludeInPaging\":false,\"positionForPaging\":0,\"realtime\":false,\"pid\":\"385\",\"name\":\"영남일보\",\"logoLight\":{\"url\":\"https://s.pstatic.net/static/newsstand/2020/logo/light/0604/385.png\"},\"logoDark\":{\"url\":\"https://s.pstatic.net/static/newsstand/2020/logo/dark/0604/385.png\"},\"showThumbnailView\":true,\"showListView\":true,\"regDate\":\"20250819 10:30:04\",\"_id\":null,\"@type\":\"PC-NEWSSTAND-PRESS-BLOCK\",\"@code\":null,\"@template\":\"NONE\",\"@flowId\":null,\"@flowExecutionId\":null,\"@provider\":null,\"@lastModifiedAt\":null},{\"@type\":\"PC-NEWSSTAND-PRESS-BLOCK\",\"blocks\":null,\"materials\":null,\"excludeInPaging\":false,\"positionForPaging\":0,\"realtime\":false,\"pid\":\"023\",\"name\":\"조선일보\",\"logoLight\":{\"url\":\"https://s.pstatic.net/static/newsstand/up/2025/0418/nsd181012156.png\"},\"logoDark\":{\"url\":\"https://s.pstatic.net/static/newsstand/up/2025/0418/nsd181024126.png\"},\"showThumbnailView\":true,\"showListView\":true,\"regDate\":\"20250819 16:04:53\",\"_id\":null,\"@type\":\"PC-NEWSSTAND-PRESS-BLOCK\",\"@code\":null,\"@template\":\"NONE\",\"@flowId\":null,\"@flowExecutionId\":null,\"@provider\":null,\"@lastModifiedAt\":null},{\"@type\":\"PC-NEWSSTAND-PRESS-BLOCK\",\"blocks\":null,\"materials\":null,\"excludeInPaging\":false,\"positionForPaging\":0,\"realtime\":false,\"pid\":\"144\",\"name\":\"스포츠경향\",\"logoLight\":{\"url\":\"https://s.pstatic.net/static/newsstand/2020/logo/light/0604/144.png\"},\"logoDark\":{\"url\":\"https://s.pstatic.net/static/newsstand/2020/logo/dark/0604/144.png\"},\"showThumbnailView\":true,\"showListView\":true,\"regDate\":\"20250819 15:36:56\",\"_id\":null,\"@type\":\"PC-NEWSSTAND-PRESS-BLOCK\",\"@code\":null,\"@template\":\"NONE\",\"@flowId\":null,\"@flowExecutionId\":null,\"@provider\":null,\"@lastModifiedAt\":null},{\"@type\":\"PC-NEWSSTAND-PRESS-BLOCK\",\"blocks\":null,\"materials\":null,\"excludeInPaging\":false,\"positionForPaging\":0,\"realtime\":false,\"pid\":\"024\",\"name\":\"매경이코노미\",\"logoLight\":{\"url\":\"https://s.pstatic.net/static/newsstand/up/2025/0418/nsd173440524.png\"},\"logoDark\":{\"url\":\"https://s.pstatic.net/static/newsstand/up/2025/0418/nsd17345250.png\"},\"showThumbnailView\":true,\"showListView\":true,\"regDate\":\"20250819 16:20:01\",\"_id\":null,\"@type\":\"PC-NEWSSTAND-PRESS-BLOCK\",\"@code\":null,\"@template\":\"NONE\",\"@flowId\":null,\"@flowExecutionId\":null,\"@provider\":null,\"@lastModifiedAt\":null},{\"@type\":\"PC-NEWSSTAND-PRESS-BLOCK\",\"blocks\":null,\"materials\":null,\"excludeInPaging\":false,\"positionForPaging\":0,\"realtime\":false,\"pid\":\"387\",\"name\":\"인천일보\",\"logoLight\":{\"url\":\"https://s.pstatic.net/static/newsstand/up/2022/0331/nsd155937506.png\"},\"logoDark\":{\"url\":\"https://s.pstatic.net/static/newsstand/up/2022/0331/nsd15594915.png\"},\"showThumbnailView\":true,\"showListView\":true,\"regDate\":\"20250819 16:10:04\",\"_id\":null,\"@type\":\"PC-NEWSSTAND-PRESS-BLOCK\",\"@code\":null,\"@template\":\"NONE\",\"@flowId\":null,\"@flowExecutionId\":null,\"@provider\":null,\"@lastModifiedAt\":null},{\"@type\":\"PC-NEWSSTAND-PRESS-BLOCK\",\"blocks\":null,\"materials\":null,\"excludeInPaging\":false,\"positionForPaging\":0,\"realtime\":false,\"pid\":\"025\",\"name\":\"중앙일보\",\"logoLight\":{\"url\":\"https://s.pstatic.net/static/newsstand/up/2025/0418/nsd181542864.png\"},\"logoDark\":{\"url\":\"https://s.pstatic.net/static/newsstand/up/2025/0418/nsd181556674.png\"},\"showThumbnailView\":true,\"showListView\":true,\"regDate\":\"20250819 16:07:42\",\"_id\":null,\"@type\":\"PC-NEWSSTAND-PRESS-BLOCK\",\"@code\":null,\"@template\":\"NONE\",\"@flowId\":null,\"@flowExecutionId\":null,\"@provider\":null,\"@lastModifiedAt\":null},{\"@type\":\"PC-NEWSSTAND-PRESS-BLOCK\",\"blocks\":null,\"materials\":null,\"excludeInPaging\":false,\"positionForPaging\":0,\"realtime\":false,\"pid\":\"388\",\"name\":\"전남일보\",\"logoLight\":{\"url\":\"https://s.pstatic.net/static/newsstand/2020/logo/light/0604/388.png\"},\"logoDark\":{\"url\":\"https://s.pstatic.net/static/newsstand/2020/logo/dark/0604/388.png\"},\"showThumbnailView\":true,\"showListView\":true,\"regDate\":\"20250819 16:11:17\",\"_id\":null,\"@type\":\"PC-NEWSSTAND-PRESS-BLOCK\",\"@code\":null,\"@template\":\"NONE\",\"@flowId\":null,\"@flowExecutionId\":null,\"@provider\":null,\"@lastModifiedAt\":null},{\"@type\":\"PC-NEWSSTAND-PRESS-BLOCK\",\"blocks\":null,\"materials\":null,\"excludeInPaging\":false,\"positionForPaging\":0,\"realtime\":false,\"pid\":\"389\",\"name\":\"제주도민일보\",\"logoLight\":{\"url\":\"https://s.pstatic.net/static/newsstand/2020/logo/light/0604/389.png\"},\"logoDark\":{\"url\":\"https://s.pstatic.net/static/newsstand/2020/logo/dark/0604/389.png\"},\"showThumbnailView\":true,\"showListView\":true,\"regDate\":\"20250819 16:10:40\",\"_id\":null,\"@type\":\"PC-NEWSSTAND-PRESS-BLOCK\",\"@code\":null,\"@template\":\"NONE\",\"@flowId\":null,\"@flowExecutionId\":null,\"@provider\":null,\"@lastModifiedAt\":null},{\"@type\":\"PC-NEWSSTAND-PRESS-BLOCK\",\"blocks\":null,\"materials\":null,\"excludeInPaging\":false,\"positionForPaging\":0,\"realtime\":false,\"pid\":\"940\",\"name\":\"스포츠투데이\",\"logoLight\":{\"url\":\"https://s.pstatic.net/static/newsstand/up/2022/0328/nsd223244325.png\"},\"logoDark\":{\"url\":\"https://s.pstatic.net/static/newsstand/up/2022/0328/nsd223257107.png\"},\"showThumbnailView\":true,\"showListView\":true,\"regDate\":\"20250819 16:10:01\",\"_id\":null,\"@type\":\"PC-NEWSSTAND-PRESS-BLOCK\",\"@code\":null,\"@template\":\"NONE\",\"@flowId\":null,\"@flowExecutionId\":null,\"@provider\":null,\"@lastModifiedAt\":null},{\"@type\":\"PC-NEWSSTAND-PRESS-BLOCK\",\"blocks\":null,\"materials\":null,\"excludeInPaging\":false,\"positionForPaging\":0,\"realtime\":false,\"pid\":\"028\",\"name\":\"한겨레\",\"logoLight\":{\"url\":\"https://s.pstatic.net/static/newsstand/up/2025/0418/nsd182533332.png\"},\"logoDark\":{\"url\":\"https://s.pstatic.net/static/newsstand/up/2025/0418/nsd182547177.png\"},\"showThumbnailView\":true,\"showListView\":true,\"regDate\":\"20250819 16:13:32\",\"_id\":null,\"@type\":\"PC-NEWSSTAND-PRESS-BLOCK\",\"@code\":null,\"@template\":\"NONE\",\"@flowId\":null,\"@flowExecutionId\":null,\"@provider\":null,\"@lastModifiedAt\":null},{\"@type\":\"PC-NEWSSTAND-PRESS-BLOCK\",\"blocks\":null,\"materials\":null,\"excludeInPaging\":false,\"positionForPaging\":0,\"realtime\":false,\"pid\":\"820\",\"name\":\"월간노동법률\",\"logoLight\":{\"url\":\"https://s.pstatic.net/static/newsstand/up/2022/0817/nsd14480190.png\"},\"logoDark\":{\"url\":\"https://s.pstatic.net/static/newsstand/up/2022/0817/nsd144754102.png\"},\"showThumbnailView\":true,\"showListView\":true,\"regDate\":\"20250819 12:20:21\",\"_id\":null,\"@type\":\"PC-NEWSSTAND-PRESS-BLOCK\",\"@code\":null,\"@template\":\"NONE\",\"@flowId\":null,\"@flowExecutionId\":null,\"@provider\":null,\"@lastModifiedAt\":null},{\"@type\":\"PC-NEWSSTAND-PRESS-BLOCK\",\"blocks\":null,\"materials\":null,\"excludeInPaging\":false,\"positionForPaging\":0,\"realtime\":false,\"pid\":\"941\",\"name\":\"초이스경제\",\"logoLight\":{\"url\":\"https://s.pstatic.net/static/newsstand/2020/logo/light/0604/941.png\"},\"logoDark\":{\"url\":\"https://s.pstatic.net/static/newsstand/2020/logo/dark/0604/941.png\"},\"showThumbnailView\":true,\"showListView\":true,\"regDate\":\"20250819 15:25:01\",\"_id\":null,\"@type\":\"PC-NEWSSTAND-PRESS-BLOCK\",\"@code\":null,\"@template\":\"NONE\",\"@flowId\":null,\"@flowExecutionId\":null,\"@provider\":null,\"@lastModifiedAt\":null},{\"@type\":\"PC-NEWSSTAND-PRESS-BLOCK\",\"blocks\":null,\"materials\":null,\"excludeInPaging\":false,\"positionForPaging\":0,\"realtime\":false,\"pid\":\"029\",\"name\":\"디지털타임스\",\"logoLight\":{\"url\":\"https://s.pstatic.net/static/newsstand/up/2025/0418/nsd173331727.png\"},\"logoDark\":{\"url\":\"https://s.pstatic.net/static/newsstand/up/2025/0418/nsd173347174.png\"},\"showThumbnailView\":true,\"showListView\":true,\"regDate\":\"20250819 16:21:40\",\"_id\":null,\"@type\":\"PC-NEWSSTAND-PRESS-BLOCK\",\"@code\":null,\"@template\":\"NONE\",\"@flowId\":null,\"@flowExecutionId\":null,\"@provider\":null,\"@lastModifiedAt\":null},{\"@type\":\"PC-NEWSSTAND-PRESS-BLOCK\",\"blocks\":null,\"materials\":null,\"excludeInPaging\":false,\"positionForPaging\":0,\"realtime\":false,\"pid\":\"821\",\"name\":\"경남도민일보\",\"logoLight\":{\"url\":\"https://s.pstatic.net/static/newsstand/2020/logo/light/0604/821.png\"},\"logoDark\":{\"url\":\"https://s.pstatic.net/static/newsstand/2020/logo/dark/0604/821.png\"},\"showThumbnailView\":true,\"showListView\":true,\"regDate\":\"20250819 16:10:31\",\"_id\":null,\"@type\":\"PC-NEWSSTAND-PRESS-BLOCK\",\"@code\":null,\"@template\":\"NONE\",\"@flowId\":null,\"@flowExecutionId\":null,\"@provider\":null,\"@lastModifiedAt\":null},{\"@type\":\"PC-NEWSSTAND-PRESS-BLOCK\",\"blocks\":null,\"materials\":null,\"excludeInPaging\":false,\"positionForPaging\":0,\"realtime\":false,\"pid\":\"942\",\"name\":\"비즈니스포스트\",\"logoLight\":{\"url\":\"https://s.pstatic.net/static/newsstand/2020/logo/light/0604/942.png\"},\"logoDark\":{\"url\":\"https://s.pstatic.net/static/newsstand/2020/logo/dark/0604/942.png\"},\"showThumbnailView\":true,\"showListView\":true,\"regDate\":\"20250819 15:30:51\",\"_id\":null,\"@type\":\"PC-NEWSSTAND-PRESS-BLOCK\",\"@code\":null,\"@template\":\"NONE\",\"@flowId\":null,\"@flowExecutionId\":null,\"@provider\":null,\"@lastModifiedAt\":null},{\"@type\":\"PC-NEWSSTAND-PRESS-BLOCK\",\"blocks\":null,\"materials\":null,\"excludeInPaging\":false,\"positionForPaging\":0,\"realtime\":false,\"pid\":\"822\",\"name\":\"프라임경제\",\"logoLight\":{\"url\":\"https://s.pstatic.net/static/newsstand/up/2020/0730/nsd13728808.png\"},\"logoDark\":{\"url\":\"https://s.pstatic.net/static/newsstand/up/2020/0730/nsd13719939.png\"},\"showThumbnailView\":true,\"showListView\":true,\"regDate\":\"20250819 16:15:04\",\"_id\":null,\"@type\":\"PC-NEWSSTAND-PRESS-BLOCK\",\"@code\":null,\"@template\":\"NONE\",\"@flowId\":null,\"@flowExecutionId\":null,\"@provider\":null,\"@lastModifiedAt\":null},{\"@type\":\"PC-NEWSSTAND-PRESS-BLOCK\",\"blocks\":null,\"materials\":null,\"excludeInPaging\":false,\"positionForPaging\":0,\"realtime\":false,\"pid\":\"943\",\"name\":\"비즈워치\",\"logoLight\":{\"url\":\"https://s.pstatic.net/static/newsstand/up/2025/0418/nsd174454995.png\"},\"logoDark\":{\"url\":\"https://s.pstatic.net/static/newsstand/up/2025/0418/nsd17459528.png\"},\"showThumbnailView\":true,\"showListView\":true,\"regDate\":\"20250819 16:00:37\",\"_id\":null,\"@type\":\"PC-NEWSSTAND-PRESS-BLOCK\",\"@code\":null,\"@template\":\"NONE\",\"@flowId\":null,\"@flowExecutionId\":null,\"@provider\":null,\"@lastModifiedAt\":null},{\"@type\":\"PC-NEWSSTAND-PRESS-BLOCK\",\"blocks\":null,\"materials\":null,\"excludeInPaging\":false,\"positionForPaging\":0,\"realtime\":false,\"pid\":\"823\",\"name\":\"KPI뉴스\",\"logoLight\":{\"url\":\"https://s.pstatic.net/static/newsstand/up/2024/1101/nsd102910563.png\"},\"logoDark\":{\"url\":\"https://s.pstatic.net/static/newsstand/up/2024/1101/nsd10293597.png\"},\"showThumbnailView\":true,\"showListView\":true,\"regDate\":\"20250819 10:20:24\",\"_id\":null,\"@type\":\"PC-NEWSSTAND-PRESS-BLOCK\",\"@code\":null,\"@template\":\"NONE\",\"@flowId\":null,\"@flowExecutionId\":null,\"@provider\":null,\"@lastModifiedAt\":null},{\"@type\":\"PC-NEWSSTAND-PRESS-BLOCK\",\"blocks\":null,\"materials\":null,\"excludeInPaging\":false,\"positionForPaging\":0,\"realtime\":false,\"pid\":\"944\",\"name\":\"나우뉴스\",\"logoLight\":{\"url\":\"https://s.pstatic.net/static/newsstand/up/2022/0804/nsd1343054.png\"},\"logoDark\":{\"url\":\"https://s.pstatic.net/static/newsstand/up/2022/0804/nsd13457540.png\"},\"showThumbnailView\":true,\"showListView\":true,\"regDate\":\"20250819 08:51:09\",\"_id\":null,\"@type\":\"PC-NEWSSTAND-PRESS-BLOCK\",\"@code\":null,\"@template\":\"NONE\",\"@flowId\":null,\"@flowExecutionId\":null,\"@provider\":null,\"@lastModifiedAt\":null},{\"@type\":\"PC-NEWSSTAND-PRESS-BLOCK\",\"blocks\":null,\"materials\":null,\"excludeInPaging\":false,\"positionForPaging\":0,\"realtime\":false,\"pid\":\"824\",\"name\":\"서울파이낸스\",\"logoLight\":{\"url\":\"https://s.pstatic.net/static/newsstand/2020/logo/light/0604/824.png\"},\"logoDark\":{\"url\":\"https://s.pstatic.net/static/newsstand/2020/logo/dark/0604/824.png\"},\"showThumbnailView\":true,\"showListView\":true,\"regDate\":\"20250819 16:10:32\",\"_id\":null,\"@type\":\"PC-NEWSSTAND-PRESS-BLOCK\",\"@code\":null,\"@template\":\"NONE\",\"@flowId\":null,\"@flowExecutionId\":null,\"@provider\":null,\"@lastModifiedAt\":null},{\"@type\":\"PC-NEWSSTAND-PRESS-BLOCK\",\"blocks\":null,\"materials\":null,\"excludeInPaging\":false,\"positionForPaging\":0,\"realtime\":false,\"pid\":\"945\",\"name\":\"YTN사이언스\",\"logoLight\":{\"url\":\"https://s.pstatic.net/static/newsstand/up/2020/0922/nsd152336602.png\"},\"logoDark\":{\"url\":\"https://s.pstatic.net/static/newsstand/up/2020/0922/nsd152323211.png\"},\"showThumbnailView\":true,\"showListView\":true,\"regDate\":\"20250819 16:20:00\",\"_id\":null,\"@type\":\"PC-NEWSSTAND-PRESS-BLOCK\",\"@code\":null,\"@template\":\"NONE\",\"@flowId\":null,\"@flowExecutionId\":null,\"@provider\":null,\"@lastModifiedAt\":null},{\"@type\":\"PC-NEWSSTAND-PRESS-BLOCK\",\"blocks\":null,\"materials\":null,\"excludeInPaging\":false,\"positionForPaging\":0,\"realtime\":false,\"pid\":\"825\",\"name\":\"이로운넷\",\"logoLight\":{\"url\":\"https://s.pstatic.net/static/newsstand/2020/logo/light/0604/825.png\"},\"logoDark\":{\"url\":\"https://s.pstatic.net/static/newsstand/2020/logo/dark/0604/825.png\"},\"showThumbnailView\":true,\"showListView\":true,\"regDate\":\"20250819 16:10:34\",\"_id\":null,\"@type\":\"PC-NEWSSTAND-PRESS-BLOCK\",\"@code\":null,\"@template\":\"NONE\",\"@flowId\":null,\"@flowExecutionId\":null,\"@provider\":null,\"@lastModifiedAt\":null},{\"@type\":\"PC-NEWSSTAND-PRESS-BLOCK\",\"blocks\":null,\"materials\":null,\"excludeInPaging\":false,\"positionForPaging\":0,\"realtime\":false,\"pid\":\"946\",\"name\":\"YONHAPNEWS\",\"logoLight\":{\"url\":\"https://s.pstatic.net/static/newsstand/2020/logo/light/0604/946.png\"},\"logoDark\":{\"url\":\"https://s.pstatic.net/static/newsstand/2020/logo/dark/0604/946.png\"},\"showThumbnailView\":true,\"showListView\":true,\"regDate\":\"20250819 16:12:16\",\"_id\":null,\"@type\":\"PC-NEWSSTAND-PRESS-BLOCK\",\"@code\":null,\"@template\":\"NONE\",\"@flowId\":null,\"@flowExecutionId\":null,\"@provider\":null,\"@lastModifiedAt\":null},{\"@type\":\"PC-NEWSSTAND-PRESS-BLOCK\",\"blocks\":null,\"materials\":null,\"excludeInPaging\":false,\"positionForPaging\":0,\"realtime\":false,\"pid\":\"826\",\"name\":\"톱데일리\",\"logoLight\":{\"url\":\"https://s.pstatic.net/static/newsstand/up/2022/0817/nsd14491516.png\"},\"logoDark\":{\"url\":\"https://s.pstatic.net/static/newsstand/up/2022/0817/nsd14499446.png\"},\"showThumbnailView\":true,\"showListView\":true,\"regDate\":\"20250819 16:10:14\",\"_id\":null,\"@type\":\"PC-NEWSSTAND-PRESS-BLOCK\",\"@code\":null,\"@template\":\"NONE\",\"@flowId\":null,\"@flowExecutionId\":null,\"@provider\":null,\"@lastModifiedAt\":null},{\"@type\":\"PC-NEWSSTAND-PRESS-BLOCK\",\"blocks\":null,\"materials\":null,\"excludeInPaging\":false,\"positionForPaging\":0,\"realtime\":false,\"pid\":\"947\",\"name\":\"조이뉴스24\",\"logoLight\":{\"url\":\"https://s.pstatic.net/static/newsstand/2020/logo/light/0604/947.png\"},\"logoDark\":{\"url\":\"https://s.pstatic.net/static/newsstand/2020/logo/dark/0604/947.png\"},\"showThumbnailView\":true,\"showListView\":true,\"regDate\":\"20250819 16:05:37\",\"_id\":null,\"@type\":\"PC-NEWSSTAND-PRESS-BLOCK\",\"@code\":null,\"@template\":\"NONE\",\"@flowId\":null,\"@flowExecutionId\":null,\"@provider\":null,\"@lastModifiedAt\":null},{\"@type\":\"PC-NEWSSTAND-PRESS-BLOCK\",\"blocks\":null,\"materials\":null,\"excludeInPaging\":false,\"positionForPaging\":0,\"realtime\":false,\"pid\":\"827\",\"name\":\"베이비뉴스\",\"logoLight\":{\"url\":\"https://s.pstatic.net/static/newsstand/up/2021/0222/nsd13325188.png\"},\"logoDark\":{\"url\":\"https://s.pstatic.net/static/newsstand/up/2021/0222/nsd13338358.png\"},\"showThumbnailView\":true,\"showListView\":true,\"regDate\":\"20250819 16:10:41\",\"_id\":null,\"@type\":\"PC-NEWSSTAND-PRESS-BLOCK\",\"@code\":null,\"@template\":\"NONE\",\"@flowId\":null,\"@flowExecutionId\":null,\"@provider\":null,\"@lastModifiedAt\":null},{\"@type\":\"PC-NEWSSTAND-PRESS-BLOCK\",\"blocks\":null,\"materials\":null,\"excludeInPaging\":false,\"positionForPaging\":0,\"realtime\":false,\"pid\":\"948\",\"name\":\"한겨레21\",\"logoLight\":{\"url\":\"https://s.pstatic.net/static/newsstand/up/2025/0418/nsd182645116.png\"},\"logoDark\":{\"url\":\"https://s.pstatic.net/static/newsstand/up/2025/0418/nsd182657747.png\"},\"showThumbnailView\":true,\"showListView\":true,\"regDate\":\"20250819 11:28:53\",\"_id\":null,\"@type\":\"PC-NEWSSTAND-PRESS-BLOCK\",\"@code\":null,\"@template\":\"NONE\",\"@flowId\":null,\"@flowExecutionId\":null,\"@provider\":null,\"@lastModifiedAt\":null},{\"@type\":\"PC-NEWSSTAND-PRESS-BLOCK\",\"blocks\":null,\"materials\":null,\"excludeInPaging\":false,\"positionForPaging\":0,\"realtime\":false,\"pid\":\"828\",\"name\":\"식품저널 foodnews\",\"logoLight\":{\"url\":\"https://s.pstatic.net/static/newsstand/up/2021/0211/nsd0427277.png\"},\"logoDark\":{\"url\":\"https://s.pstatic.net/static/newsstand/up/2021/0211/nsd0439284.png\"},\"showThumbnailView\":true,\"showListView\":true,\"regDate\":\"20250819 16:20:35\",\"_id\":null,\"@type\":\"PC-NEWSSTAND-PRESS-BLOCK\",\"@code\":null,\"@template\":\"NONE\",\"@flowId\":null,\"@flowExecutionId\":null,\"@provider\":null,\"@lastModifiedAt\":null},{\"@type\":\"PC-NEWSSTAND-PRESS-BLOCK\",\"blocks\":null,\"materials\":null,\"excludeInPaging\":false,\"positionForPaging\":0,\"realtime\":false,\"pid\":\"829\",\"name\":\"미디어스\",\"logoLight\":{\"url\":\"https://s.pstatic.net/static/newsstand/up/2021/0211/nsd01153196.png\"},\"logoDark\":{\"url\":\"https://s.pstatic.net/static/newsstand/up/2021/0211/nsd01153196.png\"},\"showThumbnailView\":true,\"showListView\":true,\"regDate\":\"20250819 16:10:47\",\"_id\":null,\"@type\":\"PC-NEWSSTAND-PRESS-BLOCK\",\"@code\":null,\"@template\":\"NONE\",\"@flowId\":null,\"@flowExecutionId\":null,\"@provider\":null,\"@lastModifiedAt\":null},{\"@type\":\"PC-NEWSSTAND-PRESS-BLOCK\",\"blocks\":null,\"materials\":null,\"excludeInPaging\":false,\"positionForPaging\":0,\"realtime\":false,\"pid\":\"391\",\"name\":\"충청일보\",\"logoLight\":{\"url\":\"https://s.pstatic.net/static/newsstand/2020/logo/light/0604/391.png\"},\"logoDark\":{\"url\":\"https://s.pstatic.net/static/newsstand/2020/logo/dark/0604/391.png\"},\"showThumbnailView\":true,\"showListView\":true,\"regDate\":\"20250818 22:57:50\",\"_id\":null,\"@type\":\"PC-NEWSSTAND-PRESS-BLOCK\",\"@code\":null,\"@template\":\"NONE\",\"@flowId\":null,\"@flowExecutionId\":null,\"@provider\":null,\"@lastModifiedAt\":null},{\"@type\":\"PC-NEWSSTAND-PRESS-BLOCK\",\"blocks\":null,\"materials\":null,\"excludeInPaging\":false,\"positionForPaging\":0,\"realtime\":false,\"pid\":\"030\",\"name\":\"전자신문\",\"logoLight\":{\"url\":\"https://s.pstatic.net/static/newsstand/up/2025/0418/nsd1884140.png\"},\"logoDark\":{\"url\":\"https://s.pstatic.net/static/newsstand/up/2025/0418/nsd18815657.png\"},\"showThumbnailView\":true,\"showListView\":true,\"regDate\":\"20250819 16:10:18\",\"_id\":null,\"@type\":\"PC-NEWSSTAND-PRESS-BLOCK\",\"@code\":null,\"@template\":\"NONE\",\"@flowId\":null,\"@flowExecutionId\":null,\"@provider\":null,\"@lastModifiedAt\":null},{\"@type\":\"PC-NEWSSTAND-PRESS-BLOCK\",\"blocks\":null,\"materials\":null,\"excludeInPaging\":false,\"positionForPaging\":0,\"realtime\":false,\"pid\":\"031\",\"name\":\"아이뉴스24\",\"logoLight\":{\"url\":\"https://s.pstatic.net/static/newsstand/up/2025/0418/nsd18025837.png\"},\"logoDark\":{\"url\":\"https://s.pstatic.net/static/newsstand/up/2025/0418/nsd18039590.png\"},\"showThumbnailView\":true,\"showListView\":true,\"regDate\":\"20250819 15:55:12\",\"_id\":null,\"@type\":\"PC-NEWSSTAND-PRESS-BLOCK\",\"@code\":null,\"@template\":\"NONE\",\"@flowId\":null,\"@flowExecutionId\":null,\"@provider\":null,\"@lastModifiedAt\":null},{\"@type\":\"PC-NEWSSTAND-PRESS-BLOCK\",\"blocks\":null,\"materials\":null,\"excludeInPaging\":false,\"positionForPaging\":0,\"realtime\":false,\"pid\":\"032\",\"name\":\"경향신문\",\"logoLight\":{\"url\":\"https://s.pstatic.net/static/newsstand/up/2025/0418/nsd16545193.png\"},\"logoDark\":{\"url\":\"https://s.pstatic.net/static/newsstand/up/2025/0418/nsd165423235.png\"},\"showThumbnailView\":true,\"showListView\":true,\"regDate\":\"20250819 16:14:30\",\"_id\":null,\"@type\":\"PC-NEWSSTAND-PRESS-BLOCK\",\"@code\":null,\"@template\":\"NONE\",\"@flowId\":null,\"@flowExecutionId\":null,\"@provider\":null,\"@lastModifiedAt\":null},{\"@type\":\"PC-NEWSSTAND-PRESS-BLOCK\",\"blocks\":null,\"materials\":null,\"excludeInPaging\":false,\"positionForPaging\":0,\"realtime\":false,\"pid\":\"396\",\"name\":\"스포츠월드\",\"logoLight\":{\"url\":\"https://s.pstatic.net/static/newsstand/2020/logo/light/0604/396.png\"},\"logoDark\":{\"url\":\"https://s.pstatic.net/static/newsstand/2020/logo/dark/0604/396.png\"},\"showThumbnailView\":true,\"showListView\":true,\"regDate\":\"20250819 15:04:35\",\"_id\":null,\"@type\":\"PC-NEWSSTAND-PRESS-BLOCK\",\"@code\":null,\"@template\":\"NONE\",\"@flowId\":null,\"@flowExecutionId\":null,\"@provider\":null,\"@lastModifiedAt\":null},{\"@type\":\"PC-NEWSSTAND-PRESS-BLOCK\",\"blocks\":null,\"materials\":null,\"excludeInPaging\":false,\"positionForPaging\":0,\"realtime\":false,\"pid\":\"277\",\"name\":\"아시아경제\",\"logoLight\":{\"url\":\"https://s.pstatic.net/static/newsstand/up/2025/0418/nsd175927519.png\"},\"logoDark\":{\"url\":\"https://s.pstatic.net/static/newsstand/up/2025/0418/nsd175939310.png\"},\"showThumbnailView\":true,\"showListView\":true,\"regDate\":\"20250819 15:59:45\",\"_id\":null,\"@type\":\"PC-NEWSSTAND-PRESS-BLOCK\",\"@code\":null,\"@template\":\"NONE\",\"@flowId\":null,\"@flowExecutionId\":null,\"@provider\":null,\"@lastModifiedAt\":null},{\"@type\":\"PC-NEWSSTAND-PRESS-BLOCK\",\"blocks\":null,\"materials\":null,\"excludeInPaging\":false,\"positionForPaging\":0,\"realtime\":false,\"pid\":\"950\",\"name\":\"월간중앙\",\"logoLight\":{\"url\":\"https://s.pstatic.net/static/newsstand/up/2024/1015/nsd144951657.png\"},\"logoDark\":{\"url\":\"https://s.pstatic.net/static/newsstand/up/2024/1015/nsd14509252.png\"},\"showThumbnailView\":true,\"showListView\":true,\"regDate\":\"20250819 16:11:15\",\"_id\":null,\"@type\":\"PC-NEWSSTAND-PRESS-BLOCK\",\"@code\":null,\"@template\":\"NONE\",\"@flowId\":null,\"@flowExecutionId\":null,\"@provider\":null,\"@lastModifiedAt\":null},{\"@type\":\"PC-NEWSSTAND-PRESS-BLOCK\",\"blocks\":null,\"materials\":null,\"excludeInPaging\":false,\"positionForPaging\":0,\"realtime\":false,\"pid\":\"038\",\"name\":\"한국일보\",\"logoLight\":{\"url\":\"https://s.pstatic.net/static/newsstand/up/2025/0418/nsd183051314.png\"},\"logoDark\":{\"url\":\"https://s.pstatic.net/static/newsstand/up/2025/0418/nsd18312532.png\"},\"showThumbnailView\":true,\"showListView\":true,\"regDate\":\"20250819 16:14:46\",\"_id\":null,\"@type\":\"PC-NEWSSTAND-PRESS-BLOCK\",\"@code\":null,\"@template\":\"NONE\",\"@flowId\":null,\"@flowExecutionId\":null,\"@provider\":null,\"@lastModifiedAt\":null},{\"@type\":\"PC-NEWSSTAND-PRESS-BLOCK\",\"blocks\":null,\"materials\":null,\"excludeInPaging\":false,\"positionForPaging\":0,\"realtime\":false,\"pid\":\"830\",\"name\":\"게임동아\",\"logoLight\":{\"url\":\"https://s.pstatic.net/static/newsstand/up/2021/0211/nsd02321523.png\"},\"logoDark\":{\"url\":\"https://s.pstatic.net/static/newsstand/up/2021/0211/nsd02332888.png\"},\"showThumbnailView\":true,\"showListView\":true,\"regDate\":\"20250819 16:10:33\",\"_id\":null,\"@type\":\"PC-NEWSSTAND-PRESS-BLOCK\",\"@code\":null,\"@template\":\"NONE\",\"@flowId\":null,\"@flowExecutionId\":null,\"@provider\":null,\"@lastModifiedAt\":null},{\"@type\":\"PC-NEWSSTAND-PRESS-BLOCK\",\"blocks\":null,\"materials\":null,\"excludeInPaging\":false,\"positionForPaging\":0,\"realtime\":false,\"pid\":\"951\",\"name\":\"포브스코리아\",\"logoLight\":{\"url\":\"https://s.pstatic.net/static/newsstand/up/2025/0219/nsd122730866.png\"},\"logoDark\":{\"url\":\"https://s.pstatic.net/static/newsstand/up/2025/0219/nsd122750849.png\"},\"showThumbnailView\":true,\"showListView\":true,\"regDate\":\"20250819 16:11:16\",\"_id\":null,\"@type\":\"PC-NEWSSTAND-PRESS-BLOCK\",\"@code\":null,\"@template\":\"NONE\",\"@flowId\":null,\"@flowExecutionId\":null,\"@provider\":null,\"@lastModifiedAt\":null},{\"@type\":\"PC-NEWSSTAND-PRESS-BLOCK\",\"blocks\":null,\"materials\":null,\"excludeInPaging\":false,\"positionForPaging\":0,\"realtime\":false,\"pid\":\"952\",\"name\":\"보안뉴스\",\"logoLight\":{\"url\":\"https://s.pstatic.net/static/newsstand/2020/logo/light/0604/952.png\"},\"logoDark\":{\"url\":\"https://s.pstatic.net/static/newsstand/2020/logo/dark/0604/952.png\"},\"showThumbnailView\":true,\"showListView\":true,\"regDate\":\"20250819 13:17:00\",\"_id\":null,\"@type\":\"PC-NEWSSTAND-PRESS-BLOCK\",\"@code\":null,\"@template\":\"NONE\",\"@flowId\":null,\"@flowExecutionId\":null,\"@provider\":null,\"@lastModifiedAt\":null},{\"@type\":\"PC-NEWSSTAND-PRESS-BLOCK\",\"blocks\":null,\"materials\":null,\"excludeInPaging\":false,\"positionForPaging\":0,\"realtime\":false,\"pid\":\"953\",\"name\":\"디지털투데이\",\"logoLight\":{\"url\":\"https://s.pstatic.net/static/newsstand/2020/logo/light/0604/953.png\"},\"logoDark\":{\"url\":\"https://s.pstatic.net/static/newsstand/2020/logo/dark/0604/953.png\"},\"showThumbnailView\":true,\"showListView\":true,\"regDate\":\"20250819 16:00:02\",\"_id\":null,\"@type\":\"PC-NEWSSTAND-PRESS-BLOCK\",\"@code\":null,\"@template\":\"NONE\",\"@flowId\":null,\"@flowExecutionId\":null,\"@provider\":null,\"@lastModifiedAt\":null},{\"@type\":\"PC-NEWSSTAND-PRESS-BLOCK\",\"blocks\":null,\"materials\":null,\"excludeInPaging\":false,\"positionForPaging\":0,\"realtime\":false,\"pid\":\"954\",\"name\":\"CNB뉴스\",\"logoLight\":{\"url\":\"https://s.pstatic.net/static/newsstand/2020/logo/light/0604/954.png\"},\"logoDark\":{\"url\":\"https://s.pstatic.net/static/newsstand/2020/logo/dark/0604/954.png\"},\"showThumbnailView\":true,\"showListView\":true,\"regDate\":\"20250819 16:10:02\",\"_id\":null,\"@type\":\"PC-NEWSSTAND-PRESS-BLOCK\",\"@code\":null,\"@template\":\"NONE\",\"@flowId\":null,\"@flowExecutionId\":null,\"@provider\":null,\"@lastModifiedAt\":null},{\"@type\":\"PC-NEWSSTAND-PRESS-BLOCK\",\"blocks\":null,\"materials\":null,\"excludeInPaging\":false,\"positionForPaging\":0,\"realtime\":false,\"pid\":\"955\",\"name\":\"독서신문\",\"logoLight\":{\"url\":\"https://s.pstatic.net/static/newsstand/2020/logo/light/0604/955.png\"},\"logoDark\":{\"url\":\"https://s.pstatic.net/static/newsstand/2020/logo/dark/0604/955.png\"},\"showThumbnailView\":true,\"showListView\":true,\"regDate\":\"20250819 16:10:05\",\"_id\":null,\"@type\":\"PC-NEWSSTAND-PRESS-BLOCK\",\"@code\":null,\"@template\":\"NONE\",\"@flowId\":null,\"@flowExecutionId\":null,\"@provider\":null,\"@lastModifiedAt\":null},{\"@type\":\"PC-NEWSSTAND-PRESS-BLOCK\",\"blocks\":null,\"materials\":null,\"excludeInPaging\":false,\"positionForPaging\":0,\"realtime\":false,\"pid\":\"956\",\"name\":\"철강금속신문\",\"logoLight\":{\"url\":\"https://s.pstatic.net/static/newsstand/2020/logo/light/0604/956.png\"},\"logoDark\":{\"url\":\"https://s.pstatic.net/static/newsstand/2020/logo/dark/0604/956.png\"},\"showThumbnailView\":true,\"showListView\":true,\"regDate\":\"20250819 16:10:04\",\"_id\":null,\"@type\":\"PC-NEWSSTAND-PRESS-BLOCK\",\"@code\":null,\"@template\":\"NONE\",\"@flowId\":null,\"@flowExecutionId\":null,\"@provider\":null,\"@lastModifiedAt\":null},{\"@type\":\"PC-NEWSSTAND-PRESS-BLOCK\",\"blocks\":null,\"materials\":null,\"excludeInPaging\":false,\"positionForPaging\":0,\"realtime\":false,\"pid\":\"957\",\"name\":\"시사위크\",\"logoLight\":{\"url\":\"https://s.pstatic.net/static/newsstand/2020/logo/light/0604/957.png\"},\"logoDark\":{\"url\":\"https://s.pstatic.net/static/newsstand/2020/logo/dark/0604/957.png\"},\"showThumbnailView\":true,\"showListView\":true,\"regDate\":\"20250819 15:32:00\",\"_id\":null,\"@type\":\"PC-NEWSSTAND-PRESS-BLOCK\",\"@code\":null,\"@template\":\"NONE\",\"@flowId\":null,\"@flowExecutionId\":null,\"@provider\":null,\"@lastModifiedAt\":null},{\"@type\":\"PC-NEWSSTAND-PRESS-BLOCK\",\"blocks\":null,\"materials\":null,\"excludeInPaging\":false,\"positionForPaging\":0,\"realtime\":false,\"pid\":\"958\",\"name\":\"베리타스알파\",\"logoLight\":{\"url\":\"https://s.pstatic.net/static/newsstand/up/2023/0826/nsd0145257.png\"},\"logoDark\":{\"url\":\"https://s.pstatic.net/static/newsstand/up/2023/0826/nsd0136682.png\"},\"showThumbnailView\":true,\"showListView\":true,\"regDate\":\"20250819 16:11:13\",\"_id\":null,\"@type\":\"PC-NEWSSTAND-PRESS-BLOCK\",\"@code\":null,\"@template\":\"NONE\",\"@flowId\":null,\"@flowExecutionId\":null,\"@provider\":null,\"@lastModifiedAt\":null},{\"@type\":\"PC-NEWSSTAND-PRESS-BLOCK\",\"blocks\":null,\"materials\":null,\"excludeInPaging\":false,\"positionForPaging\":0,\"realtime\":false,\"pid\":\"959\",\"name\":\"M이코노미뉴스\",\"logoLight\":{\"url\":\"https://s.pstatic.net/static/newsstand/up/2021/1221/nsd15292271.png\"},\"logoDark\":{\"url\":\"https://s.pstatic.net/static/newsstand/up/2021/1221/nsd171157172.png\"},\"showThumbnailView\":true,\"showListView\":true,\"regDate\":\"20250819 16:10:11\",\"_id\":null,\"@type\":\"PC-NEWSSTAND-PRESS-BLOCK\",\"@code\":null,\"@template\":\"NONE\",\"@flowId\":null,\"@flowExecutionId\":null,\"@provider\":null,\"@lastModifiedAt\":null},{\"@type\":\"PC-NEWSSTAND-PRESS-BLOCK\",\"blocks\":null,\"materials\":null,\"excludeInPaging\":false,\"positionForPaging\":0,\"realtime\":false,\"pid\":\"040\",\"name\":\"코리아타임스\",\"logoLight\":{\"url\":\"https://s.pstatic.net/static/newsstand/2020/logo/light/0604/040.png\"},\"logoDark\":{\"url\":\"https://s.pstatic.net/static/newsstand/2020/logo/dark/0604/040.png\"},\"showThumbnailView\":true,\"showListView\":true,\"regDate\":\"20250819 16:10:03\",\"_id\":null,\"@type\":\"PC-NEWSSTAND-PRESS-BLOCK\",\"@code\":null,\"@template\":\"NONE\",\"@flowId\":null,\"@flowExecutionId\":null,\"@provider\":null,\"@lastModifiedAt\":null},{\"@type\":\"PC-NEWSSTAND-PRESS-BLOCK\",\"blocks\":null,\"materials\":null,\"excludeInPaging\":false,\"positionForPaging\":0,\"realtime\":false,\"pid\":\"042\",\"name\":\"데일리한국\",\"logoLight\":{\"url\":\"https://s.pstatic.net/static/newsstand/2020/logo/light/0604/042.png\"},\"logoDark\":{\"url\":\"https://s.pstatic.net/static/newsstand/2020/logo/dark/0604/042.png\"},\"showThumbnailView\":true,\"showListView\":true,\"regDate\":\"20250819 16:10:44\",\"_id\":null,\"@type\":\"PC-NEWSSTAND-PRESS-BLOCK\",\"@code\":null,\"@template\":\"NONE\",\"@flowId\":null,\"@flowExecutionId\":null,\"@provider\":null,\"@lastModifiedAt\":null},{\"@type\":\"PC-NEWSSTAND-PRESS-BLOCK\",\"blocks\":null,\"materials\":null,\"excludeInPaging\":false,\"positionForPaging\":0,\"realtime\":false,\"pid\":\"044\",\"name\":\"코리아헤럴드\",\"logoLight\":{\"url\":\"https://s.pstatic.net/static/newsstand/up/2025/0418/nsd182116196.png\"},\"logoDark\":{\"url\":\"https://s.pstatic.net/static/newsstand/up/2025/0418/nsd182130812.png\"},\"showThumbnailView\":true,\"showListView\":true,\"regDate\":\"20250819 16:13:13\",\"_id\":null,\"@type\":\"PC-NEWSSTAND-PRESS-BLOCK\",\"@code\":null,\"@template\":\"NONE\",\"@flowId\":null,\"@flowExecutionId\":null,\"@provider\":null,\"@lastModifiedAt\":null},{\"@type\":\"PC-NEWSSTAND-PRESS-BLOCK\",\"blocks\":null,\"materials\":null,\"excludeInPaging\":false,\"positionForPaging\":0,\"realtime\":false,\"pid\":\"047\",\"name\":\"오마이뉴스\",\"logoLight\":{\"url\":\"https://s.pstatic.net/static/newsstand/up/2025/0418/nsd18344563.png\"},\"logoDark\":{\"url\":\"https://s.pstatic.net/static/newsstand/up/2025/0418/nsd18355852.png\"},\"showThumbnailView\":true,\"showListView\":true,\"regDate\":\"20250819 15:55:16\",\"_id\":null,\"@type\":\"PC-NEWSSTAND-PRESS-BLOCK\",\"@code\":null,\"@template\":\"NONE\",\"@flowId\":null,\"@flowExecutionId\":null,\"@provider\":null,\"@lastModifiedAt\":null},{\"@type\":\"PC-NEWSSTAND-PRESS-BLOCK\",\"blocks\":null,\"materials\":null,\"excludeInPaging\":false,\"positionForPaging\":0,\"realtime\":false,\"pid\":\"960\",\"name\":\"대한경제\",\"logoLight\":{\"url\":\"https://s.pstatic.net/static/newsstand/up/2022/1115/nsd153942530.png\"},\"logoDark\":{\"url\":\"https://s.pstatic.net/static/newsstand/up/2022/1115/nsd153934427.png\"},\"showThumbnailView\":true,\"showListView\":true,\"regDate\":\"20250819 16:10:56\",\"_id\":null,\"@type\":\"PC-NEWSSTAND-PRESS-BLOCK\",\"@code\":null,\"@template\":\"NONE\",\"@flowId\":null,\"@flowExecutionId\":null,\"@provider\":null,\"@lastModifiedAt\":null},{\"@type\":\"PC-NEWSSTAND-PRESS-BLOCK\",\"blocks\":null,\"materials\":null,\"excludeInPaging\":false,\"positionForPaging\":0,\"realtime\":false,\"pid\":\"961\",\"name\":\"메트로신문\",\"logoLight\":{\"url\":\"https://s.pstatic.net/static/newsstand/2020/logo/light/0604/961.png\"},\"logoDark\":{\"url\":\"https://s.pstatic.net/static/newsstand/2020/logo/dark/0604/961.png\"},\"showThumbnailView\":true,\"showListView\":true,\"regDate\":\"20250819 16:05:36\",\"_id\":null,\"@type\":\"PC-NEWSSTAND-PRESS-BLOCK\",\"@code\":null,\"@template\":\"NONE\",\"@flowId\":null,\"@flowExecutionId\":null,\"@provider\":null,\"@lastModifiedAt\":null},{\"@type\":\"PC-NEWSSTAND-PRESS-BLOCK\",\"blocks\":null,\"materials\":null,\"excludeInPaging\":false,\"positionForPaging\":0,\"realtime\":false,\"pid\":\"962\",\"name\":\"스포츠한국\",\"logoLight\":{\"url\":\"https://s.pstatic.net/static/newsstand/2020/logo/light/0604/962.png\"},\"logoDark\":{\"url\":\"https://s.pstatic.net/static/newsstand/2020/logo/dark/0604/962.png\"},\"showThumbnailView\":true,\"showListView\":true,\"regDate\":\"20250819 16:10:46\",\"_id\":null,\"@type\":\"PC-NEWSSTAND-PRESS-BLOCK\",\"@code\":null,\"@template\":\"NONE\",\"@flowId\":null,\"@flowExecutionId\":null,\"@provider\":null,\"@lastModifiedAt\":null},{\"@type\":\"PC-NEWSSTAND-PRESS-BLOCK\",\"blocks\":null,\"materials\":null,\"excludeInPaging\":false,\"positionForPaging\":0,\"realtime\":false,\"pid\":\"963\",\"name\":\"에너지경제\",\"logoLight\":{\"url\":\"https://s.pstatic.net/static/newsstand/2020/logo/light/0604/963.png\"},\"logoDark\":{\"url\":\"https://s.pstatic.net/static/newsstand/2020/logo/dark/0604/963.png\"},\"showThumbnailView\":true,\"showListView\":true,\"regDate\":\"20250819 16:10:13\",\"_id\":null,\"@type\":\"PC-NEWSSTAND-PRESS-BLOCK\",\"@code\":null,\"@template\":\"NONE\",\"@flowId\":null,\"@flowExecutionId\":null,\"@provider\":null,\"@lastModifiedAt\":null},{\"@type\":\"PC-NEWSSTAND-PRESS-BLOCK\",\"blocks\":null,\"materials\":null,\"excludeInPaging\":false,\"positionForPaging\":0,\"realtime\":false,\"pid\":\"964\",\"name\":\"이뉴스투데이\",\"logoLight\":{\"url\":\"https://s.pstatic.net/static/newsstand/2020/logo/light/0604/964.png\"},\"logoDark\":{\"url\":\"https://s.pstatic.net/static/newsstand/2020/logo/dark/0604/964.png\"},\"showThumbnailView\":true,\"showListView\":true,\"regDate\":\"20250819 16:18:53\",\"_id\":null,\"@type\":\"PC-NEWSSTAND-PRESS-BLOCK\",\"@code\":null,\"@template\":\"NONE\",\"@flowId\":null,\"@flowExecutionId\":null,\"@provider\":null,\"@lastModifiedAt\":null},{\"@type\":\"PC-NEWSSTAND-PRESS-BLOCK\",\"blocks\":null,\"materials\":null,\"excludeInPaging\":false,\"positionForPaging\":0,\"realtime\":false,\"pid\":\"965\",\"name\":\"전기신문\",\"logoLight\":{\"url\":\"https://s.pstatic.net/static/newsstand/2020/logo/light/0604/965.png\"},\"logoDark\":{\"url\":\"https://s.pstatic.net/static/newsstand/2020/logo/dark/0604/965.png\"},\"showThumbnailView\":true,\"showListView\":true,\"regDate\":\"20250819 16:10:44\",\"_id\":null,\"@type\":\"PC-NEWSSTAND-PRESS-BLOCK\",\"@code\":null,\"@template\":\"NONE\",\"@flowId\":null,\"@flowExecutionId\":null,\"@provider\":null,\"@lastModifiedAt\":null},{\"@type\":\"PC-NEWSSTAND-PRESS-BLOCK\",\"blocks\":null,\"materials\":null,\"excludeInPaging\":false,\"positionForPaging\":0,\"realtime\":false,\"pid\":\"966\",\"name\":\"정신의학신문\",\"logoLight\":{\"url\":\"https://s.pstatic.net/static/newsstand/2020/logo/light/0604/966.png\"},\"logoDark\":{\"url\":\"https://s.pstatic.net/static/newsstand/2020/logo/dark/0604/966.png\"},\"showThumbnailView\":true,\"showListView\":true,\"regDate\":\"20250819 16:10:42\",\"_id\":null,\"@type\":\"PC-NEWSSTAND-PRESS-BLOCK\",\"@code\":null,\"@template\":\"NONE\",\"@flowId\":null,\"@flowExecutionId\":null,\"@provider\":null,\"@lastModifiedAt\":null},{\"@type\":\"PC-NEWSSTAND-PRESS-BLOCK\",\"blocks\":null,\"materials\":null,\"excludeInPaging\":false,\"positionForPaging\":0,\"realtime\":false,\"pid\":\"967\",\"name\":\"코리아쉬핑가제트\",\"logoLight\":{\"url\":\"https://s.pstatic.net/static/newsstand/2020/logo/light/0604/967.png\"},\"logoDark\":{\"url\":\"https://s.pstatic.net/static/newsstand/2020/logo/dark/0604/967.png\"},\"showThumbnailView\":true,\"showListView\":true,\"regDate\":\"20250819 12:50:02\",\"_id\":null,\"@type\":\"PC-NEWSSTAND-PRESS-BLOCK\",\"@code\":null,\"@template\":\"NONE\",\"@flowId\":null,\"@flowExecutionId\":null,\"@provider\":null,\"@lastModifiedAt\":null},{\"@type\":\"PC-NEWSSTAND-PRESS-BLOCK\",\"blocks\":null,\"materials\":null,\"excludeInPaging\":false,\"positionForPaging\":0,\"realtime\":false,\"pid\":\"968\",\"name\":\"한국금융신문\",\"logoLight\":{\"url\":\"https://s.pstatic.net/static/newsstand/2020/logo/light/0604/968.png\"},\"logoDark\":{\"url\":\"https://s.pstatic.net/static/newsstand/2020/logo/dark/0604/968.png\"},\"showThumbnailView\":true,\"showListView\":true,\"regDate\":\"20250819 16:01:39\",\"_id\":null,\"@type\":\"PC-NEWSSTAND-PRESS-BLOCK\",\"@code\":null,\"@template\":\"NONE\",\"@flowId\":null,\"@flowExecutionId\":null,\"@provider\":null,\"@lastModifiedAt\":null},{\"@type\":\"PC-NEWSSTAND-PRESS-BLOCK\",\"blocks\":null,\"materials\":null,\"excludeInPaging\":false,\"positionForPaging\":0,\"realtime\":false,\"pid\":\"969\",\"name\":\"매일노동뉴스\",\"logoLight\":{\"url\":\"https://s.pstatic.net/static/newsstand/2020/logo/light/0604/969.png\"},\"logoDark\":{\"url\":\"https://s.pstatic.net/static/newsstand/2020/logo/dark/0604/969.png\"},\"showThumbnailView\":true,\"showListView\":true,\"regDate\":\"20250819 14:16:03\",\"_id\":null,\"@type\":\"PC-NEWSSTAND-PRESS-BLOCK\",\"@code\":null,\"@template\":\"NONE\",\"@flowId\":null,\"@flowExecutionId\":null,\"@provider\":null,\"@lastModifiedAt\":null},{\"@type\":\"PC-NEWSSTAND-PRESS-BLOCK\",\"blocks\":null,\"materials\":null,\"excludeInPaging\":false,\"positionForPaging\":0,\"realtime\":false,\"pid\":\"050\",\"name\":\"한경비즈니스\",\"logoLight\":{\"url\":\"https://s.pstatic.net/static/newsstand/up/2025/0418/nsd182742490.png\"},\"logoDark\":{\"url\":\"https://s.pstatic.net/static/newsstand/up/2025/0418/nsd182757714.png\"},\"showThumbnailView\":true,\"showListView\":true,\"regDate\":\"20250819 15:17:54\",\"_id\":null,\"@type\":\"PC-NEWSSTAND-PRESS-BLOCK\",\"@code\":null,\"@template\":\"NONE\",\"@flowId\":null,\"@flowExecutionId\":null,\"@provider\":null,\"@lastModifiedAt\":null},{\"@type\":\"PC-NEWSSTAND-PRESS-BLOCK\",\"blocks\":null,\"materials\":null,\"excludeInPaging\":false,\"positionForPaging\":0,\"realtime\":false,\"pid\":\"293\",\"name\":\"블로터\",\"logoLight\":{\"url\":\"https://s.pstatic.net/static/newsstand/up/2025/0418/nsd17435516.png\"},\"logoDark\":{\"url\":\"https://s.pstatic.net/static/newsstand/up/2025/0418/nsd17448335.png\"},\"showThumbnailView\":true,\"showListView\":true,\"regDate\":\"20250819 16:10:51\",\"_id\":null,\"@type\":\"PC-NEWSSTAND-PRESS-BLOCK\",\"@code\":null,\"@template\":\"NONE\",\"@flowId\":null,\"@flowExecutionId\":null,\"@provider\":null,\"@lastModifiedAt\":null},{\"@type\":\"PC-NEWSSTAND-PRESS-BLOCK\",\"blocks\":null,\"materials\":null,\"excludeInPaging\":false,\"positionForPaging\":0,\"realtime\":false,\"pid\":\"052\",\"name\":\"YTN\",\"logoLight\":{\"url\":\"https://s.pstatic.net/static/newsstand/up/2025/0418/nsd162134806.png\"},\"logoDark\":{\"url\":\"https://s.pstatic.net/static/newsstand/2020/logo/dark/0604/052.png\"},\"showThumbnailView\":true,\"showListView\":true,\"regDate\":\"20250819 16:08:15\",\"_id\":null,\"@type\":\"PC-NEWSSTAND-PRESS-BLOCK\",\"@code\":null,\"@template\":\"NONE\",\"@flowId\":null,\"@flowExecutionId\":null,\"@provider\":null,\"@lastModifiedAt\":null},{\"@type\":\"PC-NEWSSTAND-PRESS-BLOCK\",\"blocks\":null,\"materials\":null,\"excludeInPaging\":false,\"positionForPaging\":0,\"realtime\":false,\"pid\":\"296\",\"name\":\"코메디닷컴\",\"logoLight\":{\"url\":\"https://s.pstatic.net/static/newsstand/up/2025/0418/nsd182222162.png\"},\"logoDark\":{\"url\":\"https://s.pstatic.net/static/newsstand/up/2025/0418/nsd182235729.png\"},\"showThumbnailView\":true,\"showListView\":true,\"regDate\":\"20250819 15:28:24\",\"_id\":null,\"@type\":\"PC-NEWSSTAND-PRESS-BLOCK\",\"@code\":null,\"@template\":\"NONE\",\"@flowId\":null,\"@flowExecutionId\":null,\"@provider\":null,\"@lastModifiedAt\":null},{\"@type\":\"PC-NEWSSTAND-PRESS-BLOCK\",\"blocks\":null,\"materials\":null,\"excludeInPaging\":false,\"positionForPaging\":0,\"realtime\":false,\"pid\":\"055\",\"name\":\"SBS\",\"logoLight\":{\"url\":\"https://s.pstatic.net/static/newsstand/up/2025/0418/nsd161750512.png\"},\"logoDark\":{\"url\":\"https://s.pstatic.net/static/newsstand/up/2025/0418/nsd16183692.png\"},\"showThumbnailView\":true,\"showListView\":true,\"regDate\":\"20250819 16:21:37\",\"_id\":null,\"@type\":\"PC-NEWSSTAND-PRESS-BLOCK\",\"@code\":null,\"@template\":\"NONE\",\"@flowId\":null,\"@flowExecutionId\":null,\"@provider\":null,\"@lastModifiedAt\":null},{\"@type\":\"PC-NEWSSTAND-PRESS-BLOCK\",\"blocks\":null,\"materials\":null,\"excludeInPaging\":false,\"positionForPaging\":0,\"realtime\":false,\"pid\":\"056\",\"name\":\"KBS\",\"logoLight\":{\"url\":\"https://s.pstatic.net/static/newsstand/up/2025/0418/nsd161319927.png\"},\"logoDark\":{\"url\":\"https://s.pstatic.net/static/newsstand/up/2025/0418/nsd161333220.png\"},\"showThumbnailView\":true,\"showListView\":true,\"regDate\":\"20250819 16:21:02\",\"_id\":null,\"@type\":\"PC-NEWSSTAND-PRESS-BLOCK\",\"@code\":null,\"@template\":\"NONE\",\"@flowId\":null,\"@flowExecutionId\":null,\"@provider\":null,\"@lastModifiedAt\":null},{\"@type\":\"PC-NEWSSTAND-PRESS-BLOCK\",\"blocks\":null,\"materials\":null,\"excludeInPaging\":false,\"positionForPaging\":0,\"realtime\":false,\"pid\":\"057\",\"name\":\"MBN\",\"logoLight\":{\"url\":\"https://s.pstatic.net/static/newsstand/up/2025/0418/nsd161629389.png\"},\"logoDark\":{\"url\":\"https://s.pstatic.net/static/newsstand/up/2025/0418/nsd161647802.png\"},\"showThumbnailView\":true,\"showListView\":true,\"regDate\":\"20250819 16:21:01\",\"_id\":null,\"@type\":\"PC-NEWSSTAND-PRESS-BLOCK\",\"@code\":null,\"@template\":\"NONE\",\"@flowId\":null,\"@flowExecutionId\":null,\"@provider\":null,\"@lastModifiedAt\":null},{\"@type\":\"PC-NEWSSTAND-PRESS-BLOCK\",\"blocks\":null,\"materials\":null,\"excludeInPaging\":false,\"positionForPaging\":0,\"realtime\":false,\"pid\":\"970\",\"name\":\"소비자가만드는신문\",\"logoLight\":{\"url\":\"https://s.pstatic.net/static/newsstand/2020/logo/light/0604/970.png\"},\"logoDark\":{\"url\":\"https://s.pstatic.net/static/newsstand/2020/logo/dark/0604/970.png\"},\"showThumbnailView\":true,\"showListView\":true,\"regDate\":\"20250819 14:06:21\",\"_id\":null,\"@type\":\"PC-NEWSSTAND-PRESS-BLOCK\",\"@code\":null,\"@template\":\"NONE\",\"@flowId\":null,\"@flowExecutionId\":null,\"@provider\":null,\"@lastModifiedAt\":null},{\"@type\":\"PC-NEWSSTAND-PRESS-BLOCK\",\"blocks\":null,\"materials\":null,\"excludeInPaging\":false,\"positionForPaging\":0,\"realtime\":false,\"pid\":\"971\",\"name\":\"일요시사\",\"logoLight\":{\"url\":\"https://s.pstatic.net/static/newsstand/2020/logo/light/0604/971.png\"},\"logoDark\":{\"url\":\"https://s.pstatic.net/static/newsstand/2020/logo/dark/0604/971.png\"},\"showThumbnailView\":true,\"showListView\":true,\"regDate\":\"20250819 16:10:02\",\"_id\":null,\"@type\":\"PC-NEWSSTAND-PRESS-BLOCK\",\"@code\":null,\"@template\":\"NONE\",\"@flowId\":null,\"@flowExecutionId\":null,\"@provider\":null,\"@lastModifiedAt\":null},{\"@type\":\"PC-NEWSSTAND-PRESS-BLOCK\",\"blocks\":null,\"materials\":null,\"excludeInPaging\":false,\"positionForPaging\":0,\"realtime\":false,\"pid\":\"972\",\"name\":\"PD저널\",\"logoLight\":{\"url\":\"https://s.pstatic.net/static/newsstand/2020/logo/light/0604/972.png\"},\"logoDark\":{\"url\":\"https://s.pstatic.net/static/newsstand/2020/logo/dark/0604/972.png\"},\"showThumbnailView\":true,\"showListView\":true,\"regDate\":\"20250818 18:19:09\",\"_id\":null,\"@type\":\"PC-NEWSSTAND-PRESS-BLOCK\",\"@code\":null,\"@template\":\"NONE\",\"@flowId\":null,\"@flowExecutionId\":null,\"@provider\":null,\"@lastModifiedAt\":null},{\"@type\":\"PC-NEWSSTAND-PRESS-BLOCK\",\"blocks\":null,\"materials\":null,\"excludeInPaging\":false,\"positionForPaging\":0,\"realtime\":false,\"pid\":\"973\",\"name\":\"비즈한국\",\"logoLight\":{\"url\":\"https://s.pstatic.net/static/newsstand/2020/logo/light/0604/973.png\"},\"logoDark\":{\"url\":\"https://s.pstatic.net/static/newsstand/2020/logo/dark/0604/973.png\"},\"showThumbnailView\":true,\"showListView\":true,\"regDate\":\"20250819 16:22:03\",\"_id\":null,\"@type\":\"PC-NEWSSTAND-PRESS-BLOCK\",\"@code\":null,\"@template\":\"NONE\",\"@flowId\":null,\"@flowExecutionId\":null,\"@provider\":null,\"@lastModifiedAt\":null},{\"@type\":\"PC-NEWSSTAND-PRESS-BLOCK\",\"blocks\":null,\"materials\":null,\"excludeInPaging\":false,\"positionForPaging\":0,\"realtime\":false,\"pid\":\"974\",\"name\":\"BBS NEWS\",\"logoLight\":{\"url\":\"https://s.pstatic.net/static/newsstand/2020/logo/light/0604/974.png\"},\"logoDark\":{\"url\":\"https://s.pstatic.net/static/newsstand/2020/logo/dark/0604/974.png\"},\"showThumbnailView\":true,\"showListView\":true,\"regDate\":\"20250819 12:41:25\",\"_id\":null,\"@type\":\"PC-NEWSSTAND-PRESS-BLOCK\",\"@code\":null,\"@template\":\"NONE\",\"@flowId\":null,\"@flowExecutionId\":null,\"@provider\":null,\"@lastModifiedAt\":null},{\"@type\":\"PC-NEWSSTAND-PRESS-BLOCK\",\"blocks\":null,\"materials\":null,\"excludeInPaging\":false,\"positionForPaging\":0,\"realtime\":false,\"pid\":\"975\",\"name\":\"시사저널이코노미\",\"logoLight\":{\"url\":\"https://s.pstatic.net/static/newsstand/2020/logo/light/0604/975.png\"},\"logoDark\":{\"url\":\"https://s.pstatic.net/static/newsstand/2020/logo/dark/0604/975.png\"},\"showThumbnailView\":true,\"showListView\":true,\"regDate\":\"20250819 16:10:09\",\"_id\":null,\"@type\":\"PC-NEWSSTAND-PRESS-BLOCK\",\"@code\":null,\"@template\":\"NONE\",\"@flowId\":null,\"@flowExecutionId\":null,\"@provider\":null,\"@lastModifiedAt\":null},{\"@type\":\"PC-NEWSSTAND-PRESS-BLOCK\",\"blocks\":null,\"materials\":null,\"excludeInPaging\":false,\"positionForPaging\":0,\"realtime\":false,\"pid\":\"976\",\"name\":\"무등일보\",\"logoLight\":{\"url\":\"https://s.pstatic.net/static/newsstand/2020/logo/light/0604/976.png\"},\"logoDark\":{\"url\":\"https://s.pstatic.net/static/newsstand/2020/logo/dark/0604/976.png\"},\"showThumbnailView\":true,\"showListView\":true,\"regDate\":\"20250819 16:10:08\",\"_id\":null,\"@type\":\"PC-NEWSSTAND-PRESS-BLOCK\",\"@code\":null,\"@template\":\"NONE\",\"@flowId\":null,\"@flowExecutionId\":null,\"@provider\":null,\"@lastModifiedAt\":null},{\"@type\":\"PC-NEWSSTAND-PRESS-BLOCK\",\"blocks\":null,\"materials\":null,\"excludeInPaging\":false,\"positionForPaging\":0,\"realtime\":false,\"pid\":\"977\",\"name\":\"헬로디디\",\"logoLight\":{\"url\":\"https://s.pstatic.net/static/newsstand/2020/logo/light/0604/977.png\"},\"logoDark\":{\"url\":\"https://s.pstatic.net/static/newsstand/2020/logo/dark/0604/977.png\"},\"showThumbnailView\":true,\"showListView\":true,\"regDate\":\"20250819 16:10:35\",\"_id\":null,\"@type\":\"PC-NEWSSTAND-PRESS-BLOCK\",\"@code\":null,\"@template\":\"NONE\",\"@flowId\":null,\"@flowExecutionId\":null,\"@provider\":null,\"@lastModifiedAt\":null},{\"@type\":\"PC-NEWSSTAND-PRESS-BLOCK\",\"blocks\":null,\"materials\":null,\"excludeInPaging\":false,\"positionForPaging\":0,\"realtime\":false,\"pid\":\"978\",\"name\":\"경북도민일보\",\"logoLight\":{\"url\":\"https://s.pstatic.net/static/newsstand/2020/logo/light/0604/978.png\"},\"logoDark\":{\"url\":\"https://s.pstatic.net/static/newsstand/2020/logo/dark/0604/978.png\"},\"showThumbnailView\":true,\"showListView\":true,\"regDate\":\"20250819 15:17:29\",\"_id\":null,\"@type\":\"PC-NEWSSTAND-PRESS-BLOCK\",\"@code\":null,\"@template\":\"NONE\",\"@flowId\":null,\"@flowExecutionId\":null,\"@provider\":null,\"@lastModifiedAt\":null},{\"@type\":\"PC-NEWSSTAND-PRESS-BLOCK\",\"blocks\":null,\"materials\":null,\"excludeInPaging\":false,\"positionForPaging\":0,\"realtime\":false,\"pid\":\"979\",\"name\":\"약사공론\",\"logoLight\":{\"url\":\"https://s.pstatic.net/static/newsstand/2020/logo/light/0604/979.png\"},\"logoDark\":{\"url\":\"https://s.pstatic.net/static/newsstand/2020/logo/dark/0604/979.png\"},\"showThumbnailView\":true,\"showListView\":true,\"regDate\":\"20250819 12:17:53\",\"_id\":null,\"@type\":\"PC-NEWSSTAND-PRESS-BLOCK\",\"@code\":null,\"@template\":\"NONE\",\"@flowId\":null,\"@flowExecutionId\":null,\"@provider\":null,\"@lastModifiedAt\":null},{\"@type\":\"PC-NEWSSTAND-PRESS-BLOCK\",\"blocks\":null,\"materials\":null,\"excludeInPaging\":false,\"positionForPaging\":0,\"realtime\":false,\"pid\":\"980\",\"name\":\"KBC광주방송\",\"logoLight\":{\"url\":\"https://s.pstatic.net/static/newsstand/up/2025/0418/nsd161128598.png\"},\"logoDark\":{\"url\":\"https://s.pstatic.net/static/newsstand/up/2025/0418/nsd161142279.png\"},\"showThumbnailView\":true,\"showListView\":true,\"regDate\":\"20250819 15:08:35\",\"_id\":null,\"@type\":\"PC-NEWSSTAND-PRESS-BLOCK\",\"@code\":null,\"@template\":\"NONE\",\"@flowId\":null,\"@flowExecutionId\":null,\"@provider\":null,\"@lastModifiedAt\":null},{\"@type\":\"PC-NEWSSTAND-PRESS-BLOCK\",\"blocks\":null,\"materials\":null,\"excludeInPaging\":false,\"positionForPaging\":0,\"realtime\":false,\"pid\":\"981\",\"name\":\"TBS\",\"logoLight\":{\"url\":\"https://s.pstatic.net/static/newsstand/2020/logo/light/0604/981.png\"},\"logoDark\":{\"url\":\"https://s.pstatic.net/static/newsstand/2020/logo/dark/0604/981.png\"},\"showThumbnailView\":true,\"showListView\":true,\"regDate\":\"20250819 16:15:37\",\"_id\":null,\"@type\":\"PC-NEWSSTAND-PRESS-BLOCK\",\"@code\":null,\"@template\":\"NONE\",\"@flowId\":null,\"@flowExecutionId\":null,\"@provider\":null,\"@lastModifiedAt\":null},{\"@type\":\"PC-NEWSSTAND-PRESS-BLOCK\",\"blocks\":null,\"materials\":null,\"excludeInPaging\":false,\"positionForPaging\":0,\"realtime\":false,\"pid\":\"982\",\"name\":\"이코노미조선\",\"logoLight\":{\"url\":\"https://s.pstatic.net/static/newsstand/2020/logo/light/0604/982.png\"},\"logoDark\":{\"url\":\"https://s.pstatic.net/static/newsstand/2020/logo/dark/0604/982.png\"},\"showThumbnailView\":true,\"showListView\":true,\"regDate\":\"20250818 11:03:36\",\"_id\":null,\"@type\":\"PC-NEWSSTAND-PRESS-BLOCK\",\"@code\":null,\"@template\":\"NONE\",\"@flowId\":null,\"@flowExecutionId\":null,\"@provider\":null,\"@lastModifiedAt\":null},{\"@type\":\"PC-NEWSSTAND-PRESS-BLOCK\",\"blocks\":null,\"materials\":null,\"excludeInPaging\":false,\"positionForPaging\":0,\"realtime\":false,\"pid\":\"983\",\"name\":\"중부매일\",\"logoLight\":{\"url\":\"https://s.pstatic.net/static/newsstand/2020/logo/light/0604/983.png\"},\"logoDark\":{\"url\":\"https://s.pstatic.net/static/newsstand/2020/logo/dark/0604/983.png\"},\"showThumbnailView\":true,\"showListView\":true,\"regDate\":\"20250818 19:16:15\",\"_id\":null,\"@type\":\"PC-NEWSSTAND-PRESS-BLOCK\",\"@code\":null,\"@template\":\"NONE\",\"@flowId\":null,\"@flowExecutionId\":null,\"@provider\":null,\"@lastModifiedAt\":null},{\"@type\":\"PC-NEWSSTAND-PRESS-BLOCK\",\"blocks\":null,\"materials\":null,\"excludeInPaging\":false,\"positionForPaging\":0,\"realtime\":false,\"pid\":\"984\",\"name\":\"낚시춘추\",\"logoLight\":{\"url\":\"https://s.pstatic.net/static/newsstand/2020/logo/light/0604/984.png\"},\"logoDark\":{\"url\":\"https://s.pstatic.net/static/newsstand/2020/logo/dark/0604/984.png\"},\"showThumbnailView\":true,\"showListView\":true,\"regDate\":\"20250814 15:20:00\",\"_id\":null,\"@type\":\"PC-NEWSSTAND-PRESS-BLOCK\",\"@code\":null,\"@template\":\"NONE\",\"@flowId\":null,\"@flowExecutionId\":null,\"@provider\":null,\"@lastModifiedAt\":null},{\"@type\":\"PC-NEWSSTAND-PRESS-BLOCK\",\"blocks\":null,\"materials\":null,\"excludeInPaging\":false,\"positionForPaging\":0,\"realtime\":false,\"pid\":\"986\",\"name\":\"투데이신문\",\"logoLight\":{\"url\":\"https://s.pstatic.net/static/newsstand/up/2020/1019/nsd144531857.png\"},\"logoDark\":{\"url\":\"https://s.pstatic.net/static/newsstand/up/2020/1019/nsd144525568.png\"},\"showThumbnailView\":true,\"showListView\":true,\"regDate\":\"20250819 16:10:05\",\"_id\":null,\"@type\":\"PC-NEWSSTAND-PRESS-BLOCK\",\"@code\":null,\"@template\":\"NONE\",\"@flowId\":null,\"@flowExecutionId\":null,\"@provider\":null,\"@lastModifiedAt\":null},{\"@type\":\"PC-NEWSSTAND-PRESS-BLOCK\",\"blocks\":null,\"materials\":null,\"excludeInPaging\":false,\"positionForPaging\":0,\"realtime\":false,\"pid\":\"988\",\"name\":\"이코노미사이언스\",\"logoLight\":{\"url\":\"https://s.pstatic.net/static/newsstand/up/2024/1112/nsd9551191.png\"},\"logoDark\":{\"url\":\"https://s.pstatic.net/static/newsstand/up/2024/1112/nsd95454919.png\"},\"showThumbnailView\":true,\"showListView\":true,\"regDate\":\"20250814 16:37:52\",\"_id\":null,\"@type\":\"PC-NEWSSTAND-PRESS-BLOCK\",\"@code\":null,\"@template\":\"NONE\",\"@flowId\":null,\"@flowExecutionId\":null,\"@provider\":null,\"@lastModifiedAt\":null},{\"@type\":\"PC-NEWSSTAND-PRESS-BLOCK\",\"blocks\":null,\"materials\":null,\"excludeInPaging\":false,\"positionForPaging\":0,\"realtime\":false,\"pid\":\"989\",\"name\":\"TBC\",\"logoLight\":{\"url\":\"https://s.pstatic.net/static/newsstand/2020/logo/light/0604/989.png\"},\"logoDark\":{\"url\":\"https://s.pstatic.net/static/newsstand/2020/logo/dark/0604/989.png\"},\"showThumbnailView\":true,\"showListView\":true,\"regDate\":\"20250819 08:35:43\",\"_id\":null,\"@type\":\"PC-NEWSSTAND-PRESS-BLOCK\",\"@code\":null,\"@template\":\"NONE\",\"@flowId\":null,\"@flowExecutionId\":null,\"@provider\":null,\"@lastModifiedAt\":null},{\"@type\":\"PC-NEWSSTAND-PRESS-BLOCK\",\"blocks\":null,\"materials\":null,\"excludeInPaging\":false,\"positionForPaging\":0,\"realtime\":false,\"pid\":\"073\",\"name\":\"스포츠서울\",\"logoLight\":{\"url\":\"https://s.pstatic.net/static/newsstand/up/2020/0708/nsd94830278.png\"},\"logoDark\":{\"url\":\"https://s.pstatic.net/static/newsstand/up/2020/0708/nsd94820151.png\"},\"showThumbnailView\":true,\"showListView\":true,\"regDate\":\"20250819 16:15:11\",\"_id\":null,\"@type\":\"PC-NEWSSTAND-PRESS-BLOCK\",\"@code\":null,\"@template\":\"NONE\",\"@flowId\":null,\"@flowExecutionId\":null,\"@provider\":null,\"@lastModifiedAt\":null},{\"@type\":\"PC-NEWSSTAND-PRESS-BLOCK\",\"blocks\":null,\"materials\":null,\"excludeInPaging\":false,\"positionForPaging\":0,\"realtime\":false,\"pid\":\"075\",\"name\":\"맥스무비\",\"logoLight\":{\"url\":\"https://s.pstatic.net/static/newsstand/2020/logo/light/0604/075.png\"},\"logoDark\":{\"url\":\"https://s.pstatic.net/static/newsstand/2020/logo/dark/0604/075.png\"},\"showThumbnailView\":true,\"showListView\":true,\"regDate\":\"20250819 14:18:47\",\"_id\":null,\"@type\":\"PC-NEWSSTAND-PRESS-BLOCK\",\"@code\":null,\"@template\":\"NONE\",\"@flowId\":null,\"@flowExecutionId\":null,\"@provider\":null,\"@lastModifiedAt\":null},{\"@type\":\"PC-NEWSSTAND-PRESS-BLOCK\",\"blocks\":null,\"materials\":null,\"excludeInPaging\":false,\"positionForPaging\":0,\"realtime\":false,\"pid\":\"076\",\"name\":\"스포츠조선\",\"logoLight\":{\"url\":\"https://s.pstatic.net/static/newsstand/2020/logo/light/0604/076.png\"},\"logoDark\":{\"url\":\"https://s.pstatic.net/static/newsstand/2020/logo/dark/0604/076.png\"},\"showThumbnailView\":true,\"showListView\":true,\"regDate\":\"20250819 16:06:34\",\"_id\":null,\"@type\":\"PC-NEWSSTAND-PRESS-BLOCK\",\"@code\":null,\"@template\":\"NONE\",\"@flowId\":null,\"@flowExecutionId\":null,\"@provider\":null,\"@lastModifiedAt\":null},{\"@type\":\"PC-NEWSSTAND-PRESS-BLOCK\",\"blocks\":null,\"materials\":null,\"excludeInPaging\":false,\"positionForPaging\":0,\"realtime\":false,\"pid\":\"990\",\"name\":\"주간조선\",\"logoLight\":{\"url\":\"https://s.pstatic.net/static/newsstand/up/2025/0418/nsd181318779.png\"},\"logoDark\":{\"url\":\"https://s.pstatic.net/static/newsstand/up/2025/0418/nsd181331721.png\"},\"showThumbnailView\":true,\"showListView\":true,\"regDate\":\"20250819 16:10:47\",\"_id\":null,\"@type\":\"PC-NEWSSTAND-PRESS-BLOCK\",\"@code\":null,\"@template\":\"NONE\",\"@flowId\":null,\"@flowExecutionId\":null,\"@provider\":null,\"@lastModifiedAt\":null},{\"@type\":\"PC-NEWSSTAND-PRESS-BLOCK\",\"blocks\":null,\"materials\":null,\"excludeInPaging\":false,\"positionForPaging\":0,\"realtime\":false,\"pid\":\"991\",\"name\":\"데일리NK\",\"logoLight\":{\"url\":\"https://s.pstatic.net/static/newsstand/2020/logo/light/0604/991.png\"},\"logoDark\":{\"url\":\"https://s.pstatic.net/static/newsstand/2020/logo/dark/0604/991.png\"},\"showThumbnailView\":true,\"showListView\":true,\"regDate\":\"20250819 07:05:45\",\"_id\":null,\"@type\":\"PC-NEWSSTAND-PRESS-BLOCK\",\"@code\":null,\"@template\":\"NONE\",\"@flowId\":null,\"@flowExecutionId\":null,\"@provider\":null,\"@lastModifiedAt\":null},{\"@type\":\"PC-NEWSSTAND-PRESS-BLOCK\",\"blocks\":null,\"materials\":null,\"excludeInPaging\":false,\"positionForPaging\":0,\"realtime\":false,\"pid\":\"079\",\"name\":\"노컷뉴스\",\"logoLight\":{\"url\":\"https://s.pstatic.net/static/newsstand/up/2025/0418/nsd16586474.png\"},\"logoDark\":{\"url\":\"https://s.pstatic.net/static/newsstand/up/2025/0418/nsd165823173.png\"},\"showThumbnailView\":true,\"showListView\":true,\"regDate\":\"20250819 16:08:22\",\"_id\":null,\"@type\":\"PC-NEWSSTAND-PRESS-BLOCK\",\"@code\":null,\"@template\":\"NONE\",\"@flowId\":null,\"@flowExecutionId\":null,\"@provider\":null,\"@lastModifiedAt\":null},{\"@type\":\"PC-NEWSSTAND-PRESS-BLOCK\",\"blocks\":null,\"materials\":null,\"excludeInPaging\":false,\"positionForPaging\":0,\"realtime\":false,\"pid\":\"993\",\"name\":\"허프포스트코리아\",\"logoLight\":{\"url\":\"https://s.pstatic.net/static/newsstand/2020/logo/light/0604/993.png\"},\"logoDark\":{\"url\":\"https://s.pstatic.net/static/newsstand/2020/logo/dark/0604/993.png\"},\"showThumbnailView\":true,\"showListView\":true,\"regDate\":\"20250819 16:10:48\",\"_id\":null,\"@type\":\"PC-NEWSSTAND-PRESS-BLOCK\",\"@code\":null,\"@template\":\"NONE\",\"@flowId\":null,\"@flowExecutionId\":null,\"@provider\":null,\"@lastModifiedAt\":null},{\"@type\":\"PC-NEWSSTAND-PRESS-BLOCK\",\"blocks\":null,\"materials\":null,\"excludeInPaging\":false,\"positionForPaging\":0,\"realtime\":false,\"pid\":\"994\",\"name\":\"AI타임스\",\"logoLight\":{\"url\":\"https://s.pstatic.net/static/newsstand/up/2021/1112/nsd102040597.png\"},\"logoDark\":{\"url\":\"https://s.pstatic.net/static/newsstand/up/2021/1112/nsd102110770.png\"},\"showThumbnailView\":true,\"showListView\":true,\"regDate\":\"20250819 16:10:43\",\"_id\":null,\"@type\":\"PC-NEWSSTAND-PRESS-BLOCK\",\"@code\":null,\"@template\":\"NONE\",\"@flowId\":null,\"@flowExecutionId\":null,\"@provider\":null,\"@lastModifiedAt\":null},{\"@type\":\"PC-NEWSSTAND-PRESS-BLOCK\",\"blocks\":null,\"materials\":null,\"excludeInPaging\":false,\"positionForPaging\":0,\"realtime\":false,\"pid\":\"995\",\"name\":\"뉴스포스트\",\"logoLight\":{\"url\":\"https://s.pstatic.net/static/newsstand/up/2021/1112/nsd10248812.png\"},\"logoDark\":{\"url\":\"https://s.pstatic.net/static/newsstand/up/2021/1112/nsd102419893.png\"},\"showThumbnailView\":true,\"showListView\":true,\"regDate\":\"20250819 16:10:43\",\"_id\":null,\"@type\":\"PC-NEWSSTAND-PRESS-BLOCK\",\"@code\":null,\"@template\":\"NONE\",\"@flowId\":null,\"@flowExecutionId\":null,\"@provider\":null,\"@lastModifiedAt\":null},{\"@type\":\"PC-NEWSSTAND-PRESS-BLOCK\",\"blocks\":null,\"materials\":null,\"excludeInPaging\":false,\"positionForPaging\":0,\"realtime\":false,\"pid\":\"996\",\"name\":\"매경헬스\",\"logoLight\":{\"url\":\"https://s.pstatic.net/static/newsstand/up/2023/0330/nsd10125746.png\"},\"logoDark\":{\"url\":\"https://s.pstatic.net/static/newsstand/up/2023/0330/nsd10148542.png\"},\"showThumbnailView\":true,\"showListView\":true,\"regDate\":\"20250819 16:20:41\",\"_id\":null,\"@type\":\"PC-NEWSSTAND-PRESS-BLOCK\",\"@code\":null,\"@template\":\"NONE\",\"@flowId\":null,\"@flowExecutionId\":null,\"@provider\":null,\"@lastModifiedAt\":null},{\"@type\":\"PC-NEWSSTAND-PRESS-BLOCK\",\"blocks\":null,\"materials\":null,\"excludeInPaging\":false,\"positionForPaging\":0,\"realtime\":false,\"pid\":\"997\",\"name\":\"뉴스펭귄\",\"logoLight\":{\"url\":\"https://s.pstatic.net/static/newsstand/up/2022/0405/nsd15024245.png\"},\"logoDark\":{\"url\":\"https://s.pstatic.net/static/newsstand/up/2022/0405/nsd15014578.png\"},\"showThumbnailView\":true,\"showListView\":true,\"regDate\":\"20250819 16:10:46\",\"_id\":null,\"@type\":\"PC-NEWSSTAND-PRESS-BLOCK\",\"@code\":null,\"@template\":\"NONE\",\"@flowId\":null,\"@flowExecutionId\":null,\"@provider\":null,\"@lastModifiedAt\":null},{\"@type\":\"PC-NEWSSTAND-PRESS-BLOCK\",\"blocks\":null,\"materials\":null,\"excludeInPaging\":false,\"positionForPaging\":0,\"realtime\":false,\"pid\":\"998\",\"name\":\"뉴스앤조이\",\"logoLight\":{\"url\":\"https://s.pstatic.net/static/newsstand/up/2022/0328/nsd22503109.png\"},\"logoDark\":{\"url\":\"https://s.pstatic.net/static/newsstand/up/2022/0328/nsd22509287.png\"},\"showThumbnailView\":true,\"showListView\":true,\"regDate\":\"20250819 16:10:45\",\"_id\":null,\"@type\":\"PC-NEWSSTAND-PRESS-BLOCK\",\"@code\":null,\"@template\":\"NONE\",\"@flowId\":null,\"@flowExecutionId\":null,\"@provider\":null,\"@lastModifiedAt\":null},{\"@type\":\"PC-NEWSSTAND-PRESS-BLOCK\",\"blocks\":null,\"materials\":null,\"excludeInPaging\":false,\"positionForPaging\":0,\"realtime\":false,\"pid\":\"081\",\"name\":\"서울신문\",\"logoLight\":{\"url\":\"https://s.pstatic.net/static/newsstand/up/2025/0418/nsd1747652.png\"},\"logoDark\":{\"url\":\"https://s.pstatic.net/static/newsstand/up/2025/0418/nsd174717805.png\"},\"showThumbnailView\":true,\"showListView\":true,\"regDate\":\"20250819 15:50:07\",\"_id\":null,\"@type\":\"PC-NEWSSTAND-PRESS-BLOCK\",\"@code\":null,\"@template\":\"NONE\",\"@flowId\":null,\"@flowExecutionId\":null,\"@provider\":null,\"@lastModifiedAt\":null},{\"@type\":\"PC-NEWSSTAND-PRESS-BLOCK\",\"blocks\":null,\"materials\":null,\"excludeInPaging\":false,\"positionForPaging\":0,\"realtime\":false,\"pid\":\"082\",\"name\":\"부산일보\",\"logoLight\":{\"url\":\"https://s.pstatic.net/static/newsstand/up/2025/0418/nsd174249881.png\"},\"logoDark\":{\"url\":\"https://s.pstatic.net/static/newsstand/up/2025/0418/nsd17433161.png\"},\"showThumbnailView\":true,\"showListView\":true,\"regDate\":\"20250819 11:31:50\",\"_id\":null,\"@type\":\"PC-NEWSSTAND-PRESS-BLOCK\",\"@code\":null,\"@template\":\"NONE\",\"@flowId\":null,\"@flowExecutionId\":null,\"@provider\":null,\"@lastModifiedAt\":null},{\"@type\":\"PC-NEWSSTAND-PRESS-BLOCK\",\"blocks\":null,\"materials\":null,\"excludeInPaging\":false,\"positionForPaging\":0,\"realtime\":false,\"pid\":\"083\",\"name\":\"광주일보\",\"logoLight\":{\"url\":\"https://s.pstatic.net/static/newsstand/up/2023/0309/nsd195548501.png\"},\"logoDark\":{\"url\":\"https://s.pstatic.net/static/newsstand/up/2023/0309/nsd1956932.png\"},\"showThumbnailView\":true,\"showListView\":true,\"regDate\":\"20250819 16:00:02\",\"_id\":null,\"@type\":\"PC-NEWSSTAND-PRESS-BLOCK\",\"@code\":null,\"@template\":\"NONE\",\"@flowId\":null,\"@flowExecutionId\":null,\"@provider\":null,\"@lastModifiedAt\":null},{\"@type\":\"PC-NEWSSTAND-PRESS-BLOCK\",\"blocks\":null,\"materials\":null,\"excludeInPaging\":false,\"positionForPaging\":0,\"realtime\":false,\"pid\":\"087\",\"name\":\"강원일보\",\"logoLight\":{\"url\":\"https://s.pstatic.net/static/newsstand/up/2025/0418/nsd162538495.png\"},\"logoDark\":{\"url\":\"https://s.pstatic.net/static/newsstand/up/2025/0418/nsd162554126.png\"},\"showThumbnailView\":true,\"showListView\":true,\"regDate\":\"20250819 13:04:41\",\"_id\":null,\"@type\":\"PC-NEWSSTAND-PRESS-BLOCK\",\"@code\":null,\"@template\":\"NONE\",\"@flowId\":null,\"@flowExecutionId\":null,\"@provider\":null,\"@lastModifiedAt\":null},{\"@type\":\"PC-NEWSSTAND-PRESS-BLOCK\",\"blocks\":null,\"materials\":null,\"excludeInPaging\":false,\"positionForPaging\":0,\"realtime\":false,\"pid\":\"088\",\"name\":\"매일신문\",\"logoLight\":{\"url\":\"https://s.pstatic.net/static/newsstand/up/2025/0418/nsd17377527.png\"},\"logoDark\":{\"url\":\"https://s.pstatic.net/static/newsstand/up/2025/0418/nsd173719609.png\"},\"showThumbnailView\":true,\"showListView\":true,\"regDate\":\"20250819 11:31:24\",\"_id\":null,\"@type\":\"PC-NEWSSTAND-PRESS-BLOCK\",\"@code\":null,\"@template\":\"NONE\",\"@flowId\":null,\"@flowExecutionId\":null,\"@provider\":null,\"@lastModifiedAt\":null},{\"@type\":\"PC-NEWSSTAND-PRESS-BLOCK\",\"blocks\":null,\"materials\":null,\"excludeInPaging\":false,\"positionForPaging\":0,\"realtime\":false,\"pid\":\"089\",\"name\":\"대전일보\",\"logoLight\":{\"url\":\"https://s.pstatic.net/static/newsstand/up/2025/0418/nsd1750914.png\"},\"logoDark\":{\"url\":\"https://s.pstatic.net/static/newsstand/up/2025/0418/nsd17513766.png\"},\"showThumbnailView\":true,\"showListView\":true,\"regDate\":\"20250819 16:20:02\",\"_id\":null,\"@type\":\"PC-NEWSSTAND-PRESS-BLOCK\",\"@code\":null,\"@template\":\"NONE\",\"@flowId\":null,\"@flowExecutionId\":null,\"@provider\":null,\"@lastModifiedAt\":null},{\"@type\":\"PC-NEWSSTAND-PRESS-BLOCK\",\"blocks\":null,\"materials\":null,\"excludeInPaging\":false,\"positionForPaging\":0,\"realtime\":false,\"pid\":\"529\",\"name\":\"스포츠춘추\",\"logoLight\":{\"url\":\"https://s.pstatic.net/static/newsstand/up/2022/0116/nsd19454239.png\"},\"logoDark\":{\"url\":\"https://s.pstatic.net/static/newsstand/up/2022/0116/nsd194523259.png\"},\"showThumbnailView\":true,\"showListView\":true,\"regDate\":\"20250819 16:10:44\",\"_id\":null,\"@type\":\"PC-NEWSSTAND-PRESS-BLOCK\",\"@code\":null,\"@template\":\"NONE\",\"@flowId\":null,\"@flowExecutionId\":null,\"@provider\":null,\"@lastModifiedAt\":null},{\"@type\":\"PC-NEWSSTAND-PRESS-BLOCK\",\"blocks\":null,\"materials\":null,\"excludeInPaging\":false,\"positionForPaging\":0,\"realtime\":false,\"pid\":\"092\",\"name\":\"지디넷코리아\",\"logoLight\":{\"url\":\"https://s.pstatic.net/static/newsstand/up/2025/0418/nsd18180929.png\"},\"logoDark\":{\"url\":\"https://s.pstatic.net/static/newsstand/up/2025/0418/nsd18182244.png\"},\"showThumbnailView\":true,\"showListView\":true,\"regDate\":\"20250819 16:14:42\",\"_id\":null,\"@type\":\"PC-NEWSSTAND-PRESS-BLOCK\",\"@code\":null,\"@template\":\"NONE\",\"@flowId\":null,\"@flowExecutionId\":null,\"@provider\":null,\"@lastModifiedAt\":null},{\"@type\":\"PC-NEWSSTAND-PRESS-BLOCK\",\"blocks\":null,\"materials\":null,\"excludeInPaging\":false,\"positionForPaging\":0,\"realtime\":false,\"pid\":\"094\",\"name\":\"월간 산\",\"logoLight\":{\"url\":\"https://s.pstatic.net/static/newsstand/up/2025/0418/nsd18445157.png\"},\"logoDark\":{\"url\":\"https://s.pstatic.net/static/newsstand/up/2025/0418/nsd18456870.png\"},\"showThumbnailView\":true,\"showListView\":true,\"regDate\":\"20250819 16:10:47\",\"_id\":null,\"@type\":\"PC-NEWSSTAND-PRESS-BLOCK\",\"@code\":null,\"@template\":\"NONE\",\"@flowId\":null,\"@flowExecutionId\":null,\"@provider\":null,\"@lastModifiedAt\":null},{\"@type\":\"PC-NEWSSTAND-PRESS-BLOCK\",\"blocks\":null,\"materials\":null,\"excludeInPaging\":false,\"positionForPaging\":0,\"realtime\":false,\"pid\":\"410\",\"name\":\"MK스포츠\",\"logoLight\":{\"url\":\"https://s.pstatic.net/static/newsstand/2020/logo/light/0604/410.png\"},\"logoDark\":{\"url\":\"https://s.pstatic.net/static/newsstand/2020/logo/dark/0604/410.png\"},\"showThumbnailView\":true,\"showListView\":true,\"regDate\":\"20250819 16:21:57\",\"_id\":null,\"@type\":\"PC-NEWSSTAND-PRESS-BLOCK\",\"@code\":null,\"@template\":\"NONE\",\"@flowId\":null,\"@flowExecutionId\":null,\"@provider\":null,\"@lastModifiedAt\":null},{\"@type\":\"PC-NEWSSTAND-PRESS-BLOCK\",\"blocks\":null,\"materials\":null,\"excludeInPaging\":false,\"positionForPaging\":0,\"realtime\":false,\"pid\":\"536\",\"name\":\"더팩트\",\"logoLight\":{\"url\":\"https://s.pstatic.net/static/newsstand/up/2025/0418/nsd1778591.png\"},\"logoDark\":{\"url\":\"https://s.pstatic.net/static/newsstand/up/2025/0418/nsd17724719.png\"},\"showThumbnailView\":true,\"showListView\":true,\"regDate\":\"20250819 16:10:42\",\"_id\":null,\"@type\":\"PC-NEWSSTAND-PRESS-BLOCK\",\"@code\":null,\"@template\":\"NONE\",\"@flowId\":null,\"@flowExecutionId\":null,\"@provider\":null,\"@lastModifiedAt\":null},{\"@type\":\"PC-NEWSSTAND-PRESS-BLOCK\",\"blocks\":null,\"materials\":null,\"excludeInPaging\":false,\"positionForPaging\":0,\"realtime\":false,\"pid\":\"416\",\"name\":\"SBS연예뉴스\",\"logoLight\":{\"url\":\"https://s.pstatic.net/static/newsstand/up/2020/1228/nsd1681569.png\"},\"logoDark\":{\"url\":\"https://s.pstatic.net/static/newsstand/up/2020/1228/nsd1688305.png\"},\"showThumbnailView\":true,\"showListView\":true,\"regDate\":\"20250819 16:15:27\",\"_id\":null,\"@type\":\"PC-NEWSSTAND-PRESS-BLOCK\",\"@code\":null,\"@template\":\"NONE\",\"@flowId\":null,\"@flowExecutionId\":null,\"@provider\":null,\"@lastModifiedAt\":null},{\"@type\":\"PC-NEWSSTAND-PRESS-BLOCK\",\"blocks\":null,\"materials\":null,\"excludeInPaging\":false,\"positionForPaging\":0,\"realtime\":false,\"pid\":\"417\",\"name\":\"머니S\",\"logoLight\":{\"url\":\"https://s.pstatic.net/static/newsstand/up/2025/0418/nsd173828874.png\"},\"logoDark\":{\"url\":\"https://s.pstatic.net/static/newsstand/up/2025/0418/nsd173843283.png\"},\"showThumbnailView\":true,\"showListView\":true,\"regDate\":\"20250819 16:15:29\",\"_id\":null,\"@type\":\"PC-NEWSSTAND-PRESS-BLOCK\",\"@code\":null,\"@template\":\"NONE\",\"@flowId\":null,\"@flowExecutionId\":null,\"@provider\":null,\"@lastModifiedAt\":null},{\"@type\":\"PC-NEWSSTAND-PRESS-BLOCK\",\"blocks\":null,\"materials\":null,\"excludeInPaging\":false,\"positionForPaging\":0,\"realtime\":false,\"pid\":\"539\",\"name\":\"위키트리\",\"logoLight\":{\"url\":\"https://s.pstatic.net/static/newsstand/2020/logo/light/0604/539.png\"},\"logoDark\":{\"url\":\"https://s.pstatic.net/static/newsstand/2020/logo/dark/0604/539.png\"},\"showThumbnailView\":true,\"showListView\":true,\"regDate\":\"20250819 16:22:00\",\"_id\":null,\"@type\":\"PC-NEWSSTAND-PRESS-BLOCK\",\"@code\":null,\"@template\":\"NONE\",\"@flowId\":null,\"@flowExecutionId\":null,\"@provider\":null,\"@lastModifiedAt\":null},{\"@type\":\"PC-NEWSSTAND-PRESS-BLOCK\",\"blocks\":null,\"materials\":null,\"excludeInPaging\":false,\"positionForPaging\":0,\"realtime\":false,\"pid\":\"421\",\"name\":\"뉴스1\",\"logoLight\":{\"url\":\"https://s.pstatic.net/static/newsstand/up/2025/0418/nsd171363.png\"},\"logoDark\":{\"url\":\"https://s.pstatic.net/static/newsstand/up/2025/0418/nsd17114288.png\"},\"showThumbnailView\":true,\"showListView\":true,\"regDate\":\"20250819 16:14:25\",\"_id\":null,\"@type\":\"PC-NEWSSTAND-PRESS-BLOCK\",\"@code\":null,\"@template\":\"NONE\",\"@flowId\":null,\"@flowExecutionId\":null,\"@provider\":null,\"@lastModifiedAt\":null},{\"@type\":\"PC-NEWSSTAND-PRESS-BLOCK\",\"blocks\":null,\"materials\":null,\"excludeInPaging\":false,\"positionForPaging\":0,\"realtime\":false,\"pid\":\"301\",\"name\":\"드림투데이\",\"logoLight\":{\"url\":\"https://s.pstatic.net/static/newsstand/up/2025/0521/nsd11716387.png\"},\"logoDark\":{\"url\":\"https://s.pstatic.net/static/newsstand/up/2025/0521/nsd1176592.png\"},\"showThumbnailView\":true,\"showListView\":true,\"regDate\":\"20250819 16:10:34\",\"_id\":null,\"@type\":\"PC-NEWSSTAND-PRESS-BLOCK\",\"@code\":null,\"@template\":\"NONE\",\"@flowId\":null,\"@flowExecutionId\":null,\"@provider\":null,\"@lastModifiedAt\":null},{\"@type\":\"PC-NEWSSTAND-PRESS-BLOCK\",\"blocks\":null,\"materials\":null,\"excludeInPaging\":false,\"positionForPaging\":0,\"realtime\":false,\"pid\":\"422\",\"name\":\"연합뉴스TV\",\"logoLight\":{\"url\":\"https://s.pstatic.net/static/newsstand/up/2025/0418/nsd18244498.png\"},\"logoDark\":{\"url\":\"https://s.pstatic.net/static/newsstand/up/2025/0418/nsd18255712.png\"},\"showThumbnailView\":true,\"showListView\":true,\"regDate\":\"20250819 16:15:21\",\"_id\":null,\"@type\":\"PC-NEWSSTAND-PRESS-BLOCK\",\"@code\":null,\"@template\":\"NONE\",\"@flowId\":null,\"@flowExecutionId\":null,\"@provider\":null,\"@lastModifiedAt\":null},{\"@type\":\"PC-NEWSSTAND-PRESS-BLOCK\",\"blocks\":null,\"materials\":null,\"excludeInPaging\":false,\"positionForPaging\":0,\"realtime\":false,\"pid\":\"308\",\"name\":\"시사IN\",\"logoLight\":{\"url\":\"https://s.pstatic.net/static/newsstand/up/2025/0418/nsd174916541.png\"},\"logoDark\":{\"url\":\"https://s.pstatic.net/static/newsstand/up/2025/0418/nsd174929782.png\"},\"showThumbnailView\":true,\"showListView\":true,\"regDate\":\"20250819 08:10:36\",\"_id\":null,\"@type\":\"PC-NEWSSTAND-PRESS-BLOCK\",\"@code\":null,\"@template\":\"NONE\",\"@flowId\":null,\"@flowExecutionId\":null,\"@provider\":null,\"@lastModifiedAt\":null},{\"@type\":\"PC-NEWSSTAND-PRESS-BLOCK\",\"blocks\":null,\"materials\":null,\"excludeInPaging\":false,\"positionForPaging\":0,\"realtime\":false,\"pid\":\"310\",\"name\":\"여성신문\",\"logoLight\":{\"url\":\"https://s.pstatic.net/static/newsstand/up/2025/0418/nsd18127785.png\"},\"logoDark\":{\"url\":\"https://s.pstatic.net/static/newsstand/up/2025/0418/nsd18140858.png\"},\"showThumbnailView\":true,\"showListView\":true,\"regDate\":\"20250819 16:10:02\",\"_id\":null,\"@type\":\"PC-NEWSSTAND-PRESS-BLOCK\",\"@code\":null,\"@template\":\"NONE\",\"@flowId\":null,\"@flowExecutionId\":null,\"@provider\":null,\"@lastModifiedAt\":null},{\"@type\":\"PC-NEWSSTAND-PRESS-BLOCK\",\"blocks\":null,\"materials\":null,\"excludeInPaging\":false,\"positionForPaging\":0,\"realtime\":false,\"pid\":\"311\",\"name\":\"엑스포츠뉴스\",\"logoLight\":{\"url\":\"https://s.pstatic.net/static/newsstand/2020/logo/light/0604/311.png\"},\"logoDark\":{\"url\":\"https://s.pstatic.net/static/newsstand/2020/logo/dark/0604/311.png\"},\"showThumbnailView\":true,\"showListView\":true,\"regDate\":\"20250819 15:28:40\",\"_id\":null,\"@type\":\"PC-NEWSSTAND-PRESS-BLOCK\",\"@code\":null,\"@template\":\"NONE\",\"@flowId\":null,\"@flowExecutionId\":null,\"@provider\":null,\"@lastModifiedAt\":null},{\"@type\":\"PC-NEWSSTAND-PRESS-BLOCK\",\"blocks\":null,\"materials\":null,\"excludeInPaging\":false,\"positionForPaging\":0,\"realtime\":false,\"pid\":\"312\",\"name\":\"텐아시아\",\"logoLight\":{\"url\":\"https://s.pstatic.net/static/newsstand/2020/logo/light/0604/312.png\"},\"logoDark\":{\"url\":\"https://s.pstatic.net/static/newsstand/2020/logo/dark/0604/312.png\"},\"showThumbnailView\":true,\"showListView\":true,\"regDate\":\"20250819 16:15:11\",\"_id\":null,\"@type\":\"PC-NEWSSTAND-PRESS-BLOCK\",\"@code\":null,\"@template\":\"NONE\",\"@flowId\":null,\"@flowExecutionId\":null,\"@provider\":null,\"@lastModifiedAt\":null},{\"@type\":\"PC-NEWSSTAND-PRESS-BLOCK\",\"blocks\":null,\"materials\":null,\"excludeInPaging\":false,\"positionForPaging\":0,\"realtime\":false,\"pid\":\"314\",\"name\":\"스포츠동아\",\"logoLight\":{\"url\":\"https://s.pstatic.net/static/newsstand/2020/logo/light/0604/314.png\"},\"logoDark\":{\"url\":\"https://s.pstatic.net/static/newsstand/2020/logo/dark/0604/314.png\"},\"showThumbnailView\":true,\"showListView\":true,\"regDate\":\"20250819 15:57:10\",\"_id\":null,\"@type\":\"PC-NEWSSTAND-PRESS-BLOCK\",\"@code\":null,\"@template\":\"NONE\",\"@flowId\":null,\"@flowExecutionId\":null,\"@provider\":null,\"@lastModifiedAt\":null},{\"@type\":\"PC-NEWSSTAND-PRESS-BLOCK\",\"blocks\":null,\"materials\":null,\"excludeInPaging\":false,\"positionForPaging\":0,\"realtime\":false,\"pid\":\"681\",\"name\":\"이코노타임즈\",\"logoLight\":{\"url\":\"https://s.pstatic.net/static/newsstand/up/2022/0615/nsd7251644.png\"},\"logoDark\":{\"url\":\"https://s.pstatic.net/static/newsstand/up/2022/0615/nsd7244919.png\"},\"showThumbnailView\":true,\"showListView\":true,\"regDate\":\"20250730 16:53:51\",\"_id\":null,\"@type\":\"PC-NEWSSTAND-PRESS-BLOCK\",\"@code\":null,\"@template\":\"NONE\",\"@flowId\":null,\"@flowExecutionId\":null,\"@provider\":null,\"@lastModifiedAt\":null},{\"@type\":\"PC-NEWSSTAND-PRESS-BLOCK\",\"blocks\":null,\"materials\":null,\"excludeInPaging\":false,\"positionForPaging\":0,\"realtime\":false,\"pid\":\"440\",\"name\":\"티브이데일리\",\"logoLight\":{\"url\":\"https://s.pstatic.net/static/newsstand/2020/logo/light/0604/440.png\"},\"logoDark\":{\"url\":\"https://s.pstatic.net/static/newsstand/2020/logo/dark/0604/440.png\"},\"showThumbnailView\":true,\"showListView\":true,\"regDate\":\"20250819 16:10:01\",\"_id\":null,\"@type\":\"PC-NEWSSTAND-PRESS-BLOCK\",\"@code\":null,\"@template\":\"NONE\",\"@flowId\":null,\"@flowExecutionId\":null,\"@provider\":null,\"@lastModifiedAt\":null},{\"@type\":\"PC-NEWSSTAND-PRESS-BLOCK\",\"blocks\":null,\"materials\":null,\"excludeInPaging\":false,\"positionForPaging\":0,\"realtime\":false,\"pid\":\"682\",\"name\":\"여성경제신문\",\"logoLight\":{\"url\":\"https://s.pstatic.net/static/newsstand/up/2022/1018/nsd132851977.png\"},\"logoDark\":{\"url\":\"https://s.pstatic.net/static/newsstand/up/2022/1018/nsd132844419.png\"},\"showThumbnailView\":true,\"showListView\":true,\"regDate\":\"20250819 16:10:50\",\"_id\":null,\"@type\":\"PC-NEWSSTAND-PRESS-BLOCK\",\"@code\":null,\"@template\":\"NONE\",\"@flowId\":null,\"@flowExecutionId\":null,\"@provider\":null,\"@lastModifiedAt\":null},{\"@type\":\"PC-NEWSSTAND-PRESS-BLOCK\",\"blocks\":null,\"materials\":null,\"excludeInPaging\":false,\"positionForPaging\":0,\"realtime\":false,\"pid\":\"683\",\"name\":\"MS투데이\",\"logoLight\":{\"url\":\"https://s.pstatic.net/static/newsstand/up/2022/1017/nsd202940832.png\"},\"logoDark\":{\"url\":\"https://s.pstatic.net/static/newsstand/up/2022/1017/nsd202933363.png\"},\"showThumbnailView\":true,\"showListView\":true,\"regDate\":\"20250819 16:10:51\",\"_id\":null,\"@type\":\"PC-NEWSSTAND-PRESS-BLOCK\",\"@code\":null,\"@template\":\"NONE\",\"@flowId\":null,\"@flowExecutionId\":null,\"@provider\":null,\"@lastModifiedAt\":null},{\"@type\":\"PC-NEWSSTAND-PRESS-BLOCK\",\"blocks\":null,\"materials\":null,\"excludeInPaging\":false,\"positionForPaging\":0,\"realtime\":false,\"pid\":\"684\",\"name\":\"TJB대전방송\",\"logoLight\":{\"url\":\"https://s.pstatic.net/static/newsstand/up/2023/0103/nsd95227559.png\"},\"logoDark\":{\"url\":\"https://s.pstatic.net/static/newsstand/up/2023/0103/nsd9522095.png\"},\"showThumbnailView\":true,\"showListView\":true,\"regDate\":\"20250819 16:13:02\",\"_id\":null,\"@type\":\"PC-NEWSSTAND-PRESS-BLOCK\",\"@code\":null,\"@template\":\"NONE\",\"@flowId\":null,\"@flowExecutionId\":null,\"@provider\":null,\"@lastModifiedAt\":null},{\"@type\":\"PC-NEWSSTAND-PRESS-BLOCK\",\"blocks\":null,\"materials\":null,\"excludeInPaging\":false,\"positionForPaging\":0,\"realtime\":false,\"pid\":\"685\",\"name\":\"서울와이어\",\"logoLight\":{\"url\":\"https://s.pstatic.net/static/newsstand/up/2022/1024/nsd174430433.png\"},\"logoDark\":{\"url\":\"https://s.pstatic.net/static/newsstand/up/2022/1024/nsd174424325.png\"},\"showThumbnailView\":true,\"showListView\":true,\"regDate\":\"20250819 16:10:50\",\"_id\":null,\"@type\":\"PC-NEWSSTAND-PRESS-BLOCK\",\"@code\":null,\"@template\":\"NONE\",\"@flowId\":null,\"@flowExecutionId\":null,\"@provider\":null,\"@lastModifiedAt\":null},{\"@type\":\"PC-NEWSSTAND-PRESS-BLOCK\",\"blocks\":null,\"materials\":null,\"excludeInPaging\":false,\"positionForPaging\":0,\"realtime\":false,\"pid\":\"686\",\"name\":\"주간경향\",\"logoLight\":{\"url\":\"https://s.pstatic.net/static/newsstand/up/2025/0418/nsd181217467.png\"},\"logoDark\":{\"url\":\"https://s.pstatic.net/static/newsstand/up/2025/0418/nsd181231652.png\"},\"showThumbnailView\":true,\"showListView\":true,\"regDate\":\"20250819 14:43:34\",\"_id\":null,\"@type\":\"PC-NEWSSTAND-PRESS-BLOCK\",\"@code\":null,\"@template\":\"NONE\",\"@flowId\":null,\"@flowExecutionId\":null,\"@provider\":null,\"@lastModifiedAt\":null},{\"@type\":\"PC-NEWSSTAND-PRESS-BLOCK\",\"blocks\":null,\"materials\":null,\"excludeInPaging\":false,\"positionForPaging\":0,\"realtime\":false,\"pid\":\"687\",\"name\":\"뉴스클레임\",\"logoLight\":{\"url\":\"https://s.pstatic.net/static/newsstand/up/2022/1006/nsd205818702.png\"},\"logoDark\":{\"url\":\"https://s.pstatic.net/static/newsstand/up/2022/1006/nsd205810265.png\"},\"showThumbnailView\":true,\"showListView\":true,\"regDate\":\"20250819 16:10:49\",\"_id\":null,\"@type\":\"PC-NEWSSTAND-PRESS-BLOCK\",\"@code\":null,\"@template\":\"NONE\",\"@flowId\":null,\"@flowExecutionId\":null,\"@provider\":null,\"@lastModifiedAt\":null},{\"@type\":\"PC-NEWSSTAND-PRESS-BLOCK\",\"blocks\":null,\"materials\":null,\"excludeInPaging\":false,\"positionForPaging\":0,\"realtime\":false,\"pid\":\"688\",\"name\":\"경기신문\",\"logoLight\":{\"url\":\"https://s.pstatic.net/static/newsstand/up/2022/1017/nsd202616515.png\"},\"logoDark\":{\"url\":\"https://s.pstatic.net/static/newsstand/up/2022/1017/nsd20268714.png\"},\"showThumbnailView\":true,\"showListView\":true,\"regDate\":\"20250819 16:10:02\",\"_id\":null,\"@type\":\"PC-NEWSSTAND-PRESS-BLOCK\",\"@code\":null,\"@template\":\"NONE\",\"@flowId\":null,\"@flowExecutionId\":null,\"@provider\":null,\"@lastModifiedAt\":null},{\"@type\":\"PC-NEWSSTAND-PRESS-BLOCK\",\"blocks\":null,\"materials\":null,\"excludeInPaging\":false,\"positionForPaging\":0,\"realtime\":false,\"pid\":\"326\",\"name\":\"KBS World\",\"logoLight\":{\"url\":\"https://s.pstatic.net/static/newsstand/2020/logo/light/0604/326.png\"},\"logoDark\":{\"url\":\"https://s.pstatic.net/static/newsstand/2020/logo/dark/0604/326.png\"},\"showThumbnailView\":true,\"showListView\":true,\"regDate\":\"20250819 14:47:36\",\"_id\":null,\"@type\":\"PC-NEWSSTAND-PRESS-BLOCK\",\"@code\":null,\"@template\":\"NONE\",\"@flowId\":null,\"@flowExecutionId\":null,\"@provider\":null,\"@lastModifiedAt\":null},{\"@type\":\"PC-NEWSSTAND-PRESS-BLOCK\",\"blocks\":null,\"materials\":null,\"excludeInPaging\":false,\"positionForPaging\":0,\"realtime\":false,\"pid\":\"447\",\"name\":\"뉴스엔\",\"logoLight\":{\"url\":\"https://s.pstatic.net/static/newsstand/2020/logo/light/0604/447.png\"},\"logoDark\":{\"url\":\"https://s.pstatic.net/static/newsstand/2020/logo/dark/0604/447.png\"},\"showThumbnailView\":true,\"showListView\":true,\"regDate\":\"20250819 14:13:34\",\"_id\":null,\"@type\":\"PC-NEWSSTAND-PRESS-BLOCK\",\"@code\":null,\"@template\":\"NONE\",\"@flowId\":null,\"@flowExecutionId\":null,\"@provider\":null,\"@lastModifiedAt\":null},{\"@type\":\"PC-NEWSSTAND-PRESS-BLOCK\",\"blocks\":null,\"materials\":null,\"excludeInPaging\":false,\"positionForPaging\":0,\"realtime\":false,\"pid\":\"689\",\"name\":\"인천투데이\",\"logoLight\":{\"url\":\"https://s.pstatic.net/static/newsstand/up/2022/1107/nsd1054226.png\"},\"logoDark\":{\"url\":\"https://s.pstatic.net/static/newsstand/up/2022/1107/nsd105354391.png\"},\"showThumbnailView\":true,\"showListView\":true,\"regDate\":\"20250819 16:10:49\",\"_id\":null,\"@type\":\"PC-NEWSSTAND-PRESS-BLOCK\",\"@code\":null,\"@template\":\"NONE\",\"@flowId\":null,\"@flowExecutionId\":null,\"@provider\":null,\"@lastModifiedAt\":null},{\"@type\":\"PC-NEWSSTAND-PRESS-BLOCK\",\"blocks\":null,\"materials\":null,\"excludeInPaging\":false,\"positionForPaging\":0,\"realtime\":false,\"pid\":\"327\",\"name\":\"뉴데일리\",\"logoLight\":{\"url\":\"https://s.pstatic.net/static/newsstand/up/2024/0124/nsd95528325.png\"},\"logoDark\":{\"url\":\"https://s.pstatic.net/static/newsstand/up/2024/0124/nsd95520363.png\"},\"showThumbnailView\":true,\"showListView\":true,\"regDate\":\"20250819 16:20:11\",\"_id\":null,\"@type\":\"PC-NEWSSTAND-PRESS-BLOCK\",\"@code\":null,\"@template\":\"NONE\",\"@flowId\":null,\"@flowExecutionId\":null,\"@provider\":null,\"@lastModifiedAt\":null},{\"@type\":\"PC-NEWSSTAND-PRESS-BLOCK\",\"blocks\":null,\"materials\":null,\"excludeInPaging\":false,\"positionForPaging\":0,\"realtime\":false,\"pid\":\"328\",\"name\":\"에이블뉴스\",\"logoLight\":{\"url\":\"https://s.pstatic.net/static/newsstand/2020/logo/light/0604/328.png\"},\"logoDark\":{\"url\":\"https://s.pstatic.net/static/newsstand/2020/logo/dark/0604/328.png\"},\"showThumbnailView\":true,\"showListView\":true,\"regDate\":\"20250819 16:10:51\",\"_id\":null,\"@type\":\"PC-NEWSSTAND-PRESS-BLOCK\",\"@code\":null,\"@template\":\"NONE\",\"@flowId\":null,\"@flowExecutionId\":null,\"@provider\":null,\"@lastModifiedAt\":null},{\"@type\":\"PC-NEWSSTAND-PRESS-BLOCK\",\"blocks\":null,\"materials\":null,\"excludeInPaging\":false,\"positionForPaging\":0,\"realtime\":false,\"pid\":\"329\",\"name\":\"소년한국일보\",\"logoLight\":{\"url\":\"https://s.pstatic.net/static/newsstand/up/2021/0728/nsd1110888.png\"},\"logoDark\":{\"url\":\"https://s.pstatic.net/static/newsstand/up/2021/0728/nsd111059924.png\"},\"showThumbnailView\":true,\"showListView\":true,\"regDate\":\"20250819 16:10:42\",\"_id\":null,\"@type\":\"PC-NEWSSTAND-PRESS-BLOCK\",\"@code\":null,\"@template\":\"NONE\",\"@flowId\":null,\"@flowExecutionId\":null,\"@provider\":null,\"@lastModifiedAt\":null},{\"@type\":\"PC-NEWSSTAND-PRESS-BLOCK\",\"blocks\":null,\"materials\":null,\"excludeInPaging\":false,\"positionForPaging\":0,\"realtime\":false,\"pid\":\"690\",\"name\":\"정책브리핑\",\"logoLight\":{\"url\":\"https://s.pstatic.net/static/newsstand/up/2022/1116/nsd113848865.png\"},\"logoDark\":{\"url\":\"https://s.pstatic.net/static/newsstand/up/2022/1116/nsd113840778.png\"},\"showThumbnailView\":true,\"showListView\":true,\"regDate\":\"20250819 16:12:02\",\"_id\":null,\"@type\":\"PC-NEWSSTAND-PRESS-BLOCK\",\"@code\":null,\"@template\":\"NONE\",\"@flowId\":null,\"@flowExecutionId\":null,\"@provider\":null,\"@lastModifiedAt\":null},{\"@type\":\"PC-NEWSSTAND-PRESS-BLOCK\",\"blocks\":null,\"materials\":null,\"excludeInPaging\":false,\"positionForPaging\":0,\"realtime\":false,\"pid\":\"691\",\"name\":\"여성동아\",\"logoLight\":{\"url\":\"https://s.pstatic.net/static/newsstand/up/2023/0418/nsd124451202.png\"},\"logoDark\":{\"url\":\"https://s.pstatic.net/static/newsstand/up/2023/0418/nsd124439166.png\"},\"showThumbnailView\":true,\"showListView\":true,\"regDate\":\"20250819 10:20:37\",\"_id\":null,\"@type\":\"PC-NEWSSTAND-PRESS-BLOCK\",\"@code\":null,\"@template\":\"NONE\",\"@flowId\":null,\"@flowExecutionId\":null,\"@provider\":null,\"@lastModifiedAt\":null},{\"@type\":\"PC-NEWSSTAND-PRESS-BLOCK\",\"blocks\":null,\"materials\":null,\"excludeInPaging\":false,\"positionForPaging\":0,\"realtime\":false,\"pid\":\"330\",\"name\":\"중앙데일리\",\"logoLight\":{\"url\":\"https://s.pstatic.net/static/newsstand/up/2025/0418/nsd182012954.png\"},\"logoDark\":{\"url\":\"https://s.pstatic.net/static/newsstand/up/2025/0418/nsd182025175.png\"},\"showThumbnailView\":true,\"showListView\":true,\"regDate\":\"20250819 14:46:51\",\"_id\":null,\"@type\":\"PC-NEWSSTAND-PRESS-BLOCK\",\"@code\":null,\"@template\":\"NONE\",\"@flowId\":null,\"@flowExecutionId\":null,\"@provider\":null,\"@lastModifiedAt\":null},{\"@type\":\"PC-NEWSSTAND-PRESS-BLOCK\",\"blocks\":null,\"materials\":null,\"excludeInPaging\":false,\"positionForPaging\":0,\"realtime\":false,\"pid\":\"331\",\"name\":\"충청투데이\",\"logoLight\":{\"url\":\"https://s.pstatic.net/static/newsstand/2020/logo/light/0604/331.png\"},\"logoDark\":{\"url\":\"https://s.pstatic.net/static/newsstand/2020/logo/dark/0604/331.png\"},\"showThumbnailView\":true,\"showListView\":true,\"regDate\":\"20250819 13:10:37\",\"_id\":null,\"@type\":\"PC-NEWSSTAND-PRESS-BLOCK\",\"@code\":null,\"@template\":\"NONE\",\"@flowId\":null,\"@flowExecutionId\":null,\"@provider\":null,\"@lastModifiedAt\":null},{\"@type\":\"PC-NEWSSTAND-PRESS-BLOCK\",\"blocks\":null,\"materials\":null,\"excludeInPaging\":false,\"positionForPaging\":0,\"realtime\":false,\"pid\":\"332\",\"name\":\"국제신문\",\"logoLight\":{\"url\":\"https://s.pstatic.net/static/newsstand/up/2025/0418/nsd165638566.png\"},\"logoDark\":{\"url\":\"https://s.pstatic.net/static/newsstand/up/2025/0418/nsd165653491.png\"},\"showThumbnailView\":true,\"showListView\":true,\"regDate\":\"20250819 14:17:25\",\"_id\":null,\"@type\":\"PC-NEWSSTAND-PRESS-BLOCK\",\"@code\":null,\"@template\":\"NONE\",\"@flowId\":null,\"@flowExecutionId\":null,\"@provider\":null,\"@lastModifiedAt\":null},{\"@type\":\"PC-NEWSSTAND-PRESS-BLOCK\",\"blocks\":null,\"materials\":null,\"excludeInPaging\":false,\"positionForPaging\":0,\"realtime\":false,\"pid\":\"333\",\"name\":\"경남신문\",\"logoLight\":{\"url\":\"https://s.pstatic.net/static/newsstand/2020/logo/light/0604/333.png\"},\"logoDark\":{\"url\":\"https://s.pstatic.net/static/newsstand/2020/logo/dark/0604/333.png\"},\"showThumbnailView\":true,\"showListView\":true,\"regDate\":\"20250819 16:01:11\",\"_id\":null,\"@type\":\"PC-NEWSSTAND-PRESS-BLOCK\",\"@code\":null,\"@template\":\"NONE\",\"@flowId\":null,\"@flowExecutionId\":null,\"@provider\":null,\"@lastModifiedAt\":null},{\"@type\":\"PC-NEWSSTAND-PRESS-BLOCK\",\"blocks\":null,\"materials\":null,\"excludeInPaging\":false,\"positionForPaging\":0,\"realtime\":false,\"pid\":\"213\",\"name\":\"TV리포트\",\"logoLight\":{\"url\":\"https://s.pstatic.net/static/newsstand/up/2023/0714/nsd125517690.png\"},\"logoDark\":{\"url\":\"https://s.pstatic.net/static/newsstand/up/2023/0714/nsd125510155.png\"},\"showThumbnailView\":true,\"showListView\":true,\"regDate\":\"20250819 14:44:22\",\"_id\":null,\"@type\":\"PC-NEWSSTAND-PRESS-BLOCK\",\"@code\":null,\"@template\":\"NONE\",\"@flowId\":null,\"@flowExecutionId\":null,\"@provider\":null,\"@lastModifiedAt\":null},{\"@type\":\"PC-NEWSSTAND-PRESS-BLOCK\",\"blocks\":null,\"materials\":null,\"excludeInPaging\":false,\"positionForPaging\":0,\"realtime\":false,\"pid\":\"334\",\"name\":\"제주의소리\",\"logoLight\":{\"url\":\"https://s.pstatic.net/static/newsstand/2020/logo/light/0604/334.png\"},\"logoDark\":{\"url\":\"https://s.pstatic.net/static/newsstand/2020/logo/dark/0604/334.png\"},\"showThumbnailView\":true,\"showListView\":true,\"regDate\":\"20250819 14:31:14\",\"_id\":null,\"@type\":\"PC-NEWSSTAND-PRESS-BLOCK\",\"@code\":null,\"@template\":\"NONE\",\"@flowId\":null,\"@flowExecutionId\":null,\"@provider\":null,\"@lastModifiedAt\":null},{\"@type\":\"PC-NEWSSTAND-PRESS-BLOCK\",\"blocks\":null,\"materials\":null,\"excludeInPaging\":false,\"positionForPaging\":0,\"realtime\":false,\"pid\":\"214\",\"name\":\"MBC\",\"logoLight\":{\"url\":\"https://s.pstatic.net/static/newsstand/up/2025/0418/nsd161450864.png\"},\"logoDark\":{\"url\":\"https://s.pstatic.net/static/newsstand/up/2025/0418/nsd161561.png\"},\"showThumbnailView\":true,\"showListView\":true,\"regDate\":\"20250819 15:42:57\",\"_id\":null,\"@type\":\"PC-NEWSSTAND-PRESS-BLOCK\",\"@code\":null,\"@template\":\"NONE\",\"@flowId\":null,\"@flowExecutionId\":null,\"@provider\":null,\"@lastModifiedAt\":null},{\"@type\":\"PC-NEWSSTAND-PRESS-BLOCK\",\"blocks\":null,\"materials\":null,\"excludeInPaging\":false,\"positionForPaging\":0,\"realtime\":false,\"pid\":\"335\",\"name\":\"강원도민일보\",\"logoLight\":{\"url\":\"https://s.pstatic.net/static/newsstand/up/2025/0418/nsd162426349.png\"},\"logoDark\":{\"url\":\"https://s.pstatic.net/static/newsstand/up/2025/0418/nsd162439445.png\"},\"showThumbnailView\":true,\"showListView\":true,\"regDate\":\"20250819 15:57:21\",\"_id\":null,\"@type\":\"PC-NEWSSTAND-PRESS-BLOCK\",\"@code\":null,\"@template\":\"NONE\",\"@flowId\":null,\"@flowExecutionId\":null,\"@provider\":null,\"@lastModifiedAt\":null},{\"@type\":\"PC-NEWSSTAND-PRESS-BLOCK\",\"blocks\":null,\"materials\":null,\"excludeInPaging\":false,\"positionForPaging\":0,\"realtime\":false,\"pid\":\"215\",\"name\":\"한국경제TV\",\"logoLight\":{\"url\":\"https://s.pstatic.net/static/newsstand/up/2025/0418/nsd182944971.png\"},\"logoDark\":{\"url\":\"https://s.pstatic.net/static/newsstand/up/2025/0418/nsd18301174.png\"},\"showThumbnailView\":true,\"showListView\":true,\"regDate\":\"20250819 16:04:02\",\"_id\":null,\"@type\":\"PC-NEWSSTAND-PRESS-BLOCK\",\"@code\":null,\"@template\":\"NONE\",\"@flowId\":null,\"@flowExecutionId\":null,\"@provider\":null,\"@lastModifiedAt\":null},{\"@type\":\"PC-NEWSSTAND-PRESS-BLOCK\",\"blocks\":null,\"materials\":null,\"excludeInPaging\":false,\"positionForPaging\":0,\"realtime\":false,\"pid\":\"336\",\"name\":\"전북일보\",\"logoLight\":{\"url\":\"https://s.pstatic.net/static/newsstand/2020/logo/light/0604/336.png\"},\"logoDark\":{\"url\":\"https://s.pstatic.net/static/newsstand/2020/logo/dark/0604/336.png\"},\"showThumbnailView\":true,\"showListView\":true,\"regDate\":\"20250819 15:07:58\",\"_id\":null,\"@type\":\"PC-NEWSSTAND-PRESS-BLOCK\",\"@code\":null,\"@template\":\"NONE\",\"@flowId\":null,\"@flowExecutionId\":null,\"@provider\":null,\"@lastModifiedAt\":null},{\"@type\":\"PC-NEWSSTAND-PRESS-BLOCK\",\"blocks\":null,\"materials\":null,\"excludeInPaging\":false,\"positionForPaging\":0,\"realtime\":false,\"pid\":\"337\",\"name\":\"경북일보\",\"logoLight\":{\"url\":\"https://s.pstatic.net/static/newsstand/2020/logo/light/0604/337.png\"},\"logoDark\":{\"url\":\"https://s.pstatic.net/static/newsstand/2020/logo/dark/0604/337.png\"},\"showThumbnailView\":true,\"showListView\":true,\"regDate\":\"20250819 12:38:58\",\"_id\":null,\"@type\":\"PC-NEWSSTAND-PRESS-BLOCK\",\"@code\":null,\"@template\":\"NONE\",\"@flowId\":null,\"@flowExecutionId\":null,\"@provider\":null,\"@lastModifiedAt\":null},{\"@type\":\"PC-NEWSSTAND-PRESS-BLOCK\",\"blocks\":null,\"materials\":null,\"excludeInPaging\":false,\"positionForPaging\":0,\"realtime\":false,\"pid\":\"338\",\"name\":\"경인일보\",\"logoLight\":{\"url\":\"https://s.pstatic.net/static/newsstand/2020/logo/light/0604/338.png\"},\"logoDark\":{\"url\":\"https://s.pstatic.net/static/newsstand/2020/logo/dark/0604/338.png\"},\"showThumbnailView\":true,\"showListView\":true,\"regDate\":\"20250819 16:21:46\",\"_id\":null,\"@type\":\"PC-NEWSSTAND-PRESS-BLOCK\",\"@code\":null,\"@template\":\"NONE\",\"@flowId\":null,\"@flowExecutionId\":null,\"@provider\":null,\"@lastModifiedAt\":null},{\"@type\":\"PC-NEWSSTAND-PRESS-BLOCK\",\"blocks\":null,\"materials\":null,\"excludeInPaging\":false,\"positionForPaging\":0,\"realtime\":false,\"pid\":\"339\",\"name\":\"경기일보\",\"logoLight\":{\"url\":\"https://s.pstatic.net/static/newsstand/up/2025/0418/nsd165241278.png\"},\"logoDark\":{\"url\":\"https://s.pstatic.net/static/newsstand/up/2025/0418/nsd165254812.png\"},\"showThumbnailView\":true,\"showListView\":true,\"regDate\":\"20250819 15:43:08\",\"_id\":null,\"@type\":\"PC-NEWSSTAND-PRESS-BLOCK\",\"@code\":null,\"@template\":\"NONE\",\"@flowId\":null,\"@flowExecutionId\":null,\"@provider\":null,\"@lastModifiedAt\":null},{\"@type\":\"PC-NEWSSTAND-PRESS-BLOCK\",\"blocks\":null,\"materials\":null,\"excludeInPaging\":false,\"positionForPaging\":0,\"realtime\":false,\"pid\":\"340\",\"name\":\"OBS\",\"logoLight\":{\"url\":\"https://s.pstatic.net/static/newsstand/2020/logo/light/0604/340.png\"},\"logoDark\":{\"url\":\"https://s.pstatic.net/static/newsstand/2020/logo/dark/0604/340.png\"},\"showThumbnailView\":true,\"showListView\":true,\"regDate\":\"20250819 13:36:32\",\"_id\":null,\"@type\":\"PC-NEWSSTAND-PRESS-BLOCK\",\"@code\":null,\"@template\":\"NONE\",\"@flowId\":null,\"@flowExecutionId\":null,\"@provider\":null,\"@lastModifiedAt\":null},{\"@type\":\"PC-NEWSSTAND-PRESS-BLOCK\",\"blocks\":null,\"materials\":null,\"excludeInPaging\":false,\"positionForPaging\":0,\"realtime\":false,\"pid\":\"344\",\"name\":\"EBS\",\"logoLight\":{\"url\":\"https://s.pstatic.net/static/newsstand/up/2020/0803/nsd20247547.png\"},\"logoDark\":{\"url\":\"https://s.pstatic.net/static/newsstand/up/2020/0803/nsd202358800.png\"},\"showThumbnailView\":true,\"showListView\":true,\"regDate\":\"20250819 14:46:08\",\"_id\":null,\"@type\":\"PC-NEWSSTAND-PRESS-BLOCK\",\"@code\":null,\"@template\":\"NONE\",\"@flowId\":null,\"@flowExecutionId\":null,\"@provider\":null,\"@lastModifiedAt\":null},{\"@type\":\"PC-NEWSSTAND-PRESS-BLOCK\",\"blocks\":null,\"materials\":null,\"excludeInPaging\":false,\"positionForPaging\":0,\"realtime\":false,\"pid\":\"345\",\"name\":\"디자인정글\",\"logoLight\":{\"url\":\"https://s.pstatic.net/static/newsstand/2020/logo/light/0604/345.png\"},\"logoDark\":{\"url\":\"https://s.pstatic.net/static/newsstand/2020/logo/dark/0604/345.png\"},\"showThumbnailView\":true,\"showListView\":true,\"regDate\":\"20250819 11:28:20\",\"_id\":null,\"@type\":\"PC-NEWSSTAND-PRESS-BLOCK\",\"@code\":null,\"@template\":\"NONE\",\"@flowId\":null,\"@flowExecutionId\":null,\"@provider\":null,\"@lastModifiedAt\":null},{\"@type\":\"PC-NEWSSTAND-PRESS-BLOCK\",\"blocks\":null,\"materials\":null,\"excludeInPaging\":false,\"positionForPaging\":0,\"realtime\":false,\"pid\":\"346\",\"name\":\"헬스조선\",\"logoLight\":{\"url\":\"https://s.pstatic.net/static/newsstand/up/2025/0418/nsd183246211.png\"},\"logoDark\":{\"url\":\"https://s.pstatic.net/static/newsstand/up/2025/0418/nsd183259246.png\"},\"showThumbnailView\":true,\"showListView\":true,\"regDate\":\"20250819 16:19:03\",\"_id\":null,\"@type\":\"PC-NEWSSTAND-PRESS-BLOCK\",\"@code\":null,\"@template\":\"NONE\",\"@flowId\":null,\"@flowExecutionId\":null,\"@provider\":null,\"@lastModifiedAt\":null},{\"@type\":\"PC-NEWSSTAND-PRESS-BLOCK\",\"blocks\":null,\"materials\":null,\"excludeInPaging\":false,\"positionForPaging\":0,\"realtime\":false,\"pid\":\"108\",\"name\":\"스타뉴스\",\"logoLight\":{\"url\":\"https://s.pstatic.net/static/newsstand/2020/logo/light/0604/108.png\"},\"logoDark\":{\"url\":\"https://s.pstatic.net/static/newsstand/2020/logo/dark/0604/108.png\"},\"showThumbnailView\":true,\"showListView\":true,\"regDate\":\"20250819 16:20:02\",\"_id\":null,\"@type\":\"PC-NEWSSTAND-PRESS-BLOCK\",\"@code\":null,\"@template\":\"NONE\",\"@flowId\":null,\"@flowExecutionId\":null,\"@provider\":null,\"@lastModifiedAt\":null},{\"@type\":\"PC-NEWSSTAND-PRESS-BLOCK\",\"blocks\":null,\"materials\":null,\"excludeInPaging\":false,\"positionForPaging\":0,\"realtime\":false,\"pid\":\"109\",\"name\":\"OSEN\",\"logoLight\":{\"url\":\"https://s.pstatic.net/static/newsstand/up/2020/0610/nsd151458769.png\"},\"logoDark\":{\"url\":\"https://s.pstatic.net/static/newsstand/up/2020/0610/nsd151458769.png\"},\"showThumbnailView\":true,\"showListView\":true,\"regDate\":\"20250819 07:53:12\",\"_id\":null,\"@type\":\"PC-NEWSSTAND-PRESS-BLOCK\",\"@code\":null,\"@template\":\"NONE\",\"@flowId\":null,\"@flowExecutionId\":null,\"@provider\":null,\"@lastModifiedAt\":null},{\"@type\":\"PC-NEWSSTAND-PRESS-BLOCK\",\"blocks\":null,\"materials\":null,\"excludeInPaging\":false,\"positionForPaging\":0,\"realtime\":false,\"pid\":\"901\",\"name\":\"제민일보\",\"logoLight\":{\"url\":\"https://s.pstatic.net/static/newsstand/up/2020/1119/nsd213345745.png\"},\"logoDark\":{\"url\":\"https://s.pstatic.net/static/newsstand/up/2020/1119/nsd213339585.png\"},\"showThumbnailView\":true,\"showListView\":true,\"regDate\":\"20250819 15:13:32\",\"_id\":null,\"@type\":\"PC-NEWSSTAND-PRESS-BLOCK\",\"@code\":null,\"@template\":\"NONE\",\"@flowId\":null,\"@flowExecutionId\":null,\"@provider\":null,\"@lastModifiedAt\":null},{\"@type\":\"PC-NEWSSTAND-PRESS-BLOCK\",\"blocks\":null,\"materials\":null,\"excludeInPaging\":false,\"positionForPaging\":0,\"realtime\":false,\"pid\":\"902\",\"name\":\"TV조선\",\"logoLight\":{\"url\":\"https://s.pstatic.net/static/newsstand/up/2025/0418/nsd162017484.png\"},\"logoDark\":{\"url\":\"https://s.pstatic.net/static/newsstand/up/2025/0418/nsd162032135.png\"},\"showThumbnailView\":true,\"showListView\":true,\"regDate\":\"20250819 15:55:37\",\"_id\":null,\"@type\":\"PC-NEWSSTAND-PRESS-BLOCK\",\"@code\":null,\"@template\":\"NONE\",\"@flowId\":null,\"@flowExecutionId\":null,\"@provider\":null,\"@lastModifiedAt\":null},{\"@type\":\"PC-NEWSSTAND-PRESS-BLOCK\",\"blocks\":null,\"materials\":null,\"excludeInPaging\":false,\"positionForPaging\":0,\"realtime\":false,\"pid\":\"903\",\"name\":\"채널A\",\"logoLight\":{\"url\":\"https://s.pstatic.net/static/newsstand/up/2025/0418/nsd181916575.png\"},\"logoDark\":{\"url\":\"https://s.pstatic.net/static/newsstand/up/2025/0418/nsd181929906.png\"},\"showThumbnailView\":true,\"showListView\":true,\"regDate\":\"20250819 16:00:06\",\"_id\":null,\"@type\":\"PC-NEWSSTAND-PRESS-BLOCK\",\"@code\":null,\"@template\":\"NONE\",\"@flowId\":null,\"@flowExecutionId\":null,\"@provider\":null,\"@lastModifiedAt\":null},{\"@type\":\"PC-NEWSSTAND-PRESS-BLOCK\",\"blocks\":null,\"materials\":null,\"excludeInPaging\":false,\"positionForPaging\":0,\"realtime\":false,\"pid\":\"904\",\"name\":\"JTBC\",\"logoLight\":{\"url\":\"https://s.pstatic.net/static/newsstand/up/2025/0418/nsd169122.png\"},\"logoDark\":{\"url\":\"https://s.pstatic.net/static/newsstand/up/2025/0418/nsd16919234.png\"},\"showThumbnailView\":true,\"showListView\":true,\"regDate\":\"20250819 16:04:37\",\"_id\":null,\"@type\":\"PC-NEWSSTAND-PRESS-BLOCK\",\"@code\":null,\"@template\":\"NONE\",\"@flowId\":null,\"@flowExecutionId\":null,\"@provider\":null,\"@lastModifiedAt\":null},{\"@type\":\"PC-NEWSSTAND-PRESS-BLOCK\",\"blocks\":null,\"materials\":null,\"excludeInPaging\":false,\"positionForPaging\":0,\"realtime\":false,\"pid\":\"905\",\"name\":\"더스쿠프\",\"logoLight\":{\"url\":\"https://s.pstatic.net/static/newsstand/up/2025/0418/nsd1761708.png\"},\"logoDark\":{\"url\":\"https://s.pstatic.net/static/newsstand/up/2025/0418/nsd17614327.png\"},\"showThumbnailView\":true,\"showListView\":true,\"regDate\":\"20250817 08:58:02\",\"_id\":null,\"@type\":\"PC-NEWSSTAND-PRESS-BLOCK\",\"@code\":null,\"@template\":\"NONE\",\"@flowId\":null,\"@flowExecutionId\":null,\"@provider\":null,\"@lastModifiedAt\":null},{\"@type\":\"PC-NEWSSTAND-PRESS-BLOCK\",\"blocks\":null,\"materials\":null,\"excludeInPaging\":false,\"positionForPaging\":0,\"realtime\":false,\"pid\":\"906\",\"name\":\"KNN\",\"logoLight\":{\"url\":\"https://s.pstatic.net/static/newsstand/2020/logo/light/0604/906.png\"},\"logoDark\":{\"url\":\"https://s.pstatic.net/static/newsstand/2020/logo/dark/0604/906.png\"},\"showThumbnailView\":true,\"showListView\":true,\"regDate\":\"20250818 21:04:38\",\"_id\":null,\"@type\":\"PC-NEWSSTAND-PRESS-BLOCK\",\"@code\":null,\"@template\":\"NONE\",\"@flowId\":null,\"@flowExecutionId\":null,\"@provider\":null,\"@lastModifiedAt\":null}],\"materials\":null,\"excludeInPaging\":false,\"positionForPaging\":0,\"realtime\":false,\"majorPidList\":[\"032\",\"005\",\"079\",\"327\",\"930\",\"003\",\"368\",\"020\",\"029\",\"117\",\"009\",\"088\",\"008\",\"021\",\"006\",\"293\",\"011\",\"081\",\"022\",\"073\",\"076\",\"308\",\"277\",\"920\",\"031\",\"422\",\"047\",\"018\",\"241\",\"030\",\"366\",\"023\",\"330\",\"025\",\"092\",\"903\",\"044\",\"014\",\"002\",\"028\",\"015\",\"215\",\"038\",\"016\",\"904\",\"056\",\"326\",\"214\",\"057\",\"109\",\"055\",\"052\"],\"minorPidList\":[\"944\",\"687\",\"913\",\"914\",\"960\",\"536\",\"804\",\"042\",\"812\",\"969\",\"417\",\"961\",\"809\",\"814\",\"942\",\"943\",\"973\",\"685\",\"824\",\"970\",\"816\",\"957\",\"975\",\"810\",\"921\",\"963\",\"682\",\"013\",\"801\",\"539\",\"964\",\"825\",\"243\",\"922\",\"803\",\"923\",\"971\",\"925\",\"690\",\"123\",\"353\",\"941\",\"143\",\"826\",\"822\",\"968\",\"993\",\"974\",\"932\",\"954\",\"120\",\"823\",\"683\",\"959\",\"972\",\"421\",\"916\",\"376\",\"934\",\"344\",\"980\",\"906\",\"340\",\"374\",\"989\",\"981\",\"684\",\"902\",\"945\",\"910\",\"138\",\"953\",\"952\",\"977\",\"994\",\"818\",\"917\",\"681\",\"040\",\"946\",\"830\",\"447\",\"108\",\"802\",\"144\",\"314\",\"396\",\"529\",\"940\",\"962\",\"139\",\"477\",\"311\",\"947\",\"312\",\"440\",\"410\",\"416\",\"213\",\"356\",\"908\",\"938\",\"984\",\"911\",\"998\",\"997\",\"995\",\"905\",\"991\",\"955\",\"363\",\"345\",\"364\",\"915\",\"024\",\"996\",\"075\",\"829\",\"819\",\"815\",\"122\",\"958\",\"827\",\"355\",\"808\",\"329\",\"135\",\"828\",\"140\",\"979\",\"328\",\"354\",\"691\",\"310\",\"094\",\"820\",\"950\",\"988\",\"982\",\"813\",\"924\",\"807\",\"965\",\"966\",\"686\",\"990\",\"361\",\"956\",\"928\",\"967\",\"296\",\"986\",\"951\",\"948\",\"806\",\"050\",\"805\",\"811\",\"384\",\"346\"],\"catePidList\":{\"ct7\":[\"356\",\"908\",\"938\",\"984\",\"911\",\"998\",\"997\",\"995\",\"905\",\"991\",\"955\",\"363\",\"345\",\"364\",\"915\",\"024\",\"996\",\"075\",\"829\",\"819\",\"815\",\"122\",\"958\",\"827\",\"355\",\"808\",\"329\",\"308\",\"135\",\"828\",\"140\",\"979\",\"328\",\"354\",\"691\",\"310\",\"094\",\"820\",\"950\",\"988\",\"982\",\"813\",\"924\",\"807\",\"965\",\"966\",\"686\",\"990\",\"361\",\"956\",\"928\",\"967\",\"296\",\"986\",\"951\",\"948\",\"806\",\"050\",\"805\",\"811\",\"384\",\"346\"],\"ct8\":[\"335\",\"087\",\"688\",\"339\",\"821\",\"333\",\"978\",\"907\",\"337\",\"935\",\"338\",\"083\",\"332\",\"909\",\"936\",\"089\",\"301\",\"088\",\"976\",\"817\",\"082\",\"385\",\"387\",\"689\",\"388\",\"937\",\"336\",\"901\",\"389\",\"334\",\"983\",\"926\",\"927\",\"391\",\"331\"],\"ct5\":[\"681\",\"330\",\"040\",\"044\",\"326\",\"946\"],\"ct6\":[\"830\",\"447\",\"117\",\"108\",\"802\",\"144\",\"314\",\"073\",\"396\",\"076\",\"529\",\"940\",\"962\",\"139\",\"477\",\"311\",\"241\",\"947\",\"312\",\"440\",\"410\",\"109\",\"416\",\"213\"],\"ct3\":[\"421\",\"003\",\"916\",\"422\",\"376\",\"903\",\"215\",\"934\",\"344\",\"904\",\"980\",\"056\",\"906\",\"214\",\"057\",\"340\",\"055\",\"374\",\"989\",\"981\",\"684\",\"902\",\"052\",\"945\"],\"ct4\":[\"910\",\"138\",\"029\",\"953\",\"952\",\"293\",\"030\",\"092\",\"977\",\"994\",\"818\",\"917\"],\"ct2\":[\"032\",\"005\",\"944\",\"079\",\"327\",\"687\",\"930\",\"913\",\"914\",\"960\",\"536\",\"804\",\"368\",\"042\",\"020\",\"812\",\"009\",\"969\",\"417\",\"008\",\"961\",\"021\",\"006\",\"809\",\"814\",\"942\",\"943\",\"973\",\"011\",\"081\",\"685\",\"824\",\"022\",\"970\",\"816\",\"957\",\"975\",\"810\",\"277\",\"920\",\"031\",\"921\",\"963\",\"682\",\"013\",\"047\",\"801\",\"539\",\"964\",\"018\",\"825\",\"243\",\"922\",\"803\",\"923\",\"971\",\"925\",\"690\",\"366\",\"023\",\"123\",\"353\",\"025\",\"941\",\"143\",\"826\",\"014\",\"822\",\"002\",\"028\",\"015\",\"968\",\"038\",\"993\",\"016\",\"974\",\"932\",\"954\",\"120\",\"823\",\"683\",\"959\",\"972\"]},\"targetLocalPidList\":[\"335\",\"087\",\"688\",\"339\",\"821\",\"333\",\"978\",\"907\",\"337\",\"935\",\"338\",\"083\",\"332\",\"909\",\"936\",\"089\",\"301\",\"976\",\"817\",\"082\",\"385\",\"387\",\"689\",\"388\",\"937\",\"336\",\"901\",\"389\",\"334\",\"983\",\"926\",\"927\",\"391\",\"331\"],\"subsPidList\":[],\"firstPressBlock\":null,\"rcode2\":\"default\",\"rcode\":\"default\",\"_id\":null,\"@type\":\"PC-NEWSSTAND-BLOCK\",\"@code\":\"PC-NEWSSTAND\",\"@template\":\"PC-NEWSSTAND\",\"@flowId\":null,\"@flowExecutionId\":null,\"@provider\":null,\"@lastModifiedAt\":null}],\"materials\":null,\"excludeInPaging\":false,\"positionForPaging\":0,\"realtime\":false,\"_id\":null,\"@type\":\"BLOCK\",\"@code\":\"PC-MEDIA-NEWSSTAND\",\"@template\":\"NONE\",\"@flowId\":null,\"@flowExecutionId\":null,\"@provider\":null,\"@lastModifiedAt\":null}],\"materials\":null,\"excludeInPaging\":false,\"positionForPaging\":0,\"realtime\":false,\"sportsLive\":false,\"_id\":\"643e68a5a10d3006855e268d\",\"@type\":\"PC-MEDIA-CONTENTS-BLOCK\",\"@code\":\"PC-MEDIA-WRAPPER\",\"@template\":\"PC-MEDIA-WRAPPER\",\"@flowId\":\"PC-MEDIA-WRAPPER\",\"@flowExecutionId\":\"fc625ce1-7ccd-11f0-85b8-bd1d2717020f\",\"@provider\":\"lambda\",\"@lastModifiedAt\":[2025,8,19,7,27,42,447000000]}\\nwindow[\"EAGER-DATA\"][\"PC-NEWSSTAND-YONHAP\"] = {\"@type\":\"BLOCK\",\"blocks\":[{\"@type\":\"BLOCK\",\"blocks\":null,\"materials\":[],\"excludeInPaging\":false,\"positionForPaging\":0,\"realtime\":false,\"_id\":null,\"@type\":\"BLOCK\",\"@code\":null,\"@template\":\"NONE\",\"@flowId\":null,\"@flowExecutionId\":null,\"@provider\":null,\"@lastModifiedAt\":null}],\"materials\":[{\"@type\":\"MATERIAL-PC-NEWS-ONELINE\",\"gdid\":null,\"title\":\"\\\\\"작업승인 7분 만에 사고\\\\\"…열차감지앱도 사실상 무용지물\",\"url\":\"https://news.naver.com/main/list.naver?mode=LPOD&mid=sec&sid1=001&sid2=140&oid=001&isYeonhapFlash=Y&aid=0015574191\",\"aid\":null,\"emergency\":false,\"notCompleted\":false,\"officeName\":\"연합뉴스\",\"officeId\":\"001\",\"officeHomeUrl\":null,\"officeWeight\":0,\"officeWeightRate\":0.0,\"_id\":\"643543b2caf3d87b7e0a0da6\"},{\"@type\":\"MATERIAL-PC-NEWS-ONELINE\",\"gdid\":null,\"title\":\"대법, \\'이대통령 측근\\' 김용 보석 석방…불구속 상태 재판\",\"url\":\"https://news.naver.com/main/list.naver?mode=LPOD&mid=sec&sid1=001&sid2=140&oid=001&isYeonhapFlash=Y&aid=0015574209\",\"aid\":null,\"emergency\":false,\"notCompleted\":false,\"officeName\":\"연합뉴스\",\"officeId\":\"001\",\"officeHomeUrl\":null,\"officeWeight\":0,\"officeWeightRate\":0.0,\"_id\":\"677344ca0dae05b66ec43489\"},{\"@type\":\"MATERIAL-PC-NEWS-ONELINE\",\"gdid\":null,\"title\":\"李대통령 \\\\\"노동, 선진국 수준 맞춰야\\\\\"…\\'노란봉투법\\' 관철 의지\",\"url\":\"https://news.naver.com/main/list.naver?mode=LPOD&mid=sec&sid1=001&sid2=140&oid=001&isYeonhapFlash=Y&aid=0015574207\",\"aid\":null,\"emergency\":false,\"notCompleted\":false,\"officeName\":\"연합뉴스\",\"officeId\":\"001\",\"officeHomeUrl\":null,\"officeWeight\":0,\"officeWeightRate\":0.0,\"_id\":\"677344ca0dae05b66ec4348a\"},{\"@type\":\"MATERIAL-PC-NEWS-ONELINE\",\"gdid\":null,\"title\":\"대통령실, \\'불공정 계약 논란\\' 체코 원전 수출 진상 파악 지시\",\"url\":\"https://news.naver.com/main/list.naver?mode=LPOD&mid=sec&sid1=001&sid2=140&oid=001&isYeonhapFlash=Y&aid=0015573952\",\"aid\":null,\"emergency\":false,\"notCompleted\":false,\"officeName\":\"연합뉴스\",\"officeId\":\"001\",\"officeHomeUrl\":null,\"officeWeight\":0,\"officeWeightRate\":0.0,\"_id\":\"677344ca0dae05b66ec4348b\"},{\"@type\":\"MATERIAL-PC-NEWS-ONELINE\",\"gdid\":null,\"title\":\"대통령실, 尹구속 전후 보수 유튜버 접촉…특검, 통화기록 확보\",\"url\":\"https://news.naver.com/main/list.naver?mode=LPOD&mid=sec&sid1=001&sid2=140&oid=001&isYeonhapFlash=Y&aid=0015574007\",\"aid\":null,\"emergency\":false,\"notCompleted\":false,\"officeName\":\"연합뉴스\",\"officeId\":\"001\",\"officeHomeUrl\":null,\"officeWeight\":0,\"officeWeightRate\":0.0,\"_id\":\"677344ca0dae05b66ec4348c\"},{\"@type\":\"MATERIAL-PC-NEWS-ONELINE\",\"gdid\":null,\"title\":\"\\'공천개입 공모 의혹\\' 이준석, 김건희특검 출석…포렌식 참여\",\"url\":\"https://news.naver.com/main/list.naver?mode=LPOD&mid=sec&sid1=001&sid2=140&oid=001&isYeonhapFlash=Y&aid=0015574058\",\"aid\":null,\"emergency\":false,\"notCompleted\":false,\"officeName\":\"연합뉴스\",\"officeId\":\"001\",\"officeHomeUrl\":null,\"officeWeight\":0,\"officeWeightRate\":0.0,\"_id\":\"683f13f2f74934e40c0fed6b\"},{\"@type\":\"MATERIAL-PC-NEWS-ONELINE\",\"gdid\":null,\"title\":\"정성호, \\'건진 돈다발 띠지 분실\\' 감찰 지시…대검 조사 착수\",\"url\":\"https://news.naver.com/main/list.naver?mode=LPOD&mid=sec&sid1=001&sid2=140&oid=001&isYeonhapFlash=Y&aid=0015574072\",\"aid\":null,\"emergency\":false,\"notCompleted\":false,\"officeName\":\"연합뉴스\",\"officeId\":\"001\",\"officeHomeUrl\":null,\"officeWeight\":0,\"officeWeightRate\":0.0,\"_id\":\"6878979ea0b3054b67365363\"},{\"@type\":\"MATERIAL-PC-NEWS-ONELINE\",\"gdid\":null,\"title\":\"특검 \\\\\"韓 헌재 탄핵기각 때와 상황 달라…증거추가\\\\\"…혐의 강조\",\"url\":\"https://news.naver.com/main/list.naver?mode=LPOD&mid=sec&sid1=001&sid2=140&oid=001&isYeonhapFlash=Y&aid=0015573891\",\"aid\":null,\"emergency\":false,\"notCompleted\":false,\"officeName\":\"연합뉴스\",\"officeId\":\"001\",\"officeHomeUrl\":null,\"officeWeight\":0,\"officeWeightRate\":0.0,\"_id\":\"6878c912557b0ee3fe1086d6\"},{\"@type\":\"MATERIAL-PC-NEWS-ONELINE\",\"gdid\":null,\"title\":\"특검, 건진법사 구속영장 청구…김건희에 21일 소환 재통보\",\"url\":\"https://news.naver.com/main/list.naver?mode=LPOD&mid=sec&sid1=001&sid2=140&oid=001&isYeonhapFlash=Y&aid=0015574197\",\"aid\":null,\"emergency\":false,\"notCompleted\":false,\"officeName\":\"연합뉴스\",\"officeId\":\"001\",\"officeHomeUrl\":null,\"officeWeight\":0,\"officeWeightRate\":0.0,\"_id\":\"68818016fdd2424b6e815e7f\"},{\"@type\":\"MATERIAL-PC-NEWS-ONELINE\",\"gdid\":null,\"title\":\"중대재해 기업에 대출 문턱 높인다…금융위 \\\\\"금리 등 불이익\\\\\"\",\"url\":\"https://news.naver.com/main/list.naver?mode=LPOD&mid=sec&sid1=001&sid2=140&oid=001&isYeonhapFlash=Y&aid=0015573774\",\"aid\":null,\"emergency\":false,\"notCompleted\":false,\"officeName\":\"연합뉴스\",\"officeId\":\"001\",\"officeHomeUrl\":null,\"officeWeight\":0,\"officeWeightRate\":0.0,\"_id\":\"68a400821d16aaaa8d8fb64d\"}],\"excludeInPaging\":false,\"positionForPaging\":0,\"realtime\":false,\"_id\":\"643543b2a10d3006850fa263\",\"@type\":\"BLOCK\",\"@code\":\"PC-NEWSSTAND-YONHAP\",\"@template\":\"PC-NEWSSTAND-YONHAP\",\"@flowId\":\"PC-YONHAP\",\"@flowExecutionId\":\"432bb3e1-7cce-11f0-85b8-235bcfcb06b0\",\"@provider\":\"lambda\",\"@lastModifiedAt\":[2025,8,19,7,29,38,219000000]}\\nwindow[\"EAGER-DATA\"][\"PC-PREMIUM-AD\"] = {\"@type\":\"PC-PREMIUM-AD-BLOCK\",\"blocks\":null,\"materials\":null,\"excludeInPaging\":false,\"positionForPaging\":0,\"realtime\":false,\"adResponse\":{\"type\":\"N010\",\"adlineId\":null,\"vimp100p0s\":null,\"assets\":null,\"vimp50p1s\":\"https://siape.veta.naver.com/fxview?eu=EU10044434&calp=-&oj=UDLDkoMX9MMAyd8h7aqH5KDZy3T%2F%2F4gvo8m12oSi%2BUE&ac=8206821&src=4733402&evtcd=V900&x_ti=1362&tb=&oid=&sid1=&sid2=&rk=DgXS2Vxu6GDEikvmh3_gDQ&eltts=y7bKGgzVxqdkRkwuk45eUg%3D%3D&brs=Y&&eid=V900\"},\"_id\":null,\"@type\":null,\"@code\":\"PC-PREMIUM-AD\",\"@template\":\"PC-PREMIUM-AD\",\"@flowId\":null,\"@flowExecutionId\":null,\"@provider\":null,\"@lastModifiedAt\":null}\\nwindow[\"EAGER-DATA\"][\"PC-MYSERVICE-META\"] = {\"@type\":\"PC-MYSREVICE-META\",\"blocks\":null,\"materials\":null,\"excludeInPaging\":false,\"positionForPaging\":0,\"realtime\":false,\"serviceMetaList\":[],\"_id\":\"68414a73a10d30068523e7ee\",\"@type\":\"MY-SERVICE-META-BLOCK\",\"@code\":\"PC-MYSERVICE-META\",\"@template\":\"NONE\",\"@flowId\":\"PC-MYSERVICE-META\",\"@flowExecutionId\":\"3638943f-7cce-11f0-88f0-41ace9096595\",\"@provider\":\"lambda\",\"@lastModifiedAt\":[2025,8,19,7,29,16,367000000]}\\nwindow[\"EAGER-DATA\"][\"CAS-MINICONTENT-PC-SEARCH-RIGHT\"] = {\"@type\":\"MINI-CONTENT-BLOCK\",\"blocks\":null,\"materials\":null,\"excludeInPaging\":false,\"positionForPaging\":0,\"realtime\":false,\"items\":[],\"_id\":\"6433d8a5a10d300685012682\",\"@type\":\"MINI-CONTENT-BLOCK\",\"@code\":\"CAS-MINICONTENT-PC-SEARCH-RIGHT\",\"@template\":\"NONE\",\"@flowId\":\"CAS-MINICONTENT\",\"@flowExecutionId\":\"42989b22-7cce-11f0-88f0-f76f4171be99\",\"@provider\":\"lambda\",\"@lastModifiedAt\":[2025,8,19,7,29,37,130000000]}\\nwindow[\"EAGER-DATA\"][\"PC-HEADLINE-AD\"] = {\"@type\":\"PC-HEADLINE-AD-BLOCK\",\"blocks\":null,\"materials\":null,\"excludeInPaging\":false,\"positionForPaging\":0,\"realtime\":false,\"adResponse\":{\"type\":\"N011\",\"adlineId\":null,\"vimp100p0s\":\"https://siape.veta.naver.com/fxview?eu=EU10044129&calp=-&oj=ZJlEFeSBKmJXowR%2BgEfWLaDZy3T%2F%2F4gvo8m12oSi%2BUE&ac=8968387&src=7094288&evtcd=V900&x_ti=1586&tb=&oid=&sid1=&sid2=&rk=t_Wep6gEr3Kj1hFySvx1cA&eltts=y7bKGgzVxqdkRkwuk45eUg%3D%3D&brs=Y&&eid=V900\",\"assets\":null},\"_id\":null,\"@type\":null,\"@code\":\"PC-HEADLINE-AD\",\"@template\":\"PC-HEADLINE-AD\",\"@flowId\":null,\"@flowExecutionId\":null,\"@provider\":null,\"@lastModifiedAt\":null}\\nwindow[\"EAGER-DATA\"][\"CAS-MINICONTENT-PC-MEDIA-TAB-EVENT\"] = {\"@type\":\"MINI-CONTENT-BLOCK\",\"blocks\":null,\"materials\":null,\"excludeInPaging\":false,\"positionForPaging\":0,\"realtime\":false,\"items\":[],\"_id\":\"643687e1a10d300685630556\",\"@type\":\"MINI-CONTENT-BLOCK\",\"@code\":\"CAS-MINICONTENT-PC-MEDIA-TAB-EVENT\",\"@template\":\"NONE\",\"@flowId\":\"CAS-MINICONTENT\",\"@flowExecutionId\":\"49dfb4a3-7cce-11f0-ab81-d58e62ab8b25\",\"@provider\":\"lambda\",\"@lastModifiedAt\":[2025,8,19,7,29,49,336000000]}\\nwindow[\"EAGER-DATA\"][\"CAS-MINICONTENT-PC-MID-BANNER\"] = {\"@type\":\"MINI-CONTENT-BLOCK\",\"blocks\":null,\"materials\":null,\"excludeInPaging\":false,\"positionForPaging\":0,\"realtime\":false,\"items\":[],\"_id\":\"648ae476a10d300685fbab10\",\"@type\":\"MINI-CONTENT-BLOCK\",\"@code\":\"CAS-MINICONTENT-PC-MID-BANNER\",\"@template\":\"NONE\",\"@flowId\":\"CAS-MINICONTENT\",\"@flowExecutionId\":\"3f24f83e-7cce-11f0-ab81-2d2e5457f64b\",\"@provider\":\"lambda\",\"@lastModifiedAt\":[2025,8,19,7,29,31,334000000]}\\nwindow[\"EAGER-DATA\"][\"CAS-MINICONTENT-PC-TAB-META\"] = {\"@type\":\"MINI-CONTENT-BLOCK\",\"blocks\":null,\"materials\":null,\"excludeInPaging\":false,\"positionForPaging\":0,\"realtime\":false,\"items\":[{\"content\":{\"area\":\"FEED\",\"tabList\":[{\"clickCode\":\"tct.mynr\",\"name\":\"추천・구독\",\"id\":\"PC-FEED-RECOMMEND\",\"contingencyEnabled\":true,\"enabled\":true,\"useFeedCasEditTemplate\":false,\"weight\":1},{\"clickCode\":\"tct.wtn\",\"name\":\"자동차\",\"id\":\"PC-FEED-CARGAME\",\"contingencyEnabled\":true,\"enabled\":true,\"useFeedCasEditTemplate\":true,\"weight\":1},{\"clickCode\":\"tct.wtn\",\"name\":\"웹툰\",\"id\":\"PC-FEED-WEBTOON\",\"contingencyEnabled\":true,\"enabled\":true,\"useFeedCasEditTemplate\":true,\"weight\":1},{\"clickCode\":\"tct.bty\",\"name\":\"패션뷰티\",\"id\":\"PC-FEED-BEAUTY\",\"contingencyEnabled\":true,\"enabled\":true,\"useFeedCasEditTemplate\":false,\"weight\":1},{\"clickCode\":\"tct.fod\",\"name\":\"레시피\",\"id\":\"PC-FEED-RECIPE\",\"contingencyEnabled\":true,\"enabled\":true,\"useFeedCasEditTemplate\":true,\"weight\":1},{\"clickCode\":\"tct.lif\",\"name\":\"리빙\",\"id\":\"PC-FEED-LIVINGHOME\",\"contingencyEnabled\":true,\"enabled\":true,\"useFeedCasEditTemplate\":true,\"weight\":1},{\"clickCode\":\"tct.bok\",\"name\":\"책방\",\"id\":\"PC-FEED-CULTURE\",\"contingencyEnabled\":true,\"enabled\":true,\"useFeedCasEditTemplate\":true,\"weight\":1},{\"clickCode\":\"tct.lec\",\"name\":\"지식+\",\"id\":\"PC-FEED-LECTURE\",\"contingencyEnabled\":true,\"enabled\":true,\"useFeedCasEditTemplate\":true,\"weight\":1},{\"clickCode\":\"tct.health\",\"name\":\"건강\",\"id\":\"PC-FEED-HEALTH\",\"contingencyEnabled\":true,\"enabled\":true,\"useFeedCasEditTemplate\":false,\"weight\":1},{\"clickCode\":\"tct.gameapp\",\"name\":\"게임\",\"id\":\"PC-FEED-GAMEAPP\",\"contingencyEnabled\":true,\"enabled\":true,\"useFeedCasEditTemplate\":false,\"weight\":1}],\"@type\":\"BLOCK-PC-TAB-META\"},\"exposure\":true,\"@miniContentId\":\"643e64d370a065058f369bac\",\"@miniContentCode\":\"PC-TAB-META\",\"@startAt\":\"2023-04-10 00:00\",\"@endAt\":\"2030-05-30 23:59\",\"@createdAt\":\"2023-04-18T18:37:23.412\",\"@updatedAt\":\"2023-11-08T11:34:03.902\"},{\"content\":{\"area\":\"MEDIA\",\"tabList\":[{\"clickCode\":\"nst.nsd\",\"name\":\"뉴스스탠드\",\"id\":\"PC-MEDIA-NEWSSTAND\",\"contingencyEnabled\":true,\"enabled\":true,\"useFeedCasEditTemplate\":false,\"weight\":1},{\"clickCode\":\"nst.nch\",\"name\":\"언론사편집\",\"id\":\"PC-MEDIA-NEWS\",\"contingencyEnabled\":true,\"enabled\":true,\"useFeedCasEditTemplate\":false,\"weight\":1},{\"clickCode\":\"nst.ent\",\"name\":\"엔터\",\"id\":\"PC-MEDIA-ENTER\",\"contingencyEnabled\":true,\"enabled\":true,\"useFeedCasEditTemplate\":false,\"weight\":1},{\"clickCode\":\"nst.spo\",\"name\":\"스포츠\",\"id\":\"PC-MEDIA-SPORTS\",\"contingencyEnabled\":true,\"enabled\":true,\"useFeedCasEditTemplate\":false,\"weight\":1},{\"clickCode\":\"nst.fin\",\"name\":\"경제\",\"id\":\"PC-MEDIA-ECONOMIC\",\"contingencyEnabled\":true,\"enabled\":true,\"useFeedCasEditTemplate\":false,\"weight\":1},{\"clickCode\":\"nst.shpt\",\"name\":\"쇼핑투데이\",\"id\":\"PC-MEDIA-SHOPPING-TODAY\",\"contingencyEnabled\":true,\"enabled\":true,\"useFeedCasEditTemplate\":false,\"weight\":1}],\"@type\":\"BLOCK-PC-TAB-META\"},\"exposure\":true,\"@miniContentId\":\"643e642c8793487c84743a38\",\"@miniContentCode\":\"PC-TAB-META\",\"@startAt\":\"2023-04-11 00:00\",\"@endAt\":\"2030-05-31 23:59\",\"@createdAt\":\"2023-04-18T18:34:36.648\",\"@updatedAt\":\"2024-04-18T16:13:27.109\"}],\"_id\":\"643e6299a10d3006853cc04c\",\"@type\":\"MINI-CONTENT-BLOCK\",\"@code\":\"CAS-MINICONTENT-PC-TAB-META\",\"@template\":\"NONE\",\"@flowId\":\"CAS-MINICONTENT\",\"@flowExecutionId\":\"4c414b25-7cce-11f0-88f0-e3d1f527c200\",\"@provider\":\"lambda\",\"@lastModifiedAt\":[2025,8,19,7,29,53,332000000]}\\n</script> \\n\\n\\n <script defer=\"defer\" src=\"https://pm.pstatic.net/resources/js/polyfill.5444eff6.js?o=www\" crossorigin=\"anonymous\"></script><script defer=\"defer\" src=\"https://pm.pstatic.net/resources/js/preload.786464b6.js?o=www\" crossorigin=\"anonymous\"></script><script defer=\"defer\" src=\"https://pm.pstatic.net/resources/js/search.08fd58b0.js?o=www\" crossorigin=\"anonymous\"></script><script defer=\"defer\" src=\"https://pm.pstatic.net/resources/js/main.4c47e876.js?o=www\" crossorigin=\"anonymous\"></script><link href=\"https://pm.pstatic.net/resources/css/main.219e071b.css\" rel=\"stylesheet\"></head> <body> <div id=\"u_skip\"> <a href=\"#topAsideButton\"><span>상단영역 바로가기</span></a> <a href=\"#shortcutArea\"><span>서비스 메뉴 바로가기</span></a> <a href=\"#newsstand\"><span>새소식 블록 바로가기</span></a> <a href=\"#shopping\"><span>쇼핑 블록 바로가기</span></a> <a href=\"#feed\"><span>관심사 블록 바로가기</span></a> <a href=\"#account\"><span>MY 영역 바로가기</span></a> <a href=\"#widgetboard\"><span>위젯 보드 바로가기</span></a> <a href=\"#viewSetting\"><span>보기 설정 바로가기</span></a> </div>   <script type=\"text/plain\" id=\"ad-timeboard-response\" data-gfp-banner-size=\"830x130\" data-gfp-banner-type=\"full\">{\"payload\":{\"requestId\":\"984e935966ab4efcabf5ae53d8efbd14\",\"head\":{\"version\":\"0.0.1\",\"description\":\"Naver SSP Waterfall List\"},\"eventTracking\":{\"ackImpressions\":[{\"url\":\"https://tivan.naver.com/sc2/1/\"}],\"activeViewImpressions\":[{\"url\":\"https://tivan.naver.com/sc2/2/\"}],\"clicks\":[{\"url\":\"https://tivan.naver.com/sc2/3/\"}],\"completions\":[{\"url\":\"https://tivan.naver.com/sc2/4/\"}],\"attached\":[{\"url\":\"https://tivan.naver.com/sc2/10/\"}],\"renderedImpressions\":[{\"url\":\"https://tivan.naver.com/sc2/11/\"}],\"viewableImpressions\":[{\"url\":\"https://tivan.naver.com/sc2/12/\"}],\"loadErrors\":[{\"url\":\"https://tivan.naver.com/sc2/91/\"}],\"startErrors\":[{\"url\":\"https://tivan.naver.com/sc2/92/\"}],\"lazyRenderMediaFailed\":[{\"url\":\"https://tivan.naver.com/sc2/93/\"}],\"mute\":[{\"url\":\"https://tivan.naver.com/sc2/5/\"}],\"close\":[{\"url\":\"https://tivan.naver.com/sc2/6/\"}]},\"adUnit\":\"p_main_timeboard_v1\",\"randomNumber\":72,\"adDivId\":\"ad_timeboard\",\"advertiserDomains\":[\"fficial.naver.com\"],\"adDuplicationKeys\":[\"URL:https://fficial.naver.com/\"],\"ads\":[{\"encrypted\":\"Ji5-xBvNBOaw-ld_vBBn9dLniuR6hYDmxGmKKMNjCetacLOSne9u0hXOUWHes4GX4U4cOVN0bfqzZwx-FFrDASN2VShylmOa7E7a1fyZH6mH00bUIWnHLQnCMmvAWgT7oX4wyrh2dU6C8sSiC74kaQEsh07wgFKRe82Yi39gFy22_SoPkiU7QW-md3lLPivuuzQSewTPZfYxj9XN-PgYTbJHPMdYHWvfGm1bIeivUPxshiRJbFYnOg_3g2QJv2ou1gTdoTi88jy3WsZh_ycTktBsMdd1LPF96mX0RalSPXz_PkBX09b26Ygb8XnKFBwu1e0mEUP4ba-xS5jTipBeF1qoQU0T-rAyz-4OqlIIayAp1Nm3QBikspg2kargyd2oPNwMcj92ViWsiZLaygJfr171ZuVXhuTDcJyO7DMvGIvH1vZieDDPIk7VnQB6OkWLoX-hWOYv7lAi3ThGf2D0rOFBmIffuvYU6QEIyQBrjOj-XG8M4Fc1YyWSSgTrBeMV842vif_qeXXbpibATjiyC95z3uy6gM-4pDEl0ORfzQtVPOmg6OeiyEwjp_5wPhnRcMyJxrcFd0PPO6lF_boMwPtk5jyLbKqFbc42tAQsfJfj2JKTymMTuyCUAPtHkK1YmBLFc8jWfu_EmBNIlzokn-mK5i1gxbC1tkl2tnf0biI=\",\"connectionType\":\"S2S\",\"adProviderType\":\"IN_NAVER\",\"adProviderName\":\"NDP_SF\",\"layoutType\":\"FLUID\",\"creativeType\":\"BANNER\",\"renderType\":\"SF\",\"eventTracking\":{\"ackImpressions\":[{\"url\":\"https://siape.veta.naver.com/openrtb/nurl?eu=EU10043567\\\\u0026calp=-\\\\u0026oj=cQgn6aire5NJ%2BL70cPhVD9e6Bz%2FPzX1caT%2BBpNHUoOz%2FLEhj%2BGpkNGh16AF7nCiR5sz8TOCxud%2Bg2ct0%2F%2F%2BIL6QTv9j%2Ffoe8yTJ%2BOB4RVudUm6krydHIR8ZUV3E600t9QGg3q%2Bjskg8Ds2%2FsKIsqnpH4IYR7C5ZCEFwetYPeoFYsofqkg1fObN%2BE0mZGJbpztCnUqcXonS%2BStJVc5gHpxFLDEdaOUZK7\\\\u0026ac=9165183\\\\u0026src=7746176\\\\u0026evtcd=BID_WIN\\\\u0026x_ti=1504\\\\u0026rk=q0jvSQEcJyRUyJb6_QDk6g\\\\u0026eltts=y7bKGgzVxqdkRkwuk45eUg%3D%3D\\\\u0026brs=Y\\\\u0026\"}],\"attached\":[],\"activeViewImpressions\":[],\"renderedImpressions\":[],\"viewableImpressions\":[],\"clicks\":[],\"vimp1px\":[],\"vimp100\":[],\"vimp100p\":[],\"admute\":[],\"advmute\":[],\"like\":[],\"unlike\":[],\"close\":[],\"bounce\":[],\"priv\":[]},\"adInfo\":{\"placeId\":\"6436232db28a76002ea3f30c\",\"adomain\":[\"fficial.naver.com\"],\"cid\":\"1542842\",\"crid\":\"2778868\",\"exp\":86400,\"adContext\":\"{\\\\\"id\\\\\":\\\\\"984e935966ab4efcabf5ae53d8efbd14\\\\\",\\\\\"impId\\\\\":\\\\\"BR0_I0\\\\\",\\\\\"adomain\\\\\":[\\\\\"fficial.naver.com\\\\\"],\\\\\"adProviderName\\\\\":\\\\\"NDP_SF\\\\\",\\\\\"cid\\\\\":[\\\\\"1542842\\\\\"],\\\\\"crid\\\\\":[\\\\\"2778868\\\\\"],\\\\\"creativeType\\\\\":\\\\\"BANNER\\\\\",\\\\\"cur\\\\\":\\\\\"KRW\\\\\",\\\\\"price\\\\\":\\\\\"6Zn2ATYoG2OMmOunmzlH6yUwCY2tcxTUSFXr7iQ=\\\\\",\\\\\"catType\\\\\":\\\\\"NCAT\\\\\",\\\\\"cat\\\\\":[\\\\\"125\\\\\",\\\\\"125002\\\\\"]}\",\"adm\":\"%3Cscript%20src%3D%22https%3A%2F%2Fssl.pstatic.net%2Fmelona%2Flibs%2Fglad%2Fbridge%2Fgfp-bridge.js%22%3E%3C%2Fscript%3E%0D%0A%0D%0A%3Ca%20href%3D%22https%3A%2F%2Fsiape.veta.naver.com%2Ffxclick%3Feu%3DEU10043567%26calp%3D-%26oj%3DcQgn6aire5NJ%252BL70cPhVD9e6Bz%252FPzX1caT%252BBpNHUoOz%252FLEhj%252BGpkNGh16AF7nCiR5sz8TOCxud%252Bg2ct0%252F%252F%252BIL6QTv9j%252Ffoe8yTJ%252BOB4RVudUm6krydHIR8ZUV3E600t9QGg3q%252Bjskg8Ds2%252FsKIsqnpH4IYR7C5ZCEFwetYPeoFYsofqkg1fObN%252BE0mZGJbpztCnUqcXonS%252BStJVc5gHpxFLDEdaOUZK7%26ac%3D9165183%26src%3D7746176%26br%3D4796348%26evtcd%3DP901%26x_ti%3D1504%26tb%3D%26oid%3D%26sid1%3D%26sid2%3D%26rk%3Dq0jvSQEcJyRUyJb6_QDk6g%26eltts%3Dy7bKGgzVxqdkRkwuk45eUg%253D%253D%26brs%3DY%26%22%20id%3D%22ac_banner_a%22%20target%3D%22_blank%22%20style%3D%22display%3Ablock%22%3E%0D%0A%20%20%20%20%3Cimg%20src%3D%22https%3A%2F%2Fssl.pstatic.net%2Fmelona%2Flibs%2F1542%2F1542842%2F9e604764b27e6feab4a0_20250813105044245.png%22%20width%3D%22830%22%20height%3D%22130%22%20alt%3D%22%5B%EA%B4%91%EA%B3%A0%5D%EC%A2%80%EB%B9%84%EB%94%B8%20PD%EA%B0%80%20%EB%A7%90%ED%95%98%EB%8A%94%20%EC%84%B1%EA%B3%B5%EC%A0%81%EC%9D%B8%20IP%20%ED%99%95%EC%9E%A5%EC%9D%98%20%EC%A1%B0%EA%B1%B4%22%3E%0D%0A%3C%2Fa%3E%0D%0A%0D%0A%3Cscript%20type%3D%22text%2Fjavascript%22%20src%3D%22https%3A%2F%2Fssl.pstatic.net%2Fmelona%2Flibs%2Fassets%2Fjs%2Fpc%2Fmain%2Fmin%2Fpc.veta.core.min.js%3F20240228%22%3E%3C%2Fscript%3E%0D%0A%3Cscript%20type%3D%22text%2Fjavascript%22%3E%0D%0A%20%20%20%20%28function%28ns%2C%20bridge%29%20%7B%0D%0A%20%20%20%20%20%20%20%20var%20LOG%20%3D%20%7B%0D%0A%20%20%20%20%20%20%20%20%20%20%20%20VIEWABLED%3A%20%22https%3A%2F%2Fsiape.veta.naver.com%2Ffxview%3Feu%3DEU10043567%26calp%3D-%26oj%3DcQgn6aire5NJ%252BL70cPhVD9e6Bz%252FPzX1caT%252BBpNHUoOz%252FLEhj%252BGpkNGh16AF7nCiR5sz8TOCxud%252Bg2ct0%252F%252F%252BIL6QTv9j%252Ffoe8yTJ%252BOB4RVudUm6krydHIR8ZUV3E600t9QGg3q%252Bjskg8Ds2%252FsKIsqnpH4IYR7C5ZCEFwetYPeoFYsofqkg1fObN%252BE0mZGJbpztCnUqcXonS%252BStJVc5gHpxFLDEdaOUZK7%26ac%3D9165183%26src%3D7746176%26evtcd%3DV900%26x_ti%3D1504%26tb%3D%26oid%3D%26sid1%3D%26sid2%3D%26rk%3Dq0jvSQEcJyRUyJb6_QDk6g%26eltts%3Dy7bKGgzVxqdkRkwuk45eUg%253D%253D%26brs%3DY%26%26eid%3DV900%22%2C%0D%0A%20%20%20%20%20%20%20%20%20%20%20%20RENDERED%3A%20%22https%3A%2F%2Fsiape.veta.naver.com%2Ffxview%3Feu%3DEU10043567%26calp%3D-%26oj%3DcQgn6aire5NJ%252BL70cPhVD9e6Bz%252FPzX1caT%252BBpNHUoOz%252FLEhj%252BGpkNGh16AF7nCiR5sz8TOCxud%252Bg2ct0%252F%252F%252BIL6QTv9j%252Ffoe8yTJ%252BOB4RVudUm6krydHIR8ZUV3E600t9QGg3q%252Bjskg8Ds2%252FsKIsqnpH4IYR7C5ZCEFwetYPeoFYsofqkg1fObN%252BE0mZGJbpztCnUqcXonS%252BStJVc5gHpxFLDEdaOUZK7%26ac%3D9165183%26src%3D7746177%26evtcd%3DV602%26x_ti%3D1504%26tb%3D%26oid%3D%26sid1%3D%26sid2%3D%26rk%3Dq0jvSQEcJyRUyJb6_QDk6g%26eltts%3Dy7bKGgzVxqdkRkwuk45eUg%253D%253D%26brs%3DY%26%26eid%3DV810%22%0D%0A%20%20%20%20%20%20%20%20%7D%3B%0D%0A%0D%0A%20%20%20%20%20%20%20%20var%20util%20%3D%20ns.Util%20%3F%20new%20ns.Util%28%29%20%3A%20new%20NBP_CORP.Nimp%28%29%3B%0D%0A%20%20%20%20%20%20%20%20var%20gladSdkBridge%20%3D%20bridge.createSdkBridge%28%29%3B%0D%0A%20%20%20%20%20%20%20%20var%20eventList%20%3D%20%7B%7D%3B%0D%0A%0D%0A%20%20%20%20%20%20%20%20%2F%2F%20%EC%9D%91%EB%8B%B5%EB%85%B8%EC%B6%9C%0D%0A%20%20%20%20%20%20%20%20util.log%28LOG.RENDERED%29%3B%0D%0A%0D%0A%20%20%20%20%20%20%20%20%2F%2F%20%EC%9C%A0%ED%9A%A8%EB%85%B8%EC%B6%9C%0D%0A%20%20%20%20%20%20%20%20eventList%5Bbridge.EVENT.VIEWABLED%5D%20%3D%20function%28%29%20%7B%0D%0A%20%20%20%20%20%20%20%20%20%20%20%20util.log%28LOG.VIEWABLED%29%3B%0D%0A%20%20%20%20%20%20%20%20%7D%3B%0D%0A%0D%0A%20%20%20%20%20%20%20%20gladSdkBridge.setEventListeners%28eventList%29%3B%0D%0A%20%20%20%20%7D%29%28%0D%0A%20%20%20%20%20%20%20%20window.naver_corp_da%20%7C%7C%20%7B%7D%2C%0D%0A%20%20%20%20%20%20%20%20window.gladBridge%0D%0A%20%20%20%20%29%3B%0D%0A%3C%2Fscript%3E\",\"encoded\":1,\"responseSize\":{\"height\":130,\"width\":830,\"force\":0},\"template\":\"%3C%21doctype%20html%3E%3Chtml%3E%3Chead%3E%3Cmeta%20name%3D%22viewport%22%20content%3D%22width%3Ddevice-width%2C%20user-scalable%3Dno%22%2F%3E%3Cstyle%20data-gfp-role%3D%22adMarkLegacyStyle%22%3E%5Bdata-gfp-role%3D%22adMarkLegacy%22%5D%20%7Bdisplay%3A%20none%3B%7D%3C%2Fstyle%3E%3Cscript%3Ewindow.gladBridge%20%3D%20%7BRUNTIME%3A%20%22InApp%22%7D%3B%3C%2Fscript%3E%3C%2Fhead%3E%3Cbody%20style%3D%22margin%3A%200%3B%20padding%3A%200%22%3E%7B%7Badm%7D%7D%3Cscript%20src%3D%22https%3A%2F%2Fssl.pstatic.net%2Ftveta%2Flibs%2Fglad_admute%2Fprod%2Fglad-admute.js%22%3E%3C%2Fscript%3E%3Cscript%3Econst%20adMuteOptions%20%3D%20%7BmuteUrl%3A%20%22%25%25MUTE_URL%25%25%22%2C%20privacyUrl%3A%20%22%25%25PRIV_URL%25%25%22%2C%20creativeType%3A%20%22BANNER%22%2C%20runtimeType%3A%20%22InApp%22%7D%3B%20if%28adMuteOptions.muteUrl%20%7C%7C%20adMuteOptions.privacyUrl%29%20%7B%20window.gladAdMute.checkAdMarkLegacyStyle%28adMuteOptions%29%3B%20const%20adMuteController%20%3D%20window.gladAdMute.createAdMuteController%28adMuteOptions%29%3B%20adMuteController.render%28%29%3B%20%7D%3C%2Fscript%3E%3C%2Fbody%3E%3C%2Fhtml%3E\"}},{\"encrypted\":\"m_3E4mrVYjFapUljtFwaQ2s32FdoAG9bRUa3iNRFVF26ZJYRQnqEsv-uzcWHk4ZGPBcSeikpUcuTIlWtIzqOmoDyji5VZpEbmyncj9V2jFGasExtuq-TKOTImyUSWQjr-1fKSXojjnyC-FaT07u3xlzm6PJthGKYV30q7Igue64XXiOMwh1kkXuyV2IzNmyGoV1Ij4_Cu7bFceomqlMLqe6d_qCpnEiZ42irAuyTcRiYITTdHTWXN-xcV_90dXKN64QUWY2i0ixJh_ch8vHQsFLJWFWtmaO3TIj98HBlQLT4vyqSUl5adYd8KG5wkd-seKexzMO-kv0Z4C9nDrDO-YENurGiOYA4Uxrmxih07rDODYQlgiazOZgUtjfWXAJO-R2nFOcsPcV8YLOHck2ITtbD2-e4DSk3qxOD5POcbcsie_ynFEyZjl1iePE6BAdi7WGAXZDIGM1G3XSwGSbgAQ==\",\"connectionType\":\"S2S\",\"adProviderName\":\"GFP\",\"layoutType\":\"FLUID\",\"creativeType\":\"BANNER\",\"renderType\":\"EMPTY\",\"eventTracking\":{\"ackImpressions\":[{\"url\":\"https://siape.veta.naver.com/openrtb/nbackimp?eu=EU10043567\\\\u0026oj=cQgn6aire5NJ%2BL70cPhVD9e6Bz%2FPzX1caT%2BBpNHUoOz%2FLEhj%2BGpkNGh16AF7nCiR5sz8TOCxud%2Bg2ct0%2F%2F%2BIL6QTv9j%2Ffoe8yTJ%2BOB4RVudUm6krydHIR8ZUV3E600t9QGg3q%2Bjskg8Ds2%2FsKIsqnpH4IYR7C5ZCEFwetYPeoFYsofqkg1fObN%2BE0mZGJbpztCnUqcXonS%2BStJVc5gHpxFLDEdaOUZK7\\\\u0026evtcd=BID_LOSE\\\\u0026rk=q0jvSQEcJyRUyJb6_QDk6g\\\\u0026eltts=y7bKGgzVxqdkRkwuk45eUg%3D%3D\\\\u0026calp=-\\\\u0026ac=9165183\\\\u0026src=7746176\\\\u0026x_ti=1504\\\\u0026brs=Y\"}],\"attached\":[],\"activeViewImpressions\":[{\"url\":\"https://siape.veta.naver.com/openrtb/nbimp?oj=cQgn6aire5NJ%2BL70cPhVD9e6Bz%2FPzX1caT%2BBpNHUoOz%2FLEhj%2BGpkNGh16AF7nCiR5sz8TOCxud%2Bg2ct0%2F%2F%2BIL6QTv9j%2Ffoe8yTJ%2BOB4RVudUm6krydHIR8ZUV3E600t9QGg3q%2Bjskg8Ds2%2FsKIsqnpH4IYR7C5ZCEFwetYPeoFYsofqkg1fObN%2BE0mZGJbpztCnUqcXonS%2BStJVc5gHpxFLDEdaOUZK7\\\\u0026rk=q0jvSQEcJyRUyJb6_QDk6g\\\\u0026eltts=y7bKGgzVxqdkRkwuk45eUg%3D%3D\"}],\"renderedImpressions\":[],\"viewableImpressions\":[{\"url\":\"https://siape.veta.naver.com/openrtb/nbimp?oj=cQgn6aire5NJ%2BL70cPhVD9e6Bz%2FPzX1caT%2BBpNHUoOz%2FLEhj%2BGpkNGh16AF7nCiR5sz8TOCxud%2Bg2ct0%2F%2F%2BIL6QTv9j%2Ffoe8yTJ%2BOB4RVudUm6krydHIR8ZUV3E600t9QGg3q%2Bjskg8Ds2%2FsKIsqnpH4IYR7C5ZCEFwetYPeoFYsofqkg1fObN%2BE0mZGJbpztCnUqcXonS%2BStJVc5gHpxFLDEdaOUZK7\\\\u0026rk=q0jvSQEcJyRUyJb6_QDk6g\\\\u0026eltts=y7bKGgzVxqdkRkwuk45eUg%3D%3D\"}],\"clicks\":[],\"vimp1px\":[],\"vimp100\":[],\"vimp100p\":[],\"admute\":[],\"advmute\":[],\"like\":[],\"unlike\":[],\"close\":[],\"bounce\":[],\"priv\":[]},\"adInfo\":{\"responseSize\":{\"height\":0,\"width\":0}}}],\"config\":{\"imp\":{\"ratio\":100,\"ms\":0}}},\"additionalInfo\":{\"adCount\":1,\"adDuplicate\":{\"advertiserDomains\":[\"fficial.naver.com\"],\"adDuplicationKeys\":[\"URL:https://fficial.naver.com/\"]},\"adSize\":{\"h\":130,\"w\":830}}}\\n</script> <div id=\"wrap\"> <div id=\"header\" role=\"banner\"> <div id=\"topSearchWrap\" class=\"header_inner\"> <div id=\"special-logo\" class=\"search_special_bg\"></div> <div id=\"timeboard-ex\" class=\"ad_area\" style=\"width:1280px\"> </div> <div id=\"search_area\" class=\"search_area\" style=\"border-color:#fff\"> <div class=\"search_group\"> <div id=\"search\" class=\"search_group_inner\"> <h1 id=\"special-input-logo\" class=\"search_logo\"></h1> <form id=\"sform\" name=\"search\" role=\"search\" action=\"https://search.naver.com/search.naver\" method=\"get\"> <fieldset> <legend class=\"blind\">검색</legend> <input type=\"hidden\" name=\"where\" value=\"nexearch\"/> <input type=\"hidden\" id=\"sm\" name=\"sm\" value=\"top_hty\"/> <input type=\"hidden\" id=\"fbm\" name=\"fbm\" value=\"0\"/> <input type=\"hidden\" id=\"acr\" name=\"acr\" value=\"\" disabled=\"disabled\"/> <input type=\"hidden\" id=\"acq\" name=\"acq\" value=\"\" disabled=\"disabled\"/> <input type=\"hidden\" id=\"qdt\" name=\"qdt\" value=\"\" disabled=\"disabled\"/> <input type=\"hidden\" id=\"ie\" name=\"ie\" value=\"utf8\"/> <input type=\"hidden\" id=\"acir\" name=\"acir\" value=\"\" disabled=\"disabled\"/> <input type=\"hidden\" id=\"os\" name=\"os\" value=\"\" disabled=\"disabled\"/> <input type=\"hidden\" id=\"bid\" name=\"bid\" value=\"\" disabled=\"disabled\"/> <input type=\"hidden\" id=\"pkid\" name=\"pkid\" value=\"\" disabled=\"disabled\"/> <input type=\"hidden\" id=\"eid\" name=\"eid\" value=\"\" disabled=\"disabled\"/> <input type=\"hidden\" id=\"mra\" name=\"mra\" value=\"\" disabled=\"disabled\"/> <div role=\"combobox\" aria-expanded=\"false\" aria-haspopup=\"listbox\" aria-owns=\"autoFrame\" class=\"search_input_box\"> <input id=\"query\" name=\"query\" type=\"search\" title=\"검색어를 입력해 주세요.\" placeholder=\"검색어를 입력해 주세요.\" maxlength=\"255\" autocomplete=\"off\" class=\"search_input\" data-atcmp-element=\"\" aria-controls=\"atcmp_recent\" aria-autocomplete=\"list\" aria-activedescendant=\"\"> </div> <button type=\"submit\" class=\"btn_search\" onclick=\\'window.ntm.push({event:\"nclick\",el:this,click_area:\"sch.action\"})\\'> <span class=\"ico_btn_search_svg\"> <svg id=\"search-btn\" viewBox=\"0 0 50 50\" xmlns=\"http://www.w3.org/2000/svg\"> <path d=\"M22.13.5c11.378 0 20.632 9.256 20.632 20.63 0 4.699-1.566 9.155-4.439 12.782l10.164 10.165a2.41 2.41 0 0 1-1.706 4.115 2.412 2.412 0 0 1-1.706-.705L33.31 35.719a2.41 2.41 0 0 1 0-3.41 15.71 15.71 0 0 0 4.628-11.178c0-8.718-7.09-15.808-15.807-15.808-8.718 0-15.808 7.09-15.808 15.808 0 7.15 4.817 13.43 11.714 15.273a2.41 2.41 0 0 1 1.705 2.954 2.41 2.41 0 0 1-2.95 1.705C7.788 38.658 1.5 30.46 1.5 21.131 1.5 9.756 10.756.5 22.13.5zm4.716 34.746a3.483 3.483 0 1 1 0 6.966 3.483 3.483 0 0 1 0-6.966z\"/> </svg> </span> <span class=\"blind\">검색</span> </button> </fieldset> </form> <div class=\"search_box\"> <button id=\"ke_kbd_btn\" type=\"button\" class=\"btn_keyboard\" aria-pressed=\"false\"> <span class=\"keybord_text\"> <span class=\"blind\">입력도구</span> </span> </button> <div id=\"_nx_kbd\" style=\"display:none\"></div> <button id=\"nautocomplete\" type=\"button\" class=\"btn_arrow\" data-atcmp-element> <span class=\"blind\">자동완성/최근검색어펼치기</span> </button> </div> <div class=\"layer_atcmp\" id=\"autoFrame\" style=\"display:none\"></div> </div> </div> </div> <div id=\"search-right\"></div> <div id=\"shortcutArea\" class=\"shortcut_area\" role=\"navigation\" aria-label=\"주요 서비스\"></div> <div id=\"topAsideArea\" class=\"menu_area\"></div> <div id=\"topPayArea\" class=\"pay_area\"></div> <div id=\"topTalkArea\" class=\"talk_area\"></div> <div id=\"topNotiArea\" class=\"notify_area\"></div> <div id=\"topShoppingArea\" class=\"shopping_area\"></div> </div> </div> <div id=\"container\" role=\"main\"> <div id=\"ad_premium_area\" class=\"ad_premium_area\" style=\"min-width:1920px\"> </div> <div id=\"root\"></div> </div> <div id=\"footer\" role=\"contentinfo\"></div> </div>      <script> window[\\'EAGER-DATA\\'] = window[\\'EAGER-DATA\\'] || {};\\n        window[\\'EAGER-DATA\\'][\\'GV\\'] = {\\n            svt: \\'20250819163055\\',  }; </script> <script>!function(){function t(t){var e=document.getElementById(\"search_area\"),l=document.getElementById(\"search-btn\");if(!t)return e&&e.removeAttribute(\"style\"),void(l&&l.setAttribute(\"style\",\"fill: #03c75a\"));e&&e.setAttribute(\"style\",\"border-color: \"+t),l&&l.setAttribute(\"class\",\"ico_btn_search type_color\"),l&&l.setAttribute(\"style\",\"fill: \"+t)}var e=window[\"EAGER-DATA\"][\"CAS-MINICONTENT-PC-SPECIAL-LOGO\"];if(!e||!e.items||e.items.length>0==!1)return void t();var l=Math.floor(Math.random()*e.items.length),s=e.items[l];e.items=[s];const o=s&&s.content?s.content.input:null;t(o&&o.color);const i=document.getElementById(\"search\"),n=i&&(!o||!o.showSearchLogo);n&&i.classList.add(\"type_special_logo_full\"),window.addEventListener(\"header-sticky-state-change\",(function(){var t;(t=document.getElementById(\"header\"))&&t.classList.contains(\"ani_fixed\")?n&&i.classList.remove(\"type_special_logo_full\"):n&&i.classList.add(\"type_special_logo_full\")}));var r=o&&o.placeholder;if(r){var a=document.getElementById(\"query\");a&&r&&a.setAttribute(\"title\",r),a&&r&&a.setAttribute(\"placeholder\",r)}}()</script> </body> </html>'"
            ],
            "application/vnd.google.colaboratory.intrinsic+json": {
              "type": "string"
            }
          },
          "metadata": {},
          "execution_count": 18
        }
      ]
    },
    {
      "cell_type": "code",
      "metadata": {
        "id": "J8q9kVHaNhmQ"
      },
      "source": [
        "import requests\n",
        "res = requests.get('http://google.com')\n",
        "res.raise_for_status()\n",
        "\n",
        "with open('crawl1.html','w', encoding = 'utf-8') as f:\n",
        "  f.write(res.text)\n"
      ],
      "execution_count": null,
      "outputs": []
    },
    {
      "cell_type": "markdown",
      "metadata": {
        "id": "sNxVt7bvQkmG"
      },
      "source": [
        "##1.2.beautifulsoup : HTML 파싱을 위한 라이브러리"
      ]
    },
    {
      "cell_type": "code",
      "metadata": {
        "id": "6a9UYLZCqeT5"
      },
      "source": [
        "#!pip install beautifulsoup4 #Parsing을 위한 라이브러리\n",
        "#!pip install lxml #XML parser로 이용"
      ],
      "execution_count": null,
      "outputs": []
    },
    {
      "cell_type": "code",
      "source": [
        "import requests\n",
        "from bs4 import BeautifulSoup\n",
        "\n",
        "url = 'https://comic.naver.com/webtoon/weekday.nhn'\n",
        "res = requests.get(url)"
      ],
      "metadata": {
        "id": "_EDtn5dWtaQ-"
      },
      "execution_count": null,
      "outputs": []
    },
    {
      "cell_type": "code",
      "source": [
        "soup = BeautifulSoup(res.text, \"lxml\")\n",
        "soup"
      ],
      "metadata": {
        "colab": {
          "base_uri": "https://localhost:8080/"
        },
        "id": "BozH1pQpti-P",
        "outputId": "560ce95c-c9cf-497b-824d-2dfece13ce1d"
      },
      "execution_count": null,
      "outputs": [
        {
          "output_type": "execute_result",
          "data": {
            "text/plain": [
              "<!DOCTYPE html>\n",
              "<html lang=\"ko\">\n",
              "<head>\n",
              "<title>네이버 웹툰</title>\n",
              "<link href=\"https://shared-comic.pstatic.net/favicon/favicon_96x96.ico\" rel=\"icon\" type=\"image/x-icon\"/>\n",
              "<link href=\"https://ssl.pstatic.net/static/wcc/kw-owner/prod-1.0/index.css\" rel=\"stylesheet\" type=\"text/css\"/>\n",
              "<link href=\"https://m.comic.naver.com/webtoon/weekday\" rel=\"canonical\"/>\n",
              "<meta content=\"6Wv2YrpTSpapViVikuUS-ebAqZDiKxcrDV_clkRzH9A\" name=\"google-site-verification\"/>\n",
              "<meta charset=\"utf-8\"/>\n",
              "<meta content=\"ie=edge\" http-equiv=\"x-ua-compatible\"/>\n",
              "<meta content=\"article\" property=\"og:type\"/>\n",
              "<meta content=\"네이버 웹툰\" property=\"og:article:author\"/>\n",
              "<meta content=\"https://comic.naver.com\" property=\"og:article:author:url\"/>\n",
              "<meta content=\"네이버 웹툰\" property=\"og:title\"/>\n",
              "<meta content=\"https://ssl.pstatic.net/static/comic/images/og_tag_v3.png\" property=\"og:image\"/>\n",
              "<meta content=\"매일매일 새로운 재미, 네이버 웹툰.\" property=\"og:description\"/>\n",
              "<script>\n",
              "\t\tif (/MSIE \\d|Trident.*rv:/.test(navigator.userAgent)) {\n",
              "\t\t\twindow.location = 'microsoft-edge:' + window.location;\n",
              "\t\t\tsetTimeout(function () {\n",
              "\t\t\t\twindow.location = 'https://go.microsoft.com/fwlink/?linkid=2135547';\n",
              "\t\t\t}, 1);\n",
              "\t\t}\n",
              "\t</script>\n",
              "<script async=\"\" src=\"https://ssl.pstatic.net/tveta/libs/glad/prod/gfp-core.js\"></script>\n",
              "<script>\n",
              "\t\tvar ccsrv = 'cc.naver.com';\n",
              "\t\twindow.gladsdk = window.gladsdk || { cmd: [] };\n",
              "\t</script>\n",
              "</head>\n",
              "<body>\n",
              "<div id=\"root\"></div>\n",
              "</body>\n",
              "<script src=\"https://ssl.pstatic.net/static/wcc/kw-owner/prod-1.0/index.js\" type=\"text/javascript\"></script>\n",
              "<script src=\"/runtime-abada66fdb96bf4dec97.js\" type=\"text/javascript\"></script>\n",
              "<script src=\"/vendor-react-d37d9c657a271200d9cf.js\" type=\"text/javascript\"></script>\n",
              "<script src=\"/vendor-react-common-72f7a4aa692e097dd248.js\" type=\"text/javascript\"></script>\n",
              "<script src=\"/vendor-common-731b83d570b21355d0be.js\" type=\"text/javascript\"></script>\n",
              "<script src=\"/vendor-log-feb99cf7b041c7e3b64d.js\" type=\"text/javascript\"></script>\n",
              "<script src=\"/router-8c0dbe7de13f5b8bb4a5.js\" type=\"text/javascript\"></script>\n",
              "</html>"
            ]
          },
          "metadata": {},
          "execution_count": 22
        }
      ]
    },
    {
      "cell_type": "code",
      "metadata": {
        "id": "m4gP-Ba7qeJV",
        "colab": {
          "base_uri": "https://localhost:8080/"
        },
        "outputId": "c16c9bb4-3ca1-40fc-f5e1-579192e83336"
      },
      "source": [
        "soup.title"
      ],
      "execution_count": null,
      "outputs": [
        {
          "output_type": "execute_result",
          "data": {
            "text/plain": [
              "<title>네이버 웹툰</title>"
            ]
          },
          "metadata": {},
          "execution_count": 23
        }
      ]
    },
    {
      "cell_type": "code",
      "metadata": {
        "id": "IO0EZP-HqeGD",
        "colab": {
          "base_uri": "https://localhost:8080/",
          "height": 35
        },
        "outputId": "1345f59e-9427-4e64-9fee-334456417464"
      },
      "source": [
        "soup.title.get_text() #해당 태그에 대한 텍스트값"
      ],
      "execution_count": null,
      "outputs": [
        {
          "output_type": "execute_result",
          "data": {
            "text/plain": [
              "'네이버 웹툰'"
            ],
            "application/vnd.google.colaboratory.intrinsic+json": {
              "type": "string"
            }
          },
          "metadata": {},
          "execution_count": 24
        }
      ]
    },
    {
      "cell_type": "markdown",
      "metadata": {
        "id": "pqflgLzHQ8es"
      },
      "source": [
        "- 네이버 주가 정보"
      ]
    },
    {
      "cell_type": "code",
      "metadata": {
        "id": "YG5A5NZUQ7z1",
        "colab": {
          "base_uri": "https://localhost:8080/"
        },
        "outputId": "46cc5aaa-a87d-4c09-81a6-4e1e78cf945d"
      },
      "source": [
        "# 아래 주소에 대해서 1~5페이지까지의 주가정보를 수집하셔서 csv로 만드세요.\n",
        "\n",
        "# 주가 예측하는 모형도 만들어보세요.\n",
        "\n",
        "\n",
        "import csv\n",
        "import requests\n",
        "from bs4 import BeautifulSoup\n",
        "\n",
        "url = 'https://finance.naver.com/sise/sise_market_sum.nhn?sosok=0&page='\n",
        "\n",
        "for page in range(1,2):\n",
        "  res = requests.get(url + str(page))\n",
        "  res.raise_for_status()\n",
        "  soup = BeautifulSoup(res.text, 'lxml')\n",
        "\n",
        "\n",
        "  data_rows = soup.find('table',attrs={'class':'type_2'}).find('tbody').find_all('tr')\n",
        "  for row in data_rows:\n",
        "    columns = row.find_all('td')\n",
        "    data = [column.get_text().strip() for column in columns]\n",
        "    print(data)\n"
      ],
      "execution_count": null,
      "outputs": [
        {
          "output_type": "stream",
          "name": "stdout",
          "text": [
            "['']\n",
            "['1', '삼성전자', '70,000', '보합0', '0.00%', '100', '4,143,747', '5,919,638', '50.52', '10,507,671', '13.56', '9.03', '']\n",
            "['2', 'SK하이닉스', '263,000', '하락\\n\\t\\t\\t\\t4,500', '-1.68%', '5,000', '1,914,646', '728,002', '55.41', '1,690,601', '7.37', '31.06', '']\n",
            "['3', 'LG에너지솔루션', '384,000', '상승\\n\\t\\t\\t\\t1,000', '+0.26%', '500', '898,560', '234,000', '4.19', '108,072', '-90.80', '-4.93', '']\n",
            "['4', '삼성바이오로직스', '1,024,000', '하락\\n\\t\\t\\t\\t4,000', '-0.39%', '2,500', '728,822', '71,174', '12.85', '33,935', '56.96', '10.45', '']\n",
            "['5', '삼성전자우', '57,400', '상승\\n\\t\\t\\t\\t100', '+0.17%', '100', '468,369', '815,975', '74.21', '1,219,026', '11.12', 'N/A', '']\n",
            "['']\n",
            "['']\n",
            "['']\n",
            "['6', '현대차', '219,000', '상승\\n\\t\\t\\t\\t2,500', '+1.15%', '5,000', '448,420', '204,758', '36.19', '442,222', '4.77', '12.43', '']\n",
            "['7', '한화에어로스페이스', '827,000', '하락\\n\\t\\t\\t\\t61,000', '-6.87%', '5,000', '426,429', '51,563', '43.82', '256,827', '16.72', '53.94', '']\n",
            "['8', 'KB금융', '109,400', '상승\\n\\t\\t\\t\\t2,200', '+2.05%', '5,000', '417,320', '381,462', '77.67', '1,262,756', '7.59', '8.86', '']\n",
            "['9', '기아', '104,000', '상승\\n\\t\\t\\t\\t1,800', '+1.76%', '5,000', '413,580', '397,673', '39.73', '600,538', '4.44', '19.09', '']\n",
            "['10', '셀트리온', '172,900', '보합0', '0.00%', '1,000', '399,294', '230,939', '21.36', '273,237', '80.01', '2.46', '']\n",
            "['']\n",
            "['']\n",
            "['']\n",
            "['11', 'HD현대중공업', '447,500', '하락\\n\\t\\t\\t\\t28,500', '-5.99%', '5,000', '397,260', '88,773', '11.02', '220,994', '45.29', '11.39', '']\n",
            "['12', '두산에너빌리티', '59,500', '하락\\n\\t\\t\\t\\t5,600', '-8.60%', '5,000', '381,134', '640,561', '23.63', '11,588,978', '-374.21', '1.52', '']\n",
            "['13', 'NAVER', '225,500', '하락\\n\\t\\t\\t\\t500', '-0.22%', '100', '357,275', '158,437', '42.30', '419,214', '19.69', '7.90', '']\n",
            "['14', '신한지주', '67,400', '하락\\n\\t\\t\\t\\t100', '-0.15%', '5,000', '327,224', '485,495', '60.01', '1,137,716', '7.40', '8.11', '']\n",
            "['15', '한화오션', '106,000', '하락\\n\\t\\t\\t\\t3,200', '-2.93%', '5,000', '324,798', '306,413', '14.74', '1,690,787', '37.39', '11.52', '']\n",
            "['']\n",
            "['']\n",
            "['']\n",
            "['16', '카카오', '65,200', '상승\\n\\t\\t\\t\\t200', '+0.31%', '100', '288,265', '442,125', '29.24', '2,712,501', '188.44', '0.56', '']\n",
            "['17', '현대모비스', '302,000', '상승\\n\\t\\t\\t\\t10,000', '+3.42%', '5,000', '277,221', '91,795', '43.63', '150,346', '6.65', '9.35', '']\n",
            "['18', '삼성물산', '160,500', '하락\\n\\t\\t\\t\\t1,000', '-0.62%', '100', '272,812', '169,977', '27.53', '198,380', '12.82', '6.83', '']\n",
            "['19', '삼성생명', '129,000', '상승\\n\\t\\t\\t\\t1,500', '+1.18%', '500', '258,000', '200,000', '21.98', '265,040', '12.17', '6.18', '']\n",
            "['20', 'HD한국조선해양', '355,000', '하락\\n\\t\\t\\t\\t14,500', '-3.92%', '5,000', '251,245', '70,773', '32.80', '196,575', '16.99', '11.16', '']\n",
            "['']\n",
            "['']\n",
            "['']\n",
            "['21', 'POSCO홀딩스', '302,000', '상승\\n\\t\\t\\t\\t500', '+0.17%', '5,000', '244,418', '80,933', '29.98', '166,160', '29.36', '2.00', '']\n",
            "['22', '한국전력', '37,350', '하락\\n\\t\\t\\t\\t2,100', '-5.32%', '5,000', '239,774', '641,964', '20.44', '5,167,793', '4.56', '9.22', '']\n",
            "['23', 'HMM', '22,950', '하락\\n\\t\\t\\t\\t700', '-2.96%', '5,000', '235,247', '1,025,039', '6.86', '2,345,848', '5.19', '15.35', '']\n",
            "['24', '하나금융지주', '82,500', '하락\\n\\t\\t\\t\\t300', '-0.36%', '5,000', '234,897', '284,724', '67.11', '859,372', '6.23', '9.11', '']\n",
            "['25', '메리츠금융지주', '118,300', '하락\\n\\t\\t\\t\\t1,000', '-0.84%', '500', '212,957', '180,014', '15.62', '166,696', '9.68', '23.44', '']\n",
            "['']\n",
            "['']\n",
            "['']\n",
            "['26', '삼성화재', '443,000', '상승\\n\\t\\t\\t\\t2,000', '+0.45%', '500', '203,829', '46,011', '55.79', '69,208', '11.31', '13.11', '']\n",
            "['27', 'LG화학', '277,500', '상승\\n\\t\\t\\t\\t1,500', '+0.54%', '5,000', '195,894', '70,592', '31.66', '185,341', '-23.23', '-2.11', '']\n",
            "['28', '현대로템', '174,200', '하락\\n\\t\\t\\t\\t4,700', '-2.63%', '5,000', '190,126', '109,142', '31.05', '765,318', '37.35', '21.85', '']\n",
            "['29', 'SK스퀘어', '140,400', '상승\\n\\t\\t\\t\\t2,800', '+2.03%', '100', '186,087', '132,541', '53.45', '354,487', '3.79', '21.70', '']\n",
            "['30', '우리금융지주', '24,700', '보합0', '0.00%', '5,000', '183,420', '742,592', '47.02', '1,352,813', '6.37', '9.39', '']\n",
            "['']\n",
            "['']\n",
            "['']\n",
            "['31', '삼성SDI', '221,000', '상승\\n\\t\\t\\t\\t1,500', '+0.68%', '5,000', '178,094', '80,586', '26.67', '268,361', '151.27', '3.13', '']\n",
            "['32', 'HD현대일렉트릭', '460,000', '보합0', '0.00%', '5,000', '165,817', '36,047', '35.37', '141,014', '29.52', '39.34', '']\n",
            "['33', '삼성중공업', '18,680', '하락\\n\\t\\t\\t\\t610', '-3.16%', '1,000', '164,384', '880,000', '31.40', '6,691,630', '112.53', '1.77', '']\n",
            "['34', 'KT&G', '133,600', '하락\\n\\t\\t\\t\\t300', '-0.22%', '5,000', '163,075', '122,062', '42.38', '372,358', '15.04', '12.66', '']\n",
            "['35', 'SK이노베이션', '105,900', '상승\\n\\t\\t\\t\\t400', '+0.38%', '5,000', '159,946', '151,035', '13.55', '147,883', '-5.23', '-9.65', '']\n",
            "['']\n",
            "['']\n",
            "['']\n",
            "['36', '고려아연', '786,000', '상승\\n\\t\\t\\t\\t4,000', '+0.51%', '5,000', '157,383', '20,023', '11.97', '7,087', '66.05', '2.28', '']\n",
            "['37', '크래프톤', '328,000', '상승\\n\\t\\t\\t\\t15,000', '+4.79%', '100', '155,450', '47,393', '42.80', '225,509', '11.85', '21.10', '']\n",
            "['38', '기업은행', '19,300', '상승\\n\\t\\t\\t\\t40', '+0.21%', '5,000', '153,903', '797,426', '13.91', '451,394', '5.76', '8.06', '']\n",
            "['39', 'KT', '55,400', '상승\\n\\t\\t\\t\\t100', '+0.18%', '5,000', '139,620', '252,022', '49.00', '241,839', '22.06', '2.85', '']\n",
            "['40', '포스코퓨처엠', '154,200', '하락\\n\\t\\t\\t\\t1,100', '-0.71%', '500', '137,155', '88,946', '9.69', '190,204', '-55.19', '-7.98', '']\n",
            "['']\n",
            "['']\n",
            "['']\n",
            "['41', 'SK', '182,300', '하락\\n\\t\\t\\t\\t1,800', '-0.98%', '200', '132,172', '72,503', '25.33', '145,376', '14.84', '-5.64', '']\n",
            "['42', '현대글로비스', '174,600', '상승\\n\\t\\t\\t\\t3,100', '+1.81%', '500', '130,950', '75,000', '50.13', '175,356', '11.03', '13.24', '']\n",
            "['43', 'LG전자', '76,500', '하락\\n\\t\\t\\t\\t300', '-0.39%', '5,000', '124,608', '162,886', '29.28', '307,306', '20.00', '1.81', '']\n",
            "['44', '카카오뱅크', '25,700', '하락\\n\\t\\t\\t\\t200', '-0.77%', '5,000', '122,587', '476,990', '16.21', '741,959', '26.28', '6.95', '']\n",
            "['45', '하이브', '287,500', '상승\\n\\t\\t\\t\\t7,000', '+2.50%', '500', '119,750', '41,652', '20.69', '281,644', '228.90', '0.31', '']\n",
            "['']\n",
            "['']\n",
            "['']\n",
            "['46', 'SK텔레콤', '55,700', '하락\\n\\t\\t\\t\\t100', '-0.18%', '100', '119,638', '214,790', '38.51', '509,390', '9.48', '10.83', '']\n",
            "['47', '삼성전기', '159,000', '상승\\n\\t\\t\\t\\t800', '+0.51%', '5,000', '118,763', '74,694', '35.32', '209,985', '19.59', '8.16', '']\n",
            "['48', '삼성에스디에스', '149,600', '하락\\n\\t\\t\\t\\t1,200', '-0.80%', '500', '115,757', '77,378', '18.74', '141,464', '15.28', '8.42', '']\n",
            "['49', 'LG', '73,200', '상승\\n\\t\\t\\t\\t200', '+0.27%', '5,000', '115,108', '157,251', '34.73', '197,041', '14.49', '2.16', '']\n",
            "['50', '효성중공업', '1,160,000', '하락\\n\\t\\t\\t\\t17,000', '-1.44%', '5,000', '108,165', '9,325', '24.81', '64,506', '35.68', '14.90', '']\n",
            "['']\n",
            "['']\n",
            "['']\n"
          ]
        }
      ]
    },
    {
      "cell_type": "code",
      "source": [],
      "metadata": {
        "id": "jDvJW_dAx0uv"
      },
      "execution_count": null,
      "outputs": []
    },
    {
      "cell_type": "code",
      "metadata": {
        "colab": {
          "base_uri": "https://localhost:8080/"
        },
        "id": "6MZM7aKRW1z3",
        "outputId": "d0cb0b7c-1247-4655-8c93-7ea3b6979bde"
      },
      "source": [
        "import csv\n",
        "import requests\n",
        "from bs4 import BeautifulSoup\n",
        "\n",
        "url = 'https://finance.naver.com/sise/sise_market_sum.nhn?sosok=0&page='\n",
        "\n",
        "for page in range(1,2):\n",
        "  res = requests.get(url + str(page))\n",
        "  res.raise_for_status()\n",
        "  soup = BeautifulSoup(res.text, 'lxml')\n",
        "\n",
        "\n",
        "  data_rows = soup.find('table',attrs={'class':'type_2'}).find('tbody').find_all('tr')\n",
        "  for row in data_rows:\n",
        "    columns = row.find_all('td')\n",
        "    if len(columns) <=1: #비어있는 라인 제외시키기\n",
        "      continue\n",
        "    data = [column.get_text().strip() for column in columns]\n",
        "    print(data)\n"
      ],
      "execution_count": null,
      "outputs": [
        {
          "output_type": "stream",
          "name": "stdout",
          "text": [
            "['1', '삼성전자', '70,000', '보합0', '0.00%', '100', '4,143,747', '5,919,638', '50.52', '10,507,671', '13.56', '9.03', '']\n",
            "['2', 'SK하이닉스', '263,000', '하락\\n\\t\\t\\t\\t4,500', '-1.68%', '5,000', '1,914,646', '728,002', '55.41', '1,690,601', '7.37', '31.06', '']\n",
            "['3', 'LG에너지솔루션', '384,000', '상승\\n\\t\\t\\t\\t1,000', '+0.26%', '500', '898,560', '234,000', '4.19', '108,072', '-90.80', '-4.93', '']\n",
            "['4', '삼성바이오로직스', '1,024,000', '하락\\n\\t\\t\\t\\t4,000', '-0.39%', '2,500', '728,822', '71,174', '12.85', '33,935', '56.96', '10.45', '']\n",
            "['5', '삼성전자우', '57,400', '상승\\n\\t\\t\\t\\t100', '+0.17%', '100', '468,369', '815,975', '74.21', '1,219,026', '11.12', 'N/A', '']\n",
            "['6', '현대차', '219,000', '상승\\n\\t\\t\\t\\t2,500', '+1.15%', '5,000', '448,420', '204,758', '36.19', '442,222', '4.77', '12.43', '']\n",
            "['7', '한화에어로스페이스', '827,000', '하락\\n\\t\\t\\t\\t61,000', '-6.87%', '5,000', '426,429', '51,563', '43.82', '256,827', '16.72', '53.94', '']\n",
            "['8', 'KB금융', '109,400', '상승\\n\\t\\t\\t\\t2,200', '+2.05%', '5,000', '417,320', '381,462', '77.67', '1,262,756', '7.59', '8.86', '']\n",
            "['9', '기아', '104,000', '상승\\n\\t\\t\\t\\t1,800', '+1.76%', '5,000', '413,580', '397,673', '39.73', '600,538', '4.44', '19.09', '']\n",
            "['10', '셀트리온', '172,900', '보합0', '0.00%', '1,000', '399,294', '230,939', '21.36', '273,237', '80.01', '2.46', '']\n",
            "['11', 'HD현대중공업', '447,500', '하락\\n\\t\\t\\t\\t28,500', '-5.99%', '5,000', '397,260', '88,773', '11.02', '220,994', '45.29', '11.39', '']\n",
            "['12', '두산에너빌리티', '59,500', '하락\\n\\t\\t\\t\\t5,600', '-8.60%', '5,000', '381,134', '640,561', '23.63', '11,588,978', '-374.21', '1.52', '']\n",
            "['13', 'NAVER', '225,500', '하락\\n\\t\\t\\t\\t500', '-0.22%', '100', '357,275', '158,437', '42.30', '419,214', '19.69', '7.90', '']\n",
            "['14', '신한지주', '67,400', '하락\\n\\t\\t\\t\\t100', '-0.15%', '5,000', '327,224', '485,495', '60.01', '1,137,716', '7.40', '8.11', '']\n",
            "['15', '한화오션', '106,000', '하락\\n\\t\\t\\t\\t3,200', '-2.93%', '5,000', '324,798', '306,413', '14.74', '1,690,787', '37.39', '11.52', '']\n",
            "['16', '카카오', '65,200', '상승\\n\\t\\t\\t\\t200', '+0.31%', '100', '288,265', '442,125', '29.24', '2,712,501', '188.44', '0.56', '']\n",
            "['17', '현대모비스', '302,000', '상승\\n\\t\\t\\t\\t10,000', '+3.42%', '5,000', '277,221', '91,795', '43.63', '150,346', '6.65', '9.35', '']\n",
            "['18', '삼성물산', '160,500', '하락\\n\\t\\t\\t\\t1,000', '-0.62%', '100', '272,812', '169,977', '27.53', '198,380', '12.82', '6.83', '']\n",
            "['19', '삼성생명', '129,000', '상승\\n\\t\\t\\t\\t1,500', '+1.18%', '500', '258,000', '200,000', '21.98', '265,040', '12.17', '6.18', '']\n",
            "['20', 'HD한국조선해양', '355,000', '하락\\n\\t\\t\\t\\t14,500', '-3.92%', '5,000', '251,245', '70,773', '32.80', '196,575', '16.99', '11.16', '']\n",
            "['21', 'POSCO홀딩스', '302,000', '상승\\n\\t\\t\\t\\t500', '+0.17%', '5,000', '244,418', '80,933', '29.98', '166,160', '29.36', '2.00', '']\n",
            "['22', '한국전력', '37,350', '하락\\n\\t\\t\\t\\t2,100', '-5.32%', '5,000', '239,774', '641,964', '20.44', '5,167,793', '4.56', '9.22', '']\n",
            "['23', 'HMM', '22,950', '하락\\n\\t\\t\\t\\t700', '-2.96%', '5,000', '235,247', '1,025,039', '6.86', '2,345,848', '5.19', '15.35', '']\n",
            "['24', '하나금융지주', '82,500', '하락\\n\\t\\t\\t\\t300', '-0.36%', '5,000', '234,897', '284,724', '67.11', '859,372', '6.23', '9.11', '']\n",
            "['25', '메리츠금융지주', '118,300', '하락\\n\\t\\t\\t\\t1,000', '-0.84%', '500', '212,957', '180,014', '15.62', '166,696', '9.68', '23.44', '']\n",
            "['26', '삼성화재', '443,000', '상승\\n\\t\\t\\t\\t2,000', '+0.45%', '500', '203,829', '46,011', '55.79', '69,208', '11.31', '13.11', '']\n",
            "['27', 'LG화학', '277,500', '상승\\n\\t\\t\\t\\t1,500', '+0.54%', '5,000', '195,894', '70,592', '31.66', '185,341', '-23.23', '-2.11', '']\n",
            "['28', '현대로템', '174,200', '하락\\n\\t\\t\\t\\t4,700', '-2.63%', '5,000', '190,126', '109,142', '31.05', '765,318', '37.35', '21.85', '']\n",
            "['29', 'SK스퀘어', '140,400', '상승\\n\\t\\t\\t\\t2,800', '+2.03%', '100', '186,087', '132,541', '53.45', '354,487', '3.79', '21.70', '']\n",
            "['30', '우리금융지주', '24,700', '보합0', '0.00%', '5,000', '183,420', '742,592', '47.02', '1,352,813', '6.37', '9.39', '']\n",
            "['31', '삼성SDI', '221,000', '상승\\n\\t\\t\\t\\t1,500', '+0.68%', '5,000', '178,094', '80,586', '26.67', '268,361', '151.27', '3.13', '']\n",
            "['32', 'HD현대일렉트릭', '460,000', '보합0', '0.00%', '5,000', '165,817', '36,047', '35.37', '141,014', '29.52', '39.34', '']\n",
            "['33', '삼성중공업', '18,680', '하락\\n\\t\\t\\t\\t610', '-3.16%', '1,000', '164,384', '880,000', '31.40', '6,691,630', '112.53', '1.77', '']\n",
            "['34', 'KT&G', '133,600', '하락\\n\\t\\t\\t\\t300', '-0.22%', '5,000', '163,075', '122,062', '42.38', '372,358', '15.04', '12.66', '']\n",
            "['35', 'SK이노베이션', '105,900', '상승\\n\\t\\t\\t\\t400', '+0.38%', '5,000', '159,946', '151,035', '13.55', '147,883', '-5.23', '-9.65', '']\n",
            "['36', '고려아연', '786,000', '상승\\n\\t\\t\\t\\t4,000', '+0.51%', '5,000', '157,383', '20,023', '11.97', '7,087', '66.05', '2.28', '']\n",
            "['37', '크래프톤', '328,000', '상승\\n\\t\\t\\t\\t15,000', '+4.79%', '100', '155,450', '47,393', '42.80', '225,509', '11.85', '21.10', '']\n",
            "['38', '기업은행', '19,300', '상승\\n\\t\\t\\t\\t40', '+0.21%', '5,000', '153,903', '797,426', '13.91', '451,394', '5.76', '8.06', '']\n",
            "['39', 'KT', '55,400', '상승\\n\\t\\t\\t\\t100', '+0.18%', '5,000', '139,620', '252,022', '49.00', '241,839', '22.06', '2.85', '']\n",
            "['40', '포스코퓨처엠', '154,200', '하락\\n\\t\\t\\t\\t1,100', '-0.71%', '500', '137,155', '88,946', '9.69', '190,204', '-55.19', '-7.98', '']\n",
            "['41', 'SK', '182,300', '하락\\n\\t\\t\\t\\t1,800', '-0.98%', '200', '132,172', '72,503', '25.33', '145,376', '14.84', '-5.64', '']\n",
            "['42', '현대글로비스', '174,600', '상승\\n\\t\\t\\t\\t3,100', '+1.81%', '500', '130,950', '75,000', '50.13', '175,356', '11.03', '13.24', '']\n",
            "['43', 'LG전자', '76,500', '하락\\n\\t\\t\\t\\t300', '-0.39%', '5,000', '124,608', '162,886', '29.28', '307,306', '20.00', '1.81', '']\n",
            "['44', '카카오뱅크', '25,700', '하락\\n\\t\\t\\t\\t200', '-0.77%', '5,000', '122,587', '476,990', '16.21', '741,959', '26.28', '6.95', '']\n",
            "['45', '하이브', '287,500', '상승\\n\\t\\t\\t\\t7,000', '+2.50%', '500', '119,750', '41,652', '20.69', '281,644', '228.90', '0.31', '']\n",
            "['46', 'SK텔레콤', '55,700', '하락\\n\\t\\t\\t\\t100', '-0.18%', '100', '119,638', '214,790', '38.51', '509,390', '9.48', '10.83', '']\n",
            "['47', '삼성전기', '159,000', '상승\\n\\t\\t\\t\\t800', '+0.51%', '5,000', '118,763', '74,694', '35.32', '209,985', '19.59', '8.16', '']\n",
            "['48', '삼성에스디에스', '149,600', '하락\\n\\t\\t\\t\\t1,200', '-0.80%', '500', '115,757', '77,378', '18.74', '141,464', '15.28', '8.42', '']\n",
            "['49', 'LG', '73,200', '상승\\n\\t\\t\\t\\t200', '+0.27%', '5,000', '115,108', '157,251', '34.73', '197,041', '14.49', '2.16', '']\n",
            "['50', '효성중공업', '1,160,000', '하락\\n\\t\\t\\t\\t17,000', '-1.44%', '5,000', '108,165', '9,325', '24.81', '64,506', '35.68', '14.90', '']\n"
          ]
        }
      ]
    },
    {
      "cell_type": "code",
      "metadata": {
        "id": "l1M1GDwzW187",
        "colab": {
          "base_uri": "https://localhost:8080/"
        },
        "outputId": "5e4879f4-56bf-4d61-c034-ffcb09b56b33"
      },
      "source": [
        "import csv\n",
        "import requests\n",
        "from bs4 import BeautifulSoup\n",
        "\n",
        "url = 'https://finance.naver.com/sise/sise_market_sum.nhn?sosok=0&page='\n",
        "\n",
        "filename = 'kospi.csv'\n",
        "\n",
        "f = open(filename, 'w', encoding = 'utf-8-sig', newline = '') #utf-8에서 인코딩 문제 발생 시, utf-8-signature로 인코딩\n",
        "writer = csv.writer(f)\n",
        "\n",
        "for page in range(1,2):\n",
        "  res = requests.get(url + str(page))\n",
        "  res.raise_for_status()\n",
        "  soup = BeautifulSoup(res.text, 'lxml')\n",
        "\n",
        "  data_rows = soup.find('table',attrs={'class':'type_2'}).find('tbody').find_all('tr')\n",
        "  for row in data_rows:\n",
        "    columns = row.find_all('td')\n",
        "    if len(columns) <=1: #의미 없는 데이터는 skip\n",
        "      continue\n",
        "    data = [column.get_text().strip() for column in columns]\n",
        "    print(data)\n",
        "    writer.writerow(data)\n"
      ],
      "execution_count": null,
      "outputs": [
        {
          "output_type": "stream",
          "name": "stdout",
          "text": [
            "['1', '삼성전자', '70,000', '보합0', '0.00%', '100', '4,143,747', '5,919,638', '50.52', '10,507,671', '13.56', '9.03', '']\n",
            "['2', 'SK하이닉스', '263,000', '하락\\n\\t\\t\\t\\t4,500', '-1.68%', '5,000', '1,914,646', '728,002', '55.41', '1,690,601', '7.37', '31.06', '']\n",
            "['3', 'LG에너지솔루션', '384,000', '상승\\n\\t\\t\\t\\t1,000', '+0.26%', '500', '898,560', '234,000', '4.19', '108,072', '-90.80', '-4.93', '']\n",
            "['4', '삼성바이오로직스', '1,024,000', '하락\\n\\t\\t\\t\\t4,000', '-0.39%', '2,500', '728,822', '71,174', '12.85', '33,935', '56.96', '10.45', '']\n",
            "['5', '삼성전자우', '57,400', '상승\\n\\t\\t\\t\\t100', '+0.17%', '100', '468,369', '815,975', '74.21', '1,219,026', '11.12', 'N/A', '']\n",
            "['6', '현대차', '219,000', '상승\\n\\t\\t\\t\\t2,500', '+1.15%', '5,000', '448,420', '204,758', '36.19', '442,222', '4.77', '12.43', '']\n",
            "['7', '한화에어로스페이스', '827,000', '하락\\n\\t\\t\\t\\t61,000', '-6.87%', '5,000', '426,429', '51,563', '43.82', '256,827', '16.72', '53.94', '']\n",
            "['8', 'KB금융', '109,400', '상승\\n\\t\\t\\t\\t2,200', '+2.05%', '5,000', '417,320', '381,462', '77.67', '1,262,756', '7.59', '8.86', '']\n",
            "['9', '기아', '104,000', '상승\\n\\t\\t\\t\\t1,800', '+1.76%', '5,000', '413,580', '397,673', '39.73', '600,538', '4.44', '19.09', '']\n",
            "['10', '셀트리온', '172,900', '보합0', '0.00%', '1,000', '399,294', '230,939', '21.36', '273,237', '80.01', '2.46', '']\n",
            "['11', 'HD현대중공업', '447,500', '하락\\n\\t\\t\\t\\t28,500', '-5.99%', '5,000', '397,260', '88,773', '11.02', '220,994', '45.29', '11.39', '']\n",
            "['12', '두산에너빌리티', '59,500', '하락\\n\\t\\t\\t\\t5,600', '-8.60%', '5,000', '381,134', '640,561', '23.63', '11,588,978', '-374.21', '1.52', '']\n",
            "['13', 'NAVER', '225,500', '하락\\n\\t\\t\\t\\t500', '-0.22%', '100', '357,275', '158,437', '42.30', '419,214', '19.69', '7.90', '']\n",
            "['14', '신한지주', '67,400', '하락\\n\\t\\t\\t\\t100', '-0.15%', '5,000', '327,224', '485,495', '60.01', '1,137,716', '7.40', '8.11', '']\n",
            "['15', '한화오션', '106,000', '하락\\n\\t\\t\\t\\t3,200', '-2.93%', '5,000', '324,798', '306,413', '14.74', '1,690,787', '37.39', '11.52', '']\n",
            "['16', '카카오', '65,200', '상승\\n\\t\\t\\t\\t200', '+0.31%', '100', '288,265', '442,125', '29.24', '2,712,501', '188.44', '0.56', '']\n",
            "['17', '현대모비스', '302,000', '상승\\n\\t\\t\\t\\t10,000', '+3.42%', '5,000', '277,221', '91,795', '43.63', '150,346', '6.65', '9.35', '']\n",
            "['18', '삼성물산', '160,500', '하락\\n\\t\\t\\t\\t1,000', '-0.62%', '100', '272,812', '169,977', '27.53', '198,380', '12.82', '6.83', '']\n",
            "['19', '삼성생명', '129,000', '상승\\n\\t\\t\\t\\t1,500', '+1.18%', '500', '258,000', '200,000', '21.98', '265,040', '12.17', '6.18', '']\n",
            "['20', 'HD한국조선해양', '355,000', '하락\\n\\t\\t\\t\\t14,500', '-3.92%', '5,000', '251,245', '70,773', '32.80', '196,575', '16.99', '11.16', '']\n",
            "['21', 'POSCO홀딩스', '302,000', '상승\\n\\t\\t\\t\\t500', '+0.17%', '5,000', '244,418', '80,933', '29.98', '166,160', '29.36', '2.00', '']\n",
            "['22', '한국전력', '37,350', '하락\\n\\t\\t\\t\\t2,100', '-5.32%', '5,000', '239,774', '641,964', '20.44', '5,167,793', '4.56', '9.22', '']\n",
            "['23', 'HMM', '22,950', '하락\\n\\t\\t\\t\\t700', '-2.96%', '5,000', '235,247', '1,025,039', '6.86', '2,345,848', '5.19', '15.35', '']\n",
            "['24', '하나금융지주', '82,500', '하락\\n\\t\\t\\t\\t300', '-0.36%', '5,000', '234,897', '284,724', '67.11', '859,372', '6.23', '9.11', '']\n",
            "['25', '메리츠금융지주', '118,300', '하락\\n\\t\\t\\t\\t1,000', '-0.84%', '500', '212,957', '180,014', '15.62', '166,696', '9.68', '23.44', '']\n",
            "['26', '삼성화재', '443,000', '상승\\n\\t\\t\\t\\t2,000', '+0.45%', '500', '203,829', '46,011', '55.79', '69,208', '11.31', '13.11', '']\n",
            "['27', 'LG화학', '277,500', '상승\\n\\t\\t\\t\\t1,500', '+0.54%', '5,000', '195,894', '70,592', '31.66', '185,341', '-23.23', '-2.11', '']\n",
            "['28', '현대로템', '174,200', '하락\\n\\t\\t\\t\\t4,700', '-2.63%', '5,000', '190,126', '109,142', '31.05', '765,318', '37.35', '21.85', '']\n",
            "['29', 'SK스퀘어', '140,400', '상승\\n\\t\\t\\t\\t2,800', '+2.03%', '100', '186,087', '132,541', '53.45', '354,487', '3.79', '21.70', '']\n",
            "['30', '우리금융지주', '24,700', '보합0', '0.00%', '5,000', '183,420', '742,592', '47.02', '1,352,813', '6.37', '9.39', '']\n",
            "['31', '삼성SDI', '221,000', '상승\\n\\t\\t\\t\\t1,500', '+0.68%', '5,000', '178,094', '80,586', '26.67', '268,361', '151.27', '3.13', '']\n",
            "['32', 'HD현대일렉트릭', '460,000', '보합0', '0.00%', '5,000', '165,817', '36,047', '35.37', '141,014', '29.52', '39.34', '']\n",
            "['33', '삼성중공업', '18,680', '하락\\n\\t\\t\\t\\t610', '-3.16%', '1,000', '164,384', '880,000', '31.40', '6,691,630', '112.53', '1.77', '']\n",
            "['34', 'KT&G', '133,600', '하락\\n\\t\\t\\t\\t300', '-0.22%', '5,000', '163,075', '122,062', '42.38', '372,358', '15.04', '12.66', '']\n",
            "['35', 'SK이노베이션', '105,900', '상승\\n\\t\\t\\t\\t400', '+0.38%', '5,000', '159,946', '151,035', '13.55', '147,883', '-5.23', '-9.65', '']\n",
            "['36', '고려아연', '786,000', '상승\\n\\t\\t\\t\\t4,000', '+0.51%', '5,000', '157,383', '20,023', '11.97', '7,087', '66.05', '2.28', '']\n",
            "['37', '크래프톤', '328,000', '상승\\n\\t\\t\\t\\t15,000', '+4.79%', '100', '155,450', '47,393', '42.80', '225,509', '11.85', '21.10', '']\n",
            "['38', '기업은행', '19,300', '상승\\n\\t\\t\\t\\t40', '+0.21%', '5,000', '153,903', '797,426', '13.91', '451,394', '5.76', '8.06', '']\n",
            "['39', 'KT', '55,400', '상승\\n\\t\\t\\t\\t100', '+0.18%', '5,000', '139,620', '252,022', '49.00', '241,839', '22.06', '2.85', '']\n",
            "['40', '포스코퓨처엠', '154,200', '하락\\n\\t\\t\\t\\t1,100', '-0.71%', '500', '137,155', '88,946', '9.69', '190,204', '-55.19', '-7.98', '']\n",
            "['41', 'SK', '182,300', '하락\\n\\t\\t\\t\\t1,800', '-0.98%', '200', '132,172', '72,503', '25.33', '145,376', '14.84', '-5.64', '']\n",
            "['42', '현대글로비스', '174,600', '상승\\n\\t\\t\\t\\t3,100', '+1.81%', '500', '130,950', '75,000', '50.13', '175,356', '11.03', '13.24', '']\n",
            "['43', 'LG전자', '76,500', '하락\\n\\t\\t\\t\\t300', '-0.39%', '5,000', '124,608', '162,886', '29.28', '307,306', '20.00', '1.81', '']\n",
            "['44', '카카오뱅크', '25,700', '하락\\n\\t\\t\\t\\t200', '-0.77%', '5,000', '122,587', '476,990', '16.21', '741,959', '26.28', '6.95', '']\n",
            "['45', '하이브', '287,500', '상승\\n\\t\\t\\t\\t7,000', '+2.50%', '500', '119,750', '41,652', '20.69', '281,644', '228.90', '0.31', '']\n",
            "['46', 'SK텔레콤', '55,700', '하락\\n\\t\\t\\t\\t100', '-0.18%', '100', '119,638', '214,790', '38.51', '509,390', '9.48', '10.83', '']\n",
            "['47', '삼성전기', '159,000', '상승\\n\\t\\t\\t\\t800', '+0.51%', '5,000', '118,763', '74,694', '35.32', '209,985', '19.59', '8.16', '']\n",
            "['48', '삼성에스디에스', '149,600', '하락\\n\\t\\t\\t\\t1,200', '-0.80%', '500', '115,757', '77,378', '18.74', '141,464', '15.28', '8.42', '']\n",
            "['49', 'LG', '73,200', '상승\\n\\t\\t\\t\\t200', '+0.27%', '5,000', '115,108', '157,251', '34.73', '197,041', '14.49', '2.16', '']\n",
            "['50', '효성중공업', '1,160,000', '하락\\n\\t\\t\\t\\t17,000', '-1.44%', '5,000', '108,165', '9,325', '24.81', '64,506', '35.68', '14.90', '']\n"
          ]
        }
      ]
    },
    {
      "cell_type": "code",
      "metadata": {
        "id": "Q7_aSuxoW2BG",
        "colab": {
          "base_uri": "https://localhost:8080/"
        },
        "outputId": "836dee46-e367-4b2c-cc31-9753edbf9f89"
      },
      "source": [
        "import csv\n",
        "import requests\n",
        "from bs4 import BeautifulSoup\n",
        "\n",
        "url = 'https://finance.naver.com/sise/sise_market_sum.nhn?sosok=0&page='\n",
        "\n",
        "filename = 'kospi2.csv'\n",
        "\n",
        "f = open(filename, 'w', encoding = 'utf-8-sig', newline = '')\n",
        "writer = csv.writer(f)\n",
        "\n",
        "title = 'N\t종목명\t현재가\t전일비\t등락률\t액면가\t시가총액\t상장주식수\t외국인비율\t거래량\tPER\tROE'.split('\\t')\n",
        "writer.writerow(title)\n",
        "\n",
        "for page in range(1,5):\n",
        "  res = requests.get(url + str(page))\n",
        "  res.raise_for_status()\n",
        "  soup = BeautifulSoup(res.text, 'lxml')\n",
        "\n",
        "\n",
        "  data_rows = soup.find('table',attrs={'class':'type_2'}).find('tbody').find_all('tr')\n",
        "  for row in data_rows:\n",
        "    columns = row.find_all('td')\n",
        "    if len(columns) <=1: #의미 없는 데이터는 skip\n",
        "      continue\n",
        "    data = [column.get_text().strip() for column in columns]\n",
        "    print(data)\n",
        "    writer.writerow(data)\n",
        "\n"
      ],
      "execution_count": null,
      "outputs": [
        {
          "output_type": "stream",
          "name": "stdout",
          "text": [
            "['1', '삼성전자', '70,000', '보합0', '0.00%', '100', '4,143,747', '5,919,638', '50.52', '10,507,671', '13.56', '9.03', '']\n",
            "['2', 'SK하이닉스', '263,000', '하락\\n\\t\\t\\t\\t4,500', '-1.68%', '5,000', '1,914,646', '728,002', '55.41', '1,690,601', '7.37', '31.06', '']\n",
            "['3', 'LG에너지솔루션', '384,000', '상승\\n\\t\\t\\t\\t1,000', '+0.26%', '500', '898,560', '234,000', '4.19', '108,072', '-90.80', '-4.93', '']\n",
            "['4', '삼성바이오로직스', '1,024,000', '하락\\n\\t\\t\\t\\t4,000', '-0.39%', '2,500', '728,822', '71,174', '12.85', '33,935', '56.96', '10.45', '']\n",
            "['5', '삼성전자우', '57,400', '상승\\n\\t\\t\\t\\t100', '+0.17%', '100', '468,369', '815,975', '74.21', '1,219,026', '11.12', 'N/A', '']\n",
            "['6', '현대차', '219,000', '상승\\n\\t\\t\\t\\t2,500', '+1.15%', '5,000', '448,420', '204,758', '36.19', '442,222', '4.77', '12.43', '']\n",
            "['7', '한화에어로스페이스', '827,000', '하락\\n\\t\\t\\t\\t61,000', '-6.87%', '5,000', '426,429', '51,563', '43.82', '256,827', '16.72', '53.94', '']\n",
            "['8', 'KB금융', '109,400', '상승\\n\\t\\t\\t\\t2,200', '+2.05%', '5,000', '417,320', '381,462', '77.67', '1,262,756', '7.59', '8.86', '']\n",
            "['9', '기아', '104,000', '상승\\n\\t\\t\\t\\t1,800', '+1.76%', '5,000', '413,580', '397,673', '39.73', '600,538', '4.44', '19.09', '']\n",
            "['10', '셀트리온', '172,900', '보합0', '0.00%', '1,000', '399,294', '230,939', '21.36', '273,237', '80.01', '2.46', '']\n",
            "['11', 'HD현대중공업', '447,500', '하락\\n\\t\\t\\t\\t28,500', '-5.99%', '5,000', '397,260', '88,773', '11.02', '220,994', '45.29', '11.39', '']\n",
            "['12', '두산에너빌리티', '59,500', '하락\\n\\t\\t\\t\\t5,600', '-8.60%', '5,000', '381,134', '640,561', '23.63', '11,588,978', '-374.21', '1.52', '']\n",
            "['13', 'NAVER', '225,500', '하락\\n\\t\\t\\t\\t500', '-0.22%', '100', '357,275', '158,437', '42.30', '419,214', '19.69', '7.90', '']\n",
            "['14', '신한지주', '67,400', '하락\\n\\t\\t\\t\\t100', '-0.15%', '5,000', '327,224', '485,495', '60.01', '1,137,716', '7.40', '8.11', '']\n",
            "['15', '한화오션', '106,000', '하락\\n\\t\\t\\t\\t3,200', '-2.93%', '5,000', '324,798', '306,413', '14.74', '1,690,787', '37.39', '11.52', '']\n",
            "['16', '카카오', '65,200', '상승\\n\\t\\t\\t\\t200', '+0.31%', '100', '288,265', '442,125', '29.24', '2,712,501', '188.44', '0.56', '']\n",
            "['17', '현대모비스', '302,000', '상승\\n\\t\\t\\t\\t10,000', '+3.42%', '5,000', '277,221', '91,795', '43.63', '150,346', '6.65', '9.35', '']\n",
            "['18', '삼성물산', '160,500', '하락\\n\\t\\t\\t\\t1,000', '-0.62%', '100', '272,812', '169,977', '27.53', '198,380', '12.82', '6.83', '']\n",
            "['19', '삼성생명', '129,000', '상승\\n\\t\\t\\t\\t1,500', '+1.18%', '500', '258,000', '200,000', '21.98', '265,040', '12.17', '6.18', '']\n",
            "['20', 'HD한국조선해양', '355,000', '하락\\n\\t\\t\\t\\t14,500', '-3.92%', '5,000', '251,245', '70,773', '32.80', '196,575', '16.99', '11.16', '']\n",
            "['21', 'POSCO홀딩스', '302,000', '상승\\n\\t\\t\\t\\t500', '+0.17%', '5,000', '244,418', '80,933', '29.98', '166,160', '29.36', '2.00', '']\n",
            "['22', '한국전력', '37,350', '하락\\n\\t\\t\\t\\t2,100', '-5.32%', '5,000', '239,774', '641,964', '20.44', '5,167,793', '4.56', '9.22', '']\n",
            "['23', 'HMM', '22,950', '하락\\n\\t\\t\\t\\t700', '-2.96%', '5,000', '235,247', '1,025,039', '6.86', '2,345,848', '5.19', '15.35', '']\n",
            "['24', '하나금융지주', '82,500', '하락\\n\\t\\t\\t\\t300', '-0.36%', '5,000', '234,897', '284,724', '67.11', '859,372', '6.23', '9.11', '']\n",
            "['25', '메리츠금융지주', '118,300', '하락\\n\\t\\t\\t\\t1,000', '-0.84%', '500', '212,957', '180,014', '15.62', '166,696', '9.68', '23.44', '']\n",
            "['26', '삼성화재', '443,000', '상승\\n\\t\\t\\t\\t2,000', '+0.45%', '500', '203,829', '46,011', '55.79', '69,208', '11.31', '13.11', '']\n",
            "['27', 'LG화학', '277,500', '상승\\n\\t\\t\\t\\t1,500', '+0.54%', '5,000', '195,894', '70,592', '31.66', '185,341', '-23.23', '-2.11', '']\n",
            "['28', '현대로템', '174,200', '하락\\n\\t\\t\\t\\t4,700', '-2.63%', '5,000', '190,126', '109,142', '31.05', '765,318', '37.35', '21.85', '']\n",
            "['29', 'SK스퀘어', '140,400', '상승\\n\\t\\t\\t\\t2,800', '+2.03%', '100', '186,087', '132,541', '53.45', '354,487', '3.79', '21.70', '']\n",
            "['30', '우리금융지주', '24,700', '보합0', '0.00%', '5,000', '183,420', '742,592', '47.02', '1,352,813', '6.37', '9.39', '']\n",
            "['31', '삼성SDI', '221,000', '상승\\n\\t\\t\\t\\t1,500', '+0.68%', '5,000', '178,094', '80,586', '26.67', '268,361', '151.27', '3.13', '']\n",
            "['32', 'HD현대일렉트릭', '460,000', '보합0', '0.00%', '5,000', '165,817', '36,047', '35.37', '141,014', '29.52', '39.34', '']\n",
            "['33', '삼성중공업', '18,680', '하락\\n\\t\\t\\t\\t610', '-3.16%', '1,000', '164,384', '880,000', '31.40', '6,691,630', '112.53', '1.77', '']\n",
            "['34', 'KT&G', '133,600', '하락\\n\\t\\t\\t\\t300', '-0.22%', '5,000', '163,075', '122,062', '42.38', '372,358', '15.04', '12.66', '']\n",
            "['35', 'SK이노베이션', '105,900', '상승\\n\\t\\t\\t\\t400', '+0.38%', '5,000', '159,946', '151,035', '13.55', '147,883', '-5.23', '-9.65', '']\n",
            "['36', '고려아연', '786,000', '상승\\n\\t\\t\\t\\t4,000', '+0.51%', '5,000', '157,383', '20,023', '11.97', '7,087', '66.05', '2.28', '']\n",
            "['37', '크래프톤', '328,000', '상승\\n\\t\\t\\t\\t15,000', '+4.79%', '100', '155,450', '47,393', '42.80', '225,509', '11.85', '21.10', '']\n",
            "['38', '기업은행', '19,300', '상승\\n\\t\\t\\t\\t40', '+0.21%', '5,000', '153,903', '797,426', '13.91', '451,394', '5.76', '8.06', '']\n",
            "['39', 'KT', '55,400', '상승\\n\\t\\t\\t\\t100', '+0.18%', '5,000', '139,620', '252,022', '49.00', '241,839', '22.06', '2.85', '']\n",
            "['40', '포스코퓨처엠', '154,200', '하락\\n\\t\\t\\t\\t1,100', '-0.71%', '500', '137,155', '88,946', '9.69', '190,204', '-55.19', '-7.98', '']\n",
            "['41', 'SK', '182,300', '하락\\n\\t\\t\\t\\t1,800', '-0.98%', '200', '132,172', '72,503', '25.33', '145,376', '14.84', '-5.64', '']\n",
            "['42', '현대글로비스', '174,600', '상승\\n\\t\\t\\t\\t3,100', '+1.81%', '500', '130,950', '75,000', '50.13', '175,356', '11.03', '13.24', '']\n",
            "['43', 'LG전자', '76,500', '하락\\n\\t\\t\\t\\t300', '-0.39%', '5,000', '124,608', '162,886', '29.28', '307,306', '20.00', '1.81', '']\n",
            "['44', '카카오뱅크', '25,700', '하락\\n\\t\\t\\t\\t200', '-0.77%', '5,000', '122,587', '476,990', '16.21', '741,959', '26.28', '6.95', '']\n",
            "['45', '하이브', '287,500', '상승\\n\\t\\t\\t\\t7,000', '+2.50%', '500', '119,750', '41,652', '20.69', '281,644', '228.90', '0.31', '']\n",
            "['46', 'SK텔레콤', '55,700', '하락\\n\\t\\t\\t\\t100', '-0.18%', '100', '119,638', '214,790', '38.51', '509,390', '9.48', '10.83', '']\n",
            "['47', '삼성전기', '159,000', '상승\\n\\t\\t\\t\\t800', '+0.51%', '5,000', '118,763', '74,694', '35.32', '209,985', '19.59', '8.16', '']\n",
            "['48', '삼성에스디에스', '149,600', '하락\\n\\t\\t\\t\\t1,200', '-0.80%', '500', '115,757', '77,378', '18.74', '141,464', '15.28', '8.42', '']\n",
            "['49', 'LG', '73,200', '상승\\n\\t\\t\\t\\t200', '+0.27%', '5,000', '115,108', '157,251', '34.73', '197,041', '14.49', '2.16', '']\n",
            "['50', '효성중공업', '1,160,000', '하락\\n\\t\\t\\t\\t17,000', '-1.44%', '5,000', '108,165', '9,325', '24.81', '64,506', '35.68', '14.90', '']\n",
            "['51', 'LIG넥스원', '484,500', '하락\\n\\t\\t\\t\\t24,500', '-4.81%', '5,000', '106,590', '22,000', '32.19', '133,342', '43.44', '19.59', '']\n",
            "['52', '삼양식품', '1,386,000', '상승\\n\\t\\t\\t\\t9,000', '+0.65%', '5,000', '104,408', '7,533', '19.56', '45,152', '34.28', '39.37', '']\n",
            "['53', '미래에셋증권', '18,200', '하락\\n\\t\\t\\t\\t70', '-0.38%', '5,000', '103,798', '570,316', '13.06', '1,265,932', '13.34', '7.94', '']\n",
            "['54', 'HD현대', '128,700', '하락\\n\\t\\t\\t\\t2,400', '-1.83%', '1,000', '101,664', '78,993', '24.26', '159,521', '19.36', '6.36', '']\n",
            "['55', '한화시스템', '50,200', '하락\\n\\t\\t\\t\\t3,100', '-5.82%', '5,000', '94,838', '188,919', '6.98', '1,017,217', '21.54', '19.63', '']\n",
            "['56', '대한항공', '25,150', '상승\\n\\t\\t\\t\\t300', '+1.21%', '5,000', '92,607', '368,221', '16.70', '1,199,608', '7.57', '13.17', '']\n",
            "['57', 'DB손해보험', '129,200', '하락\\n\\t\\t\\t\\t900', '-0.69%', '500', '91,474', '70,800', '44.52', '131,636', '5.37', '18.98', '']\n",
            "['58', '카카오페이', '67,500', '상승\\n\\t\\t\\t\\t2,100', '+3.21%', '500', '91,175', '135,074', '33.91', '1,814,653', '1,928.57', '-0.73', '']\n",
            "['59', '유한양행', '113,800', '상승\\n\\t\\t\\t\\t100', '+0.09%', '1,000', '91,004', '79,968', '16.87', '252,094', '138.61', '3.41', '']\n",
            "['60', 'TIGER 미국S&P500', '22,220', '상승\\n\\t\\t\\t\\t60', '+0.27%', '0', '89,591', '403,200', '0.06', '5,847,027', 'N/A', 'N/A', '']\n",
            "['61', 'KODEX CD금리액티브(합성)', '1,074,870', '상승\\n\\t\\t\\t\\t75', '+0.01%', '0', '89,532', '8,330', '0.00', '177,423', 'N/A', 'N/A', '']\n",
            "['62', '두산', '525,000', '하락\\n\\t\\t\\t\\t43,000', '-7.57%', '5,000', '86,750', '16,524', '16.15', '185,994', '-54.18', '-14.57', '']\n",
            "['63', '한미반도체', '89,900', '상승\\n\\t\\t\\t\\t1,100', '+1.24%', '100', '85,686', '95,312', '6.94', '760,515', '63.22', '27.43', '']\n",
            "['64', '포스코인터내셔널', '48,200', '보합0', '0.00%', '5,000', '84,795', '175,923', '5.71', '237,344', '15.76', '8.14', '']\n",
            "['65', '한국항공우주', '86,600', '하락\\n\\t\\t\\t\\t4,200', '-4.63%', '5,000', '84,413', '97,475', '34.35', '669,796', '51.00', '10.42', '']\n",
            "['66', 'HD현대마린솔루션', '186,900', '하락\\n\\t\\t\\t\\t7,000', '-3.61%', '500', '83,786', '44,829', '29.75', '166,183', '34.30', '44.98', '']\n",
            "['67', 'LS ELECTRIC', '276,000', '하락\\n\\t\\t\\t\\t10,000', '-3.50%', '5,000', '82,800', '30,000', '24.21', '157,159', '35.97', '13.44', '']\n",
            "['68', '에이피알', '217,000', '상승\\n\\t\\t\\t\\t2,500', '+1.17%', '100', '81,225', '37,431', '24.63', '496,649', '61.74', '41.34', '']\n",
            "['69', '한진칼', '115,400', '하락\\n\\t\\t\\t\\t600', '-0.52%', '2,500', '77,044', '66,762', '20.86', '49,814', '16.92', '16.75', '']\n",
            "['70', 'SK바이오팜', '97,700', '하락\\n\\t\\t\\t\\t1,500', '-1.51%', '500', '76,512', '78,313', '10.76', '153,121', '29.89', '58.01', '']\n",
            "['71', '코웨이', '103,900', '하락\\n\\t\\t\\t\\t500', '-0.48%', '500', '74,714', '71,909', '60.28', '91,042', '13.25', '19.38', '']\n",
            "['72', '한국금융지주', '132,100', '하락\\n\\t\\t\\t\\t1,400', '-1.05%', '5,000', '73,614', '55,726', '37.81', '192,877', '7.03', '11.54', '']\n",
            "['73', 'HD현대미포', '182,600', '하락\\n\\t\\t\\t\\t12,600', '-6.45%', '5,000', '72,934', '39,942', '22.10', '344,536', '47.78', '5.25', '']\n",
            "['74', '아모레퍼시픽', '122,100', '상승\\n\\t\\t\\t\\t300', '+0.25%', '500', '71,420', '58,493', '23.04', '121,184', '13.48', '11.69', '']\n",
            "['75', 'S-Oil', '61,400', '상승\\n\\t\\t\\t\\t900', '+1.49%', '2,500', '69,126', '112,583', '74.44', '148,960', '-17.73', '-2.18', '']\n",
            "['76', 'KODEX 머니마켓액티브', '103,575', '상승\\n\\t\\t\\t\\t5', '0.00%', '0', '68,901', '66,523', '0.00', '485,769', 'N/A', 'N/A', '']\n",
            "['77', 'LG씨엔에스', '71,000', '하락\\n\\t\\t\\t\\t1,400', '-1.93%', '500', '68,789', '96,886', '6.86', '483,241', '15.44', '18.32', '']\n",
            "['78', '현대건설', '61,500', '하락\\n\\t\\t\\t\\t2,400', '-3.76%', '5,000', '68,484', '111,356', '25.03', '1,395,721', '-33.94', '-2.09', '']\n",
            "['79', 'KODEX 200', '42,755', '하락\\n\\t\\t\\t\\t305', '-0.71%', '0', '68,066', '159,200', '33.12', '5,673,081', 'N/A', 'N/A', '']\n",
            "['80', 'LG유플러스', '15,400', '상승\\n\\t\\t\\t\\t110', '+0.72%', '5,000', '67,238', '436,611', '38.60', '725,835', '16.44', '4.40', '']\n",
            "['81', 'NH투자증권', '19,100', '하락\\n\\t\\t\\t\\t90', '-0.47%', '5,000', '61,900', '324,086', '15.98', '399,864', '9.89', '8.73', '']\n",
            "['82', '삼성증권', '68,000', '하락\\n\\t\\t\\t\\t300', '-0.44%', '5,000', '60,724', '89,300', '29.18', '178,595', '6.79', '12.89', '']\n",
            "['83', '한화', '79,600', '하락\\n\\t\\t\\t\\t2,500', '-3.05%', '5,000', '59,667', '74,959', '16.57', '265,456', '7.61', '7.19', '']\n",
            "['84', '현대차2우B', '169,500', '상승\\n\\t\\t\\t\\t500', '+0.30%', '5,000', '59,264', '34,964', '59.73', '54,234', '3.69', 'N/A', '']\n",
            "['85', '삼성카드', '50,000', '보합0', '0.00%', '5,000', '57,929', '115,859', '6.05', '23,570', '8.63', '8.00', '']\n",
            "['86', 'LG디스플레이', '11,570', '하락\\n\\t\\t\\t\\t370', '-3.10%', '5,000', '57,850', '500,000', '23.65', '3,443,429', '-2.83', '-37.21', '']\n",
            "['87', '삼성E&A', '28,700', '상승\\n\\t\\t\\t\\t450', '+1.59%', '5,000', '56,252', '196,000', '45.71', '828,854', '7.54', '19.65', '']\n",
            "['88', 'TIGER 미국나스닥100', '146,000', '상승\\n\\t\\t\\t\\t320', '+0.22%', '0', '55,597', '38,080', '0.20', '224,872', 'N/A', 'N/A', '']\n",
            "['89', '맥쿼리인프라', '11,590', '하락\\n\\t\\t\\t\\t50', '-0.43%', '0', '55,507', '478,922', '9.21', '880,730', 'N/A', 'N/A', '']\n",
            "['90', '두산밥캣', '55,300', '하락\\n\\t\\t\\t\\t1,000', '-1.78%', '500', '53,008', '95,856', '33.93', '218,902', '12.01', '8.77', '']\n",
            "['91', '키움증권', '202,000', '하락\\n\\t\\t\\t\\t3,500', '-1.70%', '5,000', '52,875', '26,176', '27.73', '110,728', '6.27', '15.98', '']\n",
            "['92', '한화솔루션', '30,650', '상승\\n\\t\\t\\t\\t250', '+0.82%', '5,000', '52,685', '171,893', '10.93', '2,303,871', '-5.40', '-15.99', '']\n",
            "['93', '넷마블', '60,800', '상승\\n\\t\\t\\t\\t1,900', '+3.23%', '100', '52,260', '85,954', '27.58', '282,394', '51.39', '0.49', '']\n",
            "['94', 'LS', '156,300', '하락\\n\\t\\t\\t\\t400', '-0.26%', '5,000', '50,329', '32,200', '15.37', '122,339', '17.72', '5.09', '']\n",
            "['95', 'KODEX 미국S&P500', '20,405', '상승\\n\\t\\t\\t\\t60', '+0.29%', '0', '49,839', '244,250', '0.22', '3,983,213', 'N/A', 'N/A', '']\n",
            "['96', '한국타이어앤테크놀로지', '38,900', '하락\\n\\t\\t\\t\\t100', '-0.26%', '500', '48,187', '123,875', '34.78', '512,508', '4.47', '10.79', '']\n",
            "['97', 'TIGER CD금리투자KIS(합성)', '56,430', '보합0', '0.00%', '0', '47,522', '84,214', '0.02', '159,298', 'N/A', 'N/A', '']\n",
            "['98', 'LG생활건강', '301,500', '상승\\n\\t\\t\\t\\t5,000', '+1.69%', '5,000', '47,089', '15,618', '26.61', '41,315', '29.55', '3.44', '']\n",
            "['99', 'BNK금융지주', '14,570', '하락\\n\\t\\t\\t\\t40', '-0.27%', '5,000', '46,388', '318,384', '39.80', '668,729', '7.24', '6.96', '']\n",
            "['100', '엔씨소프트', '207,000', '상승\\n\\t\\t\\t\\t1,000', '+0.49%', '500', '44,596', '21,544', '32.75', '60,241', '60.74', '2.99', '']\n",
            "['101', 'CJ', '151,000', '상승\\n\\t\\t\\t\\t1,400', '+0.94%', '5,000', '44,057', '29,177', '11.40', '118,953', '54.22', '1.83', '']\n",
            "['102', '현대제철', '32,500', '상승\\n\\t\\t\\t\\t150', '+0.46%', '5,000', '43,370', '133,446', '20.04', '350,814', '-44.10', '-0.06', '']\n",
            "['103', '이수페타시스', '58,600', '하락\\n\\t\\t\\t\\t1,100', '-1.84%', '1,000', '43,018', '73,409', '24.75', '848,743', '41.01', '24.92', '']\n",
            "['104', 'JB금융지주', '22,500', '상승\\n\\t\\t\\t\\t600', '+2.74%', '5,000', '43,016', '191,183', '34.80', '415,735', '6.58', '12.80', '']\n",
            "['105', '오리온', '108,000', '하락\\n\\t\\t\\t\\t200', '-0.18%', '500', '42,699', '39,536', '31.49', '118,979', '7.98', '16.57', '']\n",
            "['106', '현대오토에버', '152,900', '상승\\n\\t\\t\\t\\t2,400', '+1.59%', '500', '41,931', '27,424', '2.91', '34,249', '25.42', '10.40', '']\n",
            "['107', 'GS', '43,750', '하락\\n\\t\\t\\t\\t200', '-0.46%', '5,000', '40,650', '92,915', '16.05', '215,031', '10.06', '4.12', '']\n",
            "['108', 'KODEX KOFR금리액티브(합성)', '110,795', '상승\\n\\t\\t\\t\\t5', '0.00%', '0', '39,457', '35,613', '0.00', '29,214', 'N/A', 'N/A', '']\n",
            "['109', '두산로보틱스', '60,300', '하락\\n\\t\\t\\t\\t1,500', '-2.43%', '500', '39,086', '64,820', '2.87', '119,246', '-90.68', '-8.69', '']\n",
            "['110', '현대차우', '165,500', '상승\\n\\t\\t\\t\\t600', '+0.36%', '5,000', '38,629', '23,341', '57.89', '55,375', '3.61', 'N/A', '']\n",
            "['111', 'LG이노텍', '162,400', '하락\\n\\t\\t\\t\\t2,000', '-1.22%', '5,000', '38,435', '23,667', '24.13', '92,810', '13.31', '8.92', '']\n",
            "['112', '강원랜드', '17,840', '하락\\n\\t\\t\\t\\t240', '-1.33%', '500', '38,167', '213,940', '14.46', '635,707', '8.70', '12.09', '']\n",
            "['113', 'SK바이오사이언스', '47,950', '하락\\n\\t\\t\\t\\t150', '-0.31%', '500', '37,578', '78,369', '6.31', '199,144', '-70.93', '-3.07', '']\n",
            "['114', '에코프로머티', '53,300', '하락\\n\\t\\t\\t\\t800', '-1.48%', '500', '37,274', '69,932', '21.53', '372,667', '-88.83', '-5.56', '']\n",
            "['115', 'SKC', '98,100', '하락\\n\\t\\t\\t\\t2,400', '-2.39%', '5,000', '37,149', '37,868', '14.82', '153,114', '-7.12', '-34.34', '']\n",
            "['116', '한국가스공사', '39,700', '하락\\n\\t\\t\\t\\t900', '-2.22%', '5,000', '36,648', '92,313', '10.03', '351,600', '3.31', '11.21', '']\n",
            "['117', '포스코DX', '24,000', '하락\\n\\t\\t\\t\\t350', '-1.44%', '500', '36,488', '152,035', '3.31', '187,111', '46.78', '17.92', '']\n",
            "['118', 'KODEX 종합채권(AA-이상)액티브', '118,795', '하락\\n\\t\\t\\t\\t60', '-0.05%', '0', '36,424', '30,661', '0.00', '36,488', 'N/A', 'N/A', '']\n",
            "['119', '한미약품', '284,000', '상승\\n\\t\\t\\t\\t2,500', '+0.89%', '2,500', '36,383', '12,811', '13.11', '44,196', '33.40', '11.89', '']\n",
            "['120', 'CJ제일제당', '230,500', '하락\\n\\t\\t\\t\\t1,000', '-0.43%', '5,000', '34,700', '15,054', '20.06', '57,113', '51.10', '1.97', '']\n",
            "['121', '한전기술', '90,300', '하락\\n\\t\\t\\t\\t7,900', '-8.04%', '200', '34,513', '38,220', '10.87', '689,670', '29.81', '10.40', '']\n",
            "['122', '산일전기', '112,900', '하락\\n\\t\\t\\t\\t2,300', '-2.00%', '500', '34,373', '30,445', '10.88', '375,772', '35.13', '29.88', '']\n",
            "['123', 'TIGER 미국테크TOP10 INDXX', '27,045', '상승\\n\\t\\t\\t\\t10', '+0.04%', '0', '33,806', '125,000', '0.14', '2,594,739', 'N/A', 'N/A', '']\n",
            "['124', 'KCC', '372,000', '하락\\n\\t\\t\\t\\t1,500', '-0.40%', '5,000', '33,058', '8,886', '9.98', '14,079', '-28.12', '6.08', '']\n",
            "['125', '한화엔진', '39,200', '하락\\n\\t\\t\\t\\t1,150', '-2.85%', '1,000', '32,711', '83,447', '17.64', '945,063', '35.96', '25.64', '']\n",
            "['126', '대한조선', '84,800', '상승\\n\\t\\t\\t\\t1,100', '+1.31%', '5,000', '32,670', '38,526', '0.37', '1,199,580', '6.81', '55.26', '']\n",
            "['127', '풍산', '114,800', '하락\\n\\t\\t\\t\\t6,500', '-5.36%', '5,000', '32,172', '28,024', '24.57', '272,494', '13.37', '11.33', '']\n",
            "['128', '현대엘리베이터', '81,100', '하락\\n\\t\\t\\t\\t900', '-1.10%', '5,000', '31,704', '39,092', '25.57', '159,537', '15.17', '14.42', '']\n",
            "['129', '엘앤에프', '87,000', '상승\\n\\t\\t\\t\\t2,700', '+3.20%', '500', '31,595', '36,316', '13.93', '448,941', '-8.37', '-41.74', '']\n",
            "['130', 'KODEX 미국나스닥100', '21,920', '상승\\n\\t\\t\\t\\t40', '+0.18%', '0', '30,195', '137,750', '0.07', '1,815,884', 'N/A', 'N/A', '']\n",
            "['131', '대한전선', '16,020', '하락\\n\\t\\t\\t\\t320', '-1.96%', '1,000', '29,869', '186,447', '7.06', '902,235', '38.23', '5.85', '']\n",
            "['132', '서울보증보험', '42,500', '상승\\n\\t\\t\\t\\t50', '+0.12%', '2,500', '29,674', '69,822', '0.94', '56,234', '13.93', '4.12', '']\n",
            "['133', '에스원', '77,000', '상승\\n\\t\\t\\t\\t900', '+1.18%', '500', '29,259', '37,999', '56.02', '36,041', '16.43', '10.85', '']\n",
            "['134', '한미사이언스', '42,700', '하락\\n\\t\\t\\t\\t150', '-0.35%', '500', '29,203', '68,392', '2.03', '121,527', '55.38', '7.30', '']\n",
            "['135', 'TIGER KOFR금리액티브(합성)', '109,500', '보합0', '0.00%', '0', '28,580', '26,100', '0.00', '60,806', 'N/A', 'N/A', '']\n",
            "['136', '금호석유화학', '107,800', '하락\\n\\t\\t\\t\\t1,300', '-1.19%', '5,000', '28,523', '26,460', '18.16', '53,259', '8.86', '5.88', '']\n",
            "['137', 'TIGER 200', '42,770', '하락\\n\\t\\t\\t\\t320', '-0.74%', '0', '28,228', '66,000', '10.84', '1,405,719', 'N/A', 'N/A', '']\n",
            "['138', '한화비전', '55,300', '하락\\n\\t\\t\\t\\t700', '-1.25%', '500', '27,920', '50,488', '22.81', '224,713', '-1,536.11', 'N/A', '']\n",
            "['139', '롯데지주', '26,550', '하락\\n\\t\\t\\t\\t150', '-0.56%', '200', '27,853', '104,909', '8.43', '87,188', '-2.59', '-15.56', '']\n",
            "['140', 'KODEX 200TR', '15,305', '하락\\n\\t\\t\\t\\t115', '-0.75%', '0', '27,847', '181,950', '0.01', '401,187', 'N/A', 'N/A', '']\n",
            "['141', 'HD현대인프라코어', '14,610', '상승\\n\\t\\t\\t\\t160', '+1.11%', '1,000', '27,591', '188,851', '15.86', '3,511,734', '35.38', '5.92', '']\n",
            "['142', '한화생명', '3,120', '상승\\n\\t\\t\\t\\t20', '+0.65%', '5,000', '27,098', '868,530', '10.32', '2,326,105', '4.01', '6.98', '']\n",
            "['143', 'HD현대마린엔진', '79,800', '하락\\n\\t\\t\\t\\t3,200', '-3.86%', '2,500', '27,069', '33,921', '12.85', '357,187', '30.94', '28.34', '']\n",
            "['144', '동서', '26,700', '하락\\n\\t\\t\\t\\t450', '-1.66%', '500', '26,620', '99,700', '4.21', '79,174', '18.68', '9.52', '']\n",
            "['145', '롯데케미칼', '61,800', '상승\\n\\t\\t\\t\\t800', '+1.31%', '5,000', '26,435', '42,775', '20.73', '151,914', '-1.46', '-11.44', '']\n",
            "['146', '현대해상', '28,450', '상승\\n\\t\\t\\t\\t300', '+1.07%', '500', '25,434', '89,400', '35.33', '319,041', '3.73', '15.75', '']\n",
            "['147', '영원무역', '57,100', '하락\\n\\t\\t\\t\\t200', '-0.35%', '500', '25,302', '44,311', '29.83', '45,136', '5.87', '12.32', '']\n",
            "['148', 'TIGER 미국필라델피아반도체나스닥', '21,050', '상승\\n\\t\\t\\t\\t100', '+0.48%', '0', '25,155', '119,500', '0.38', '935,405', 'N/A', 'N/A', '']\n",
            "['149', 'RISE 머니마켓액티브', '54,570', '상승\\n\\t\\t\\t\\t5', '+0.01%', '0', '24,298', '44,526', '0.90', '398,162', 'N/A', 'N/A', '']\n",
            "['150', '미스토홀딩스', '40,100', '상승\\n\\t\\t\\t\\t1,500', '+3.89%', '1,000', '24,098', '60,096', '38.16', '284,639', '25.66', '4.30', '']\n",
            "['151', '시프트업', '40,600', '상승\\n\\t\\t\\t\\t450', '+1.12%', '200', '23,865', '58,782', '36.92', '127,219', '14.94', '31.30', '']\n",
            "['152', 'F&F', '61,800', '보합0', '0.00%', '100', '23,674', '38,307', '11.06', '30,684', '6.81', '25.27', '']\n",
            "['153', '한온시스템', '3,410', '상승\\n\\t\\t\\t\\t175', '+5.41%', '100', '23,146', '678,763', '4.58', '3,044,353', '-4.94', '-13.90', '']\n",
            "['154', 'KODEX CD1년금리플러스액티브(합성)', '1,023,250', '상승\\n\\t\\t\\t\\t50', '0.00%', '0', '22,942', '2,242', '0.00', '5,950', 'N/A', 'N/A', '']\n",
            "['155', 'iM금융지주', '14,040', '하락\\n\\t\\t\\t\\t190', '-1.34%', '5,000', '22,752', '162,055', '44.97', '357,223', '9.21', '3.60', '']\n",
            "['156', '제일기획', '19,660', '보합0', '0.00%', '200', '22,617', '115,041', '23.12', '171,106', '11.71', '15.12', '']\n",
            "['157', 'ACE 미국30년국채액티브(H)', '7,600', '하락\\n\\t\\t\\t\\t45', '-0.59%', '0', '22,557', '296,800', '0.01', '2,984,105', 'N/A', 'N/A', '']\n",
            "['158', 'ACE 미국S&P500', '22,455', '상승\\n\\t\\t\\t\\t55', '+0.25%', '0', '22,545', '100,400', '0.09', '330,859', 'N/A', 'N/A', '']\n",
            "['159', '한전KPS', '49,850', '하락\\n\\t\\t\\t\\t4,750', '-8.70%', '200', '22,432', '45,000', '12.24', '572,298', '16.01', '13.26', '']\n",
            "['160', '코스맥스', '195,100', '상승\\n\\t\\t\\t\\t700', '+0.36%', '500', '22,143', '11,350', '32.53', '132,428', '35.73', '20.53', '']\n",
            "['161', 'SK가스', '239,500', '하락\\n\\t\\t\\t\\t4,000', '-1.64%', '5,000', '22,142', '9,245', '7.29', '5,236', '8.55', '6.74', '']\n",
            "['162', '농심', '363,500', '하락\\n\\t\\t\\t\\t3,000', '-0.82%', '5,000', '22,110', '6,083', '18.42', '11,553', '14.16', '6.17', '']\n",
            "['163', '팬오션', '4,085', '상승\\n\\t\\t\\t\\t65', '+1.62%', '1,000', '21,837', '534,570', '16.13', '1,062,411', '7.45', '5.17', '']\n",
            "['164', 'TIGER 미국배당다우존스', '12,020', '하락\\n\\t\\t\\t\\t5', '-0.04%', '0', '21,810', '181,450', '0.11', '674,802', 'N/A', 'N/A', '']\n",
            "['165', '아모레퍼시픽홀딩스', '26,950', '하락\\n\\t\\t\\t\\t250', '-0.92%', '500', '21,414', '79,458', '11.36', '107,550', '9.58', '7.57', '']\n",
            "['166', 'KODEX 레버리지', '24,285', '하락\\n\\t\\t\\t\\t375', '-1.52%', '0', '21,395', '88,100', '0.18', '17,926,623', 'N/A', 'N/A', '']\n",
            "['167', '달바글로벌', '173,200', '상승\\n\\t\\t\\t\\t400', '+0.23%', '100', '21,280', '12,286', '9.23', '176,746', '121.37', '26.21', '']\n",
            "['168', '신영증권', '129,300', '하락\\n\\t\\t\\t\\t300', '-0.23%', '5,000', '21,257', '16,440', '6.85', '18,394', '16.76', '6.45', '']\n",
            "['169', 'SK아이이테크놀로지', '29,600', '하락\\n\\t\\t\\t\\t800', '-2.63%', '1,000', '21,104', '71,298', '7.09', '169,533', '-10.26', '-10.41', '']\n",
            "['170', '이마트', '76,400', '하락\\n\\t\\t\\t\\t1,300', '-1.67%', '5,000', '21,083', '27,596', '24.13', '186,916', '-3.90', '-5.40', '']\n",
            "['171', '코리안리', '10,720', '보합0', '0.00%', '500', '20,885', '194,821', '26.66', '259,463', '5.90', '9.45', '']\n",
            "['172', 'TIGER 머니마켓액티브', '100,995', '상승\\n\\t\\t\\t\\t5', '0.00%', '0', '20,695', '20,491', '0.00', '121,612', 'N/A', 'N/A', '']\n",
            "['173', 'BGF리테일', '119,400', '상승\\n\\t\\t\\t\\t400', '+0.34%', '1,000', '20,637', '17,284', '28.52', '16,969', '11.14', '17.29', '']\n",
            "['174', '한국앤컴퍼니', '21,500', '하락\\n\\t\\t\\t\\t250', '-1.15%', '500', '20,411', '94,935', '10.03', '87,541', '5.80', '8.28', '']\n",
            "['175', '더존비즈온', '66,500', '하락\\n\\t\\t\\t\\t1,300', '-1.92%', '500', '20,205', '30,383', '10.78', '81,111', '37.61', '12.17', '']\n",
            "['176', '씨에스윈드', '47,100', '상승\\n\\t\\t\\t\\t1,700', '+3.74%', '500', '19,863', '42,171', '12.74', '602,852', '7.20', '13.92', '']\n",
            "['177', 'DB하이텍', '44,450', '하락\\n\\t\\t\\t\\t1,450', '-3.16%', '5,000', '19,735', '44,399', '28.64', '150,091', '8.54', '12.44', '']\n",
            "['178', '한솔케미칼', '173,600', '상승\\n\\t\\t\\t\\t4,400', '+2.60%', '5,000', '19,678', '11,335', '35.26', '51,383', '15.46', '13.48', '']\n",
            "['179', '아시아나항공', '9,550', '상승\\n\\t\\t\\t\\t20', '+0.21%', '5,000', '19,672', '205,991', '2.84', '85,075', '-8.68', '-53.21', '']\n",
            "['180', 'OCI홀딩스', '102,500', '하락\\n\\t\\t\\t\\t3,200', '-3.03%', '5,000', '19,285', '18,815', '17.40', '191,381', '-24.90', '2.54', '']\n",
            "['181', '호텔신라', '49,100', '하락\\n\\t\\t\\t\\t100', '-0.20%', '5,000', '19,271', '39,248', '12.43', '88,271', '-29.72', '-6.50', '']\n",
            "['182', '동원산업', '43,550', '하락\\n\\t\\t\\t\\t1,800', '-3.97%', '1,000', '19,226', '44,148', '5.06', '55,605', '24.33', '2.74', '']\n",
            "['183', 'SNT다이내믹스', '57,200', '하락\\n\\t\\t\\t\\t1,700', '-2.89%', '2,500', '19,021', '33,253', '7.80', '97,489', '23.20', '12.90', '']\n",
            "['184', 'CJ대한통운', '82,200', '하락\\n\\t\\t\\t\\t700', '-0.84%', '5,000', '18,752', '22,812', '14.21', '58,079', '7.98', '6.58', '']\n",
            "['185', '한국콜마', '79,000', '하락\\n\\t\\t\\t\\t500', '-0.63%', '500', '18,648', '23,605', '38.67', '178,344', '19.23', '12.50', '']\n",
            "['186', '롯데쇼핑', '65,900', '하락\\n\\t\\t\\t\\t400', '-0.60%', '5,000', '18,642', '28,289', '9.08', '34,681', '-1.81', '-7.75', '']\n",
            "['187', '파라다이스', '20,300', '하락\\n\\t\\t\\t\\t350', '-1.69%', '500', '18,567', '91,461', '12.53', '1,304,056', '23.07', '4.97', '']\n",
            "['188', '일진전기', '37,750', '하락\\n\\t\\t\\t\\t1,050', '-2.71%', '1,000', '18,001', '47,685', '11.13', '521,853', '27.26', '10.60', '']\n",
            "['189', 'KODEX 200선물인버스2X', '1,335', '상승\\n\\t\\t\\t\\t21', '+1.60%', '0', '17,244', '1,291,700', '2.10', '312,929,884', 'N/A', 'N/A', '']\n",
            "['190', '두산퓨얼셀', '26,250', '하락\\n\\t\\t\\t\\t100', '-0.38%', '100', '17,192', '65,494', '11.87', '552,042', '-95.11', 'N/A', '']\n",
            "['191', 'ACE 미국나스닥100', '25,095', '상승\\n\\t\\t\\t\\t50', '+0.20%', '0', '17,115', '68,200', '0.22', '221,258', 'N/A', 'N/A', '']\n",
            "['192', 'TIGER 25-10 회사채(A+이상)액티브', '55,285', '상승\\n\\t\\t\\t\\t5', '+0.01%', '0', '17,093', '30,918', '0.18', '81,899', 'N/A', 'N/A', '']\n",
            "['193', 'KODEX 코스닥150레버리지', '8,660', '하락\\n\\t\\t\\t\\t205', '-2.31%', '0', '16,567', '191,300', '0.06', '22,925,632', 'N/A', 'N/A', '']\n",
            "['194', 'HL만도', '35,000', '상승\\n\\t\\t\\t\\t550', '+1.60%', '1,000', '16,435', '46,957', '24.50', '153,624', '90.21', '5.47', '']\n",
            "['195', 'RISE 종합채권(A-이상)액티브', '110,365', '하락\\n\\t\\t\\t\\t115', '-0.10%', '0', '16,405', '14,864', '0.00', '1,334', 'N/A', 'N/A', '']\n",
            "['196', 'DL이앤씨', '42,350', '상승\\n\\t\\t\\t\\t250', '+0.59%', '5,000', '16,387', '38,694', '29.21', '307,381', '7.78', '4.77', '']\n",
            "['197', 'HD현대건설기계', '92,300', '상승\\n\\t\\t\\t\\t1,100', '+1.21%', '5,000', '16,302', '17,662', '17.99', '178,695', '20.77', '6.18', '']\n",
            "['198', '영원무역홀딩스', '120,700', '하락\\n\\t\\t\\t\\t100', '-0.08%', '500', '16,294', '13,499', '21.20', '12,493', '4.97', '13.17', '']\n",
            "['199', '현대백화점', '71,700', '보합0', '0.00%', '5,000', '16,225', '22,629', '23.70', '26,681', '-45.58', '-0.81', '']\n",
            "['200', 'TIGER 차이나전기차SOLACTIVE', '9,910', '상승\\n\\t\\t\\t\\t70', '+0.71%', '0', '16,015', '161,600', '0.35', '1,485,497', 'N/A', 'N/A', '']\n"
          ]
        }
      ]
    },
    {
      "cell_type": "markdown",
      "source": [
        "- api 활용 수집\n"
      ],
      "metadata": {
        "id": "ilavI8gvEcfR"
      }
    },
    {
      "cell_type": "code",
      "source": [
        "!pip install -U pykrx"
      ],
      "metadata": {
        "colab": {
          "base_uri": "https://localhost:8080/"
        },
        "id": "GfQQcnW1ETtz",
        "outputId": "d8c843ef-ce4d-4b8e-ede0-6a99346e0916"
      },
      "execution_count": null,
      "outputs": [
        {
          "output_type": "stream",
          "name": "stdout",
          "text": [
            "Collecting pykrx\n",
            "  Downloading pykrx-1.0.51-py3-none-any.whl.metadata (61 kB)\n",
            "\u001b[?25l     \u001b[90m━━━━━━━━━━━━━━━━━━━━━━━━━━━━━━━━━━━━━━━━\u001b[0m \u001b[32m0.0/61.1 kB\u001b[0m \u001b[31m?\u001b[0m eta \u001b[36m-:--:--\u001b[0m\r\u001b[2K     \u001b[90m━━━━━━━━━━━━━━━━━━━━━━━━━━━━━━━━━━━━━━━━\u001b[0m \u001b[32m61.1/61.1 kB\u001b[0m \u001b[31m2.2 MB/s\u001b[0m eta \u001b[36m0:00:00\u001b[0m\n",
            "\u001b[?25hRequirement already satisfied: requests in /usr/local/lib/python3.11/dist-packages (from pykrx) (2.32.3)\n",
            "Requirement already satisfied: pandas in /usr/local/lib/python3.11/dist-packages (from pykrx) (2.2.2)\n",
            "Collecting datetime (from pykrx)\n",
            "  Downloading DateTime-5.5-py3-none-any.whl.metadata (33 kB)\n",
            "Requirement already satisfied: numpy in /usr/local/lib/python3.11/dist-packages (from pykrx) (2.0.2)\n",
            "Requirement already satisfied: xlrd in /usr/local/lib/python3.11/dist-packages (from pykrx) (2.0.2)\n",
            "Collecting deprecated (from pykrx)\n",
            "  Downloading Deprecated-1.2.18-py2.py3-none-any.whl.metadata (5.7 kB)\n",
            "Requirement already satisfied: multipledispatch in /usr/local/lib/python3.11/dist-packages (from pykrx) (1.0.0)\n",
            "Requirement already satisfied: matplotlib in /usr/local/lib/python3.11/dist-packages (from pykrx) (3.10.0)\n",
            "Collecting zope.interface (from datetime->pykrx)\n",
            "  Downloading zope.interface-7.2-cp311-cp311-manylinux_2_5_x86_64.manylinux1_x86_64.manylinux_2_17_x86_64.manylinux2014_x86_64.whl.metadata (44 kB)\n",
            "\u001b[2K     \u001b[90m━━━━━━━━━━━━━━━━━━━━━━━━━━━━━━━━━━━━━━━━\u001b[0m \u001b[32m44.4/44.4 kB\u001b[0m \u001b[31m3.9 MB/s\u001b[0m eta \u001b[36m0:00:00\u001b[0m\n",
            "\u001b[?25hRequirement already satisfied: pytz in /usr/local/lib/python3.11/dist-packages (from datetime->pykrx) (2025.2)\n",
            "Requirement already satisfied: wrapt<2,>=1.10 in /usr/local/lib/python3.11/dist-packages (from deprecated->pykrx) (1.17.3)\n",
            "Requirement already satisfied: contourpy>=1.0.1 in /usr/local/lib/python3.11/dist-packages (from matplotlib->pykrx) (1.3.3)\n",
            "Requirement already satisfied: cycler>=0.10 in /usr/local/lib/python3.11/dist-packages (from matplotlib->pykrx) (0.12.1)\n",
            "Requirement already satisfied: fonttools>=4.22.0 in /usr/local/lib/python3.11/dist-packages (from matplotlib->pykrx) (4.59.0)\n",
            "Requirement already satisfied: kiwisolver>=1.3.1 in /usr/local/lib/python3.11/dist-packages (from matplotlib->pykrx) (1.4.9)\n",
            "Requirement already satisfied: packaging>=20.0 in /usr/local/lib/python3.11/dist-packages (from matplotlib->pykrx) (25.0)\n",
            "Requirement already satisfied: pillow>=8 in /usr/local/lib/python3.11/dist-packages (from matplotlib->pykrx) (11.3.0)\n",
            "Requirement already satisfied: pyparsing>=2.3.1 in /usr/local/lib/python3.11/dist-packages (from matplotlib->pykrx) (3.2.3)\n",
            "Requirement already satisfied: python-dateutil>=2.7 in /usr/local/lib/python3.11/dist-packages (from matplotlib->pykrx) (2.9.0.post0)\n",
            "Requirement already satisfied: tzdata>=2022.7 in /usr/local/lib/python3.11/dist-packages (from pandas->pykrx) (2025.2)\n",
            "Requirement already satisfied: charset-normalizer<4,>=2 in /usr/local/lib/python3.11/dist-packages (from requests->pykrx) (3.4.3)\n",
            "Requirement already satisfied: idna<4,>=2.5 in /usr/local/lib/python3.11/dist-packages (from requests->pykrx) (3.10)\n",
            "Requirement already satisfied: urllib3<3,>=1.21.1 in /usr/local/lib/python3.11/dist-packages (from requests->pykrx) (2.5.0)\n",
            "Requirement already satisfied: certifi>=2017.4.17 in /usr/local/lib/python3.11/dist-packages (from requests->pykrx) (2025.8.3)\n",
            "Requirement already satisfied: six>=1.5 in /usr/local/lib/python3.11/dist-packages (from python-dateutil>=2.7->matplotlib->pykrx) (1.17.0)\n",
            "Requirement already satisfied: setuptools in /usr/local/lib/python3.11/dist-packages (from zope.interface->datetime->pykrx) (75.2.0)\n",
            "Downloading pykrx-1.0.51-py3-none-any.whl (2.2 MB)\n",
            "\u001b[2K   \u001b[90m━━━━━━━━━━━━━━━━━━━━━━━━━━━━━━━━━━━━━━━━\u001b[0m \u001b[32m2.2/2.2 MB\u001b[0m \u001b[31m25.9 MB/s\u001b[0m eta \u001b[36m0:00:00\u001b[0m\n",
            "\u001b[?25hDownloading DateTime-5.5-py3-none-any.whl (52 kB)\n",
            "\u001b[2K   \u001b[90m━━━━━━━━━━━━━━━━━━━━━━━━━━━━━━━━━━━━━━━━\u001b[0m \u001b[32m52.6/52.6 kB\u001b[0m \u001b[31m6.8 MB/s\u001b[0m eta \u001b[36m0:00:00\u001b[0m\n",
            "\u001b[?25hDownloading Deprecated-1.2.18-py2.py3-none-any.whl (10.0 kB)\n",
            "Downloading zope.interface-7.2-cp311-cp311-manylinux_2_5_x86_64.manylinux1_x86_64.manylinux_2_17_x86_64.manylinux2014_x86_64.whl (259 kB)\n",
            "\u001b[2K   \u001b[90m━━━━━━━━━━━━━━━━━━━━━━━━━━━━━━━━━━━━━━━━\u001b[0m \u001b[32m259.8/259.8 kB\u001b[0m \u001b[31m34.6 MB/s\u001b[0m eta \u001b[36m0:00:00\u001b[0m\n",
            "\u001b[?25hInstalling collected packages: zope.interface, deprecated, datetime, pykrx\n",
            "Successfully installed datetime-5.5 deprecated-1.2.18 pykrx-1.0.51 zope.interface-7.2\n"
          ]
        }
      ]
    },
    {
      "cell_type": "code",
      "source": [
        "from pykrx import stock\n",
        "\n",
        "tickers = stock.get_market_ticker_list(\"20210115\")\n",
        "tickers\n",
        "\n",
        "stock1 = stock.get_market_ticker_name(\"000660\")\n",
        "stock1\n",
        "\n",
        "df = stock.get_market_ohlcv_by_date(\"20210104\", \"20210108\", \"005930\")\n",
        "df.head(5)\n",
        "\n",
        "df = stock.get_market_ohlcv_by_date(\"20210104\", \"20210108\", \"005930\", \"m\")\n",
        "df.head(5)\n",
        "\n"
      ],
      "metadata": {
        "colab": {
          "base_uri": "https://localhost:8080/",
          "height": 169
        },
        "id": "j4UTjrbkE7g1",
        "outputId": "df0c4161-8627-4309-d740-67bf5923a4a7"
      },
      "execution_count": null,
      "outputs": [
        {
          "output_type": "stream",
          "name": "stderr",
          "text": [
            "/usr/local/lib/python3.11/dist-packages/pykrx/stock/stock_api.py:46: FutureWarning: 'M' is deprecated and will be removed in a future version, please use 'ME' instead.\n",
            "  df = df.resample('M').apply(how)\n"
          ]
        },
        {
          "output_type": "execute_result",
          "data": {
            "text/plain": [
              "               시가     고가     저가     종가        거래량\n",
              "날짜                                               \n",
              "2021-01-31  81000  90000  80200  88800  207737907"
            ],
            "text/html": [
              "\n",
              "  <div id=\"df-1d1db866-9a75-46ef-a6fe-1d00ce340bf7\" class=\"colab-df-container\">\n",
              "    <div>\n",
              "<style scoped>\n",
              "    .dataframe tbody tr th:only-of-type {\n",
              "        vertical-align: middle;\n",
              "    }\n",
              "\n",
              "    .dataframe tbody tr th {\n",
              "        vertical-align: top;\n",
              "    }\n",
              "\n",
              "    .dataframe thead th {\n",
              "        text-align: right;\n",
              "    }\n",
              "</style>\n",
              "<table border=\"1\" class=\"dataframe\">\n",
              "  <thead>\n",
              "    <tr style=\"text-align: right;\">\n",
              "      <th></th>\n",
              "      <th>시가</th>\n",
              "      <th>고가</th>\n",
              "      <th>저가</th>\n",
              "      <th>종가</th>\n",
              "      <th>거래량</th>\n",
              "    </tr>\n",
              "    <tr>\n",
              "      <th>날짜</th>\n",
              "      <th></th>\n",
              "      <th></th>\n",
              "      <th></th>\n",
              "      <th></th>\n",
              "      <th></th>\n",
              "    </tr>\n",
              "  </thead>\n",
              "  <tbody>\n",
              "    <tr>\n",
              "      <th>2021-01-31</th>\n",
              "      <td>81000</td>\n",
              "      <td>90000</td>\n",
              "      <td>80200</td>\n",
              "      <td>88800</td>\n",
              "      <td>207737907</td>\n",
              "    </tr>\n",
              "  </tbody>\n",
              "</table>\n",
              "</div>\n",
              "    <div class=\"colab-df-buttons\">\n",
              "\n",
              "  <div class=\"colab-df-container\">\n",
              "    <button class=\"colab-df-convert\" onclick=\"convertToInteractive('df-1d1db866-9a75-46ef-a6fe-1d00ce340bf7')\"\n",
              "            title=\"Convert this dataframe to an interactive table.\"\n",
              "            style=\"display:none;\">\n",
              "\n",
              "  <svg xmlns=\"http://www.w3.org/2000/svg\" height=\"24px\" viewBox=\"0 -960 960 960\">\n",
              "    <path d=\"M120-120v-720h720v720H120Zm60-500h600v-160H180v160Zm220 220h160v-160H400v160Zm0 220h160v-160H400v160ZM180-400h160v-160H180v160Zm440 0h160v-160H620v160ZM180-180h160v-160H180v160Zm440 0h160v-160H620v160Z\"/>\n",
              "  </svg>\n",
              "    </button>\n",
              "\n",
              "  <style>\n",
              "    .colab-df-container {\n",
              "      display:flex;\n",
              "      gap: 12px;\n",
              "    }\n",
              "\n",
              "    .colab-df-convert {\n",
              "      background-color: #E8F0FE;\n",
              "      border: none;\n",
              "      border-radius: 50%;\n",
              "      cursor: pointer;\n",
              "      display: none;\n",
              "      fill: #1967D2;\n",
              "      height: 32px;\n",
              "      padding: 0 0 0 0;\n",
              "      width: 32px;\n",
              "    }\n",
              "\n",
              "    .colab-df-convert:hover {\n",
              "      background-color: #E2EBFA;\n",
              "      box-shadow: 0px 1px 2px rgba(60, 64, 67, 0.3), 0px 1px 3px 1px rgba(60, 64, 67, 0.15);\n",
              "      fill: #174EA6;\n",
              "    }\n",
              "\n",
              "    .colab-df-buttons div {\n",
              "      margin-bottom: 4px;\n",
              "    }\n",
              "\n",
              "    [theme=dark] .colab-df-convert {\n",
              "      background-color: #3B4455;\n",
              "      fill: #D2E3FC;\n",
              "    }\n",
              "\n",
              "    [theme=dark] .colab-df-convert:hover {\n",
              "      background-color: #434B5C;\n",
              "      box-shadow: 0px 1px 3px 1px rgba(0, 0, 0, 0.15);\n",
              "      filter: drop-shadow(0px 1px 2px rgba(0, 0, 0, 0.3));\n",
              "      fill: #FFFFFF;\n",
              "    }\n",
              "  </style>\n",
              "\n",
              "    <script>\n",
              "      const buttonEl =\n",
              "        document.querySelector('#df-1d1db866-9a75-46ef-a6fe-1d00ce340bf7 button.colab-df-convert');\n",
              "      buttonEl.style.display =\n",
              "        google.colab.kernel.accessAllowed ? 'block' : 'none';\n",
              "\n",
              "      async function convertToInteractive(key) {\n",
              "        const element = document.querySelector('#df-1d1db866-9a75-46ef-a6fe-1d00ce340bf7');\n",
              "        const dataTable =\n",
              "          await google.colab.kernel.invokeFunction('convertToInteractive',\n",
              "                                                    [key], {});\n",
              "        if (!dataTable) return;\n",
              "\n",
              "        const docLinkHtml = 'Like what you see? Visit the ' +\n",
              "          '<a target=\"_blank\" href=https://colab.research.google.com/notebooks/data_table.ipynb>data table notebook</a>'\n",
              "          + ' to learn more about interactive tables.';\n",
              "        element.innerHTML = '';\n",
              "        dataTable['output_type'] = 'display_data';\n",
              "        await google.colab.output.renderOutput(dataTable, element);\n",
              "        const docLink = document.createElement('div');\n",
              "        docLink.innerHTML = docLinkHtml;\n",
              "        element.appendChild(docLink);\n",
              "      }\n",
              "    </script>\n",
              "  </div>\n",
              "\n",
              "\n",
              "    </div>\n",
              "  </div>\n"
            ],
            "application/vnd.google.colaboratory.intrinsic+json": {
              "type": "dataframe",
              "variable_name": "df",
              "summary": "{\n  \"name\": \"df\",\n  \"rows\": 1,\n  \"fields\": [\n    {\n      \"column\": \"\\ub0a0\\uc9dc\",\n      \"properties\": {\n        \"dtype\": \"date\",\n        \"min\": \"2021-01-31 00:00:00\",\n        \"max\": \"2021-01-31 00:00:00\",\n        \"num_unique_values\": 1,\n        \"samples\": [\n          \"2021-01-31 00:00:00\"\n        ],\n        \"semantic_type\": \"\",\n        \"description\": \"\"\n      }\n    },\n    {\n      \"column\": \"\\uc2dc\\uac00\",\n      \"properties\": {\n        \"dtype\": \"number\",\n        \"std\": null,\n        \"min\": 81000,\n        \"max\": 81000,\n        \"num_unique_values\": 1,\n        \"samples\": [\n          81000\n        ],\n        \"semantic_type\": \"\",\n        \"description\": \"\"\n      }\n    },\n    {\n      \"column\": \"\\uace0\\uac00\",\n      \"properties\": {\n        \"dtype\": \"number\",\n        \"std\": null,\n        \"min\": 90000,\n        \"max\": 90000,\n        \"num_unique_values\": 1,\n        \"samples\": [\n          90000\n        ],\n        \"semantic_type\": \"\",\n        \"description\": \"\"\n      }\n    },\n    {\n      \"column\": \"\\uc800\\uac00\",\n      \"properties\": {\n        \"dtype\": \"number\",\n        \"std\": null,\n        \"min\": 80200,\n        \"max\": 80200,\n        \"num_unique_values\": 1,\n        \"samples\": [\n          80200\n        ],\n        \"semantic_type\": \"\",\n        \"description\": \"\"\n      }\n    },\n    {\n      \"column\": \"\\uc885\\uac00\",\n      \"properties\": {\n        \"dtype\": \"number\",\n        \"std\": null,\n        \"min\": 88800,\n        \"max\": 88800,\n        \"num_unique_values\": 1,\n        \"samples\": [\n          88800\n        ],\n        \"semantic_type\": \"\",\n        \"description\": \"\"\n      }\n    },\n    {\n      \"column\": \"\\uac70\\ub798\\ub7c9\",\n      \"properties\": {\n        \"dtype\": \"number\",\n        \"std\": null,\n        \"min\": 207737907,\n        \"max\": 207737907,\n        \"num_unique_values\": 1,\n        \"samples\": [\n          207737907\n        ],\n        \"semantic_type\": \"\",\n        \"description\": \"\"\n      }\n    }\n  ]\n}"
            }
          },
          "metadata": {},
          "execution_count": 34
        }
      ]
    },
    {
      "cell_type": "markdown",
      "source": [
        "![image.png](data:image/png;base64,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)"
      ],
      "metadata": {
        "id": "PKodG7oJFl_u"
      }
    },
    {
      "cell_type": "code",
      "source": [
        "from pykrx import stock\n",
        "\n",
        "tickers = stock.get_market_ticker_list(\"20210115\")\n",
        "len(tickers)\n",
        "tickers\n",
        "\n",
        "stock1 = stock.get_market_ticker_name(\"060310\")\n",
        "stock1\n"
      ],
      "metadata": {
        "colab": {
          "base_uri": "https://localhost:8080/",
          "height": 35
        },
        "id": "p5WDsldxFe1K",
        "outputId": "1e6974f5-9b01-4777-f138-616b111d9a3f"
      },
      "execution_count": null,
      "outputs": [
        {
          "output_type": "execute_result",
          "data": {
            "text/plain": [
              "'3S'"
            ],
            "application/vnd.google.colaboratory.intrinsic+json": {
              "type": "string"
            }
          },
          "metadata": {},
          "execution_count": 35
        }
      ]
    },
    {
      "cell_type": "code",
      "source": [
        "df = stock.get_market_ohlcv_by_date(\"20210104\", \"20210108\", \"005930\")\n",
        "df.head(5)\n",
        "\n",
        "#월별: m, 일별: d, 연도별: y\n",
        "df = stock.get_market_ohlcv_by_date(\"20210104\", \"20210108\", \"005930\", \"d\")\n",
        "df\n",
        "\n",
        "df = stock.get_market_ohlcv_by_date(\"20201104\", \"20210108\", \"005930\", \"m\")\n",
        "df\n",
        "\n"
      ],
      "metadata": {
        "colab": {
          "base_uri": "https://localhost:8080/",
          "height": 232
        },
        "id": "jHZo2RFnFtVr",
        "outputId": "582816d5-2ad6-46cf-ee89-0d4aecea1b95"
      },
      "execution_count": null,
      "outputs": [
        {
          "output_type": "stream",
          "name": "stderr",
          "text": [
            "/usr/local/lib/python3.11/dist-packages/pykrx/stock/stock_api.py:46: FutureWarning: 'M' is deprecated and will be removed in a future version, please use 'ME' instead.\n",
            "  df = df.resample('M').apply(how)\n"
          ]
        },
        {
          "output_type": "execute_result",
          "data": {
            "text/plain": [
              "               시가     고가     저가     종가        거래량\n",
              "날짜                                               \n",
              "2020-11-30  58900  69500  57800  66700  460991347\n",
              "2020-12-31  67100  81300  67100  81000  529998852\n",
              "2021-01-31  81000  90000  80200  88800  207737907"
            ],
            "text/html": [
              "\n",
              "  <div id=\"df-e0d3597c-a869-416e-8991-461e25186f26\" class=\"colab-df-container\">\n",
              "    <div>\n",
              "<style scoped>\n",
              "    .dataframe tbody tr th:only-of-type {\n",
              "        vertical-align: middle;\n",
              "    }\n",
              "\n",
              "    .dataframe tbody tr th {\n",
              "        vertical-align: top;\n",
              "    }\n",
              "\n",
              "    .dataframe thead th {\n",
              "        text-align: right;\n",
              "    }\n",
              "</style>\n",
              "<table border=\"1\" class=\"dataframe\">\n",
              "  <thead>\n",
              "    <tr style=\"text-align: right;\">\n",
              "      <th></th>\n",
              "      <th>시가</th>\n",
              "      <th>고가</th>\n",
              "      <th>저가</th>\n",
              "      <th>종가</th>\n",
              "      <th>거래량</th>\n",
              "    </tr>\n",
              "    <tr>\n",
              "      <th>날짜</th>\n",
              "      <th></th>\n",
              "      <th></th>\n",
              "      <th></th>\n",
              "      <th></th>\n",
              "      <th></th>\n",
              "    </tr>\n",
              "  </thead>\n",
              "  <tbody>\n",
              "    <tr>\n",
              "      <th>2020-11-30</th>\n",
              "      <td>58900</td>\n",
              "      <td>69500</td>\n",
              "      <td>57800</td>\n",
              "      <td>66700</td>\n",
              "      <td>460991347</td>\n",
              "    </tr>\n",
              "    <tr>\n",
              "      <th>2020-12-31</th>\n",
              "      <td>67100</td>\n",
              "      <td>81300</td>\n",
              "      <td>67100</td>\n",
              "      <td>81000</td>\n",
              "      <td>529998852</td>\n",
              "    </tr>\n",
              "    <tr>\n",
              "      <th>2021-01-31</th>\n",
              "      <td>81000</td>\n",
              "      <td>90000</td>\n",
              "      <td>80200</td>\n",
              "      <td>88800</td>\n",
              "      <td>207737907</td>\n",
              "    </tr>\n",
              "  </tbody>\n",
              "</table>\n",
              "</div>\n",
              "    <div class=\"colab-df-buttons\">\n",
              "\n",
              "  <div class=\"colab-df-container\">\n",
              "    <button class=\"colab-df-convert\" onclick=\"convertToInteractive('df-e0d3597c-a869-416e-8991-461e25186f26')\"\n",
              "            title=\"Convert this dataframe to an interactive table.\"\n",
              "            style=\"display:none;\">\n",
              "\n",
              "  <svg xmlns=\"http://www.w3.org/2000/svg\" height=\"24px\" viewBox=\"0 -960 960 960\">\n",
              "    <path d=\"M120-120v-720h720v720H120Zm60-500h600v-160H180v160Zm220 220h160v-160H400v160Zm0 220h160v-160H400v160ZM180-400h160v-160H180v160Zm440 0h160v-160H620v160ZM180-180h160v-160H180v160Zm440 0h160v-160H620v160Z\"/>\n",
              "  </svg>\n",
              "    </button>\n",
              "\n",
              "  <style>\n",
              "    .colab-df-container {\n",
              "      display:flex;\n",
              "      gap: 12px;\n",
              "    }\n",
              "\n",
              "    .colab-df-convert {\n",
              "      background-color: #E8F0FE;\n",
              "      border: none;\n",
              "      border-radius: 50%;\n",
              "      cursor: pointer;\n",
              "      display: none;\n",
              "      fill: #1967D2;\n",
              "      height: 32px;\n",
              "      padding: 0 0 0 0;\n",
              "      width: 32px;\n",
              "    }\n",
              "\n",
              "    .colab-df-convert:hover {\n",
              "      background-color: #E2EBFA;\n",
              "      box-shadow: 0px 1px 2px rgba(60, 64, 67, 0.3), 0px 1px 3px 1px rgba(60, 64, 67, 0.15);\n",
              "      fill: #174EA6;\n",
              "    }\n",
              "\n",
              "    .colab-df-buttons div {\n",
              "      margin-bottom: 4px;\n",
              "    }\n",
              "\n",
              "    [theme=dark] .colab-df-convert {\n",
              "      background-color: #3B4455;\n",
              "      fill: #D2E3FC;\n",
              "    }\n",
              "\n",
              "    [theme=dark] .colab-df-convert:hover {\n",
              "      background-color: #434B5C;\n",
              "      box-shadow: 0px 1px 3px 1px rgba(0, 0, 0, 0.15);\n",
              "      filter: drop-shadow(0px 1px 2px rgba(0, 0, 0, 0.3));\n",
              "      fill: #FFFFFF;\n",
              "    }\n",
              "  </style>\n",
              "\n",
              "    <script>\n",
              "      const buttonEl =\n",
              "        document.querySelector('#df-e0d3597c-a869-416e-8991-461e25186f26 button.colab-df-convert');\n",
              "      buttonEl.style.display =\n",
              "        google.colab.kernel.accessAllowed ? 'block' : 'none';\n",
              "\n",
              "      async function convertToInteractive(key) {\n",
              "        const element = document.querySelector('#df-e0d3597c-a869-416e-8991-461e25186f26');\n",
              "        const dataTable =\n",
              "          await google.colab.kernel.invokeFunction('convertToInteractive',\n",
              "                                                    [key], {});\n",
              "        if (!dataTable) return;\n",
              "\n",
              "        const docLinkHtml = 'Like what you see? Visit the ' +\n",
              "          '<a target=\"_blank\" href=https://colab.research.google.com/notebooks/data_table.ipynb>data table notebook</a>'\n",
              "          + ' to learn more about interactive tables.';\n",
              "        element.innerHTML = '';\n",
              "        dataTable['output_type'] = 'display_data';\n",
              "        await google.colab.output.renderOutput(dataTable, element);\n",
              "        const docLink = document.createElement('div');\n",
              "        docLink.innerHTML = docLinkHtml;\n",
              "        element.appendChild(docLink);\n",
              "      }\n",
              "    </script>\n",
              "  </div>\n",
              "\n",
              "\n",
              "    <div id=\"df-3fd7b8d7-c677-4046-8749-35ab6ca0ccac\">\n",
              "      <button class=\"colab-df-quickchart\" onclick=\"quickchart('df-3fd7b8d7-c677-4046-8749-35ab6ca0ccac')\"\n",
              "                title=\"Suggest charts\"\n",
              "                style=\"display:none;\">\n",
              "\n",
              "<svg xmlns=\"http://www.w3.org/2000/svg\" height=\"24px\"viewBox=\"0 0 24 24\"\n",
              "     width=\"24px\">\n",
              "    <g>\n",
              "        <path d=\"M19 3H5c-1.1 0-2 .9-2 2v14c0 1.1.9 2 2 2h14c1.1 0 2-.9 2-2V5c0-1.1-.9-2-2-2zM9 17H7v-7h2v7zm4 0h-2V7h2v10zm4 0h-2v-4h2v4z\"/>\n",
              "    </g>\n",
              "</svg>\n",
              "      </button>\n",
              "\n",
              "<style>\n",
              "  .colab-df-quickchart {\n",
              "      --bg-color: #E8F0FE;\n",
              "      --fill-color: #1967D2;\n",
              "      --hover-bg-color: #E2EBFA;\n",
              "      --hover-fill-color: #174EA6;\n",
              "      --disabled-fill-color: #AAA;\n",
              "      --disabled-bg-color: #DDD;\n",
              "  }\n",
              "\n",
              "  [theme=dark] .colab-df-quickchart {\n",
              "      --bg-color: #3B4455;\n",
              "      --fill-color: #D2E3FC;\n",
              "      --hover-bg-color: #434B5C;\n",
              "      --hover-fill-color: #FFFFFF;\n",
              "      --disabled-bg-color: #3B4455;\n",
              "      --disabled-fill-color: #666;\n",
              "  }\n",
              "\n",
              "  .colab-df-quickchart {\n",
              "    background-color: var(--bg-color);\n",
              "    border: none;\n",
              "    border-radius: 50%;\n",
              "    cursor: pointer;\n",
              "    display: none;\n",
              "    fill: var(--fill-color);\n",
              "    height: 32px;\n",
              "    padding: 0;\n",
              "    width: 32px;\n",
              "  }\n",
              "\n",
              "  .colab-df-quickchart:hover {\n",
              "    background-color: var(--hover-bg-color);\n",
              "    box-shadow: 0 1px 2px rgba(60, 64, 67, 0.3), 0 1px 3px 1px rgba(60, 64, 67, 0.15);\n",
              "    fill: var(--button-hover-fill-color);\n",
              "  }\n",
              "\n",
              "  .colab-df-quickchart-complete:disabled,\n",
              "  .colab-df-quickchart-complete:disabled:hover {\n",
              "    background-color: var(--disabled-bg-color);\n",
              "    fill: var(--disabled-fill-color);\n",
              "    box-shadow: none;\n",
              "  }\n",
              "\n",
              "  .colab-df-spinner {\n",
              "    border: 2px solid var(--fill-color);\n",
              "    border-color: transparent;\n",
              "    border-bottom-color: var(--fill-color);\n",
              "    animation:\n",
              "      spin 1s steps(1) infinite;\n",
              "  }\n",
              "\n",
              "  @keyframes spin {\n",
              "    0% {\n",
              "      border-color: transparent;\n",
              "      border-bottom-color: var(--fill-color);\n",
              "      border-left-color: var(--fill-color);\n",
              "    }\n",
              "    20% {\n",
              "      border-color: transparent;\n",
              "      border-left-color: var(--fill-color);\n",
              "      border-top-color: var(--fill-color);\n",
              "    }\n",
              "    30% {\n",
              "      border-color: transparent;\n",
              "      border-left-color: var(--fill-color);\n",
              "      border-top-color: var(--fill-color);\n",
              "      border-right-color: var(--fill-color);\n",
              "    }\n",
              "    40% {\n",
              "      border-color: transparent;\n",
              "      border-right-color: var(--fill-color);\n",
              "      border-top-color: var(--fill-color);\n",
              "    }\n",
              "    60% {\n",
              "      border-color: transparent;\n",
              "      border-right-color: var(--fill-color);\n",
              "    }\n",
              "    80% {\n",
              "      border-color: transparent;\n",
              "      border-right-color: var(--fill-color);\n",
              "      border-bottom-color: var(--fill-color);\n",
              "    }\n",
              "    90% {\n",
              "      border-color: transparent;\n",
              "      border-bottom-color: var(--fill-color);\n",
              "    }\n",
              "  }\n",
              "</style>\n",
              "\n",
              "      <script>\n",
              "        async function quickchart(key) {\n",
              "          const quickchartButtonEl =\n",
              "            document.querySelector('#' + key + ' button');\n",
              "          quickchartButtonEl.disabled = true;  // To prevent multiple clicks.\n",
              "          quickchartButtonEl.classList.add('colab-df-spinner');\n",
              "          try {\n",
              "            const charts = await google.colab.kernel.invokeFunction(\n",
              "                'suggestCharts', [key], {});\n",
              "          } catch (error) {\n",
              "            console.error('Error during call to suggestCharts:', error);\n",
              "          }\n",
              "          quickchartButtonEl.classList.remove('colab-df-spinner');\n",
              "          quickchartButtonEl.classList.add('colab-df-quickchart-complete');\n",
              "        }\n",
              "        (() => {\n",
              "          let quickchartButtonEl =\n",
              "            document.querySelector('#df-3fd7b8d7-c677-4046-8749-35ab6ca0ccac button');\n",
              "          quickchartButtonEl.style.display =\n",
              "            google.colab.kernel.accessAllowed ? 'block' : 'none';\n",
              "        })();\n",
              "      </script>\n",
              "    </div>\n",
              "\n",
              "  <div id=\"id_a55f0d8f-a53e-4cb7-8e0b-aade55ea6fae\">\n",
              "    <style>\n",
              "      .colab-df-generate {\n",
              "        background-color: #E8F0FE;\n",
              "        border: none;\n",
              "        border-radius: 50%;\n",
              "        cursor: pointer;\n",
              "        display: none;\n",
              "        fill: #1967D2;\n",
              "        height: 32px;\n",
              "        padding: 0 0 0 0;\n",
              "        width: 32px;\n",
              "      }\n",
              "\n",
              "      .colab-df-generate:hover {\n",
              "        background-color: #E2EBFA;\n",
              "        box-shadow: 0px 1px 2px rgba(60, 64, 67, 0.3), 0px 1px 3px 1px rgba(60, 64, 67, 0.15);\n",
              "        fill: #174EA6;\n",
              "      }\n",
              "\n",
              "      [theme=dark] .colab-df-generate {\n",
              "        background-color: #3B4455;\n",
              "        fill: #D2E3FC;\n",
              "      }\n",
              "\n",
              "      [theme=dark] .colab-df-generate:hover {\n",
              "        background-color: #434B5C;\n",
              "        box-shadow: 0px 1px 3px 1px rgba(0, 0, 0, 0.15);\n",
              "        filter: drop-shadow(0px 1px 2px rgba(0, 0, 0, 0.3));\n",
              "        fill: #FFFFFF;\n",
              "      }\n",
              "    </style>\n",
              "    <button class=\"colab-df-generate\" onclick=\"generateWithVariable('df')\"\n",
              "            title=\"Generate code using this dataframe.\"\n",
              "            style=\"display:none;\">\n",
              "\n",
              "  <svg xmlns=\"http://www.w3.org/2000/svg\" height=\"24px\"viewBox=\"0 0 24 24\"\n",
              "       width=\"24px\">\n",
              "    <path d=\"M7,19H8.4L18.45,9,17,7.55,7,17.6ZM5,21V16.75L18.45,3.32a2,2,0,0,1,2.83,0l1.4,1.43a1.91,1.91,0,0,1,.58,1.4,1.91,1.91,0,0,1-.58,1.4L9.25,21ZM18.45,9,17,7.55Zm-12,3A5.31,5.31,0,0,0,4.9,8.1,5.31,5.31,0,0,0,1,6.5,5.31,5.31,0,0,0,4.9,4.9,5.31,5.31,0,0,0,6.5,1,5.31,5.31,0,0,0,8.1,4.9,5.31,5.31,0,0,0,12,6.5,5.46,5.46,0,0,0,6.5,12Z\"/>\n",
              "  </svg>\n",
              "    </button>\n",
              "    <script>\n",
              "      (() => {\n",
              "      const buttonEl =\n",
              "        document.querySelector('#id_a55f0d8f-a53e-4cb7-8e0b-aade55ea6fae button.colab-df-generate');\n",
              "      buttonEl.style.display =\n",
              "        google.colab.kernel.accessAllowed ? 'block' : 'none';\n",
              "\n",
              "      buttonEl.onclick = () => {\n",
              "        google.colab.notebook.generateWithVariable('df');\n",
              "      }\n",
              "      })();\n",
              "    </script>\n",
              "  </div>\n",
              "\n",
              "    </div>\n",
              "  </div>\n"
            ],
            "application/vnd.google.colaboratory.intrinsic+json": {
              "type": "dataframe",
              "variable_name": "df",
              "summary": "{\n  \"name\": \"df\",\n  \"rows\": 3,\n  \"fields\": [\n    {\n      \"column\": \"\\ub0a0\\uc9dc\",\n      \"properties\": {\n        \"dtype\": \"date\",\n        \"min\": \"2020-11-30 00:00:00\",\n        \"max\": \"2021-01-31 00:00:00\",\n        \"num_unique_values\": 3,\n        \"samples\": [\n          \"2020-11-30 00:00:00\",\n          \"2020-12-31 00:00:00\",\n          \"2021-01-31 00:00:00\"\n        ],\n        \"semantic_type\": \"\",\n        \"description\": \"\"\n      }\n    },\n    {\n      \"column\": \"\\uc2dc\\uac00\",\n      \"properties\": {\n        \"dtype\": \"number\",\n        \"std\": 11171,\n        \"min\": 58900,\n        \"max\": 81000,\n        \"num_unique_values\": 3,\n        \"samples\": [\n          58900,\n          67100,\n          81000\n        ],\n        \"semantic_type\": \"\",\n        \"description\": \"\"\n      }\n    },\n    {\n      \"column\": \"\\uace0\\uac00\",\n      \"properties\": {\n        \"dtype\": \"number\",\n        \"std\": 10288,\n        \"min\": 69500,\n        \"max\": 90000,\n        \"num_unique_values\": 3,\n        \"samples\": [\n          69500,\n          81300,\n          90000\n        ],\n        \"semantic_type\": \"\",\n        \"description\": \"\"\n      }\n    },\n    {\n      \"column\": \"\\uc800\\uac00\",\n      \"properties\": {\n        \"dtype\": \"number\",\n        \"std\": 11253,\n        \"min\": 57800,\n        \"max\": 80200,\n        \"num_unique_values\": 3,\n        \"samples\": [\n          57800,\n          67100,\n          80200\n        ],\n        \"semantic_type\": \"\",\n        \"description\": \"\"\n      }\n    },\n    {\n      \"column\": \"\\uc885\\uac00\",\n      \"properties\": {\n        \"dtype\": \"number\",\n        \"std\": 11208,\n        \"min\": 66700,\n        \"max\": 88800,\n        \"num_unique_values\": 3,\n        \"samples\": [\n          66700,\n          81000,\n          88800\n        ],\n        \"semantic_type\": \"\",\n        \"description\": \"\"\n      }\n    },\n    {\n      \"column\": \"\\uac70\\ub798\\ub7c9\",\n      \"properties\": {\n        \"dtype\": \"number\",\n        \"std\": 169681789,\n        \"min\": 207737907,\n        \"max\": 529998852,\n        \"num_unique_values\": 3,\n        \"samples\": [\n          460991347,\n          529998852,\n          207737907\n        ],\n        \"semantic_type\": \"\",\n        \"description\": \"\"\n      }\n    }\n  ]\n}"
            }
          },
          "metadata": {},
          "execution_count": 36
        }
      ]
    },
    {
      "cell_type": "code",
      "source": [
        "df = stock.get_market_price_change_by_ticker(\"20210104\", \"20210115\")\n",
        "print(df.head(5))\n",
        "\n",
        "df = stock.get_market_ohlcv_by_date(\"20210104\", \"20210115\", \"000020\")\n",
        "df\n",
        "\n",
        "#KOSPI, KOSDAQ, KONEX 지원\n",
        "df = stock.get_market_trading_volume_by_date(\"20210104\", \"20210115\", \"KOSPI\")\n",
        "print(df.head(5))\n",
        "\n",
        "df = stock.get_market_trading_volume_by_date(\"20200101\", \"20210115\", 'KOSPI', freq='m')\n",
        "df\n",
        "\n",
        "df = stock.get_market_trading_value_by_date(\"20210104\", \"20210115\", \"KOSPI\")\n",
        "df\n"
      ],
      "metadata": {
        "colab": {
          "base_uri": "https://localhost:8080/",
          "height": 745
        },
        "id": "pVIod1n0FwGQ",
        "outputId": "c672c7e1-c836-4c43-cec5-06a5b3402575"
      },
      "execution_count": null,
      "outputs": [
        {
          "output_type": "stream",
          "name": "stdout",
          "text": [
            "            종목명      시가      종가   변동폭   등락률       거래량          거래대금\n",
            "티커                                                                 \n",
            "095570   AJ네트웍스    4615    4510  -105 -2.28   3982449   18726203680\n",
            "006840    AK홀딩스   25150   26300  1150  4.57   1590631   41092351750\n",
            "027410      BGF    4895    4830   -65 -1.33   4729036   23091599895\n",
            "282330   BGF리테일  135500  145000  9500  7.01    809850  114155484750\n",
            "138930  BNK금융지주    5680    5880   200  3.52  36350605  209410643490\n",
            "                기관합계      기타법인        개인     외국인합계  전체\n",
            "날짜                                                    \n",
            "2021-01-04 -18241927  -2321155  13307925   7255157   0\n",
            "2021-01-05   -282797 -20356879  21335001   -695325   0\n",
            "2021-01-06 -28606702   1763197  19464237   7379268   0\n",
            "2021-01-07  16803440  -4926713 -23957887  12081160   0\n",
            "2021-01-08 -24886527   1334709   6228334  17323484   0\n"
          ]
        },
        {
          "output_type": "stream",
          "name": "stderr",
          "text": [
            "/usr/local/lib/python3.11/dist-packages/pykrx/stock/stock_api.py:46: FutureWarning: 'M' is deprecated and will be removed in a future version, please use 'ME' instead.\n",
            "  df = df.resample('M').apply(how)\n",
            "/usr/local/lib/python3.11/dist-packages/pykrx/stock/stock_api.py:46: FutureWarning: The provided callable <built-in function sum> is currently using DatetimeIndexResampler.sum. In a future version of pandas, the provided callable will be used directly. To keep current behavior pass the string \"sum\" instead.\n",
            "  df = df.resample('M').apply(how)\n"
          ]
        },
        {
          "output_type": "execute_result",
          "data": {
            "text/plain": [
              "                     기관합계         기타법인             개인          외국인합계  전체\n",
              "날짜                                                                      \n",
              "2021-01-04 -1189876714363  69165156608  1031014166618    89697391137   0\n",
              "2021-01-05  -536265643081  16098509714   728387733108  -208220599741   0\n",
              "2021-01-06 -1369155503764  37370130195  1729261196142  -397475822573   0\n",
              "2021-01-07  1033917002121  36342229807 -1183634539101   113375307173   0\n",
              "2021-01-08 -1147931424901  63596153201  -559141825960  1643477097660   0\n",
              "2021-01-11 -3743203896260 -31327947241  4492145003867  -717613160366   0\n",
              "2021-01-12 -1723898682006  30388878033  2312445113552  -618935309579   0\n",
              "2021-01-13  -372450411172   9868157834   169086090692   193496162646   0\n",
              "2021-01-14 -1428981445508  38743362517   712730906649   677507176342   0\n",
              "2021-01-15 -1414745885546  54444293672  2113924037705  -753622445831   0"
            ],
            "text/html": [
              "\n",
              "  <div id=\"df-e0422b7f-fcdc-4245-afd1-0b409c3bd0d2\" class=\"colab-df-container\">\n",
              "    <div>\n",
              "<style scoped>\n",
              "    .dataframe tbody tr th:only-of-type {\n",
              "        vertical-align: middle;\n",
              "    }\n",
              "\n",
              "    .dataframe tbody tr th {\n",
              "        vertical-align: top;\n",
              "    }\n",
              "\n",
              "    .dataframe thead th {\n",
              "        text-align: right;\n",
              "    }\n",
              "</style>\n",
              "<table border=\"1\" class=\"dataframe\">\n",
              "  <thead>\n",
              "    <tr style=\"text-align: right;\">\n",
              "      <th></th>\n",
              "      <th>기관합계</th>\n",
              "      <th>기타법인</th>\n",
              "      <th>개인</th>\n",
              "      <th>외국인합계</th>\n",
              "      <th>전체</th>\n",
              "    </tr>\n",
              "    <tr>\n",
              "      <th>날짜</th>\n",
              "      <th></th>\n",
              "      <th></th>\n",
              "      <th></th>\n",
              "      <th></th>\n",
              "      <th></th>\n",
              "    </tr>\n",
              "  </thead>\n",
              "  <tbody>\n",
              "    <tr>\n",
              "      <th>2021-01-04</th>\n",
              "      <td>-1189876714363</td>\n",
              "      <td>69165156608</td>\n",
              "      <td>1031014166618</td>\n",
              "      <td>89697391137</td>\n",
              "      <td>0</td>\n",
              "    </tr>\n",
              "    <tr>\n",
              "      <th>2021-01-05</th>\n",
              "      <td>-536265643081</td>\n",
              "      <td>16098509714</td>\n",
              "      <td>728387733108</td>\n",
              "      <td>-208220599741</td>\n",
              "      <td>0</td>\n",
              "    </tr>\n",
              "    <tr>\n",
              "      <th>2021-01-06</th>\n",
              "      <td>-1369155503764</td>\n",
              "      <td>37370130195</td>\n",
              "      <td>1729261196142</td>\n",
              "      <td>-397475822573</td>\n",
              "      <td>0</td>\n",
              "    </tr>\n",
              "    <tr>\n",
              "      <th>2021-01-07</th>\n",
              "      <td>1033917002121</td>\n",
              "      <td>36342229807</td>\n",
              "      <td>-1183634539101</td>\n",
              "      <td>113375307173</td>\n",
              "      <td>0</td>\n",
              "    </tr>\n",
              "    <tr>\n",
              "      <th>2021-01-08</th>\n",
              "      <td>-1147931424901</td>\n",
              "      <td>63596153201</td>\n",
              "      <td>-559141825960</td>\n",
              "      <td>1643477097660</td>\n",
              "      <td>0</td>\n",
              "    </tr>\n",
              "    <tr>\n",
              "      <th>2021-01-11</th>\n",
              "      <td>-3743203896260</td>\n",
              "      <td>-31327947241</td>\n",
              "      <td>4492145003867</td>\n",
              "      <td>-717613160366</td>\n",
              "      <td>0</td>\n",
              "    </tr>\n",
              "    <tr>\n",
              "      <th>2021-01-12</th>\n",
              "      <td>-1723898682006</td>\n",
              "      <td>30388878033</td>\n",
              "      <td>2312445113552</td>\n",
              "      <td>-618935309579</td>\n",
              "      <td>0</td>\n",
              "    </tr>\n",
              "    <tr>\n",
              "      <th>2021-01-13</th>\n",
              "      <td>-372450411172</td>\n",
              "      <td>9868157834</td>\n",
              "      <td>169086090692</td>\n",
              "      <td>193496162646</td>\n",
              "      <td>0</td>\n",
              "    </tr>\n",
              "    <tr>\n",
              "      <th>2021-01-14</th>\n",
              "      <td>-1428981445508</td>\n",
              "      <td>38743362517</td>\n",
              "      <td>712730906649</td>\n",
              "      <td>677507176342</td>\n",
              "      <td>0</td>\n",
              "    </tr>\n",
              "    <tr>\n",
              "      <th>2021-01-15</th>\n",
              "      <td>-1414745885546</td>\n",
              "      <td>54444293672</td>\n",
              "      <td>2113924037705</td>\n",
              "      <td>-753622445831</td>\n",
              "      <td>0</td>\n",
              "    </tr>\n",
              "  </tbody>\n",
              "</table>\n",
              "</div>\n",
              "    <div class=\"colab-df-buttons\">\n",
              "\n",
              "  <div class=\"colab-df-container\">\n",
              "    <button class=\"colab-df-convert\" onclick=\"convertToInteractive('df-e0422b7f-fcdc-4245-afd1-0b409c3bd0d2')\"\n",
              "            title=\"Convert this dataframe to an interactive table.\"\n",
              "            style=\"display:none;\">\n",
              "\n",
              "  <svg xmlns=\"http://www.w3.org/2000/svg\" height=\"24px\" viewBox=\"0 -960 960 960\">\n",
              "    <path d=\"M120-120v-720h720v720H120Zm60-500h600v-160H180v160Zm220 220h160v-160H400v160Zm0 220h160v-160H400v160ZM180-400h160v-160H180v160Zm440 0h160v-160H620v160ZM180-180h160v-160H180v160Zm440 0h160v-160H620v160Z\"/>\n",
              "  </svg>\n",
              "    </button>\n",
              "\n",
              "  <style>\n",
              "    .colab-df-container {\n",
              "      display:flex;\n",
              "      gap: 12px;\n",
              "    }\n",
              "\n",
              "    .colab-df-convert {\n",
              "      background-color: #E8F0FE;\n",
              "      border: none;\n",
              "      border-radius: 50%;\n",
              "      cursor: pointer;\n",
              "      display: none;\n",
              "      fill: #1967D2;\n",
              "      height: 32px;\n",
              "      padding: 0 0 0 0;\n",
              "      width: 32px;\n",
              "    }\n",
              "\n",
              "    .colab-df-convert:hover {\n",
              "      background-color: #E2EBFA;\n",
              "      box-shadow: 0px 1px 2px rgba(60, 64, 67, 0.3), 0px 1px 3px 1px rgba(60, 64, 67, 0.15);\n",
              "      fill: #174EA6;\n",
              "    }\n",
              "\n",
              "    .colab-df-buttons div {\n",
              "      margin-bottom: 4px;\n",
              "    }\n",
              "\n",
              "    [theme=dark] .colab-df-convert {\n",
              "      background-color: #3B4455;\n",
              "      fill: #D2E3FC;\n",
              "    }\n",
              "\n",
              "    [theme=dark] .colab-df-convert:hover {\n",
              "      background-color: #434B5C;\n",
              "      box-shadow: 0px 1px 3px 1px rgba(0, 0, 0, 0.15);\n",
              "      filter: drop-shadow(0px 1px 2px rgba(0, 0, 0, 0.3));\n",
              "      fill: #FFFFFF;\n",
              "    }\n",
              "  </style>\n",
              "\n",
              "    <script>\n",
              "      const buttonEl =\n",
              "        document.querySelector('#df-e0422b7f-fcdc-4245-afd1-0b409c3bd0d2 button.colab-df-convert');\n",
              "      buttonEl.style.display =\n",
              "        google.colab.kernel.accessAllowed ? 'block' : 'none';\n",
              "\n",
              "      async function convertToInteractive(key) {\n",
              "        const element = document.querySelector('#df-e0422b7f-fcdc-4245-afd1-0b409c3bd0d2');\n",
              "        const dataTable =\n",
              "          await google.colab.kernel.invokeFunction('convertToInteractive',\n",
              "                                                    [key], {});\n",
              "        if (!dataTable) return;\n",
              "\n",
              "        const docLinkHtml = 'Like what you see? Visit the ' +\n",
              "          '<a target=\"_blank\" href=https://colab.research.google.com/notebooks/data_table.ipynb>data table notebook</a>'\n",
              "          + ' to learn more about interactive tables.';\n",
              "        element.innerHTML = '';\n",
              "        dataTable['output_type'] = 'display_data';\n",
              "        await google.colab.output.renderOutput(dataTable, element);\n",
              "        const docLink = document.createElement('div');\n",
              "        docLink.innerHTML = docLinkHtml;\n",
              "        element.appendChild(docLink);\n",
              "      }\n",
              "    </script>\n",
              "  </div>\n",
              "\n",
              "\n",
              "    <div id=\"df-9567ecd2-b54b-4042-b6d2-d3caaeefee07\">\n",
              "      <button class=\"colab-df-quickchart\" onclick=\"quickchart('df-9567ecd2-b54b-4042-b6d2-d3caaeefee07')\"\n",
              "                title=\"Suggest charts\"\n",
              "                style=\"display:none;\">\n",
              "\n",
              "<svg xmlns=\"http://www.w3.org/2000/svg\" height=\"24px\"viewBox=\"0 0 24 24\"\n",
              "     width=\"24px\">\n",
              "    <g>\n",
              "        <path d=\"M19 3H5c-1.1 0-2 .9-2 2v14c0 1.1.9 2 2 2h14c1.1 0 2-.9 2-2V5c0-1.1-.9-2-2-2zM9 17H7v-7h2v7zm4 0h-2V7h2v10zm4 0h-2v-4h2v4z\"/>\n",
              "    </g>\n",
              "</svg>\n",
              "      </button>\n",
              "\n",
              "<style>\n",
              "  .colab-df-quickchart {\n",
              "      --bg-color: #E8F0FE;\n",
              "      --fill-color: #1967D2;\n",
              "      --hover-bg-color: #E2EBFA;\n",
              "      --hover-fill-color: #174EA6;\n",
              "      --disabled-fill-color: #AAA;\n",
              "      --disabled-bg-color: #DDD;\n",
              "  }\n",
              "\n",
              "  [theme=dark] .colab-df-quickchart {\n",
              "      --bg-color: #3B4455;\n",
              "      --fill-color: #D2E3FC;\n",
              "      --hover-bg-color: #434B5C;\n",
              "      --hover-fill-color: #FFFFFF;\n",
              "      --disabled-bg-color: #3B4455;\n",
              "      --disabled-fill-color: #666;\n",
              "  }\n",
              "\n",
              "  .colab-df-quickchart {\n",
              "    background-color: var(--bg-color);\n",
              "    border: none;\n",
              "    border-radius: 50%;\n",
              "    cursor: pointer;\n",
              "    display: none;\n",
              "    fill: var(--fill-color);\n",
              "    height: 32px;\n",
              "    padding: 0;\n",
              "    width: 32px;\n",
              "  }\n",
              "\n",
              "  .colab-df-quickchart:hover {\n",
              "    background-color: var(--hover-bg-color);\n",
              "    box-shadow: 0 1px 2px rgba(60, 64, 67, 0.3), 0 1px 3px 1px rgba(60, 64, 67, 0.15);\n",
              "    fill: var(--button-hover-fill-color);\n",
              "  }\n",
              "\n",
              "  .colab-df-quickchart-complete:disabled,\n",
              "  .colab-df-quickchart-complete:disabled:hover {\n",
              "    background-color: var(--disabled-bg-color);\n",
              "    fill: var(--disabled-fill-color);\n",
              "    box-shadow: none;\n",
              "  }\n",
              "\n",
              "  .colab-df-spinner {\n",
              "    border: 2px solid var(--fill-color);\n",
              "    border-color: transparent;\n",
              "    border-bottom-color: var(--fill-color);\n",
              "    animation:\n",
              "      spin 1s steps(1) infinite;\n",
              "  }\n",
              "\n",
              "  @keyframes spin {\n",
              "    0% {\n",
              "      border-color: transparent;\n",
              "      border-bottom-color: var(--fill-color);\n",
              "      border-left-color: var(--fill-color);\n",
              "    }\n",
              "    20% {\n",
              "      border-color: transparent;\n",
              "      border-left-color: var(--fill-color);\n",
              "      border-top-color: var(--fill-color);\n",
              "    }\n",
              "    30% {\n",
              "      border-color: transparent;\n",
              "      border-left-color: var(--fill-color);\n",
              "      border-top-color: var(--fill-color);\n",
              "      border-right-color: var(--fill-color);\n",
              "    }\n",
              "    40% {\n",
              "      border-color: transparent;\n",
              "      border-right-color: var(--fill-color);\n",
              "      border-top-color: var(--fill-color);\n",
              "    }\n",
              "    60% {\n",
              "      border-color: transparent;\n",
              "      border-right-color: var(--fill-color);\n",
              "    }\n",
              "    80% {\n",
              "      border-color: transparent;\n",
              "      border-right-color: var(--fill-color);\n",
              "      border-bottom-color: var(--fill-color);\n",
              "    }\n",
              "    90% {\n",
              "      border-color: transparent;\n",
              "      border-bottom-color: var(--fill-color);\n",
              "    }\n",
              "  }\n",
              "</style>\n",
              "\n",
              "      <script>\n",
              "        async function quickchart(key) {\n",
              "          const quickchartButtonEl =\n",
              "            document.querySelector('#' + key + ' button');\n",
              "          quickchartButtonEl.disabled = true;  // To prevent multiple clicks.\n",
              "          quickchartButtonEl.classList.add('colab-df-spinner');\n",
              "          try {\n",
              "            const charts = await google.colab.kernel.invokeFunction(\n",
              "                'suggestCharts', [key], {});\n",
              "          } catch (error) {\n",
              "            console.error('Error during call to suggestCharts:', error);\n",
              "          }\n",
              "          quickchartButtonEl.classList.remove('colab-df-spinner');\n",
              "          quickchartButtonEl.classList.add('colab-df-quickchart-complete');\n",
              "        }\n",
              "        (() => {\n",
              "          let quickchartButtonEl =\n",
              "            document.querySelector('#df-9567ecd2-b54b-4042-b6d2-d3caaeefee07 button');\n",
              "          quickchartButtonEl.style.display =\n",
              "            google.colab.kernel.accessAllowed ? 'block' : 'none';\n",
              "        })();\n",
              "      </script>\n",
              "    </div>\n",
              "\n",
              "  <div id=\"id_b84ab55f-a255-466c-971d-2a7eed010ae9\">\n",
              "    <style>\n",
              "      .colab-df-generate {\n",
              "        background-color: #E8F0FE;\n",
              "        border: none;\n",
              "        border-radius: 50%;\n",
              "        cursor: pointer;\n",
              "        display: none;\n",
              "        fill: #1967D2;\n",
              "        height: 32px;\n",
              "        padding: 0 0 0 0;\n",
              "        width: 32px;\n",
              "      }\n",
              "\n",
              "      .colab-df-generate:hover {\n",
              "        background-color: #E2EBFA;\n",
              "        box-shadow: 0px 1px 2px rgba(60, 64, 67, 0.3), 0px 1px 3px 1px rgba(60, 64, 67, 0.15);\n",
              "        fill: #174EA6;\n",
              "      }\n",
              "\n",
              "      [theme=dark] .colab-df-generate {\n",
              "        background-color: #3B4455;\n",
              "        fill: #D2E3FC;\n",
              "      }\n",
              "\n",
              "      [theme=dark] .colab-df-generate:hover {\n",
              "        background-color: #434B5C;\n",
              "        box-shadow: 0px 1px 3px 1px rgba(0, 0, 0, 0.15);\n",
              "        filter: drop-shadow(0px 1px 2px rgba(0, 0, 0, 0.3));\n",
              "        fill: #FFFFFF;\n",
              "      }\n",
              "    </style>\n",
              "    <button class=\"colab-df-generate\" onclick=\"generateWithVariable('df')\"\n",
              "            title=\"Generate code using this dataframe.\"\n",
              "            style=\"display:none;\">\n",
              "\n",
              "  <svg xmlns=\"http://www.w3.org/2000/svg\" height=\"24px\"viewBox=\"0 0 24 24\"\n",
              "       width=\"24px\">\n",
              "    <path d=\"M7,19H8.4L18.45,9,17,7.55,7,17.6ZM5,21V16.75L18.45,3.32a2,2,0,0,1,2.83,0l1.4,1.43a1.91,1.91,0,0,1,.58,1.4,1.91,1.91,0,0,1-.58,1.4L9.25,21ZM18.45,9,17,7.55Zm-12,3A5.31,5.31,0,0,0,4.9,8.1,5.31,5.31,0,0,0,1,6.5,5.31,5.31,0,0,0,4.9,4.9,5.31,5.31,0,0,0,6.5,1,5.31,5.31,0,0,0,8.1,4.9,5.31,5.31,0,0,0,12,6.5,5.46,5.46,0,0,0,6.5,12Z\"/>\n",
              "  </svg>\n",
              "    </button>\n",
              "    <script>\n",
              "      (() => {\n",
              "      const buttonEl =\n",
              "        document.querySelector('#id_b84ab55f-a255-466c-971d-2a7eed010ae9 button.colab-df-generate');\n",
              "      buttonEl.style.display =\n",
              "        google.colab.kernel.accessAllowed ? 'block' : 'none';\n",
              "\n",
              "      buttonEl.onclick = () => {\n",
              "        google.colab.notebook.generateWithVariable('df');\n",
              "      }\n",
              "      })();\n",
              "    </script>\n",
              "  </div>\n",
              "\n",
              "    </div>\n",
              "  </div>\n"
            ],
            "application/vnd.google.colaboratory.intrinsic+json": {
              "type": "dataframe",
              "variable_name": "df",
              "summary": "{\n  \"name\": \"df\",\n  \"rows\": 10,\n  \"fields\": [\n    {\n      \"column\": \"\\ub0a0\\uc9dc\",\n      \"properties\": {\n        \"dtype\": \"date\",\n        \"min\": \"2021-01-04 00:00:00\",\n        \"max\": \"2021-01-15 00:00:00\",\n        \"num_unique_values\": 10,\n        \"samples\": [\n          \"2021-01-14 00:00:00\",\n          \"2021-01-05 00:00:00\",\n          \"2021-01-11 00:00:00\"\n        ],\n        \"semantic_type\": \"\",\n        \"description\": \"\"\n      }\n    },\n    {\n      \"column\": \"\\uae30\\uad00\\ud569\\uacc4\",\n      \"properties\": {\n        \"dtype\": \"number\",\n        \"std\": 1201246784831,\n        \"min\": -3743203896260,\n        \"max\": 1033917002121,\n        \"num_unique_values\": 10,\n        \"samples\": [\n          -1428981445508,\n          -536265643081,\n          -3743203896260\n        ],\n        \"semantic_type\": \"\",\n        \"description\": \"\"\n      }\n    },\n    {\n      \"column\": \"\\uae30\\ud0c0\\ubc95\\uc778\",\n      \"properties\": {\n        \"dtype\": \"number\",\n        \"std\": 29306768506,\n        \"min\": -31327947241,\n        \"max\": 69165156608,\n        \"num_unique_values\": 10,\n        \"samples\": [\n          38743362517,\n          16098509714,\n          -31327947241\n        ],\n        \"semantic_type\": \"\",\n        \"description\": \"\"\n      }\n    },\n    {\n      \"column\": \"\\uac1c\\uc778\",\n      \"properties\": {\n        \"dtype\": \"number\",\n        \"std\": 1615825147869,\n        \"min\": -1183634539101,\n        \"max\": 4492145003867,\n        \"num_unique_values\": 10,\n        \"samples\": [\n          712730906649,\n          728387733108,\n          4492145003867\n        ],\n        \"semantic_type\": \"\",\n        \"description\": \"\"\n      }\n    },\n    {\n      \"column\": \"\\uc678\\uad6d\\uc778\\ud569\\uacc4\",\n      \"properties\": {\n        \"dtype\": \"number\",\n        \"std\": 736784716656,\n        \"min\": -753622445831,\n        \"max\": 1643477097660,\n        \"num_unique_values\": 10,\n        \"samples\": [\n          677507176342,\n          -208220599741,\n          -717613160366\n        ],\n        \"semantic_type\": \"\",\n        \"description\": \"\"\n      }\n    },\n    {\n      \"column\": \"\\uc804\\uccb4\",\n      \"properties\": {\n        \"dtype\": \"number\",\n        \"std\": 0,\n        \"min\": 0,\n        \"max\": 0,\n        \"num_unique_values\": 1,\n        \"samples\": [\n          0\n        ],\n        \"semantic_type\": \"\",\n        \"description\": \"\"\n      }\n    }\n  ]\n}"
            }
          },
          "metadata": {},
          "execution_count": 37
        }
      ]
    },
    {
      "cell_type": "code",
      "source": [
        "df = stock.get_market_fundamental_by_ticker(\"20210115\")\n",
        "print(df.head(2))\n",
        "\n",
        "df = stock.get_market_fundamental_by_date(\"20210104\", \"20210115\", '005930')\n",
        "print(df.head(2))\n",
        "\n",
        "df = stock.get_market_fundamental_by_date(\"20201004\", \"20210115\", \"005930\", \"m\")\n",
        "print(df.head(2))\n"
      ],
      "metadata": {
        "colab": {
          "base_uri": "https://localhost:8080/"
        },
        "id": "O_hOXY3fF1O4",
        "outputId": "2be1d65b-929c-4f07-8aa4-8c7841718249"
      },
      "execution_count": null,
      "outputs": [
        {
          "output_type": "stream",
          "name": "stdout",
          "text": [
            "          BPS    PER   PBR   EPS   DIV  DPS\n",
            "티커                                         \n",
            "095570   6802   4.59  0.66   982  6.65  300\n",
            "006840  62448  12.13  0.42  2168  2.85  750\n",
            "              BPS    PER   PBR   EPS   DIV   DPS\n",
            "날짜                                              \n",
            "2021-01-04  37528  26.22  2.21  3166  1.71  1416\n",
            "2021-01-05  37528  26.50  2.24  3166  1.69  1416\n",
            "              BPS    PER   PBR   EPS   DIV   DPS\n",
            "날짜                                              \n",
            "2020-10-31  37528  18.54  1.56  3166  2.41  1416\n",
            "2020-11-30  37528  18.13  1.53  3166  2.47  1416\n"
          ]
        },
        {
          "output_type": "stream",
          "name": "stderr",
          "text": [
            "/usr/local/lib/python3.11/dist-packages/pykrx/stock/stock_api.py:46: FutureWarning: 'M' is deprecated and will be removed in a future version, please use 'ME' instead.\n",
            "  df = df.resample('M').apply(how)\n"
          ]
        }
      ]
    },
    {
      "cell_type": "markdown",
      "source": [],
      "metadata": {
        "id": "KDv4uZePxPQh"
      }
    },
    {
      "cell_type": "markdown",
      "metadata": {
        "id": "2jcil7RAftO-"
      },
      "source": [
        "## 1.3. 정규 표현식(Regular Expression)"
      ]
    },
    {
      "cell_type": "markdown",
      "metadata": {
        "id": "b3q068w6mjnX"
      },
      "source": [
        "참고\n",
        "\n",
        "\n",
        "<figure>\n",
        "<img src = 'https://miro.medium.com/max/700/1*Y-q0dkUClSW0dX6uuysnJQ.png'>\n",
        "<figure>\n",
        "\n",
        "<figure>\n",
        "<img src = 'https://miro.medium.com/max/700/1*c__WeRlFyGY_-7LeKQkNnQ.png'>\n",
        "<figure>\n",
        "\n"
      ]
    },
    {
      "cell_type": "markdown",
      "metadata": {
        "id": "DJdmfWnvnXkU"
      },
      "source": [
        "<figure>\n",
        "<img src = 'https://miro.medium.com/max/661/1*6pIp6zuIoRHUOXjEDDUNCA.png'>\n",
        "<figure>"
      ]
    },
    {
      "cell_type": "code",
      "metadata": {
        "colab": {
          "base_uri": "https://localhost:8080/"
        },
        "id": "yWAKfa_XlwVs",
        "outputId": "23ae7ad4-7578-4acc-f007-6de1c3584ca8"
      },
      "source": [
        "import re\n",
        "r = re.compile(\"a.c\")\n",
        "r.search(\"kkk\")\n",
        "# 아무런 결과도 출력되지 않는다.\n",
        "r.search(\"abc\")"
      ],
      "execution_count": null,
      "outputs": [
        {
          "output_type": "execute_result",
          "data": {
            "text/plain": [
              "<re.Match object; span=(0, 3), match='abc'>"
            ]
          },
          "metadata": {},
          "execution_count": 39
        }
      ]
    },
    {
      "cell_type": "code",
      "metadata": {
        "colab": {
          "base_uri": "https://localhost:8080/"
        },
        "id": "ucM6z0vbnvGQ",
        "outputId": "66d5fb8b-90b6-4b7c-dd03-395f988ac3c8"
      },
      "source": [
        "r = re.compile(\"ab?c\")\n",
        "r.search(\"abbc\")\n",
        "# 아무것도 출력되지 않음\n",
        "r.search(\"abc\")\n",
        "# b가 있는 것으로 판단하여 abc를 매치함."
      ],
      "execution_count": null,
      "outputs": [
        {
          "output_type": "execute_result",
          "data": {
            "text/plain": [
              "<re.Match object; span=(0, 3), match='abc'>"
            ]
          },
          "metadata": {},
          "execution_count": 40
        }
      ]
    },
    {
      "cell_type": "code",
      "metadata": {
        "colab": {
          "base_uri": "https://localhost:8080/"
        },
        "id": "mEBFlSaJn0aQ",
        "outputId": "5dfc5544-a641-4781-cbc5-59bc6f8f9d57"
      },
      "source": [
        "r.search(\"ac\")\n",
        "# b가 없는 것으로 판단하여 ac를 매치함."
      ],
      "execution_count": null,
      "outputs": [
        {
          "output_type": "execute_result",
          "data": {
            "text/plain": [
              "<re.Match object; span=(0, 2), match='ac'>"
            ]
          },
          "metadata": {},
          "execution_count": 41
        }
      ]
    },
    {
      "cell_type": "markdown",
      "metadata": {
        "id": "LFr7rlCUn6BM"
      },
      "source": [
        "- 0개 이상 문자 매치\n"
      ]
    },
    {
      "cell_type": "code",
      "metadata": {
        "id": "7CiNe8Fpn5L4"
      },
      "source": [
        "r = re.compile(\"ab*c\")\n",
        "r.search(\"a\")\n",
        "# 아무것도 출력되지 않음."
      ],
      "execution_count": null,
      "outputs": []
    },
    {
      "cell_type": "code",
      "metadata": {
        "colab": {
          "base_uri": "https://localhost:8080/"
        },
        "id": "q13_T3don5OR",
        "outputId": "63e175cd-2261-4be1-b1a8-1ba3fa5b510c"
      },
      "source": [
        "r.search(\"ac\")"
      ],
      "execution_count": null,
      "outputs": [
        {
          "output_type": "execute_result",
          "data": {
            "text/plain": [
              "<re.Match object; span=(0, 2), match='ac'>"
            ]
          },
          "metadata": {},
          "execution_count": 43
        }
      ]
    },
    {
      "cell_type": "code",
      "metadata": {
        "colab": {
          "base_uri": "https://localhost:8080/"
        },
        "id": "PZB6GP8zn5SU",
        "outputId": "1f9ab969-17fe-4ce1-8acc-8d75fac62ace"
      },
      "source": [
        "r.search(\"abc\")"
      ],
      "execution_count": null,
      "outputs": [
        {
          "output_type": "execute_result",
          "data": {
            "text/plain": [
              "<re.Match object; span=(0, 3), match='abc'>"
            ]
          },
          "metadata": {},
          "execution_count": 44
        }
      ]
    },
    {
      "cell_type": "code",
      "metadata": {
        "colab": {
          "base_uri": "https://localhost:8080/"
        },
        "id": "BVGmeToLn5Vb",
        "outputId": "fe932a89-09f5-4eb7-d35a-ccacab8ae902"
      },
      "source": [
        "r.search(\"abbc\")"
      ],
      "execution_count": null,
      "outputs": [
        {
          "output_type": "execute_result",
          "data": {
            "text/plain": [
              "<re.Match object; span=(0, 4), match='abbc'>"
            ]
          },
          "metadata": {},
          "execution_count": 45
        }
      ]
    },
    {
      "cell_type": "markdown",
      "metadata": {
        "id": "ZSkU7IyWoA1h"
      },
      "source": [
        "- '+' : 최소 1번 이상 출현\n"
      ]
    },
    {
      "cell_type": "code",
      "metadata": {
        "colab": {
          "base_uri": "https://localhost:8080/"
        },
        "id": "ErjEqSScn5ZN",
        "outputId": "3024f65b-e249-4338-d115-432b6b1f7622"
      },
      "source": [
        "r = re.compile('ab+c')\n",
        "r.search(\"ac\")\n",
        "# 아무것도 출력되지 않는다.\n",
        "\n",
        "r.search(\"abc\")"
      ],
      "execution_count": null,
      "outputs": [
        {
          "output_type": "execute_result",
          "data": {
            "text/plain": [
              "<re.Match object; span=(0, 3), match='abc'>"
            ]
          },
          "metadata": {},
          "execution_count": 46
        }
      ]
    },
    {
      "cell_type": "markdown",
      "metadata": {
        "id": "UecA1Y3OoGlE"
      },
      "source": [
        "- ' ^': 시작 문자 지정"
      ]
    },
    {
      "cell_type": "code",
      "metadata": {
        "colab": {
          "base_uri": "https://localhost:8080/"
        },
        "id": "e5WNrSLUn5cB",
        "outputId": "5fdf95d5-13a2-4d58-a27d-a5fe39db408e"
      },
      "source": [
        "r = re.compile('^a')\n",
        "r.search('bbc')\n",
        "# 아무것도 출력되지 않음\n",
        "r.search('ab')"
      ],
      "execution_count": null,
      "outputs": [
        {
          "output_type": "execute_result",
          "data": {
            "text/plain": [
              "<re.Match object; span=(0, 1), match='a'>"
            ]
          },
          "metadata": {},
          "execution_count": 47
        }
      ]
    },
    {
      "cell_type": "markdown",
      "metadata": {
        "id": "GqVYqmPdoKs9"
      },
      "source": [
        "{숫자}: 출현 빈도 지정\n",
        "{숫자1, 숫자2}\n",
        "{숫자,}\n",
        "\n",
        "문자에 해당 기호를 붙이면, 해당 문자를 숫자만큼 반복한 것을 나타낸다. 예를 들어 정규 표현식이 ab{2}c라면 a와 c사이에 b가 존재하면서 b가 2개인 문자열에 대해서 매치한다."
      ]
    },
    {
      "cell_type": "code",
      "metadata": {
        "colab": {
          "base_uri": "https://localhost:8080/"
        },
        "id": "FOqSSzqVn5eh",
        "outputId": "ecf46777-3df8-49ca-bff0-6fbf0d64cbf7"
      },
      "source": [
        "r = re.compile(\"ab{2}c\")\n",
        "r.search(\"ac\")\n",
        "# 아무것도 출력되지 않는다.\n",
        "r.search(\"abc\")\n",
        "# 아무것도 출력되지 않는다.\n",
        "r.search(\"abbc\")"
      ],
      "execution_count": null,
      "outputs": [
        {
          "output_type": "execute_result",
          "data": {
            "text/plain": [
              "<re.Match object; span=(0, 4), match='abbc'>"
            ]
          },
          "metadata": {},
          "execution_count": 48
        }
      ]
    },
    {
      "cell_type": "code",
      "metadata": {
        "id": "6rKFOAa-n5iT"
      },
      "source": [
        "r.search(\"abbbbbc\")"
      ],
      "execution_count": null,
      "outputs": []
    },
    {
      "cell_type": "code",
      "metadata": {
        "colab": {
          "base_uri": "https://localhost:8080/"
        },
        "id": "dETY6f16oQ4N",
        "outputId": "ed1e1c53-e5ee-4544-9b87-0a2db1847a5e"
      },
      "source": [
        "r = re.compile(\"ab{2,8}c\")\n",
        "r.search('ac')\n",
        "# 아무런 결과도 출력되지 않음\n",
        "r.search(\"abc\")\n",
        "# 아무런 결과도 출력되지 않음\n",
        "r.search(\"abbc\")"
      ],
      "execution_count": null,
      "outputs": [
        {
          "output_type": "execute_result",
          "data": {
            "text/plain": [
              "<re.Match object; span=(0, 4), match='abbc'>"
            ]
          },
          "metadata": {},
          "execution_count": 50
        }
      ]
    },
    {
      "cell_type": "code",
      "metadata": {
        "colab": {
          "base_uri": "https://localhost:8080/"
        },
        "id": "pSy5xqYkoQ63",
        "outputId": "7b61b158-935d-4dac-c654-56721598e413"
      },
      "source": [
        "r.search(\"abbbbc\")"
      ],
      "execution_count": null,
      "outputs": [
        {
          "output_type": "execute_result",
          "data": {
            "text/plain": [
              "<re.Match object; span=(0, 6), match='abbbbc'>"
            ]
          },
          "metadata": {},
          "execution_count": 51
        }
      ]
    },
    {
      "cell_type": "code",
      "metadata": {
        "id": "yYt_Z16NoQ9l"
      },
      "source": [
        "r.search(\"abbbbbbbbbbbbbc\")"
      ],
      "execution_count": null,
      "outputs": []
    },
    {
      "cell_type": "code",
      "metadata": {
        "colab": {
          "base_uri": "https://localhost:8080/"
        },
        "id": "xYDNKfksoRAM",
        "outputId": "1cc0c117-8f0f-47b2-a051-18ff2286b05e"
      },
      "source": [
        "r = re.compile(\"a{2,}bc\")\n",
        "r.search(\"bc\")\n",
        "# 아무런 결과도 출력되지 않음\n",
        "r.search(\"aa\")\n",
        "# 아무런 결과도 출력되지 않음\n",
        "r.search(\"aabc\")"
      ],
      "execution_count": null,
      "outputs": [
        {
          "output_type": "execute_result",
          "data": {
            "text/plain": [
              "<re.Match object; span=(0, 4), match='aabc'>"
            ]
          },
          "metadata": {},
          "execution_count": 53
        }
      ]
    },
    {
      "cell_type": "code",
      "metadata": {
        "colab": {
          "base_uri": "https://localhost:8080/"
        },
        "id": "GMS5yC4PoRC2",
        "outputId": "82597ddd-8abf-401f-fefb-8478e01781e6"
      },
      "source": [
        "r.search(\"aaaaabc\")"
      ],
      "execution_count": null,
      "outputs": [
        {
          "output_type": "execute_result",
          "data": {
            "text/plain": [
              "<re.Match object; span=(0, 7), match='aaaaabc'>"
            ]
          },
          "metadata": {},
          "execution_count": 54
        }
      ]
    },
    {
      "cell_type": "markdown",
      "metadata": {
        "id": "95LIGxFfopJZ"
      },
      "source": [
        "[] : [ ] 안 문자들과 매치\n",
        "[a-zA-Z]\n",
        "[0–9]"
      ]
    },
    {
      "cell_type": "code",
      "metadata": {
        "colab": {
          "base_uri": "https://localhost:8080/"
        },
        "id": "IV1ubrIcoRFe",
        "outputId": "68b34f00-e486-4fbd-aa52-954eb2efb14a"
      },
      "source": [
        "r = re.compile(\"[abc]\")\n",
        "r.search('zzz')\n",
        "# 아무것도 출력되지 않음\n",
        "r.search('a')"
      ],
      "execution_count": null,
      "outputs": [
        {
          "output_type": "execute_result",
          "data": {
            "text/plain": [
              "<re.Match object; span=(0, 1), match='a'>"
            ]
          },
          "metadata": {},
          "execution_count": 55
        }
      ]
    },
    {
      "cell_type": "code",
      "metadata": {
        "colab": {
          "base_uri": "https://localhost:8080/"
        },
        "id": "5VdzaHtYoRJy",
        "outputId": "35e8f2ed-e05d-4f0a-9ad2-a8a2fa652901"
      },
      "source": [
        "r.search('acg')"
      ],
      "execution_count": null,
      "outputs": [
        {
          "output_type": "execute_result",
          "data": {
            "text/plain": [
              "<re.Match object; span=(0, 1), match='a'>"
            ]
          },
          "metadata": {},
          "execution_count": 56
        }
      ]
    },
    {
      "cell_type": "code",
      "metadata": {
        "colab": {
          "base_uri": "https://localhost:8080/"
        },
        "id": "cj_txezzot9l",
        "outputId": "f0044592-40c1-475d-a7cc-8659c80d6c92"
      },
      "source": [
        "r.search('babo')"
      ],
      "execution_count": null,
      "outputs": [
        {
          "output_type": "execute_result",
          "data": {
            "text/plain": [
              "<re.Match object; span=(0, 1), match='b'>"
            ]
          },
          "metadata": {},
          "execution_count": 57
        }
      ]
    },
    {
      "cell_type": "markdown",
      "metadata": {
        "id": "LwDQcJEPpAMv"
      },
      "source": [
        "[^문자]:  ^ 기호 뒤에 붙은 문자들을 제외한 모든 문자를 매치"
      ]
    },
    {
      "cell_type": "code",
      "metadata": {
        "colab": {
          "base_uri": "https://localhost:8080/"
        },
        "id": "6khEjAygouEM",
        "outputId": "d57c7b54-4ca6-43d9-8e89-9ea3f085eb1c"
      },
      "source": [
        "r = re.compile('[^abc]')\n",
        "r.search(\"a\")\n",
        "# 아무것도 출력되지 않음\n",
        "r.search(\"ahoho\")"
      ],
      "execution_count": null,
      "outputs": [
        {
          "output_type": "execute_result",
          "data": {
            "text/plain": [
              "<re.Match object; span=(1, 2), match='h'>"
            ]
          },
          "metadata": {},
          "execution_count": 58
        }
      ]
    },
    {
      "cell_type": "code",
      "metadata": {
        "colab": {
          "base_uri": "https://localhost:8080/"
        },
        "id": "EIZKaAHpouIH",
        "outputId": "568d573b-c61a-4ea3-bada-ce29bc7bf9b7"
      },
      "source": [
        "r.search(\"1st\")"
      ],
      "execution_count": null,
      "outputs": [
        {
          "output_type": "execute_result",
          "data": {
            "text/plain": [
              "<re.Match object; span=(0, 1), match='1'>"
            ]
          },
          "metadata": {},
          "execution_count": 59
        }
      ]
    },
    {
      "cell_type": "markdown",
      "metadata": {
        "id": "s24N9GSQpHiP"
      },
      "source": [
        "- re.match()와 re.search()의 차이\n",
        " - search()가 정규 표현식 전체에 대해서 문자열이 매치하는지를 본다면, match()는 문자열의 첫 부분부터 정규표현식과 매치하는지를 확인\n",
        "문자열 중간에 찾을 패턴이 있다고 하더라도, match 함수는 문자열의 시작에서 패턴이 일치하지 않으면 찾지 않음"
      ]
    },
    {
      "cell_type": "code",
      "metadata": {
        "colab": {
          "base_uri": "https://localhost:8080/"
        },
        "id": "jo7NJ8FFpGkx",
        "outputId": "248bebe9-6fbd-4be1-9260-13019f3d4271"
      },
      "source": [
        "r = re.compile(\"ab.\")\n",
        "r.search(\"kkkabc\")"
      ],
      "execution_count": null,
      "outputs": [
        {
          "output_type": "execute_result",
          "data": {
            "text/plain": [
              "<re.Match object; span=(3, 6), match='abc'>"
            ]
          },
          "metadata": {},
          "execution_count": 60
        }
      ]
    },
    {
      "cell_type": "code",
      "metadata": {
        "id": "F26A2vvVpUTP"
      },
      "source": [
        "r.match(\"kkkabc\")\n",
        "# 아무것도 출력되지 않음"
      ],
      "execution_count": null,
      "outputs": []
    },
    {
      "cell_type": "code",
      "metadata": {
        "colab": {
          "base_uri": "https://localhost:8080/"
        },
        "id": "3JOMnM1QpW7D",
        "outputId": "995bcb70-325d-42a9-a5b2-45320777cf68"
      },
      "source": [
        "r.match(\"abckkk\")"
      ],
      "execution_count": null,
      "outputs": [
        {
          "output_type": "execute_result",
          "data": {
            "text/plain": [
              "<re.Match object; span=(0, 3), match='abc'>"
            ]
          },
          "metadata": {},
          "execution_count": 62
        }
      ]
    },
    {
      "cell_type": "markdown",
      "metadata": {
        "id": "5xsVXDAvpZVq"
      },
      "source": [
        " - re.split(): 입력된 정규 표현식을 기준으로 문자열들을 분리하여 리스트로 리턴"
      ]
    },
    {
      "cell_type": "code",
      "metadata": {
        "colab": {
          "base_uri": "https://localhost:8080/"
        },
        "id": "eBqfSX0UpGn9",
        "outputId": "d2c52ec2-6b43-4b6c-eab0-c3d0dcaae4cf"
      },
      "source": [
        "text = \"사과 딸기 수박 멜론 바나나\"\n",
        "re.split(\" \",text)"
      ],
      "execution_count": null,
      "outputs": [
        {
          "output_type": "execute_result",
          "data": {
            "text/plain": [
              "['사과', '딸기', '수박', '멜론', '바나나']"
            ]
          },
          "metadata": {},
          "execution_count": 63
        }
      ]
    },
    {
      "cell_type": "code",
      "metadata": {
        "id": "AgBvcTRPpGt8",
        "colab": {
          "base_uri": "https://localhost:8080/"
        },
        "outputId": "f6aea399-773b-470e-c1e5-aa8cbc8f914f"
      },
      "source": [
        "text = \"\"\"사과\n",
        "딸기\n",
        "수박\n",
        "멜론\n",
        "바나나\"\"\"\n",
        "re.split(\"\\n\", text)"
      ],
      "execution_count": null,
      "outputs": [
        {
          "output_type": "execute_result",
          "data": {
            "text/plain": [
              "['사과', '딸기', '수박', '멜론', '바나나']"
            ]
          },
          "metadata": {},
          "execution_count": 64
        }
      ]
    },
    {
      "cell_type": "code",
      "metadata": {
        "colab": {
          "base_uri": "https://localhost:8080/"
        },
        "id": "KnQw92xFpG0I",
        "outputId": "950afa9d-8b06-4643-c2b5-d1ab8d3ce0a6"
      },
      "source": [
        "text = \"사과+딸기+수박+멜론+바나나\"\n",
        "re.split(\"\\+\", text)"
      ],
      "execution_count": null,
      "outputs": [
        {
          "output_type": "execute_result",
          "data": {
            "text/plain": [
              "['사과', '딸기', '수박', '멜론', '바나나']"
            ]
          },
          "metadata": {},
          "execution_count": 65
        }
      ]
    },
    {
      "cell_type": "markdown",
      "metadata": {
        "id": "kg2aGh9Wpfoi"
      },
      "source": [
        " - re.findall(): 정규 표현식과 매치되는 모든 문자열들을 리스트로 반환"
      ]
    },
    {
      "cell_type": "code",
      "metadata": {
        "id": "oeYg7WNnpG4K",
        "colab": {
          "base_uri": "https://localhost:8080/"
        },
        "outputId": "df79b024-80f5-46f7-c6ce-cd0a519fc8ed"
      },
      "source": [
        "text = \"\"\"이름 : 김철수\n",
        "전화번호 : 010 - 1234 - 1234\n",
        "나이 : 30\n",
        "성별 : 남\"\"\"\n",
        "re.findall(\"\\d+\", text)"
      ],
      "execution_count": null,
      "outputs": [
        {
          "output_type": "execute_result",
          "data": {
            "text/plain": [
              "['010', '1234', '1234', '30']"
            ]
          },
          "metadata": {},
          "execution_count": 66
        }
      ]
    },
    {
      "cell_type": "code",
      "metadata": {
        "colab": {
          "base_uri": "https://localhost:8080/"
        },
        "id": "jJKGJOyhpG7p",
        "outputId": "c02415d1-fed0-469c-cf48-368e67b1f1fa"
      },
      "source": [
        "re.findall(\"\\d+\", \"문자열입니당.\")"
      ],
      "execution_count": null,
      "outputs": [
        {
          "output_type": "execute_result",
          "data": {
            "text/plain": [
              "[]"
            ]
          },
          "metadata": {},
          "execution_count": 67
        }
      ]
    },
    {
      "cell_type": "markdown",
      "metadata": {
        "id": "IMvuNMA9pmDz"
      },
      "source": [
        " - re.sub()"
      ]
    },
    {
      "cell_type": "code",
      "metadata": {
        "colab": {
          "base_uri": "https://localhost:8080/"
        },
        "id": "agOy_pS6pG_6",
        "outputId": "437b33d2-1fbd-4c1f-862f-01762718f07c"
      },
      "source": [
        "text=\"Regular expression : A regular expression, regex or regexp[1] (sometimes called a rational expression)[2][3] is, in theoretical computer science and formal language theory, a sequence of characters that define a search pattern.\"\n",
        "re.sub('[^a-zA-Z]',' ',text)"
      ],
      "execution_count": null,
      "outputs": [
        {
          "output_type": "execute_result",
          "data": {
            "text/plain": [
              "'Regular expression   A regular expression  regex or regexp     sometimes called a rational expression        is  in theoretical computer science and formal language theory  a sequence of characters that define a search pattern '"
            ],
            "application/vnd.google.colaboratory.intrinsic+json": {
              "type": "string"
            }
          },
          "metadata": {},
          "execution_count": 68
        }
      ]
    },
    {
      "cell_type": "markdown",
      "metadata": {
        "id": "6ypWDGeuptnH"
      },
      "source": [
        "정규 표현식 텍스트 전처리 연습"
      ]
    },
    {
      "cell_type": "code",
      "metadata": {
        "id": "werXP728pwbr",
        "colab": {
          "base_uri": "https://localhost:8080/"
        },
        "outputId": "b8f35e05-6913-4fdd-b5c3-5d396d8bfeff"
      },
      "source": [
        "text = \"\"\"100 John    PROF\n",
        "101 James    STUD\n",
        "102 Mac    STUD\"\"\"\n",
        "re.split('\\s+', text)"
      ],
      "execution_count": null,
      "outputs": [
        {
          "output_type": "execute_result",
          "data": {
            "text/plain": [
              "['100', 'John', 'PROF', '101', 'James', 'STUD', '102', 'Mac', 'STUD']"
            ]
          },
          "metadata": {},
          "execution_count": 69
        }
      ]
    },
    {
      "cell_type": "markdown",
      "metadata": {
        "id": "6wbXUkKRpzg-"
      },
      "source": [
        "'\\s+' 는 공백 여러 개를 기준으로 split\n"
      ]
    },
    {
      "cell_type": "code",
      "metadata": {
        "colab": {
          "base_uri": "https://localhost:8080/"
        },
        "id": "SW5hRr0jpwsB",
        "outputId": "54c4debd-41af-41cb-822f-fe950140211f"
      },
      "source": [
        "re.findall('\\d+', text)"
      ],
      "execution_count": null,
      "outputs": [
        {
          "output_type": "execute_result",
          "data": {
            "text/plain": [
              "['100', '101', '102']"
            ]
          },
          "metadata": {},
          "execution_count": 70
        }
      ]
    },
    {
      "cell_type": "markdown",
      "metadata": {
        "id": "L2zf6Da5p3m8"
      },
      "source": [
        "'\\d+' 숫자 문자열을 반환"
      ]
    },
    {
      "cell_type": "code",
      "metadata": {
        "colab": {
          "base_uri": "https://localhost:8080/"
        },
        "id": "FzITueLxp480",
        "outputId": "34be4cce-d5c3-4bdc-9b3a-65c9f66d9c3d"
      },
      "source": [
        "re.findall('[A-Z]', text)"
      ],
      "execution_count": null,
      "outputs": [
        {
          "output_type": "execute_result",
          "data": {
            "text/plain": [
              "['J', 'P', 'R', 'O', 'F', 'J', 'S', 'T', 'U', 'D', 'M', 'S', 'T', 'U', 'D']"
            ]
          },
          "metadata": {},
          "execution_count": 71
        }
      ]
    },
    {
      "cell_type": "code",
      "metadata": {
        "colab": {
          "base_uri": "https://localhost:8080/"
        },
        "id": "oJ5NciT0pwvz",
        "outputId": "6f74a2af-b08c-4685-b6b3-2a19786e1eea"
      },
      "source": [
        "re.findall('[A-Z]{4}',text)"
      ],
      "execution_count": null,
      "outputs": [
        {
          "output_type": "execute_result",
          "data": {
            "text/plain": [
              "['PROF', 'STUD', 'STUD']"
            ]
          },
          "metadata": {},
          "execution_count": 72
        }
      ]
    },
    {
      "cell_type": "code",
      "metadata": {
        "colab": {
          "base_uri": "https://localhost:8080/"
        },
        "id": "Qh4Bddxvpwz3",
        "outputId": "f2af78ba-28c4-4020-e32a-a2e8ccd9ae97"
      },
      "source": [
        "re.findall('[A-Z][a-z]+', text)"
      ],
      "execution_count": null,
      "outputs": [
        {
          "output_type": "execute_result",
          "data": {
            "text/plain": [
              "['John', 'James', 'Mac']"
            ]
          },
          "metadata": {},
          "execution_count": 73
        }
      ]
    },
    {
      "cell_type": "markdown",
      "source": [
        "#2. 뉴스 수집"
      ],
      "metadata": {
        "id": "OV3yCggGLHWz"
      }
    },
    {
      "cell_type": "code",
      "source": [
        "from bs4 import BeautifulSoup\n",
        "import urllib\n",
        "import numpy as np\n",
        "import pandas as pd\n",
        "import time\n",
        "\n",
        "#----------------------------------------------#\n",
        "#변경할 부분\n",
        "startdate = \"2025.08.01\"\n",
        "enddate = \"2025.08.02\"\n",
        "searchword = \"전기차\" #검색어\n",
        "#----------------------------------------------#\n",
        "\n",
        "base_url = \"https://search.naver.com/search.naver?where=news&sm=tab_pge&query\"+urllib.parse.urlencode([('',searchword)], doseq=True)+\"&sort=1&photo=3&field=0&pd=3&ds=\"+startdate+\"&de=\"+enddate+\"&mynews=1&office_type=0&office_section_code=0&news_office_checked=&nso=so:dd,p:from\"+startdate.replace(\".\", \"\")+\"to\"+enddate.replace(\".\", \"\")+\",a:all&mynews=0&start=\"\n",
        "titles = [ ]\n",
        "urls = [ ]\n",
        "i=1\n",
        "\n",
        "while True:\n",
        " try:\n",
        "    time.sleep(0.45)\n",
        "    url = base_url+str(i)\n",
        "    html = urllib.request.urlopen(url).read()\n",
        "    soup = BeautifulSoup(html, 'html.parser')\n",
        "    t_url = soup.select('a[href^=\"https://n.news.naver.com/mnews/article/\"]')  #클래스 표시\n",
        "    t_len = len(t_url)\n",
        "    if t_len <1:\n",
        "        break\n",
        "\n",
        "    for j in np.arange(t_len)+1:\n",
        "            try:\n",
        "                url = soup.select('a[href^=\"https://n.news.naver.com/mnews/article/\"]')[j]['href']\n",
        "                urls.append(url)\n",
        "            except Exception as e:\n",
        "                continue\n",
        "    i=i+10\n",
        "\n",
        " except Exception as e:\n",
        "    continue\n",
        "\n",
        "result = pd.DataFrame({\"Url\": urls})\n",
        "result.Url[0] #1행 출력"
      ],
      "metadata": {
        "id": "DDtrZy-A4t1U"
      },
      "execution_count": null,
      "outputs": []
    },
    {
      "cell_type": "code",
      "source": [
        "result"
      ],
      "metadata": {
        "id": "sZ8pdq-f87T9"
      },
      "execution_count": null,
      "outputs": []
    },
    {
      "cell_type": "code",
      "source": [
        "\"news.naver.com\" in result.Url[0]"
      ],
      "metadata": {
        "id": "6n8kTOG42bZZ"
      },
      "execution_count": null,
      "outputs": []
    },
    {
      "cell_type": "markdown",
      "source": [
        " - 본문 수집"
      ],
      "metadata": {
        "id": "1PFFIKQUyUpF"
      }
    },
    {
      "cell_type": "code",
      "source": [
        "articles = []\n",
        "dates = []\n",
        "likes = []\n",
        "\n",
        "for i in result.Url:\n",
        "   try:\n",
        "    if( \"news.naver.com\" in i ):\n",
        "     print(i)\n",
        "     time.sleep(0.45)\n",
        "     html = urllib.request.urlopen(i).read()\n",
        "     soup = BeautifulSoup(html, 'html.parser')\n",
        "    article = soup.find('article', {'id': 'dic_area'})\n",
        "    for tag in article.find_all(['span', 'strong']):\n",
        "      tag.decompose()\n",
        "    for br in article.find_all('br'):\n",
        "      br.replace_with('\\n')\n",
        "    news = article.get_text(strip=True, separator='\\n')\n",
        "    articles.append(news)\n",
        "    time_span = soup.find('span', class_='_ARTICLE_DATE_TIME')\n",
        "    news_time = time_span.get('data-date-time')\n",
        "    dates.append(news_time)\n",
        "   except Exception as e:\n",
        "    print(e)\n",
        "    continue\n"
      ],
      "metadata": {
        "id": "RpxuhJDuyGD7"
      },
      "execution_count": null,
      "outputs": []
    },
    {
      "cell_type": "code",
      "source": [
        "result.to_csv(\"news.csv\")"
      ],
      "metadata": {
        "id": "RD3D3jkYBJyY"
      },
      "execution_count": null,
      "outputs": []
    },
    {
      "cell_type": "code",
      "source": [
        "# 수집된 내용을 표로 정리하기, news컬럼, date컬럼\n",
        "train_data = pd.DataFrame({'articles':articles, 'date':dates})\n",
        "train_data"
      ],
      "metadata": {
        "id": "pbrwdRK05FeV"
      },
      "execution_count": null,
      "outputs": []
    },
    {
      "cell_type": "markdown",
      "source": [
        "## 실습"
      ],
      "metadata": {
        "id": "hFdFmqkiOSMi"
      }
    },
    {
      "cell_type": "code",
      "source": [
        "import requests\n",
        "from bs4 import BeautifulSoup\n",
        "\n",
        "res = requests.get('https://www.naver.com')\n",
        "print('결과: ', res.status_code)  # 200은 정상적인 접속\n",
        "\n",
        "if res.status_code == 200:\n",
        "    soup = BeautifulSoup(res.text, 'html.parser')\n",
        "    print(\"페이지 제목:\", soup.title.string)\n",
        "\n",
        "    # 주요 헤드라인 링크와 텍스트 추출 예시\n",
        "    headlines = soup.find_all('a')[:10]\n",
        "    for i, h in enumerate(headlines, 1):\n",
        "        print(f\"{i}. {h.get_text(strip=True)} -> {h.get('href')}\")\n"
      ],
      "metadata": {
        "colab": {
          "base_uri": "https://localhost:8080/"
        },
        "id": "m7RRCdNuERtL",
        "outputId": "c6f5e2b8-b699-4de4-ef92-6813e54571ef"
      },
      "execution_count": null,
      "outputs": [
        {
          "output_type": "stream",
          "name": "stdout",
          "text": [
            "결과:  200\n",
            "페이지 제목: NAVER\n",
            "1. 상단영역 바로가기 -> #topAsideButton\n",
            "2. 서비스 메뉴 바로가기 -> #shortcutArea\n",
            "3. 새소식 블록 바로가기 -> #newsstand\n",
            "4. 쇼핑 블록 바로가기 -> #shopping\n",
            "5. 관심사 블록 바로가기 -> #feed\n",
            "6. MY 영역 바로가기 -> #account\n",
            "7. 위젯 보드 바로가기 -> #widgetboard\n",
            "8. 보기 설정 바로가기 -> #viewSetting\n"
          ]
        }
      ]
    },
    {
      "cell_type": "code",
      "source": [
        "import requests\n",
        "from bs4 import BeautifulSoup\n",
        "\n",
        "url = 'https://news.naver.com/section/105'  # IT/과학 뉴스 섹션\n",
        "res = requests.get(url)\n",
        "print('네이버 뉴스(IT/과학) 접속 결과: ', res.status_code)\n",
        "\n",
        "if res.status_code == 200:\n",
        "    soup = BeautifulSoup(res.text, 'html.parser')\n",
        "    print(\"페이지 제목:\", soup.title.string)\n",
        "\n",
        "    # 기사 제목 수집 (a 태그 중 class에 'sa_text_title' 또는 'cluster_text_headline' 포함)\n",
        "    titles = soup.find_all('a', class_='sa_text_title')\n",
        "    if not titles:\n",
        "        titles = soup.find_all('a', class_='cluster_text_headline')\n",
        "\n",
        "    print(\"\\n=== 기사 제목 수집 결과 ===\")\n",
        "    for i, t in enumerate(titles[:20], 1):  # 최대 20개 출력\n",
        "        print(f\"{i}. {t.get_text(strip=True)}\")\n"
      ],
      "metadata": {
        "colab": {
          "base_uri": "https://localhost:8080/"
        },
        "id": "xzYUHiy6HHgd",
        "outputId": "cafe9584-4e8f-4aa4-c50a-b60f85ce1702"
      },
      "execution_count": null,
      "outputs": [
        {
          "output_type": "stream",
          "name": "stdout",
          "text": [
            "네이버 뉴스(IT/과학) 접속 결과:  200\n",
            "페이지 제목: IT/과학 : 네이버 뉴스\n",
            "\n",
            "=== 기사 제목 수집 결과 ===\n",
            "1. 美 IT업계, 한미 정상회담 앞두고 '디지털 무역장벽 해소' 압박\n",
            "2. 직접 받지 않아도 된다… 아이폰이 대신 보이스피싱 차단해준다\n",
            "3. KT노조 \"조합원 사망을 정치도구로...거짓선동 책임 묻겠다\"\n",
            "4. 유영상 SKT대표 “5000억개 매개변수 AI 모델 연내 출시”\n",
            "5. '마이데이터' 확대 관련 한경협 \"정보·기업 기밀 유출 우려\"\n",
            "6. 세계 최대 게임쇼 '게임스컴 2025' 개막... K-게임, 글로벌 시장 출사표\n",
            "7. 인조이는 휴양지, 펍지는 전쟁터… 크래프톤 부스, 체험 열기 후끈[가봄]\n",
            "8. K-게임 리더들 올해도 게임스컴 발걸음…\"서구권 공략 박차\"\n",
            "9. 핀셋 집어 2㎜ 부품 '쓱'…'손기술' 좋아진 K-로봇 알렉스 공개 [팩플]\n",
            "10. 은밀히 접근, 인재 뽑아갔다…75조 쿠팡 만든 ‘사냥꾼 조직’\n",
            "11. 세수입 효자였는데…게임사 법인세 급감\n",
            "12. 내 아이 말더듬는 것은 유전자 탓?\n",
            "13. [해봄] 신더시티, 엔씨소프트 ‘변화’ 신호탄 될까\n",
            "14. 팔짱 끼고 핀셋도 쓴다… “로봇 같지 않은 로봇”\n",
            "15. AI가 통화요약·스팸차단하고 반려동물 X레이 진단…“이 모든 걸 국산 칩으로”\n",
            "16. '다크AI'의 등장…딥페이크 사기에 기업도 속수무책\n",
            "17. “푸틴, 트럼프와 통화서 젤렌스키와 모스크바 양자회담 제안”\n",
            "18. \"온 국민이 쓰는 '카톡', 15년 만에 바뀐다\"…인스타처럼 게시물 먼저 뜬다는데\n",
            "19. [게임스컴 라이브]삼성전자가 매년 '쾰른메세'서 게임팬 만나는 이유\n",
            "20. “이거 실화? 삼성 무슨 일이야?”…MZ 사이에서 난리난 ‘OLED 캠페인’\n"
          ]
        }
      ]
    },
    {
      "cell_type": "code",
      "source": [
        "import requests\n",
        "from bs4 import BeautifulSoup\n",
        "\n",
        "url = 'https://news.naver.com/section/105'  # IT/과학 뉴스 섹션\n",
        "res = requests.get(url)\n",
        "print('네이버 뉴스(IT/과학) 접속 결과: ', res.status_code)\n",
        "\n",
        "if res.status_code == 200:\n",
        "    soup = BeautifulSoup(res.text, 'html.parser')\n",
        "    print(\"페이지 제목:\", soup.title.string)\n",
        "\n",
        "    # 기사 제목과 URL 수집 (a 태그 중 class에 'sa_text_title' 또는 'cluster_text_headline' 포함)\n",
        "    titles = soup.find_all('a', class_='sa_text_title')\n",
        "    if not titles:\n",
        "        titles = soup.find_all('a', class_='cluster_text_headline')\n",
        "\n",
        "    print(\"\\n=== 기사 제목 및 URL 수집 결과 ===\")\n",
        "    for i, t in enumerate(titles[:20], 1):  # 최대 20개 출력\n",
        "        title_text = t.get_text(strip=True)\n",
        "        link = t.get('href')\n",
        "        print(f\"{i}. {title_text} -> {link}\")\n"
      ],
      "metadata": {
        "colab": {
          "base_uri": "https://localhost:8080/"
        },
        "id": "_zGUjoITIs1H",
        "outputId": "6ce600dc-6ab8-45c5-ff4a-1c7602dcb097"
      },
      "execution_count": null,
      "outputs": [
        {
          "output_type": "stream",
          "name": "stdout",
          "text": [
            "네이버 뉴스(IT/과학) 접속 결과:  200\n",
            "페이지 제목: IT/과학 : 네이버 뉴스\n",
            "\n",
            "=== 기사 제목 및 URL 수집 결과 ===\n",
            "1. 美 IT업계, 한미 정상회담 앞두고 '디지털 무역장벽 해소' 압박 -> https://n.news.naver.com/mnews/article/421/0008438494\n",
            "2. 직접 받지 않아도 된다… 아이폰이 대신 보이스피싱 차단해준다 -> https://n.news.naver.com/mnews/article/015/0005173288\n",
            "3. KT노조 \"조합원 사망을 정치도구로...거짓선동 책임 묻겠다\" -> https://n.news.naver.com/mnews/article/092/0002387006\n",
            "4. 유영상 SKT대표 “5000억개 매개변수 AI 모델 연내 출시” -> https://n.news.naver.com/mnews/article/030/0003342239\n",
            "5. '마이데이터' 확대 관련 한경협 \"정보·기업 기밀 유출 우려\" -> https://n.news.naver.com/mnews/article/055/0001285492\n",
            "6. 세계 최대 게임쇼 '게임스컴 2025' 개막... K-게임, 글로벌 시장 출사표 -> https://n.news.naver.com/mnews/article/014/0005394257\n",
            "7. 인조이는 휴양지, 펍지는 전쟁터… 크래프톤 부스, 체험 열기 후끈[가봄] -> https://n.news.naver.com/mnews/article/005/0001797097\n",
            "8. K-게임 리더들 올해도 게임스컴 발걸음…\"서구권 공략 박차\" -> https://n.news.naver.com/mnews/article/001/0015577062\n",
            "9. 핀셋 집어 2㎜ 부품 '쓱'…'손기술' 좋아진 K-로봇 알렉스 공개 [팩플] -> https://n.news.naver.com/mnews/article/025/0003463343\n",
            "10. 은밀히 접근, 인재 뽑아갔다…75조 쿠팡 만든 ‘사냥꾼 조직’ -> https://n.news.naver.com/mnews/article/025/0003463337\n",
            "11. 세수입 효자였는데…게임사 법인세 급감 -> https://n.news.naver.com/mnews/article/008/0005238735\n",
            "12. 내 아이 말더듬는 것은 유전자 탓? -> https://n.news.naver.com/mnews/article/053/0000051842\n",
            "13. [해봄] 신더시티, 엔씨소프트 ‘변화’ 신호탄 될까 -> https://n.news.naver.com/mnews/article/005/0001797147\n",
            "14. 팔짱 끼고 핀셋도 쓴다… “로봇 같지 않은 로봇” -> https://n.news.naver.com/mnews/article/023/0003924247\n",
            "15. AI가 통화요약·스팸차단하고 반려동물 X레이 진단…“이 모든 걸 국산 칩으로” -> https://n.news.naver.com/mnews/article/009/0005544898\n",
            "16. '다크AI'의 등장…딥페이크 사기에 기업도 속수무책 -> https://n.news.naver.com/mnews/article/006/0000131409\n",
            "17. “푸틴, 트럼프와 통화서 젤렌스키와 모스크바 양자회담 제안” -> https://n.news.naver.com/mnews/article/366/0001101738\n",
            "18. \"온 국민이 쓰는 '카톡', 15년 만에 바뀐다\"…인스타처럼 게시물 먼저 뜬다는데 -> https://n.news.naver.com/mnews/article/011/0004523251\n",
            "19. [게임스컴 라이브]삼성전자가 매년 '쾰른메세'서 게임팬 만나는 이유 -> https://n.news.naver.com/mnews/article/293/0000071394\n",
            "20. “이거 실화? 삼성 무슨 일이야?”…MZ 사이에서 난리난 ‘OLED 캠페인’ -> https://n.news.naver.com/mnews/article/016/0002517102\n"
          ]
        }
      ]
    },
    {
      "cell_type": "code",
      "source": [
        "import requests\n",
        "from bs4 import BeautifulSoup\n",
        "\n",
        "url = 'https://news.naver.com/section/105'  # IT/과학 뉴스 섹션\n",
        "res = requests.get(url)\n",
        "print('네이버 뉴스(IT/과학) 접속 결과: ', res.status_code)\n",
        "\n",
        "if res.status_code == 200:\n",
        "    soup = BeautifulSoup(res.text, 'html.parser')\n",
        "    print(\"페이지 제목:\", soup.title.string)\n",
        "\n",
        "    # 기사 제목과 URL 수집\n",
        "    titles = soup.find_all('a', class_='sa_text_title')\n",
        "    if not titles:\n",
        "        titles = soup.find_all('a', class_='cluster_text_headline')\n",
        "\n",
        "    print(\"\\n=== 기사 제목 및 URL 수집 결과 ===\")\n",
        "    for i, t in enumerate(titles[:5], 1):  # 최대 5개 기사만 본문 수집 예시\n",
        "        title_text = t.get_text(strip=True)\n",
        "        link = t.get('href')\n",
        "        print(f\"\\n{i}. {title_text} -> {link}\")\n",
        "\n",
        "        # 각 기사 페이지 접속\n",
        "        article_res = requests.get(link)\n",
        "        if article_res.status_code == 200:\n",
        "            article_soup = BeautifulSoup(article_res.text, 'html.parser')\n",
        "\n",
        "            # 본문 내용 수집 (네이버 뉴스 본문 class는 'go_trans _article_content' 또는 'newsct_article_text')\n",
        "            body = article_soup.find('article', class_='go_trans _article_content')\n",
        "            if not body:\n",
        "                body = article_soup.find('div', class_='newsct_article_text')\n",
        "\n",
        "            if body:\n",
        "                content = body.get_text(strip=True)\n",
        "                print(\"본문 미리보기:\", content[:200], \"...\")\n",
        "            else:\n",
        "                print(\"본문을 찾을 수 없음\")\n"
      ],
      "metadata": {
        "colab": {
          "base_uri": "https://localhost:8080/"
        },
        "id": "wy3p9KD1JCJC",
        "outputId": "2675184f-a169-42a6-8258-28a66e5f0ace"
      },
      "execution_count": null,
      "outputs": [
        {
          "output_type": "stream",
          "name": "stdout",
          "text": [
            "네이버 뉴스(IT/과학) 접속 결과:  200\n",
            "페이지 제목: IT/과학 : 네이버 뉴스\n",
            "\n",
            "=== 기사 제목 및 URL 수집 결과 ===\n",
            "\n",
            "1. 美 IT업계, 한미 정상회담 앞두고 '디지털 무역장벽 해소' 압박 -> https://n.news.naver.com/mnews/article/421/0008438494\n",
            "본문 미리보기: \"미국 기업에 불이익 주지 않겠다는 협정 받아야\"이재명 대통령이 지난 19일 서울 용산 대통령실 청사로 출근하며 서류를 보고 있다. (이재명 대통령 SNS. 재판매 및 DB 금지) 2025.8.20/뉴스1 ⓒ News1 허경 기자(서울=뉴스1) 손엄지 기자 = 한미 정상회담을 닷새 앞두고 미국 정보기술(IT) 업계가 당국에 온라인 플랫폼법, 고정밀 지도 데 ...\n",
            "\n",
            "2. 직접 받지 않아도 된다… 아이폰이 대신 보이스피싱 차단해준다 -> https://n.news.naver.com/mnews/article/015/0005173288\n",
            "본문 미리보기: “보험료 환급 대상자로 선정되셨습니다. 계좌번호를 알려주실 수 있나요?”보이스피싱 전화가 걸려오자 아이폰이 대신 발신자에게 용건을 물었다. 수신자는 직접 통화하지 않고 화면에 표시된 내용을 확인한 뒤 전화를 받지 않고 끊을 수 있었다. 가을에 출시될 애플의 새 운영체제 iOS 26에 탑재되는 ‘통화 스크리닝’ 기능의 실제 작동 모습이다.애플은 20일 서울  ...\n",
            "\n",
            "3. KT노조 \"조합원 사망을 정치도구로...거짓선동 책임 묻겠다\" -> https://n.news.naver.com/mnews/article/092/0002387006\n",
            "본문 미리보기: \"유가족 만류에도 확인되지 않은 사실 유포\"KT노동조합이 회사 2노조가 회사의 조직개편 이후 직원이 잇따라 죽음에 내몰렸다는 주장에 대해 “근거 없는 선전선동을 즉각 중단하라”고 밝혔다.20일 KT노조는 성명을 내고 “새노조(2노조)는 KT노동조합이 사업구조 개편 진행 후 조합원들을 방치했다는 근거 없는 거짓선동을 하고 있다”며 “새노조가 KT노동조합의 명 ...\n",
            "\n",
            "4. 유영상 SKT대표 “5000억개 매개변수 AI 모델 연내 출시” -> https://n.news.naver.com/mnews/article/030/0003342239\n",
            "본문 미리보기: 유영상 SK텔레콤 대표가 MWC25 기자간담회에서 AI사업 고도화 전략을 설명하고 있다. 김민수 mskim@etnews.com유영상 SK텔레콤 대표가 연내 5000억개 매개변수를 가진 독자 인공지능(AI) 파운데이션 모델을 출시하겠다고 밝혔다. SK텔레콤은 정부의 독자 AI 파운데이션 모델 프로젝트 최종 2개팀에 선정되겠다는 의지도 피력했다.20일 유 대표 ...\n",
            "\n",
            "5. '마이데이터' 확대 관련 한경협 \"정보·기업 기밀 유출 우려\" -> https://n.news.naver.com/mnews/article/055/0001285492\n",
            "본문 미리보기: ▲ 한경협 '마이데이터 전분야 확대 영향과 과제' 세미나정부가 추진하는 마이데이터의 본인 전송 요구권 확대가 국내 데이터 산업에 대한 투자 위축과 성장 저하를 초래하고, 기업 기밀 유출을 야기할 수 있다는 우려가 제기됐습니다.한국경제인협회(한경협)는 오늘(20일) 한국인터넷기업협회와 함께 '마이데이터 전 분야 확대의 영향과 과제' 세미나를 열었습니다.마이데 ...\n"
          ]
        }
      ]
    },
    {
      "cell_type": "code",
      "source": [
        "import requests\n",
        "from bs4 import BeautifulSoup\n",
        "import re\n",
        "import json\n",
        "from datetime import datetime\n",
        "from pathlib import Path\n",
        "\n",
        "URL = \"https://www.ntis.go.kr/rndgate/eg/un/ra/mng.do?searchCondition=1m\"\n",
        "OUT = \"ntis_rndgate.json\"\n",
        "\n",
        "# YYYY-MM-DD / YYYY.MM.DD / YYYY/MM/DD 탐지\n",
        "DATE_RE = r\"(20\\d{2})[-./](\\d{2})[-./](\\d{2})\"\n",
        "DATE_PAIR_RE = re.compile(\n",
        "    rf\"{DATE_RE}\\s*[\\-~–]\\s*{DATE_RE}\"\n",
        ")\n",
        "DATE_SINGLE_RE = re.compile(DATE_RE)\n",
        "\n",
        "def norm_date(y, m, d):\n",
        "    return f\"{int(y):04d}-{int(m):02d}-{int(d):02d}\"\n",
        "\n",
        "def extract_dates(text: str):\n",
        "    text = re.sub(r\"\\s+\", \" \", text)\n",
        "    # 범위 우선: 개시일 ~ 마감일\n",
        "    m = DATE_PAIR_RE.search(text)\n",
        "    if m:\n",
        "        y1, m1, d1, y2, m2, d2 = m.groups()\n",
        "        return norm_date(y1, m1, d1), norm_date(y2, m2, d2)\n",
        "    # 개별 날짜 2개 이상이면 앞의 2개 사용\n",
        "    singles = DATE_SINGLE_RE.findall(text)\n",
        "    if len(singles) >= 2:\n",
        "        (y1, m1, d1), (y2, m2, d2) = singles[0], singles[1]\n",
        "        return norm_date(y1, m1, d1), norm_date(y2, m2, d2)\n",
        "    elif len(singles) == 1:\n",
        "        (y1, m1, d1) = singles[0]\n",
        "        return norm_date(y1, m1, d1), \"\"\n",
        "    else:\n",
        "        return \"\", \"\"\n",
        "\n",
        "def clean_text(el):\n",
        "    return el.get_text(\" \", strip=True) if el else \"\"\n",
        "\n",
        "def parse_table_rows(soup: BeautifulSoup):\n",
        "    items = []\n",
        "    # 흔한 구조: table > tbody > tr\n",
        "    for tr in soup.select(\"table tbody tr\"):\n",
        "        tds = tr.find_all(\"td\")\n",
        "        if not tds:\n",
        "            continue\n",
        "        # 제목은 보통 링크(a)에 존재\n",
        "        title_el = tr.select_one(\"td a\") or (tds[0].find(\"a\") if tds else None)\n",
        "        title = clean_text(title_el) or clean_text(tr)\n",
        "\n",
        "        # 행 전체 텍스트에서 날짜 추출\n",
        "        row_text = \" \".join(clean_text(td) for td in tds)\n",
        "        start_date, end_date = extract_dates(row_text)\n",
        "\n",
        "        if title:\n",
        "            items.append({\n",
        "                \"title\": title,\n",
        "                \"start_date\": start_date,\n",
        "                \"end_date\": end_date\n",
        "            })\n",
        "    return items\n",
        "\n",
        "def parse_cards(soup: BeautifulSoup):\n",
        "    items = []\n",
        "    # 카드/리스트형 대응: li, div.card, div.board-list 등\n",
        "    selectors = [\n",
        "        \"ul li\",\n",
        "        \"div.card, div.cards .card\",\n",
        "        \"div.board-list li\",\n",
        "        \"div.board-list .row\",\n",
        "        \"div.list li\",\n",
        "    ]\n",
        "    for sel in selectors:\n",
        "        for box in soup.select(sel):\n",
        "            # 제목 후보: a/strong/h3\n",
        "            title_el = (\n",
        "                box.select_one(\"a.title, a.subj, a\") or\n",
        "                box.select_one(\"strong, h3, .title, .subject\")\n",
        "            )\n",
        "            title = clean_text(title_el) or clean_text(box)\n",
        "            text = clean_text(box)\n",
        "            start_date, end_date = extract_dates(text)\n",
        "            if title:\n",
        "                items.append({\n",
        "                    \"title\": title,\n",
        "                    \"start_date\": start_date,\n",
        "                    \"end_date\": end_date\n",
        "                })\n",
        "    return items\n",
        "\n",
        "def scrape_first_page(url=URL, out_path=OUT):\n",
        "    headers = {\n",
        "        \"User-Agent\": \"Mozilla/5.0 (Windows NT 10.0; Win64; x64) \"\n",
        "                      \"AppleWebKit/537.36 (KHTML, like Gecko) \"\n",
        "                      \"Chrome/120.0.0.0 Safari/537.36\",\n",
        "        \"Accept-Language\": \"ko-KR,ko;q=0.9,en-US;q=0.8,en;q=0.7\",\n",
        "    }\n",
        "    with requests.Session() as s:\n",
        "        r = s.get(url, headers=headers, timeout=20)\n",
        "        r.raise_for_status()\n",
        "        soup = BeautifulSoup(r.text, \"html.parser\")\n",
        "\n",
        "    items = []\n",
        "    # 1) 테이블 우선\n",
        "    items.extend(parse_table_rows(soup))\n",
        "    # 2) 보조: 카드/리스트\n",
        "    if not items:\n",
        "        items.extend(parse_cards(soup))\n",
        "\n",
        "    # 중복 제거\n",
        "    seen = set()\n",
        "    dedup = []\n",
        "    for it in items:\n",
        "        key = (it[\"title\"], it[\"start_date\"], it[\"end_date\"])\n",
        "        if it[\"title\"] and key not in seen:\n",
        "            seen.add(key)\n",
        "            dedup.append(it)\n",
        "\n",
        "    payload = {\n",
        "        \"source\": url,\n",
        "        \"scraped_at\": datetime.now().strftime(\"%Y-%m-%d %H:%M:%S\"),\n",
        "        \"count\": len(dedup),\n",
        "        \"items\": dedup\n",
        "    }\n",
        "\n",
        "    Path(out_path).parent.mkdir(parents=True, exist_ok=True)\n",
        "    with open(out_path, \"w\", encoding=\"utf-8\") as f:\n",
        "        json.dump(payload, f, ensure_ascii=False, indent=2)\n",
        "\n",
        "    print(f\"Saved {len(dedup)} items to {out_path}\")\n",
        "\n",
        "if __name__ == \"__main__\":\n",
        "    scrape_first_page()\n"
      ],
      "metadata": {
        "colab": {
          "base_uri": "https://localhost:8080/"
        },
        "id": "mTCMwZklg_ts",
        "outputId": "48201828-fb5d-4b7f-8777-3cc292d23502"
      },
      "execution_count": null,
      "outputs": [
        {
          "output_type": "stream",
          "name": "stdout",
          "text": [
            "Saved 19 items to ntis_rndgate.json\n"
          ]
        }
      ]
    },
    {
      "cell_type": "code",
      "source": [
        "import requests\n",
        "from bs4 import BeautifulSoup\n",
        "import re\n",
        "import json\n",
        "import time\n",
        "from datetime import datetime\n",
        "from urllib.parse import urlparse, parse_qs, urlencode, urlunparse\n",
        "\n",
        "BASE_URL = \"https://www.ntis.go.kr/rndgate/eg/un/ra/mng.do?searchCondition=1m\"\n",
        "OUT = \"ntis_rndgate_p1_3.json\"\n",
        "\n",
        "# 날짜 패턴(YYYY-MM-DD / YYYY.MM.DD / YYYY/MM/DD)\n",
        "DATE_RE = r\"(20\\d{2})[-./](\\d{2})[-./](\\d{2})\"\n",
        "DATE_PAIR_RE = re.compile(rf\"{DATE_RE}\\s*[\\-~–]\\s*{DATE_RE}\")\n",
        "DATE_SINGLE_RE = re.compile(DATE_RE)\n",
        "\n",
        "def norm_date(y, m, d):\n",
        "    return f\"{int(y):04d}-{int(m):02d}-{int(d):02d}\"\n",
        "\n",
        "def extract_dates(text: str):\n",
        "    text = re.sub(r\"\\s+\", \" \", text)\n",
        "    m = DATE_PAIR_RE.search(text)\n",
        "    if m:\n",
        "        y1, m1, d1, y2, m2, d2 = m.groups()\n",
        "        return norm_date(y1, m1, d1), norm_date(y2, m2, d2)\n",
        "    singles = DATE_SINGLE_RE.findall(text)\n",
        "    if len(singles) >= 2:\n",
        "        (y1, m1, d1), (y2, m2, d2) = singles[0], singles[1]\n",
        "        return norm_date(y1, m1, d1), norm_date(y2, m2, d2)\n",
        "    elif len(singles) == 1:\n",
        "        (y1, m1, d1) = singles[0]\n",
        "        return norm_date(y1, m1, d1), \"\"\n",
        "    return \"\", \"\"\n",
        "\n",
        "def clean_text(el):\n",
        "    return el.get_text(\" \", strip=True) if el else \"\"\n",
        "\n",
        "def parse_table_rows(soup: BeautifulSoup):\n",
        "    items = []\n",
        "    for tr in soup.select(\"table tbody tr\"):\n",
        "        tds = tr.find_all(\"td\")\n",
        "        if not tds:\n",
        "            continue\n",
        "        title_el = tr.select_one(\"td a\") or (tds[0].find(\"a\") if tds else None)\n",
        "        title = clean_text(title_el) or clean_text(tr)\n",
        "        row_text = \" \".join(clean_text(td) for td in tds)\n",
        "        start_date, end_date = extract_dates(row_text)\n",
        "        if title:\n",
        "            items.append({\"title\": title, \"start_date\": start_date, \"end_date\": end_date})\n",
        "    return items\n",
        "\n",
        "def parse_cards(soup: BeautifulSoup):\n",
        "    items = []\n",
        "    selectors = [\n",
        "        \"ul li\",\n",
        "        \"div.card, div.cards .card\",\n",
        "        \"div.board-list li\",\n",
        "        \"div.board-list .row\",\n",
        "        \"div.list li\",\n",
        "    ]\n",
        "    for sel in selectors:\n",
        "        for box in soup.select(sel):\n",
        "            title_el = (\n",
        "                box.select_one(\"a.title, a.subj, a\") or\n",
        "                box.select_one(\"strong, h3, .title, .subject\")\n",
        "            )\n",
        "            title = clean_text(title_el) or clean_text(box)\n",
        "            text = clean_text(box)\n",
        "            start_date, end_date = extract_dates(text)\n",
        "            if title:\n",
        "                items.append({\"title\": title, \"start_date\": start_date, \"end_date\": end_date})\n",
        "    return items\n",
        "\n",
        "def build_page_url(base_url: str, page_param: str, page_no: int) -> str:\n",
        "    \"\"\"기존 쿼리를 유지하며 page 파라미터만 추가/갱신\"\"\"\n",
        "    u = urlparse(base_url)\n",
        "    q = parse_qs(u.query)\n",
        "    q[page_param] = [str(page_no)]\n",
        "    new_query = urlencode({k: v[0] if isinstance(v, list) else v for k, v in q.items()})\n",
        "    return urlunparse((u.scheme, u.netloc, u.path, u.params, new_query, u.fragment))\n",
        "\n",
        "def fetch_page(session: requests.Session, url: str):\n",
        "    r = session.get(url, timeout=20)\n",
        "    r.raise_for_status()\n",
        "    return BeautifulSoup(r.text, \"html.parser\")\n",
        "\n",
        "def extract_items_from_soup(soup: BeautifulSoup):\n",
        "    items = parse_table_rows(soup)\n",
        "    if not items:\n",
        "        items = parse_cards(soup)\n",
        "    return items\n",
        "\n",
        "def detect_working_page_param(session: requests.Session, base_url: str, candidates=None):\n",
        "    \"\"\"페이지 2로 바꿔보며 데이터가 나오는 파라미터를 자동 탐지\"\"\"\n",
        "    if candidates is None:\n",
        "        candidates = [\"pageIndex\", \"pageNo\", \"page\", \"currentPageNo\", \"page_number\"]\n",
        "    for param in candidates:\n",
        "        test_url = build_page_url(base_url, param, 2)\n",
        "        try:\n",
        "            soup = fetch_page(session, test_url)\n",
        "            if extract_items_from_soup(soup):\n",
        "                return param\n",
        "        except Exception:\n",
        "            pass\n",
        "    return None\n",
        "\n",
        "def scrape_pages_1_to_3(base_url=BASE_URL, out_path=OUT):\n",
        "    headers = {\n",
        "        \"User-Agent\": (\"Mozilla/5.0 (Windows NT 10.0; Win64; x64) \"\n",
        "                       \"AppleWebKit/537.36 (KHTML, like Gecko) \"\n",
        "                       \"Chrome/120.0.0.0 Safari/537.36\"),\n",
        "        \"Accept-Language\": \"ko-KR,ko;q=0.9,en-US;q=0.8,en;q=0.7\",\n",
        "    }\n",
        "    all_items = []\n",
        "    seen = set()\n",
        "\n",
        "    with requests.Session() as s:\n",
        "        s.headers.update(headers)\n",
        "\n",
        "        # p=1 (기본 URL) 먼저 수집\n",
        "        soup1 = fetch_page(s, base_url)\n",
        "        page1_items = extract_items_from_soup(soup1)\n",
        "        for it in page1_items:\n",
        "            key = (it[\"title\"], it[\"start_date\"], it[\"end_date\"])\n",
        "            if key not in seen:\n",
        "                seen.add(key)\n",
        "                all_items.append(it)\n",
        "\n",
        "        # 페이지 파라미터 자동 감지\n",
        "        page_param = detect_working_page_param(s, base_url)\n",
        "        if not page_param:\n",
        "            # 감지 실패 시, 그래도 가장 흔한 pageIndex로 시도\n",
        "            page_param = \"pageIndex\"\n",
        "\n",
        "        # p=2..3 반복\n",
        "        for p in (2, 3):\n",
        "            page_url = build_page_url(base_url, page_param, p)\n",
        "            try:\n",
        "                soup = fetch_page(s, page_url)\n",
        "                items = extract_items_from_soup(soup)\n",
        "                if not items:\n",
        "                    # 이 페이지에 아이템이 없으면 중단(마지막 페이지일 수 있음)\n",
        "                    break\n",
        "                for it in items:\n",
        "                    key = (it[\"title\"], it[\"start_date\"], it[\"end_date\"])\n",
        "                    if key not in seen:\n",
        "                        seen.add(key)\n",
        "                        all_items.append(it)\n",
        "                time.sleep(0.8)  # 서버 부하 방지\n",
        "            except Exception:\n",
        "                # 페이지 전환 실패 시 다음 페이지 시도\n",
        "                continue\n",
        "\n",
        "    payload = {\n",
        "        \"source\": base_url,\n",
        "        \"page_param\": page_param,\n",
        "        \"scraped_at\": datetime.now().strftime(\"%Y-%m-%d %H:%M:%S\"),\n",
        "        \"count\": len(all_items),\n",
        "        \"items\": all_items,\n",
        "    }\n",
        "    with open(out_path, \"w\", encoding=\"utf-8\") as f:\n",
        "        json.dump(payload, f, ensure_ascii=False, indent=2)\n",
        "\n",
        "    print(f\"[param={page_param}] Saved {len(all_items)} items to {out_path}\")\n",
        "\n",
        "if __name__ == \"__main__\":\n",
        "    scrape_pages_1_to_3()\n"
      ],
      "metadata": {
        "colab": {
          "base_uri": "https://localhost:8080/"
        },
        "id": "q4NfIMsPi5mO",
        "outputId": "f98bf7c7-b07c-4998-f42b-55cd34563852"
      },
      "execution_count": null,
      "outputs": [
        {
          "output_type": "stream",
          "name": "stdout",
          "text": [
            "[param=pageIndex] Saved 38 items to ntis_rndgate_p1_3.json\n"
          ]
        }
      ]
    },
    {
      "cell_type": "code",
      "source": [
        "import requests\n",
        "from bs4 import BeautifulSoup\n",
        "from urllib.parse import urljoin\n",
        "import pandas as pd\n",
        "import time\n",
        "import re\n",
        "\n",
        "LIST_URL = \"https://news.naver.com/breakingnews/section/105/731\"\n",
        "OUT_CSV  = \"naver_breaking_it_731.csv\"\n",
        "SLEEP    = 0.4  # 예의상 대기\n",
        "\n",
        "HEADERS = {\n",
        "    \"User-Agent\": (\n",
        "        \"Mozilla/5.0 (Windows NT 10.0; Win64; x64) \"\n",
        "        \"AppleWebKit/537.36 (KHTML, like Gecko) \"\n",
        "        \"Chrome/124.0.0.0 Safari/537.36\"\n",
        "    ),\n",
        "    \"Accept-Language\": \"ko-KR,ko;q=0.9,en-US;q=0.8\",\n",
        "}\n",
        "\n",
        "def get_soup(session: requests.Session, url: str) -> BeautifulSoup:\n",
        "    r = session.get(url, timeout=20)\n",
        "    r.raise_for_status()\n",
        "    return BeautifulSoup(r.text, \"html.parser\")\n",
        "\n",
        "def clean_text(s: str) -> str:\n",
        "    if not s:\n",
        "        return \"\"\n",
        "    # 연속 공백/개행 정리\n",
        "    s = re.sub(r\"\\r\\n|\\r|\\n\", \"\\n\", s)\n",
        "    s = re.sub(r\"[ \\t\\xa0]+\", \" \", s)\n",
        "    s = re.sub(r\"\\n{3,}\", \"\\n\\n\", s).strip()\n",
        "    return s\n",
        "\n",
        "def extract_list_items(soup: BeautifulSoup):\n",
        "    \"\"\"\n",
        "    목록 페이지에서 기사명/URL/신문사/시간을 최대한 견고하게 추출\n",
        "    \"\"\"\n",
        "    items = []\n",
        "\n",
        "    # 1) 새 디자인: 카드형 리스트 (sa_* 클래스)\n",
        "    #   - 제목: .sa_text_title 또는 .sa_text_strong\n",
        "    #   - 신문사: .sa_text_press\n",
        "    #   - 시간: .sa_text_datetime\n",
        "    for card in soup.select(\"ul.sa_list li.sa_item, div.sa_item\"):\n",
        "        # 제목/URL\n",
        "        title_el = (\n",
        "            card.select_one(\"a.sa_text_title\") or\n",
        "            card.select_one(\"a.sa_text\") or\n",
        "            card.select_one(\".sa_text strong a, .sa_text_strong a\") or\n",
        "            card.select_one(\"a\")\n",
        "        )\n",
        "        if not title_el:\n",
        "            continue\n",
        "        title = title_el.get_text(\" \", strip=True)\n",
        "        href  = title_el.get(\"href\") or \"\"\n",
        "        if href and href.startswith(\"/\"):\n",
        "            href = urljoin(\"https://news.naver.com\", href)\n",
        "        # n.news.naver.com 도 허용\n",
        "        if href and href.startswith(\"//\"):\n",
        "            href = \"https:\" + href\n",
        "\n",
        "        # 신문사/시간\n",
        "        press_el = card.select_one(\".sa_text_press\") or card.select_one(\".press\")\n",
        "        press = press_el.get_text(strip=True) if press_el else \"\"\n",
        "\n",
        "        time_el = card.select_one(\".sa_text_datetime\") or card.select_one(\".date, time\")\n",
        "        timestr = time_el.get_text(strip=True) if time_el else \"\"\n",
        "\n",
        "        if title and href:\n",
        "            items.append({\n",
        "                \"title\": clean_text(title),\n",
        "                \"url\": href,\n",
        "                \"press\": clean_text(press),\n",
        "                \"time\": clean_text(timestr),\n",
        "            })\n",
        "\n",
        "    # 2) 구형/대체 리스트 셀렉터 (혹시 1)이 비었다면)\n",
        "    if not items:\n",
        "        for li in soup.select(\"ul > li\"):\n",
        "            # 제목 후보\n",
        "            a = (\n",
        "                li.select_one(\"a[href*='n.news.naver.com']\") or\n",
        "                li.select_one(\"a[href*='news.naver.com']\") or\n",
        "                li.find(\"a\")\n",
        "            )\n",
        "            if not a:\n",
        "                continue\n",
        "            title = a.get_text(\" \", strip=True)\n",
        "            href  = a.get(\"href\") or \"\"\n",
        "            if href and href.startswith(\"/\"):\n",
        "                href = urljoin(\"https://news.naver.com\", href)\n",
        "            if href and href.startswith(\"//\"):\n",
        "                href = \"https:\" + href\n",
        "\n",
        "            # 신문사/시간 후보\n",
        "            press_el = li.select_one(\".press, .writing, .sa_text_press\")\n",
        "            press = press_el.get_text(strip=True) if press_el else \"\"\n",
        "\n",
        "            time_el = li.select_one(\"time, .date, .sa_text_datetime\")\n",
        "            timestr = time_el.get_text(strip=True) if time_el else \"\"\n",
        "\n",
        "            if title and href and \"news.naver.com\" in href:\n",
        "                items.append({\n",
        "                    \"title\": clean_text(title),\n",
        "                    \"url\": href,\n",
        "                    \"press\": clean_text(press),\n",
        "                    \"time\": clean_text(timestr),\n",
        "                })\n",
        "\n",
        "    # 중복 제거 (URL 기준)\n",
        "    uniq, seen = [], set()\n",
        "    for it in items:\n",
        "        u = it[\"url\"]\n",
        "        if u not in seen:\n",
        "            seen.add(u)\n",
        "            uniq.append(it)\n",
        "    return uniq\n",
        "\n",
        "def extract_article(session: requests.Session, url: str):\n",
        "    \"\"\"\n",
        "    기사 본문/신문사/시간을 기사 상세에서 한 번 더 정교하게 추출\n",
        "    (목록 정보 보강용)\n",
        "    \"\"\"\n",
        "    soup = get_soup(session, url)\n",
        "\n",
        "    # 본문 후보 영역(신·구 레이아웃 대응)\n",
        "    body_el = (\n",
        "        soup.select_one(\"#newsct_article\") or\n",
        "        soup.select_one(\"#dic_area\") or\n",
        "        soup.select_one(\"article#newsct_article\") or\n",
        "        soup.select_one(\"div#articeBody, div#articleBody, #articleBodyContents\")\n",
        "    )\n",
        "\n",
        "    body_text = \"\"\n",
        "    if body_el:\n",
        "        # 광고/불필요 요소 제거\n",
        "        for bad in body_el.select(\"script, style, figure, .ad, .promo, .promotion, .copyright\"):\n",
        "            bad.decompose()\n",
        "        # 줄바꿈 보존\n",
        "        for br in body_el.find_all(\"br\"):\n",
        "            br.replace_with(\"\\n\")\n",
        "        body_text = body_el.get_text(\"\\n\", strip=True)\n",
        "\n",
        "    # 신문사(상세 기준으로 보정)\n",
        "    press = \"\"\n",
        "    press_el = (\n",
        "        soup.select_one(\".media_end_head_top_logo img[alt]\") or\n",
        "        soup.select_one(\".media_end_head_top .media_end_linked_more_point\") or\n",
        "        soup.select_one(\"a.media_end_head_top_logo\") or\n",
        "        soup.select_one(\"meta[property='og:article:author']\")\n",
        "    )\n",
        "    if press_el:\n",
        "        if press_el.name == \"meta\":\n",
        "            press = press_el.get(\"content\", \"\")\n",
        "        else:\n",
        "            press = press_el.get(\"alt\") or press_el.get_text(strip=True) or \"\"\n",
        "\n",
        "    # 시간(발행/수정) - 텍스트/메타 둘 다 시도\n",
        "    timestr = \"\"\n",
        "    t = soup.select_one(\"span.media_end_head_info_datestamp_time\")\n",
        "    if t:\n",
        "        timestr = t.get_text(\" \", strip=True)\n",
        "    if not timestr:\n",
        "        meta_pub = soup.select_one(\"meta[property='og:article:published_time']\")\n",
        "        if meta_pub and meta_pub.get(\"content\"):\n",
        "            timestr = meta_pub[\"content\"]\n",
        "\n",
        "    return clean_text(press), clean_text(timestr), clean_text(body_text)\n",
        "\n",
        "def run():\n",
        "    rows = []\n",
        "    with requests.Session() as s:\n",
        "        s.headers.update(HEADERS)\n",
        "\n",
        "        # 1) 목록 수집\n",
        "        soup = get_soup(s, LIST_URL)\n",
        "        items = extract_list_items(soup)\n",
        "        if not items:\n",
        "            print(\"목록에서 기사를 찾지 못했습니다. 페이지 구조를 확인해주세요.\")\n",
        "            return\n",
        "\n",
        "        # 2) 각 기사 상세 수집\n",
        "        for i, it in enumerate(items, 1):\n",
        "            try:\n",
        "                press_d, time_d, body = extract_article(s, it[\"url\"])\n",
        "                press = press_d or it[\"press\"]\n",
        "                timestr = time_d or it[\"time\"]\n",
        "                rows.append({\n",
        "                    \"title\": it[\"title\"],\n",
        "                    \"url\": it[\"url\"],\n",
        "                    \"press\": press,\n",
        "                    \"time\": timestr,\n",
        "                    \"body\": body\n",
        "                })\n",
        "                print(f\"[{i}/{len(items)}] OK - {it['title'][:40]}...\")\n",
        "                time.sleep(SLEEP)\n",
        "            except Exception as e:\n",
        "                print(f\"[{i}/{len(items)}] FAIL - {it['url']} ({e})\")\n",
        "\n",
        "    if not rows:\n",
        "        print(\"수집 결과가 없습니다.\")\n",
        "        return\n",
        "\n",
        "    # 3) CSV 저장 (UTF-8-SIG: 엑셀 한글 호환)\n",
        "    df = pd.DataFrame(rows, columns=[\"title\", \"url\", \"press\", \"time\", \"body\"])\n",
        "    df.to_csv(OUT_CSV, index=False, encoding=\"utf-8-sig\")\n",
        "    print(f\"\\n총 {len(df)}건 저장 완료 → {OUT_CSV}\")\n",
        "\n",
        "if __name__ == \"__main__\":\n",
        "    run()\n"
      ],
      "metadata": {
        "colab": {
          "base_uri": "https://localhost:8080/"
        },
        "id": "xHrnnpDnpphR",
        "outputId": "071a5a21-f256-43cc-908d-90f1c59d95b8"
      },
      "execution_count": null,
      "outputs": [
        {
          "output_type": "stream",
          "name": "stdout",
          "text": [
            "[1/36] OK - \"가게 맞춤 광고비 조정\" 배민, 자동입찰 시범운영...\n",
            "[2/36] OK - [오늘의 주요일정]과기정통부·방통위·우주청(8월21일 목요일)...\n",
            "[3/36] OK - 구글, 스마트폰 '픽셀10 시리즈' 출시…AI 기능 한층 강화...\n",
            "[4/36] OK - \"온 국민이 쓰는 '카톡', 15년 만에 바뀐다\"…인스타처럼 게시물 먼저...\n",
            "[5/36] OK - 특검도 못 여는 아이폰, 보안 더 강화.. 모르는 번호 전화 관리까지...\n",
            "[6/36] OK - KT 1노조 \"새노조, 조합원 사망 정치도구로 이용 중단해야\"...\n",
            "[7/36] OK - '제2 지브리' 열풍 이끈 이미지 AI '나노 바나나', 구글 행사서 베...\n",
            "[8/36] OK - 스트라드비젼 “차량 AI 인식 솔루션 SVNet, 누적 400만대 돌파”...\n",
            "[9/36] OK - 신소재·혁신공정 도입…韓 연구진, 배터리 수명연장 기술 속속 개발...\n",
            "[10/36] OK - \"韓, 파운드리·기술·인재 갖춰…AI 반도체 톱기업 나올 것\"...\n",
            "[11/36] OK - “이게 카톡이야, 인스타야?”…확 바뀌는 국민 메신저에 이용자 ‘멘붕’...\n",
            "[12/36] OK - 장애인도 '케데헌' 함께 즐긴다…배리어프리 상영회...\n",
            "[13/36] OK - 직장 동료·친척들도 볼텐데…인스타처럼 바뀌는 카톡 개편안에 '기대반 우려...\n",
            "[14/36] OK - 특검도 열지 못한 尹 잠금화면…아이폰 보안기능 더 세진다는데...\n",
            "[15/36] OK - 사용자 추적 막고, 보이스피싱 예방…애플, 개인정보 보호 힘준다...\n",
            "[16/36] OK - 'CES 2025' SK그룹 전시관, '레드닷 디자인 어워드' 품었다...\n",
            "[17/36] OK - KT·LGU+ 해킹피해 의혹에…과기정통부 \"침해사실 아직 확인된 바 없어...\n",
            "[18/36] OK - 카카오톡, 인스타그램처럼 SNS로 바뀐다…내달 공개...\n",
            "[19/36] OK - 유영상 SKT 대표 \"연내 5000억개 파라미터 거대언어모델 출시\"...\n",
            "[20/36] OK - 리브랜딩 나선 쏘카…\"라이프타임 모빌리티 확장\"...\n",
            "[21/36] OK - 과기정통부 \"김수키의 KT·LGU+ 해킹 의혹 들여다보겠다\"...\n",
            "[22/36] OK - 과기정통부 \"김수키 KT·LGU+ 해킹 의혹 들여다볼 것\"...\n",
            "[23/36] OK - 마이데이터 전분야 확대 앞두고…개인정보위 “혁신 기회” 한경협 “보완책 ...\n",
            "[24/36] OK - 한컴위드, 양자내성암호 핵심 기술 특허 등록…보안 솔루션 적용 완료...\n",
            "[25/36] OK - 넷마블, 차기작 '몬길: STAR DIVE' 사전등록 시작...\n",
            "[26/36] OK - 바디프랜드, '건강수명 충전소' 팝업스토어 전국 확대...\n",
            "[27/36] OK - 앳홈, 2025 K-디자인 어워드 5관왕 수상...\n",
            "[28/36] OK - 청호나이스 이경은 신임 회장 취임...\"창신(創新) 정신 강화할 것\"...\n",
            "[29/36] OK - [AI픽] 유영상 SKT 대표 \"연말까지 5천억 매개변수 LLM 출시\"...\n",
            "[30/36] OK - 아이폰18서 카메라 컨트롤 버튼 사라질까...\n",
            "[31/36] OK - 中 신생 모바, 韓 가전시장 출사표...\"소비자에 신뢰받는 브랜드될 것\"...\n",
            "[32/36] OK - 한국벤처창업학회, 혁신 생태계 관점에서 본 2차 티켓 산업의 지속 가능한...\n",
            "[33/36] OK - 아이폰, 올 가을부터 모르는 전화 걸러준다…'자체 ARS' 통과해야...\n",
            "[34/36] OK - 시민사회 \"KT 노동자 특별근로감독 즉시 실시\" 촉구...\n",
            "[35/36] OK - \"보안이 기본값\" 강조한 애플…AI는 글쎄...\n",
            "[36/36] OK - 與 이훈기 \"SKT '위약금 손실 7조원' 주장은 사기극…유영상 고발해야...\n",
            "\n",
            "총 36건 저장 완료 → naver_breaking_it_731.csv\n"
          ]
        }
      ]
    },
    {
      "cell_type": "code",
      "source": [
        "import requests\n",
        "import pandas as pd\n",
        "from bs4 import BeautifulSoup\n",
        "from urllib.parse import urlparse, parse_qs, urlencode\n",
        "\n",
        "BASE = \"https://finance.naver.com\"\n",
        "LIST_PATH = \"/sise/sise_market_sum.nhn\"  # 기존 경로 그대로 OK\n",
        "PARAMS = {\"sosok\": 0}  # 0=KOSPI, 1=KOSDAQ\n",
        "PAGES = range(1, 6)    # 1~5페이지\n",
        "OUT_CSV = \"naver_market_sum_kospi_p1_5.csv\"\n",
        "\n",
        "HEADERS = {\n",
        "    \"User-Agent\": (\n",
        "        \"Mozilla/5.0 (Windows NT 10.0; Win64; x64) \"\n",
        "        \"AppleWebKit/537.36 (KHTML, like Gecko) \"\n",
        "        \"Chrome/124.0.0.0 Safari/537.36\"\n",
        "    ),\n",
        "    \"Referer\": \"https://finance.naver.com/\",\n",
        "}\n",
        "\n",
        "def build_url(page:int):\n",
        "    params = PARAMS.copy()\n",
        "    params[\"page\"] = page\n",
        "    return f\"{BASE}{LIST_PATH}?{urlencode(params)}\"\n",
        "\n",
        "def get_soup(session, url):\n",
        "    r = session.get(url, headers=HEADERS, timeout=20)\n",
        "    r.encoding = \"euc-kr\"  # 네이버 금융은 euc-kr/cp949\n",
        "    r.raise_for_status()\n",
        "    return BeautifulSoup(r.text, \"html.parser\")\n",
        "\n",
        "def parse_code_map(soup: BeautifulSoup):\n",
        "    \"\"\"\n",
        "    표 내 종목명 a태그의 href에서 code 추출\n",
        "    (신/구 경로 모두 대응: /item/main.naver?code= , /item/main.nhn?code=)\n",
        "    \"\"\"\n",
        "    code_map = {}\n",
        "    for a in soup.select(\"table.type_2 tbody a[href*='/item/main']\"):\n",
        "        name = (a.get_text() or \"\").strip()\n",
        "        href = a.get(\"href\") or \"\"\n",
        "        try:\n",
        "            q = parse_qs(urlparse(href).query)\n",
        "            code = (q.get(\"code\") or [\"\"])[0]\n",
        "        except Exception:\n",
        "            code = \"\"\n",
        "        if name and code.isdigit() and len(code) == 6:\n",
        "            code_map[name] = code\n",
        "    return code_map\n",
        "\n",
        "def clean_numeric_cols(df: pd.DataFrame):\n",
        "    numeric_like = [\n",
        "        \"현재가\",\"전일비\",\"등락률\",\"액면가\",\"시가총액\",\"상장주식수\",\n",
        "        \"외국인비율\",\"거래량\",\"PER\",\"ROE\"\n",
        "    ]\n",
        "    for col in numeric_like:\n",
        "        if col in df.columns:\n",
        "            s = df[col].astype(str)\n",
        "            s = (\n",
        "                s.str.replace(\",\", \"\", regex=False)\n",
        "                 .str.replace(\"%\", \"\", regex=False)\n",
        "                 .str.replace(\"▲\", \"\", regex=False)\n",
        "                 .str.replace(\"▼\", \"\", regex=False)\n",
        "                 .str.replace(\"+\", \"\", regex=False)\n",
        "                 .str.replace(\"−\", \"-\", regex=False)\n",
        "                 .str.strip()\n",
        "            )\n",
        "            df[col] = pd.to_numeric(s, errors=\"coerce\")\n",
        "    return df\n",
        "\n",
        "def fetch_table(session, page:int):\n",
        "    \"\"\"\n",
        "    한 페이지의 표를 DataFrame으로 반환\n",
        "    \"\"\"\n",
        "    url = build_url(page)\n",
        "    soup = get_soup(session, url)\n",
        "\n",
        "    # pandas로 테이블 파싱\n",
        "    tables = pd.read_html(str(soup), header=0, flavor=\"bs4\")\n",
        "    df = None\n",
        "    for t in tables:\n",
        "        if \"종목명\" in t.columns:\n",
        "            df = t\n",
        "            break\n",
        "    if df is None:\n",
        "        return pd.DataFrame()\n",
        "\n",
        "    # 불필요 행 제거\n",
        "    df = df[df[\"종목명\"].notna()].copy()\n",
        "    df = df[df[\"종목명\"].astype(str).str.strip() != \"\"]\n",
        "    drop_candidates = [c for c in df.columns if str(c).strip() in {\"N\", \"순위\"}]\n",
        "    df = df.drop(columns=drop_candidates, errors=\"ignore\")\n",
        "\n",
        "    # 종목코드 매핑\n",
        "    code_map = parse_code_map(soup)\n",
        "    df[\"종목코드\"] = df[\"종목명\"].map(code_map)\n",
        "\n",
        "    # 숫자형 변환\n",
        "    df = clean_numeric_cols(df)\n",
        "\n",
        "    # 열 순서 정리\n",
        "    first_cols = [c for c in [\"종목명\",\"종목코드\",\"현재가\",\"전일비\",\"등락률\",\"시가총액\"] if c in df.columns]\n",
        "    other_cols = [c for c in df.columns if c not in first_cols]\n",
        "    df = df[first_cols + other_cols]\n",
        "\n",
        "    # 페이지 표시\n",
        "    df[\"페이지\"] = page\n",
        "    return df\n",
        "\n",
        "def main():\n",
        "    all_df = []\n",
        "    with requests.Session() as s:\n",
        "        for p in PAGES:\n",
        "            df = fetch_table(s, p)\n",
        "            if df.empty:\n",
        "                print(f\"{p}페이지: 표를 찾지 못했습니다.\")\n",
        "            else:\n",
        "                print(f\"{p}페이지: {len(df)}건 수집\")\n",
        "                all_df.append(df)\n",
        "\n",
        "    if not all_df:\n",
        "        print(\"수집 결과가 없습니다.\")\n",
        "        return\n",
        "\n",
        "    out = pd.concat(all_df, ignore_index=True)\n",
        "\n",
        "    # ✅ 중복 제거 로직 개선: 종목코드가 비어도 종목명으로 구분\n",
        "    subset_cols = [c for c in [\"종목코드\",\"종목명\"] if c in out.columns]\n",
        "    out = out.drop_duplicates(subset=subset_cols, keep=\"first\")\n",
        "\n",
        "    out.to_csv(OUT_CSV, index=False, encoding=\"utf-8-sig\")\n",
        "    print(f\"\\n총 {len(out)}건 저장 완료 → {OUT_CSV}\")\n",
        "\n",
        "if __name__ == \"__main__\":\n",
        "    main()\n"
      ],
      "metadata": {
        "colab": {
          "base_uri": "https://localhost:8080/"
        },
        "id": "AfqySKghw9bU",
        "outputId": "c328af17-80c1-4f5b-a54c-00d1869fe6d2"
      },
      "execution_count": null,
      "outputs": [
        {
          "output_type": "stream",
          "name": "stderr",
          "text": [
            "/tmp/ipython-input-1127453532.py:78: FutureWarning: Passing literal html to 'read_html' is deprecated and will be removed in a future version. To read from a literal string, wrap it in a 'StringIO' object.\n",
            "  tables = pd.read_html(str(soup), header=0, flavor=\"bs4\")\n"
          ]
        },
        {
          "output_type": "stream",
          "name": "stdout",
          "text": [
            "1페이지: 50건 수집\n"
          ]
        },
        {
          "output_type": "stream",
          "name": "stderr",
          "text": [
            "/tmp/ipython-input-1127453532.py:78: FutureWarning: Passing literal html to 'read_html' is deprecated and will be removed in a future version. To read from a literal string, wrap it in a 'StringIO' object.\n",
            "  tables = pd.read_html(str(soup), header=0, flavor=\"bs4\")\n"
          ]
        },
        {
          "output_type": "stream",
          "name": "stdout",
          "text": [
            "2페이지: 50건 수집\n"
          ]
        },
        {
          "output_type": "stream",
          "name": "stderr",
          "text": [
            "/tmp/ipython-input-1127453532.py:78: FutureWarning: Passing literal html to 'read_html' is deprecated and will be removed in a future version. To read from a literal string, wrap it in a 'StringIO' object.\n",
            "  tables = pd.read_html(str(soup), header=0, flavor=\"bs4\")\n"
          ]
        },
        {
          "output_type": "stream",
          "name": "stdout",
          "text": [
            "3페이지: 50건 수집\n"
          ]
        },
        {
          "output_type": "stream",
          "name": "stderr",
          "text": [
            "/tmp/ipython-input-1127453532.py:78: FutureWarning: Passing literal html to 'read_html' is deprecated and will be removed in a future version. To read from a literal string, wrap it in a 'StringIO' object.\n",
            "  tables = pd.read_html(str(soup), header=0, flavor=\"bs4\")\n"
          ]
        },
        {
          "output_type": "stream",
          "name": "stdout",
          "text": [
            "4페이지: 50건 수집\n"
          ]
        },
        {
          "output_type": "stream",
          "name": "stderr",
          "text": [
            "/tmp/ipython-input-1127453532.py:78: FutureWarning: Passing literal html to 'read_html' is deprecated and will be removed in a future version. To read from a literal string, wrap it in a 'StringIO' object.\n",
            "  tables = pd.read_html(str(soup), header=0, flavor=\"bs4\")\n"
          ]
        },
        {
          "output_type": "stream",
          "name": "stdout",
          "text": [
            "5페이지: 50건 수집\n",
            "\n",
            "총 250건 저장 완료 → naver_market_sum_kospi_p1_5.csv\n"
          ]
        }
      ]
    },
    {
      "cell_type": "code",
      "source": [],
      "metadata": {
        "id": "CozeeBqyOVNy"
      },
      "execution_count": null,
      "outputs": []
    },
    {
      "cell_type": "markdown",
      "source": [
        "#3. Selenium 사용하기\n",
        "-\n",
        "- 헤드리스 크롬 설치 → 드라이버 준비 → JS 렌더링 대기 → 클릭/페이지네이션 → 무한스크롤 → CSV 저장/스크린샷"
      ],
      "metadata": {
        "id": "ZiKAOWYxEtBF"
      }
    },
    {
      "cell_type": "code",
      "source": [
        "# 필수 패키지\n",
        "!pip -q install selenium webdriver-manager pandas bs4\n",
        "\n",
        "# 크롬 설치 (Colab용)\n",
        "!apt-get update -y\n",
        "!apt-get install -y wget gnupg unzip\n",
        "!wget -q https://dl.google.com/linux/direct/google-chrome-stable_current_amd64.deb\n",
        "!dpkg -i google-chrome-stable_current_amd64.deb || apt-get -fy install\n"
      ],
      "metadata": {
        "colab": {
          "base_uri": "https://localhost:8080/"
        },
        "id": "3DG_y3kzEuuw",
        "outputId": "27fd17b4-4eb5-4035-ee53-2b25b44c4dde"
      },
      "execution_count": 11,
      "outputs": [
        {
          "output_type": "stream",
          "name": "stdout",
          "text": [
            "\u001b[2K   \u001b[90m━━━━━━━━━━━━━━━━━━━━━━━━━━━━━━━━━━━━━━━━\u001b[0m \u001b[32m9.6/9.6 MB\u001b[0m \u001b[31m31.8 MB/s\u001b[0m eta \u001b[36m0:00:00\u001b[0m\n",
            "\u001b[2K   \u001b[90m━━━━━━━━━━━━━━━━━━━━━━━━━━━━━━━━━━━━━━━━\u001b[0m \u001b[32m499.2/499.2 kB\u001b[0m \u001b[31m24.1 MB/s\u001b[0m eta \u001b[36m0:00:00\u001b[0m\n",
            "Get:1 https://developer.download.nvidia.com/compute/cuda/repos/ubuntu2204/x86_64  InRelease [1,581 B]\n",
            "Get:2 https://cloud.r-project.org/bin/linux/ubuntu jammy-cran40/ InRelease [3,632 B]\n",
            "Get:3 https://developer.download.nvidia.com/compute/cuda/repos/ubuntu2204/x86_64  Packages [1,937 kB]\n",
            "Get:4 https://cli.github.com/packages stable InRelease [3,917 B]\n",
            "Get:5 http://security.ubuntu.com/ubuntu jammy-security InRelease [129 kB]\n",
            "Hit:6 http://archive.ubuntu.com/ubuntu jammy InRelease\n",
            "Get:7 https://r2u.stat.illinois.edu/ubuntu jammy InRelease [6,555 B]\n",
            "Get:8 http://archive.ubuntu.com/ubuntu jammy-updates InRelease [128 kB]\n",
            "Get:9 https://r2u.stat.illinois.edu/ubuntu jammy/main all Packages [9,191 kB]\n",
            "Hit:10 https://ppa.launchpadcontent.net/deadsnakes/ppa/ubuntu jammy InRelease\n",
            "Hit:11 https://ppa.launchpadcontent.net/graphics-drivers/ppa/ubuntu jammy InRelease\n",
            "Hit:12 https://ppa.launchpadcontent.net/ubuntugis/ppa/ubuntu jammy InRelease\n",
            "Get:13 http://security.ubuntu.com/ubuntu jammy-security/restricted amd64 Packages [5,218 kB]\n",
            "Get:14 http://archive.ubuntu.com/ubuntu jammy-backports InRelease [127 kB]\n",
            "Get:15 http://archive.ubuntu.com/ubuntu jammy-updates/main amd64 Packages [3,564 kB]\n",
            "Get:16 http://security.ubuntu.com/ubuntu jammy-security/main amd64 Packages [3,246 kB]\n",
            "Get:17 http://security.ubuntu.com/ubuntu jammy-security/universe amd64 Packages [1,271 kB]\n",
            "Get:18 https://r2u.stat.illinois.edu/ubuntu jammy/main amd64 Packages [2,783 kB]\n",
            "Get:19 http://archive.ubuntu.com/ubuntu jammy-updates/restricted amd64 Packages [5,422 kB]\n",
            "Get:20 http://archive.ubuntu.com/ubuntu jammy-updates/universe amd64 Packages [1,575 kB]\n",
            "Fetched 34.6 MB in 6s (5,949 kB/s)\n",
            "Reading package lists... Done\n",
            "W: Skipping acquire of configured file 'main/source/Sources' as repository 'https://r2u.stat.illinois.edu/ubuntu jammy InRelease' does not seem to provide it (sources.list entry misspelt?)\n",
            "Reading package lists... Done\n",
            "Building dependency tree... Done\n",
            "Reading state information... Done\n",
            "gnupg is already the newest version (2.2.27-3ubuntu2.4).\n",
            "gnupg set to manually installed.\n",
            "unzip is already the newest version (6.0-26ubuntu3.2).\n",
            "wget is already the newest version (1.21.2-2ubuntu1.1).\n",
            "0 upgraded, 0 newly installed, 0 to remove and 69 not upgraded.\n",
            "Selecting previously unselected package google-chrome-stable.\n",
            "(Reading database ... 126371 files and directories currently installed.)\n",
            "Preparing to unpack google-chrome-stable_current_amd64.deb ...\n",
            "Unpacking google-chrome-stable (139.0.7258.138-1) ...\n",
            "\u001b[1mdpkg:\u001b[0m dependency problems prevent configuration of google-chrome-stable:\n",
            " google-chrome-stable depends on libvulkan1; however:\n",
            "  Package libvulkan1 is not installed.\n",
            "\n",
            "\u001b[1mdpkg:\u001b[0m error processing package google-chrome-stable (--install):\n",
            " dependency problems - leaving unconfigured\n",
            "Processing triggers for mailcap (3.70+nmu1ubuntu1) ...\n",
            "Processing triggers for man-db (2.10.2-1) ...\n",
            "Errors were encountered while processing:\n",
            " google-chrome-stable\n",
            "Reading package lists... Done\n",
            "Building dependency tree... Done\n",
            "Reading state information... Done\n",
            "Correcting dependencies... Done\n",
            "The following additional packages will be installed:\n",
            "  libvulkan1 mesa-vulkan-drivers\n",
            "The following NEW packages will be installed:\n",
            "  libvulkan1 mesa-vulkan-drivers\n",
            "0 upgraded, 2 newly installed, 0 to remove and 69 not upgraded.\n",
            "1 not fully installed or removed.\n",
            "Need to get 10.9 MB of archives.\n",
            "After this operation, 51.3 MB of additional disk space will be used.\n",
            "Get:1 http://archive.ubuntu.com/ubuntu jammy/main amd64 libvulkan1 amd64 1.3.204.1-2 [128 kB]\n",
            "Get:2 http://archive.ubuntu.com/ubuntu jammy-updates/main amd64 mesa-vulkan-drivers amd64 23.2.1-1ubuntu3.1~22.04.3 [10.7 MB]\n",
            "Fetched 10.9 MB in 3s (3,696 kB/s)\n",
            "Selecting previously unselected package libvulkan1:amd64.\n",
            "(Reading database ... 126489 files and directories currently installed.)\n",
            "Preparing to unpack .../libvulkan1_1.3.204.1-2_amd64.deb ...\n",
            "Unpacking libvulkan1:amd64 (1.3.204.1-2) ...\n",
            "Selecting previously unselected package mesa-vulkan-drivers:amd64.\n",
            "Preparing to unpack .../mesa-vulkan-drivers_23.2.1-1ubuntu3.1~22.04.3_amd64.deb ...\n",
            "Unpacking mesa-vulkan-drivers:amd64 (23.2.1-1ubuntu3.1~22.04.3) ...\n",
            "Setting up libvulkan1:amd64 (1.3.204.1-2) ...\n",
            "Setting up mesa-vulkan-drivers:amd64 (23.2.1-1ubuntu3.1~22.04.3) ...\n",
            "Setting up google-chrome-stable (139.0.7258.138-1) ...\n",
            "update-alternatives: using /usr/bin/google-chrome-stable to provide /usr/bin/x-www-browser (x-www-browser) in auto mode\n",
            "update-alternatives: using /usr/bin/google-chrome-stable to provide /usr/bin/gnome-www-browser (gnome-www-browser) in auto mode\n",
            "update-alternatives: using /usr/bin/google-chrome-stable to provide /usr/bin/google-chrome (google-chrome) in auto mode\n",
            "Processing triggers for libc-bin (2.35-0ubuntu3.8) ...\n",
            "/sbin/ldconfig.real: /usr/local/lib/libtbbbind.so.3 is not a symbolic link\n",
            "\n",
            "/sbin/ldconfig.real: /usr/local/lib/libur_adapter_level_zero_v2.so.0 is not a symbolic link\n",
            "\n",
            "/sbin/ldconfig.real: /usr/local/lib/libtcm_debug.so.1 is not a symbolic link\n",
            "\n",
            "/sbin/ldconfig.real: /usr/local/lib/libur_adapter_level_zero.so.0 is not a symbolic link\n",
            "\n",
            "/sbin/ldconfig.real: /usr/local/lib/libhwloc.so.15 is not a symbolic link\n",
            "\n",
            "/sbin/ldconfig.real: /usr/local/lib/libur_adapter_opencl.so.0 is not a symbolic link\n",
            "\n",
            "/sbin/ldconfig.real: /usr/local/lib/libtbb.so.12 is not a symbolic link\n",
            "\n",
            "/sbin/ldconfig.real: /usr/local/lib/libtbbmalloc_proxy.so.2 is not a symbolic link\n",
            "\n",
            "/sbin/ldconfig.real: /usr/local/lib/libumf.so.0 is not a symbolic link\n",
            "\n",
            "/sbin/ldconfig.real: /usr/local/lib/libur_loader.so.0 is not a symbolic link\n",
            "\n",
            "/sbin/ldconfig.real: /usr/local/lib/libtcm.so.1 is not a symbolic link\n",
            "\n",
            "/sbin/ldconfig.real: /usr/local/lib/libtbbmalloc.so.2 is not a symbolic link\n",
            "\n",
            "/sbin/ldconfig.real: /usr/local/lib/libtbbbind_2_0.so.3 is not a symbolic link\n",
            "\n",
            "/sbin/ldconfig.real: /usr/local/lib/libtbbbind_2_5.so.3 is not a symbolic link\n",
            "\n"
          ]
        }
      ]
    },
    {
      "cell_type": "code",
      "source": [
        "from selenium import webdriver\n",
        "from selenium.webdriver.chrome.service import Service\n",
        "from webdriver_manager.chrome import ChromeDriverManager\n",
        "from selenium.webdriver.chrome.options import Options\n",
        "\n",
        "def create_driver(headless: bool = True):\n",
        "    chrome_options = Options()\n",
        "    if headless:\n",
        "        chrome_options.add_argument(\"--headless=new\")  # 최신 헤드리스 모드\n",
        "    chrome_options.add_argument(\"--no-sandbox\")\n",
        "    chrome_options.add_argument(\"--disable-dev-shm-usage\")\n",
        "    chrome_options.add_argument(\"--window-size=1366,768\")\n",
        "    # 필요시 UA 지정\n",
        "    # chrome_options.add_argument(\"--user-agent=Mozilla/5.0 ...\")\n",
        "\n",
        "    # Colab에 설치된 Chrome 바이너리 명시 (안정)\n",
        "    chrome_options.binary_location = \"/usr/bin/google-chrome\"\n",
        "\n",
        "    service = Service(ChromeDriverManager().install())\n",
        "    driver = webdriver.Chrome(service=service, options=chrome_options)\n",
        "    return driver\n",
        "\n",
        "driver = create_driver(headless=True)\n",
        "driver.get(\"https://example.com\")\n",
        "print(driver.title)\n",
        "driver.quit()"
      ],
      "metadata": {
        "colab": {
          "base_uri": "https://localhost:8080/"
        },
        "id": "B9HBuQ0VFM8B",
        "outputId": "f4b69c0a-4af7-4d1e-d212-0e9ab0a2d794"
      },
      "execution_count": 12,
      "outputs": [
        {
          "output_type": "stream",
          "name": "stdout",
          "text": [
            "Example Domain\n"
          ]
        }
      ]
    },
    {
      "cell_type": "markdown",
      "source": [
        "- 기본 패턴: JS 렌더링 대기 → 요소 추출 → CSV 저장"
      ],
      "metadata": {
        "id": "893fWF72FoCR"
      }
    },
    {
      "cell_type": "code",
      "source": [
        "import time, pandas as pd\n",
        "from bs4 import BeautifulSoup\n",
        "from selenium.webdriver.common.by import By\n",
        "from selenium.webdriver.support.ui import WebDriverWait\n",
        "from selenium.webdriver.support import expected_conditions as EC\n",
        "\n",
        "driver = create_driver(headless=True)\n",
        "driver.get(\"https://quotes.toscrape.com/js/\")\n",
        "\n",
        "# ① JS 렌더링 대기\n",
        "WebDriverWait(driver, 10).until(\n",
        "    EC.presence_of_all_elements_located((By.CSS_SELECTOR, \".quote\"))\n",
        ")\n",
        "\n",
        "# ② 파싱\n",
        "soup = BeautifulSoup(driver.page_source, \"html.parser\")\n",
        "rows = []\n",
        "for q in soup.select(\".quote\"):\n",
        "    text = q.select_one(\".text\").get_text(strip=True)\n",
        "    author = q.select_one(\".author\").get_text(strip=True)\n",
        "    tags = [t.get_text(strip=True) for t in q.select(\".tag\")]\n",
        "    rows.append({\"text\": text, \"author\": author, \"tags\": \", \".join(tags)})\n",
        "\n",
        "df = pd.DataFrame(rows)\n",
        "df.head()\n",
        "df.to_csv(\"/content/quotes_js.csv\", index=False, encoding=\"utf-8-sig\")\n",
        "print(\"저장 완료: /content/quotes_js.csv\")\n",
        "\n",
        "driver.quit()\n"
      ],
      "metadata": {
        "colab": {
          "base_uri": "https://localhost:8080/"
        },
        "id": "ux8ysoxaFM-l",
        "outputId": "7039785a-9560-4a15-d833-f40fb3d7f461"
      },
      "execution_count": 13,
      "outputs": [
        {
          "output_type": "stream",
          "name": "stdout",
          "text": [
            "저장 완료: /content/quotes_js.csv\n"
          ]
        }
      ]
    },
    {
      "cell_type": "markdown",
      "source": [
        "- 페이지네이션"
      ],
      "metadata": {
        "id": "VI88EzzvFmRT"
      }
    },
    {
      "cell_type": "code",
      "source": [
        "from selenium.webdriver.common.by import By\n",
        "from selenium.webdriver.common.keys import Keys\n",
        "\n",
        "driver = create_driver(headless=True)\n",
        "driver.get(\"https://news.ycombinator.com/\")\n",
        "\n",
        "all_items = []\n",
        "\n",
        "for page in range(1, 4):  # 1~3페이지\n",
        "    WebDriverWait(driver, 10).until(\n",
        "        EC.presence_of_all_elements_located((By.CSS_SELECTOR, \".athing\"))\n",
        "    )\n",
        "    soup = BeautifulSoup(driver.page_source, \"html.parser\")\n",
        "    print(driver.page_source)\n",
        "\n",
        "    for row in soup.select(\".athing\"):\n",
        "        rank = row.select_one(\".rank\")\n",
        "        title_link = row.select_one(\".titleline a\")\n",
        "        if title_link:\n",
        "            all_items.append({\n",
        "                \"page\": page,\n",
        "                \"rank\": rank.get_text(strip=True) if rank else \"\",\n",
        "                \"title\": title_link.get_text(strip=True),\n",
        "                \"url\": title_link.get(\"href\", \"\")\n",
        "            })\n",
        "\n",
        "    # 다음 페이지로 (More 버튼 클릭)\n",
        "    more = driver.find_elements(By.LINK_TEXT, \"More\")\n",
        "    if not more:\n",
        "        break\n",
        "    more[0].click()\n",
        "    time.sleep(1)\n",
        "\n",
        "import pandas as pd\n",
        "df_hn = pd.DataFrame(all_items)\n",
        "df_hn.to_csv(\"/content/hn_3pages.csv\", index=False, encoding=\"utf-8-sig\")\n",
        "print(\"저장 완료: /content/hn_3pages.csv\")\n",
        "\n",
        "driver.quit()\n"
      ],
      "metadata": {
        "colab": {
          "base_uri": "https://localhost:8080/"
        },
        "id": "R2VzSR4cFNBE",
        "outputId": "6ef9b4d3-a620-4e03-8571-0ea6d7aacb18"
      },
      "execution_count": 14,
      "outputs": [
        {
          "output_type": "stream",
          "name": "stdout",
          "text": [
            "<html lang=\"en\" op=\"news\"><head><meta name=\"referrer\" content=\"origin\"><meta name=\"viewport\" content=\"width=device-width, initial-scale=1.0\"><link rel=\"stylesheet\" type=\"text/css\" href=\"news.css?sJrC2FNC7onakFWpNx3H\"><link rel=\"icon\" href=\"y18.svg\"><link rel=\"alternate\" type=\"application/rss+xml\" title=\"RSS\" href=\"rss\"><title>Hacker News</title></head><body><center><table id=\"hnmain\" border=\"0\" cellpadding=\"0\" cellspacing=\"0\" width=\"85%\" bgcolor=\"#f6f6ef\"><tbody><tr><td bgcolor=\"#ff6600\"><table border=\"0\" cellpadding=\"0\" cellspacing=\"0\" width=\"100%\" style=\"padding:2px\"><tbody><tr><td style=\"width:18px;padding-right:4px\"><a href=\"https://news.ycombinator.com\"><img src=\"y18.svg\" width=\"18\" height=\"18\" style=\"border:1px white solid; display:block\"></a></td><td style=\"line-height:12pt; height:10px;\"><span class=\"pagetop\"><b class=\"hnname\"><a href=\"news\">Hacker News</a></b><a href=\"newest\">new</a> | <a href=\"front\">past</a> | <a href=\"newcomments\">comments</a> | <a href=\"ask\">ask</a> | <a href=\"show\">show</a> | <a href=\"jobs\">jobs</a> | <a href=\"submit\" rel=\"nofollow\">submit</a></span></td><td style=\"text-align:right;padding-right:4px;\"><span class=\"pagetop\"><a href=\"login?goto=news\">login</a></span></td></tr></tbody></table></td></tr><tr style=\"height:10px\"></tr><tr id=\"bigbox\"><td><table border=\"0\" cellpadding=\"0\" cellspacing=\"0\"><tbody><tr class=\"athing submission\" id=\"44962066\"><td align=\"right\" valign=\"top\" class=\"title\"><span class=\"rank\">1.</span></td><td valign=\"top\" class=\"votelinks\"><center><a id=\"up_44962066\" href=\"vote?id=44962066&amp;how=up&amp;goto=news\"><div class=\"votearrow\" title=\"upvote\"></div></a></center></td><td class=\"title\"><span class=\"titleline\"><a href=\"https://visualrambling.space/moving-objects-in-3d/\">Show HN: I was curious about spherical helix, ended up making this visualization</a><span class=\"sitebit comhead\"> (<a href=\"from?site=visualrambling.space\"><span class=\"sitestr\">visualrambling.space</span></a>)</span></span></td></tr><tr><td colspan=\"2\"></td><td class=\"subtext\"><span class=\"subline\"><span class=\"score\" id=\"score_44962066\">474 points</span> by <a href=\"user?id=damarberlari\" class=\"hnuser\">damarberlari</a> <span class=\"age\" title=\"2025-08-20T14:02:47 1755698567\"><a href=\"item?id=44962066\">6 hours ago</a></span> <span id=\"unv_44962066\"></span> | <a href=\"hide?id=44962066&amp;goto=news\">hide</a> | <a href=\"item?id=44962066\">92&nbsp;comments</a></span></td></tr><tr class=\"spacer\" style=\"height:5px\"></tr><tr class=\"athing submission\" id=\"44964916\"><td align=\"right\" valign=\"top\" class=\"title\"><span class=\"rank\">2.</span></td><td valign=\"top\" class=\"votelinks\"><center><a id=\"up_44964916\" href=\"vote?id=44964916&amp;how=up&amp;goto=news\"><div class=\"votearrow\" title=\"upvote\"></div></a></center></td><td class=\"title\"><span class=\"titleline\"><a href=\"https://github.com/zedless-editor/zed\">Zedless: Zed fork focused on privacy and being local-first</a><span class=\"sitebit comhead\"> (<a href=\"from?site=github.com/zedless-editor\"><span class=\"sitestr\">github.com/zedless-editor</span></a>)</span></span></td></tr><tr><td colspan=\"2\"></td><td class=\"subtext\"><span class=\"subline\"><span class=\"score\" id=\"score_44964916\">217 points</span> by <a href=\"user?id=homebrewer\" class=\"hnuser\">homebrewer</a> <span class=\"age\" title=\"2025-08-20T18:47:03 1755715623\"><a href=\"item?id=44964916\">1 hour ago</a></span> <span id=\"unv_44964916\"></span> | <a href=\"hide?id=44964916&amp;goto=news\">hide</a> | <a href=\"item?id=44964916\">87&nbsp;comments</a></span></td></tr><tr class=\"spacer\" style=\"height:5px\"></tr><tr class=\"athing submission\" id=\"44962059\"><td align=\"right\" valign=\"top\" class=\"title\"><span class=\"rank\">3.</span></td><td valign=\"top\" class=\"votelinks\"><center><a id=\"up_44962059\" href=\"vote?id=44962059&amp;how=up&amp;goto=news\"><div class=\"votearrow\" title=\"upvote\"></div></a></center></td><td class=\"title\"><span class=\"titleline\"><a href=\"https://github.com/rasbt/LLMs-from-scratch/tree/main/ch05/12_gemma3\">Gemma 3 270M re-implemented in pure PyTorch for local tinkering</a><span class=\"sitebit comhead\"> (<a href=\"from?site=github.com/rasbt\"><span class=\"sitestr\">github.com/rasbt</span></a>)</span></span></td></tr><tr><td colspan=\"2\"></td><td class=\"subtext\"><span class=\"subline\"><span class=\"score\" id=\"score_44962059\">238 points</span> by <a href=\"user?id=ModelForge\" class=\"hnuser\">ModelForge</a> <span class=\"age\" title=\"2025-08-20T14:01:26 1755698486\"><a href=\"item?id=44962059\">6 hours ago</a></span> <span id=\"unv_44962059\"></span> | <a href=\"hide?id=44962059&amp;goto=news\">hide</a> | <a href=\"item?id=44962059\">37&nbsp;comments</a></span></td></tr><tr class=\"spacer\" style=\"height:5px\"></tr><tr class=\"athing submission\" id=\"44963724\"><td align=\"right\" valign=\"top\" class=\"title\"><span class=\"rank\">4.</span></td><td valign=\"top\" class=\"votelinks\"><center><a id=\"up_44963724\" href=\"vote?id=44963724&amp;how=up&amp;goto=news\"><div class=\"votearrow\" title=\"upvote\"></div></a></center></td><td class=\"title\"><span class=\"titleline\"><a href=\"https://github.com/google/pytype\">An Update on Pytype</a><span class=\"sitebit comhead\"> (<a href=\"from?site=github.com/google\"><span class=\"sitestr\">github.com/google</span></a>)</span></span></td></tr><tr><td colspan=\"2\"></td><td class=\"subtext\"><span class=\"subline\"><span class=\"score\" id=\"score_44963724\">89 points</span> by <a href=\"user?id=mxmlnkn\" class=\"hnuser\">mxmlnkn</a> <span class=\"age\" title=\"2025-08-20T17:04:51 1755709491\"><a href=\"item?id=44963724\">3 hours ago</a></span> <span id=\"unv_44963724\"></span> | <a href=\"hide?id=44963724&amp;goto=news\">hide</a> | <a href=\"item?id=44963724\">34&nbsp;comments</a></span></td></tr><tr class=\"spacer\" style=\"height:5px\"></tr><tr class=\"athing submission\" id=\"44963939\"><td align=\"right\" valign=\"top\" class=\"title\"><span class=\"rank\">5.</span></td><td valign=\"top\" class=\"votelinks\"><center><a id=\"up_44963939\" href=\"vote?id=44963939&amp;how=up&amp;goto=news\"><div class=\"votearrow\" title=\"upvote\"></div></a></center></td><td class=\"title\"><span class=\"titleline\"><a href=\"https://blog.google/products/pixel/google-pixel-10-pro-xl/\">Pixel 10 Phones</a><span class=\"sitebit comhead\"> (<a href=\"from?site=blog.google\"><span class=\"sitestr\">blog.google</span></a>)</span></span></td></tr><tr><td colspan=\"2\"></td><td class=\"subtext\"><span class=\"subline\"><span class=\"score\" id=\"score_44963939\">225 points</span> by <a href=\"user?id=gotmedium\" class=\"hnuser\">gotmedium</a> <span class=\"age\" title=\"2025-08-20T17:24:10 1755710650\"><a href=\"item?id=44963939\">3 hours ago</a></span> <span id=\"unv_44963939\"></span> | <a href=\"hide?id=44963939&amp;goto=news\">hide</a> | <a href=\"item?id=44963939\">391&nbsp;comments</a></span></td></tr><tr class=\"spacer\" style=\"height:5px\"></tr><tr class=\"athing submission\" id=\"44965233\"><td align=\"right\" valign=\"top\" class=\"title\"><span class=\"rank\">6.</span></td><td valign=\"top\" class=\"votelinks\"><center><a id=\"up_44965233\" href=\"vote?id=44965233&amp;how=up&amp;goto=news\"><div class=\"votearrow\" title=\"upvote\"></div></a></center></td><td class=\"title\"><span class=\"titleline\"><a href=\"https://mackuba.eu/2025/08/20/introduction-to-atproto/\">Introduction to Bluesky's AT Protocol</a><span class=\"sitebit comhead\"> (<a href=\"from?site=mackuba.eu\"><span class=\"sitestr\">mackuba.eu</span></a>)</span></span></td></tr><tr><td colspan=\"2\"></td><td class=\"subtext\"><span class=\"subline\"><span class=\"score\" id=\"score_44965233\">23 points</span> by <a href=\"user?id=psionides\" class=\"hnuser\">psionides</a> <span class=\"age\" title=\"2025-08-20T19:13:09 1755717189\"><a href=\"item?id=44965233\">1 hour ago</a></span> <span id=\"unv_44965233\"></span> | <a href=\"hide?id=44965233&amp;goto=news\">hide</a> | <a href=\"item?id=44965233\">9&nbsp;comments</a></span></td></tr><tr class=\"spacer\" style=\"height:5px\"></tr><tr class=\"athing submission\" id=\"44962881\"><td align=\"right\" valign=\"top\" class=\"title\"><span class=\"rank\">7.</span></td><td valign=\"top\" class=\"votelinks\"><center><a id=\"up_44962881\" href=\"vote?id=44962881&amp;how=up&amp;goto=news\"><div class=\"votearrow\" title=\"upvote\"></div></a></center></td><td class=\"title\"><span class=\"titleline\"><a href=\"item?id=44962881\">Launch HN: Channel3 (YC S25) – A database of every product on the internet</a></span></td></tr><tr><td colspan=\"2\"></td><td class=\"subtext\"><span class=\"subline\"><span class=\"score\" id=\"score_44962881\">60 points</span> by <a href=\"user?id=glawrence13\" class=\"hnuser\">glawrence13</a> <span class=\"age\" title=\"2025-08-20T15:34:07 1755704047\"><a href=\"item?id=44962881\">4 hours ago</a></span> <span id=\"unv_44962881\"></span> | <a href=\"hide?id=44962881&amp;goto=news\">hide</a> | <a href=\"item?id=44962881\">36&nbsp;comments</a></span></td></tr><tr class=\"spacer\" style=\"height:5px\"></tr><tr class=\"athing submission\" id=\"44962361\"><td align=\"right\" valign=\"top\" class=\"title\"><span class=\"rank\">8.</span></td><td valign=\"top\" class=\"votelinks\"><center><a id=\"up_44962361\" href=\"vote?id=44962361&amp;how=up&amp;goto=news\"><div class=\"votearrow\" title=\"upvote\"></div></a></center></td><td class=\"title\"><span class=\"titleline\"><a href=\"https://www.evolvebenchmark.com/blog-posts/learning-about-gpus-through-measuring-memory-bandwidth\">Learning about GPUs through measuring memory bandwidth</a><span class=\"sitebit comhead\"> (<a href=\"from?site=evolvebenchmark.com\"><span class=\"sitestr\">evolvebenchmark.com</span></a>)</span></span></td></tr><tr><td colspan=\"2\"></td><td class=\"subtext\"><span class=\"subline\"><span class=\"score\" id=\"score_44962361\">17 points</span> by <a href=\"user?id=JasperBekkers\" class=\"hnuser\">JasperBekkers</a> <span class=\"age\" title=\"2025-08-20T14:35:18 1755700518\"><a href=\"item?id=44962361\">2 hours ago</a></span> <span id=\"unv_44962361\"></span> | <a href=\"hide?id=44962361&amp;goto=news\">hide</a> | <a href=\"item?id=44962361\">1&nbsp;comment</a></span></td></tr><tr class=\"spacer\" style=\"height:5px\"></tr><tr class=\"athing submission\" id=\"44962969\"><td align=\"right\" valign=\"top\" class=\"title\"><span class=\"rank\">9.</span></td><td valign=\"top\" class=\"votelinks\"><center><a id=\"up_44962969\" href=\"vote?id=44962969&amp;how=up&amp;goto=news\"><div class=\"votearrow\" title=\"upvote\"></div></a></center></td><td class=\"title\"><span class=\"titleline\"><a href=\"https://blog.openpolicyagent.org/note-from-teemu-tim-and-torin-to-the-open-policy-agent-community-2dbbfe494371\">OPA maintainers and Styra employees hired by Apple</a><span class=\"sitebit comhead\"> (<a href=\"from?site=openpolicyagent.org\"><span class=\"sitestr\">openpolicyagent.org</span></a>)</span></span></td></tr><tr><td colspan=\"2\"></td><td class=\"subtext\"><span class=\"subline\"><span class=\"score\" id=\"score_44962969\">85 points</span> by <a href=\"user?id=crcsmnky\" class=\"hnuser\">crcsmnky</a> <span class=\"age\" title=\"2025-08-20T15:44:33 1755704673\"><a href=\"item?id=44962969\">5 hours ago</a></span> <span id=\"unv_44962969\"></span> | <a href=\"hide?id=44962969&amp;goto=news\">hide</a> | <a href=\"item?id=44962969\">37&nbsp;comments</a></span></td></tr><tr class=\"spacer\" style=\"height:5px\"></tr><tr class=\"athing submission\" id=\"44964693\"><td align=\"right\" valign=\"top\" class=\"title\"><span class=\"rank\">10.</span></td><td valign=\"top\" class=\"votelinks\"><center><a id=\"up_44964693\" href=\"vote?id=44964693&amp;how=up&amp;goto=news\"><div class=\"votearrow\" title=\"upvote\"></div></a></center></td><td class=\"title\"><span class=\"titleline\"><a href=\"https://imperialcollegelondon.github.io/FLT/blueprint.pdf\">Lean proof of Fermat's Last Theorem [pdf]</a><span class=\"sitebit comhead\"> (<a href=\"from?site=imperialcollegelondon.github.io\"><span class=\"sitestr\">imperialcollegelondon.github.io</span></a>)</span></span></td></tr><tr><td colspan=\"2\"></td><td class=\"subtext\"><span class=\"subline\"><span class=\"score\" id=\"score_44964693\">27 points</span> by <a href=\"user?id=ljlolel\" class=\"hnuser\">ljlolel</a> <span class=\"age\" title=\"2025-08-20T18:27:25 1755714445\"><a href=\"item?id=44964693\">2 hours ago</a></span> <span id=\"unv_44964693\"></span> | <a href=\"hide?id=44964693&amp;goto=news\">hide</a> | <a href=\"item?id=44964693\">13&nbsp;comments</a></span></td></tr><tr class=\"spacer\" style=\"height:5px\"></tr><tr class=\"athing submission\" id=\"44932509\"><td align=\"right\" valign=\"top\" class=\"title\"><span class=\"rank\">11.</span></td><td valign=\"top\" class=\"votelinks\"><center><a id=\"up_44932509\" href=\"vote?id=44932509&amp;how=up&amp;goto=news\"><div class=\"votearrow\" title=\"upvote\"></div></a></center></td><td class=\"title\"><span class=\"titleline\"><a href=\"https://melonmars.github.io/LatentExplorer/embedding_viewer.html\">Visualizing GPT-OSS-20B embeddings</a><span class=\"sitebit comhead\"> (<a href=\"from?site=melonmars.github.io\"><span class=\"sitestr\">melonmars.github.io</span></a>)</span></span></td></tr><tr><td colspan=\"2\"></td><td class=\"subtext\"><span class=\"subline\"><span class=\"score\" id=\"score_44932509\">20 points</span> by <a href=\"user?id=melonmars\" class=\"hnuser\">melonmars</a> <span class=\"age\" title=\"2025-08-17T15:56:36 1755446196\"><a href=\"item?id=44932509\">2 hours ago</a></span> <span id=\"unv_44932509\"></span> | <a href=\"hide?id=44932509&amp;goto=news\">hide</a> | <a href=\"item?id=44932509\">9&nbsp;comments</a></span></td></tr><tr class=\"spacer\" style=\"height:5px\"></tr><tr class=\"athing submission\" id=\"44961172\"><td align=\"right\" valign=\"top\" class=\"title\"><span class=\"rank\">12.</span></td><td valign=\"top\" class=\"votelinks\"><center><a id=\"up_44961172\" href=\"vote?id=44961172&amp;how=up&amp;goto=news\"><div class=\"votearrow\" title=\"upvote\"></div></a></center></td><td class=\"title\"><span class=\"titleline\"><a href=\"https://zed.dev/blog/sequoia-backs-zed\">Sequoia backs Zed</a><span class=\"sitebit comhead\"> (<a href=\"from?site=zed.dev\"><span class=\"sitestr\">zed.dev</span></a>)</span></span></td></tr><tr><td colspan=\"2\"></td><td class=\"subtext\"><span class=\"subline\"><span class=\"score\" id=\"score_44961172\">206 points</span> by <a href=\"user?id=vquemener\" class=\"hnuser\">vquemener</a> <span class=\"age\" title=\"2025-08-20T12:13:16 1755691996\"><a href=\"item?id=44961172\">8 hours ago</a></span> <span id=\"unv_44961172\"></span> | <a href=\"hide?id=44961172&amp;goto=news\">hide</a> | <a href=\"item?id=44961172\">133&nbsp;comments</a></span></td></tr><tr class=\"spacer\" style=\"height:5px\"></tr><tr class=\"athing submission\" id=\"44963693\"><td align=\"right\" valign=\"top\" class=\"title\"><span class=\"rank\">13.</span></td><td><img src=\"s.gif\" height=\"1\" width=\"14\"></td><td class=\"title\"><span class=\"titleline\"><a href=\"https://14.ai/careers\">14.ai (YC W24) is hiring engineers in SF to build an AI-native Zendesk</a><span class=\"sitebit comhead\"> (<a href=\"from?site=14.ai\"><span class=\"sitestr\">14.ai</span></a>)</span></span></td></tr><tr><td colspan=\"2\"></td><td class=\"subtext\"><span class=\"age\" title=\"2025-08-20T17:01:10 1755709270\"><a href=\"item?id=44963693\">3 hours ago</a></span> | <a href=\"hide?id=44963693&amp;goto=news\">hide</a></td></tr><tr class=\"spacer\" style=\"height:5px\"></tr><tr class=\"athing submission\" id=\"44962869\"><td align=\"right\" valign=\"top\" class=\"title\"><span class=\"rank\">14.</span></td><td valign=\"top\" class=\"votelinks\"><center><a id=\"up_44962869\" href=\"vote?id=44962869&amp;how=up&amp;goto=news\"><div class=\"votearrow\" title=\"upvote\"></div></a></center></td><td class=\"title\"><span class=\"titleline\"><a href=\"https://browser-use.com/posts/playwright-to-cdp\">Closer to the Metal: Leaving Playwright for CDP</a><span class=\"sitebit comhead\"> (<a href=\"from?site=browser-use.com\"><span class=\"sitestr\">browser-use.com</span></a>)</span></span></td></tr><tr><td colspan=\"2\"></td><td class=\"subtext\"><span class=\"subline\"><span class=\"score\" id=\"score_44962869\">107 points</span> by <a href=\"user?id=gregpr07\" class=\"hnuser\">gregpr07</a> <span class=\"age\" title=\"2025-08-20T15:32:44 1755703964\"><a href=\"item?id=44962869\">5 hours ago</a></span> <span id=\"unv_44962869\"></span> | <a href=\"hide?id=44962869&amp;goto=news\">hide</a> | <a href=\"item?id=44962869\">83&nbsp;comments</a></span></td></tr><tr class=\"spacer\" style=\"height:5px\"></tr><tr class=\"athing submission\" id=\"44931079\"><td align=\"right\" valign=\"top\" class=\"title\"><span class=\"rank\">15.</span></td><td valign=\"top\" class=\"votelinks\"><center><a id=\"up_44931079\" href=\"vote?id=44931079&amp;how=up&amp;goto=news\"><div class=\"votearrow\" title=\"upvote\"></div></a></center></td><td class=\"title\"><span class=\"titleline\"><a href=\"https://bernsteinbear.com/blog/linear-scan/\">Linear scan register allocation on SSA</a><span class=\"sitebit comhead\"> (<a href=\"from?site=bernsteinbear.com\"><span class=\"sitestr\">bernsteinbear.com</span></a>)</span></span></td></tr><tr><td colspan=\"2\"></td><td class=\"subtext\"><span class=\"subline\"><span class=\"score\" id=\"score_44931079\">8 points</span> by <a href=\"user?id=surprisetalk\" class=\"hnuser\">surprisetalk</a> <span class=\"age\" title=\"2025-08-17T12:17:37 1755433057\"><a href=\"item?id=44931079\">1 hour ago</a></span> <span id=\"unv_44931079\"></span> | <a href=\"hide?id=44931079&amp;goto=news\">hide</a> | <a href=\"item?id=44931079\">1&nbsp;comment</a></span></td></tr><tr class=\"spacer\" style=\"height:5px\"></tr><tr class=\"athing submission\" id=\"44960316\"><td align=\"right\" valign=\"top\" class=\"title\"><span class=\"rank\">16.</span></td><td valign=\"top\" class=\"votelinks\"><center><a id=\"up_44960316\" href=\"vote?id=44960316&amp;how=up&amp;goto=news\"><div class=\"votearrow\" title=\"upvote\"></div></a></center></td><td class=\"title\"><span class=\"titleline\"><a href=\"https://tidewave.ai/blog/tidewave-web-phoenix-rails\">Tidewave Web: in-browser coding agent for Rails and Phoenix</a><span class=\"sitebit comhead\"> (<a href=\"from?site=tidewave.ai\"><span class=\"sitestr\">tidewave.ai</span></a>)</span></span></td></tr><tr><td colspan=\"2\"></td><td class=\"subtext\"><span class=\"subline\"><span class=\"score\" id=\"score_44960316\">245 points</span> by <a href=\"user?id=kieloo\" class=\"hnuser\">kieloo</a> <span class=\"age\" title=\"2025-08-20T09:43:04 1755682984\"><a href=\"item?id=44960316\">11 hours ago</a></span> <span id=\"unv_44960316\"></span> | <a href=\"hide?id=44960316&amp;goto=news\">hide</a> | <a href=\"item?id=44960316\">46&nbsp;comments</a></span></td></tr><tr class=\"spacer\" style=\"height:5px\"></tr><tr class=\"athing submission\" id=\"44962529\"><td align=\"right\" valign=\"top\" class=\"title\"><span class=\"rank\">17.</span></td><td valign=\"top\" class=\"votelinks\"><center><a id=\"up_44962529\" href=\"vote?id=44962529&amp;how=up&amp;goto=news\"><div class=\"votearrow\" title=\"upvote\"></div></a></center></td><td class=\"title\"><span class=\"titleline\"><a href=\"https://lock.cmpxchg8b.com/anubis.html\">Why are anime catgirls blocking my access to the Linux kernel?</a><span class=\"sitebit comhead\"> (<a href=\"from?site=cmpxchg8b.com\"><span class=\"sitestr\">cmpxchg8b.com</span></a>)</span></span></td></tr><tr><td colspan=\"2\"></td><td class=\"subtext\"><span class=\"subline\"><span class=\"score\" id=\"score_44962529\">77 points</span> by <a href=\"user?id=taviso\" class=\"hnuser\">taviso</a> <span class=\"age\" title=\"2025-08-20T14:54:45 1755701685\"><a href=\"item?id=44962529\">5 hours ago</a></span> <span id=\"unv_44962529\"></span> | <a href=\"hide?id=44962529&amp;goto=news\">hide</a> | <a href=\"item?id=44962529\">94&nbsp;comments</a></span></td></tr><tr class=\"spacer\" style=\"height:5px\"></tr><tr class=\"athing submission\" id=\"44963226\"><td align=\"right\" valign=\"top\" class=\"title\"><span class=\"rank\">18.</span></td><td valign=\"top\" class=\"votelinks\"><center><a id=\"up_44963226\" href=\"vote?id=44963226&amp;how=up&amp;goto=news\"><div class=\"votearrow\" title=\"upvote\"></div></a></center></td><td class=\"title\"><span class=\"titleline\"><a href=\"https://anchor.dev/relay\">Show HN: Anchor Relay – A faster, easier way to get Let's Encrypt certificates</a><span class=\"sitebit comhead\"> (<a href=\"from?site=anchor.dev\"><span class=\"sitestr\">anchor.dev</span></a>)</span></span></td></tr><tr><td colspan=\"2\"></td><td class=\"subtext\"><span class=\"subline\"><span class=\"score\" id=\"score_44963226\">41 points</span> by <a href=\"user?id=geemus\" class=\"hnuser\">geemus</a> <span class=\"age\" title=\"2025-08-20T16:13:18 1755706398\"><a href=\"item?id=44963226\">4 hours ago</a></span> <span id=\"unv_44963226\"></span> | <a href=\"hide?id=44963226&amp;goto=news\">hide</a> | <a href=\"item?id=44963226\">43&nbsp;comments</a></span></td></tr><tr class=\"spacer\" style=\"height:5px\"></tr><tr class=\"athing submission\" id=\"44961847\"><td align=\"right\" valign=\"top\" class=\"title\"><span class=\"rank\">19.</span></td><td valign=\"top\" class=\"votelinks\"><center><a id=\"up_44961847\" href=\"vote?id=44961847&amp;how=up&amp;goto=news\"><div class=\"votearrow\" title=\"upvote\"></div></a></center></td><td class=\"title\"><span class=\"titleline\"><a href=\"https://tarides.com/blog/2025-08-20-internship-report-refactoring-tools-coming-to-merlin/\">Improvements to OCaml code editing: the basics of a refactor engine</a><span class=\"sitebit comhead\"> (<a href=\"from?site=tarides.com\"><span class=\"sitestr\">tarides.com</span></a>)</span></span></td></tr><tr><td colspan=\"2\"></td><td class=\"subtext\"><span class=\"subline\"><span class=\"score\" id=\"score_44961847\">85 points</span> by <a href=\"user?id=nukifw\" class=\"hnuser\">nukifw</a> <span class=\"age\" title=\"2025-08-20T13:37:15 1755697035\"><a href=\"item?id=44961847\">7 hours ago</a></span> <span id=\"unv_44961847\"></span> | <a href=\"hide?id=44961847&amp;goto=news\">hide</a> | <a href=\"item?id=44961847\">16&nbsp;comments</a></span></td></tr><tr class=\"spacer\" style=\"height:5px\"></tr><tr class=\"athing submission\" id=\"44963135\"><td align=\"right\" valign=\"top\" class=\"title\"><span class=\"rank\">20.</span></td><td valign=\"top\" class=\"votelinks\"><center><a id=\"up_44963135\" href=\"vote?id=44963135&amp;how=up&amp;goto=news\"><div class=\"votearrow\" title=\"upvote\"></div></a></center></td><td class=\"title\"><span class=\"titleline\"><a href=\"https://github.com/luminal-ai/luminal\">Show HN: Luminal – Open-source, search-based GPU compiler</a><span class=\"sitebit comhead\"> (<a href=\"from?site=github.com/luminal-ai\"><span class=\"sitestr\">github.com/luminal-ai</span></a>)</span></span></td></tr><tr><td colspan=\"2\"></td><td class=\"subtext\"><span class=\"subline\"><span class=\"score\" id=\"score_44963135\">58 points</span> by <a href=\"user?id=jafioti\" class=\"hnuser\">jafioti</a> <span class=\"age\" title=\"2025-08-20T16:01:13 1755705673\"><a href=\"item?id=44963135\">4 hours ago</a></span> <span id=\"unv_44963135\"></span> | <a href=\"hide?id=44963135&amp;goto=news\">hide</a> | <a href=\"item?id=44963135\">19&nbsp;comments</a></span></td></tr><tr class=\"spacer\" style=\"height:5px\"></tr><tr class=\"athing submission\" id=\"44964332\"><td align=\"right\" valign=\"top\" class=\"title\"><span class=\"rank\">21.</span></td><td valign=\"top\" class=\"votelinks\"><center><a id=\"up_44964332\" href=\"vote?id=44964332&amp;how=up&amp;goto=news\"><div class=\"votearrow\" title=\"upvote\"></div></a></center></td><td class=\"title\"><span class=\"titleline\"><a href=\"https://github.com/rhodey/bizcardz.ai\">Show HN: Bizcardz.ai – Custom metal business cards</a><span class=\"sitebit comhead\"> (<a href=\"from?site=github.com/rhodey\"><span class=\"sitestr\">github.com/rhodey</span></a>)</span></span></td></tr><tr><td colspan=\"2\"></td><td class=\"subtext\"><span class=\"subline\"><span class=\"score\" id=\"score_44964332\">12 points</span> by <a href=\"user?id=rhodey\" class=\"hnuser\">rhodey</a> <span class=\"age\" title=\"2025-08-20T17:54:22 1755712462\"><a href=\"item?id=44964332\">2 hours ago</a></span> <span id=\"unv_44964332\"></span> | <a href=\"hide?id=44964332&amp;goto=news\">hide</a> | <a href=\"item?id=44964332\">6&nbsp;comments</a></span></td></tr><tr class=\"spacer\" style=\"height:5px\"></tr><tr class=\"athing submission\" id=\"44962844\"><td align=\"right\" valign=\"top\" class=\"title\"><span class=\"rank\">22.</span></td><td valign=\"top\" class=\"votelinks\"><center><a id=\"up_44962844\" href=\"vote?id=44962844&amp;how=up&amp;goto=news\"><div class=\"votearrow\" title=\"upvote\"></div></a></center></td><td class=\"title\"><span class=\"titleline\"><a href=\"https://www.lastweekinaws.com/blog/aws-in-2025-the-stuff-you-think-you-know-thats-now-wrong/\">AWS in 2025: Stuff you think you know that's now wrong</a><span class=\"sitebit comhead\"> (<a href=\"from?site=lastweekinaws.com\"><span class=\"sitestr\">lastweekinaws.com</span></a>)</span></span></td></tr><tr><td colspan=\"2\"></td><td class=\"subtext\"><span class=\"subline\"><span class=\"score\" id=\"score_44962844\">180 points</span> by <a href=\"user?id=keithly\" class=\"hnuser\">keithly</a> <span class=\"age\" title=\"2025-08-20T15:30:07 1755703807\"><a href=\"item?id=44962844\">5 hours ago</a></span> <span id=\"unv_44962844\"></span> | <a href=\"hide?id=44962844&amp;goto=news\">hide</a> | <a href=\"item?id=44962844\">103&nbsp;comments</a></span></td></tr><tr class=\"spacer\" style=\"height:5px\"></tr><tr class=\"athing submission\" id=\"44962767\"><td align=\"right\" valign=\"top\" class=\"title\"><span class=\"rank\">23.</span></td><td valign=\"top\" class=\"votelinks\"><center><a id=\"up_44962767\" href=\"vote?id=44962767&amp;how=up&amp;goto=news\"><div class=\"votearrow\" title=\"upvote\"></div></a></center></td><td class=\"title\"><span class=\"titleline\"><a href=\"https://apps.apple.com/us/app/leascope/id6608979884\">Show HN: What country you would hit if you went straight where you're pointing</a><span class=\"sitebit comhead\"> (<a href=\"from?site=apps.apple.com\"><span class=\"sitestr\">apps.apple.com</span></a>)</span></span></td></tr><tr><td colspan=\"2\"></td><td class=\"subtext\"><span class=\"subline\"><span class=\"score\" id=\"score_44962767\">40 points</span> by <a href=\"user?id=brgross\" class=\"hnuser\">brgross</a> <span class=\"age\" title=\"2025-08-20T15:23:01 1755703381\"><a href=\"item?id=44962767\">3 hours ago</a></span> <span id=\"unv_44962767\"></span> | <a href=\"hide?id=44962767&amp;goto=news\">hide</a> | <a href=\"item?id=44962767\">25&nbsp;comments</a></span></td></tr><tr class=\"spacer\" style=\"height:5px\"></tr><tr class=\"athing submission\" id=\"44958004\"><td align=\"right\" valign=\"top\" class=\"title\"><span class=\"rank\">24.</span></td><td valign=\"top\" class=\"votelinks\"><center><a id=\"up_44958004\" href=\"vote?id=44958004&amp;how=up&amp;goto=news\"><div class=\"votearrow\" title=\"upvote\"></div></a></center></td><td class=\"title\"><span class=\"titleline\"><a href=\"https://www.thedriftmag.com/skill-issues/\">Skill issues – Dialectical Behavior Therapy and its discontents (2024)</a><span class=\"sitebit comhead\"> (<a href=\"from?site=thedriftmag.com\"><span class=\"sitestr\">thedriftmag.com</span></a>)</span></span></td></tr><tr><td colspan=\"2\"></td><td class=\"subtext\"><span class=\"subline\"><span class=\"score\" id=\"score_44958004\">19 points</span> by <a href=\"user?id=zt\" class=\"hnuser\">zt</a> <span class=\"age\" title=\"2025-08-20T01:57:09 1755655029\"><a href=\"item?id=44958004\">2 hours ago</a></span> <span id=\"unv_44958004\"></span> | <a href=\"hide?id=44958004&amp;goto=news\">hide</a> | <a href=\"item?id=44958004\">5&nbsp;comments</a></span></td></tr><tr class=\"spacer\" style=\"height:5px\"></tr><tr class=\"athing submission\" id=\"44963391\"><td align=\"right\" valign=\"top\" class=\"title\"><span class=\"rank\">25.</span></td><td valign=\"top\" class=\"votelinks\"><center><a id=\"up_44963391\" href=\"vote?id=44963391&amp;how=up&amp;goto=news\"><div class=\"votearrow\" title=\"upvote\"></div></a></center></td><td class=\"title\"><span class=\"titleline\"><a href=\"https://semiengineering.com/best-options-for-using-ai-in-chip-design/\">Best Options for Using AI in Chip Design</a><span class=\"sitebit comhead\"> (<a href=\"from?site=semiengineering.com\"><span class=\"sitestr\">semiengineering.com</span></a>)</span></span></td></tr><tr><td colspan=\"2\"></td><td class=\"subtext\"><span class=\"subline\"><span class=\"score\" id=\"score_44963391\">27 points</span> by <a href=\"user?id=rbanffy\" class=\"hnuser\">rbanffy</a> <span class=\"age\" title=\"2025-08-20T16:29:27 1755707367\"><a href=\"item?id=44963391\">4 hours ago</a></span> <span id=\"unv_44963391\"></span> | <a href=\"hide?id=44963391&amp;goto=news\">hide</a> | <a href=\"item?id=44963391\">6&nbsp;comments</a></span></td></tr><tr class=\"spacer\" style=\"height:5px\"></tr><tr class=\"athing submission\" id=\"44943666\"><td align=\"right\" valign=\"top\" class=\"title\"><span class=\"rank\">26.</span></td><td valign=\"top\" class=\"votelinks\"><center><a id=\"up_44943666\" href=\"vote?id=44943666&amp;how=up&amp;goto=news\"><div class=\"votearrow\" title=\"upvote\"></div></a></center></td><td class=\"title\"><span class=\"titleline\"><a href=\"https://jax-ml.github.io/scaling-book/gpus/\">How to Think About GPUs</a><span class=\"sitebit comhead\"> (<a href=\"from?site=jax-ml.github.io\"><span class=\"sitestr\">jax-ml.github.io</span></a>)</span></span></td></tr><tr><td colspan=\"2\"></td><td class=\"subtext\"><span class=\"subline\"><span class=\"score\" id=\"score_44943666\">331 points</span> by <a href=\"user?id=alphabetting\" class=\"hnuser\">alphabetting</a> <span class=\"age\" title=\"2025-08-18T18:18:36 1755541116\"><a href=\"item?id=44943666\">15 hours ago</a></span> <span id=\"unv_44943666\"></span> | <a href=\"hide?id=44943666&amp;goto=news\">hide</a> | <a href=\"item?id=44943666\">103&nbsp;comments</a></span></td></tr><tr class=\"spacer\" style=\"height:5px\"></tr><tr class=\"athing submission\" id=\"44959833\"><td align=\"right\" valign=\"top\" class=\"title\"><span class=\"rank\">27.</span></td><td valign=\"top\" class=\"votelinks\"><center><a id=\"up_44959833\" href=\"vote?id=44959833&amp;how=up&amp;goto=news\"><div class=\"votearrow\" title=\"upvote\"></div></a></center></td><td class=\"title\"><span class=\"titleline\"><a href=\"https://www.rudyrucker.com/mirrorshades/HTML/\">Mirrorshades: The Cyberpunk Anthology (1986)</a><span class=\"sitebit comhead\"> (<a href=\"from?site=rudyrucker.com\"><span class=\"sitestr\">rudyrucker.com</span></a>)</span></span></td></tr><tr><td colspan=\"2\"></td><td class=\"subtext\"><span class=\"subline\"><span class=\"score\" id=\"score_44959833\">115 points</span> by <a href=\"user?id=keepamovin\" class=\"hnuser\">keepamovin</a> <span class=\"age\" title=\"2025-08-20T08:15:00 1755677700\"><a href=\"item?id=44959833\">12 hours ago</a></span> <span id=\"unv_44959833\"></span> | <a href=\"hide?id=44959833&amp;goto=news\">hide</a> | <a href=\"item?id=44959833\">64&nbsp;comments</a></span></td></tr><tr class=\"spacer\" style=\"height:5px\"></tr><tr class=\"athing submission\" id=\"44935850\"><td align=\"right\" valign=\"top\" class=\"title\"><span class=\"rank\">28.</span></td><td valign=\"top\" class=\"votelinks\"><center><a id=\"up_44935850\" href=\"vote?id=44935850&amp;how=up&amp;goto=news\"><div class=\"votearrow\" title=\"upvote\"></div></a></center></td><td class=\"title\"><span class=\"titleline\"><a href=\"https://www.statsignificant.com/p/the-rise-and-fall-of-music-ringtones\">The Rise and Fall of Music Ringtones: A Statistical Analysis</a><span class=\"sitebit comhead\"> (<a href=\"from?site=statsignificant.com\"><span class=\"sitestr\">statsignificant.com</span></a>)</span></span></td></tr><tr><td colspan=\"2\"></td><td class=\"subtext\"><span class=\"subline\"><span class=\"score\" id=\"score_44935850\">28 points</span> by <a href=\"user?id=gmays\" class=\"hnuser\">gmays</a> <span class=\"age\" title=\"2025-08-17T23:29:54 1755473394\"><a href=\"item?id=44935850\">3 hours ago</a></span> <span id=\"unv_44935850\"></span> | <a href=\"hide?id=44935850&amp;goto=news\">hide</a> | <a href=\"item?id=44935850\">31&nbsp;comments</a></span></td></tr><tr class=\"spacer\" style=\"height:5px\"></tr><tr class=\"athing submission\" id=\"44964266\"><td align=\"right\" valign=\"top\" class=\"title\"><span class=\"rank\">29.</span></td><td valign=\"top\" class=\"votelinks\"><center><a id=\"up_44964266\" href=\"vote?id=44964266&amp;how=up&amp;goto=news\"><div class=\"votearrow\" title=\"upvote\"></div></a></center></td><td class=\"title\"><span class=\"titleline\"><a href=\"https://nestable.dev/about\">Show HN: Nestable.dev – local whiteboard app with nestable canvases, deep links</a><span class=\"sitebit comhead\"> (<a href=\"from?site=nestable.dev\"><span class=\"sitestr\">nestable.dev</span></a>)</span></span></td></tr><tr><td colspan=\"2\"></td><td class=\"subtext\"><span class=\"subline\"><span class=\"score\" id=\"score_44964266\">13 points</span> by <a href=\"user?id=anorak27\" class=\"hnuser\">anorak27</a> <span class=\"age\" title=\"2025-08-20T17:50:21 1755712221\"><a href=\"item?id=44964266\">2 hours ago</a></span> <span id=\"unv_44964266\"></span> | <a href=\"hide?id=44964266&amp;goto=news\">hide</a> | <a href=\"item?id=44964266\">5&nbsp;comments</a></span></td></tr><tr class=\"spacer\" style=\"height:5px\"></tr><tr class=\"athing submission\" id=\"44939456\"><td align=\"right\" valign=\"top\" class=\"title\"><span class=\"rank\">30.</span></td><td valign=\"top\" class=\"votelinks\"><center><a id=\"up_44939456\" href=\"vote?id=44939456&amp;how=up&amp;goto=news\"><div class=\"votearrow\" title=\"upvote\"></div></a></center></td><td class=\"title\"><span class=\"titleline\"><a href=\"https://arxiv.org/abs/2508.10791\">MapLibre Tile: A next generation geospatial format optimized for rendering</a><span class=\"sitebit comhead\"> (<a href=\"from?site=arxiv.org\"><span class=\"sitestr\">arxiv.org</span></a>)</span></span></td></tr><tr><td colspan=\"2\"></td><td class=\"subtext\"><span class=\"subline\"><span class=\"score\" id=\"score_44939456\">131 points</span> by <a href=\"user?id=mtremmel\" class=\"hnuser\">mtremmel</a> <span class=\"age\" title=\"2025-08-18T11:28:32 1755516512\"><a href=\"item?id=44939456\">10 hours ago</a></span> <span id=\"unv_44939456\"></span> | <a href=\"hide?id=44939456&amp;goto=news\">hide</a> | <a href=\"item?id=44939456\">11&nbsp;comments</a></span></td></tr><tr class=\"spacer\" style=\"height:5px\"></tr><tr class=\"morespace\" style=\"height:10px\"></tr><tr><td colspan=\"2\"></td><td class=\"title\"><a href=\"?p=2\" class=\"morelink\" rel=\"next\">More</a></td></tr></tbody></table></td></tr><tr><td><img src=\"s.gif\" height=\"10\" width=\"0\"><table width=\"100%\" cellspacing=\"0\" cellpadding=\"1\"><tbody><tr><td bgcolor=\"#ff6600\"></td></tr></tbody></table><br>\n",
            "<center><span class=\"yclinks\"><a href=\"newsguidelines.html\">Guidelines</a> | <a href=\"newsfaq.html\">FAQ</a> | <a href=\"lists\">Lists</a> | <a href=\"https://github.com/HackerNews/API\">API</a> | <a href=\"security.html\">Security</a> | <a href=\"https://www.ycombinator.com/legal/\">Legal</a> | <a href=\"https://www.ycombinator.com/apply/\">Apply to YC</a> | <a href=\"mailto:hn@ycombinator.com\">Contact</a></span><br><br>\n",
            "<form method=\"get\" action=\"//hn.algolia.com/\">Search: <input type=\"text\" name=\"q\" size=\"17\" autocorrect=\"off\" spellcheck=\"false\" autocapitalize=\"off\" autocomplete=\"off\"></form></center></td></tr></tbody></table></center><script type=\"text/javascript\" src=\"hn.js?sJrC2FNC7onakFWpNx3H\"></script></body></html>\n",
            "<html lang=\"en\" op=\"news\"><head><meta name=\"referrer\" content=\"origin\"><meta name=\"viewport\" content=\"width=device-width, initial-scale=1.0\"><link rel=\"stylesheet\" type=\"text/css\" href=\"news.css?sJrC2FNC7onakFWpNx3H\"><link rel=\"icon\" href=\"y18.svg\"><link rel=\"alternate\" type=\"application/rss+xml\" title=\"RSS\" href=\"rss\"><title>Hacker News</title></head><body><center><table id=\"hnmain\" border=\"0\" cellpadding=\"0\" cellspacing=\"0\" width=\"85%\" bgcolor=\"#f6f6ef\"><tbody><tr><td bgcolor=\"#ff6600\"><table border=\"0\" cellpadding=\"0\" cellspacing=\"0\" width=\"100%\" style=\"padding:2px\"><tbody><tr><td style=\"width:18px;padding-right:4px\"><a href=\"https://news.ycombinator.com\"><img src=\"y18.svg\" width=\"18\" height=\"18\" style=\"border:1px white solid; display:block\"></a></td><td style=\"line-height:12pt; height:10px;\"><span class=\"pagetop\"><b class=\"hnname\"><a href=\"news\">Hacker News</a></b><a href=\"newest\">new</a> | <a href=\"front\">past</a> | <a href=\"newcomments\">comments</a> | <a href=\"ask\">ask</a> | <a href=\"show\">show</a> | <a href=\"jobs\">jobs</a> | <a href=\"submit\" rel=\"nofollow\">submit</a></span></td><td style=\"text-align:right;padding-right:4px;\"><span class=\"pagetop\"><a href=\"login?goto=news%3Fp%3D2\">login</a></span></td></tr></tbody></table></td></tr><tr style=\"height:10px\"></tr><tr id=\"bigbox\"><td><table border=\"0\" cellpadding=\"0\" cellspacing=\"0\"><tbody><tr class=\"athing submission\" id=\"44958621\"><td align=\"right\" valign=\"top\" class=\"title\"><span class=\"rank\">31.</span></td><td valign=\"top\" class=\"votelinks\"><center><a id=\"up_44958621\" href=\"vote?id=44958621&amp;how=up&amp;goto=news%3Fp%3D2\"><div class=\"votearrow\" title=\"upvote\"></div></a></center></td><td class=\"title\"><span class=\"titleline\"><a href=\"https://gfw.report/blog/gfw_unconditional_rst_20250820/en/\">Analysis of the GFW's Unconditional Port 443 Block on August 20, 2025</a><span class=\"sitebit comhead\"> (<a href=\"from?site=gfw.report\"><span class=\"sitestr\">gfw.report</span></a>)</span></span></td></tr><tr><td colspan=\"2\"></td><td class=\"subtext\"><span class=\"subline\"><span class=\"score\" id=\"score_44958621\">172 points</span> by <a href=\"user?id=kotri\" class=\"hnuser\">kotri</a> <span class=\"age\" title=\"2025-08-20T04:27:29 1755664049\"><a href=\"item?id=44958621\">16 hours ago</a></span> <span id=\"unv_44958621\"></span> | <a href=\"hide?id=44958621&amp;goto=news%3Fp%3D2\">hide</a> | <a href=\"item?id=44958621\">138&nbsp;comments</a></span></td></tr><tr class=\"spacer\" style=\"height:5px\"></tr><tr class=\"athing submission\" id=\"44959092\"><td align=\"right\" valign=\"top\" class=\"title\"><span class=\"rank\">32.</span></td><td valign=\"top\" class=\"votelinks\"><center><a id=\"up_44959092\" href=\"vote?id=44959092&amp;how=up&amp;goto=news%3Fp%3D2\"><div class=\"votearrow\" title=\"upvote\"></div></a></center></td><td class=\"title\"><span class=\"titleline\"><a href=\"https://www.databricks.com/company/newsroom/press-releases/databricks-raising-series-k-investment-100-billion-valuation\">Databricks is raising a Series K Investment at &gt;$100B valuation</a><span class=\"sitebit comhead\"> (<a href=\"from?site=databricks.com\"><span class=\"sitestr\">databricks.com</span></a>)</span></span></td></tr><tr><td colspan=\"2\"></td><td class=\"subtext\"><span class=\"subline\"><span class=\"score\" id=\"score_44959092\">143 points</span> by <a href=\"user?id=djhu9\" class=\"hnuser\">djhu9</a> <span class=\"age\" title=\"2025-08-20T06:06:15 1755669975\"><a href=\"item?id=44959092\">14 hours ago</a></span> <span id=\"unv_44959092\"></span> | <a href=\"hide?id=44959092&amp;goto=news%3Fp%3D2\">hide</a> | <a href=\"item?id=44959092\">168&nbsp;comments</a></span></td></tr><tr class=\"spacer\" style=\"height:5px\"></tr><tr class=\"athing submission\" id=\"44937819\"><td align=\"right\" valign=\"top\" class=\"title\"><span class=\"rank\">33.</span></td><td valign=\"top\" class=\"votelinks\"><center><a id=\"up_44937819\" href=\"vote?id=44937819&amp;how=up&amp;goto=news%3Fp%3D2\"><div class=\"votearrow\" title=\"upvote\"></div></a></center></td><td class=\"title\"><span class=\"titleline\"><a href=\"https://sites.pitt.edu/~jdnorton/Goodies/block_stacking/block_stacking.html\">The Block Stacking Problem</a><span class=\"sitebit comhead\"> (<a href=\"from?site=pitt.edu\"><span class=\"sitestr\">pitt.edu</span></a>)</span></span></td></tr><tr><td colspan=\"2\"></td><td class=\"subtext\"><span class=\"subline\"><span class=\"score\" id=\"score_44937819\">116 points</span> by <a href=\"user?id=lisper\" class=\"hnuser\">lisper</a> <span class=\"age\" title=\"2025-08-18T06:01:44 1755496904\"><a href=\"item?id=44937819\">11 hours ago</a></span> <span id=\"unv_44937819\"></span> | <a href=\"hide?id=44937819&amp;goto=news%3Fp%3D2\">hide</a> | <a href=\"item?id=44937819\">28&nbsp;comments</a></span></td></tr><tr class=\"spacer\" style=\"height:5px\"></tr><tr class=\"athing submission\" id=\"44956915\"><td align=\"right\" valign=\"top\" class=\"title\"><span class=\"rank\">34.</span></td><td valign=\"top\" class=\"votelinks\"><center><a id=\"up_44956915\" href=\"vote?id=44956915&amp;how=up&amp;goto=news%3Fp%3D2\"><div class=\"votearrow\" title=\"upvote\"></div></a></center></td><td class=\"title\"><span class=\"titleline\"><a href=\"https://muffinman.io/blog/invaders/\">How to Draw a Space Invader</a><span class=\"sitebit comhead\"> (<a href=\"from?site=muffinman.io\"><span class=\"sitestr\">muffinman.io</span></a>)</span></span></td></tr><tr><td colspan=\"2\"></td><td class=\"subtext\"><span class=\"subline\"><span class=\"score\" id=\"score_44956915\">492 points</span> by <a href=\"user?id=abdusco\" class=\"hnuser\">abdusco</a> <span class=\"age\" title=\"2025-08-19T22:41:16 1755643276\"><a href=\"item?id=44956915\">22 hours ago</a></span> <span id=\"unv_44956915\"></span> | <a href=\"hide?id=44956915&amp;goto=news%3Fp%3D2\">hide</a> | <a href=\"item?id=44956915\">52&nbsp;comments</a></span></td></tr><tr class=\"spacer\" style=\"height:5px\"></tr><tr class=\"athing submission\" id=\"44939874\"><td align=\"right\" valign=\"top\" class=\"title\"><span class=\"rank\">35.</span></td><td valign=\"top\" class=\"votelinks\"><center><a id=\"up_44939874\" href=\"vote?id=44939874&amp;how=up&amp;goto=news%3Fp%3D2\"><div class=\"votearrow\" title=\"upvote\"></div></a></center></td><td class=\"title\"><span class=\"titleline\"><a href=\"https://github.com/xyflow/strudel-flow\">Show HN: Strudel Flow, a pattern sequencer built with Strudel and React Flow</a><span class=\"sitebit comhead\"> (<a href=\"from?site=github.com/xyflow\"><span class=\"sitestr\">github.com/xyflow</span></a>)</span></span></td></tr><tr><td colspan=\"2\"></td><td class=\"subtext\"><span class=\"subline\"><span class=\"score\" id=\"score_44939874\">33 points</span> by <a href=\"user?id=moklick\" class=\"hnuser\">moklick</a> <span class=\"age\" title=\"2025-08-18T12:34:43 1755520483\"><a href=\"item?id=44939874\">5 hours ago</a></span> <span id=\"unv_44939874\"></span> | <a href=\"hide?id=44939874&amp;goto=news%3Fp%3D2\">hide</a> | <a href=\"item?id=44939874\">6&nbsp;comments</a></span></td></tr><tr class=\"spacer\" style=\"height:5px\"></tr><tr class=\"athing submission\" id=\"44960594\"><td align=\"right\" valign=\"top\" class=\"title\"><span class=\"rank\">36.</span></td><td valign=\"top\" class=\"votelinks\"><center><a id=\"up_44960594\" href=\"vote?id=44960594&amp;how=up&amp;goto=news%3Fp%3D2\"><div class=\"votearrow\" title=\"upvote\"></div></a></center></td><td class=\"title\"><span class=\"titleline\"><a href=\"https://github.com/automazeio/ccpm\">Show HN: Project management system for Claude Code</a><span class=\"sitebit comhead\"> (<a href=\"from?site=github.com/automazeio\"><span class=\"sitestr\">github.com/automazeio</span></a>)</span></span></td></tr><tr><td colspan=\"2\"></td><td class=\"subtext\"><span class=\"subline\"><span class=\"score\" id=\"score_44960594\">143 points</span> by <a href=\"user?id=aroussi\" class=\"hnuser\">aroussi</a> <span class=\"age\" title=\"2025-08-20T10:32:12 1755685932\"><a href=\"item?id=44960594\">10 hours ago</a></span> <span id=\"unv_44960594\"></span> | <a href=\"hide?id=44960594&amp;goto=news%3Fp%3D2\">hide</a> | <a href=\"item?id=44960594\">92&nbsp;comments</a></span></td></tr><tr class=\"spacer\" style=\"height:5px\"></tr><tr class=\"athing submission\" id=\"44965187\"><td align=\"right\" valign=\"top\" class=\"title\"><span class=\"rank\">37.</span></td><td valign=\"top\" class=\"votelinks\"><center><a id=\"up_44965187\" href=\"vote?id=44965187&amp;how=up&amp;goto=news%3Fp%3D2\"><div class=\"votearrow\" title=\"upvote\"></div></a></center></td><td class=\"title\"><span class=\"titleline\"><a href=\"https://finance.yahoo.com/news/tech-chip-stock-sell-off-continues-as-ai-bubble-fears-mount-184837135.html\">Tech, chip stock sell-off continues as AI bubble fears mount</a><span class=\"sitebit comhead\"> (<a href=\"from?site=yahoo.com\"><span class=\"sitestr\">yahoo.com</span></a>)</span></span></td></tr><tr><td colspan=\"2\"></td><td class=\"subtext\"><span class=\"subline\"><span class=\"score\" id=\"score_44965187\">22 points</span> by <a href=\"user?id=pera\" class=\"hnuser\">pera</a> <span class=\"age\" title=\"2025-08-20T19:10:00 1755717000\"><a href=\"item?id=44965187\">1 hour ago</a></span> <span id=\"unv_44965187\"></span> | <a href=\"hide?id=44965187&amp;goto=news%3Fp%3D2\">hide</a> | <a href=\"item?id=44965187\">5&nbsp;comments</a></span></td></tr><tr class=\"spacer\" style=\"height:5px\"></tr><tr class=\"athing submission\" id=\"44955672\"><td align=\"right\" valign=\"top\" class=\"title\"><span class=\"rank\">38.</span></td><td valign=\"top\" class=\"votelinks\"><center><a id=\"up_44955672\" href=\"vote?id=44955672&amp;how=up&amp;goto=news%3Fp%3D2\"><div class=\"votearrow\" title=\"upvote\"></div></a></center></td><td class=\"title\"><span class=\"titleline\"><a href=\"https://thecausalfallacy.com/p/rossis-revenge\" rel=\"nofollow\">Rossi's Revenge</a><span class=\"sitebit comhead\"> (<a href=\"from?site=thecausalfallacy.com\"><span class=\"sitestr\">thecausalfallacy.com</span></a>)</span></span></td></tr><tr><td colspan=\"2\"></td><td class=\"subtext\"><span class=\"subline\"><span class=\"score\" id=\"score_44955672\">13 points</span> by <a href=\"user?id=exolymph\" class=\"hnuser\">exolymph</a> <span class=\"age\" title=\"2025-08-19T19:58:31 1755633511\"><a href=\"item?id=44955672\">3 hours ago</a></span> <span id=\"unv_44955672\"></span> | <a href=\"hide?id=44955672&amp;goto=news%3Fp%3D2\">hide</a> | <a href=\"item?id=44955672\">6&nbsp;comments</a></span></td></tr><tr class=\"spacer\" style=\"height:5px\"></tr><tr class=\"athing submission\" id=\"44964366\"><td align=\"right\" valign=\"top\" class=\"title\"><span class=\"rank\">39.</span></td><td valign=\"top\" class=\"votelinks\"><center><a id=\"up_44964366\" href=\"vote?id=44964366&amp;how=up&amp;goto=news%3Fp%3D2\"><div class=\"votearrow\" title=\"upvote\"></div></a></center></td><td class=\"title\"><span class=\"titleline\"><a href=\"https://zed.dev/blog/windows-progress-report\">Zed for Windows: What's Taking So Long?</a><span class=\"sitebit comhead\"> (<a href=\"from?site=zed.dev\"><span class=\"sitestr\">zed.dev</span></a>)</span></span></td></tr><tr><td colspan=\"2\"></td><td class=\"subtext\"><span class=\"subline\"><span class=\"score\" id=\"score_44964366\">55 points</span> by <a href=\"user?id=janjones\" class=\"hnuser\">janjones</a> <span class=\"age\" title=\"2025-08-20T17:56:27 1755712587\"><a href=\"item?id=44964366\">2 hours ago</a></span> <span id=\"unv_44964366\"></span> | <a href=\"hide?id=44964366&amp;goto=news%3Fp%3D2\">hide</a> | <a href=\"item?id=44964366\">28&nbsp;comments</a></span></td></tr><tr class=\"spacer\" style=\"height:5px\"></tr><tr class=\"athing submission\" id=\"44964701\"><td align=\"right\" valign=\"top\" class=\"title\"><span class=\"rank\">40.</span></td><td valign=\"top\" class=\"votelinks\"><center><a id=\"up_44964701\" href=\"vote?id=44964701&amp;how=up&amp;goto=news%3Fp%3D2\"><div class=\"votearrow\" title=\"upvote\"></div></a></center></td><td class=\"title\"><span class=\"titleline\"><a href=\"https://ziglang.org/download/0.15.1/release-notes.html\">Zig 0.15.1 Release Notes</a><span class=\"sitebit comhead\"> (<a href=\"from?site=ziglang.org\"><span class=\"sitestr\">ziglang.org</span></a>)</span></span></td></tr><tr><td colspan=\"2\"></td><td class=\"subtext\"><span class=\"subline\"><span class=\"score\" id=\"score_44964701\">34 points</span> by <a href=\"user?id=captainhorst\" class=\"hnuser\">captainhorst</a> <span class=\"age\" title=\"2025-08-20T18:28:23 1755714503\"><a href=\"item?id=44964701\">2 hours ago</a></span> <span id=\"unv_44964701\"></span> | <a href=\"hide?id=44964701&amp;goto=news%3Fp%3D2\">hide</a> | <a href=\"item?id=44964701\">3&nbsp;comments</a></span></td></tr><tr class=\"spacer\" style=\"height:5px\"></tr><tr class=\"athing submission\" id=\"44939873\"><td align=\"right\" valign=\"top\" class=\"title\"><span class=\"rank\">41.</span></td><td valign=\"top\" class=\"votelinks\"><center><a id=\"up_44939873\" href=\"vote?id=44939873&amp;how=up&amp;goto=news%3Fp%3D2\"><div class=\"votearrow\" title=\"upvote\"></div></a></center></td><td class=\"title\"><span class=\"titleline\"><a href=\"https://github.com/tonbo-io/typed-arrow\">Show HN: Typed-arrow – compile‑time Arrow schemas for Rust</a><span class=\"sitebit comhead\"> (<a href=\"from?site=github.com/tonbo-io\"><span class=\"sitestr\">github.com/tonbo-io</span></a>)</span></span></td></tr><tr><td colspan=\"2\"></td><td class=\"subtext\"><span class=\"subline\"><span class=\"score\" id=\"score_44939873\">41 points</span> by <a href=\"user?id=ethegwo\" class=\"hnuser\">ethegwo</a> <span class=\"age\" title=\"2025-08-18T12:34:36 1755520476\"><a href=\"item?id=44939873\">7 hours ago</a></span> <span id=\"unv_44939873\"></span> | <a href=\"hide?id=44939873&amp;goto=news%3Fp%3D2\">hide</a> | <a href=\"item?id=44939873\">4&nbsp;comments</a></span></td></tr><tr class=\"spacer\" style=\"height:5px\"></tr><tr class=\"athing submission\" id=\"44959073\"><td align=\"right\" valign=\"top\" class=\"title\"><span class=\"rank\">42.</span></td><td valign=\"top\" class=\"votelinks\"><center><a id=\"up_44959073\" href=\"vote?id=44959073&amp;how=up&amp;goto=news%3Fp%3D2\"><div class=\"votearrow\" title=\"upvote\"></div></a></center></td><td class=\"title\"><span class=\"titleline\"><a href=\"item?id=44959073\">Ask HN: Why does the US Visa application website do a port-scan of my network?</a></span></td></tr><tr><td colspan=\"2\"></td><td class=\"subtext\"><span class=\"subline\"><span class=\"score\" id=\"score_44959073\">468 points</span> by <a href=\"user?id=mbix77\" class=\"hnuser\">mbix77</a> <span class=\"age\" title=\"2025-08-20T06:03:03 1755669783\"><a href=\"item?id=44959073\">14 hours ago</a></span> <span id=\"unv_44959073\"></span> | <a href=\"hide?id=44959073&amp;goto=news%3Fp%3D2\">hide</a> | <a href=\"item?id=44959073\">219&nbsp;comments</a></span></td></tr><tr class=\"spacer\" style=\"height:5px\"></tr><tr class=\"athing submission\" id=\"44958400\"><td align=\"right\" valign=\"top\" class=\"title\"><span class=\"rank\">43.</span></td><td valign=\"top\" class=\"votelinks\"><center><a id=\"up_44958400\" href=\"vote?id=44958400&amp;how=up&amp;goto=news%3Fp%3D2\"><div class=\"votearrow\" title=\"upvote\"></div></a></center></td><td class=\"title\"><span class=\"titleline\"><a href=\"https://gregoryszorc.com/blog/2021/04/07/modern-ci-is-too-complex-and-misdirected/\">Modern CI is too complex and misdirected (2021)</a><span class=\"sitebit comhead\"> (<a href=\"from?site=gregoryszorc.com\"><span class=\"sitestr\">gregoryszorc.com</span></a>)</span></span></td></tr><tr><td colspan=\"2\"></td><td class=\"subtext\"><span class=\"subline\"><span class=\"score\" id=\"score_44958400\">180 points</span> by <a href=\"user?id=thundergolfer\" class=\"hnuser\">thundergolfer</a> <span class=\"age\" title=\"2025-08-20T03:30:06 1755660606\"><a href=\"item?id=44958400\">17 hours ago</a></span> <span id=\"unv_44958400\"></span> | <a href=\"hide?id=44958400&amp;goto=news%3Fp%3D2\">hide</a> | <a href=\"item?id=44958400\">171&nbsp;comments</a></span></td></tr><tr class=\"spacer\" style=\"height:5px\"></tr><tr class=\"athing submission\" id=\"44957454\"><td align=\"right\" valign=\"top\" class=\"title\"><span class=\"rank\">44.</span></td><td valign=\"top\" class=\"votelinks\"><center><a id=\"up_44957454\" href=\"vote?id=44957454&amp;how=up&amp;goto=news%3Fp%3D2\"><div class=\"votearrow\" title=\"upvote\"></div></a></center></td><td class=\"title\"><span class=\"titleline\"><a href=\"https://pistachioapp.com/blog/copilot-broke-your-audit-log\">Copilot broke audit logs, but Microsoft won't tell customers</a><span class=\"sitebit comhead\"> (<a href=\"from?site=pistachioapp.com\"><span class=\"sitestr\">pistachioapp.com</span></a>)</span></span></td></tr><tr><td colspan=\"2\"></td><td class=\"subtext\"><span class=\"subline\"><span class=\"score\" id=\"score_44957454\">734 points</span> by <a href=\"user?id=Sayrus\" class=\"hnuser\">Sayrus</a> <span class=\"age\" title=\"2025-08-20T00:18:00 1755649080\"><a href=\"item?id=44957454\">20 hours ago</a></span> <span id=\"unv_44957454\"></span> | <a href=\"hide?id=44957454&amp;goto=news%3Fp%3D2\">hide</a> | <a href=\"item?id=44957454\">273&nbsp;comments</a></span></td></tr><tr class=\"spacer\" style=\"height:5px\"></tr><tr class=\"athing submission\" id=\"44957443\"><td align=\"right\" valign=\"top\" class=\"title\"><span class=\"rank\">45.</span></td><td valign=\"top\" class=\"votelinks\"><center><a id=\"up_44957443\" href=\"vote?id=44957443&amp;how=up&amp;goto=news%3Fp%3D2\"><div class=\"votearrow\" title=\"upvote\"></div></a></center></td><td class=\"title\"><span class=\"titleline\"><a href=\"https://agents.md/\">AGENTS.md – Open format for guiding coding agents</a><span class=\"sitebit comhead\"> (<a href=\"from?site=agents.md\"><span class=\"sitestr\">agents.md</span></a>)</span></span></td></tr><tr><td colspan=\"2\"></td><td class=\"subtext\"><span class=\"subline\"><span class=\"score\" id=\"score_44957443\">768 points</span> by <a href=\"user?id=ghuntley\" class=\"hnuser\">ghuntley</a> <span class=\"age\" title=\"2025-08-20T00:15:03 1755648903\"><a href=\"item?id=44957443\">20 hours ago</a></span> <span id=\"unv_44957443\"></span> | <a href=\"hide?id=44957443&amp;goto=news%3Fp%3D2\">hide</a> | <a href=\"item?id=44957443\">360&nbsp;comments</a></span></td></tr><tr class=\"spacer\" style=\"height:5px\"></tr><tr class=\"athing submission\" id=\"44963594\"><td align=\"right\" valign=\"top\" class=\"title\"><span class=\"rank\">46.</span></td><td valign=\"top\" class=\"votelinks\"><center><a id=\"up_44963594\" href=\"vote?id=44963594&amp;how=up&amp;goto=news%3Fp%3D2\"><div class=\"votearrow\" title=\"upvote\"></div></a></center></td><td class=\"title\"><span class=\"titleline\"><a href=\"https://www.jakepoz.com/debugging-behind-the-iron-curtain/\">Debugging Behind the Iron Curtain (2010)</a><span class=\"sitebit comhead\"> (<a href=\"from?site=jakepoz.com\"><span class=\"sitestr\">jakepoz.com</span></a>)</span></span></td></tr><tr><td colspan=\"2\"></td><td class=\"subtext\"><span class=\"subline\"><span class=\"score\" id=\"score_44963594\">76 points</span> by <a href=\"user?id=indrora\" class=\"hnuser\">indrora</a> <span class=\"age\" title=\"2025-08-20T16:53:35 1755708815\"><a href=\"item?id=44963594\">3 hours ago</a></span> <span id=\"unv_44963594\"></span> | <a href=\"hide?id=44963594&amp;goto=news%3Fp%3D2\">hide</a> | <a href=\"item?id=44963594\">34&nbsp;comments</a></span></td></tr><tr class=\"spacer\" style=\"height:5px\"></tr><tr class=\"athing submission\" id=\"44939165\"><td align=\"right\" valign=\"top\" class=\"title\"><span class=\"rank\">47.</span></td><td valign=\"top\" class=\"votelinks\"><center><a id=\"up_44939165\" href=\"vote?id=44939165&amp;how=up&amp;goto=news%3Fp%3D2\"><div class=\"votearrow\" title=\"upvote\"></div></a></center></td><td class=\"title\"><span class=\"titleline\"><a href=\"https://www.wired.com/story/the-end-of-handwriting/\">The End of Handwriting</a><span class=\"sitebit comhead\"> (<a href=\"from?site=wired.com\"><span class=\"sitestr\">wired.com</span></a>)</span></span></td></tr><tr><td colspan=\"2\"></td><td class=\"subtext\"><span class=\"subline\"><span class=\"score\" id=\"score_44939165\">116 points</span> by <a href=\"user?id=beardyw\" class=\"hnuser\">beardyw</a> <span class=\"age\" title=\"2025-08-18T10:37:25 1755513445\"><a href=\"item?id=44939165\">18 hours ago</a></span> <span id=\"unv_44939165\"></span> | <a href=\"hide?id=44939165&amp;goto=news%3Fp%3D2\">hide</a> | <a href=\"item?id=44939165\">273&nbsp;comments</a></span></td></tr><tr class=\"spacer\" style=\"height:5px\"></tr><tr class=\"athing submission\" id=\"44965577\"><td align=\"right\" valign=\"top\" class=\"title\"><span class=\"rank\">48.</span></td><td valign=\"top\" class=\"votelinks\"><center><a id=\"up_44965577\" href=\"vote?id=44965577&amp;how=up&amp;goto=news%3Fp%3D2\"><div class=\"votearrow\" title=\"upvote\"></div></a></center></td><td class=\"title\"><span class=\"titleline\"><a href=\"https://twitter.com/SebastienBubeck/status/1958198661139009862\" rel=\"nofollow\">Claim: GPT-5-pro can prove new interesting mathematics</a><span class=\"sitebit comhead\"> (<a href=\"from?site=twitter.com/sebastienbubeck\"><span class=\"sitestr\">twitter.com/sebastienbubeck</span></a>)</span></span></td></tr><tr><td colspan=\"2\"></td><td class=\"subtext\"><span class=\"subline\"><span class=\"score\" id=\"score_44965577\">7 points</span> by <a href=\"user?id=marcuschong\" class=\"hnuser\">marcuschong</a> <span class=\"age\" title=\"2025-08-20T19:42:45 1755718965\"><a href=\"item?id=44965577\">1 hour ago</a></span> <span id=\"unv_44965577\"></span> | <a href=\"hide?id=44965577&amp;goto=news%3Fp%3D2\">hide</a> | <a href=\"item?id=44965577\">discuss</a></span></td></tr><tr class=\"spacer\" style=\"height:5px\"></tr><tr class=\"athing submission\" id=\"44950972\"><td align=\"right\" valign=\"top\" class=\"title\"><span class=\"rank\">49.</span></td><td valign=\"top\" class=\"votelinks\"><center><a id=\"up_44950972\" href=\"vote?id=44950972&amp;how=up&amp;goto=news%3Fp%3D2\"><div class=\"votearrow\" title=\"upvote\"></div></a></center></td><td class=\"title\"><span class=\"titleline\"><a href=\"https://www.orioledb.com/blog/batch-inserts\" rel=\"nofollow\">Ordered Insertion Optimization in OrioleDB</a><span class=\"sitebit comhead\"> (<a href=\"from?site=orioledb.com\"><span class=\"sitestr\">orioledb.com</span></a>)</span></span></td></tr><tr><td colspan=\"2\"></td><td class=\"subtext\"><span class=\"subline\"><span class=\"score\" id=\"score_44950972\">14 points</span> by <a href=\"user?id=akorotkov\" class=\"hnuser\">akorotkov</a> <span class=\"age\" title=\"2025-08-19T12:54:47 1755608087\"><a href=\"item?id=44950972\">4 hours ago</a></span> <span id=\"unv_44950972\"></span> | <a href=\"hide?id=44950972&amp;goto=news%3Fp%3D2\">hide</a> | <a href=\"item?id=44950972\">1&nbsp;comment</a></span></td></tr><tr class=\"spacer\" style=\"height:5px\"></tr><tr class=\"athing submission\" id=\"44963161\"><td align=\"right\" valign=\"top\" class=\"title\"><span class=\"rank\">50.</span></td><td valign=\"top\" class=\"votelinks\"><center><a id=\"up_44963161\" href=\"vote?id=44963161&amp;how=up&amp;goto=news%3Fp%3D2\"><div class=\"votearrow\" title=\"upvote\"></div></a></center></td><td class=\"title\"><span class=\"titleline\"><a href=\"https://shamans.dev/research/ai-code-security-analysis\" rel=\"nofollow\">We Found Zero Low-Severity Bugs in 165 AI Code Reports. Zero</a><span class=\"sitebit comhead\"> (<a href=\"from?site=shamans.dev\"><span class=\"sitestr\">shamans.dev</span></a>)</span></span></td></tr><tr><td colspan=\"2\"></td><td class=\"subtext\"><span class=\"subline\"><span class=\"score\" id=\"score_44963161\">10 points</span> by <a href=\"user?id=dmonroy\" class=\"hnuser\">dmonroy</a> <span class=\"age\" title=\"2025-08-20T16:04:33 1755705873\"><a href=\"item?id=44963161\">4 hours ago</a></span> <span id=\"unv_44963161\"></span> | <a href=\"hide?id=44963161&amp;goto=news%3Fp%3D2\">hide</a> | <a href=\"item?id=44963161\">3&nbsp;comments</a></span></td></tr><tr class=\"spacer\" style=\"height:5px\"></tr><tr class=\"athing submission\" id=\"44966030\"><td align=\"right\" valign=\"top\" class=\"title\"><span class=\"rank\">51.</span></td><td valign=\"top\" class=\"votelinks\"><center><a id=\"up_44966030\" href=\"vote?id=44966030&amp;how=up&amp;goto=news%3Fp%3D2\"><div class=\"votearrow\" title=\"upvote\"></div></a></center></td><td class=\"title\"><span class=\"titleline\"><a href=\"https://hacktoberfest.com\" rel=\"nofollow\">Hacktoberfest 2025</a><span class=\"sitebit comhead\"> (<a href=\"from?site=hacktoberfest.com\"><span class=\"sitestr\">hacktoberfest.com</span></a>)</span></span></td></tr><tr><td colspan=\"2\"></td><td class=\"subtext\"><span class=\"subline\"><span class=\"score\" id=\"score_44966030\">3 points</span> by <a href=\"user?id=enceladus06\" class=\"hnuser\">enceladus06</a> <span class=\"age\" title=\"2025-08-20T20:24:44 1755721484\"><a href=\"item?id=44966030\">19 minutes ago</a></span> <span id=\"unv_44966030\"></span> | <a href=\"hide?id=44966030&amp;goto=news%3Fp%3D2\">hide</a> | <a href=\"item?id=44966030\">discuss</a></span></td></tr><tr class=\"spacer\" style=\"height:5px\"></tr><tr class=\"athing submission\" id=\"44957157\"><td align=\"right\" valign=\"top\" class=\"title\"><span class=\"rank\">52.</span></td><td valign=\"top\" class=\"votelinks\"><center><a id=\"up_44957157\" href=\"vote?id=44957157&amp;how=up&amp;goto=news%3Fp%3D2\"><div class=\"votearrow\" title=\"upvote\"></div></a></center></td><td class=\"title\"><span class=\"titleline\"><a href=\"https://nautil.us/a-rogue-new-life-form-1232095/\">Tiny microbe challenges the definition of cellular life</a><span class=\"sitebit comhead\"> (<a href=\"from?site=nautil.us\"><span class=\"sitestr\">nautil.us</span></a>)</span></span></td></tr><tr><td colspan=\"2\"></td><td class=\"subtext\"><span class=\"subline\"><span class=\"score\" id=\"score_44957157\">144 points</span> by <a href=\"user?id=jnord\" class=\"hnuser\">jnord</a> <span class=\"age\" title=\"2025-08-19T23:18:48 1755645528\"><a href=\"item?id=44957157\">21 hours ago</a></span> <span id=\"unv_44957157\"></span> | <a href=\"hide?id=44957157&amp;goto=news%3Fp%3D2\">hide</a> | <a href=\"item?id=44957157\">69&nbsp;comments</a></span></td></tr><tr class=\"spacer\" style=\"height:5px\"></tr><tr class=\"athing submission\" id=\"44939849\"><td align=\"right\" valign=\"top\" class=\"title\"><span class=\"rank\">53.</span></td><td valign=\"top\" class=\"votelinks\"><center><a id=\"up_44939849\" href=\"vote?id=44939849&amp;how=up&amp;goto=news%3Fp%3D2\"><div class=\"votearrow\" title=\"upvote\"></div></a></center></td><td class=\"title\"><span class=\"titleline\"><a href=\"https://hothardware.com/news/intel-foundry-demos-deer-creek-falls-reference-soc\">Intel Foundry demonstrates first Arm-based chip on 18a node</a><span class=\"sitebit comhead\"> (<a href=\"from?site=hothardware.com\"><span class=\"sitestr\">hothardware.com</span></a>)</span></span></td></tr><tr><td colspan=\"2\"></td><td class=\"subtext\"><span class=\"subline\"><span class=\"score\" id=\"score_44939849\">113 points</span> by <a href=\"user?id=rbanffy\" class=\"hnuser\">rbanffy</a> <span class=\"age\" title=\"2025-08-18T12:31:18 1755520278\"><a href=\"item?id=44939849\">21 hours ago</a></span> <span id=\"unv_44939849\"></span> | <a href=\"hide?id=44939849&amp;goto=news%3Fp%3D2\">hide</a> | <a href=\"item?id=44939849\">92&nbsp;comments</a></span></td></tr><tr class=\"spacer\" style=\"height:5px\"></tr><tr class=\"athing submission\" id=\"44963715\"><td align=\"right\" valign=\"top\" class=\"title\"><span class=\"rank\">54.</span></td><td valign=\"top\" class=\"votelinks\"><center><a id=\"up_44963715\" href=\"vote?id=44963715&amp;how=up&amp;goto=news%3Fp%3D2\"><div class=\"votearrow\" title=\"upvote\"></div></a></center></td><td class=\"title\"><span class=\"titleline\"><a href=\"https://www.nytimes.com/2025/08/20/business/dealbook/ai-dip-blip-palantir-nvidia.html\">Is the A.I. Sell-Off the Start of Something Bigger?</a><span class=\"sitebit comhead\"> (<a href=\"from?site=nytimes.com\"><span class=\"sitestr\">nytimes.com</span></a>)</span></span></td></tr><tr><td colspan=\"2\"></td><td class=\"subtext\"><span class=\"subline\"><span class=\"score\" id=\"score_44963715\">38 points</span> by <a href=\"user?id=voxadam\" class=\"hnuser\">voxadam</a> <span class=\"age\" title=\"2025-08-20T17:04:10 1755709450\"><a href=\"item?id=44963715\">3 hours ago</a></span> <span id=\"unv_44963715\"></span> | <a href=\"hide?id=44963715&amp;goto=news%3Fp%3D2\">hide</a> | <a href=\"item?id=44963715\">12&nbsp;comments</a></span></td></tr><tr class=\"spacer\" style=\"height:5px\"></tr><tr class=\"athing submission\" id=\"44965474\"><td align=\"right\" valign=\"top\" class=\"title\"><span class=\"rank\">55.</span></td><td valign=\"top\" class=\"votelinks\"><center><a id=\"up_44965474\" href=\"vote?id=44965474&amp;how=up&amp;goto=news%3Fp%3D2\"><div class=\"votearrow\" title=\"upvote\"></div></a></center></td><td class=\"title\"><span class=\"titleline\"><a href=\"https://garymarcus.substack.com/p/is-this-the-moment-when-the-generative\" rel=\"nofollow\">Is this the moment when the Generative AI bubble deflates?</a><span class=\"sitebit comhead\"> (<a href=\"from?site=garymarcus.substack.com\"><span class=\"sitestr\">garymarcus.substack.com</span></a>)</span></span></td></tr><tr><td colspan=\"2\"></td><td class=\"subtext\"><span class=\"subline\"><span class=\"score\" id=\"score_44965474\">9 points</span> by <a href=\"user?id=MarcusWasRight\" class=\"hnuser\">MarcusWasRight</a> <span class=\"age\" title=\"2025-08-20T19:33:49 1755718429\"><a href=\"item?id=44965474\">1 hour ago</a></span> <span id=\"unv_44965474\"></span> | <a href=\"hide?id=44965474&amp;goto=news%3Fp%3D2\">hide</a> | <a href=\"item?id=44965474\">1&nbsp;comment</a></span></td></tr><tr class=\"spacer\" style=\"height:5px\"></tr><tr class=\"athing submission\" id=\"44963882\"><td align=\"right\" valign=\"top\" class=\"title\"><span class=\"rank\">56.</span></td><td valign=\"top\" class=\"votelinks\"><center><a id=\"up_44963882\" href=\"vote?id=44963882&amp;how=up&amp;goto=news%3Fp%3D2\"><div class=\"votearrow\" title=\"upvote\"></div></a></center></td><td class=\"title\"><span class=\"titleline\"><a href=\"https://www.nytimes.com/2025/08/20/us/politics/security-clearances-scientist-fired.html\">NSA's Acting Director Tried to Save Top Scientist from Purge</a><span class=\"sitebit comhead\"> (<a href=\"from?site=nytimes.com\"><span class=\"sitestr\">nytimes.com</span></a>)</span></span></td></tr><tr><td colspan=\"2\"></td><td class=\"subtext\"><span class=\"subline\"><span class=\"score\" id=\"score_44963882\">27 points</span> by <a href=\"user?id=_tk_\" class=\"hnuser\">_tk_</a> <span class=\"age\" title=\"2025-08-20T17:18:34 1755710314\"><a href=\"item?id=44963882\">3 hours ago</a></span> <span id=\"unv_44963882\"></span> | <a href=\"hide?id=44963882&amp;goto=news%3Fp%3D2\">hide</a> | <a href=\"item?id=44963882\">28&nbsp;comments</a></span></td></tr><tr class=\"spacer\" style=\"height:5px\"></tr><tr class=\"athing submission\" id=\"44958020\"><td align=\"right\" valign=\"top\" class=\"title\"><span class=\"rank\">57.</span></td><td valign=\"top\" class=\"votelinks\"><center><a id=\"up_44958020\" href=\"vote?id=44958020&amp;how=up&amp;goto=news%3Fp%3D2\"><div class=\"votearrow\" title=\"upvote\"></div></a></center></td><td class=\"title\"><span class=\"titleline\"><a href=\"https://www.mooreds.com/wordpress/archives/3530\">The value of hitting the HN front page</a><span class=\"sitebit comhead\"> (<a href=\"from?site=mooreds.com\"><span class=\"sitestr\">mooreds.com</span></a>)</span></span></td></tr><tr><td colspan=\"2\"></td><td class=\"subtext\"><span class=\"subline\"><span class=\"score\" id=\"score_44958020\">191 points</span> by <a href=\"user?id=mooreds\" class=\"hnuser\">mooreds</a> <span class=\"age\" title=\"2025-08-20T02:00:11 1755655211\"><a href=\"item?id=44958020\">18 hours ago</a></span> <span id=\"unv_44958020\"></span> | <a href=\"hide?id=44958020&amp;goto=news%3Fp%3D2\">hide</a> | <a href=\"item?id=44958020\">101&nbsp;comments</a></span></td></tr><tr class=\"spacer\" style=\"height:5px\"></tr><tr class=\"athing submission\" id=\"44938667\"><td align=\"right\" valign=\"top\" class=\"title\"><span class=\"rank\">58.</span></td><td valign=\"top\" class=\"votelinks\"><center><a id=\"up_44938667\" href=\"vote?id=44938667&amp;how=up&amp;goto=news%3Fp%3D2\"><div class=\"votearrow\" title=\"upvote\"></div></a></center></td><td class=\"title\"><span class=\"titleline\"><a href=\"https://github.com/railsjazz/rails_charts\">Rails Charts Using ECharts from Apache</a><span class=\"sitebit comhead\"> (<a href=\"from?site=github.com/railsjazz\"><span class=\"sitestr\">github.com/railsjazz</span></a>)</span></span></td></tr><tr><td colspan=\"2\"></td><td class=\"subtext\"><span class=\"subline\"><span class=\"score\" id=\"score_44938667\">81 points</span> by <a href=\"user?id=amalinovic\" class=\"hnuser\">amalinovic</a> <span class=\"age\" title=\"2025-08-18T09:00:53 1755507653\"><a href=\"item?id=44938667\">20 hours ago</a></span> <span id=\"unv_44938667\"></span> | <a href=\"hide?id=44938667&amp;goto=news%3Fp%3D2\">hide</a> | <a href=\"item?id=44938667\">6&nbsp;comments</a></span></td></tr><tr class=\"spacer\" style=\"height:5px\"></tr><tr class=\"athing submission\" id=\"44938718\"><td align=\"right\" valign=\"top\" class=\"title\"><span class=\"rank\">59.</span></td><td valign=\"top\" class=\"votelinks\"><center><a id=\"up_44938718\" href=\"vote?id=44938718&amp;how=up&amp;goto=news%3Fp%3D2\"><div class=\"votearrow\" title=\"upvote\"></div></a></center></td><td class=\"title\"><span class=\"titleline\"><a href=\"https://github.com/mikasjp/BusyBee\">Fast and observable background job processing for .NET</a><span class=\"sitebit comhead\"> (<a href=\"from?site=github.com/mikasjp\"><span class=\"sitestr\">github.com/mikasjp</span></a>)</span></span></td></tr><tr><td colspan=\"2\"></td><td class=\"subtext\"><span class=\"subline\"><span class=\"score\" id=\"score_44938718\">66 points</span> by <a href=\"user?id=mikasjp\" class=\"hnuser\">mikasjp</a> <span class=\"age\" title=\"2025-08-18T09:11:16 1755508276\"><a href=\"item?id=44938718\">14 hours ago</a></span> <span id=\"unv_44938718\"></span> | <a href=\"hide?id=44938718&amp;goto=news%3Fp%3D2\">hide</a> | <a href=\"item?id=44938718\">25&nbsp;comments</a></span></td></tr><tr class=\"spacer\" style=\"height:5px\"></tr><tr class=\"athing submission\" id=\"44965711\"><td align=\"right\" valign=\"top\" class=\"title\"><span class=\"rank\">60.</span></td><td valign=\"top\" class=\"votelinks\"><center><a id=\"up_44965711\" href=\"vote?id=44965711&amp;how=up&amp;goto=news%3Fp%3D2\"><div class=\"votearrow\" title=\"upvote\"></div></a></center></td><td class=\"title\"><span class=\"titleline\"><a href=\"https://drewdevault.com/2025/08/20/2025-08-20-Hare-and-Wren.html\" rel=\"nofollow\">Embedding Wren in Hare</a><span class=\"sitebit comhead\"> (<a href=\"from?site=drewdevault.com\"><span class=\"sitestr\">drewdevault.com</span></a>)</span></span></td></tr><tr><td colspan=\"2\"></td><td class=\"subtext\"><span class=\"subline\"><span class=\"score\" id=\"score_44965711\">4 points</span> by <a href=\"user?id=mrtz\" class=\"hnuser\">mrtz</a> <span class=\"age\" title=\"2025-08-20T19:53:59 1755719639\"><a href=\"item?id=44965711\">50 minutes ago</a></span> <span id=\"unv_44965711\"></span> | <a href=\"hide?id=44965711&amp;goto=news%3Fp%3D2\">hide</a> | <a href=\"item?id=44965711\">discuss</a></span></td></tr><tr class=\"spacer\" style=\"height:5px\"></tr><tr class=\"morespace\" style=\"height:10px\"></tr><tr><td colspan=\"2\"></td><td class=\"title\"><a href=\"?p=3\" class=\"morelink\" rel=\"next\">More</a></td></tr></tbody></table></td></tr><tr><td><img src=\"s.gif\" height=\"10\" width=\"0\"><table width=\"100%\" cellspacing=\"0\" cellpadding=\"1\"><tbody><tr><td bgcolor=\"#ff6600\"></td></tr></tbody></table><br>\n",
            "<center><span class=\"yclinks\"><a href=\"newsguidelines.html\">Guidelines</a> | <a href=\"newsfaq.html\">FAQ</a> | <a href=\"lists\">Lists</a> | <a href=\"https://github.com/HackerNews/API\">API</a> | <a href=\"security.html\">Security</a> | <a href=\"https://www.ycombinator.com/legal/\">Legal</a> | <a href=\"https://www.ycombinator.com/apply/\">Apply to YC</a> | <a href=\"mailto:hn@ycombinator.com\">Contact</a></span><br><br>\n",
            "<form method=\"get\" action=\"//hn.algolia.com/\">Search: <input type=\"text\" name=\"q\" size=\"17\" autocorrect=\"off\" spellcheck=\"false\" autocapitalize=\"off\" autocomplete=\"off\"></form></center></td></tr></tbody></table></center><script type=\"text/javascript\" src=\"hn.js?sJrC2FNC7onakFWpNx3H\"></script></body></html>\n",
            "<html lang=\"en\" op=\"news\"><head><meta name=\"referrer\" content=\"origin\"><meta name=\"viewport\" content=\"width=device-width, initial-scale=1.0\"><link rel=\"stylesheet\" type=\"text/css\" href=\"news.css?sJrC2FNC7onakFWpNx3H\"><link rel=\"icon\" href=\"y18.svg\"><link rel=\"alternate\" type=\"application/rss+xml\" title=\"RSS\" href=\"rss\"><title>Hacker News</title></head><body><center><table id=\"hnmain\" border=\"0\" cellpadding=\"0\" cellspacing=\"0\" width=\"85%\" bgcolor=\"#f6f6ef\"><tbody><tr><td bgcolor=\"#ff6600\"><table border=\"0\" cellpadding=\"0\" cellspacing=\"0\" width=\"100%\" style=\"padding:2px\"><tbody><tr><td style=\"width:18px;padding-right:4px\"><a href=\"https://news.ycombinator.com\"><img src=\"y18.svg\" width=\"18\" height=\"18\" style=\"border:1px white solid; display:block\"></a></td><td style=\"line-height:12pt; height:10px;\"><span class=\"pagetop\"><b class=\"hnname\"><a href=\"news\">Hacker News</a></b><a href=\"newest\">new</a> | <a href=\"front\">past</a> | <a href=\"newcomments\">comments</a> | <a href=\"ask\">ask</a> | <a href=\"show\">show</a> | <a href=\"jobs\">jobs</a> | <a href=\"submit\" rel=\"nofollow\">submit</a></span></td><td style=\"text-align:right;padding-right:4px;\"><span class=\"pagetop\"><a href=\"login?goto=news%3Fp%3D3\">login</a></span></td></tr></tbody></table></td></tr><tr style=\"height:10px\"></tr><tr id=\"bigbox\"><td><table border=\"0\" cellpadding=\"0\" cellspacing=\"0\"><tbody><tr class=\"athing submission\" id=\"44939423\"><td align=\"right\" valign=\"top\" class=\"title\"><span class=\"rank\">61.</span></td><td valign=\"top\" class=\"votelinks\"><center><a id=\"up_44939423\" href=\"vote?id=44939423&amp;how=up&amp;goto=news%3Fp%3D3\"><div class=\"votearrow\" title=\"upvote\"></div></a></center></td><td class=\"title\"><span class=\"titleline\"><a href=\"https://noteflakes.com/articles/2025-08-18-how-to-make-ruby-faster\">How I Made Ruby Faster Than Ruby</a><span class=\"sitebit comhead\"> (<a href=\"from?site=noteflakes.com\"><span class=\"sitestr\">noteflakes.com</span></a>)</span></span></td></tr><tr><td colspan=\"2\"></td><td class=\"subtext\"><span class=\"subline\"><span class=\"score\" id=\"score_44939423\">82 points</span> by <a href=\"user?id=ciconia\" class=\"hnuser\">ciconia</a> <span class=\"age\" title=\"2025-08-18T11:22:22 1755516142\"><a href=\"item?id=44939423\">17 hours ago</a></span> <span id=\"unv_44939423\"></span> | <a href=\"hide?id=44939423&amp;goto=news%3Fp%3D3\">hide</a> | <a href=\"item?id=44939423\">23&nbsp;comments</a></span></td></tr><tr class=\"spacer\" style=\"height:5px\"></tr><tr class=\"athing submission\" id=\"44956730\"><td align=\"right\" valign=\"top\" class=\"title\"><span class=\"rank\">62.</span></td><td valign=\"top\" class=\"votelinks\"><center><a id=\"up_44956730\" href=\"vote?id=44956730&amp;how=up&amp;goto=news%3Fp%3D3\"><div class=\"votearrow\" title=\"upvote\"></div></a></center></td><td class=\"title\"><span class=\"titleline\"><a href=\"https://languagehat.com/the-forgotten-meaning-of-jerk/\">The forgotten meaning of \"jerk\"</a><span class=\"sitebit comhead\"> (<a href=\"from?site=languagehat.com\"><span class=\"sitestr\">languagehat.com</span></a>)</span></span></td></tr><tr><td colspan=\"2\"></td><td class=\"subtext\"><span class=\"subline\"><span class=\"score\" id=\"score_44956730\">121 points</span> by <a href=\"user?id=aspenmayer\" class=\"hnuser\">aspenmayer</a> <span class=\"age\" title=\"2025-08-19T22:11:29 1755641489\"><a href=\"item?id=44956730\">22 hours ago</a></span> <span id=\"unv_44956730\"></span> | <a href=\"hide?id=44956730&amp;goto=news%3Fp%3D3\">hide</a> | <a href=\"item?id=44956730\">122&nbsp;comments</a></span></td></tr><tr class=\"spacer\" style=\"height:5px\"></tr><tr class=\"athing submission\" id=\"44939654\"><td align=\"right\" valign=\"top\" class=\"title\"><span class=\"rank\">63.</span></td><td valign=\"top\" class=\"votelinks\"><center><a id=\"up_44939654\" href=\"vote?id=44939654&amp;how=up&amp;goto=news%3Fp%3D3\"><div class=\"votearrow\" title=\"upvote\"></div></a></center></td><td class=\"title\"><span class=\"titleline\"><a href=\"https://aartaka.me/customize-repl.html\">Customizing Lisp REPLs</a><span class=\"sitebit comhead\"> (<a href=\"from?site=aartaka.me\"><span class=\"sitestr\">aartaka.me</span></a>)</span></span></td></tr><tr><td colspan=\"2\"></td><td class=\"subtext\"><span class=\"subline\"><span class=\"score\" id=\"score_44939654\">68 points</span> by <a href=\"user?id=nemoniac\" class=\"hnuser\">nemoniac</a> <span class=\"age\" title=\"2025-08-18T11:57:19 1755518239\"><a href=\"item?id=44939654\">15 hours ago</a></span> <span id=\"unv_44939654\"></span> | <a href=\"hide?id=44939654&amp;goto=news%3Fp%3D3\">hide</a> | <a href=\"item?id=44939654\">15&nbsp;comments</a></span></td></tr><tr class=\"spacer\" style=\"height:5px\"></tr><tr class=\"athing submission\" id=\"44965594\"><td align=\"right\" valign=\"top\" class=\"title\"><span class=\"rank\">64.</span></td><td valign=\"top\" class=\"votelinks\"><center><a id=\"up_44965594\" href=\"vote?id=44965594&amp;how=up&amp;goto=news%3Fp%3D3\"><div class=\"votearrow\" title=\"upvote\"></div></a></center></td><td class=\"title\"><span class=\"titleline\"><a href=\"https://www.adweek.com/media/whistleblower-alleges-meta-artificially-boosted-shops-ads-performance/\" rel=\"nofollow\">Whistleblower Alleges Meta Artificially Boosted Shops Ads Performance</a><span class=\"sitebit comhead\"> (<a href=\"from?site=adweek.com\"><span class=\"sitestr\">adweek.com</span></a>)</span></span></td></tr><tr><td colspan=\"2\"></td><td class=\"subtext\"><span class=\"subline\"><span class=\"score\" id=\"score_44965594\">7 points</span> by <a href=\"user?id=mikece\" class=\"hnuser\">mikece</a> <span class=\"age\" title=\"2025-08-20T19:44:16 1755719056\"><a href=\"item?id=44965594\">1 hour ago</a></span> <span id=\"unv_44965594\"></span> | <a href=\"hide?id=44965594&amp;goto=news%3Fp%3D3\">hide</a> | <a href=\"item?id=44965594\">discuss</a></span></td></tr><tr class=\"spacer\" style=\"height:5px\"></tr><tr class=\"athing submission\" id=\"44939902\"><td align=\"right\" valign=\"top\" class=\"title\"><span class=\"rank\">65.</span></td><td valign=\"top\" class=\"votelinks\"><center><a id=\"up_44939902\" href=\"vote?id=44939902&amp;how=up&amp;goto=news%3Fp%3D3\"><div class=\"votearrow\" title=\"upvote\"></div></a></center></td><td class=\"title\"><span class=\"titleline\"><a href=\"https://gaussianprocess.org/gpml/chapters/RW.pdf\">Gaussian Processes for Machine Learning (2006) [pdf]</a><span class=\"sitebit comhead\"> (<a href=\"from?site=gaussianprocess.org\"><span class=\"sitestr\">gaussianprocess.org</span></a>)</span></span></td></tr><tr><td colspan=\"2\"></td><td class=\"subtext\"><span class=\"subline\"><span class=\"score\" id=\"score_44939902\">63 points</span> by <a href=\"user?id=susam\" class=\"hnuser\">susam</a> <span class=\"age\" title=\"2025-08-18T12:37:06 1755520626\"><a href=\"item?id=44939902\">15 hours ago</a></span> <span id=\"unv_44939902\"></span> | <a href=\"hide?id=44939902&amp;goto=news%3Fp%3D3\">hide</a> | <a href=\"item?id=44939902\">14&nbsp;comments</a></span></td></tr><tr class=\"spacer\" style=\"height:5px\"></tr><tr class=\"athing submission\" id=\"44954823\"><td align=\"right\" valign=\"top\" class=\"title\"><span class=\"rank\">66.</span></td><td valign=\"top\" class=\"votelinks\"><center><a id=\"up_44954823\" href=\"vote?id=44954823&amp;how=up&amp;goto=news%3Fp%3D3\"><div class=\"votearrow\" title=\"upvote\"></div></a></center></td><td class=\"title\"><span class=\"titleline\"><a href=\"https://www.anduinos.com/\">AnduinOS</a><span class=\"sitebit comhead\"> (<a href=\"from?site=anduinos.com\"><span class=\"sitestr\">anduinos.com</span></a>)</span></span></td></tr><tr><td colspan=\"2\"></td><td class=\"subtext\"><span class=\"subline\"><span class=\"score\" id=\"score_44954823\">137 points</span> by <a href=\"user?id=TheFreim\" class=\"hnuser\">TheFreim</a> <span class=\"age\" title=\"2025-08-19T18:42:25 1755628945\"><a href=\"item?id=44954823\">1 day ago</a></span> <span id=\"unv_44954823\"></span> | <a href=\"hide?id=44954823&amp;goto=news%3Fp%3D3\">hide</a> | <a href=\"item?id=44954823\">209&nbsp;comments</a></span></td></tr><tr class=\"spacer\" style=\"height:5px\"></tr><tr class=\"athing submission\" id=\"44953032\"><td align=\"right\" valign=\"top\" class=\"title\"><span class=\"rank\">67.</span></td><td valign=\"top\" class=\"votelinks\"><center><a id=\"up_44953032\" href=\"vote?id=44953032&amp;how=up&amp;goto=news%3Fp%3D3\"><div class=\"votearrow\" title=\"upvote\"></div></a></center></td><td class=\"title\"><span class=\"titleline\"><a href=\"https://research.kudelskisecurity.com/2025/08/19/how-we-exploited-coderabbit-from-a-simple-pr-to-rce-and-write-access-on-1m-repositories/\">How we exploited CodeRabbit: From simple PR to RCE and write access on 1M repos</a><span class=\"sitebit comhead\"> (<a href=\"from?site=kudelskisecurity.com\"><span class=\"sitestr\">kudelskisecurity.com</span></a>)</span></span></td></tr><tr><td colspan=\"2\"></td><td class=\"subtext\"><span class=\"subline\"><span class=\"score\" id=\"score_44953032\">662 points</span> by <a href=\"user?id=spiridow\" class=\"hnuser\">spiridow</a> <span class=\"age\" title=\"2025-08-19T15:55:15 1755618915\"><a href=\"item?id=44953032\">1 day ago</a></span> <span id=\"unv_44953032\"></span> | <a href=\"hide?id=44953032&amp;goto=news%3Fp%3D3\">hide</a> | <a href=\"item?id=44953032\">219&nbsp;comments</a></span></td></tr><tr class=\"spacer\" style=\"height:5px\"></tr><tr class=\"athing submission\" id=\"44926143\"><td align=\"right\" valign=\"top\" class=\"title\"><span class=\"rank\">68.</span></td><td valign=\"top\" class=\"votelinks\"><center><a id=\"up_44926143\" href=\"vote?id=44926143&amp;how=up&amp;goto=news%3Fp%3D3\"><div class=\"votearrow\" title=\"upvote\"></div></a></center></td><td class=\"title\"><span class=\"titleline\"><a href=\"https://arstechnica.com/gadgets/2025/08/tiny-removable-mini-ssd-could-eventually-be-a-big-deal-for-gaming-handhelds/\">Tiny, removable \"mini SSD\" could eventually be a big deal for gaming handhelds</a><span class=\"sitebit comhead\"> (<a href=\"from?site=arstechnica.com\"><span class=\"sitestr\">arstechnica.com</span></a>)</span></span></td></tr><tr><td colspan=\"2\"></td><td class=\"subtext\"><span class=\"subline\"><span class=\"score\" id=\"score_44926143\">71 points</span> by <a href=\"user?id=quantummagic\" class=\"hnuser\">quantummagic</a> <span class=\"age\" title=\"2025-08-16T19:14:01 1755371641\"><a href=\"item?id=44926143\">21 hours ago</a></span> <span id=\"unv_44926143\"></span> | <a href=\"hide?id=44926143&amp;goto=news%3Fp%3D3\">hide</a> | <a href=\"item?id=44926143\">103&nbsp;comments</a></span></td></tr><tr class=\"spacer\" style=\"height:5px\"></tr><tr class=\"athing submission\" id=\"44949895\"><td align=\"right\" valign=\"top\" class=\"title\"><span class=\"rank\">69.</span></td><td valign=\"top\" class=\"votelinks\"><center><a id=\"up_44949895\" href=\"vote?id=44949895&amp;how=up&amp;goto=news%3Fp%3D3\"><div class=\"votearrow\" title=\"upvote\"></div></a></center></td><td class=\"title\"><span class=\"titleline\"><a href=\"https://www.svendewaerhert.com/blog/telescope-mount/\">Custom telescope mount using harmonic drives and ESP32</a><span class=\"sitebit comhead\"> (<a href=\"from?site=svendewaerhert.com\"><span class=\"sitestr\">svendewaerhert.com</span></a>)</span></span></td></tr><tr><td colspan=\"2\"></td><td class=\"subtext\"><span class=\"subline\"><span class=\"score\" id=\"score_44949895\">298 points</span> by <a href=\"user?id=waerhert\" class=\"hnuser\">waerhert</a> <span class=\"age\" title=\"2025-08-19T09:46:27 1755596787\"><a href=\"item?id=44949895\">1 day ago</a></span> <span id=\"unv_44949895\"></span> | <a href=\"hide?id=44949895&amp;goto=news%3Fp%3D3\">hide</a> | <a href=\"item?id=44949895\">111&nbsp;comments</a></span></td></tr><tr class=\"spacer\" style=\"height:5px\"></tr><tr class=\"athing submission\" id=\"44963179\"><td align=\"right\" valign=\"top\" class=\"title\"><span class=\"rank\">70.</span></td><td valign=\"top\" class=\"votelinks\"><center><a id=\"up_44963179\" href=\"vote?id=44963179&amp;how=up&amp;goto=news%3Fp%3D3\"><div class=\"votearrow\" title=\"upvote\"></div></a></center></td><td class=\"title\"><span class=\"titleline\"><a href=\"https://www.wired.com/story/fema-now-requires-disaster-victims-to-have-an-email-address/\">FEMA Now Requires Disaster Victims to Have an Email Address</a><span class=\"sitebit comhead\"> (<a href=\"from?site=wired.com\"><span class=\"sitestr\">wired.com</span></a>)</span></span></td></tr><tr><td colspan=\"2\"></td><td class=\"subtext\"><span class=\"subline\"><span class=\"score\" id=\"score_44963179\">29 points</span> by <a href=\"user?id=beardyw\" class=\"hnuser\">beardyw</a> <span class=\"age\" title=\"2025-08-20T16:07:28 1755706048\"><a href=\"item?id=44963179\">4 hours ago</a></span> <span id=\"unv_44963179\"></span> | <a href=\"hide?id=44963179&amp;goto=news%3Fp%3D3\">hide</a> | <a href=\"item?id=44963179\">18&nbsp;comments</a></span></td></tr><tr class=\"spacer\" style=\"height:5px\"></tr><tr class=\"athing submission\" id=\"44925066\"><td align=\"right\" valign=\"top\" class=\"title\"><span class=\"rank\">71.</span></td><td valign=\"top\" class=\"votelinks\"><center><a id=\"up_44925066\" href=\"vote?id=44925066&amp;how=up&amp;goto=news%3Fp%3D3\"><div class=\"votearrow\" title=\"upvote\"></div></a></center></td><td class=\"title\"><span class=\"titleline\"><a href=\"https://phys.org/news/2025-08-graphene-capacitors-rapid-high-depth.html\">Graphene capacitors achieve rapid, high-depth modulation of terahertz waves</a><span class=\"sitebit comhead\"> (<a href=\"from?site=phys.org\"><span class=\"sitestr\">phys.org</span></a>)</span></span></td></tr><tr><td colspan=\"2\"></td><td class=\"subtext\"><span class=\"subline\"><span class=\"score\" id=\"score_44925066\">11 points</span> by <a href=\"user?id=westurner\" class=\"hnuser\">westurner</a> <span class=\"age\" title=\"2025-08-16T16:52:54 1755363174\"><a href=\"item?id=44925066\">8 hours ago</a></span> <span id=\"unv_44925066\"></span> | <a href=\"hide?id=44925066&amp;goto=news%3Fp%3D3\">hide</a> | <a href=\"item?id=44925066\">2&nbsp;comments</a></span></td></tr><tr class=\"spacer\" style=\"height:5px\"></tr><tr class=\"athing submission\" id=\"44963606\"><td align=\"right\" valign=\"top\" class=\"title\"><span class=\"rank\">72.</span></td><td valign=\"top\" class=\"votelinks\"><center><a id=\"up_44963606\" href=\"vote?id=44963606&amp;how=up&amp;goto=news%3Fp%3D3\"><div class=\"votearrow\" title=\"upvote\"></div></a></center></td><td class=\"title\"><span class=\"titleline\"><a href=\"item?id=44963606\">Dagger and opencode and agnostic agents and SSH app = most portable dev kit</a></span></td></tr><tr><td colspan=\"2\"></td><td class=\"subtext\"><span class=\"subline\"><span class=\"score\" id=\"score_44963606\">9 points</span> by <a href=\"user?id=epuerta99\" class=\"hnuser\">epuerta99</a> <span class=\"age\" title=\"2025-08-20T16:54:33 1755708873\"><a href=\"item?id=44963606\">3 hours ago</a></span> <span id=\"unv_44963606\"></span> | <a href=\"hide?id=44963606&amp;goto=news%3Fp%3D3\">hide</a> | <a href=\"item?id=44963606\">1&nbsp;comment</a></span></td></tr><tr class=\"spacer\" style=\"height:5px\"></tr><tr class=\"athing submission\" id=\"44951200\"><td align=\"right\" valign=\"top\" class=\"title\"><span class=\"rank\">73.</span></td><td valign=\"top\" class=\"votelinks\"><center><a id=\"up_44951200\" href=\"vote?id=44951200&amp;how=up&amp;goto=news%3Fp%3D3\"><div class=\"votearrow\" title=\"upvote\"></div></a></center></td><td class=\"title\"><span class=\"titleline\"><a href=\"https://github.com/inshinrei/halua\">Show HN: I've made an easy to extend and flexible JavaScript logger</a><span class=\"sitebit comhead\"> (<a href=\"from?site=github.com/inshinrei\"><span class=\"sitestr\">github.com/inshinrei</span></a>)</span></span></td></tr><tr><td colspan=\"2\"></td><td class=\"subtext\"><span class=\"subline\"><span class=\"score\" id=\"score_44951200\">16 points</span> by <a href=\"user?id=inshinrei\" class=\"hnuser\">inshinrei</a> <span class=\"age\" title=\"2025-08-19T13:20:37 1755609637\"><a href=\"item?id=44951200\">12 hours ago</a></span> <span id=\"unv_44951200\"></span> | <a href=\"hide?id=44951200&amp;goto=news%3Fp%3D3\">hide</a> | <a href=\"item?id=44951200\">9&nbsp;comments</a></span></td></tr><tr class=\"spacer\" style=\"height:5px\"></tr><tr class=\"athing submission\" id=\"44956581\"><td align=\"right\" valign=\"top\" class=\"title\"><span class=\"rank\">74.</span></td><td valign=\"top\" class=\"votelinks\"><center><a id=\"up_44956581\" href=\"vote?id=44956581&amp;how=up&amp;goto=news%3Fp%3D3\"><div class=\"votearrow\" title=\"upvote\"></div></a></center></td><td class=\"title\"><span class=\"titleline\"><a href=\"https://re.factorcode.org/2023/08/drunken-bishop.html\">Drunken Bishop (2023)</a><span class=\"sitebit comhead\"> (<a href=\"from?site=factorcode.org\"><span class=\"sitestr\">factorcode.org</span></a>)</span></span></td></tr><tr><td colspan=\"2\"></td><td class=\"subtext\"><span class=\"subline\"><span class=\"score\" id=\"score_44956581\">77 points</span> by <a href=\"user?id=todsacerdoti\" class=\"hnuser\">todsacerdoti</a> <span class=\"age\" title=\"2025-08-19T21:48:30 1755640110\"><a href=\"item?id=44956581\">22 hours ago</a></span> <span id=\"unv_44956581\"></span> | <a href=\"hide?id=44956581&amp;goto=news%3Fp%3D3\">hide</a> | <a href=\"item?id=44956581\">15&nbsp;comments</a></span></td></tr><tr class=\"spacer\" style=\"height:5px\"></tr><tr class=\"athing submission\" id=\"44953575\"><td align=\"right\" valign=\"top\" class=\"title\"><span class=\"rank\">75.</span></td><td valign=\"top\" class=\"votelinks\"><center><a id=\"up_44953575\" href=\"vote?id=44953575&amp;how=up&amp;goto=news%3Fp%3D3\"><div class=\"votearrow\" title=\"upvote\"></div></a></center></td><td class=\"title\"><span class=\"titleline\"><a href=\"https://motherduck.com/blog/semantic-layer-duckdb-tutorial/\">Why Semantic Layers Matter (and how to build one with DuckDB)</a><span class=\"sitebit comhead\"> (<a href=\"from?site=motherduck.com\"><span class=\"sitestr\">motherduck.com</span></a>)</span></span></td></tr><tr><td colspan=\"2\"></td><td class=\"subtext\"><span class=\"subline\"><span class=\"score\" id=\"score_44953575\">147 points</span> by <a href=\"user?id=secondrow\" class=\"hnuser\">secondrow</a> <span class=\"age\" title=\"2025-08-19T16:49:15 1755622155\"><a href=\"item?id=44953575\">1 day ago</a></span> <span id=\"unv_44953575\"></span> | <a href=\"hide?id=44953575&amp;goto=news%3Fp%3D3\">hide</a> | <a href=\"item?id=44953575\">42&nbsp;comments</a></span></td></tr><tr class=\"spacer\" style=\"height:5px\"></tr><tr class=\"athing submission\" id=\"44958752\"><td align=\"right\" valign=\"top\" class=\"title\"><span class=\"rank\">76.</span></td><td valign=\"top\" class=\"votelinks\"><center><a id=\"up_44958752\" href=\"vote?id=44958752&amp;how=up&amp;goto=news%3Fp%3D3\"><div class=\"votearrow\" title=\"upvote\"></div></a></center></td><td class=\"title\"><span class=\"titleline\"><a href=\"https://arthi-chaud.github.io/posts/type-machine/\">Type-machine</a><span class=\"sitebit comhead\"> (<a href=\"from?site=arthi-chaud.github.io\"><span class=\"sitestr\">arthi-chaud.github.io</span></a>)</span></span></td></tr><tr><td colspan=\"2\"></td><td class=\"subtext\"><span class=\"subline\"><span class=\"score\" id=\"score_44958752\">33 points</span> by <a href=\"user?id=todsacerdoti\" class=\"hnuser\">todsacerdoti</a> <span class=\"age\" title=\"2025-08-20T04:59:27 1755665967\"><a href=\"item?id=44958752\">15 hours ago</a></span> <span id=\"unv_44958752\"></span> | <a href=\"hide?id=44958752&amp;goto=news%3Fp%3D3\">hide</a> | <a href=\"item?id=44958752\">11&nbsp;comments</a></span></td></tr><tr class=\"spacer\" style=\"height:5px\"></tr><tr class=\"athing submission\" id=\"44955459\"><td align=\"right\" valign=\"top\" class=\"title\"><span class=\"rank\">77.</span></td><td valign=\"top\" class=\"votelinks\"><center><a id=\"up_44955459\" href=\"vote?id=44955459&amp;how=up&amp;goto=news%3Fp%3D3\"><div class=\"votearrow\" title=\"upvote\"></div></a></center></td><td class=\"title\"><span class=\"titleline\"><a href=\"https://madebyevan.com/algos/crdt-text-buffer/\">CRDT: Text Buffer</a><span class=\"sitebit comhead\"> (<a href=\"from?site=madebyevan.com\"><span class=\"sitestr\">madebyevan.com</span></a>)</span></span></td></tr><tr><td colspan=\"2\"></td><td class=\"subtext\"><span class=\"subline\"><span class=\"score\" id=\"score_44955459\">148 points</span> by <a href=\"user?id=skadamat\" class=\"hnuser\">skadamat</a> <span class=\"age\" title=\"2025-08-19T19:38:45 1755632325\"><a href=\"item?id=44955459\">1 day ago</a></span> <span id=\"unv_44955459\"></span> | <a href=\"hide?id=44955459&amp;goto=news%3Fp%3D3\">hide</a> | <a href=\"item?id=44955459\">10&nbsp;comments</a></span></td></tr><tr class=\"spacer\" style=\"height:5px\"></tr><tr class=\"athing submission\" id=\"44963991\"><td align=\"right\" valign=\"top\" class=\"title\"><span class=\"rank\">78.</span></td><td valign=\"top\" class=\"votelinks\"><center><a id=\"up_44963991\" href=\"vote?id=44963991&amp;how=up&amp;goto=news%3Fp%3D3\"><div class=\"votearrow\" title=\"upvote\"></div></a></center></td><td class=\"title\"><span class=\"titleline\"><a href=\"https://www.reuters.com/sustainability/boards-policy-regulation/google-announces-tennessee-site-small-modular-nuclear-reactor-2025-08-18/\">Google announces Tennessee as site for small modular nuclear reactor</a><span class=\"sitebit comhead\"> (<a href=\"from?site=reuters.com\"><span class=\"sitestr\">reuters.com</span></a>)</span></span></td></tr><tr><td colspan=\"2\"></td><td class=\"subtext\"><span class=\"subline\"><span class=\"score\" id=\"score_44963991\">6 points</span> by <a href=\"user?id=rbanffy\" class=\"hnuser\">rbanffy</a> <span class=\"age\" title=\"2025-08-20T17:29:14 1755710954\"><a href=\"item?id=44963991\">3 hours ago</a></span> <span id=\"unv_44963991\"></span> | <a href=\"hide?id=44963991&amp;goto=news%3Fp%3D3\">hide</a> | <a href=\"item?id=44963991\">discuss</a></span></td></tr><tr class=\"spacer\" style=\"height:5px\"></tr><tr class=\"athing submission\" id=\"44954524\"><td align=\"right\" valign=\"top\" class=\"title\"><span class=\"rank\">79.</span></td><td valign=\"top\" class=\"votelinks\"><center><a id=\"up_44954524\" href=\"vote?id=44954524&amp;how=up&amp;goto=news%3Fp%3D3\"><div class=\"votearrow\" title=\"upvote\"></div></a></center></td><td class=\"title\"><span class=\"titleline\"><a href=\"https://d2lang.com/blog/ascii/\">D2 (text to diagram tool) now supports ASCII renders</a><span class=\"sitebit comhead\"> (<a href=\"from?site=d2lang.com\"><span class=\"sitestr\">d2lang.com</span></a>)</span></span></td></tr><tr><td colspan=\"2\"></td><td class=\"subtext\"><span class=\"subline\"><span class=\"score\" id=\"score_44954524\">423 points</span> by <a href=\"user?id=alixanderwang\" class=\"hnuser\">alixanderwang</a> <span class=\"age\" title=\"2025-08-19T18:14:41 1755627281\"><a href=\"item?id=44954524\">1 day ago</a></span> <span id=\"unv_44954524\"></span> | <a href=\"hide?id=44954524&amp;goto=news%3Fp%3D3\">hide</a> | <a href=\"item?id=44954524\">71&nbsp;comments</a></span></td></tr><tr class=\"spacer\" style=\"height:5px\"></tr><tr class=\"athing submission\" id=\"44963686\"><td align=\"right\" valign=\"top\" class=\"title\"><span class=\"rank\">80.</span></td><td valign=\"top\" class=\"votelinks\"><center><a id=\"up_44963686\" href=\"vote?id=44963686&amp;how=up&amp;goto=news%3Fp%3D3\"><div class=\"votearrow\" title=\"upvote\"></div></a></center></td><td class=\"title\"><span class=\"titleline\"><a href=\"https://www.propublica.org/article/rfk-jr-autism-environment-research-funding\">US Health Secretary Ends Decades of Research into Environmental Causes of Autism</a><span class=\"sitebit comhead\"> (<a href=\"from?site=propublica.org\"><span class=\"sitestr\">propublica.org</span></a>)</span></span></td></tr><tr><td colspan=\"2\"></td><td class=\"subtext\"><span class=\"subline\"><span class=\"score\" id=\"score_44963686\">13 points</span> by <a href=\"user?id=klipt\" class=\"hnuser\">klipt</a> <span class=\"age\" title=\"2025-08-20T17:00:40 1755709240\"><a href=\"item?id=44963686\">3 hours ago</a></span> <span id=\"unv_44963686\"></span> | <a href=\"hide?id=44963686&amp;goto=news%3Fp%3D3\">hide</a> | <a href=\"item?id=44963686\">6&nbsp;comments</a></span></td></tr><tr class=\"spacer\" style=\"height:5px\"></tr><tr class=\"athing submission\" id=\"44950661\"><td align=\"right\" valign=\"top\" class=\"title\"><span class=\"rank\">81.</span></td><td valign=\"top\" class=\"votelinks\"><center><a id=\"up_44950661\" href=\"vote?id=44950661&amp;how=up&amp;goto=news%3Fp%3D3\"><div class=\"votearrow\" title=\"upvote\"></div></a></center></td><td class=\"title\"><span class=\"titleline\"><a href=\"item?id=44950661\">Launch HN: Uplift (YC S25) – Voice models for under-served languages</a></span></td></tr><tr><td colspan=\"2\"></td><td class=\"subtext\"><span class=\"subline\"><span class=\"score\" id=\"score_44950661\">103 points</span> by <a href=\"user?id=zaidqureshi\" class=\"hnuser\">zaidqureshi</a> <span class=\"age\" title=\"2025-08-19T12:10:09 1755605409\"><a href=\"item?id=44950661\">1 day ago</a></span> <span id=\"unv_44950661\"></span> | <a href=\"hide?id=44950661&amp;goto=news%3Fp%3D3\">hide</a> | <a href=\"item?id=44950661\">49&nbsp;comments</a></span></td></tr><tr class=\"spacer\" style=\"height:5px\"></tr><tr class=\"athing submission\" id=\"44955576\"><td align=\"right\" valign=\"top\" class=\"title\"><span class=\"rank\">82.</span></td><td valign=\"top\" class=\"votelinks\"><center><a id=\"up_44955576\" href=\"vote?id=44955576&amp;how=up&amp;goto=news%3Fp%3D3\"><div class=\"votearrow\" title=\"upvote\"></div></a></center></td><td class=\"title\"><span class=\"titleline\"><a href=\"https://github.com/openai/openai-reflect\">Show HN: OpenAI/reflect – Physical AI Assistant that illuminates your life</a><span class=\"sitebit comhead\"> (<a href=\"from?site=github.com/openai\"><span class=\"sitestr\">github.com/openai</span></a>)</span></span></td></tr><tr><td colspan=\"2\"></td><td class=\"subtext\"><span class=\"subline\"><span class=\"score\" id=\"score_44955576\">83 points</span> by <a href=\"user?id=Sean-Der\" class=\"hnuser\">Sean-Der</a> <span class=\"age\" title=\"2025-08-19T19:48:38 1755632918\"><a href=\"item?id=44955576\">1 day ago</a></span> <span id=\"unv_44955576\"></span> | <a href=\"hide?id=44955576&amp;goto=news%3Fp%3D3\">hide</a> | <a href=\"item?id=44955576\">44&nbsp;comments</a></span></td></tr><tr class=\"spacer\" style=\"height:5px\"></tr><tr class=\"athing submission\" id=\"44964639\"><td align=\"right\" valign=\"top\" class=\"title\"><span class=\"rank\">83.</span></td><td valign=\"top\" class=\"votelinks\"><center><a id=\"up_44964639\" href=\"vote?id=44964639&amp;how=up&amp;goto=news%3Fp%3D3\"><div class=\"votearrow\" title=\"upvote\"></div></a></center></td><td class=\"title\"><span class=\"titleline\"><a href=\"https://www.phoronix.com/news/systemd-259-Requirements\" rel=\"nofollow\">Systemd 259 to Raise Linux System Requirements</a><span class=\"sitebit comhead\"> (<a href=\"from?site=phoronix.com\"><span class=\"sitestr\">phoronix.com</span></a>)</span></span></td></tr><tr><td colspan=\"2\"></td><td class=\"subtext\"><span class=\"subline\"><span class=\"score\" id=\"score_44964639\">5 points</span> by <a href=\"user?id=mikece\" class=\"hnuser\">mikece</a> <span class=\"age\" title=\"2025-08-20T18:22:32 1755714152\"><a href=\"item?id=44964639\">2 hours ago</a></span> <span id=\"unv_44964639\"></span> | <a href=\"hide?id=44964639&amp;goto=news%3Fp%3D3\">hide</a> | <a href=\"item?id=44964639\">1&nbsp;comment</a></span></td></tr><tr class=\"spacer\" style=\"height:5px\"></tr><tr class=\"athing submission\" id=\"44965131\"><td align=\"right\" valign=\"top\" class=\"title\"><span class=\"rank\">84.</span></td><td valign=\"top\" class=\"votelinks\"><center><a id=\"up_44965131\" href=\"vote?id=44965131&amp;how=up&amp;goto=news%3Fp%3D3\"><div class=\"votearrow\" title=\"upvote\"></div></a></center></td><td class=\"title\"><span class=\"titleline\"><a href=\"https://www.washingtonpost.com/technology/2025/08/20/american-reading-declines-attention-spans/\" rel=\"nofollow\">Few Americans Read for Pleasure</a><span class=\"sitebit comhead\"> (<a href=\"from?site=washingtonpost.com\"><span class=\"sitestr\">washingtonpost.com</span></a>)</span></span></td></tr><tr><td colspan=\"2\"></td><td class=\"subtext\"><span class=\"subline\"><span class=\"score\" id=\"score_44965131\">5 points</span> by <a href=\"user?id=perihelions\" class=\"hnuser\">perihelions</a> <span class=\"age\" title=\"2025-08-20T19:04:34 1755716674\"><a href=\"item?id=44965131\">1 hour ago</a></span> <span id=\"unv_44965131\"></span> | <a href=\"hide?id=44965131&amp;goto=news%3Fp%3D3\">hide</a> | <a href=\"item?id=44965131\">3&nbsp;comments</a></span></td></tr><tr class=\"spacer\" style=\"height:5px\"></tr><tr class=\"athing submission\" id=\"44938622\"><td align=\"right\" valign=\"top\" class=\"title\"><span class=\"rank\">85.</span></td><td valign=\"top\" class=\"votelinks\"><center><a id=\"up_44938622\" href=\"vote?id=44938622&amp;how=up&amp;goto=news%3Fp%3D3\"><div class=\"votearrow\" title=\"upvote\"></div></a></center></td><td class=\"title\"><span class=\"titleline\"><a href=\"https://3d.ameo.design/geotoy\">Geotoy – Shadertoy for 3D Geometry</a><span class=\"sitebit comhead\"> (<a href=\"from?site=ameo.design\"><span class=\"sitestr\">ameo.design</span></a>)</span></span></td></tr><tr><td colspan=\"2\"></td><td class=\"subtext\"><span class=\"subline\"><span class=\"score\" id=\"score_44938622\">139 points</span> by <a href=\"user?id=Ameo\" class=\"hnuser\">Ameo</a> <span class=\"age\" title=\"2025-08-18T08:54:48 1755507288\"><a href=\"item?id=44938622\">1 day ago</a></span> <span id=\"unv_44938622\"></span> | <a href=\"hide?id=44938622&amp;goto=news%3Fp%3D3\">hide</a> | <a href=\"item?id=44938622\">24&nbsp;comments</a></span></td></tr><tr class=\"spacer\" style=\"height:5px\"></tr><tr class=\"athing submission\" id=\"44939460\"><td align=\"right\" valign=\"top\" class=\"title\"><span class=\"rank\">86.</span></td><td valign=\"top\" class=\"votelinks\"><center><a id=\"up_44939460\" href=\"vote?id=44939460&amp;how=up&amp;goto=news%3Fp%3D3\"><div class=\"votearrow\" title=\"upvote\"></div></a></center></td><td class=\"title\"><span class=\"titleline\"><a href=\"https://www.economist.com/interactive/britain/2025/08/17/the-new-geography-of-stolen-goods\">The new geography of stolen goods</a><span class=\"sitebit comhead\"> (<a href=\"from?site=economist.com\"><span class=\"sitestr\">economist.com</span></a>)</span></span></td></tr><tr><td colspan=\"2\"></td><td class=\"subtext\"><span class=\"subline\"><span class=\"score\" id=\"score_44939460\">97 points</span> by <a href=\"user?id=tlb\" class=\"hnuser\">tlb</a> <span class=\"age\" title=\"2025-08-18T11:29:13 1755516553\"><a href=\"item?id=44939460\">1 day ago</a></span> <span id=\"unv_44939460\"></span> | <a href=\"hide?id=44939460&amp;goto=news%3Fp%3D3\">hide</a> | <a href=\"item?id=44939460\">113&nbsp;comments</a></span></td></tr><tr class=\"spacer\" style=\"height:5px\"></tr><tr class=\"athing submission\" id=\"44963666\"><td align=\"right\" valign=\"top\" class=\"title\"><span class=\"rank\">87.</span></td><td valign=\"top\" class=\"votelinks\"><center><a id=\"up_44963666\" href=\"vote?id=44963666&amp;how=up&amp;goto=news%3Fp%3D3\"><div class=\"votearrow\" title=\"upvote\"></div></a></center></td><td class=\"title\"><span class=\"titleline\"><a href=\"https://blog.metaobject.com/2019/12/the-4-stages-of-objective-smalltalk.html\">The Four Stages of Objective-Smalltalk</a><span class=\"sitebit comhead\"> (<a href=\"from?site=metaobject.com\"><span class=\"sitestr\">metaobject.com</span></a>)</span></span></td></tr><tr><td colspan=\"2\"></td><td class=\"subtext\"><span class=\"subline\"><span class=\"score\" id=\"score_44963666\">9 points</span> by <a href=\"user?id=thunderbong\" class=\"hnuser\">thunderbong</a> <span class=\"age\" title=\"2025-08-20T16:59:04 1755709144\"><a href=\"item?id=44963666\">3 hours ago</a></span> <span id=\"unv_44963666\"></span> | <a href=\"hide?id=44963666&amp;goto=news%3Fp%3D3\">hide</a> | <a href=\"item?id=44963666\">discuss</a></span></td></tr><tr class=\"spacer\" style=\"height:5px\"></tr><tr class=\"athing submission\" id=\"44938354\"><td align=\"right\" valign=\"top\" class=\"title\"><span class=\"rank\">88.</span></td><td valign=\"top\" class=\"votelinks\"><center><a id=\"up_44938354\" href=\"vote?id=44938354&amp;how=up&amp;goto=news%3Fp%3D3\"><div class=\"votearrow\" title=\"upvote\"></div></a></center></td><td class=\"title\"><span class=\"titleline\"><a href=\"https://jrsinclair.com/articles/2025/joy-of-immutable-data-recursion-pure-functions-javascript-mazes/\">The joy of recursion, immutable data, &amp; pure functions: Making mazes with JS</a><span class=\"sitebit comhead\"> (<a href=\"from?site=jrsinclair.com\"><span class=\"sitestr\">jrsinclair.com</span></a>)</span></span></td></tr><tr><td colspan=\"2\"></td><td class=\"subtext\"><span class=\"subline\"><span class=\"score\" id=\"score_44938354\">87 points</span> by <a href=\"user?id=jrsinclair\" class=\"hnuser\">jrsinclair</a> <span class=\"age\" title=\"2025-08-18T07:57:30 1755503850\"><a href=\"item?id=44938354\">1 day ago</a></span> <span id=\"unv_44938354\"></span> | <a href=\"hide?id=44938354&amp;goto=news%3Fp%3D3\">hide</a> | <a href=\"item?id=44938354\">20&nbsp;comments</a></span></td></tr><tr class=\"spacer\" style=\"height:5px\"></tr><tr class=\"athing submission\" id=\"44964967\"><td align=\"right\" valign=\"top\" class=\"title\"><span class=\"rank\">89.</span></td><td valign=\"top\" class=\"votelinks\"><center><a id=\"up_44964967\" href=\"vote?id=44964967&amp;how=up&amp;goto=news%3Fp%3D3\"><div class=\"votearrow\" title=\"upvote\"></div></a></center></td><td class=\"title\"><span class=\"titleline\"><a href=\"https://www.nytimes.com/2025/08/19/world/africa/africa-map-mercator.html\" rel=\"nofollow\">African Union Endorses Call to Abandoned the Mercator Map</a><span class=\"sitebit comhead\"> (<a href=\"from?site=nytimes.com\"><span class=\"sitestr\">nytimes.com</span></a>)</span></span></td></tr><tr><td colspan=\"2\"></td><td class=\"subtext\"><span class=\"subline\"><span class=\"score\" id=\"score_44964967\">4 points</span> by <a href=\"user?id=simonpure\" class=\"hnuser\">simonpure</a> <span class=\"age\" title=\"2025-08-20T18:50:39 1755715839\"><a href=\"item?id=44964967\">1 hour ago</a></span> <span id=\"unv_44964967\"></span> | <a href=\"hide?id=44964967&amp;goto=news%3Fp%3D3\">hide</a> | <a href=\"item?id=44964967\">discuss</a></span></td></tr><tr class=\"spacer\" style=\"height:5px\"></tr><tr class=\"athing submission\" id=\"44958145\"><td align=\"right\" valign=\"top\" class=\"title\"><span class=\"rank\">90.</span></td><td valign=\"top\" class=\"votelinks\"><center><a id=\"up_44958145\" href=\"vote?id=44958145&amp;how=up&amp;goto=news%3Fp%3D3\"><div class=\"votearrow\" title=\"upvote\"></div></a></center></td><td class=\"title\"><span class=\"titleline\"><a href=\"https://democracyjournal.org/magazine/78/were-not-so-special/\">We’re Not So Special: A new book challenges human exceptionalism</a><span class=\"sitebit comhead\"> (<a href=\"from?site=democracyjournal.org\"><span class=\"sitestr\">democracyjournal.org</span></a>)</span></span></td></tr><tr><td colspan=\"2\"></td><td class=\"subtext\"><span class=\"subline\"><span class=\"score\" id=\"score_44958145\">111 points</span> by <a href=\"user?id=nobet\" class=\"hnuser\">nobet</a> <span class=\"age\" title=\"2025-08-20T02:25:53 1755656753\"><a href=\"item?id=44958145\">18 hours ago</a></span> <span id=\"unv_44958145\"></span> | <a href=\"hide?id=44958145&amp;goto=news%3Fp%3D3\">hide</a> | <a href=\"item?id=44958145\">243&nbsp;comments</a></span></td></tr><tr class=\"spacer\" style=\"height:5px\"></tr><tr class=\"morespace\" style=\"height:10px\"></tr><tr><td colspan=\"2\"></td><td class=\"title\"><a href=\"?p=4\" class=\"morelink\" rel=\"next\">More</a></td></tr></tbody></table></td></tr><tr><td><img src=\"s.gif\" height=\"10\" width=\"0\"><table width=\"100%\" cellspacing=\"0\" cellpadding=\"1\"><tbody><tr><td bgcolor=\"#ff6600\"></td></tr></tbody></table><br>\n",
            "<center><span class=\"yclinks\"><a href=\"newsguidelines.html\">Guidelines</a> | <a href=\"newsfaq.html\">FAQ</a> | <a href=\"lists\">Lists</a> | <a href=\"https://github.com/HackerNews/API\">API</a> | <a href=\"security.html\">Security</a> | <a href=\"https://www.ycombinator.com/legal/\">Legal</a> | <a href=\"https://www.ycombinator.com/apply/\">Apply to YC</a> | <a href=\"mailto:hn@ycombinator.com\">Contact</a></span><br><br>\n",
            "<form method=\"get\" action=\"//hn.algolia.com/\">Search: <input type=\"text\" name=\"q\" size=\"17\" autocorrect=\"off\" spellcheck=\"false\" autocapitalize=\"off\" autocomplete=\"off\"></form></center></td></tr></tbody></table></center><script type=\"text/javascript\" src=\"hn.js?sJrC2FNC7onakFWpNx3H\"></script></body></html>\n",
            "저장 완료: /content/hn_3pages.csv\n"
          ]
        }
      ]
    },
    {
      "cell_type": "code",
      "source": [],
      "metadata": {
        "id": "ne1Vbi1tPwJB"
      },
      "execution_count": null,
      "outputs": []
    },
    {
      "cell_type": "markdown",
      "source": [
        "- 무한스크롤"
      ],
      "metadata": {
        "id": "HF5YkpLuFeza"
      }
    },
    {
      "cell_type": "code",
      "source": [
        "import time, pandas as pd\n",
        "from bs4 import BeautifulSoup\n",
        "\n",
        "def infinite_scroll_collect(url, item_selector, max_rounds=20, wait_sec=1.0):\n",
        "    driver = create_driver(headless=True)\n",
        "    driver.get(url)\n",
        "    last_height = driver.execute_script(\"return document.body.scrollHeight\")\n",
        "    rounds = 0\n",
        "\n",
        "    while rounds < max_rounds:\n",
        "        # 맨 아래까지 스크롤\n",
        "        driver.execute_script(\"window.scrollTo(0, document.body.scrollHeight);\")\n",
        "        time.sleep(wait_sec)\n",
        "\n",
        "        new_height = driver.execute_script(\"return document.body.scrollHeight\")\n",
        "        if new_height == last_height:\n",
        "            # 더 이상 로딩되는 게 없으면 종료\n",
        "            break\n",
        "        last_height = new_height\n",
        "        rounds += 1\n",
        "\n",
        "    # 파싱\n",
        "    soup = BeautifulSoup(driver.page_source, \"html.parser\")\n",
        "    items = soup.select(item_selector)\n",
        "    driver.quit()\n",
        "    return items\n",
        "\n",
        "# 예시: 데모용(실제 타겟 사이트의 셀렉터로 바꿔 쓰세요)\n",
        "items = infinite_scroll_collect(\n",
        "    url=\"https://news.ycombinator.com/\",\n",
        "    item_selector=\".athing\",\n",
        "    max_rounds=5,\n",
        "    wait_sec=0.7\n",
        ")\n",
        "print(\"수집된 요소 수:\", len(items))\n"
      ],
      "metadata": {
        "colab": {
          "base_uri": "https://localhost:8080/"
        },
        "id": "mVUj5-jZFNDQ",
        "outputId": "49e8518d-738f-45ab-9bc2-11c7e7adb2cb"
      },
      "execution_count": 15,
      "outputs": [
        {
          "output_type": "stream",
          "name": "stdout",
          "text": [
            "수집된 요소 수: 30\n"
          ]
        }
      ]
    },
    {
      "cell_type": "markdown",
      "source": [
        "- 버튼클릭/스크린샷 등"
      ],
      "metadata": {
        "id": "m4TGqIyqFcYm"
      }
    },
    {
      "cell_type": "code",
      "source": [
        "import os"
      ],
      "metadata": {
        "id": "TkmKRkQQxrn3"
      },
      "execution_count": 16,
      "outputs": []
    },
    {
      "cell_type": "code",
      "source": [
        "driver = create_driver(headless=True)\n",
        "os.makedirs(\"/content/shots\", exist_ok=True)\n",
        "\n",
        "try:\n",
        "    driver.get(\"https://the-internet.herokuapp.com/dynamic_loading/2\")\n",
        "\n",
        "    # Start 버튼 클릭\n",
        "    start_btn = WebDriverWait(driver, 10).until(\n",
        "        EC.element_to_be_clickable((By.CSS_SELECTOR, \"#start button\"))\n",
        "    )\n",
        "    start_btn.click()\n",
        "\n",
        "    # 로딩 후 결과 텍스트가 나타날 때까지 대기\n",
        "    result = WebDriverWait(driver, 15).until(\n",
        "        EC.visibility_of_element_located((By.CSS_SELECTOR, \"#finish\"))\n",
        "    )\n",
        "    print(\"결과 텍스트:\", result.text)\n",
        "\n",
        "    shot_path = \"/content/shots/dynamic_loading.png\"\n",
        "    driver.save_screenshot(shot_path)\n",
        "    print(\"스크린샷 저장:\", shot_path)\n",
        "finally:\n",
        "    driver.quit()\n"
      ],
      "metadata": {
        "colab": {
          "base_uri": "https://localhost:8080/"
        },
        "id": "lhTFx3AWFNIH",
        "outputId": "7ab1cae1-b9b1-47a8-9bb8-704613323118"
      },
      "execution_count": 17,
      "outputs": [
        {
          "output_type": "stream",
          "name": "stdout",
          "text": [
            "결과 텍스트: Hello World!\n",
            "스크린샷 저장: /content/shots/dynamic_loading.png\n"
          ]
        }
      ]
    },
    {
      "cell_type": "markdown",
      "source": [
        "#4. Playwright\n",
        "- (마이크로소프트가 만든) 오픈소스 브라우저 자동화 라이브러리이자 도구 세트\n",
        " - 자동 대기(auto-wait), 강력한 Locator(get_by_*, :has()), 트레이싱/비디오, 네트워크 인터셉트, 멀티 콘텍스트(독립 세션)\n",
        "- 크로스 브라우저: Chromium / Firefox / WebKit 지원, headless·headed 모두 OK\n",
        "- 자동 대기(Auto-wait): 클릭/입력/네비게이션 시 DOM 안정화까지 자동 대기 → flaky ↓\n",
        "- Locator 기반 셀렉터: get_by_role, get_by_text, CSS/XPath, :has() 등 강력\n",
        "- 멀티 컨텍스트: 독립 쿠키/세션(시크릿) 동시 실행, 모바일/지오로케이션/타임존 에뮬\n",
        "- 네트워크 인터셉트: 요청/응답 가로채기, mock 응답, 리소스 차단\n",
        "- 트레이싱/스크린샷/비디오: 디버깅/재현성 ↑ (테스트 자동화에도 최적)\n",
        "- Colab/Jupyter 친화: Async API 권장(이벤트 루프 충돌 없음)"
      ],
      "metadata": {
        "id": "tdY8qqpzJyk9"
      }
    },
    {
      "cell_type": "code",
      "source": [
        "!pip -q install playwright\n",
        "!playwright install --with-deps chromium"
      ],
      "metadata": {
        "colab": {
          "base_uri": "https://localhost:8080/"
        },
        "id": "7vWnBXH8yclP",
        "outputId": "1404aead-fd7f-45d0-c352-79e06b9a2ab5"
      },
      "execution_count": null,
      "outputs": [
        {
          "output_type": "stream",
          "name": "stdout",
          "text": [
            "Installing dependencies...\n",
            "Hit:1 https://cloud.r-project.org/bin/linux/ubuntu jammy-cran40/ InRelease\n",
            "Hit:2 https://cli.github.com/packages stable InRelease\n",
            "Hit:3 https://developer.download.nvidia.com/compute/cuda/repos/ubuntu2204/x86_64  InRelease\n",
            "Hit:4 http://security.ubuntu.com/ubuntu jammy-security InRelease\n",
            "Hit:5 https://dl.google.com/linux/chrome/deb stable InRelease\n",
            "Hit:6 https://r2u.stat.illinois.edu/ubuntu jammy InRelease\n",
            "Hit:7 https://ppa.launchpadcontent.net/deadsnakes/ppa/ubuntu jammy InRelease\n",
            "Hit:8 https://ppa.launchpadcontent.net/graphics-drivers/ppa/ubuntu jammy InRelease\n",
            "Hit:9 https://ppa.launchpadcontent.net/ubuntugis/ppa/ubuntu jammy InRelease\n",
            "Hit:10 http://archive.ubuntu.com/ubuntu jammy InRelease\n",
            "Hit:11 http://archive.ubuntu.com/ubuntu jammy-updates InRelease\n",
            "Hit:12 http://archive.ubuntu.com/ubuntu jammy-backports InRelease\n",
            "Reading package lists... Done\n",
            "W: Skipping acquire of configured file 'main/source/Sources' as repository 'https://r2u.stat.illinois.edu/ubuntu jammy InRelease' does not seem to provide it (sources.list entry misspelt?)\n",
            "Reading package lists... Done\n",
            "Building dependency tree... Done\n",
            "Reading state information... Done\n",
            "fonts-freefont-ttf is already the newest version (20120503-10build1).\n",
            "fonts-liberation is already the newest version (1:1.07.4-11).\n",
            "libasound2 is already the newest version (1.2.6.1-1ubuntu1).\n",
            "libatk-bridge2.0-0 is already the newest version (2.38.0-3).\n",
            "libatk1.0-0 is already the newest version (2.36.0-3build1).\n",
            "libatspi2.0-0 is already the newest version (2.44.0-3).\n",
            "libcairo2 is already the newest version (1.16.0-5ubuntu2).\n",
            "libfontconfig1 is already the newest version (2.13.1-4.2ubuntu5).\n",
            "libxcb1 is already the newest version (1.14-3ubuntu3).\n",
            "libxcomposite1 is already the newest version (1:0.4.5-1build2).\n",
            "libxdamage1 is already the newest version (1:1.1.5-2build2).\n",
            "libxext6 is already the newest version (2:1.3.4-1build1).\n",
            "libxfixes3 is already the newest version (1:6.0.0-1).\n",
            "libxkbcommon0 is already the newest version (1.4.0-1).\n",
            "libxrandr2 is already the newest version (2:1.5.2-1build1).\n",
            "xfonts-scalable is already the newest version (1:1.0.3-1.2ubuntu1).\n",
            "fonts-ipafont-gothic is already the newest version (00303-21ubuntu1).\n",
            "fonts-tlwg-loma-otf is already the newest version (1:0.7.3-1).\n",
            "fonts-unifont is already the newest version (1:14.0.01-1).\n",
            "fonts-wqy-zenhei is already the newest version (0.9.45-8).\n",
            "xfonts-cyrillic is already the newest version (1:1.0.5).\n",
            "fonts-noto-color-emoji is already the newest version (2.047-0ubuntu0.22.04.1).\n",
            "libcups2 is already the newest version (2.4.1op1-1ubuntu4.11).\n",
            "libdbus-1-3 is already the newest version (1.12.20-2ubuntu4.1).\n",
            "libdrm2 is already the newest version (2.4.113-2~ubuntu0.22.04.1).\n",
            "libfreetype6 is already the newest version (2.11.1+dfsg-1ubuntu0.3).\n",
            "libgbm1 is already the newest version (23.2.1-1ubuntu3.1~22.04.3).\n",
            "libglib2.0-0 is already the newest version (2.72.4-0ubuntu2.5).\n",
            "libnspr4 is already the newest version (2:4.35-0ubuntu0.22.04.1).\n",
            "libnss3 is already the newest version (2:3.98-0ubuntu0.22.04.2).\n",
            "libpango-1.0-0 is already the newest version (1.50.6+ds-2ubuntu1).\n",
            "libwayland-client0 is already the newest version (1.20.0-1ubuntu0.1).\n",
            "libx11-6 is already the newest version (2:1.7.5-1ubuntu0.3).\n",
            "xvfb is already the newest version (2:21.1.4-2ubuntu1.7~22.04.15).\n",
            "0 upgraded, 0 newly installed, 0 to remove and 35 not upgraded.\n"
          ]
        }
      ]
    },
    {
      "cell_type": "markdown",
      "source": [
        "- 기본 예"
      ],
      "metadata": {
        "id": "l6WZ87mU08hB"
      }
    },
    {
      "cell_type": "code",
      "source": [
        "from playwright.async_api import async_playwright\n",
        "async with async_playwright() as p: #비동기, await 사용\n",
        "    b = await p.chromium.launch(headless=True)\n",
        "    page = await (await b.new_context()).new_page()\n",
        "    await page.goto(\"https://example.com\", wait_until=\"networkidle\")\n",
        "    print(await page.title()); await b.close()\n"
      ],
      "metadata": {
        "colab": {
          "base_uri": "https://localhost:8080/"
        },
        "id": "gFrdLTnG0TRf",
        "outputId": "666d293f-80a3-4803-d254-a903167b36c2"
      },
      "execution_count": null,
      "outputs": [
        {
          "output_type": "stream",
          "name": "stdout",
          "text": [
            "Example Domain\n"
          ]
        }
      ]
    },
    {
      "cell_type": "markdown",
      "source": [
        "- 기본 예2"
      ],
      "metadata": {
        "id": "nY9SS2SL097u"
      }
    },
    {
      "cell_type": "code",
      "source": [
        "from playwright.async_api import async_playwright\n",
        "\n",
        "async def run():\n",
        "    async with async_playwright() as p:          # 시작/정리 자동\n",
        "        browser = await p.chromium.launch()   #크롬의 오픈소스 버전, 새로 설치, p.chromium은 그 Chromium 계열 브라우저를 제어하는 핸들\n",
        "        page = await (await browser.new_context()).new_page()\n",
        "        await page.goto(\"https://example.com\", wait_until=\"networkidle\")\n",
        "        title = await page.title()\n",
        "        await browser.close()                    # 컨텍스트 정리 + 브라우저 닫기(중복 호출 OK)\n",
        "    return title\n"
      ],
      "metadata": {
        "id": "G3tsw2Uh0_a4"
      },
      "execution_count": null,
      "outputs": []
    },
    {
      "cell_type": "markdown",
      "source": [
        "- 기본 예2"
      ],
      "metadata": {
        "id": "C_LUJ-6e1TSp"
      }
    },
    {
      "cell_type": "code",
      "source": [
        "import pandas as pd\n",
        "\n",
        "from playwright.async_api import async_playwright\n",
        "\n",
        "async def scrape_quotes(max_pages=3):\n",
        "    async with async_playwright() as p:\n",
        "        # 1) 브라우저/컨텍스트/페이지\n",
        "        browser = await p.chromium.launch(headless=True)\n",
        "        context = await browser.new_context(\n",
        "            viewport={\"width\": 1280, \"height\": 800},\n",
        "            user_agent=\"Mozilla/5.0 (X11; Linux x86_64) Playwright/Colab\"\n",
        "        )\n",
        "        page = await context.new_page()\n",
        "        page.set_default_timeout(15000)  # 15s\n",
        "\n",
        "        rows = []\n",
        "        await page.goto(\"https://quotes.toscrape.com/js/\", wait_until=\"networkidle\")\n",
        "\n",
        "        for _ in range(max_pages):\n",
        "            # 2) 동적 렌더링 대기\n",
        "            await page.wait_for_selector(\".quote\")\n",
        "\n",
        "            # 3) 데이터 추출\n",
        "            for q in await page.locator(\".quote\").all():\n",
        "                text = await q.locator(\".text\").inner_text()\n",
        "                author = await q.locator(\".author\").inner_text()\n",
        "                tags = await q.locator(\".tag\").all_inner_texts()\n",
        "                rows.append({\"text\": text, \"author\": author, \"tags\": \", \".join(tags)})\n",
        "\n",
        "            # 4) 페이지네이션 (없으면 종료)\n",
        "            next_btn = page.locator(\"li.next >> a\")\n",
        "            if await next_btn.count() == 0:\n",
        "                break\n",
        "            await next_btn.click()\n",
        "\n",
        "        # 5) 스크린샷 저장\n",
        "        import os\n",
        "        os.makedirs(\"/content/shots\", exist_ok=True)\n",
        "        await page.screenshot(path=\"/content/shots/quotes.png\", full_page=True)\n",
        "\n",
        "        await browser.close()\n",
        "        return rows\n",
        "\n",
        "rows = await scrape_quotes(max_pages=5)\n",
        "df = pd.DataFrame(rows)\n",
        "df.to_csv(\"/content/quotes_playwright.csv\", index=False, encoding=\"utf-8-sig\")\n",
        "print(\"Saved:\", len(df), \"rows\")\n",
        "print(\"Files: /content/shots/quotes.png , /content/quotes_playwright.csv\")\n"
      ],
      "metadata": {
        "colab": {
          "base_uri": "https://localhost:8080/"
        },
        "id": "U7vrUOBmyhAu",
        "outputId": "fdc1a063-1bb3-4c36-970f-2a238e92057c"
      },
      "execution_count": null,
      "outputs": [
        {
          "output_type": "stream",
          "name": "stdout",
          "text": [
            "Saved: 50 rows\n",
            "Files: /content/shots/quotes.png , /content/quotes_playwright.csv\n"
          ]
        }
      ]
    },
    {
      "cell_type": "markdown",
      "source": [
        "- form 입력/버튼 클릭 및 네비게이션"
      ],
      "metadata": {
        "id": "fEh4Vb3ZzW-Q"
      }
    },
    {
      "cell_type": "code",
      "source": [
        "import nest_asyncio, asyncio\n",
        "nest_asyncio.apply()"
      ],
      "metadata": {
        "id": "S3JObwTayye0"
      },
      "execution_count": null,
      "outputs": []
    },
    {
      "cell_type": "code",
      "source": [
        "from urllib.parse import quote_plus, urljoin\n",
        "from playwright.async_api import async_playwright\n",
        "\n",
        "async def search_wikipedia_direct(q=\"Retrieval-augmented generation\", max_results=5):\n",
        "    async with async_playwright() as p:\n",
        "        b = await p.chromium.launch(headless=True)\n",
        "        ctx = await b.new_context()\n",
        "        page = await ctx.new_page()\n",
        "        url = f\"https://en.wikipedia.org/w/index.php?title=Special:Search&ns0=1&limit=50&search={quote_plus(q)}\"\n",
        "        await page.goto(url, wait_until=\"domcontentloaded\")\n",
        "\n",
        "        items = []\n",
        "        if await page.locator(\".mw-search-results\").count():\n",
        "            for a in (await page.locator(\".mw-search-result-heading a\").all())[:max_results]:\n",
        "                href = await a.get_attribute(\"href\")\n",
        "                items.append({\"title\": await a.inner_text(), \"url\": urljoin(\"https://en.wikipedia.org\", href or \"\")})\n",
        "        else:\n",
        "            await page.wait_for_selector(\"#firstHeading\")\n",
        "            items.append({\"title\": await page.locator(\"#firstHeading\").inner_text(), \"url\": page.url})\n",
        "        await b.close()\n",
        "        return items\n"
      ],
      "metadata": {
        "id": "LLfy3yDVymIC"
      },
      "execution_count": null,
      "outputs": []
    },
    {
      "cell_type": "markdown",
      "source": [
        "- 이미지 차단으로 속도 개선"
      ],
      "metadata": {
        "id": "MCjcarKPzRlX"
      }
    },
    {
      "cell_type": "code",
      "source": [
        "from playwright.async_api import async_playwright\n",
        "\n",
        "async def fast_text_only(url):\n",
        "    async with async_playwright() as p:\n",
        "        b = await p.chromium.launch()\n",
        "        ctx = await b.new_context()\n",
        "\n",
        "        # 이미지/CSS 차단 (사이트에 따라 과도 차단 시 레이아웃 깨질 수 있음)\n",
        "        await ctx.route(\"**/*\", lambda route: route.abort() if route.request.resource_type in {\"image\",\"media\",\"font\"} else route.continue_())\n",
        "\n",
        "        page = await ctx.new_page()\n",
        "        await page.goto(url, wait_until=\"networkidle\")\n",
        "        html = await page.content()\n",
        "        await b.close()\n",
        "        return html\n",
        "\n",
        "html = await fast_text_only(\"https://news.ycombinator.com/\")\n",
        "len(html)\n"
      ],
      "metadata": {
        "colab": {
          "base_uri": "https://localhost:8080/"
        },
        "id": "N2_Vk7H2yo8I",
        "outputId": "8dd32ba9-7475-43b9-c6be-d37c5e96f2a1"
      },
      "execution_count": null,
      "outputs": [
        {
          "output_type": "execute_result",
          "data": {
            "text/plain": [
              "34647"
            ]
          },
          "metadata": {},
          "execution_count": 88
        }
      ]
    },
    {
      "cell_type": "code",
      "source": [
        "html"
      ],
      "metadata": {
        "colab": {
          "base_uri": "https://localhost:8080/",
          "height": 183
        },
        "id": "63t5R6UW3R1Q",
        "outputId": "1824783e-a18f-4e3e-c4e3-2bb88585a6e2"
      },
      "execution_count": null,
      "outputs": [
        {
          "output_type": "execute_result",
          "data": {
            "text/plain": [
              "'<html lang=\"en\" op=\"news\"><head><meta name=\"referrer\" content=\"origin\"><meta name=\"viewport\" content=\"width=device-width, initial-scale=1.0\"><link rel=\"stylesheet\" type=\"text/css\" href=\"news.css?sJrC2FNC7onakFWpNx3H\"><link rel=\"icon\" href=\"y18.svg\"><link rel=\"alternate\" type=\"application/rss+xml\" title=\"RSS\" href=\"rss\"><title>Hacker News</title></head><body><center><table id=\"hnmain\" border=\"0\" cellpadding=\"0\" cellspacing=\"0\" width=\"85%\" bgcolor=\"#f6f6ef\"><tbody><tr><td bgcolor=\"#ff6600\"><table border=\"0\" cellpadding=\"0\" cellspacing=\"0\" width=\"100%\" style=\"padding:2px\"><tbody><tr><td style=\"width:18px;padding-right:4px\"><a href=\"https://news.ycombinator.com\"><img src=\"y18.svg\" width=\"18\" height=\"18\" style=\"border:1px white solid; display:block\"></a></td><td style=\"line-height:12pt; height:10px;\"><span class=\"pagetop\"><b class=\"hnname\"><a href=\"news\">Hacker News</a></b><a href=\"newest\">new</a> | <a href=\"front\">past</a> | <a href=\"newcomments\">comments</a> | <a href=\"ask\">ask</a> | <a href=\"show\">show</a> | <a href=\"jobs\">jobs</a> | <a href=\"submit\" rel=\"nofollow\">submit</a></span></td><td style=\"text-align:right;padding-right:4px;\"><span class=\"pagetop\"><a href=\"login?goto=news\">login</a></span></td></tr></tbody></table></td></tr><tr style=\"height:10px\"></tr><tr id=\"bigbox\"><td><table border=\"0\" cellpadding=\"0\" cellspacing=\"0\"><tbody><tr class=\"athing submission\" id=\"44915897\"><td align=\"right\" valign=\"top\" class=\"title\"><span class=\"rank\">1.</span></td><td valign=\"top\" class=\"votelinks\"><center><a id=\"up_44915897\" href=\"vote?id=44915897&amp;how=up&amp;goto=news\"><div class=\"votearrow\" title=\"upvote\"></div></a></center></td><td class=\"title\"><span class=\"titleline\"><a href=\"https://lazybrush.dulnan.net\">Lazy-brush – smooth drawing with mouse or finger</a><span class=\"sitebit comhead\"> (<a href=\"from?site=dulnan.net\"><span class=\"sitestr\">dulnan.net</span></a>)</span></span></td></tr><tr><td colspan=\"2\"></td><td class=\"subtext\"><span class=\"subline\"><span class=\"score\" id=\"score_44915897\">111 points</span> by <a href=\"user?id=tvdvd\" class=\"hnuser\">tvdvd</a> <span class=\"age\" title=\"2025-08-15T18:30:47 1755282647\"><a href=\"item?id=44915897\">3 hours ago</a></span> <span id=\"unv_44915897\"></span> | <a href=\"hide?id=44915897&amp;goto=news\">hide</a> | <a href=\"item?id=44915897\">11&nbsp;comments</a></span></td></tr><tr class=\"spacer\" style=\"height:5px\"></tr><tr class=\"athing submission\" id=\"44946996\"><td align=\"right\" valign=\"top\" class=\"title\"><span class=\"rank\">2.</span></td><td valign=\"top\" class=\"votelinks\"><center><a id=\"up_44946996\" href=\"vote?id=44946996&amp;how=up&amp;goto=news\"><div class=\"votearrow\" title=\"upvote\"></div></a></center></td><td class=\"title\"><span class=\"titleline\"><a href=\"https://github.com/ClemensElflein/OpenMower\">OpenMower – An open source lawn mower</a><span class=\"sitebit comhead\"> (<a href=\"from?site=github.com/clemenselflein\"><span class=\"sitestr\">github.com/clemenselflein</span></a>)</span></span></td></tr><tr><td colspan=\"2\"></td><td class=\"subtext\"><span class=\"subline\"><span class=\"score\" id=\"score_44946996\">245 points</span> by <a href=\"user?id=rickcarlino\" class=\"hnuser\">rickcarlino</a> <span class=\"age\" title=\"2025-08-19T00:35:08 1755563708\"><a href=\"item?id=44946996\">6 hours ago</a></span> <span id=\"unv_44946996\"></span> | <a href=\"hide?id=44946996&amp;goto=news\">hide</a> | <a href=\"item?id=44946996\">51&nbsp;comments</a></span></td></tr><tr class=\"spacer\" style=\"height:5px\"></tr><tr class=\"athing submission\" id=\"44915452\"><td align=\"right\" valign=\"top\" class=\"title\"><span class=\"rank\">3.</span></td><td valign=\"top\" class=\"votelinks\"><center><a id=\"up_44915452\" href=\"vote?id=44915452&amp;how=up&amp;goto=news\"><div class=\"votearrow\" title=\"upvote\"></div></a></center></td><td class=\"title\"><span class=\"titleline\"><a href=\"https://www.cnbc.com/2025/08/15/croatia-digital-nomad-visa.html\">Croatia just revised its digital nomad visa to last up to 3 years</a><span class=\"sitebit comhead\"> (<a href=\"from?site=cnbc.com\"><span class=\"sitestr\">cnbc.com</span></a>)</span></span></td></tr><tr><td colspan=\"2\"></td><td class=\"subtext\"><span class=\"subline\"><span class=\"score\" id=\"score_44915452\">22 points</span> by <a href=\"user?id=toomuchtodo\" class=\"hnuser\">toomuchtodo</a> <span class=\"age\" title=\"2025-08-15T17:55:24 1755280524\"><a href=\"item?id=44915452\">2 hours ago</a></span> <span id=\"unv_44915452\"></span> | <a href=\"hide?id=44915452&amp;goto=news\">hide</a> | <a href=\"item?id=44915452\">8&nbsp;comments</a></span></td></tr><tr class=\"spacer\" style=\"height:5px\"></tr><tr class=\"athing submission\" id=\"44926855\"><td align=\"right\" valign=\"top\" class=\"title\"><span class=\"rank\">4.</span></td><td valign=\"top\" class=\"votelinks\"><center><a id=\"up_44926855\" href=\"vote?id=44926855&amp;how=up&amp;goto=news\"><div class=\"votearrow\" title=\"upvote\"></div></a></center></td><td class=\"title\"><span class=\"titleline\"><a href=\"https://www.popsci.com/technology/tibetan-prayer-scroll-scans/\">X-ray scans reveal Buddhist prayers inside tiny Tibetan scrolls</a><span class=\"sitebit comhead\"> (<a href=\"from?site=popsci.com\"><span class=\"sitestr\">popsci.com</span></a>)</span></span></td></tr><tr><td colspan=\"2\"></td><td class=\"subtext\"><span class=\"subline\"><span class=\"score\" id=\"score_44926855\">105 points</span> by <a href=\"user?id=Hooke\" class=\"hnuser\">Hooke</a> <span class=\"age\" title=\"2025-08-16T20:54:54 1755377694\"><a href=\"item?id=44926855\">8 hours ago</a></span> <span id=\"unv_44926855\"></span> | <a href=\"hide?id=44926855&amp;goto=news\">hide</a> | <a href=\"item?id=44926855\">20&nbsp;comments</a></span></td></tr><tr class=\"spacer\" style=\"height:5px\"></tr><tr class=\"athing submission\" id=\"44945008\"><td align=\"right\" valign=\"top\" class=\"title\"><span class=\"rank\">5.</span></td><td valign=\"top\" class=\"votelinks\"><center><a id=\"up_44945008\" href=\"vote?id=44945008&amp;how=up&amp;goto=news\"><div class=\"votearrow\" title=\"upvote\"></div></a></center></td><td class=\"title\"><span class=\"titleline\"><a href=\"https://github.com/tiny-tpu-v2/tiny-tpu\">Tiny-tpu: A minimal tensor processing unit (TPU), inspired by Google\\'s TPU</a><span class=\"sitebit comhead\"> (<a href=\"from?site=github.com/tiny-tpu-v2\"><span class=\"sitestr\">github.com/tiny-tpu-v2</span></a>)</span></span></td></tr><tr><td colspan=\"2\"></td><td class=\"subtext\"><span class=\"subline\"><span class=\"score\" id=\"score_44945008\">156 points</span> by <a href=\"user?id=admp\" class=\"hnuser\">admp</a> <span class=\"age\" title=\"2025-08-18T20:34:37 1755549277\"><a href=\"item?id=44945008\">10 hours ago</a></span> <span id=\"unv_44945008\"></span> | <a href=\"hide?id=44945008&amp;goto=news\">hide</a> | <a href=\"item?id=44945008\">4&nbsp;comments</a></span></td></tr><tr class=\"spacer\" style=\"height:5px\"></tr><tr class=\"athing submission\" id=\"44942731\"><td align=\"right\" valign=\"top\" class=\"title\"><span class=\"rank\">6.</span></td><td valign=\"top\" class=\"votelinks\"><center><a id=\"up_44942731\" href=\"vote?id=44942731&amp;how=up&amp;goto=news\"><div class=\"votearrow\" title=\"upvote\"></div></a></center></td><td class=\"title\"><span class=\"titleline\"><a href=\"https://github.com/epicenter-so/epicenter/tree/main/apps/whispering\">Show HN: Whispering – Open-source, local-first dictation you can trust</a><span class=\"sitebit comhead\"> (<a href=\"from?site=github.com/epicenter-so\"><span class=\"sitestr\">github.com/epicenter-so</span></a>)</span></span></td></tr><tr><td colspan=\"2\"></td><td class=\"subtext\"><span class=\"subline\"><span class=\"score\" id=\"score_44942731\">365 points</span> by <a href=\"user?id=braden-w\" class=\"hnuser\">braden-w</a> <span class=\"age\" title=\"2025-08-18T16:52:29 1755535949\"><a href=\"item?id=44942731\">14 hours ago</a></span> <span id=\"unv_44942731\"></span> | <a href=\"hide?id=44942731&amp;goto=news\">hide</a> | <a href=\"item?id=44942731\">110&nbsp;comments</a></span></td></tr><tr class=\"spacer\" style=\"height:5px\"></tr><tr class=\"athing submission\" id=\"44945532\"><td align=\"right\" valign=\"top\" class=\"title\"><span class=\"rank\">7.</span></td><td valign=\"top\" class=\"votelinks\"><center><a id=\"up_44945532\" href=\"vote?id=44945532&amp;how=up&amp;goto=news\"><div class=\"votearrow\" title=\"upvote\"></div></a></center></td><td class=\"title\"><span class=\"titleline\"><a href=\"https://help.obsidian.md/bases\">Obsidian Bases</a><span class=\"sitebit comhead\"> (<a href=\"from?site=help.obsidian.md\"><span class=\"sitestr\">help.obsidian.md</span></a>)</span></span></td></tr><tr><td colspan=\"2\"></td><td class=\"subtext\"><span class=\"subline\"><span class=\"score\" id=\"score_44945532\">473 points</span> by <a href=\"user?id=twapi\" class=\"hnuser\">twapi</a> <span class=\"age\" title=\"2025-08-18T21:28:05 1755552485\"><a href=\"item?id=44945532\">10 hours ago</a></span> <span id=\"unv_44945532\"></span> | <a href=\"hide?id=44945532&amp;goto=news\">hide</a> | <a href=\"item?id=44945532\">136&nbsp;comments</a></span></td></tr><tr class=\"spacer\" style=\"height:5px\"></tr><tr class=\"athing submission\" id=\"44941369\"><td align=\"right\" valign=\"top\" class=\"title\"><span class=\"rank\">8.</span></td><td valign=\"top\" class=\"votelinks\"><center><a id=\"up_44941369\" href=\"vote?id=44941369&amp;how=up&amp;goto=news\"><div class=\"votearrow\" title=\"upvote\"></div></a></center></td><td class=\"title\"><span class=\"titleline\"><a href=\"https://www.nytimes.com/2025/08/18/arts/counter-strike-half-life-minh-le.html\">Counter-Strike: A billion-dollar game built in a dorm room</a><span class=\"sitebit comhead\"> (<a href=\"from?site=nytimes.com\"><span class=\"sitestr\">nytimes.com</span></a>)</span></span></td></tr><tr><td colspan=\"2\"></td><td class=\"subtext\"><span class=\"subline\"><span class=\"score\" id=\"score_44941369\">337 points</span> by <a href=\"user?id=asnyder\" class=\"hnuser\">asnyder</a> <span class=\"age\" title=\"2025-08-18T14:59:26 1755529166\"><a href=\"item?id=44941369\">15 hours ago</a></span> <span id=\"unv_44941369\"></span> | <a href=\"hide?id=44941369&amp;goto=news\">hide</a> | <a href=\"item?id=44941369\">268&nbsp;comments</a></span></td></tr><tr class=\"spacer\" style=\"height:5px\"></tr><tr class=\"athing submission\" id=\"44923520\"><td align=\"right\" valign=\"top\" class=\"title\"><span class=\"rank\">9.</span></td><td valign=\"top\" class=\"votelinks\"><center><a id=\"up_44923520\" href=\"vote?id=44923520&amp;how=up&amp;goto=news\"><div class=\"votearrow\" title=\"upvote\"></div></a></center></td><td class=\"title\"><span class=\"titleline\"><a href=\"https://scrollguard.app/\">Show HN: I built an app to block Shorts and Reels</a><span class=\"sitebit comhead\"> (<a href=\"from?site=scrollguard.app\"><span class=\"sitestr\">scrollguard.app</span></a>)</span></span></td></tr><tr><td colspan=\"2\"></td><td class=\"subtext\"><span class=\"subline\"><span class=\"score\" id=\"score_44923520\">554 points</span> by <a href=\"user?id=adrianhacar\" class=\"hnuser\">adrianhacar</a> <span class=\"age\" title=\"2025-08-16T14:01:38 1755352898\"><a href=\"item?id=44923520\">19 hours ago</a></span> <span id=\"unv_44923520\"></span> | <a href=\"hide?id=44923520&amp;goto=news\">hide</a> | <a href=\"item?id=44923520\">213&nbsp;comments</a></span></td></tr><tr class=\"spacer\" style=\"height:5px\"></tr><tr class=\"athing submission\" id=\"44942936\"><td align=\"right\" valign=\"top\" class=\"title\"><span class=\"rank\">10.</span></td><td valign=\"top\" class=\"votelinks\"><center><a id=\"up_44942936\" href=\"vote?id=44942936&amp;how=up&amp;goto=news\"><div class=\"votearrow\" title=\"upvote\"></div></a></center></td><td class=\"title\"><span class=\"titleline\"><a href=\"https://graic.net/p/left-to-right-programming\">Left to Right Programming</a><span class=\"sitebit comhead\"> (<a href=\"from?site=graic.net\"><span class=\"sitestr\">graic.net</span></a>)</span></span></td></tr><tr><td colspan=\"2\"></td><td class=\"subtext\"><span class=\"subline\"><span class=\"score\" id=\"score_44942936\">284 points</span> by <a href=\"user?id=graic\" class=\"hnuser\">graic</a> <span class=\"age\" title=\"2025-08-18T17:08:36 1755536916\"><a href=\"item?id=44942936\">14 hours ago</a></span> <span id=\"unv_44942936\"></span> | <a href=\"hide?id=44942936&amp;goto=news\">hide</a> | <a href=\"item?id=44942936\">235&nbsp;comments</a></span></td></tr><tr class=\"spacer\" style=\"height:5px\"></tr><tr class=\"athing submission\" id=\"44946774\"><td align=\"right\" valign=\"top\" class=\"title\"><span class=\"rank\">11.</span></td><td valign=\"top\" class=\"votelinks\"><center><a id=\"up_44946774\" href=\"vote?id=44946774&amp;how=up&amp;goto=news\"><div class=\"votearrow\" title=\"upvote\"></div></a></center></td><td class=\"title\"><span class=\"titleline\"><a href=\"https://linch.substack.com/p/ted-chiang-review\">Ted Chiang: The Secret Third Thing</a><span class=\"sitebit comhead\"> (<a href=\"from?site=linch.substack.com\"><span class=\"sitestr\">linch.substack.com</span></a>)</span></span></td></tr><tr><td colspan=\"2\"></td><td class=\"subtext\"><span class=\"subline\"><span class=\"score\" id=\"score_44946774\">84 points</span> by <a href=\"user?id=pseudolus\" class=\"hnuser\">pseudolus</a> <span class=\"age\" title=\"2025-08-19T00:05:59 1755561959\"><a href=\"item?id=44946774\">7 hours ago</a></span> <span id=\"unv_44946774\"></span> | <a href=\"hide?id=44946774&amp;goto=news\">hide</a> | <a href=\"item?id=44946774\">39&nbsp;comments</a></span></td></tr><tr class=\"spacer\" style=\"height:5px\"></tr><tr class=\"athing submission\" id=\"44946762\"><td align=\"right\" valign=\"top\" class=\"title\"><span class=\"rank\">12.</span></td><td valign=\"top\" class=\"votelinks\"><center><a id=\"up_44946762\" href=\"vote?id=44946762&amp;how=up&amp;goto=news\"><div class=\"votearrow\" title=\"upvote\"></div></a></center></td><td class=\"title\"><span class=\"titleline\"><a href=\"https://divernet.com/scuba-news/freediving/how-croatian-freediver-held-breath-for-29-minutes/\">Croatian freediver held breath for 29 minutes</a><span class=\"sitebit comhead\"> (<a href=\"from?site=divernet.com\"><span class=\"sitestr\">divernet.com</span></a>)</span></span></td></tr><tr><td colspan=\"2\"></td><td class=\"subtext\"><span class=\"subline\"><span class=\"score\" id=\"score_44946762\">185 points</span> by <a href=\"user?id=toomanyrichies\" class=\"hnuser\">toomanyrichies</a> <span class=\"age\" title=\"2025-08-19T00:04:11 1755561851\"><a href=\"item?id=44946762\">7 hours ago</a></span> <span id=\"unv_44946762\"></span> | <a href=\"hide?id=44946762&amp;goto=news\">hide</a> | <a href=\"item?id=44946762\">73&nbsp;comments</a></span></td></tr><tr class=\"spacer\" style=\"height:5px\"></tr><tr class=\"athing submission\" id=\"44940485\"><td align=\"right\" valign=\"top\" class=\"title\"><span class=\"rank\">13.</span></td><td valign=\"top\" class=\"votelinks\"><center><a id=\"up_44940485\" href=\"vote?id=44940485&amp;how=up&amp;goto=news\"><div class=\"votearrow\" title=\"upvote\"></div></a></center></td><td class=\"title\"><span class=\"titleline\"><a href=\"https://github.com/FFmpeg/asm-lessons\">FFmpeg Assembly Language Lessons</a><span class=\"sitebit comhead\"> (<a href=\"from?site=github.com/ffmpeg\"><span class=\"sitestr\">github.com/ffmpeg</span></a>)</span></span></td></tr><tr><td colspan=\"2\"></td><td class=\"subtext\"><span class=\"subline\"><span class=\"score\" id=\"score_44940485\">349 points</span> by <a href=\"user?id=flykespice\" class=\"hnuser\">flykespice</a> <span class=\"age\" title=\"2025-08-18T13:39:53 1755524393\"><a href=\"item?id=44940485\">17 hours ago</a></span> <span id=\"unv_44940485\"></span> | <a href=\"hide?id=44940485&amp;goto=news\">hide</a> | <a href=\"item?id=44940485\">107&nbsp;comments</a></span></td></tr><tr class=\"spacer\" style=\"height:5px\"></tr><tr class=\"athing submission\" id=\"44948352\"><td align=\"right\" valign=\"top\" class=\"title\"><span class=\"rank\">14.</span></td><td valign=\"top\" class=\"votelinks\"><center><a id=\"up_44948352\" href=\"vote?id=44948352&amp;how=up&amp;goto=news\"><div class=\"votearrow\" title=\"upvote\"></div></a></center></td><td class=\"title\"><span class=\"titleline\"><a href=\"https://archaeology.org/issues/september-october-2025/features/how-to-build-a-medieval-castle/\" rel=\"nofollow\">How to Build a Medieval Castle</a><span class=\"sitebit comhead\"> (<a href=\"from?site=archaeology.org\"><span class=\"sitestr\">archaeology.org</span></a>)</span></span></td></tr><tr><td colspan=\"2\"></td><td class=\"subtext\"><span class=\"subline\"><span class=\"score\" id=\"score_44948352\">15 points</span> by <a href=\"user?id=benbreen\" class=\"hnuser\">benbreen</a> <span class=\"age\" title=\"2025-08-19T04:49:35 1755578975\"><a href=\"item?id=44948352\">2 hours ago</a></span> <span id=\"unv_44948352\"></span> | <a href=\"hide?id=44948352&amp;goto=news\">hide</a> | <a href=\"item?id=44948352\">2&nbsp;comments</a></span></td></tr><tr class=\"spacer\" style=\"height:5px\"></tr><tr class=\"athing submission\" id=\"44927778\"><td align=\"right\" valign=\"top\" class=\"title\"><span class=\"rank\">15.</span></td><td valign=\"top\" class=\"votelinks\"><center><a id=\"up_44927778\" href=\"vote?id=44927778&amp;how=up&amp;goto=news\"><div class=\"votearrow\" title=\"upvote\"></div></a></center></td><td class=\"title\"><span class=\"titleline\"><a href=\"https://jotunheimr.idlerpg.net/users/jotun/lawnmower/\">An IRC-Enabled Lawn Mower (2021)</a><span class=\"sitebit comhead\"> (<a href=\"from?site=idlerpg.net\"><span class=\"sitestr\">idlerpg.net</span></a>)</span></span></td></tr><tr><td colspan=\"2\"></td><td class=\"subtext\"><span class=\"subline\"><span class=\"score\" id=\"score_44927778\">79 points</span> by <a href=\"user?id=rickcarlino\" class=\"hnuser\">rickcarlino</a> <span class=\"age\" title=\"2025-08-16T23:48:35 1755388115\"><a href=\"item?id=44927778\">9 hours ago</a></span> <span id=\"unv_44927778\"></span> | <a href=\"hide?id=44927778&amp;goto=news\">hide</a> | <a href=\"item?id=44927778\">12&nbsp;comments</a></span></td></tr><tr class=\"spacer\" style=\"height:5px\"></tr><tr class=\"athing submission\" id=\"44943986\"><td align=\"right\" valign=\"top\" class=\"title\"><span class=\"rank\">16.</span></td><td valign=\"top\" class=\"votelinks\"><center><a id=\"up_44943986\" href=\"vote?id=44943986&amp;how=up&amp;goto=news\"><div class=\"votearrow\" title=\"upvote\"></div></a></center></td><td class=\"title\"><span class=\"titleline\"><a href=\"https://www.youtube.com/watch?v=sRPnX_f2V_c\">Show HN: We started building an AI dev tool but it turned into a Sims-style game</a><span class=\"sitebit comhead\"> (<a href=\"from?site=youtube.com\"><span class=\"sitestr\">youtube.com</span></a>)</span></span></td></tr><tr><td colspan=\"2\"></td><td class=\"subtext\"><span class=\"subline\"><span class=\"score\" id=\"score_44943986\">118 points</span> by <a href=\"user?id=maxraven\" class=\"hnuser\">maxraven</a> <span class=\"age\" title=\"2025-08-18T18:51:23 1755543083\"><a href=\"item?id=44943986\">12 hours ago</a></span> <span id=\"unv_44943986\"></span> | <a href=\"hide?id=44943986&amp;goto=news\">hide</a> | <a href=\"item?id=44943986\">60&nbsp;comments</a></span></td></tr><tr class=\"spacer\" style=\"height:5px\"></tr><tr class=\"athing submission\" id=\"44922540\"><td align=\"right\" valign=\"top\" class=\"title\"><span class=\"rank\">17.</span></td><td valign=\"top\" class=\"votelinks\"><center><a id=\"up_44922540\" href=\"vote?id=44922540&amp;how=up&amp;goto=news\"><div class=\"votearrow\" title=\"upvote\"></div></a></center></td><td class=\"title\"><span class=\"titleline\"><a href=\"http://www.technoblogy.com/show?2AON\">Walkie-Textie Wireless Communicator</a><span class=\"sitebit comhead\"> (<a href=\"from?site=technoblogy.com\"><span class=\"sitestr\">technoblogy.com</span></a>)</span></span></td></tr><tr><td colspan=\"2\"></td><td class=\"subtext\"><span class=\"subline\"><span class=\"score\" id=\"score_44922540\">136 points</span> by <a href=\"user?id=chrisjj\" class=\"hnuser\">chrisjj</a> <span class=\"age\" title=\"2025-08-16T12:08:45 1755346125\"><a href=\"item?id=44922540\">21 hours ago</a></span> <span id=\"unv_44922540\"></span> | <a href=\"hide?id=44922540&amp;goto=news\">hide</a> | <a href=\"item?id=44922540\">89&nbsp;comments</a></span></td></tr><tr class=\"spacer\" style=\"height:5px\"></tr><tr class=\"athing submission\" id=\"44927629\"><td align=\"right\" valign=\"top\" class=\"title\"><span class=\"rank\">18.</span></td><td valign=\"top\" class=\"votelinks\"><center><a id=\"up_44927629\" href=\"vote?id=44927629&amp;how=up&amp;goto=news\"><div class=\"votearrow\" title=\"upvote\"></div></a></center></td><td class=\"title\"><span class=\"titleline\"><a href=\"https://www.freecodecamp.org/news/how-to-free-up-and-automatically-manage-disk-space-for-wsl-on-windows-1011/\">How to free up and automatically manage disk space for WSL</a><span class=\"sitebit comhead\"> (<a href=\"from?site=freecodecamp.org\"><span class=\"sitestr\">freecodecamp.org</span></a>)</span></span></td></tr><tr><td colspan=\"2\"></td><td class=\"subtext\"><span class=\"subline\"><span class=\"score\" id=\"score_44927629\">39 points</span> by <a href=\"user?id=twilight-code\" class=\"hnuser\">twilight-code</a> <span class=\"age\" title=\"2025-08-16T23:15:25 1755386125\"><a href=\"item?id=44927629\">6 hours ago</a></span> <span id=\"unv_44927629\"></span> | <a href=\"hide?id=44927629&amp;goto=news\">hide</a> | <a href=\"item?id=44927629\">31&nbsp;comments</a></span></td></tr><tr class=\"spacer\" style=\"height:5px\"></tr><tr class=\"athing submission\" id=\"44919527\"><td align=\"right\" valign=\"top\" class=\"title\"><span class=\"rank\">19.</span></td><td valign=\"top\" class=\"votelinks\"><center><a id=\"up_44919527\" href=\"vote?id=44919527&amp;how=up&amp;goto=news\"><div class=\"votearrow\" title=\"upvote\"></div></a></center></td><td class=\"title\"><span class=\"titleline\"><a href=\"https://iapsop.com\">Association for the Preservation of Spiritualist and Occult Periodicals</a><span class=\"sitebit comhead\"> (<a href=\"from?site=iapsop.com\"><span class=\"sitestr\">iapsop.com</span></a>)</span></span></td></tr><tr><td colspan=\"2\"></td><td class=\"subtext\"><span class=\"subline\"><span class=\"score\" id=\"score_44919527\">24 points</span> by <a href=\"user?id=andrii\" class=\"hnuser\">andrii</a> <span class=\"age\" title=\"2025-08-16T02:12:45 1755310365\"><a href=\"item?id=44919527\">5 hours ago</a></span> <span id=\"unv_44919527\"></span> | <a href=\"hide?id=44919527&amp;goto=news\">hide</a> | <a href=\"item?id=44919527\">3&nbsp;comments</a></span></td></tr><tr class=\"spacer\" style=\"height:5px\"></tr><tr class=\"athing submission\" id=\"44938818\"><td align=\"right\" valign=\"top\" class=\"title\"><span class=\"rank\">20.</span></td><td valign=\"top\" class=\"votelinks\"><center><a id=\"up_44938818\" href=\"vote?id=44938818&amp;how=up&amp;goto=news\"><div class=\"votearrow\" title=\"upvote\"></div></a></center></td><td class=\"title\"><span class=\"titleline\"><a href=\"https://medicalxpress.com/news/2025-08-alternative-lasik-lasers.html\">Electromechanical reshaping,  an alternative to laser eye surgery</a><span class=\"sitebit comhead\"> (<a href=\"from?site=medicalxpress.com\"><span class=\"sitestr\">medicalxpress.com</span></a>)</span></span></td></tr><tr><td colspan=\"2\"></td><td class=\"subtext\"><span class=\"subline\"><span class=\"score\" id=\"score_44938818\">234 points</span> by <a href=\"user?id=Gaishan\" class=\"hnuser\">Gaishan</a> <span class=\"age\" title=\"2025-08-18T09:35:17 1755509717\"><a href=\"item?id=44938818\">20 hours ago</a></span> <span id=\"unv_44938818\"></span> | <a href=\"hide?id=44938818&amp;goto=news\">hide</a> | <a href=\"item?id=44938818\">101&nbsp;comments</a></span></td></tr><tr class=\"spacer\" style=\"height:5px\"></tr><tr class=\"athing submission\" id=\"44942501\"><td align=\"right\" valign=\"top\" class=\"title\"><span class=\"rank\">21.</span></td><td valign=\"top\" class=\"votelinks\"><center><a id=\"up_44942501\" href=\"vote?id=44942501&amp;how=up&amp;goto=news\"><div class=\"votearrow\" title=\"upvote\"></div></a></center></td><td class=\"title\"><span class=\"titleline\"><a href=\"https://annas-archive.org/blog/an-update-from-the-team.html\">Anna\\'s Archive: An Update from the Team</a><span class=\"sitebit comhead\"> (<a href=\"from?site=annas-archive.org\"><span class=\"sitestr\">annas-archive.org</span></a>)</span></span></td></tr><tr><td colspan=\"2\"></td><td class=\"subtext\"><span class=\"subline\"><span class=\"score\" id=\"score_44942501\">897 points</span> by <a href=\"user?id=jerheinze\" class=\"hnuser\">jerheinze</a> <span class=\"age\" title=\"2025-08-18T16:31:48 1755534708\"><a href=\"item?id=44942501\">15 hours ago</a></span> <span id=\"unv_44942501\"></span> | <a href=\"hide?id=44942501&amp;goto=news\">hide</a> | <a href=\"item?id=44942501\">405&nbsp;comments</a></span></td></tr><tr class=\"spacer\" style=\"height:5px\"></tr><tr class=\"athing submission\" id=\"44945730\"><td align=\"right\" valign=\"top\" class=\"title\"><span class=\"rank\">22.</span></td><td valign=\"top\" class=\"votelinks\"><center><a id=\"up_44945730\" href=\"vote?id=44945730&amp;how=up&amp;goto=news\"><div class=\"votearrow\" title=\"upvote\"></div></a></center></td><td class=\"title\"><span class=\"titleline\"><a href=\"https://www.newgrounds.com/bbs/topic/1542140\">Newgrounds: Flash Forward 2025</a><span class=\"sitebit comhead\"> (<a href=\"from?site=newgrounds.com\"><span class=\"sitestr\">newgrounds.com</span></a>)</span></span></td></tr><tr><td colspan=\"2\"></td><td class=\"subtext\"><span class=\"subline\"><span class=\"score\" id=\"score_44945730\">62 points</span> by <a href=\"user?id=lsferreira42\" class=\"hnuser\">lsferreira42</a> <span class=\"age\" title=\"2025-08-18T21:54:13 1755554053\"><a href=\"item?id=44945730\">9 hours ago</a></span> <span id=\"unv_44945730\"></span> | <a href=\"hide?id=44945730&amp;goto=news\">hide</a> | <a href=\"item?id=44945730\">18&nbsp;comments</a></span></td></tr><tr class=\"spacer\" style=\"height:5px\"></tr><tr class=\"athing submission\" id=\"44945943\"><td align=\"right\" valign=\"top\" class=\"title\"><span class=\"rank\">23.</span></td><td valign=\"top\" class=\"votelinks\"><center><a id=\"up_44945943\" href=\"vote?id=44945943&amp;how=up&amp;goto=news\"><div class=\"votearrow\" title=\"upvote\"></div></a></center></td><td class=\"title\"><span class=\"titleline\"><a href=\"https://nadia.xyz/shameless\">Shamelessness as a strategy (2019)</a><span class=\"sitebit comhead\"> (<a href=\"from?site=nadia.xyz\"><span class=\"sitestr\">nadia.xyz</span></a>)</span></span></td></tr><tr><td colspan=\"2\"></td><td class=\"subtext\"><span class=\"subline\"><span class=\"score\" id=\"score_44945943\">148 points</span> by <a href=\"user?id=wdaher\" class=\"hnuser\">wdaher</a> <span class=\"age\" title=\"2025-08-18T22:27:01 1755556021\"><a href=\"item?id=44945943\">9 hours ago</a></span> <span id=\"unv_44945943\"></span> | <a href=\"hide?id=44945943&amp;goto=news\">hide</a> | <a href=\"item?id=44945943\">85&nbsp;comments</a></span></td></tr><tr class=\"spacer\" style=\"height:5px\"></tr><tr class=\"athing submission\" id=\"44907133\"><td align=\"right\" valign=\"top\" class=\"title\"><span class=\"rank\">24.</span></td><td valign=\"top\" class=\"votelinks\"><center><a id=\"up_44907133\" href=\"vote?id=44907133&amp;how=up&amp;goto=news\"><div class=\"votearrow\" title=\"upvote\"></div></a></center></td><td class=\"title\"><span class=\"titleline\"><a href=\"https://papers.ssrn.com/sol3/papers.cfm?abstract_id=5242171\">The rising returns to R&amp;D: Ideas are not getting harder to find</a><span class=\"sitebit comhead\"> (<a href=\"from?site=ssrn.com\"><span class=\"sitestr\">ssrn.com</span></a>)</span></span></td></tr><tr><td colspan=\"2\"></td><td class=\"subtext\"><span class=\"subline\"><span class=\"score\" id=\"score_44907133\">91 points</span> by <a href=\"user?id=surprisetalk\" class=\"hnuser\">surprisetalk</a> <span class=\"age\" title=\"2025-08-14T23:58:12 1755215892\"><a href=\"item?id=44907133\">11 hours ago</a></span> <span id=\"unv_44907133\"></span> | <a href=\"hide?id=44907133&amp;goto=news\">hide</a> | <a href=\"item?id=44907133\">25&nbsp;comments</a></span></td></tr><tr class=\"spacer\" style=\"height:5px\"></tr><tr class=\"athing submission\" id=\"44945562\"><td align=\"right\" valign=\"top\" class=\"title\"><span class=\"rank\">25.</span></td><td><img src=\"s.gif\" height=\"1\" width=\"14\"></td><td class=\"title\"><span class=\"titleline\"><a href=\"https://www.ycombinator.com/companies/spice-data/jobs/RJz1peY-product-associate-new-grad\">Spice Data (YC S19) Is Hiring a Product Associate (New Grad)</a><span class=\"sitebit comhead\"> (<a href=\"from?site=ycombinator.com\"><span class=\"sitestr\">ycombinator.com</span></a>)</span></span></td></tr><tr><td colspan=\"2\"></td><td class=\"subtext\"><span class=\"age\" title=\"2025-08-18T21:31:49 1755552709\"><a href=\"item?id=44945562\">10 hours ago</a></span> | <a href=\"hide?id=44945562&amp;goto=news\">hide</a></td></tr><tr class=\"spacer\" style=\"height:5px\"></tr><tr class=\"athing submission\" id=\"44915228\"><td align=\"right\" valign=\"top\" class=\"title\"><span class=\"rank\">26.</span></td><td valign=\"top\" class=\"votelinks\"><center><a id=\"up_44915228\" href=\"vote?id=44915228&amp;how=up&amp;goto=news\"><div class=\"votearrow\" title=\"upvote\"></div></a></center></td><td class=\"title\"><span class=\"titleline\"><a href=\"https://phys.org/news/2025-07-precision-tracks-woody-great-plains.html\">Precision mapping tracks woody plant spread across Great Plains grasslands</a><span class=\"sitebit comhead\"> (<a href=\"from?site=phys.org\"><span class=\"sitestr\">phys.org</span></a>)</span></span></td></tr><tr><td colspan=\"2\"></td><td class=\"subtext\"><span class=\"subline\"><span class=\"score\" id=\"score_44915228\">18 points</span> by <a href=\"user?id=PaulHoule\" class=\"hnuser\">PaulHoule</a> <span class=\"age\" title=\"2025-08-15T17:39:24 1755279564\"><a href=\"item?id=44915228\">6 hours ago</a></span> <span id=\"unv_44915228\"></span> | <a href=\"hide?id=44915228&amp;goto=news\">hide</a> | <a href=\"item?id=44915228\">2&nbsp;comments</a></span></td></tr><tr class=\"spacer\" style=\"height:5px\"></tr><tr class=\"athing submission\" id=\"44941580\"><td align=\"right\" valign=\"top\" class=\"title\"><span class=\"rank\">27.</span></td><td valign=\"top\" class=\"votelinks\"><center><a id=\"up_44941580\" href=\"vote?id=44941580&amp;how=up&amp;goto=news\"><div class=\"votearrow\" title=\"upvote\"></div></a></center></td><td class=\"title\"><span class=\"titleline\"><a href=\"https://www.realitydefender.com/platform/api\">Launch HN: Reality Defender (YC W22) – API for Deepfake and GenAI Detection</a><span class=\"sitebit comhead\"> (<a href=\"from?site=realitydefender.com\"><span class=\"sitestr\">realitydefender.com</span></a>)</span></span></td></tr><tr><td colspan=\"2\"></td><td class=\"subtext\"><span class=\"subline\"><span class=\"score\" id=\"score_44941580\">78 points</span> by <a href=\"user?id=bpcrd\" class=\"hnuser\">bpcrd</a> <span class=\"age\" title=\"2025-08-18T15:16:34 1755530194\"><a href=\"item?id=44941580\">16 hours ago</a></span> <span id=\"unv_44941580\"></span> | <a href=\"hide?id=44941580&amp;goto=news\">hide</a> | <a href=\"item?id=44941580\">39&nbsp;comments</a></span></td></tr><tr class=\"spacer\" style=\"height:5px\"></tr><tr class=\"athing submission\" id=\"44946813\"><td align=\"right\" valign=\"top\" class=\"title\"><span class=\"rank\">28.</span></td><td valign=\"top\" class=\"votelinks\"><center><a id=\"up_44946813\" href=\"vote?id=44946813&amp;how=up&amp;goto=news\"><div class=\"votearrow\" title=\"upvote\"></div></a></center></td><td class=\"title\"><span class=\"titleline\"><a href=\"https://jonathanadams.pro/blog-articles/Nasa-Fortran-Code-1963.pdf\">A general Fortran code for solutions of problems in space mechanics [pdf]</a><span class=\"sitebit comhead\"> (<a href=\"from?site=jonathanadams.pro\"><span class=\"sitestr\">jonathanadams.pro</span></a>)</span></span></td></tr><tr><td colspan=\"2\"></td><td class=\"subtext\"><span class=\"subline\"><span class=\"score\" id=\"score_44946813\">41 points</span> by <a href=\"user?id=keepamovin\" class=\"hnuser\">keepamovin</a> <span class=\"age\" title=\"2025-08-19T00:12:17 1755562337\"><a href=\"item?id=44946813\">7 hours ago</a></span> <span id=\"unv_44946813\"></span> | <a href=\"hide?id=44946813&amp;goto=news\">hide</a> | <a href=\"item?id=44946813\">16&nbsp;comments</a></span></td></tr><tr class=\"spacer\" style=\"height:5px\"></tr><tr class=\"athing submission\" id=\"44944592\"><td align=\"right\" valign=\"top\" class=\"title\"><span class=\"rank\">29.</span></td><td valign=\"top\" class=\"votelinks\"><center><a id=\"up_44944592\" href=\"vote?id=44944592&amp;how=up&amp;goto=news\"><div class=\"votearrow\" title=\"upvote\"></div></a></center></td><td class=\"title\"><span class=\"titleline\"><a href=\"https://www.tinytpu.com\">Show HN: I built a toy TPU that can do inference and training on the XOR problem</a><span class=\"sitebit comhead\"> (<a href=\"from?site=tinytpu.com\"><span class=\"sitestr\">tinytpu.com</span></a>)</span></span></td></tr><tr><td colspan=\"2\"></td><td class=\"subtext\"><span class=\"subline\"><span class=\"score\" id=\"score_44944592\">89 points</span> by <a href=\"user?id=evxxan\" class=\"hnuser\">evxxan</a> <span class=\"age\" title=\"2025-08-18T19:52:14 1755546734\"><a href=\"item?id=44944592\">11 hours ago</a></span> <span id=\"unv_44944592\"></span> | <a href=\"hide?id=44944592&amp;goto=news\">hide</a> | <a href=\"item?id=44944592\">16&nbsp;comments</a></span></td></tr><tr class=\"spacer\" style=\"height:5px\"></tr><tr class=\"athing submission\" id=\"44945959\"><td align=\"right\" valign=\"top\" class=\"title\"><span class=\"rank\">30.</span></td><td valign=\"top\" class=\"votelinks\"><center><a id=\"up_44945959\" href=\"vote?id=44945959&amp;how=up&amp;goto=news\"><div class=\"votearrow\" title=\"upvote\"></div></a></center></td><td class=\"title\"><span class=\"titleline\"><a href=\"https://www.smithsonianmag.com/smart-news/lab-grown-salmon-hits-the-menu-at-an-oregon-restaurant-as-the-fda-greenlights-the-cell-cultured-product-180986769/\">Lab-grown salmon hits the menu</a><span class=\"sitebit comhead\"> (<a href=\"from?site=smithsonianmag.com\"><span class=\"sitestr\">smithsonianmag.com</span></a>)</span></span></td></tr><tr><td colspan=\"2\"></td><td class=\"subtext\"><span class=\"subline\"><span class=\"score\" id=\"score_44945959\">132 points</span> by <a href=\"user?id=bookmtn\" class=\"hnuser\">bookmtn</a> <span class=\"age\" title=\"2025-08-18T22:29:14 1755556154\"><a href=\"item?id=44945959\">9 hours ago</a></span> <span id=\"unv_44945959\"></span> | <a href=\"hide?id=44945959&amp;goto=news\">hide</a> | <a href=\"item?id=44945959\">213&nbsp;comments</a></span></td></tr><tr class=\"spacer\" style=\"height:5px\"></tr><tr class=\"morespace\" style=\"height:10px\"></tr><tr><td colspan=\"2\"></td><td class=\"title\"><a href=\"?p=2\" class=\"morelink\" rel=\"next\">More</a></td></tr></tbody></table></td></tr><tr><td><img src=\"s.gif\" height=\"10\" width=\"0\"><table width=\"100%\" cellspacing=\"0\" cellpadding=\"1\"><tbody><tr><td bgcolor=\"#ff6600\"></td></tr></tbody></table><br>\\n<center><span class=\"yclinks\"><a href=\"newsguidelines.html\">Guidelines</a> | <a href=\"newsfaq.html\">FAQ</a> | <a href=\"lists\">Lists</a> | <a href=\"https://github.com/HackerNews/API\">API</a> | <a href=\"security.html\">Security</a> | <a href=\"https://www.ycombinator.com/legal/\">Legal</a> | <a href=\"https://www.ycombinator.com/apply/\">Apply to YC</a> | <a href=\"mailto:hn@ycombinator.com\">Contact</a></span><br><br>\\n<form method=\"get\" action=\"//hn.algolia.com/\">Search: <input type=\"text\" name=\"q\" size=\"17\" autocorrect=\"off\" spellcheck=\"false\" autocapitalize=\"off\" autocomplete=\"off\"></form></center></td></tr></tbody></table></center><script type=\"text/javascript\" src=\"hn.js?sJrC2FNC7onakFWpNx3H\"></script></body></html>'"
            ],
            "application/vnd.google.colaboratory.intrinsic+json": {
              "type": "string"
            }
          },
          "metadata": {},
          "execution_count": 89
        }
      ]
    },
    {
      "cell_type": "code",
      "source": [
        "from bs4 import BeautifulSoup\n",
        "from urllib.parse import urljoin\n",
        "import pandas as pd\n",
        "\n",
        "# html 변수는 이미 fast_text_only()로 받아온 문자열이라고 가정\n",
        "soup = BeautifulSoup(html, \"html.parser\")\n",
        "\n",
        "base = \"https://news.ycombinator.com/\"\n",
        "rows = []\n",
        "\n",
        "# HN은 각 글이 tr.athing, 그 다음 tr에 메타정보(td.subtext)가 옵니다.\n",
        "for tr in soup.select(\"tr.athing\"):\n",
        "    # 제목/링크/순위\n",
        "    a = tr.select_one(\"span.titleline > a\") or tr.select_one(\"a.storylink\")  # (구버전 호환)\n",
        "    title = a.get_text(strip=True) if a else \"\"\n",
        "    url = urljoin(base, a.get(\"href\", \"\")) if a else \"\"\n",
        "    rank_el = tr.select_one(\"span.rank\")\n",
        "    rank = rank_el.get_text(strip=True).rstrip(\".\") if rank_el else None\n",
        "\n",
        "    # 다음 행의 메타 정보\n",
        "    sub = tr.find_next_sibling(\"tr\")\n",
        "    subtext = sub.select_one(\"td.subtext\") if sub else None\n",
        "\n",
        "    points = author = age = comments = None\n",
        "    if subtext:\n",
        "        score_el = subtext.select_one(\"span.score\")\n",
        "        if score_el:\n",
        "            # \"123 points\" → 123\n",
        "            try:\n",
        "                points = int(score_el.get_text(strip=True).split()[0])\n",
        "            except Exception:\n",
        "                points = score_el.get_text(strip=True)\n",
        "\n",
        "        user_el = subtext.select_one(\"a.hnuser\")\n",
        "        author = user_el.get_text(strip=True) if user_el else None\n",
        "\n",
        "        age_el = subtext.select_one(\"span.age a\")\n",
        "        age = age_el.get_text(strip=True) if age_el else None\n",
        "\n",
        "        # 마지막 링크가 보통 \"X comments\" 또는 \"discuss\"\n",
        "        links = subtext.find_all(\"a\")\n",
        "        if links:\n",
        "            ctext = links[-1].get_text(strip=True)\n",
        "            if \"comment\" in ctext or \"discuss\" in ctext:\n",
        "                comments = ctext\n",
        "\n",
        "    rows.append({\n",
        "        \"rank\": rank,\n",
        "        \"title\": title,\n",
        "        \"url\": url,\n",
        "        \"points\": points,\n",
        "        \"author\": author,\n",
        "        \"age\": age,\n",
        "        \"comments\": comments,\n",
        "    })\n",
        "\n",
        "df = pd.DataFrame(rows)\n",
        "df.head()\n"
      ],
      "metadata": {
        "colab": {
          "base_uri": "https://localhost:8080/",
          "height": 556
        },
        "id": "de__KzYk4OLc",
        "outputId": "96c86f05-fedb-4c6e-c63b-7fec0c973d6d"
      },
      "execution_count": null,
      "outputs": [
        {
          "output_type": "execute_result",
          "data": {
            "text/plain": [
              "  rank                                              title  \\\n",
              "0    1   Lazy-brush – smooth drawing with mouse or finger   \n",
              "1    2              OpenMower – An open source lawn mower   \n",
              "2    3  Croatia just revised its digital nomad visa to...   \n",
              "3    4  X-ray scans reveal Buddhist prayers inside tin...   \n",
              "4    5  Tiny-tpu: A minimal tensor processing unit (TP...   \n",
              "\n",
              "                                                 url  points       author  \\\n",
              "0                       https://lazybrush.dulnan.net   111.0        tvdvd   \n",
              "1        https://github.com/ClemensElflein/OpenMower   245.0  rickcarlino   \n",
              "2  https://www.cnbc.com/2025/08/15/croatia-digita...    22.0  toomuchtodo   \n",
              "3  https://www.popsci.com/technology/tibetan-pray...   105.0        Hooke   \n",
              "4            https://github.com/tiny-tpu-v2/tiny-tpu   156.0         admp   \n",
              "\n",
              "            age     comments  \n",
              "0   3 hours ago  11 comments  \n",
              "1   6 hours ago  51 comments  \n",
              "2   2 hours ago   8 comments  \n",
              "3   8 hours ago  20 comments  \n",
              "4  10 hours ago   4 comments  "
            ],
            "text/html": [
              "\n",
              "  <div id=\"df-9a172abb-42cc-4e55-a2f6-7978b7c71e2e\" class=\"colab-df-container\">\n",
              "    <div>\n",
              "<style scoped>\n",
              "    .dataframe tbody tr th:only-of-type {\n",
              "        vertical-align: middle;\n",
              "    }\n",
              "\n",
              "    .dataframe tbody tr th {\n",
              "        vertical-align: top;\n",
              "    }\n",
              "\n",
              "    .dataframe thead th {\n",
              "        text-align: right;\n",
              "    }\n",
              "</style>\n",
              "<table border=\"1\" class=\"dataframe\">\n",
              "  <thead>\n",
              "    <tr style=\"text-align: right;\">\n",
              "      <th></th>\n",
              "      <th>rank</th>\n",
              "      <th>title</th>\n",
              "      <th>url</th>\n",
              "      <th>points</th>\n",
              "      <th>author</th>\n",
              "      <th>age</th>\n",
              "      <th>comments</th>\n",
              "    </tr>\n",
              "  </thead>\n",
              "  <tbody>\n",
              "    <tr>\n",
              "      <th>0</th>\n",
              "      <td>1</td>\n",
              "      <td>Lazy-brush – smooth drawing with mouse or finger</td>\n",
              "      <td>https://lazybrush.dulnan.net</td>\n",
              "      <td>111.0</td>\n",
              "      <td>tvdvd</td>\n",
              "      <td>3 hours ago</td>\n",
              "      <td>11 comments</td>\n",
              "    </tr>\n",
              "    <tr>\n",
              "      <th>1</th>\n",
              "      <td>2</td>\n",
              "      <td>OpenMower – An open source lawn mower</td>\n",
              "      <td>https://github.com/ClemensElflein/OpenMower</td>\n",
              "      <td>245.0</td>\n",
              "      <td>rickcarlino</td>\n",
              "      <td>6 hours ago</td>\n",
              "      <td>51 comments</td>\n",
              "    </tr>\n",
              "    <tr>\n",
              "      <th>2</th>\n",
              "      <td>3</td>\n",
              "      <td>Croatia just revised its digital nomad visa to...</td>\n",
              "      <td>https://www.cnbc.com/2025/08/15/croatia-digita...</td>\n",
              "      <td>22.0</td>\n",
              "      <td>toomuchtodo</td>\n",
              "      <td>2 hours ago</td>\n",
              "      <td>8 comments</td>\n",
              "    </tr>\n",
              "    <tr>\n",
              "      <th>3</th>\n",
              "      <td>4</td>\n",
              "      <td>X-ray scans reveal Buddhist prayers inside tin...</td>\n",
              "      <td>https://www.popsci.com/technology/tibetan-pray...</td>\n",
              "      <td>105.0</td>\n",
              "      <td>Hooke</td>\n",
              "      <td>8 hours ago</td>\n",
              "      <td>20 comments</td>\n",
              "    </tr>\n",
              "    <tr>\n",
              "      <th>4</th>\n",
              "      <td>5</td>\n",
              "      <td>Tiny-tpu: A minimal tensor processing unit (TP...</td>\n",
              "      <td>https://github.com/tiny-tpu-v2/tiny-tpu</td>\n",
              "      <td>156.0</td>\n",
              "      <td>admp</td>\n",
              "      <td>10 hours ago</td>\n",
              "      <td>4 comments</td>\n",
              "    </tr>\n",
              "  </tbody>\n",
              "</table>\n",
              "</div>\n",
              "    <div class=\"colab-df-buttons\">\n",
              "\n",
              "  <div class=\"colab-df-container\">\n",
              "    <button class=\"colab-df-convert\" onclick=\"convertToInteractive('df-9a172abb-42cc-4e55-a2f6-7978b7c71e2e')\"\n",
              "            title=\"Convert this dataframe to an interactive table.\"\n",
              "            style=\"display:none;\">\n",
              "\n",
              "  <svg xmlns=\"http://www.w3.org/2000/svg\" height=\"24px\" viewBox=\"0 -960 960 960\">\n",
              "    <path d=\"M120-120v-720h720v720H120Zm60-500h600v-160H180v160Zm220 220h160v-160H400v160Zm0 220h160v-160H400v160ZM180-400h160v-160H180v160Zm440 0h160v-160H620v160ZM180-180h160v-160H180v160Zm440 0h160v-160H620v160Z\"/>\n",
              "  </svg>\n",
              "    </button>\n",
              "\n",
              "  <style>\n",
              "    .colab-df-container {\n",
              "      display:flex;\n",
              "      gap: 12px;\n",
              "    }\n",
              "\n",
              "    .colab-df-convert {\n",
              "      background-color: #E8F0FE;\n",
              "      border: none;\n",
              "      border-radius: 50%;\n",
              "      cursor: pointer;\n",
              "      display: none;\n",
              "      fill: #1967D2;\n",
              "      height: 32px;\n",
              "      padding: 0 0 0 0;\n",
              "      width: 32px;\n",
              "    }\n",
              "\n",
              "    .colab-df-convert:hover {\n",
              "      background-color: #E2EBFA;\n",
              "      box-shadow: 0px 1px 2px rgba(60, 64, 67, 0.3), 0px 1px 3px 1px rgba(60, 64, 67, 0.15);\n",
              "      fill: #174EA6;\n",
              "    }\n",
              "\n",
              "    .colab-df-buttons div {\n",
              "      margin-bottom: 4px;\n",
              "    }\n",
              "\n",
              "    [theme=dark] .colab-df-convert {\n",
              "      background-color: #3B4455;\n",
              "      fill: #D2E3FC;\n",
              "    }\n",
              "\n",
              "    [theme=dark] .colab-df-convert:hover {\n",
              "      background-color: #434B5C;\n",
              "      box-shadow: 0px 1px 3px 1px rgba(0, 0, 0, 0.15);\n",
              "      filter: drop-shadow(0px 1px 2px rgba(0, 0, 0, 0.3));\n",
              "      fill: #FFFFFF;\n",
              "    }\n",
              "  </style>\n",
              "\n",
              "    <script>\n",
              "      const buttonEl =\n",
              "        document.querySelector('#df-9a172abb-42cc-4e55-a2f6-7978b7c71e2e button.colab-df-convert');\n",
              "      buttonEl.style.display =\n",
              "        google.colab.kernel.accessAllowed ? 'block' : 'none';\n",
              "\n",
              "      async function convertToInteractive(key) {\n",
              "        const element = document.querySelector('#df-9a172abb-42cc-4e55-a2f6-7978b7c71e2e');\n",
              "        const dataTable =\n",
              "          await google.colab.kernel.invokeFunction('convertToInteractive',\n",
              "                                                    [key], {});\n",
              "        if (!dataTable) return;\n",
              "\n",
              "        const docLinkHtml = 'Like what you see? Visit the ' +\n",
              "          '<a target=\"_blank\" href=https://colab.research.google.com/notebooks/data_table.ipynb>data table notebook</a>'\n",
              "          + ' to learn more about interactive tables.';\n",
              "        element.innerHTML = '';\n",
              "        dataTable['output_type'] = 'display_data';\n",
              "        await google.colab.output.renderOutput(dataTable, element);\n",
              "        const docLink = document.createElement('div');\n",
              "        docLink.innerHTML = docLinkHtml;\n",
              "        element.appendChild(docLink);\n",
              "      }\n",
              "    </script>\n",
              "  </div>\n",
              "\n",
              "\n",
              "    <div id=\"df-46128fc5-f1cb-454c-b134-8ec6c70c2df6\">\n",
              "      <button class=\"colab-df-quickchart\" onclick=\"quickchart('df-46128fc5-f1cb-454c-b134-8ec6c70c2df6')\"\n",
              "                title=\"Suggest charts\"\n",
              "                style=\"display:none;\">\n",
              "\n",
              "<svg xmlns=\"http://www.w3.org/2000/svg\" height=\"24px\"viewBox=\"0 0 24 24\"\n",
              "     width=\"24px\">\n",
              "    <g>\n",
              "        <path d=\"M19 3H5c-1.1 0-2 .9-2 2v14c0 1.1.9 2 2 2h14c1.1 0 2-.9 2-2V5c0-1.1-.9-2-2-2zM9 17H7v-7h2v7zm4 0h-2V7h2v10zm4 0h-2v-4h2v4z\"/>\n",
              "    </g>\n",
              "</svg>\n",
              "      </button>\n",
              "\n",
              "<style>\n",
              "  .colab-df-quickchart {\n",
              "      --bg-color: #E8F0FE;\n",
              "      --fill-color: #1967D2;\n",
              "      --hover-bg-color: #E2EBFA;\n",
              "      --hover-fill-color: #174EA6;\n",
              "      --disabled-fill-color: #AAA;\n",
              "      --disabled-bg-color: #DDD;\n",
              "  }\n",
              "\n",
              "  [theme=dark] .colab-df-quickchart {\n",
              "      --bg-color: #3B4455;\n",
              "      --fill-color: #D2E3FC;\n",
              "      --hover-bg-color: #434B5C;\n",
              "      --hover-fill-color: #FFFFFF;\n",
              "      --disabled-bg-color: #3B4455;\n",
              "      --disabled-fill-color: #666;\n",
              "  }\n",
              "\n",
              "  .colab-df-quickchart {\n",
              "    background-color: var(--bg-color);\n",
              "    border: none;\n",
              "    border-radius: 50%;\n",
              "    cursor: pointer;\n",
              "    display: none;\n",
              "    fill: var(--fill-color);\n",
              "    height: 32px;\n",
              "    padding: 0;\n",
              "    width: 32px;\n",
              "  }\n",
              "\n",
              "  .colab-df-quickchart:hover {\n",
              "    background-color: var(--hover-bg-color);\n",
              "    box-shadow: 0 1px 2px rgba(60, 64, 67, 0.3), 0 1px 3px 1px rgba(60, 64, 67, 0.15);\n",
              "    fill: var(--button-hover-fill-color);\n",
              "  }\n",
              "\n",
              "  .colab-df-quickchart-complete:disabled,\n",
              "  .colab-df-quickchart-complete:disabled:hover {\n",
              "    background-color: var(--disabled-bg-color);\n",
              "    fill: var(--disabled-fill-color);\n",
              "    box-shadow: none;\n",
              "  }\n",
              "\n",
              "  .colab-df-spinner {\n",
              "    border: 2px solid var(--fill-color);\n",
              "    border-color: transparent;\n",
              "    border-bottom-color: var(--fill-color);\n",
              "    animation:\n",
              "      spin 1s steps(1) infinite;\n",
              "  }\n",
              "\n",
              "  @keyframes spin {\n",
              "    0% {\n",
              "      border-color: transparent;\n",
              "      border-bottom-color: var(--fill-color);\n",
              "      border-left-color: var(--fill-color);\n",
              "    }\n",
              "    20% {\n",
              "      border-color: transparent;\n",
              "      border-left-color: var(--fill-color);\n",
              "      border-top-color: var(--fill-color);\n",
              "    }\n",
              "    30% {\n",
              "      border-color: transparent;\n",
              "      border-left-color: var(--fill-color);\n",
              "      border-top-color: var(--fill-color);\n",
              "      border-right-color: var(--fill-color);\n",
              "    }\n",
              "    40% {\n",
              "      border-color: transparent;\n",
              "      border-right-color: var(--fill-color);\n",
              "      border-top-color: var(--fill-color);\n",
              "    }\n",
              "    60% {\n",
              "      border-color: transparent;\n",
              "      border-right-color: var(--fill-color);\n",
              "    }\n",
              "    80% {\n",
              "      border-color: transparent;\n",
              "      border-right-color: var(--fill-color);\n",
              "      border-bottom-color: var(--fill-color);\n",
              "    }\n",
              "    90% {\n",
              "      border-color: transparent;\n",
              "      border-bottom-color: var(--fill-color);\n",
              "    }\n",
              "  }\n",
              "</style>\n",
              "\n",
              "      <script>\n",
              "        async function quickchart(key) {\n",
              "          const quickchartButtonEl =\n",
              "            document.querySelector('#' + key + ' button');\n",
              "          quickchartButtonEl.disabled = true;  // To prevent multiple clicks.\n",
              "          quickchartButtonEl.classList.add('colab-df-spinner');\n",
              "          try {\n",
              "            const charts = await google.colab.kernel.invokeFunction(\n",
              "                'suggestCharts', [key], {});\n",
              "          } catch (error) {\n",
              "            console.error('Error during call to suggestCharts:', error);\n",
              "          }\n",
              "          quickchartButtonEl.classList.remove('colab-df-spinner');\n",
              "          quickchartButtonEl.classList.add('colab-df-quickchart-complete');\n",
              "        }\n",
              "        (() => {\n",
              "          let quickchartButtonEl =\n",
              "            document.querySelector('#df-46128fc5-f1cb-454c-b134-8ec6c70c2df6 button');\n",
              "          quickchartButtonEl.style.display =\n",
              "            google.colab.kernel.accessAllowed ? 'block' : 'none';\n",
              "        })();\n",
              "      </script>\n",
              "    </div>\n",
              "\n",
              "    </div>\n",
              "  </div>\n"
            ],
            "application/vnd.google.colaboratory.intrinsic+json": {
              "type": "dataframe",
              "variable_name": "df",
              "summary": "{\n  \"name\": \"df\",\n  \"rows\": 30,\n  \"fields\": [\n    {\n      \"column\": \"rank\",\n      \"properties\": {\n        \"dtype\": \"string\",\n        \"num_unique_values\": 30,\n        \"samples\": [\n          \"28\",\n          \"16\",\n          \"24\"\n        ],\n        \"semantic_type\": \"\",\n        \"description\": \"\"\n      }\n    },\n    {\n      \"column\": \"title\",\n      \"properties\": {\n        \"dtype\": \"string\",\n        \"num_unique_values\": 30,\n        \"samples\": [\n          \"A general Fortran code for solutions of problems in space mechanics [pdf]\",\n          \"Show HN: We started building an AI dev tool but it turned into a Sims-style game\",\n          \"The rising returns to R&D: Ideas are not getting harder to find\"\n        ],\n        \"semantic_type\": \"\",\n        \"description\": \"\"\n      }\n    },\n    {\n      \"column\": \"url\",\n      \"properties\": {\n        \"dtype\": \"string\",\n        \"num_unique_values\": 30,\n        \"samples\": [\n          \"https://jonathanadams.pro/blog-articles/Nasa-Fortran-Code-1963.pdf\",\n          \"https://www.youtube.com/watch?v=sRPnX_f2V_c\",\n          \"https://papers.ssrn.com/sol3/papers.cfm?abstract_id=5242171\"\n        ],\n        \"semantic_type\": \"\",\n        \"description\": \"\"\n      }\n    },\n    {\n      \"column\": \"points\",\n      \"properties\": {\n        \"dtype\": \"number\",\n        \"std\": 195.03173292387737,\n        \"min\": 15.0,\n        \"max\": 897.0,\n        \"num_unique_values\": 29,\n        \"samples\": [\n          89.0,\n          136.0,\n          349.0\n        ],\n        \"semantic_type\": \"\",\n        \"description\": \"\"\n      }\n    },\n    {\n      \"column\": \"author\",\n      \"properties\": {\n        \"dtype\": \"string\",\n        \"num_unique_values\": 28,\n        \"samples\": [\n          \"graic\",\n          \"keepamovin\",\n          \"adrianhacar\"\n        ],\n        \"semantic_type\": \"\",\n        \"description\": \"\"\n      }\n    },\n    {\n      \"column\": \"age\",\n      \"properties\": {\n        \"dtype\": \"string\",\n        \"num_unique_values\": 17,\n        \"samples\": [\n          \"3 hours ago\",\n          \"6 hours ago\",\n          \"14 hours ago\"\n        ],\n        \"semantic_type\": \"\",\n        \"description\": \"\"\n      }\n    },\n    {\n      \"column\": \"comments\",\n      \"properties\": {\n        \"dtype\": \"string\",\n        \"num_unique_values\": 25,\n        \"samples\": [\n          \"213\\u00a0comments\",\n          \"89\\u00a0comments\",\n          \"11\\u00a0comments\"\n        ],\n        \"semantic_type\": \"\",\n        \"description\": \"\"\n      }\n    }\n  ]\n}"
            }
          },
          "metadata": {},
          "execution_count": 90
        }
      ]
    },
    {
      "cell_type": "code",
      "source": [],
      "metadata": {
        "id": "T-qtlLXoaLLM"
      },
      "execution_count": null,
      "outputs": []
    },
    {
      "cell_type": "markdown",
      "source": [
        "## 실습"
      ],
      "metadata": {
        "id": "eQo9twg_OrTx"
      }
    },
    {
      "cell_type": "code",
      "source": [
        "import requests\n",
        "\n",
        "res = requests.get(\"https://www.data.go.kr/tcs/dss/selectDataSetList.do?dataSeCd=NEWEST_DATA\")\n",
        "res.status_code"
      ],
      "metadata": {
        "colab": {
          "base_uri": "https://localhost:8080/"
        },
        "id": "6HUen2gRYE9Q",
        "outputId": "48a44a12-80ca-44c2-f65b-928f25e6b639"
      },
      "execution_count": null,
      "outputs": [
        {
          "output_type": "execute_result",
          "data": {
            "text/plain": [
              "200"
            ]
          },
          "metadata": {},
          "execution_count": 95
        }
      ]
    },
    {
      "cell_type": "code",
      "source": [
        "soup = BeautifulSoup(res.text, 'html.parser')\n",
        "titles = soup.find_all(\"span\", class_=\"recent-title\")\n",
        "\n",
        "results = []\n",
        "for t in titles:\n",
        "    # 하위 태그(예: recent-ty) 제외하고 텍스트만 추출\n",
        "    text_only = t.find(text=True, recursive=False).strip()\n",
        "    results.append(text_only)\n",
        "print(results)"
      ],
      "metadata": {
        "colab": {
          "base_uri": "https://localhost:8080/"
        },
        "id": "zSWJRX5sbeDq",
        "outputId": "fcc9c0cc-4468-492c-f2f3-42e39835dd00"
      },
      "execution_count": null,
      "outputs": [
        {
          "output_type": "stream",
          "name": "stdout",
          "text": [
            "['광주광역시 남구_도서관 동아리 현황', '광주광역시 남구_도서관 오디오북 목록', '광주광역시 남구_도서관 신착도서 현황', '광주광역시 남구_도서관 행사', '광주광역시 남구_도서관 프로그램', '한국연구재단_CRE(연구윤리정보포털)', '한국연구재단_KCI 전거데이터 조회 서비스', '서울특별시 용산구_외국인 생활편의시설/업체 조회 서비스', '경기도 안양시_보훈단체_현황', '경기도 안양시_관공서_현황', '전국박물관미술관정보표준데이터', '전국관광지정보표준데이터', '전국길관광정보표준데이터', '전국폐수배출사업장표준데이터']\n"
          ]
        },
        {
          "output_type": "stream",
          "name": "stderr",
          "text": [
            "/tmp/ipython-input-3941191686.py:6: DeprecationWarning: The 'text' argument to find()-type methods is deprecated. Use 'string' instead.\n",
            "  text_only = t.find(text=True, recursive=False).strip()\n"
          ]
        }
      ]
    },
    {
      "cell_type": "code",
      "source": [
        "import requests\n",
        "from bs4 import BeautifulSoup\n",
        "\n",
        "print('결과: ', res.status_code)  # 200은 정상적인 접속\n",
        "\n",
        "if res.status_code == 200:\n",
        "    soup = BeautifulSoup(res.text, 'html.parser')\n",
        "    print(\"페이지 제목:\", soup.title.string)\n",
        "\n",
        "    # 주요 헤드라인 링크와 텍스트 추출 예시\n",
        "    headlines = soup.find_all('a')\n",
        "    for i, h in enumerate(headlines, 1):\n",
        "        print(f\"{i}. {h.get_text(strip=True)} -> {h.get('href')}\")"
      ],
      "metadata": {
        "colab": {
          "base_uri": "https://localhost:8080/"
        },
        "id": "uy8TS8iHZoAt",
        "outputId": "8c8596bf-afa3-43c0-b210-6bf9cde33159"
      },
      "execution_count": null,
      "outputs": [
        {
          "output_type": "stream",
          "name": "stdout",
          "text": [
            "결과:  200\n",
            "페이지 제목: 공공데이터포털\n",
            "1. 콘텐츠 바로가기 -> #contents\n",
            "2. 공공데이터포털 -> /index.do\n",
            "3. 공공데이터포털 -> /index.do\n",
            "4. 로그인 -> javascript:window.location.href='/uim/login/loginView.do';\n",
            "5. 회원가입 -> javascript:window.location.href='/uim/login/signupView.do';\n",
            "6. 사이트맵 -> javascript:window.location.href='/cmm/cmm/siteMap.do';\n",
            "7. ENGLISH -> /en/index.do\n",
            "8. 데이터찾기 -> #\n",
            "9. 데이터목록 -> #\n",
            "10. 국가중점데이터 -> #\n",
            "11. 이슈 및 추천데이터 -> #\n",
            "12. 국가데이터맵 -> #\n",
            "13. 데이터요청 -> #\n",
            "14. 공공데이터 제공신청 -> #\n",
            "15. 분쟁조정 신청 -> #\n",
            "16. 기업 공공데이터문제해결 지원센터 -> #\n",
            "17. 데이터활용 -> #\n",
            "18. 공공데이터 시각화 -> #\n",
            "19. 국민참여지도 -> #\n",
            "20. 위치정보 시각화 -> #\n",
            "21. 공공데이터 활용사례 -> #\n",
            "22. 공공데이터 우수사례 -> #\n",
            "23. 정보공유 -> #\n",
            "24. 개발자 네트워크 -> #\n",
            "25. 데이터 공유하기 -> #\n",
            "26. 공지사항 -> #\n",
            "27. 자료실 -> #\n",
            "28. 문의하기 -> #\n",
            "29. 포털뉴스 -> #\n",
            "30. 이용안내 -> #\n",
            "31. 공공데이터 이용가이드 -> #\n",
            "32. 공공데이터포털 소개 -> #\n",
            "33. 공공데이터 정책 -> #\n",
            "34. 공공데이터 품질관리 -> #\n",
            "35. 데이터찾기 -> #\n",
            "36. 데이터목록 -> #\n",
            "37. 국가중점데이터 -> #\n",
            "38. 이슈 및 추천데이터 -> #\n",
            "39. 데이터요청 -> #\n",
            "40. 공공데이터 제공신청 -> #\n",
            "41. 분쟁조정 신청 -> #\n",
            "42. 기업 공공데이터 문제해결 지원센터 -> #\n",
            "43. 데이터활용 -> #\n",
            "44. 공공데이터 시각화 -> #\n",
            "45. 국민참여지도 -> #\n",
            "46. 위치정보 시각화 -> #\n",
            "47. 공공데이터 활용사례 -> #\n",
            "48. 공공데이터 우수사례 -> #\n",
            "49. 정보공유 -> #\n",
            "50. 개발자 네트워크 -> #\n",
            "51. 데이터 공유하기 -> #\n",
            "52. 공지사항 -> #\n",
            "53. 자료실 -> #\n",
            "54. 문의하기 -> #\n",
            "55. 포털뉴스 -> #\n",
            "56. 이용안내 -> #\n",
            "57. 공공데이터 이용가이드 -> #\n",
            "58. 공공데이터포털 소개 -> #\n",
            "59. 공공데이터 정책 -> #\n",
            "60. 공공데이터 품질관리 -> #\n",
            "61. 홈 -> /index.do\n",
            "62.  -> \n",
            "63. 국가중점데이터 -> \n",
            "64. 이슈데이터 -> \n",
            "65. 기상청 -> /tcs/dss/selectDataSetList.do?keyword=기상청\n",
            "66. 방위사업청 -> /tcs/dss/selectDataSetList.do?keyword=방위사업청\n",
            "67. 관세청_면세점 매출액 및 이용객수 -> /tcs/dss/selectDataSetList.do?keyword=관세청_면세점 매출액 및 이용객수\n",
            "68. 구분 -> /tcs/dss/selectDataSetList.do?keyword=구분\n",
            "69. 우려내 -> /tcs/dss/selectDataSetList.do?keyword=우려내\n",
            "70. 제공기관별 검색 -> #\n",
            "71. 상세검색 -> #layer_search_more\n",
            "72. 레이어로 포커스 이동 됨 -> #focus\n",
            "73. 취소 -> \n",
            "74. 국가중점데이터 분류 조건 추가하기 -> #layer_condition_add\n",
            "75. 레이어로 포커스 이동 됨 -> #focus\n",
            "76. 닫기 -> \n",
            "77. 전체(103,773건) -> #tab_layer01\n",
            "78. 파일데이터(76,060건) -> #tab_layer02\n",
            "79. 오픈 API(11,512건) -> #tab_layer03\n",
            "80. 표준데이터셋250개(11,968건) -> #tab_layer04\n",
            "81. 연계데이터(4,233건) -> #tab_layer05\n",
            "82. 광주광역시 남구_도서관 동아리 현황미리보기 -> #layer_filedata_preview\n",
            "83. CSVJSON + XML광주광역시 남구_도서관 동아리 현황Update -> /data/15142658/fileData.do\n",
            "84. 광주광역시 남구_도서관 동아리 현황다운로드 -> javascript:void(0)\n",
            "85. 광주광역시 남구_도서관 오디오북 목록미리보기 -> #layer_filedata_preview\n",
            "86. CSVJSON + XML광주광역시 남구_도서관 오디오북 목록Update -> /data/15142604/fileData.do\n",
            "87. 광주광역시 남구_도서관 오디오북 목록다운로드 -> javascript:void(0)\n",
            "88. 광주광역시 남구_도서관 신착도서 현황미리보기 -> #layer_filedata_preview\n",
            "89. CSVJSON + XML광주광역시 남구_도서관 신착도서 현황Update -> /data/3033669/fileData.do\n",
            "90. 광주광역시 남구_도서관 신착도서 현황다운로드 -> javascript:void(0)\n",
            "91. 광주광역시 남구_도서관 행사미리보기 -> #layer_filedata_preview\n",
            "92. CSVJSON + XML광주광역시 남구_도서관 행사Update -> /data/15139804/fileData.do\n",
            "93. 광주광역시 남구_도서관 행사다운로드 -> javascript:void(0)\n",
            "94. 광주광역시 남구_도서관 프로그램미리보기 -> #layer_filedata_preview\n",
            "95. CSVJSON + XML광주광역시 남구_도서관 프로그램Update -> /data/15140462/fileData.do\n",
            "96. 광주광역시 남구_도서관 프로그램다운로드 -> javascript:void(0)\n",
            "97. 한국연구재단_CRE(연구윤리정보포털)미리보기 -> #layer_openapi_preview\n",
            "98. XML한국연구재단_CRE(연구윤리정보포털)Update -> /data/15086118/openapi.do\n",
            "99. 한국연구재단_CRE(연구윤리정보포털)활용신청 -> javascript:void(0)\n",
            "100. 한국연구재단_KCI 전거데이터 조회 서비스미리보기 -> #layer_openapi_preview\n",
            "101. XML한국연구재단_KCI 전거데이터 조회 서비스Update -> /data/15084863/openapi.do\n",
            "102. 한국연구재단_KCI 전거데이터 조회 서비스활용신청 -> javascript:void(0)\n",
            "103. 서울특별시 용산구_외국인 생활편의시설/업체 조회 서비스미리보기 -> #layer_openapi_preview\n",
            "104. XMLJSON서울특별시 용산구_외국인 생활편의시설/업체 조회 서비스Update -> /data/15097096/openapi.do\n",
            "105. 서울특별시 용산구_외국인 생활편의시설/업체 조회 서비스활용신청 -> javascript:void(0)\n",
            "106. 경기도 안양시_보훈단체_현황미리보기 -> #layer_openapi_preview\n",
            "107. JSON경기도 안양시_보훈단체_현황Update -> /data/15126508/openapi.do\n",
            "108. 경기도 안양시_보훈단체_현황바로가기 -> javascript:void(0)\n",
            "109. 경기도 안양시_관공서_현황미리보기 -> #layer_openapi_preview\n",
            "110. JSON경기도 안양시_관공서_현황Update -> /data/15126511/openapi.do\n",
            "111. 경기도 안양시_관공서_현황바로가기 -> javascript:void(0)\n",
            "112. 전국박물관미술관정보표준데이터Update -> /data/15017323/standard.do\n",
            "113. 전국관광지정보표준데이터Update -> /data/15021141/standard.do\n",
            "114. 전국길관광정보표준데이터Update -> /data/15017321/standard.do\n",
            "115. 전국폐수배출사업장표준데이터Update -> /data/15139223/standard.do\n",
            "116. 전국현수막게시대시설표준데이터 -> /data/15129434/standard.do\n",
            "117. CSV고속도로 하이패스 이용 구간별 교통 데이터(DSRC 기준) -> /data/1705676/linkedData.do\n",
            "118. 고속도로 하이패스 이용 구간별 교통 데이터(DSRC 기준)바로가기 -> https://www.bigdata-transportation.kr/frn/prdt/detail?prdtId=PRDTNUM_000000000001\n",
            "119. CSV고속도로 차량감지장치(VDS) 오류 및 장애 데이터 -> /data/1705866/linkedData.do\n",
            "120. 고속도로 차량감지장치(VDS) 오류 및 장애 데이터바로가기 -> https://www.bigdata-transportation.kr/frn/prdt/detail?prdtId=PRDTNUM_000000000002\n",
            "121. CSV진주시  차량 감응신호 데이터 -> /data/11545925/linkedData.do\n",
            "122. 진주시  차량 감응신호 데이터바로가기 -> https://www.bigdata-transportation.kr/frn/prdt/detail?prdtId=PRDTNUM_000000020136\n",
            "123. CSV고속도로 차종분류(AVC)기반 고속도로 지정차로제 위반 데이터(15분 단위) -> /data/1705666/linkedData.do\n",
            "124. 고속도로 차종분류(AVC)기반 고속도로 지정차로제 위반 데이터(15분 단위)바로가기 -> https://www.bigdata-transportation.kr/frn/prdt/detail?prdtId=PRDTNUM_000000000043\n",
            "125. CSV진주시 SOC 대기오염물질 데이터 -> /data/1705699/linkedData.do\n",
            "126. 진주시 SOC 대기오염물질 데이터바로가기 -> https://www.bigdata-transportation.kr/frn/prdt/detail?prdtId=PRDTNUM_000000000215\n",
            "127. 민원서비스게시판 -> javascript:fn_callForm('dataList')\n",
            "128. 민원서비스 게시판 -> javascript:fn_callForm('dataList')\n",
            "129. 상단가기 -> #top\n",
            "130. 1566-0025 -> tel:1566-0025\n",
            "131. 운영자 메일상담 -> mailto:opendata_help@nia.or.kr\n",
            "132. 페이스북 공유 -> http://www.facebook.com/koreadataportal\n",
            "133. 트위터 공유 -> https://twitter.com/koreadataportal\n",
            "134. 블로그 공유 -> http://blog.naver.com/nia_korea\n",
            "135. 이용약관 -> /ugs/selectPortalPolicyView.do#use_stplat\n",
            "136. 개인정보처리방침 -> /ugs/selectPortalPolicyView.do#indvdlinfo_process\n",
            "137. 공공데이터포털 소개 -> /ugs/selectPortalInfoView.do#portal_info\n",
            "138. 분쟁조정신청 -> /tcs/dor/insertTrublMdatReqstProcssView.do\n",
            "139.  -> https://www.mois.go.kr/\n",
            "140. 1566-0025 -> tel:1566-0025\n"
          ]
        }
      ]
    }
  ]
}