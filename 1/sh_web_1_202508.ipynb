{
  "nbformat": 4,
  "nbformat_minor": 0,
  "metadata": {
    "colab": {
      "provenance": []
    },
    "kernelspec": {
      "name": "python3",
      "display_name": "Python 3"
    },
    "language_info": {
      "name": "python"
    }
  },
  "cells": [
    {
      "cell_type": "markdown",
      "source": [
        "#1.웹 수집"
      ],
      "metadata": {
        "id": "k5isDh7r_zml"
      }
    },
    {
      "cell_type": "markdown",
      "metadata": {
        "id": "5zRdb1L5qepi"
      },
      "source": [
        "- 크롤링(Crawling), 스크래핑(Scarping)\n",
        "\n",
        "- HTTP(Hyper Text Transfer Protocol): 인터넷에서 데이터를 주고 받을 수 있는 프로토콜\n",
        "\n",
        "- HTML: 웹에 사용되는 표준 Markup언어\n",
        "\n",
        "- 파싱(Parsing) : 어떤 페이지(문서, html)에서 원하는 데이터를 특정 패턴이나 순서로 추출하여 정보 가공\n",
        "\n"
      ]
    },
    {
      "cell_type": "markdown",
      "source": [
        "- 절차\n",
        " - URL 소스 수집(목록, 검색, 사이트맵)\n",
        " - Fetch(요청/렌더링) → Parse(선택자/정제) → Normalize(공백/인코딩)\n",
        " - Dedupe(내용 해시) → 메타데이터 부착(소스, 크롤 시각, 해시)\n",
        " - 저장(CSV/JSONL/Parquet/SQLite) → 품질검사(결측/중복/길이)\n",
        " - 한도 고려/재시도/로깅 → 스케줄러(cron) 운영"
      ],
      "metadata": {
        "id": "fUbecaqduPce"
      }
    },
    {
      "cell_type": "markdown",
      "metadata": {
        "id": "ThzwwkL5r2QG"
      },
      "source": [
        "- HTML 소개\n",
        "\n",
        "<Strong>\n",
        "Hypertext Markup <U>Language </U> (HTML)\n",
        "</Strong>\n",
        "\n",
        "<h1>Test</h1>\n",
        "<h1>This is heading 1</h1>\n",
        "<h2>This is heading 2</h2>\n",
        "<h3>This is heading</h3>\n",
        "<h4>This is heading</h4>\n",
        "<h5>This is heading</h5>\n",
        "<h6>This is heading</h6>\n",
        "\n",
        "# This is heading1"
      ]
    },
    {
      "cell_type": "markdown",
      "source": [
        "1) HTML의 역할\n",
        " - 콘텐츠의 구조를 정의(제목, 문단, 목록, 표, 폼 등)\n",
        " - 의미를 담는 시맨틱 마크업으로 SEO/접근성/유지보수성 향상\n",
        " - CSS(표현), JS(행동)와 구분된 표현-행동-구조 분리\n",
        "\n",
        "2) 기본 문서 골격\n",
        "\n",
        "\n",
        "\n"
      ],
      "metadata": {
        "id": "6UstFHidvCu7"
      }
    },
    {
      "cell_type": "markdown",
      "source": [
        "<!doctype html>: HTML5 선언\n",
        "\n",
        "<html lang=\"ko\"> : 언어 설정(검색·TTS·맞춤법·스크린리더)\n",
        "\n",
        "<head>: 메타데이터, 리소스 링크, SEO 정보\n",
        "\n",
        "<body>: 사용자에게 보이는 실제 콘텐츠\n",
        "\n",
        "<!doctype html>\n",
        "<html lang=\"ko\">\n",
        "<head>\n",
        "  <meta charset=\"utf-8\">\n",
        "  <meta name=\"viewport\" content=\"width=device-width, initial-scale=1\">\n",
        "  <title>문서 제목</title>\n",
        "  <meta name=\"description\" content=\"페이지 한줄 요약\">\n",
        "  <link rel=\"icon\" href=\"/favicon.ico\">\n",
        "  <link rel=\"preconnect\" href=\"https://fonts.googleapis.com\">\n",
        "  <script defer src=\"/app.js\"></script>\n",
        "  <link rel=\"stylesheet\" href=\"/styles.css\">\n",
        "</head>\n",
        "<body>\n",
        "  <main>콘텐츠…</main>\n",
        "</body>\n",
        "</html>"
      ],
      "metadata": {
        "id": "QJsYLw1iwBGG"
      }
    },
    {
      "cell_type": "markdown",
      "metadata": {
        "id": "D0iszA3iugbm"
      },
      "source": [
        "- HTML 태그?: 태그 내부에 값을 넣을 수 있을 뿐만 아니라, 태그마다 속성을 부여할 수 있음. 태그의 속성은 <태그 속성=\"값\"> 의 형태로 사용, 태그마다 여러 속성을 부여 할 수도 있음."
      ]
    },
    {
      "cell_type": "markdown",
      "source": [
        "3) 시맨틱 레이아웃 요소\n",
        " - 페이지 뼈대: <header> <nav> <main> <section> <article> <aside> <footer>\n",
        " - 텍스트 그룹: <h1~h6> <p> <blockquote> <pre> <code> <figure> <figcaption>\n",
        " - 의미에 맞는 태그 사용 → 스크린리더·검색봇이 구조를 이해\n",
        "\n",
        "4) 링크 & 내비게이션\n",
        " - <a href=\"…\"> : 내·외부 링크, download, target=\"_blank\", rel=\"noopener noreferrer\"\n",
        " - 스킵 링크: <a href=\"#main\">본문으로 건너뛰기</a>\n",
        " - 내비: <nav>에 사이트/섹션 메뉴 배치\n",
        "\n",
        "5) 이미지·미디어\n",
        " - <img src=\"…\" alt=\"대체텍스트\"> (접근성·SEO 핵심)\n",
        " - 반응형 이미지: srcset/sizes, <picture>\n",
        " - 비디오/오디오: <video controls> <audio controls> + <track kind=\"captions\">\n",
        " - 성능: loading=\"lazy\"(img/iframe 지연 로딩)\n",
        "\n",
        "6) 리스트·표\n",
        " - 리스트: <ul> <ol> <dl>\n",
        " - 표: <table> <thead> <tbody> <tfoot> <th> <td> + scope/headers로 의미 부여\n",
        " - 표는 데이터 표현에만, 레이아웃 용도로 사용 금지\n",
        "\n",
        "7) 폼(Form)\n",
        " - <form method=\"get|post\" action=\"…\"> + 입력요소\n",
        " - 입력유형: type=\"text email url tel number date time range file checkbox radio password search\"\n",
        " - 레이블: <label for=\"id\"> (접근성)\n",
        " - 검증 속성: required minlength maxlength pattern min max step\n",
        " - 자동완성: autocomplete=\"email|name|one-time-code|off\"\n",
        " - 모바일 키패드: inputmode=\"numeric\", enterkeyhint=\"search\"\n",
        " - 그룹: <fieldset><legend> / 선택: <select><option> / 텍스트박스: <textarea>\n",
        "\n",
        "8) 글로벌 속성(대부분 요소 공통)\n",
        " - id class title style hidden tabindex contenteditable draggable\n",
        " - lang dir(텍스트 방향) data-*(사용자 정의 데이터)\n",
        " - 접근성: role 및 aria-*(필요할 때만, 시맨틱 태그 우선)"
      ],
      "metadata": {
        "id": "IDnIRC9lwAG8"
      }
    },
    {
      "cell_type": "markdown",
      "metadata": {
        "id": "yx6-AebIZXH3"
      },
      "source": [
        "- Xpath: XML 문서의 특정 요소나 속성에 접근하기 위한 경로를 지정하는 언어.\n",
        "\n",
        " - /html/body/div/span/a..."
      ]
    },
    {
      "cell_type": "markdown",
      "source": [
        "1) 개념\n",
        "- XML/HTML 트리에서 노드를 찾는 경로 언어\n",
        "- 셀레니움/플레이라이트/크롤러에서 안정적인 요소 지정자로 사용\n",
        "- 인덱스는 1부터 시작(주의)\n",
        "\n",
        "2) 기본 표기\n",
        "- 절대 경로: /html/body/div\n",
        "- 상대 경로: //div(문서 어디든), .//a(현재 노드 기준)\n",
        "- 현재/부모: . / ..\n",
        "- 속성: @href, [@id='x']\n",
        "- 와일드카드: *(모든 태그)\n",
        "- 조건(프레디케이트): []\n",
        "- 합집합: | (예: //h1 | //h2)\n",
        "- 텍스트 노드: text() 또는 normalize-space(.)\n",
        "\n",
        "3) 축(Axes) 핵심\n",
        "- child::(생략 가능), descendant::(= //), parent::, ancestor::\n",
        "- following-sibling::, preceding-sibling::\n",
        "- self::node()(자기 자신), attribute::(= @)\n",
        "- 예) 라벨 옆 입력창:\n",
        "- //label[normalize-space()='이메일']/following-sibling::input\n",
        "\n",
        "4) 자주 쓰는 함수/패턴 (XPath 1.0 기준)\n",
        "- 포함: contains( @class, 'btn' )\n",
        "- 시작: starts-with( @id, 'user_' )\n",
        "- 공백 정리: normalize-space(.)\n",
        "- 대소문자 무시: contains( translate(., 'ABCDEFGHIJKLMNOPQRSTUVWXYZ', 'abcdefghijklmnopqrstuvwxyz'), 'login')\n",
        "- 위치/개수: position(), last()\n",
        "- 부정: not(@disabled)\n",
        "- n번째 요소: (//li[@role='option'])[3]\n",
        "- 마지막 행: (//table//tr)[last()]\n",
        "- 형제 중 n번째: //ul/li[position()=2]\n",
        "\n",
        "- XPath 2.0+의 ends-with, matches, lower-case 등은 브라우저/셀레니움 기본은 미지원 → 1.0 함수로 우회(예: translate)."
      ],
      "metadata": {
        "id": "TUDxex2Cwa-y"
      }
    },
    {
      "cell_type": "markdown",
      "metadata": {
        "id": "-sp7pnHZKjeA"
      },
      "source": [
        "## 1.1. requests - 웹페이지 읽기 / urllib, urllib2 을 사용하거나 requests 를 사용\n",
        "- HTTP GET, POST, PUT, DELETE 등을 사용할 수 있음\n",
        "- 데이타 인코딩 기능을 제공: 데이타를 Dictionary로 만들어 GET, POST 등에서 사용\n"
      ]
    },
    {
      "cell_type": "code",
      "metadata": {
        "colab": {
          "base_uri": "https://localhost:8080/"
        },
        "id": "wcdtswhqKqYE",
        "outputId": "2f9a9dff-5a52-4e72-888a-d66b9fa01b0d"
      },
      "source": [
        "#!pip install requests"
      ],
      "execution_count": null,
      "outputs": [
        {
          "output_type": "stream",
          "name": "stdout",
          "text": [
            "Requirement already satisfied: requests in /usr/local/lib/python3.10/dist-packages (2.27.1)\n",
            "Requirement already satisfied: urllib3<1.27,>=1.21.1 in /usr/local/lib/python3.10/dist-packages (from requests) (1.26.16)\n",
            "Requirement already satisfied: certifi>=2017.4.17 in /usr/local/lib/python3.10/dist-packages (from requests) (2023.5.7)\n",
            "Requirement already satisfied: charset-normalizer~=2.0.0 in /usr/local/lib/python3.10/dist-packages (from requests) (2.0.12)\n",
            "Requirement already satisfied: idna<4,>=2.5 in /usr/local/lib/python3.10/dist-packages (from requests) (3.4)\n"
          ]
        }
      ]
    },
    {
      "cell_type": "code",
      "metadata": {
        "colab": {
          "base_uri": "https://localhost:8080/"
        },
        "id": "5G5z22VgKs5K",
        "outputId": "0fa9b66f-42e3-432e-e06b-4341e46104c7"
      },
      "source": [
        "import requests\n",
        "res = requests.get('http://www.naver.com')\n",
        "print('결과: ', res.status_code) #200은 정상적인 접속"
      ],
      "execution_count": null,
      "outputs": [
        {
          "output_type": "stream",
          "name": "stdout",
          "text": [
            "결과:  200\n"
          ]
        }
      ]
    },
    {
      "cell_type": "code",
      "metadata": {
        "colab": {
          "base_uri": "https://localhost:8080/"
        },
        "id": "hZ8yXegsLGu0",
        "outputId": "6a4afa56-168f-41ea-8dd8-9afaec599d19"
      },
      "source": [
        "import requests\n",
        "res = requests.get('https://www.naver.com/abcdefg')\n",
        "print('결과 : ', res.status_code) #400수준 코드는 접속 불가"
      ],
      "execution_count": null,
      "outputs": [
        {
          "output_type": "stream",
          "name": "stdout",
          "text": [
            "결과 :  404\n"
          ]
        }
      ]
    },
    {
      "cell_type": "code",
      "metadata": {
        "colab": {
          "base_uri": "https://localhost:8080/"
        },
        "id": "x47aQ_09MMd4",
        "outputId": "0e23fa49-8274-4f05-cc30-38f47c59d0b2"
      },
      "source": [
        "import requests\n",
        "res = requests.get('http://naver.com')\n",
        "print('결과: ', res.status_code)\n",
        "\n",
        "if res.status_code == requests.codes.ok:\n",
        "  print('ok')\n",
        "else :\n",
        "  print(\"error code:\",res.status_code)"
      ],
      "execution_count": null,
      "outputs": [
        {
          "output_type": "stream",
          "name": "stdout",
          "text": [
            "결과:  200\n",
            "ok\n"
          ]
        }
      ]
    },
    {
      "cell_type": "code",
      "metadata": {
        "colab": {
          "base_uri": "https://localhost:8080/"
        },
        "id": "zemz2-d7Mw3Y",
        "outputId": "ada51ad6-7a2b-43e8-9732-971c7145acf8"
      },
      "source": [
        "import requests\n",
        "res = requests.get('http://naver.com')\n",
        "print('결과 : ', res.status_code)\n",
        "\n",
        "res.raise_for_status() #res가 정상이 아닌 경우 오류\n",
        "print('crawling start')"
      ],
      "execution_count": null,
      "outputs": [
        {
          "output_type": "stream",
          "name": "stdout",
          "text": [
            "결과 :  200\n",
            "crawling start\n"
          ]
        }
      ]
    },
    {
      "cell_type": "code",
      "metadata": {
        "id": "f-x2086NNJJn",
        "colab": {
          "base_uri": "https://localhost:8080/",
          "height": 128
        },
        "outputId": "34f6f330-3bcf-4ed5-cd78-13208502f628"
      },
      "source": [
        "import requests\n",
        "res = requests.get('http://naver.com')\n",
        "res.raise_for_status()\n",
        "\n",
        "res.text"
      ],
      "execution_count": null,
      "outputs": [
        {
          "output_type": "execute_result",
          "data": {
            "text/plain": [
              "'   <!doctype html> <html lang=\"ko\" class=\"fzoom\"> <head> <meta charset=\"utf-8\"> <meta name=\"Referrer\" content=\"origin\"> <meta http-equiv=\"X-UA-Compatible\" content=\"IE=edge\"> <meta name=\"viewport\" content=\"width=1190\"> <title>NAVER</title> <meta name=\"apple-mobile-web-app-title\" content=\"NAVER\"/> <meta name=\"robots\" content=\"index,nofollow\"/> <meta name=\"description\" content=\"네이버 메인에서 다양한 정보와 유용한 컨텐츠를 만나 보세요\"/> <meta property=\"og:title\" content=\"네이버\"> <meta property=\"og:url\" content=\"https://www.naver.com/\"> <meta property=\"og:image\" content=\"https://s.pstatic.net/static/www/mobile/edit/2016/0705/mobile_212852414260.png\"> <meta property=\"og:description\" content=\"네이버 메인에서 다양한 정보와 유용한 컨텐츠를 만나 보세요\"/> <meta name=\"twitter:card\" content=\"summary\"> <meta name=\"twitter:title\" content=\"\"> <meta name=\"twitter:url\" content=\"https://www.naver.com/\"> <meta name=\"twitter:image\" content=\"https://s.pstatic.net/static/www/mobile/edit/2016/0705/mobile_212852414260.png\"> <meta name=\"twitter:description\" content=\"네이버 메인에서 다양한 정보와 유용한 컨텐츠를 만나 보세요\"/> <meta name=\"google-site-verification\" content=\"uru5NJKa1Bfr5nv5AdQ26Qat7UrPU_02l-PIZRLzI-g\"/> <link rel=\"shortcut icon\" type=\"image/x-icon\" href=\"/favicon.ico?1\"> <link rel=\"apple-touch-icon-precomposed\" href=\"https://s.pstatic.net/static/www/nFavicon96.png\"/> <link rel=\"apple-touch-icon\" sizes=\"114x114\" href=\"https://s.pstatic.net/static/www/u/2014/0328/mma_204243574.png\"/> <link rel=\"apple-touch-icon\" href=\"https://s.pstatic.net/static/www/u/2014/0328/mma_20432863.png\"/> <link rel=\"stylesheet\" href=\"https://ssl.pstatic.net/sstatic/search/pc/css/sp_autocomplete_241121.css\"> <link rel=\"canonical\" href=\"https://www.naver.com/\"> <link rel=\"alternate\" media=\"only screen and (max-width: 767px)\" href=\"https://m.naver.com/\"> <script>window.gladsdk=window.gladsdk||{},window.gladsdk.cmd=window.gladsdk.cmd||[],window.ndpsdk=window.ndpsdk||{},window.ndpsdk.cmd=window.ndpsdk.cmd||[],window.ndpsdk.polyfill=window.ndpsdk.polyfill||{cmd:[]};var g_ssc=\"navertop.v5\";window.nsc=g_ssc,window.nmain=window.nmain||{},window.nmain.jsOrigin=\"www\"</script> <script>window.ntm=window.ntm||[]</script> <script async src=\"https://ssl.pstatic.net/tveta/libs/ndpsdk/prod/ndp-loader.js\"></script> <script async src=\"https://ssl.pstatic.net/tveta/libs/glad/prod/gfp-core.js\"></script> <script src=\"https://ssl.pstatic.net/tveta/libs/assets/js/pc/main/min/pc.veta.core.min.js\" defer=\"defer\"></script>  <script>\\nwindow[\"EAGER-DATA\"] = window[\"EAGER-DATA\"] || {};\\nwindow[\"EAGER-DATA\"][\"PC-FEED-WRAPPER\"] = {\"@type\":\"BLOCK\",\"blocks\":[{\"@type\":\"BLOCK\",\"blocks\":[{\"@type\":\"BLOCK\",\"blocks\":null,\"materials\":null,\"excludeInPaging\":false,\"positionForPaging\":0,\"realtime\":false,\"_id\":null,\"@type\":\"BLOCK\",\"@code\":\"PC-FEED-LIVINGHOME-CAS-EDIT\",\"@template\":\"PC-FEED-CAS-EDIT\",\"@flowId\":null,\"@flowExecutionId\":null,\"@provider\":null,\"@lastModifiedAt\":null},{\"@type\":\"BLOCK\",\"blocks\":null,\"materials\":[{\"@type\":\"MATERIAL-PC-FEED\",\"title\":\"액자레일 와이어 액자걸이 설치로 못없이 액자걸기, 셀프인테리어 초간단\",\"url\":\"https://in.naver.com/pinkbijou/contents/internal/848897517327424\",\"image\":{\"url\":\"https://s.pstatic.net/dthumb.phinf/?src=%22http%3A%2F%2Fblogfiles.naver.net%2FMjAyNTA3MjdfMTEx%2FMDAxNzUzNTUwMjM5NDEx.GvjybrvWyJ8VH0vi94bgonw1TkKoFzCC-C7LGEQgrMkg.OYyjIo53_QGyfyk5_sFKNnYbtXoMO8VjZ-Aly4pRR2Mg.JPEG%2F20240602_194301.jpg%22&type=ff364_236&service=navermain\"},\"source\":{\"name\":\"핑크비쥬\",\"image\":{\"url\":\"https://s.pstatic.net/dthumb.phinf/?src=%22http%3A%2F%2Fblogpfthumb.phinf.naver.net%2FMjAyMDAyMTNfMjc3%2FMDAxNTgxNTIxODQ0Nzc5.f4LhrStcyKpXdb5knFnhELTuciO7Y-Bd2B6ZV4CQ1fwg.uKJ6Pf6zk1p9H0OVnBrl5FIHPsAt1246HW5ZBf71h0Yg.JPEG.wyh5757%2FprofileImage.jpg%22&type=nf40_40&service=navermain\"}},\"showLiveBadge\":false,\"_id\":\"6441ca92c499cc07f334c49b\"},{\"@type\":\"MATERIAL-PC-FEED\",\"title\":\"단조롭지 않은 화이트 인테리어 컬러 포인트 신혼집 침실 드레스룸\",\"url\":\"https://in.naver.com/ssuandwood/contents/internal/853613698970688\",\"image\":{\"url\":\"https://s.pstatic.net/dthumb.phinf/?src=%22http%3A%2F%2Fblogfiles.naver.net%2FMjAyNTA4MDZfNTYg%2FMDAxNzU0NDQ0MTU2MzAz.4KoP0vImmjrUVcUcXG4JB1Ocf2Xf6lzh6LHRdTE8ic4g.ji0vKangtb84I6jqiODgKc6hOVzkEBnaAaAq9lWoHJQg.PNG%2F%ED%99%94%EC%9D%B4%ED%8A%B8_%EC%9D%B8%ED%85%8C%EB%A6%AC%EC%96%B4_%EC%8B%A0%ED%98%BC%EC%A7%91_%EC%9D%B8%ED%85%8C%EB%A6%AC%EC%96%B4_%EC%B9%A8%EC%8B%A4_%EB%93%9C%EB%A0%88%EC%8A%A4%EB%A3%B8_%2818%29.png%22&type=ff364_236&service=navermain\"},\"source\":{\"name\":\"쑤\",\"image\":{\"url\":\"https://s.pstatic.net/dthumb.phinf/?src=%22http%3A%2F%2Fblogpfthumb.phinf.naver.net%2FMjAyMTAxMjJfMjQx%2FMDAxNjExMjQ1MjIzOTgx.0VQzQCJVJ9qbQNFrk2JsLW1DcsjgrovA6xIAWwyFZ6cg.-PcNHUnX3akWkJaQAvAcfhR4KdLzEpPp4ztmIeB9S6Ug.PNG.qnvudtnwl%2FprofileImage.png%22&type=nf40_40&service=navermain\"}},\"showLiveBadge\":false,\"_id\":\"6441ca92c499cc07f334c49c\"},{\"@type\":\"MATERIAL-PC-FEED\",\"title\":\"블랙&화이트로 채운 아파트 미니멀 인테리어 케이스\",\"url\":\"https://in.naver.com/greenhouse4u/contents/internal/849317985514624\",\"image\":{\"url\":\"https://s.pstatic.net/dthumb.phinf/?src=%22http%3A%2F%2Fblogfiles.naver.net%2FMjAyNTA3MjVfMjA5%2FMDAxNzUzNDIzODY2NzAw.WjaJ7tbS-FrzTIpt3X5Efq-1VTz2NekSwyunQywerrYg.i3N5-oikSlHLkzp4Msflwui7i1Nu4AD6Knmt7z8SB2Ig.JPEG%2F00.jpg%22&type=ff364_236&service=navermain\"},\"source\":{\"name\":\"전원속의내집\",\"image\":{\"url\":\"https://s.pstatic.net/dthumb.phinf/?src=%22http%3A%2F%2Fblogpfthumb.phinf.naver.net%2FMjAyNTA3MzBfNDcg%2FMDAxNzUzODUzMTU1MDM3.TLx-7oV2AQgAWzmZpYeZjrknfxmwPSrg3LAHskVXKJ4g.4dqMo-CEMnEriy4nOLqQWXOqvWW6EYtY1aqlPY4UtUEg.JPEG%2F%25EC%259B%2594%25EA%25B0%2584_%25EC%25A0%2584%25EC%259B%2590%25EC%2586%258D%25EC%259D%2598_%25EB%2582%25B4%25EC%25A7%25912025%25EB%2585%25848%25EC%259B%2594%25ED%2598%25B8_%25EC%259E%2585%25EC%25B2%25B4%25ED%2591%259C%25EC%25A7%2580.jpg%2F%25EC%259B%2594%25EA%25B0%2584%2B%25EC%25A0%2584%25EC%259B%2590%25EC%2586%258D%25EC%259D%2598%2B%25EB%2582%25B4%25EC%25A7%25912025%25EB%2585%25848%25EC%259B%2594%25ED%2598%25B8_%25EC%259E%2585%25EC%25B2%25B4%25ED%2591%259C%25EC%25A7%2580.jpg%22&type=nf40_40&service=navermain\"}},\"showLiveBadge\":false,\"_id\":\"6441ca92c499cc07f334c49d\"},{\"@type\":\"MATERIAL-PC-FEED\",\"title\":\"온라인 랜선집들이, 우아하고 세련된 아일랜드 주방꾸미기 주방인테리어 주방리모델링! 18평 신혼집 아파트인테리어 아파트리모델링\",\"url\":\"https://in.naver.com/theartistmagazine/contents/internal/856144950633728\",\"image\":{\"url\":\"https://s.pstatic.net/dthumb.phinf/?src=%22http%3A%2F%2Fblogfiles.naver.net%2FMjAyNTA4MTFfMjMg%2FMDAxNzU0OTExNDM5Mzgy.tFdGSZoQT9U-LGokhF7Ic2_hdyY2Llbg06UAbO-erTgg.TkGyddvvDiKMj7iqqe_cyhydJjCRUQ_cdu9m6oOn3Swg.JPEG%2F39.jpg%22&type=ff364_236&service=navermain\"},\"source\":{\"name\":\"디아티스트매거진\",\"image\":{\"url\":\"https://s.pstatic.net/dthumb.phinf/?src=%22http%3A%2F%2Fblogpfthumb.phinf.naver.net%2FMjAyNTAxMjJfMjg5%2FMDAxNzM3NTI5NTUzMTEx.683reOY2wFTyhveLK24cbSut89KM36h7TXi0APnSc5gg.PBCAyPJteDPUwSYyQYVdIcqWfOqw2rmwdbqINJHYGj8g.JPEG%2FprofileImage.jpg%22&type=nf40_40&service=navermain\"}},\"showLiveBadge\":false,\"_id\":\"6441ca92c499cc07f334c49e\"},{\"@type\":\"MATERIAL-PC-FEED\",\"title\":\"미니멀 감성을 자아내는 화이트 컬러의 주방 인테리어, 분당 봇들마을4단지 아파트\",\"url\":\"https://blog.naver.com/junggik/223882122047\",\"image\":{\"url\":\"https://s.pstatic.net/dthumb.phinf/?src=%22http%3A%2F%2Fblogfiles.naver.net%2FMjAyNTA1MjlfMTEw%2FMDAxNzQ4NTA0MDYyMzI3.F3wUTrPCI0jrpBZxAvJUdHsCbx8Fnn6cdsryUK_UDRcg.5okddkGdR5ke1PiC7PkqwxtkLX46dDHwFhnOtLHWstQg.JPEG%2F%E9%81%8A%EB%89%96%EB%B1%BE%EF%A7%8D%EB%8D%89%EC%93%A34%EF%BF%BD%EB%96%92%EF%A7%9E%EF%BF%BD-%E4%BA%8C%EC%87%B0%EC%BB%AE%EF%BF%BD%EB%80%9A%EF%BF%BD%EB%80%8B.jpg%22&type=ff364_236&service=navermain\"},\"source\":{\"name\":\"유디자인\",\"image\":{\"url\":\"https://s.pstatic.net/dthumb.phinf/?src=%22http%3A%2F%2Fblogpfthumb.phinf.naver.net%2FMjAyMzAxMTNfOTkg%2FMDAxNjczNTc2MjA3NDM5.fPF2tm91u8FjdIEKeu8PocVVoahQcbjCcgOtqcw6kYEg.nNFTmngmYWzl9X4oj-oo0ZPPj7rZKpMWfABX_n7k7aQg.JPEG.junggik%2F15450.jpg%2F15450.jpg%22&type=nf40_40&service=navermain\"}},\"showLiveBadge\":false,\"_id\":\"6441ca92c499cc07f334c49f\"},{\"@type\":\"MATERIAL-PC-FEED\",\"title\":\"신혼집 꾸미기 33평 아파트 리모델링 화이트 인테리어\",\"url\":\"https://in.naver.com/nabi/contents/internal/837832626623424\",\"image\":{\"url\":\"https://s.pstatic.net/dthumb.phinf/?src=%22http%3A%2F%2Fblogfiles.naver.net%2FMjAyNTA2MjVfMjI1%2FMDAxNzUwODQwNTE3NTQw.iLRwVQjFvldxofEN6PzAtHSt1qogrCxiiFj-BiTlAcwg.dcavsth2dTYlIeQQcHVlYXRNzz56Ed_w3Ft6Zzs1qLkg.JPEG%2FDSC04966-2.jpg%22&type=ff364_236&service=navermain\"},\"source\":{\"name\":\"살림연구원 나비\",\"image\":{\"url\":\"https://s.pstatic.net/dthumb.phinf/?src=%22http%3A%2F%2Fblogpfthumb.phinf.naver.net%2FMjAyNDA0MTVfMTQ2%2FMDAxNzEzMTE0OTUwMDA1.bZTs9Gh7C4sU6KLdb-vr33aCF68otor_yLyilifYWIog.hIg04ZZINO8hcyidcXrSGbxALJRHRSi1Vf9nG7okAUEg.JPEG%2FSNOW_20240402_092546_941.jpg%2FSNOW_20240402_092546_941.jpg%22&type=nf40_40&service=navermain\"}},\"showLiveBadge\":false,\"_id\":\"6441ca92c499cc07f334c4a0\"},{\"@type\":\"MATERIAL-PC-FEED\",\"title\":\"온라인 랜선집들이 작은방꾸미기 집꾸미기 꿀조합 화이트 데스크테리어 벽선반 인테리어\",\"url\":\"https://in.naver.com/huwons2/contents/internal/840195551073344\",\"image\":{\"url\":\"https://s.pstatic.net/dthumb.phinf/?src=%22http%3A%2F%2Fblogfiles.naver.net%2FMjAyNTA3MDFfMjAy%2FMDAxNzUxMzc0NjExMzEw.5hmcuvYReb_i4E-YKHuKOotcWI5uwqxyJOIQ4Vx8QFIg.McMF-ASboiEjk8vfZnYJxqnLnbmvGWvjf3E3hdUtkX4g.JPEG%2FR0063638.JPG%22&type=ff364_236&service=navermain\"},\"source\":{\"name\":\"밈채랜드\",\"image\":{\"url\":\"https://s.pstatic.net/dthumb.phinf/?src=%22http%3A%2F%2Fblogpfthumb.phinf.naver.net%2FMjAyMzEyMjdfMTQ1%2FMDAxNzAzNjYwMjU5ODYz.T1ciL5rm_-iaufKTgNxAqoPhH0WlEs1MBE0TvjE-y08g.KqUuDerc5lnDVngmNHvdR2MjwrEi0UozwIxXT_-jnBEg.JPEG.kmccall%2FprofileImage.jpg%22&type=nf40_40&service=navermain\"}},\"showLiveBadge\":false,\"_id\":\"6441ca92c499cc07f334c4a1\"},{\"@type\":\"MATERIAL-PC-FEED\",\"title\":\"주방 셀프인테리어 틱택타일 스티커타일 시공 1년 사용 찐후기\",\"url\":\"https://blog.naver.com/kem870706/223882083835\",\"image\":{\"url\":\"https://s.pstatic.net/dthumb.phinf/?src=%22http%3A%2F%2Fblogfiles.naver.net%2FMjAyNTA1MjlfMjYw%2FMDAxNzQ4NTAzMzM3MzMz.EJM8-MS8JtOeEt_75S_2NhZFEiNtz_7Rl5g2vuS8BSkg.wBoEPayz-eFgxyBwMHTaepoOkCHoZVlIfcBotJ0KhXgg.JPEG%2FIMG%EF%BC%BF8338.JPG%22&type=ff364_236&service=navermain\"},\"source\":{\"name\":\"음미\",\"image\":{\"url\":\"https://s.pstatic.net/dthumb.phinf/?src=%22http%3A%2F%2Fblogpfthumb.phinf.naver.net%2FMjAyMzEyMTRfMTU4%2FMDAxNzAyNTM4OTg0NDM1.dCmWfU3c9FkQwKbtb1CqDj33ff3L6BScRuVLXiY1Acog.gOImK-A43YaFqTtS5QsTjPFhlU3JHoboFDO9AcNGweMg.PNG.kem870706%2FprofileImage.png%22&type=nf40_40&service=navermain\"}},\"showLiveBadge\":false,\"_id\":\"6441ca92c499cc07f334c4a2\"},{\"@type\":\"MATERIAL-PC-FEED\",\"title\":\"일룸 레마 원목 홈카페 그릇장식장 예쁜 신혼집 주방 거실 인테리어 가구 추천\",\"url\":\"https://in.naver.com/tnalalstn/contents/internal/849778322515072\",\"image\":{\"url\":\"https://s.pstatic.net/dthumb.phinf/?src=%22http%3A%2F%2Fblogfiles.naver.net%2FMjAyNTA3MjlfMjg4%2FMDAxNzUzNzYyODQ1Njgz.KA5YbFD-9CcPwmTon81IJuhv4lPnCjSgT2bgqm29E8kg.57Ktl-ylKg1g1ZSp3O5J_kGUnnPUMNTvdQCeS6lemsEg.JPEG%2Fd.jpg%22&type=ff364_236&service=navermain\"},\"source\":{\"name\":\"수미조아\",\"image\":{\"url\":\"https://s.pstatic.net/dthumb.phinf/?src=%22http%3A%2F%2Fblogpfthumb.phinf.naver.net%2F20180904_283%2Ftnalalstn_1535992410317lVAgx_JPEG%2Fimage.jpg%22&type=nf40_40&service=navermain\"}},\"showLiveBadge\":false,\"_id\":\"6441ca92c499cc07f334c4a3\"},{\"@type\":\"MATERIAL-PC-FEED\",\"title\":\"오래된 싱크대 고민 끝! 인테리어필름 시공 주방 셀프인테리어\",\"url\":\"https://in.naver.com/sarah/contents/internal/844264672928640\",\"image\":{\"url\":\"https://s.pstatic.net/dthumb.phinf/?src=%22http%3A%2F%2Fblogfiles.naver.net%2FMjAyNTA3MTNfMjQ2%2FMDAxNzUyNDAxMDY4NDU0.-jsyKoPhExtpbmrgAc2Ohfu-FESaSKjc7JOjfvRE0okg.7CIopyVLvWRZa3TLrF9xjbtG6B-k-0caD-SKOGSu3zUg.JPEG%2FIMG_1026.JPG%22&type=ff364_236&service=navermain\"},\"source\":{\"name\":\"엘리사맘\",\"image\":{\"url\":\"https://s.pstatic.net/dthumb.phinf/?src=%22http%3A%2F%2Fblogpfthumb.phinf.naver.net%2FMjAyMDExMjJfMjAx%2FMDAxNjA2MDQyMDM2NzU2.Lw11FdV7aLUpARH2U_6vRoXwBa91jo-14_6gNVQaJUkg.Yja4b8pwp7Uo6kbeDH_5ObVy5JFM5VNPZd3DoAX5aEMg.JPEG.sarah6612%2FprofileImage.jpg%22&type=nf40_40&service=navermain\"}},\"showLiveBadge\":false,\"_id\":\"6441ca92c499cc07f334c4a4\"},{\"@type\":\"MATERIAL-PC-FEED\",\"title\":\"세련된 신혼집 꾸미기, 모던인테리어 그림 액자 복층 아파트 인테리어\",\"url\":\"https://in.naver.com/hun1056/contents/internal/852154352132992\",\"image\":{\"url\":\"https://s.pstatic.net/dthumb.phinf/?src=%22http%3A%2F%2Fblogfiles.naver.net%2FMjAyNTA4MDRfMjcy%2FMDAxNzU0MjY0MjU0OTMy.T7ZeqoH63750gVpdp4dRE2jVpgpR4BnOUklBLuAojh8g.3EcbkjhYMZ1uPb2mq51gjBaYjJxS2wR-6k23N_vTRZ0g.JPEG%2F%EC%A0%9C%EB%AA%A9_%EC%97%86%EC%9D%8C-1.jpg%22&type=ff364_236&service=navermain\"},\"source\":{\"name\":\"정면돌파\",\"image\":{\"url\":\"https://s.pstatic.net/dthumb.phinf/?src=%22http%3A%2F%2Fblogpfthumb.phinf.naver.net%2FMjAxNzA0MDRfMTU3%2FMDAxNDkxMjYxODMzMzc0.rT3mnLKZhajzrbID4-vJPfBtEGej3Lt36VwG3eEVJkYg.GYIpWUt30IYkl3MAFkWwWzfw06nMJ3r5gmMGsmNDSDAg.JPEG.hun1056%2Faward.jpg%22&type=nf40_40&service=navermain\"}},\"showLiveBadge\":false,\"_id\":\"6441ca92c499cc07f334c4a5\"},{\"@type\":\"MATERIAL-PC-FEED\",\"title\":\"셀프 주방 인테리어필름시공 비포애프터\",\"url\":\"https://in.naver.com/doppionell/contents/internal/842138909704992\",\"image\":{\"url\":\"https://s.pstatic.net/dthumb.phinf/?src=%22http%3A%2F%2Fblogfiles.naver.net%2FMjAyNTA3MDdfNzgg%2FMDAxNzUxODg3NzAwMTc2.GtVKoIbV8aVmcrqbKqvSdJO1n4otzPs2xfc7J-DrjP8g.j17IidCd8kxtcb_sNpNm6UKz-b6wtHYoSodQjOWmTz8g.PNG%2F35.png%22&type=ff364_236&service=navermain\"},\"source\":{\"name\":\"도피오넬\",\"image\":{\"url\":\"https://s.pstatic.net/dthumb.phinf/?src=%22http%3A%2F%2Fblogpfthumb.phinf.naver.net%2FMjAyMDA2MTRfMTI0%2FMDAxNTkyMTQ1MTc2MjMy.yVVObVAySFExCJ84A6GYJdrJaD88EqNdZuT5dMZ82vcg.rhGGoSQyjBWrC_26Lqp6ELLGb06pXbDhwRxLPg-YtCEg.JPEG.becks0809%2FprofileImage.jpg%22&type=nf40_40&service=navermain\"}},\"showLiveBadge\":false,\"_id\":\"6441ca92c499cc07f334c4a6\"}],\"excludeInPaging\":false,\"positionForPaging\":0,\"realtime\":false,\"_id\":null,\"@type\":\"BLOCK\",\"@code\":\"PC-FEED-LIVINGHOME-CARD-1\",\"@template\":\"FOUR-COLUMNS\",\"@flowId\":null,\"@flowExecutionId\":null,\"@provider\":null,\"@lastModifiedAt\":null},{\"@type\":\"PC-FEED-BLOCK\",\"materials\":[{\"@type\":\"MATERIAL-PC-FEED\",\"title\":\"한부모 가정의 자립을 응원하는 데님 에코백\",\"url\":\"https://happybean.naver.com/fundings/detail/F2034?p=p&s=nmlp\",\"image\":{\"url\":\"https://s.pstatic.net/dthumb.phinf/?src=%22https%3A%2F%2Fhappybean-phinf.pstatic.net%2F20250811_43%2F1754899020214sj8Qc_JPEG%2F0.%25EB%25A6%25AC%25EC%25A4%25ED%25B8%25EC%25B8%25EB%25A4%25EC.jpg%3Ftype%3Df464_260%22&type=ff364_236&service=navermain\"},\"source\":{\"name\":\"아미유\"},\"labels\":[{\"type\":\"happybean\",\"text\":\"펀딩\"}],\"fundingRate\":\"31\",\"showLiveBadge\":false,\"_id\":\"6441ca92c499cc07f334c4a7\"},{\"@type\":\"MATERIAL-PC-FEED\",\"title\":\"누구나 쉽게 키워요! 건강 새싹삼 재배키트\",\"url\":\"https://happybean.naver.com/fundings/detail/F1997?p=p&s=nmlp\",\"image\":{\"url\":\"https://s.pstatic.net/dthumb.phinf/?src=%22https%3A%2F%2Fhappybean-phinf.pstatic.net%2F20250814_56%2F1755149394097KGcdt_PNG%2F1.png%3Ftype%3Df464_260%22&type=ff364_236&service=navermain\"},\"source\":{\"name\":\"농원 솔\"},\"labels\":[{\"type\":\"happybean\",\"text\":\"펀딩\"}],\"fundingRate\":\"134\",\"showLiveBadge\":false,\"_id\":\"6441ca92c499cc07f334c4a8\"},{\"@type\":\"MATERIAL-PC-FEED\",\"title\":\"알차게 품은 건강함! 달달한 미니 단호박\",\"url\":\"https://happybean.naver.com/fundings/detail/F1991?p=p&s=nmlp\",\"image\":{\"url\":\"https://s.pstatic.net/dthumb.phinf/?src=%22https%3A%2F%2Fhappybean-phinf.pstatic.net%2F20250814_278%2F1755149379487yREvb_PNG%2F%25B4%25EB%25A6%25AC%25EB%25B6.png%3Ftype%3Df464_260%22&type=ff364_236&service=navermain\"},\"source\":{\"name\":\"흙을살리는농부\"},\"labels\":[{\"type\":\"happybean\",\"text\":\"펀딩\"}],\"fundingRate\":\"691\",\"showLiveBadge\":false,\"_id\":\"6441ca92c499cc07f334c4a9\"},{\"@type\":\"MATERIAL-PC-FEED\",\"title\":\"제주도 귤과 레몬으로 만든 저당 청시럽\",\"url\":\"https://happybean.naver.com/fundings/detail/F2016?p=p&s=nmlp\",\"image\":{\"url\":\"https://s.pstatic.net/dthumb.phinf/?src=%22https%3A%2F%2Fhappybean-phinf.pstatic.net%2F20250804_93%2F1754273810136k6Qc9_JPEG%2F%25B8%25EC%25B8%25EB%25A4%25EC.jpg%3Ftype%3Df464_260%22&type=ff364_236&service=navermain\"},\"source\":{\"name\":\"냠냠제주\"},\"labels\":[{\"type\":\"happybean\",\"text\":\"펀딩\"}],\"fundingRate\":\"394\",\"showLiveBadge\":false,\"_id\":\"6441ca92c499cc07f334c4aa\"}],\"excludeInPaging\":false,\"positionForPaging\":0,\"realtime\":false,\"title\":\"마음까지 채우는 클릭\",\"moreText\":\"해피빈 전체보기\",\"moreUrl\":\"https://happybean.naver.com/\",\"needCologger\":false,\"ad\":false,\"@type\":\"PC-FEED-BLOCK\",\"@code\":\"PC-FEED-LIVINGHOME-HAPPYBEAN-FUNDING\",\"@template\":\"FOUR-COLUMNS\"},{\"@type\":\"BLOCK\",\"blocks\":null,\"materials\":[{\"@type\":\"MATERIAL-PC-FEED\",\"title\":\"주방 인테리어, 간결한 선으로 완성하는 심플하고 고급스러운 인테리어 아이디어\",\"url\":\"https://blog.naver.com/seoi_co/223970453063\",\"image\":{\"url\":\"https://s.pstatic.net/dthumb.phinf/?src=%22http%3A%2F%2Fblogfiles.naver.net%2FMjAyNTA4MTRfNzAg%2FMDAxNzU1MTUyNjA3MTY1.UQRhttgGkkU5DOpKvajK5wSRYONUTlmwefr1qxEyxDYg.UUr8iFnyQwKyv0_v0NUXq_H-ZdsdSRr-kuBzh5yUL9kg.JPEG%2F15.jpg%22&type=ff364_236&service=navermain\"},\"source\":{\"name\":\"서이\",\"image\":{\"url\":\"https://s.pstatic.net/dthumb.phinf/?src=%22http%3A%2F%2Fblogpfthumb.phinf.naver.net%2FMjAyMzA3MTNfMTY0%2FMDAxNjg5MjMxNjQxNDUw.SDaAN46XO542yrZGJm1EZjGqU39lPMwt69uffhUI2v4g.fsiOLchmTxqWvQf8RjmJCAD35LMui-0WuZcruN0u6Bcg.JPEG.extar1111%2F1111-1.jpg%2F1111-1.jpg%22&type=nf40_40&service=navermain\"}},\"showLiveBadge\":false,\"_id\":\"64817a696e592107d2dc6d1e\"},{\"@type\":\"MATERIAL-PC-FEED\",\"title\":\"주방인테리어 주방정리 소품 best5 행주걸이 식기건조대 핸드타올\",\"url\":\"https://in.naver.com/kate/contents/internal/855601826329632\",\"image\":{\"url\":\"https://s.pstatic.net/dthumb.phinf/?src=%22http%3A%2F%2Fblogfiles.naver.net%2FMjAyNTA4MTJfNiAg%2FMDAxNzU0OTI5NDQ0MDk0.oSXX7a4Ld4zPD_8NQS246XrdAN1KjcF4AculMxbQhcUg.rJcsEHrtQTz-KGfjPnCkcwJAMo0JXv-fgaTipo32oaQg.JPEG%2Foutput%EF%BC%BF3726338351.jpg%22&type=ff364_236&service=navermain\"},\"source\":{\"name\":\"kate\",\"image\":{\"url\":\"https://s.pstatic.net/dthumb.phinf/?src=%22http%3A%2F%2Fblogpfthumb.phinf.naver.net%2FMjAyNDAzMTdfODIg%2FMDAxNzEwNjY2OTAyNjE3.Rc-wGnI0gq4IYMcDUZyrU6f2hz-xk1FoeTa212zOtdQg.DmMmmzjCS4SdE8_wtgAgiERErTBkHLfV5Xe8BpW_SvQg.GIF%2FprofileImage.gif%22&type=nf40_40&service=navermain\"}},\"showLiveBadge\":false,\"_id\":\"64817a696e592107d2dc6d1f\"},{\"@type\":\"MATERIAL-PC-FEED\",\"title\":\"주방 타일 셀프인테리어 시공, 덧방이나 시트지 대신 팬톤 타일페인트 추천\",\"url\":\"https://blog.naver.com/pantonepaint/223906018027\",\"image\":{\"url\":\"https://s.pstatic.net/dthumb.phinf/?src=%22http%3A%2F%2Fblogfiles.naver.net%2FMjAyNTA2MjBfMTE4%2FMDAxNzUwNDA1OTcxMDM0.4LZjypZHOH3zC2n9LU8c0R45kbOg_JBBipXKlUbOPocg.i16-AGfZe2dqvd2_5PgpneNIE080HPSwu8d3nWNoMMUg.PNG%2F%EC%8D%B8%EB%84%A4%EC%9D%BC.png%22&type=ff364_236&service=navermain\"},\"source\":{\"name\":\"팬톤페인트\",\"image\":{\"url\":\"https://s.pstatic.net/dthumb.phinf/?src=%22http%3A%2F%2Fblogpfthumb.phinf.naver.net%2FMjAyMDEwMjdfMTgx%2FMDAxNjAzNzgzNTUwMjQz.Ypk1CwzZKLCON0iN9NffR4ZnAkWlkAAXL5qi_xDwp7sg.p4T-2MjvUoT4cje9NLunNQGQ4PANtzS2IN14Bi2Mz_Yg.PNG.pantonepaint%2F%25EB%2584%25A4%25EC%259D%25B4%25EB%25B2%2584%25EA%25B3%2584%25EC%25A0%2595_V1.png%22&type=nf40_40&service=navermain\"}},\"showLiveBadge\":false,\"_id\":\"64817a696e592107d2dc6d20\"},{\"@type\":\"MATERIAL-PC-FEED\",\"title\":\"아일랜드가 돋보이는 ㄷ자 대면형 주방 셀프 인테리어\",\"url\":\"https://in.naver.com/oioijinjin/contents/internal/856569945457952\",\"image\":{\"url\":\"https://s.pstatic.net/dthumb.phinf/?src=%22http%3A%2F%2Fblogfiles.naver.net%2FMjAyNTA1MTdfMTY5%2FMDAxNzQ3NDY5MjczNDkw._seJ_3ehj4ko6b8nniPTswqdW_EnbBZWdlsGqsaRrO8g.igkRoLl4-t_Ge0e2-aEZuAW8sVeI-zI0ppiN4-gPp9sg.JPEG%2FIMG_2609.jpg%22&type=ff364_236&service=navermain\"},\"source\":{\"name\":\"또하우스\",\"image\":{\"url\":\"https://s.pstatic.net/dthumb.phinf/?src=%22http%3A%2F%2Fblogpfthumb.phinf.naver.net%2FMjAyNDExMTZfNDEg%2FMDAxNzMxNzYxMzkxMzk0.9BTz6Q-euk1SVbKFXY8y56wcit8j8MeqMslqyx16kNAg.lm9IfLLSMctb_8Gffuwi3jXHCMGAHtlmtymM5PQ2Dvsg.PNG%2Fgrim-pink.png%2Fgrim-pink.png%22&type=nf40_40&service=navermain\"}},\"showLiveBadge\":false,\"_id\":\"64817a696e592107d2dc6d21\"},{\"@type\":\"MATERIAL-PC-FEED\",\"title\":\"우리집 2배 넓어보이는 팬트리 주방 수납 정리 셀프인테리어 TIP\",\"url\":\"https://in.naver.com/candy6576/contents/internal/853021711762240\",\"image\":{\"url\":\"https://s.pstatic.net/dthumb.phinf/?src=%22http%3A%2F%2Fblogfiles.naver.net%2FMjAyNTA4MDdfNTgg%2FMDAxNzU0NTU3NTE0ODAy.F4-uB57x4SDfIHt5bUs6tlr0Ci4406WEZ6Hjs_qfx3cg.uxHav0DZvD9Eri4PSDKNQ_6ohBdK6kZZdkaXd2iYWsgg.PNG%2Fimage.png%22&type=ff364_236&service=navermain\"},\"source\":{\"name\":\"매력덩어리배수린\",\"image\":{\"url\":\"https://s.pstatic.net/dthumb.phinf/?src=%22http%3A%2F%2Fblogpfthumb.phinf.naver.net%2FMjAyMjA5MDFfMTUg%2FMDAxNjYyMDMwMTY2MTcy.J89XsGzDutgdMn_0P7dwAt8srenkS2BBmzvZH-Bmr28g.XVrrDLbZsx4PoDH1h4VOP9bPYW4Qa9p-HgY_QXZ9fywg.JPEG.candy6576%2FprofileImage.jpg%22&type=nf40_40&service=navermain\"}},\"showLiveBadge\":false,\"_id\":\"64817a696e592107d2dc6d22\"},{\"@type\":\"MATERIAL-PC-FEED\",\"title\":\"나의 주방기록 + 취향과 사는 흔적 가득 담긴 주방인테리어\",\"url\":\"https://in.naver.com/bsagb/contents/internal/845139372492000\",\"image\":{\"url\":\"https://s.pstatic.net/dthumb.phinf/?src=%22http%3A%2F%2Fblogfiles.naver.net%2FMjAyNTA3MTZfMjM0%2FMDAxNzUyNjMzMjQyNTk2._lMKSb4jJeI2iRK4jyOooqJVLe81dnmVTCs_m5QByM0g.XKq5j04TzjzHhUzB8YDvIMbX2A2go_MAobIYHfpMq2Eg.JPEG%2FDSCF8912.JPG%22&type=ff364_236&service=navermain\"},\"source\":{\"name\":\"복숭아갈비\",\"image\":{\"url\":\"https://s.pstatic.net/dthumb.phinf/?src=%22http%3A%2F%2Fblogpfthumb.phinf.naver.net%2FMjAyMTA1MThfNTgg%2FMDAxNjIxMjkyMzkxMDc2.CDrpycZYn6RCQhD9B0bOo0wMwsHa5_HQ2_0GP6zZAtAg.O_wZ9Yleggjj7BV4Uxso-fmN37m1IN7niuxlp7cDJ8Eg.JPEG.wltjs5625%2Fpjsnaver.JPG%22&type=nf40_40&service=navermain\"}},\"showLiveBadge\":false,\"_id\":\"64817a696e592107d2dc6d23\"},{\"@type\":\"MATERIAL-PC-FEED\",\"title\":\"온라인 랜선집들이｜우드와 화이트로 웜톤인테리어 집꾸미기\",\"url\":\"https://in.naver.com/bbonyang/contents/internal/843103798489760\",\"image\":{\"url\":\"https://s.pstatic.net/dthumb.phinf/?src=%22http%3A%2F%2Fblogfiles.naver.net%2FMjAyNTA3MTBfMTk5%2FMDAxNzUyMTM1NDA3NzM3.NXb4STJBQZyQmV1UPVN_yW345xvQapjzymJSZ4bhtuAg.vgFBS7kbs-6MD3yzQyBnkQoK0AsORTF1CkLetLGj55og.JPEG%2FIMG_0086.jpg%22&type=ff364_236&service=navermain\"},\"source\":{\"name\":\"뽀냥\",\"image\":{\"url\":\"https://s.pstatic.net/dthumb.phinf/?src=%22http%3A%2F%2Fblogpfthumb.phinf.naver.net%2FMjAxOTEwMDRfMjU5%2FMDAxNTcwMTE2MTc4MjE3.Rrdn87SMsu-zsvavCs76AI6fB6VC2J0S15C1wsMZYjwg.8OHATtWdjFaEG-M2UuoF5ApvlZQa_vlMUOoNd1dzVJAg.PNG.ryuumji%2FprofileImage.png%22&type=nf40_40&service=navermain\"}},\"showLiveBadge\":false,\"_id\":\"64817a696e592107d2dc6d24\"},{\"@type\":\"MATERIAL-PC-FEED\",\"title\":\"주방 수납장 고민 끝! 팬트리 없이 이케아 휠리스로 셀프 인테리어\",\"url\":\"https://blog.naver.com/jewul_77/223892472259\",\"image\":{\"url\":\"https://s.pstatic.net/dthumb.phinf/?src=%22http%3A%2F%2Fblogfiles.naver.net%2FMjAyNTA2MDhfMjUw%2FMDAxNzQ5MzU2NjMzODE3.NLE6QdZPZrl_qSGdntIb2o1HscJW2mzhjE4EC3Z_Z2Qg.ADEswnLDS6ob1vUoM4DKo9qo5tLGPJxo3TheANX-8Bgg.JPEG%2F%EC%A3%BC%EB%B0%A9%EC%88%98%EB%82%A9%EC%9E%A5%EC%9D%B8%ED%85%8C%EB%A6%AC%EC%96%B4__%EC%9D%B4%EC%BC%80%EC%95%84%ED%9C%A0%EB%A6%AC%EC%8A%A4JEWUL_77_%283%29.JPG%22&type=ff364_236&service=navermain\"},\"source\":{\"name\":\"내일도 맑음\",\"image\":{\"url\":\"https://s.pstatic.net/dthumb.phinf/?src=%22http%3A%2F%2Fblogpfthumb.phinf.naver.net%2FMjAyNTA3MTNfMjMx%2FMDAxNzUyMzc3MTIyMzM5.SAwXdiQuII-9UnoqqWmLokq6Kgg0xuvBr8uuoxpCvf8g.MYKzBrXUHr5eqScaHeqIZjHY7TtMUT2_T8rCx4ukzXIg.PNG%2FprofileImage.png%22&type=nf40_40&service=navermain\"}},\"showLiveBadge\":false,\"_id\":\"64817a696e592107d2dc6d25\"},{\"@type\":\"MATERIAL-PC-FEED\",\"title\":\"셀프 인테리어 아이방 가구 꾸미기 침대 리폼 페인트칠\",\"url\":\"https://in.naver.com/hvvvvovvvv/contents/internal/850788485284864\",\"image\":{\"url\":\"https://s.pstatic.net/dthumb.phinf/?src=%22http%3A%2F%2Fblogfiles.naver.net%2FMjAyNTA3MjhfMjUx%2FMDAxNzUzNjc5NTQ3NDI1.RXYqrf9jkJFW3Oz0h1MkJ8jVRyp6ukHI1V6ksIqJI_kg.V1DfOqWzwBVUMyu_o3--jCi_sObKO2hhfXuK2oJrqckg.PNG%2FKakaoTalk_20250728_141213875.png%22&type=ff364_236&service=navermain\"},\"source\":{\"name\":\"류작가\",\"image\":{\"url\":\"https://s.pstatic.net/dthumb.phinf/?src=%22http%3A%2F%2Fblogpfthumb.phinf.naver.net%2FMjAyNDA4MDJfMjAg%2FMDAxNzIyNTg2OTMwMzg3.6cCKyHK75sGrj4S1JoGnUb2cK2bT5gP1UbTFROpuAxcg.HE6bj0jIVZsodREWCLAzOAmHjpzCEO0_-TdKiruwFTIg.PNG%2FprofileImage.png%22&type=nf40_40&service=navermain\"}},\"showLiveBadge\":false,\"_id\":\"64817a696e592107d2dc6d26\"},{\"@type\":\"MATERIAL-PC-FEED\",\"title\":\"온라인집들이 화이트인테리어 집꾸미기 거실인테리어 거실꾸미기 러그 신혼집인테리어 usm 거실장 소파 소파테이블\",\"url\":\"https://blog.naver.com/njel3121/223969157626\",\"image\":{\"url\":\"https://s.pstatic.net/dthumb.phinf/?src=%22http%3A%2F%2Fblogfiles.naver.net%2FMjAyNTA4MTNfMjkx%2FMDAxNzU1MDYyNzc0OTU1.hGxzL1302IQtXYQUNTUhdqQLU0s3r9KVjPsAuS-Gotcg.b8LyzNqjd-YZtqy6VslqVnc-OIJAh46GFuRjVsyAXy0g.JPEG%2FA6FA131B%EF%BC%8D66C8%EF%BC%8D40EC%EF%BC%8D9003%EF%BC%8DA3F83525C0A5.JPG%22&type=ff364_236&service=navermain\"},\"source\":{\"name\":\"집순이\",\"image\":{\"url\":\"https://s.pstatic.net/dthumb.phinf/?src=%22http%3A%2F%2Fblogpfthumb.phinf.naver.net%2FMjAyMTAxMDNfMTU5%2FMDAxNjA5NjUwMTA0NjUy.dAsnptqCHf6dWhfm6k9HCZR_ZtJxSL9Dq6LR8VhxxR0g.YOQApn7c_2pL_ZpSCuGV9o58ZE4f-KdcLB0yYfZFF1cg.JPEG.njel3121%2F346BAF69-73CC-467B-AF06-D9B2E32D3125.jpg%22&type=nf40_40&service=navermain\"}},\"showLiveBadge\":false,\"_id\":\"64817a696e592107d2dc6d27\"},{\"@type\":\"MATERIAL-PC-FEED\",\"title\":\"온라인 랜선집들이, 북유럽의 낭만과 감성을 아름답게 풀어낸 신혼집 속 예쁜 주방꾸미기 주방인테리어 주방리모델링\",\"url\":\"https://blog.naver.com/thehousemagazine/223940479128\",\"image\":{\"url\":\"https://s.pstatic.net/dthumb.phinf/?src=%22http%3A%2F%2Fblogfiles.naver.net%2FMjAyNTA3MjBfNDYg%2FMDAxNzUyOTk0MjUyMjY0.cwvrUhV-VtkwomkTJLXJ7Djxeh5GA9iVULUvGQw3ggIg.uAde8duWW99ZAr2JdlNFBZ87LTjlCalkWPiAU04H7rAg.JPEG%2F20.jpg%22&type=ff364_236&service=navermain\"},\"source\":{\"name\":\"하우스매거진\",\"image\":{\"url\":\"https://s.pstatic.net/dthumb.phinf/?src=%22http%3A%2F%2Fblogpfthumb.phinf.naver.net%2FMjAyMzA3MDdfMjAg%2FMDAxNjg4NzA3MDQ1OTg4.CFtJO21aAzJdFwnD_L8R57IxszleO_xRESfBguDJnvAg.4lifoaQAhPook_JqrLJmruelhfO37ifAb2-kNfodJvAg.JPEG.thehousemagazine%2F%25EC%25A0%259C%25EB%25AA%25A9_%25EC%2597%2586%25EC%259D%258C-3.jpg%2F%25EC%25A0%259C%25EB%25AA%25A9%2B%25EC%2597%2586%25EC%259D%258C-3.jpg%22&type=nf40_40&service=navermain\"}},\"showLiveBadge\":false,\"_id\":\"64817a696e592107d2dc6d28\"},{\"@type\":\"MATERIAL-PC-FEED\",\"title\":\"베란다 세탁실 무볼트 선반 영진앵글 수납정리 화이트 셀프인테리어\",\"url\":\"https://in.naver.com/house/contents/internal/849918975120576\",\"image\":{\"url\":\"https://s.pstatic.net/dthumb.phinf/?src=%22http%3A%2F%2Fblogfiles.naver.net%2FMjAyNTA3MjlfMTk5%2FMDAxNzUzNzk3MDU5NjQ2.BwoOGocuSXD6j4Yz6VWq3fm3JbTBh2cKDj0aMnik0lEg.hURKNqg594N_ScpoLglfjsZt8TeQAQKjOSdyC_JSUM0g.JPEG%2F900%EF%BC%BF20250729%EF%BC%BF161327.jpg%22&type=ff364_236&service=navermain\"},\"source\":{\"name\":\"호박네\",\"image\":{\"url\":\"https://s.pstatic.net/dthumb.phinf/?src=%22http%3A%2F%2Fblogpfthumb.phinf.naver.net%2F20141008_286%2Fisyoon71_1412739172418nH9Qz_JPEG%2FprofileImage.jpg%22&type=nf40_40&service=navermain\"}},\"showLiveBadge\":false,\"_id\":\"64817a696e592107d2dc6d29\"}],\"excludeInPaging\":false,\"positionForPaging\":0,\"realtime\":false,\"_id\":null,\"@type\":\"BLOCK\",\"@code\":\"PC-FEED-LIVINGHOME-CARD-2\",\"@template\":\"FOUR-COLUMNS\",\"@flowId\":null,\"@flowExecutionId\":null,\"@provider\":null,\"@lastModifiedAt\":null}],\"materials\":null,\"excludeInPaging\":false,\"positionForPaging\":0,\"realtime\":false,\"_id\":null,\"@type\":\"BLOCK\",\"@code\":\"PC-FEED-LIVINGHOME\",\"@template\":\"NONE\",\"@flowId\":null,\"@flowExecutionId\":null,\"@provider\":null,\"@lastModifiedAt\":null}],\"materials\":null,\"excludeInPaging\":false,\"positionForPaging\":0,\"realtime\":false,\"_id\":\"6441ca92a10d3006855f9acd\",\"@type\":\"BLOCK\",\"@code\":\"PC-FEED-WRAPPER\",\"@template\":\"PC-FEED-WRAPPER\",\"@flowId\":\"PC-FEED-WRAPPER\",\"@flowExecutionId\":\"617e04a9-7c03-11f0-aae1-57b72e3d8c49\",\"@provider\":\"lambda\",\"@lastModifiedAt\":[2025,8,18,7,17,21,736000000]}\\nwindow[\"EAGER-DATA\"][\"CAS-MINICONTENT-PC-SPECIAL-LOGO\"] = {\"@type\":\"MINI-CONTENT-BLOCK\",\"blocks\":null,\"materials\":null,\"excludeInPaging\":false,\"positionForPaging\":0,\"realtime\":false,\"items\":[],\"_id\":\"6433d8e3a10d3006850274e8\",\"@type\":\"MINI-CONTENT-BLOCK\",\"@code\":\"CAS-MINICONTENT-PC-SPECIAL-LOGO\",\"@template\":\"NONE\",\"@flowId\":\"CAS-MINICONTENT\",\"@flowExecutionId\":\"b3dee2fd-7c03-11f0-87ef-810f7e5d4a66\",\"@provider\":\"lambda\",\"@lastModifiedAt\":[2025,8,18,7,19,39,330000000]}\\nwindow[\"EAGER-DATA\"][\"PC-MEDIA-WRAPPER\"] = {\"@type\":\"PC-MEDIA-CONTENTS-BLOCK\",\"blocks\":[{\"@type\":\"BLOCK\",\"blocks\":[{\"@type\":\"PC-NEWSSTAND-BLOCK\",\"blocks\":[{\"@type\":\"PC-NEWSSTAND-PRESS-BLOCK\",\"blocks\":null,\"materials\":null,\"excludeInPaging\":false,\"positionForPaging\":0,\"realtime\":false,\"pid\":\"907\",\"name\":\"경북매일신문\",\"logoLight\":{\"url\":\"https://s.pstatic.net/static/newsstand/2020/logo/light/0604/907.png\"},\"logoDark\":{\"url\":\"https://s.pstatic.net/static/newsstand/2020/logo/dark/0604/907.png\"},\"showThumbnailView\":true,\"showListView\":true,\"regDate\":\"20250818 15:52:11\",\"_id\":null,\"@type\":\"PC-NEWSSTAND-PRESS-BLOCK\",\"@code\":null,\"@template\":\"NONE\",\"@flowId\":null,\"@flowExecutionId\":null,\"@provider\":null,\"@lastModifiedAt\":null},{\"@type\":\"PC-NEWSSTAND-PRESS-BLOCK\",\"blocks\":null,\"materials\":null,\"excludeInPaging\":false,\"positionForPaging\":0,\"realtime\":false,\"pid\":\"908\",\"name\":\"국방일보\",\"logoLight\":{\"url\":\"https://s.pstatic.net/static/newsstand/2020/logo/light/0604/908.png\"},\"logoDark\":{\"url\":\"https://s.pstatic.net/static/newsstand/2020/logo/dark/0604/908.png\"},\"showThumbnailView\":true,\"showListView\":true,\"regDate\":\"20250818 10:01:41\",\"_id\":null,\"@type\":\"PC-NEWSSTAND-PRESS-BLOCK\",\"@code\":null,\"@template\":\"NONE\",\"@flowId\":null,\"@flowExecutionId\":null,\"@provider\":null,\"@lastModifiedAt\":null},{\"@type\":\"PC-NEWSSTAND-PRESS-BLOCK\",\"blocks\":null,\"materials\":null,\"excludeInPaging\":false,\"positionForPaging\":0,\"realtime\":false,\"pid\":\"909\",\"name\":\"기호일보\",\"logoLight\":{\"url\":\"https://s.pstatic.net/static/newsstand/2020/logo/light/0604/909.png\"},\"logoDark\":{\"url\":\"https://s.pstatic.net/static/newsstand/2020/logo/dark/0604/909.png\"},\"showThumbnailView\":true,\"showListView\":true,\"regDate\":\"20250818 16:01:07\",\"_id\":null,\"@type\":\"PC-NEWSSTAND-PRESS-BLOCK\",\"@code\":null,\"@template\":\"NONE\",\"@flowId\":null,\"@flowExecutionId\":null,\"@provider\":null,\"@lastModifiedAt\":null},{\"@type\":\"PC-NEWSSTAND-PRESS-BLOCK\",\"blocks\":null,\"materials\":null,\"excludeInPaging\":false,\"positionForPaging\":0,\"realtime\":false,\"pid\":\"353\",\"name\":\"중앙SUNDAY\",\"logoLight\":{\"url\":\"https://s.pstatic.net/static/newsstand/up/2025/0418/nsd181433494.png\"},\"logoDark\":{\"url\":\"https://s.pstatic.net/static/newsstand/up/2025/0418/nsd181453897.png\"},\"showThumbnailView\":true,\"showListView\":true,\"regDate\":\"20250818 13:33:39\",\"_id\":null,\"@type\":\"PC-NEWSSTAND-PRESS-BLOCK\",\"@code\":null,\"@template\":\"NONE\",\"@flowId\":null,\"@flowExecutionId\":null,\"@provider\":null,\"@lastModifiedAt\":null},{\"@type\":\"PC-NEWSSTAND-PRESS-BLOCK\",\"blocks\":null,\"materials\":null,\"excludeInPaging\":false,\"positionForPaging\":0,\"realtime\":false,\"pid\":\"354\",\"name\":\"엘르\",\"logoLight\":{\"url\":\"https://s.pstatic.net/static/newsstand/2020/logo/light/0604/354.png\"},\"logoDark\":{\"url\":\"https://s.pstatic.net/static/newsstand/2020/logo/dark/0604/354.png\"},\"showThumbnailView\":true,\"showListView\":true,\"regDate\":\"20250818 16:12:19\",\"_id\":null,\"@type\":\"PC-NEWSSTAND-PRESS-BLOCK\",\"@code\":null,\"@template\":\"NONE\",\"@flowId\":null,\"@flowExecutionId\":null,\"@provider\":null,\"@lastModifiedAt\":null},{\"@type\":\"PC-NEWSSTAND-PRESS-BLOCK\",\"blocks\":null,\"materials\":null,\"excludeInPaging\":false,\"positionForPaging\":0,\"realtime\":false,\"pid\":\"355\",\"name\":\"사이언스타임즈\",\"logoLight\":{\"url\":\"https://s.pstatic.net/static/newsstand/2020/logo/light/0604/355.png\"},\"logoDark\":{\"url\":\"https://s.pstatic.net/static/newsstand/2020/logo/dark/0604/355.png\"},\"showThumbnailView\":true,\"showListView\":true,\"regDate\":\"20250818 09:06:02\",\"_id\":null,\"@type\":\"PC-NEWSSTAND-PRESS-BLOCK\",\"@code\":null,\"@template\":\"NONE\",\"@flowId\":null,\"@flowExecutionId\":null,\"@provider\":null,\"@lastModifiedAt\":null},{\"@type\":\"PC-NEWSSTAND-PRESS-BLOCK\",\"blocks\":null,\"materials\":null,\"excludeInPaging\":false,\"positionForPaging\":0,\"realtime\":false,\"pid\":\"356\",\"name\":\"게임메카\",\"logoLight\":{\"url\":\"https://s.pstatic.net/static/newsstand/2020/logo/light/0604/356.png\"},\"logoDark\":{\"url\":\"https://s.pstatic.net/static/newsstand/2020/logo/dark/0604/356.png\"},\"showThumbnailView\":true,\"showListView\":true,\"regDate\":\"20250818 15:49:24\",\"_id\":null,\"@type\":\"PC-NEWSSTAND-PRESS-BLOCK\",\"@code\":null,\"@template\":\"NONE\",\"@flowId\":null,\"@flowExecutionId\":null,\"@provider\":null,\"@lastModifiedAt\":null},{\"@type\":\"PC-NEWSSTAND-PRESS-BLOCK\",\"blocks\":null,\"materials\":null,\"excludeInPaging\":false,\"positionForPaging\":0,\"realtime\":false,\"pid\":\"477\",\"name\":\"스포티비뉴스\",\"logoLight\":{\"url\":\"https://s.pstatic.net/static/newsstand/up/2021/1130/nsd10159718.png\"},\"logoDark\":{\"url\":\"https://s.pstatic.net/static/newsstand/up/2021/1130/nsd101536636.png\"},\"showThumbnailView\":true,\"showListView\":true,\"regDate\":\"20250818 16:00:07\",\"_id\":null,\"@type\":\"PC-NEWSSTAND-PRESS-BLOCK\",\"@code\":null,\"@template\":\"NONE\",\"@flowId\":null,\"@flowExecutionId\":null,\"@provider\":null,\"@lastModifiedAt\":null},{\"@type\":\"PC-NEWSSTAND-PRESS-BLOCK\",\"blocks\":null,\"materials\":null,\"excludeInPaging\":false,\"positionForPaging\":0,\"realtime\":false,\"pid\":\"117\",\"name\":\"마이데일리\",\"logoLight\":{\"url\":\"https://s.pstatic.net/static/newsstand/2020/logo/light/0604/117.png\"},\"logoDark\":{\"url\":\"https://s.pstatic.net/static/newsstand/2020/logo/dark/0604/117.png\"},\"showThumbnailView\":true,\"showListView\":true,\"regDate\":\"20250818 14:55:50\",\"_id\":null,\"@type\":\"PC-NEWSSTAND-PRESS-BLOCK\",\"@code\":null,\"@template\":\"NONE\",\"@flowId\":null,\"@flowExecutionId\":null,\"@provider\":null,\"@lastModifiedAt\":null},{\"@type\":\"PC-NEWSSTAND-PRESS-BLOCK\",\"blocks\":null,\"materials\":null,\"excludeInPaging\":false,\"positionForPaging\":0,\"realtime\":false,\"pid\":\"910\",\"name\":\"넥스트데일리\",\"logoLight\":{\"url\":\"https://s.pstatic.net/static/newsstand/2020/logo/light/0604/910.png\"},\"logoDark\":{\"url\":\"https://s.pstatic.net/static/newsstand/2020/logo/dark/0604/910.png\"},\"showThumbnailView\":true,\"showListView\":true,\"regDate\":\"20250818 16:00:38\",\"_id\":null,\"@type\":\"PC-NEWSSTAND-PRESS-BLOCK\",\"@code\":null,\"@template\":\"NONE\",\"@flowId\":null,\"@flowExecutionId\":null,\"@provider\":null,\"@lastModifiedAt\":null},{\"@type\":\"PC-NEWSSTAND-PRESS-BLOCK\",\"blocks\":null,\"materials\":null,\"excludeInPaging\":false,\"positionForPaging\":0,\"realtime\":false,\"pid\":\"911\",\"name\":\"농민신문\",\"logoLight\":{\"url\":\"https://s.pstatic.net/static/newsstand/up/2025/0418/nsd165932303.png\"},\"logoDark\":{\"url\":\"https://s.pstatic.net/static/newsstand/up/2025/0418/nsd165949113.png\"},\"showThumbnailView\":true,\"showListView\":true,\"regDate\":\"20250818 07:00:04\",\"_id\":null,\"@type\":\"PC-NEWSSTAND-PRESS-BLOCK\",\"@code\":null,\"@template\":\"NONE\",\"@flowId\":null,\"@flowExecutionId\":null,\"@provider\":null,\"@lastModifiedAt\":null},{\"@type\":\"PC-NEWSSTAND-PRESS-BLOCK\",\"blocks\":null,\"materials\":null,\"excludeInPaging\":false,\"positionForPaging\":0,\"realtime\":false,\"pid\":\"913\",\"name\":\"뉴스토마토\",\"logoLight\":{\"url\":\"https://s.pstatic.net/static/newsstand/2020/logo/light/0604/913.png\"},\"logoDark\":{\"url\":\"https://s.pstatic.net/static/newsstand/2020/logo/dark/0604/913.png\"},\"showThumbnailView\":true,\"showListView\":true,\"regDate\":\"20250818 16:05:25\",\"_id\":null,\"@type\":\"PC-NEWSSTAND-PRESS-BLOCK\",\"@code\":null,\"@template\":\"NONE\",\"@flowId\":null,\"@flowExecutionId\":null,\"@provider\":null,\"@lastModifiedAt\":null},{\"@type\":\"PC-NEWSSTAND-PRESS-BLOCK\",\"blocks\":null,\"materials\":null,\"excludeInPaging\":false,\"positionForPaging\":0,\"realtime\":false,\"pid\":\"914\",\"name\":\"뉴스핌\",\"logoLight\":{\"url\":\"https://s.pstatic.net/static/newsstand/2020/logo/light/0604/914.png\"},\"logoDark\":{\"url\":\"https://s.pstatic.net/static/newsstand/2020/logo/dark/0604/914.png\"},\"showThumbnailView\":true,\"showListView\":true,\"regDate\":\"20250818 16:04:22\",\"_id\":null,\"@type\":\"PC-NEWSSTAND-PRESS-BLOCK\",\"@code\":null,\"@template\":\"NONE\",\"@flowId\":null,\"@flowExecutionId\":null,\"@provider\":null,\"@lastModifiedAt\":null},{\"@type\":\"PC-NEWSSTAND-PRESS-BLOCK\",\"blocks\":null,\"materials\":null,\"excludeInPaging\":false,\"positionForPaging\":0,\"realtime\":false,\"pid\":\"915\",\"name\":\"르몽드 디플로마티크\",\"logoLight\":{\"url\":\"https://s.pstatic.net/static/newsstand/2020/logo/light/0604/915.png\"},\"logoDark\":{\"url\":\"https://s.pstatic.net/static/newsstand/2020/logo/dark/0604/915.png\"},\"showThumbnailView\":true,\"showListView\":true,\"regDate\":\"20250801 17:19:42\",\"_id\":null,\"@type\":\"PC-NEWSSTAND-PRESS-BLOCK\",\"@code\":null,\"@template\":\"NONE\",\"@flowId\":null,\"@flowExecutionId\":null,\"@provider\":null,\"@lastModifiedAt\":null},{\"@type\":\"PC-NEWSSTAND-PRESS-BLOCK\",\"blocks\":null,\"materials\":null,\"excludeInPaging\":false,\"positionForPaging\":0,\"realtime\":false,\"pid\":\"916\",\"name\":\"머니투데이방송\",\"logoLight\":{\"url\":\"https://s.pstatic.net/static/newsstand/up/2021/0420/nsd105139164.png\"},\"logoDark\":{\"url\":\"https://s.pstatic.net/static/newsstand/up/2021/0420/nsd104943516.png\"},\"showThumbnailView\":true,\"showListView\":true,\"regDate\":\"20250818 14:52:00\",\"_id\":null,\"@type\":\"PC-NEWSSTAND-PRESS-BLOCK\",\"@code\":null,\"@template\":\"NONE\",\"@flowId\":null,\"@flowExecutionId\":null,\"@provider\":null,\"@lastModifiedAt\":null},{\"@type\":\"PC-NEWSSTAND-PRESS-BLOCK\",\"blocks\":null,\"materials\":null,\"excludeInPaging\":false,\"positionForPaging\":0,\"realtime\":false,\"pid\":\"917\",\"name\":\"IT조선\",\"logoLight\":{\"url\":\"https://s.pstatic.net/static/newsstand/2020/logo/light/0604/917.png\"},\"logoDark\":{\"url\":\"https://s.pstatic.net/static/newsstand/2020/logo/dark/0604/917.png\"},\"showThumbnailView\":true,\"showListView\":true,\"regDate\":\"20250818 16:01:04\",\"_id\":null,\"@type\":\"PC-NEWSSTAND-PRESS-BLOCK\",\"@code\":null,\"@template\":\"NONE\",\"@flowId\":null,\"@flowExecutionId\":null,\"@provider\":null,\"@lastModifiedAt\":null},{\"@type\":\"PC-NEWSSTAND-PRESS-BLOCK\",\"blocks\":null,\"materials\":null,\"excludeInPaging\":false,\"positionForPaging\":0,\"realtime\":false,\"pid\":\"361\",\"name\":\"채널예스\",\"logoLight\":{\"url\":\"https://s.pstatic.net/static/newsstand/up/2023/0418/nsd124959421.png\"},\"logoDark\":{\"url\":\"https://s.pstatic.net/static/newsstand/up/2023/0418/nsd124945796.png\"},\"showThumbnailView\":true,\"showListView\":true,\"regDate\":\"20250818 16:00:47\",\"_id\":null,\"@type\":\"PC-NEWSSTAND-PRESS-BLOCK\",\"@code\":null,\"@template\":\"NONE\",\"@flowId\":null,\"@flowExecutionId\":null,\"@provider\":null,\"@lastModifiedAt\":null},{\"@type\":\"PC-NEWSSTAND-PRESS-BLOCK\",\"blocks\":null,\"materials\":null,\"excludeInPaging\":false,\"positionForPaging\":0,\"realtime\":false,\"pid\":\"120\",\"name\":\"EBN\",\"logoLight\":{\"url\":\"https://s.pstatic.net/static/newsstand/2020/logo/light/0604/120.png\"},\"logoDark\":{\"url\":\"https://s.pstatic.net/static/newsstand/2020/logo/dark/0604/120.png\"},\"showThumbnailView\":true,\"showListView\":true,\"regDate\":\"20250818 16:01:06\",\"_id\":null,\"@type\":\"PC-NEWSSTAND-PRESS-BLOCK\",\"@code\":null,\"@template\":\"NONE\",\"@flowId\":null,\"@flowExecutionId\":null,\"@provider\":null,\"@lastModifiedAt\":null},{\"@type\":\"PC-NEWSSTAND-PRESS-BLOCK\",\"blocks\":null,\"materials\":null,\"excludeInPaging\":false,\"positionForPaging\":0,\"realtime\":false,\"pid\":\"241\",\"name\":\"일간스포츠\",\"logoLight\":{\"url\":\"https://s.pstatic.net/static/newsstand/up/2023/0112/nsd92558162.png\"},\"logoDark\":{\"url\":\"https://s.pstatic.net/static/newsstand/2020/logo/dark/0604/241.png\"},\"showThumbnailView\":true,\"showListView\":true,\"regDate\":\"20250818 13:26:07\",\"_id\":null,\"@type\":\"PC-NEWSSTAND-PRESS-BLOCK\",\"@code\":null,\"@template\":\"NONE\",\"@flowId\":null,\"@flowExecutionId\":null,\"@provider\":null,\"@lastModifiedAt\":null},{\"@type\":\"PC-NEWSSTAND-PRESS-BLOCK\",\"blocks\":null,\"materials\":null,\"excludeInPaging\":false,\"positionForPaging\":0,\"realtime\":false,\"pid\":\"363\",\"name\":\"동아사이언스\",\"logoLight\":{\"url\":\"https://s.pstatic.net/static/newsstand/up/2025/0418/nsd171358594.png\"},\"logoDark\":{\"url\":\"https://s.pstatic.net/static/newsstand/up/2025/0418/nsd171410616.png\"},\"showThumbnailView\":true,\"showListView\":true,\"regDate\":\"20250818 13:16:20\",\"_id\":null,\"@type\":\"PC-NEWSSTAND-PRESS-BLOCK\",\"@code\":null,\"@template\":\"NONE\",\"@flowId\":null,\"@flowExecutionId\":null,\"@provider\":null,\"@lastModifiedAt\":null},{\"@type\":\"PC-NEWSSTAND-PRESS-BLOCK\",\"blocks\":null,\"materials\":null,\"excludeInPaging\":false,\"positionForPaging\":0,\"realtime\":false,\"pid\":\"122\",\"name\":\"법률신문\",\"logoLight\":{\"url\":\"https://s.pstatic.net/static/newsstand/up/2022/1103/nsd124326426.png\"},\"logoDark\":{\"url\":\"https://s.pstatic.net/static/newsstand/up/2022/1103/nsd124320554.png\"},\"showThumbnailView\":true,\"showListView\":true,\"regDate\":\"20250818 14:02:38\",\"_id\":null,\"@type\":\"PC-NEWSSTAND-PRESS-BLOCK\",\"@code\":null,\"@template\":\"NONE\",\"@flowId\":null,\"@flowExecutionId\":null,\"@provider\":null,\"@lastModifiedAt\":null},{\"@type\":\"PC-NEWSSTAND-PRESS-BLOCK\",\"blocks\":null,\"materials\":null,\"excludeInPaging\":false,\"positionForPaging\":0,\"realtime\":false,\"pid\":\"243\",\"name\":\"이코노미스트\",\"logoLight\":{\"url\":\"https://s.pstatic.net/static/newsstand/up/2025/0418/nsd1875841.png\"},\"logoDark\":{\"url\":\"https://s.pstatic.net/static/newsstand/up/2025/0418/nsd18718795.png\"},\"showThumbnailView\":true,\"showListView\":true,\"regDate\":\"20250818 13:27:11\",\"_id\":null,\"@type\":\"PC-NEWSSTAND-PRESS-BLOCK\",\"@code\":null,\"@template\":\"NONE\",\"@flowId\":null,\"@flowExecutionId\":null,\"@provider\":null,\"@lastModifiedAt\":null},{\"@type\":\"PC-NEWSSTAND-PRESS-BLOCK\",\"blocks\":null,\"materials\":null,\"excludeInPaging\":false,\"positionForPaging\":0,\"realtime\":false,\"pid\":\"364\",\"name\":\"디지털포스트(PC사랑)\",\"logoLight\":{\"url\":\"https://s.pstatic.net/static/newsstand/up/2024/1121/nsd174657186.png\"},\"logoDark\":{\"url\":\"https://s.pstatic.net/static/newsstand/up/2024/1121/nsd174650998.png\"},\"showThumbnailView\":true,\"showListView\":true,\"regDate\":\"20250818 16:01:05\",\"_id\":null,\"@type\":\"PC-NEWSSTAND-PRESS-BLOCK\",\"@code\":null,\"@template\":\"NONE\",\"@flowId\":null,\"@flowExecutionId\":null,\"@provider\":null,\"@lastModifiedAt\":null},{\"@type\":\"PC-NEWSSTAND-PRESS-BLOCK\",\"blocks\":null,\"materials\":null,\"excludeInPaging\":false,\"positionForPaging\":0,\"realtime\":false,\"pid\":\"002\",\"name\":\"프레시안\",\"logoLight\":{\"url\":\"https://s.pstatic.net/static/newsstand/up/2025/0421/nsd113059820.png\"},\"logoDark\":{\"url\":\"https://s.pstatic.net/static/newsstand/up/2025/0421/nsd113113968.png\"},\"showThumbnailView\":true,\"showListView\":true,\"regDate\":\"20250818 15:58:05\",\"_id\":null,\"@type\":\"PC-NEWSSTAND-PRESS-BLOCK\",\"@code\":null,\"@template\":\"NONE\",\"@flowId\":null,\"@flowExecutionId\":null,\"@provider\":null,\"@lastModifiedAt\":null},{\"@type\":\"PC-NEWSSTAND-PRESS-BLOCK\",\"blocks\":null,\"materials\":null,\"excludeInPaging\":false,\"positionForPaging\":0,\"realtime\":false,\"pid\":\"123\",\"name\":\"조세일보\",\"logoLight\":{\"url\":\"https://s.pstatic.net/static/newsstand/up/2025/0418/nsd18119444.png\"},\"logoDark\":{\"url\":\"https://s.pstatic.net/static/newsstand/up/2025/0418/nsd181123257.png\"},\"showThumbnailView\":true,\"showListView\":true,\"regDate\":\"20250818 15:55:18\",\"_id\":null,\"@type\":\"PC-NEWSSTAND-PRESS-BLOCK\",\"@code\":null,\"@template\":\"NONE\",\"@flowId\":null,\"@flowExecutionId\":null,\"@provider\":null,\"@lastModifiedAt\":null},{\"@type\":\"PC-NEWSSTAND-PRESS-BLOCK\",\"blocks\":null,\"materials\":null,\"excludeInPaging\":false,\"positionForPaging\":0,\"realtime\":false,\"pid\":\"003\",\"name\":\"뉴시스\",\"logoLight\":{\"url\":\"https://s.pstatic.net/static/newsstand/up/2025/0418/nsd17349214.png\"},\"logoDark\":{\"url\":\"https://s.pstatic.net/static/newsstand/up/2025/0418/nsd1742154.png\"},\"showThumbnailView\":true,\"showListView\":true,\"regDate\":\"20250818 16:09:28\",\"_id\":null,\"@type\":\"PC-NEWSSTAND-PRESS-BLOCK\",\"@code\":null,\"@template\":\"NONE\",\"@flowId\":null,\"@flowExecutionId\":null,\"@provider\":null,\"@lastModifiedAt\":null},{\"@type\":\"PC-NEWSSTAND-PRESS-BLOCK\",\"blocks\":null,\"materials\":null,\"excludeInPaging\":false,\"positionForPaging\":0,\"realtime\":false,\"pid\":\"366\",\"name\":\"조선비즈\",\"logoLight\":{\"url\":\"https://s.pstatic.net/static/newsstand/up/2025/0418/nsd1891202.png\"},\"logoDark\":{\"url\":\"https://s.pstatic.net/static/newsstand/up/2025/0418/nsd18915842.png\"},\"showThumbnailView\":true,\"showListView\":true,\"regDate\":\"20250818 15:56:39\",\"_id\":null,\"@type\":\"PC-NEWSSTAND-PRESS-BLOCK\",\"@code\":null,\"@template\":\"NONE\",\"@flowId\":null,\"@flowExecutionId\":null,\"@provider\":null,\"@lastModifiedAt\":null},{\"@type\":\"PC-NEWSSTAND-PRESS-BLOCK\",\"blocks\":null,\"materials\":null,\"excludeInPaging\":false,\"positionForPaging\":0,\"realtime\":false,\"pid\":\"005\",\"name\":\"국민일보\",\"logoLight\":{\"url\":\"https://s.pstatic.net/static/newsstand/up/2025/0418/nsd165523873.png\"},\"logoDark\":{\"url\":\"https://s.pstatic.net/static/newsstand/up/2025/0418/nsd165538205.png\"},\"showThumbnailView\":true,\"showListView\":true,\"regDate\":\"20250818 15:55:23\",\"_id\":null,\"@type\":\"PC-NEWSSTAND-PRESS-BLOCK\",\"@code\":null,\"@template\":\"NONE\",\"@flowId\":null,\"@flowExecutionId\":null,\"@provider\":null,\"@lastModifiedAt\":null},{\"@type\":\"PC-NEWSSTAND-PRESS-BLOCK\",\"blocks\":null,\"materials\":null,\"excludeInPaging\":false,\"positionForPaging\":0,\"realtime\":false,\"pid\":\"368\",\"name\":\"데일리안\",\"logoLight\":{\"url\":\"https://s.pstatic.net/static/newsstand/up/2025/0418/nsd17819300.png\"},\"logoDark\":{\"url\":\"https://s.pstatic.net/static/newsstand/up/2025/0418/nsd17834561.png\"},\"showThumbnailView\":true,\"showListView\":true,\"regDate\":\"20250818 15:43:14\",\"_id\":null,\"@type\":\"PC-NEWSSTAND-PRESS-BLOCK\",\"@code\":null,\"@template\":\"NONE\",\"@flowId\":null,\"@flowExecutionId\":null,\"@provider\":null,\"@lastModifiedAt\":null},{\"@type\":\"PC-NEWSSTAND-PRESS-BLOCK\",\"blocks\":null,\"materials\":null,\"excludeInPaging\":false,\"positionForPaging\":0,\"realtime\":false,\"pid\":\"006\",\"name\":\"미디어오늘\",\"logoLight\":{\"url\":\"https://s.pstatic.net/static/newsstand/up/2025/0418/nsd17414424.png\"},\"logoDark\":{\"url\":\"https://s.pstatic.net/static/newsstand/up/2025/0418/nsd174159582.png\"},\"showThumbnailView\":true,\"showListView\":true,\"regDate\":\"20250818 16:10:02\",\"_id\":null,\"@type\":\"PC-NEWSSTAND-PRESS-BLOCK\",\"@code\":null,\"@template\":\"NONE\",\"@flowId\":null,\"@flowExecutionId\":null,\"@provider\":null,\"@lastModifiedAt\":null},{\"@type\":\"PC-NEWSSTAND-PRESS-BLOCK\",\"blocks\":null,\"materials\":null,\"excludeInPaging\":false,\"positionForPaging\":0,\"realtime\":false,\"pid\":\"920\",\"name\":\"아시아투데이\",\"logoLight\":{\"url\":\"https://s.pstatic.net/static/newsstand/2020/logo/light/0604/920.png\"},\"logoDark\":{\"url\":\"https://s.pstatic.net/static/newsstand/2020/logo/dark/0604/920.png\"},\"showThumbnailView\":true,\"showListView\":true,\"regDate\":\"20250818 15:58:12\",\"_id\":null,\"@type\":\"PC-NEWSSTAND-PRESS-BLOCK\",\"@code\":null,\"@template\":\"NONE\",\"@flowId\":null,\"@flowExecutionId\":null,\"@provider\":null,\"@lastModifiedAt\":null},{\"@type\":\"PC-NEWSSTAND-PRESS-BLOCK\",\"blocks\":null,\"materials\":null,\"excludeInPaging\":false,\"positionForPaging\":0,\"realtime\":false,\"pid\":\"008\",\"name\":\"머니투데이\",\"logoLight\":{\"url\":\"https://s.pstatic.net/static/newsstand/up/2025/0418/nsd173935353.png\"},\"logoDark\":{\"url\":\"https://s.pstatic.net/static/newsstand/up/2025/0418/nsd173950592.png\"},\"showThumbnailView\":true,\"showListView\":true,\"regDate\":\"20250818 16:05:04\",\"_id\":null,\"@type\":\"PC-NEWSSTAND-PRESS-BLOCK\",\"@code\":null,\"@template\":\"NONE\",\"@flowId\":null,\"@flowExecutionId\":null,\"@provider\":null,\"@lastModifiedAt\":null},{\"@type\":\"PC-NEWSSTAND-PRESS-BLOCK\",\"blocks\":null,\"materials\":null,\"excludeInPaging\":false,\"positionForPaging\":0,\"realtime\":false,\"pid\":\"921\",\"name\":\"아주경제\",\"logoLight\":{\"url\":\"https://s.pstatic.net/static/newsstand/up/2023/0731/nsd13387289.png\"},\"logoDark\":{\"url\":\"https://s.pstatic.net/static/newsstand/up/2023/0731/nsd133759965.png\"},\"showThumbnailView\":true,\"showListView\":true,\"regDate\":\"20250818 16:12:02\",\"_id\":null,\"@type\":\"PC-NEWSSTAND-PRESS-BLOCK\",\"@code\":null,\"@template\":\"NONE\",\"@flowId\":null,\"@flowExecutionId\":null,\"@provider\":null,\"@lastModifiedAt\":null},{\"@type\":\"PC-NEWSSTAND-PRESS-BLOCK\",\"blocks\":null,\"materials\":null,\"excludeInPaging\":false,\"positionForPaging\":0,\"realtime\":false,\"pid\":\"009\",\"name\":\"매일경제\",\"logoLight\":{\"url\":\"https://s.pstatic.net/static/newsstand/up/2025/0418/nsd173553657.png\"},\"logoDark\":{\"url\":\"https://s.pstatic.net/static/newsstand/up/2025/0418/nsd17369120.png\"},\"showThumbnailView\":true,\"showListView\":true,\"regDate\":\"20250818 16:05:08\",\"_id\":null,\"@type\":\"PC-NEWSSTAND-PRESS-BLOCK\",\"@code\":null,\"@template\":\"NONE\",\"@flowId\":null,\"@flowExecutionId\":null,\"@provider\":null,\"@lastModifiedAt\":null},{\"@type\":\"PC-NEWSSTAND-PRESS-BLOCK\",\"blocks\":null,\"materials\":null,\"excludeInPaging\":false,\"positionForPaging\":0,\"realtime\":false,\"pid\":\"801\",\"name\":\"위키리크스한국\",\"logoLight\":{\"url\":\"https://s.pstatic.net/static/newsstand/2020/logo/light/0604/801.png\"},\"logoDark\":{\"url\":\"https://s.pstatic.net/static/newsstand/2020/logo/dark/0604/801.png\"},\"showThumbnailView\":true,\"showListView\":true,\"regDate\":\"20250818 16:10:08\",\"_id\":null,\"@type\":\"PC-NEWSSTAND-PRESS-BLOCK\",\"@code\":null,\"@template\":\"NONE\",\"@flowId\":null,\"@flowExecutionId\":null,\"@provider\":null,\"@lastModifiedAt\":null},{\"@type\":\"PC-NEWSSTAND-PRESS-BLOCK\",\"blocks\":null,\"materials\":null,\"excludeInPaging\":false,\"positionForPaging\":0,\"realtime\":false,\"pid\":\"922\",\"name\":\"이투데이\",\"logoLight\":{\"url\":\"https://s.pstatic.net/static/newsstand/2020/logo/light/0604/922.png\"},\"logoDark\":{\"url\":\"https://s.pstatic.net/static/newsstand/2020/logo/dark/0604/922.png\"},\"showThumbnailView\":true,\"showListView\":true,\"regDate\":\"20250818 16:02:09\",\"_id\":null,\"@type\":\"PC-NEWSSTAND-PRESS-BLOCK\",\"@code\":null,\"@template\":\"NONE\",\"@flowId\":null,\"@flowExecutionId\":null,\"@provider\":null,\"@lastModifiedAt\":null},{\"@type\":\"PC-NEWSSTAND-PRESS-BLOCK\",\"blocks\":null,\"materials\":null,\"excludeInPaging\":false,\"positionForPaging\":0,\"realtime\":false,\"pid\":\"802\",\"name\":\"스포츠Q\",\"logoLight\":{\"url\":\"https://s.pstatic.net/static/newsstand/2020/logo/light/0604/802.png\"},\"logoDark\":{\"url\":\"https://s.pstatic.net/static/newsstand/2020/logo/dark/0604/802.png\"},\"showThumbnailView\":true,\"showListView\":true,\"regDate\":\"20250818 16:00:10\",\"_id\":null,\"@type\":\"PC-NEWSSTAND-PRESS-BLOCK\",\"@code\":null,\"@template\":\"NONE\",\"@flowId\":null,\"@flowExecutionId\":null,\"@provider\":null,\"@lastModifiedAt\":null},{\"@type\":\"PC-NEWSSTAND-PRESS-BLOCK\",\"blocks\":null,\"materials\":null,\"excludeInPaging\":false,\"positionForPaging\":0,\"realtime\":false,\"pid\":\"923\",\"name\":\"인민망\",\"logoLight\":{\"url\":\"https://s.pstatic.net/static/newsstand/2020/logo/light/0604/923.png\"},\"logoDark\":{\"url\":\"https://s.pstatic.net/static/newsstand/2020/logo/dark/0604/923.png\"},\"showThumbnailView\":true,\"showListView\":true,\"regDate\":\"20250818 12:30:04\",\"_id\":null,\"@type\":\"PC-NEWSSTAND-PRESS-BLOCK\",\"@code\":null,\"@template\":\"NONE\",\"@flowId\":null,\"@flowExecutionId\":null,\"@provider\":null,\"@lastModifiedAt\":null},{\"@type\":\"PC-NEWSSTAND-PRESS-BLOCK\",\"blocks\":null,\"materials\":null,\"excludeInPaging\":false,\"positionForPaging\":0,\"realtime\":false,\"pid\":\"803\",\"name\":\"인더스트리뉴스\",\"logoLight\":{\"url\":\"https://s.pstatic.net/static/newsstand/up/2021/0907/nsd9423633.png\"},\"logoDark\":{\"url\":\"https://s.pstatic.net/static/newsstand/up/2021/0907/nsd94216114.png\"},\"showThumbnailView\":true,\"showListView\":true,\"regDate\":\"20250818 16:10:10\",\"_id\":null,\"@type\":\"PC-NEWSSTAND-PRESS-BLOCK\",\"@code\":null,\"@template\":\"NONE\",\"@flowId\":null,\"@flowExecutionId\":null,\"@provider\":null,\"@lastModifiedAt\":null},{\"@type\":\"PC-NEWSSTAND-PRESS-BLOCK\",\"blocks\":null,\"materials\":null,\"excludeInPaging\":false,\"positionForPaging\":0,\"realtime\":false,\"pid\":\"924\",\"name\":\"인벤\",\"logoLight\":{\"url\":\"https://s.pstatic.net/static/newsstand/up/2025/0421/nsd122024363.png\"},\"logoDark\":{\"url\":\"https://s.pstatic.net/static/newsstand/up/2025/0421/nsd122015588.png\"},\"showThumbnailView\":true,\"showListView\":true,\"regDate\":\"20250818 15:10:15\",\"_id\":null,\"@type\":\"PC-NEWSSTAND-PRESS-BLOCK\",\"@code\":null,\"@template\":\"NONE\",\"@flowId\":null,\"@flowExecutionId\":null,\"@provider\":null,\"@lastModifiedAt\":null},{\"@type\":\"PC-NEWSSTAND-PRESS-BLOCK\",\"blocks\":null,\"materials\":null,\"excludeInPaging\":false,\"positionForPaging\":0,\"realtime\":false,\"pid\":\"804\",\"name\":\"데이터뉴스\",\"logoLight\":{\"url\":\"https://s.pstatic.net/static/newsstand/2020/logo/light/0604/804.png\"},\"logoDark\":{\"url\":\"https://s.pstatic.net/static/newsstand/2020/logo/dark/0604/804.png\"},\"showThumbnailView\":true,\"showListView\":true,\"regDate\":\"20250818 15:00:02\",\"_id\":null,\"@type\":\"PC-NEWSSTAND-PRESS-BLOCK\",\"@code\":null,\"@template\":\"NONE\",\"@flowId\":null,\"@flowExecutionId\":null,\"@provider\":null,\"@lastModifiedAt\":null},{\"@type\":\"PC-NEWSSTAND-PRESS-BLOCK\",\"blocks\":null,\"materials\":null,\"excludeInPaging\":false,\"positionForPaging\":0,\"realtime\":false,\"pid\":\"925\",\"name\":\"일요신문\",\"logoLight\":{\"url\":\"https://s.pstatic.net/static/newsstand/2020/logo/light/0604/925.png\"},\"logoDark\":{\"url\":\"https://s.pstatic.net/static/newsstand/2020/logo/dark/0604/925.png\"},\"showThumbnailView\":true,\"showListView\":true,\"regDate\":\"20250818 11:40:08\",\"_id\":null,\"@type\":\"PC-NEWSSTAND-PRESS-BLOCK\",\"@code\":null,\"@template\":\"NONE\",\"@flowId\":null,\"@flowExecutionId\":null,\"@provider\":null,\"@lastModifiedAt\":null},{\"@type\":\"PC-NEWSSTAND-PRESS-BLOCK\",\"blocks\":null,\"materials\":null,\"excludeInPaging\":false,\"positionForPaging\":0,\"realtime\":false,\"pid\":\"805\",\"name\":\"한경잡앤조이\",\"logoLight\":{\"url\":\"https://s.pstatic.net/static/newsstand/up/2020/0615/nsd10319824.png\"},\"logoDark\":{\"url\":\"https://s.pstatic.net/static/newsstand/up/2020/0615/nsd10311145.png\"},\"showThumbnailView\":true,\"showListView\":true,\"regDate\":\"20250818 09:44:32\",\"_id\":null,\"@type\":\"PC-NEWSSTAND-PRESS-BLOCK\",\"@code\":null,\"@template\":\"NONE\",\"@flowId\":null,\"@flowExecutionId\":null,\"@provider\":null,\"@lastModifiedAt\":null},{\"@type\":\"PC-NEWSSTAND-PRESS-BLOCK\",\"blocks\":null,\"materials\":null,\"excludeInPaging\":false,\"positionForPaging\":0,\"realtime\":false,\"pid\":\"926\",\"name\":\"중부일보\",\"logoLight\":{\"url\":\"https://s.pstatic.net/static/newsstand/up/2025/0512/nsd155319792.png\"},\"logoDark\":{\"url\":\"https://s.pstatic.net/static/newsstand/up/2025/0512/nsd155341133.png\"},\"showThumbnailView\":true,\"showListView\":true,\"regDate\":\"20250818 14:05:46\",\"_id\":null,\"@type\":\"PC-NEWSSTAND-PRESS-BLOCK\",\"@code\":null,\"@template\":\"NONE\",\"@flowId\":null,\"@flowExecutionId\":null,\"@provider\":null,\"@lastModifiedAt\":null},{\"@type\":\"PC-NEWSSTAND-PRESS-BLOCK\",\"blocks\":null,\"materials\":null,\"excludeInPaging\":false,\"positionForPaging\":0,\"realtime\":false,\"pid\":\"806\",\"name\":\"한경머니\",\"logoLight\":{\"url\":\"https://s.pstatic.net/static/newsstand/up/2024/0531/nsd115428801.png\"},\"logoDark\":{\"url\":\"https://s.pstatic.net/static/newsstand/up/2024/0531/nsd115449376.png\"},\"showThumbnailView\":true,\"showListView\":true,\"regDate\":\"20250818 09:47:27\",\"_id\":null,\"@type\":\"PC-NEWSSTAND-PRESS-BLOCK\",\"@code\":null,\"@template\":\"NONE\",\"@flowId\":null,\"@flowExecutionId\":null,\"@provider\":null,\"@lastModifiedAt\":null},{\"@type\":\"PC-NEWSSTAND-PRESS-BLOCK\",\"blocks\":null,\"materials\":null,\"excludeInPaging\":false,\"positionForPaging\":0,\"realtime\":false,\"pid\":\"927\",\"name\":\"충북일보\",\"logoLight\":{\"url\":\"https://s.pstatic.net/static/newsstand/2020/logo/light/0604/927.png\"},\"logoDark\":{\"url\":\"https://s.pstatic.net/static/newsstand/2020/logo/dark/0604/927.png\"},\"showThumbnailView\":true,\"showListView\":true,\"regDate\":\"20250817 23:43:43\",\"_id\":null,\"@type\":\"PC-NEWSSTAND-PRESS-BLOCK\",\"@code\":null,\"@template\":\"NONE\",\"@flowId\":null,\"@flowExecutionId\":null,\"@provider\":null,\"@lastModifiedAt\":null},{\"@type\":\"PC-NEWSSTAND-PRESS-BLOCK\",\"blocks\":null,\"materials\":null,\"excludeInPaging\":false,\"positionForPaging\":0,\"realtime\":false,\"pid\":\"807\",\"name\":\"인사이트코리아\",\"logoLight\":{\"url\":\"https://s.pstatic.net/static/newsstand/2020/logo/light/0604/807.png\"},\"logoDark\":{\"url\":\"https://s.pstatic.net/static/newsstand/2020/logo/dark/0604/807.png\"},\"showThumbnailView\":true,\"showListView\":true,\"regDate\":\"20250818 16:00:28\",\"_id\":null,\"@type\":\"PC-NEWSSTAND-PRESS-BLOCK\",\"@code\":null,\"@template\":\"NONE\",\"@flowId\":null,\"@flowExecutionId\":null,\"@provider\":null,\"@lastModifiedAt\":null},{\"@type\":\"PC-NEWSSTAND-PRESS-BLOCK\",\"blocks\":null,\"materials\":null,\"excludeInPaging\":false,\"positionForPaging\":0,\"realtime\":false,\"pid\":\"928\",\"name\":\"컴퓨터월드\",\"logoLight\":{\"url\":\"https://s.pstatic.net/static/newsstand/2020/logo/light/0604/928.png\"},\"logoDark\":{\"url\":\"https://s.pstatic.net/static/newsstand/2020/logo/dark/0604/928.png\"},\"showThumbnailView\":true,\"showListView\":true,\"regDate\":\"20250731 12:00:12\",\"_id\":null,\"@type\":\"PC-NEWSSTAND-PRESS-BLOCK\",\"@code\":null,\"@template\":\"NONE\",\"@flowId\":null,\"@flowExecutionId\":null,\"@provider\":null,\"@lastModifiedAt\":null},{\"@type\":\"PC-NEWSSTAND-PRESS-BLOCK\",\"blocks\":null,\"materials\":null,\"excludeInPaging\":false,\"positionForPaging\":0,\"realtime\":false,\"pid\":\"808\",\"name\":\"산업일보\",\"logoLight\":{\"url\":\"https://s.pstatic.net/static/newsstand/2020/logo/light/0604/808.png\"},\"logoDark\":{\"url\":\"https://s.pstatic.net/static/newsstand/2020/logo/dark/0604/808.png\"},\"showThumbnailView\":true,\"showListView\":true,\"regDate\":\"20250818 16:03:05\",\"_id\":null,\"@type\":\"PC-NEWSSTAND-PRESS-BLOCK\",\"@code\":null,\"@template\":\"NONE\",\"@flowId\":null,\"@flowExecutionId\":null,\"@provider\":null,\"@lastModifiedAt\":null},{\"@type\":\"PC-NEWSSTAND-PRESS-BLOCK\",\"blocks\":null,\"materials\":null,\"excludeInPaging\":false,\"positionForPaging\":0,\"realtime\":false,\"pid\":\"809\",\"name\":\"미디어펜\",\"logoLight\":{\"url\":\"https://s.pstatic.net/static/newsstand/2020/logo/light/0604/809.png\"},\"logoDark\":{\"url\":\"https://s.pstatic.net/static/newsstand/2020/logo/dark/0604/809.png\"},\"showThumbnailView\":true,\"showListView\":true,\"regDate\":\"20250817 17:11:31\",\"_id\":null,\"@type\":\"PC-NEWSSTAND-PRESS-BLOCK\",\"@code\":null,\"@template\":\"NONE\",\"@flowId\":null,\"@flowExecutionId\":null,\"@provider\":null,\"@lastModifiedAt\":null},{\"@type\":\"PC-NEWSSTAND-PRESS-BLOCK\",\"blocks\":null,\"materials\":null,\"excludeInPaging\":false,\"positionForPaging\":0,\"realtime\":false,\"pid\":\"011\",\"name\":\"서울경제\",\"logoLight\":{\"url\":\"https://s.pstatic.net/static/newsstand/up/2025/0418/nsd174559608.png\"},\"logoDark\":{\"url\":\"https://s.pstatic.net/static/newsstand/up/2025/0418/nsd174615810.png\"},\"showThumbnailView\":true,\"showListView\":true,\"regDate\":\"20250818 16:11:16\",\"_id\":null,\"@type\":\"PC-NEWSSTAND-PRESS-BLOCK\",\"@code\":null,\"@template\":\"NONE\",\"@flowId\":null,\"@flowExecutionId\":null,\"@provider\":null,\"@lastModifiedAt\":null},{\"@type\":\"PC-NEWSSTAND-PRESS-BLOCK\",\"blocks\":null,\"materials\":null,\"excludeInPaging\":false,\"positionForPaging\":0,\"realtime\":false,\"pid\":\"374\",\"name\":\"SBS Biz\",\"logoLight\":{\"url\":\"https://s.pstatic.net/static/newsstand/up/2025/0418/nsd161857755.png\"},\"logoDark\":{\"url\":\"https://s.pstatic.net/static/newsstand/up/2025/0418/nsd161857755.png\"},\"showThumbnailView\":true,\"showListView\":true,\"regDate\":\"20250818 15:37:42\",\"_id\":null,\"@type\":\"PC-NEWSSTAND-PRESS-BLOCK\",\"@code\":null,\"@template\":\"NONE\",\"@flowId\":null,\"@flowExecutionId\":null,\"@provider\":null,\"@lastModifiedAt\":null},{\"@type\":\"PC-NEWSSTAND-PRESS-BLOCK\",\"blocks\":null,\"materials\":null,\"excludeInPaging\":false,\"positionForPaging\":0,\"realtime\":false,\"pid\":\"013\",\"name\":\"연합인포맥스\",\"logoLight\":{\"url\":\"https://s.pstatic.net/static/newsstand/2020/logo/light/0604/013.png\"},\"logoDark\":{\"url\":\"https://s.pstatic.net/static/newsstand/2020/logo/dark/0604/013.png\"},\"showThumbnailView\":true,\"showListView\":true,\"regDate\":\"20250818 16:00:44\",\"_id\":null,\"@type\":\"PC-NEWSSTAND-PRESS-BLOCK\",\"@code\":null,\"@template\":\"NONE\",\"@flowId\":null,\"@flowExecutionId\":null,\"@provider\":null,\"@lastModifiedAt\":null},{\"@type\":\"PC-NEWSSTAND-PRESS-BLOCK\",\"blocks\":null,\"materials\":null,\"excludeInPaging\":false,\"positionForPaging\":0,\"realtime\":false,\"pid\":\"376\",\"name\":\"지지통신\",\"logoLight\":{\"url\":\"https://s.pstatic.net/static/newsstand/2020/logo/light/0604/376.png\"},\"logoDark\":{\"url\":\"https://s.pstatic.net/static/newsstand/2020/logo/dark/0604/376.png\"},\"showThumbnailView\":true,\"showListView\":true,\"regDate\":\"20250818 15:10:03\",\"_id\":null,\"@type\":\"PC-NEWSSTAND-PRESS-BLOCK\",\"@code\":null,\"@template\":\"NONE\",\"@flowId\":null,\"@flowExecutionId\":null,\"@provider\":null,\"@lastModifiedAt\":null},{\"@type\":\"PC-NEWSSTAND-PRESS-BLOCK\",\"blocks\":null,\"materials\":null,\"excludeInPaging\":false,\"positionForPaging\":0,\"realtime\":false,\"pid\":\"014\",\"name\":\"파이낸셜뉴스\",\"logoLight\":{\"url\":\"https://s.pstatic.net/static/newsstand/up/2025/0418/nsd182326399.png\"},\"logoDark\":{\"url\":\"https://s.pstatic.net/static/newsstand/up/2025/0418/nsd182338294.png\"},\"showThumbnailView\":true,\"showListView\":true,\"regDate\":\"20250818 15:51:13\",\"_id\":null,\"@type\":\"PC-NEWSSTAND-PRESS-BLOCK\",\"@code\":null,\"@template\":\"NONE\",\"@flowId\":null,\"@flowExecutionId\":null,\"@provider\":null,\"@lastModifiedAt\":null},{\"@type\":\"PC-NEWSSTAND-PRESS-BLOCK\",\"blocks\":null,\"materials\":null,\"excludeInPaging\":false,\"positionForPaging\":0,\"realtime\":false,\"pid\":\"135\",\"name\":\"시사저널\",\"logoLight\":{\"url\":\"https://s.pstatic.net/static/newsstand/up/2025/0418/nsd175014923.png\"},\"logoDark\":{\"url\":\"https://s.pstatic.net/static/newsstand/up/2025/0418/nsd175026897.png\"},\"showThumbnailView\":true,\"showListView\":true,\"regDate\":\"20250818 16:00:07\",\"_id\":null,\"@type\":\"PC-NEWSSTAND-PRESS-BLOCK\",\"@code\":null,\"@template\":\"NONE\",\"@flowId\":null,\"@flowExecutionId\":null,\"@provider\":null,\"@lastModifiedAt\":null},{\"@type\":\"PC-NEWSSTAND-PRESS-BLOCK\",\"blocks\":null,\"materials\":null,\"excludeInPaging\":false,\"positionForPaging\":0,\"realtime\":false,\"pid\":\"015\",\"name\":\"한국경제\",\"logoLight\":{\"url\":\"https://s.pstatic.net/static/newsstand/up/2025/0418/nsd182845526.png\"},\"logoDark\":{\"url\":\"https://s.pstatic.net/static/newsstand/up/2025/0418/nsd182857171.png\"},\"showThumbnailView\":true,\"showListView\":true,\"regDate\":\"20250818 16:03:48\",\"_id\":null,\"@type\":\"PC-NEWSSTAND-PRESS-BLOCK\",\"@code\":null,\"@template\":\"NONE\",\"@flowId\":null,\"@flowExecutionId\":null,\"@provider\":null,\"@lastModifiedAt\":null},{\"@type\":\"PC-NEWSSTAND-PRESS-BLOCK\",\"blocks\":null,\"materials\":null,\"excludeInPaging\":false,\"positionForPaging\":0,\"realtime\":false,\"pid\":\"016\",\"name\":\"헤럴드경제\",\"logoLight\":{\"url\":\"https://s.pstatic.net/static/newsstand/up/2025/0418/nsd183149251.png\"},\"logoDark\":{\"url\":\"https://s.pstatic.net/static/newsstand/up/2025/0418/nsd1832047.png\"},\"showThumbnailView\":true,\"showListView\":true,\"regDate\":\"20250818 15:56:14\",\"_id\":null,\"@type\":\"PC-NEWSSTAND-PRESS-BLOCK\",\"@code\":null,\"@template\":\"NONE\",\"@flowId\":null,\"@flowExecutionId\":null,\"@provider\":null,\"@lastModifiedAt\":null},{\"@type\":\"PC-NEWSSTAND-PRESS-BLOCK\",\"blocks\":null,\"materials\":null,\"excludeInPaging\":false,\"positionForPaging\":0,\"realtime\":false,\"pid\":\"138\",\"name\":\"디지털데일리\",\"logoLight\":{\"url\":\"https://s.pstatic.net/static/newsstand/up/2025/0418/nsd173217384.png\"},\"logoDark\":{\"url\":\"https://s.pstatic.net/static/newsstand/up/2025/0418/nsd173232634.png\"},\"showThumbnailView\":true,\"showListView\":true,\"regDate\":\"20250818 11:28:37\",\"_id\":null,\"@type\":\"PC-NEWSSTAND-PRESS-BLOCK\",\"@code\":null,\"@template\":\"NONE\",\"@flowId\":null,\"@flowExecutionId\":null,\"@provider\":null,\"@lastModifiedAt\":null},{\"@type\":\"PC-NEWSSTAND-PRESS-BLOCK\",\"blocks\":null,\"materials\":null,\"excludeInPaging\":false,\"positionForPaging\":0,\"realtime\":false,\"pid\":\"930\",\"name\":\"뉴스타파\",\"logoLight\":{\"url\":\"https://s.pstatic.net/static/newsstand/up/2025/0418/nsd17236863.png\"},\"logoDark\":{\"url\":\"https://s.pstatic.net/static/newsstand/up/2025/0418/nsd17254320.png\"},\"showThumbnailView\":true,\"showListView\":true,\"regDate\":\"20250818 16:12:28\",\"_id\":null,\"@type\":\"PC-NEWSSTAND-PRESS-BLOCK\",\"@code\":null,\"@template\":\"NONE\",\"@flowId\":null,\"@flowExecutionId\":null,\"@provider\":null,\"@lastModifiedAt\":null},{\"@type\":\"PC-NEWSSTAND-PRESS-BLOCK\",\"blocks\":null,\"materials\":null,\"excludeInPaging\":false,\"positionForPaging\":0,\"realtime\":false,\"pid\":\"018\",\"name\":\"이데일리\",\"logoLight\":{\"url\":\"https://s.pstatic.net/static/newsstand/up/2025/0418/nsd18551402.png\"},\"logoDark\":{\"url\":\"https://s.pstatic.net/static/newsstand/up/2025/0418/nsd1866881.png\"},\"showThumbnailView\":true,\"showListView\":true,\"regDate\":\"20250818 15:39:25\",\"_id\":null,\"@type\":\"PC-NEWSSTAND-PRESS-BLOCK\",\"@code\":null,\"@template\":\"NONE\",\"@flowId\":null,\"@flowExecutionId\":null,\"@provider\":null,\"@lastModifiedAt\":null},{\"@type\":\"PC-NEWSSTAND-PRESS-BLOCK\",\"blocks\":null,\"materials\":null,\"excludeInPaging\":false,\"positionForPaging\":0,\"realtime\":false,\"pid\":\"139\",\"name\":\"스포탈코리아\",\"logoLight\":{\"url\":\"https://s.pstatic.net/static/newsstand/2020/logo/light/0604/139.png\"},\"logoDark\":{\"url\":\"https://s.pstatic.net/static/newsstand/2020/logo/dark/0604/139.png\"},\"showThumbnailView\":true,\"showListView\":true,\"regDate\":\"20250818 16:01:08\",\"_id\":null,\"@type\":\"PC-NEWSSTAND-PRESS-BLOCK\",\"@code\":null,\"@template\":\"NONE\",\"@flowId\":null,\"@flowExecutionId\":null,\"@provider\":null,\"@lastModifiedAt\":null},{\"@type\":\"PC-NEWSSTAND-PRESS-BLOCK\",\"blocks\":null,\"materials\":null,\"excludeInPaging\":false,\"positionForPaging\":0,\"realtime\":false,\"pid\":\"810\",\"name\":\"신아일보\",\"logoLight\":{\"url\":\"https://s.pstatic.net/static/newsstand/up/2021/0316/nsd103953129.png\"},\"logoDark\":{\"url\":\"https://s.pstatic.net/static/newsstand/up/2021/0316/nsd104012979.png\"},\"showThumbnailView\":true,\"showListView\":true,\"regDate\":\"20250818 16:00:12\",\"_id\":null,\"@type\":\"PC-NEWSSTAND-PRESS-BLOCK\",\"@code\":null,\"@template\":\"NONE\",\"@flowId\":null,\"@flowExecutionId\":null,\"@provider\":null,\"@lastModifiedAt\":null},{\"@type\":\"PC-NEWSSTAND-PRESS-BLOCK\",\"blocks\":null,\"materials\":null,\"excludeInPaging\":false,\"positionForPaging\":0,\"realtime\":false,\"pid\":\"811\",\"name\":\"한국농어촌방송\",\"logoLight\":{\"url\":\"https://s.pstatic.net/static/newsstand/up/2022/0315/nsd181452869.png\"},\"logoDark\":{\"url\":\"https://s.pstatic.net/static/newsstand/up/2022/0315/nsd18156958.png\"},\"showThumbnailView\":true,\"showListView\":true,\"regDate\":\"20250818 16:00:29\",\"_id\":null,\"@type\":\"PC-NEWSSTAND-PRESS-BLOCK\",\"@code\":null,\"@template\":\"NONE\",\"@flowId\":null,\"@flowExecutionId\":null,\"@provider\":null,\"@lastModifiedAt\":null},{\"@type\":\"PC-NEWSSTAND-PRESS-BLOCK\",\"blocks\":null,\"materials\":null,\"excludeInPaging\":false,\"positionForPaging\":0,\"realtime\":false,\"pid\":\"932\",\"name\":\"CEO스코어데일리\",\"logoLight\":{\"url\":\"https://s.pstatic.net/static/newsstand/2020/logo/light/0604/932.png\"},\"logoDark\":{\"url\":\"https://s.pstatic.net/static/newsstand/2020/logo/dark/0604/932.png\"},\"showThumbnailView\":true,\"showListView\":true,\"regDate\":\"20250818 07:02:13\",\"_id\":null,\"@type\":\"PC-NEWSSTAND-PRESS-BLOCK\",\"@code\":null,\"@template\":\"NONE\",\"@flowId\":null,\"@flowExecutionId\":null,\"@provider\":null,\"@lastModifiedAt\":null},{\"@type\":\"PC-NEWSSTAND-PRESS-BLOCK\",\"blocks\":null,\"materials\":null,\"excludeInPaging\":false,\"positionForPaging\":0,\"realtime\":false,\"pid\":\"812\",\"name\":\"딜사이트 경제TV\",\"logoLight\":{\"url\":\"https://s.pstatic.net/static/newsstand/up/2024/0701/nsd105216680.png\"},\"logoDark\":{\"url\":\"https://s.pstatic.net/static/newsstand/up/2024/0701/nsd10529721.png\"},\"showThumbnailView\":true,\"showListView\":true,\"regDate\":\"20250818 16:10:01\",\"_id\":null,\"@type\":\"PC-NEWSSTAND-PRESS-BLOCK\",\"@code\":null,\"@template\":\"NONE\",\"@flowId\":null,\"@flowExecutionId\":null,\"@provider\":null,\"@lastModifiedAt\":null},{\"@type\":\"PC-NEWSSTAND-PRESS-BLOCK\",\"blocks\":null,\"materials\":null,\"excludeInPaging\":false,\"positionForPaging\":0,\"realtime\":false,\"pid\":\"813\",\"name\":\"이코노믹리뷰\",\"logoLight\":{\"url\":\"https://s.pstatic.net/static/newsstand/up/2022/0418/nsd164755323.png\"},\"logoDark\":{\"url\":\"https://s.pstatic.net/static/newsstand/up/2022/0418/nsd164818946.png\"},\"showThumbnailView\":true,\"showListView\":true,\"regDate\":\"20250818 16:00:30\",\"_id\":null,\"@type\":\"PC-NEWSSTAND-PRESS-BLOCK\",\"@code\":null,\"@template\":\"NONE\",\"@flowId\":null,\"@flowExecutionId\":null,\"@provider\":null,\"@lastModifiedAt\":null},{\"@type\":\"PC-NEWSSTAND-PRESS-BLOCK\",\"blocks\":null,\"materials\":null,\"excludeInPaging\":false,\"positionForPaging\":0,\"realtime\":false,\"pid\":\"934\",\"name\":\"Arirang TV\",\"logoLight\":{\"url\":\"https://s.pstatic.net/static/newsstand/2020/logo/light/0604/934.png\"},\"logoDark\":{\"url\":\"https://s.pstatic.net/static/newsstand/2020/logo/dark/0604/934.png\"},\"showThumbnailView\":true,\"showListView\":true,\"regDate\":\"20250818 12:19:41\",\"_id\":null,\"@type\":\"PC-NEWSSTAND-PRESS-BLOCK\",\"@code\":null,\"@template\":\"NONE\",\"@flowId\":null,\"@flowExecutionId\":null,\"@provider\":null,\"@lastModifiedAt\":null},{\"@type\":\"PC-NEWSSTAND-PRESS-BLOCK\",\"blocks\":null,\"materials\":null,\"excludeInPaging\":false,\"positionForPaging\":0,\"realtime\":false,\"pid\":\"814\",\"name\":\"미주한국일보\",\"logoLight\":{\"url\":\"https://s.pstatic.net/static/newsstand/2020/logo/light/0604/814.png\"},\"logoDark\":{\"url\":\"https://s.pstatic.net/static/newsstand/2020/logo/dark/0604/814.png\"},\"showThumbnailView\":true,\"showListView\":true,\"regDate\":\"20250818 12:00:34\",\"_id\":null,\"@type\":\"PC-NEWSSTAND-PRESS-BLOCK\",\"@code\":null,\"@template\":\"NONE\",\"@flowId\":null,\"@flowExecutionId\":null,\"@provider\":null,\"@lastModifiedAt\":null},{\"@type\":\"PC-NEWSSTAND-PRESS-BLOCK\",\"blocks\":null,\"materials\":null,\"excludeInPaging\":false,\"positionForPaging\":0,\"realtime\":false,\"pid\":\"935\",\"name\":\"경상일보\",\"logoLight\":{\"url\":\"https://s.pstatic.net/static/newsstand/2020/logo/light/0604/935.png\"},\"logoDark\":{\"url\":\"https://s.pstatic.net/static/newsstand/2020/logo/dark/0604/935.png\"},\"showThumbnailView\":true,\"showListView\":true,\"regDate\":\"20250818 00:17:26\",\"_id\":null,\"@type\":\"PC-NEWSSTAND-PRESS-BLOCK\",\"@code\":null,\"@template\":\"NONE\",\"@flowId\":null,\"@flowExecutionId\":null,\"@provider\":null,\"@lastModifiedAt\":null},{\"@type\":\"PC-NEWSSTAND-PRESS-BLOCK\",\"blocks\":null,\"materials\":null,\"excludeInPaging\":false,\"positionForPaging\":0,\"realtime\":false,\"pid\":\"815\",\"name\":\"법률방송뉴스\",\"logoLight\":{\"url\":\"https://s.pstatic.net/static/newsstand/2020/logo/light/0604/815.png\"},\"logoDark\":{\"url\":\"https://s.pstatic.net/static/newsstand/2020/logo/dark/0604/815.png\"},\"showThumbnailView\":true,\"showListView\":true,\"regDate\":\"20250818 16:00:30\",\"_id\":null,\"@type\":\"PC-NEWSSTAND-PRESS-BLOCK\",\"@code\":null,\"@template\":\"NONE\",\"@flowId\":null,\"@flowExecutionId\":null,\"@provider\":null,\"@lastModifiedAt\":null},{\"@type\":\"PC-NEWSSTAND-PRESS-BLOCK\",\"blocks\":null,\"materials\":null,\"excludeInPaging\":false,\"positionForPaging\":0,\"realtime\":false,\"pid\":\"936\",\"name\":\"대구일보\",\"logoLight\":{\"url\":\"https://s.pstatic.net/static/newsstand/2020/logo/light/0604/936.png\"},\"logoDark\":{\"url\":\"https://s.pstatic.net/static/newsstand/2020/logo/dark/0604/936.png\"},\"showThumbnailView\":true,\"showListView\":true,\"regDate\":\"20250818 16:01:05\",\"_id\":null,\"@type\":\"PC-NEWSSTAND-PRESS-BLOCK\",\"@code\":null,\"@template\":\"NONE\",\"@flowId\":null,\"@flowExecutionId\":null,\"@provider\":null,\"@lastModifiedAt\":null},{\"@type\":\"PC-NEWSSTAND-PRESS-BLOCK\",\"blocks\":null,\"materials\":null,\"excludeInPaging\":false,\"positionForPaging\":0,\"realtime\":false,\"pid\":\"816\",\"name\":\"시사오늘\",\"logoLight\":{\"url\":\"https://s.pstatic.net/static/newsstand/2020/logo/light/0604/816.png\"},\"logoDark\":{\"url\":\"https://s.pstatic.net/static/newsstand/2020/logo/dark/0604/816.png\"},\"showThumbnailView\":true,\"showListView\":true,\"regDate\":\"20250818 16:00:31\",\"_id\":null,\"@type\":\"PC-NEWSSTAND-PRESS-BLOCK\",\"@code\":null,\"@template\":\"NONE\",\"@flowId\":null,\"@flowExecutionId\":null,\"@provider\":null,\"@lastModifiedAt\":null},{\"@type\":\"PC-NEWSSTAND-PRESS-BLOCK\",\"blocks\":null,\"materials\":null,\"excludeInPaging\":false,\"positionForPaging\":0,\"realtime\":false,\"pid\":\"937\",\"name\":\"전북도민일보\",\"logoLight\":{\"url\":\"https://s.pstatic.net/static/newsstand/2020/logo/light/0604/937.png\"},\"logoDark\":{\"url\":\"https://s.pstatic.net/static/newsstand/2020/logo/dark/0604/937.png\"},\"showThumbnailView\":true,\"showListView\":true,\"regDate\":\"20250817 18:50:23\",\"_id\":null,\"@type\":\"PC-NEWSSTAND-PRESS-BLOCK\",\"@code\":null,\"@template\":\"NONE\",\"@flowId\":null,\"@flowExecutionId\":null,\"@provider\":null,\"@lastModifiedAt\":null},{\"@type\":\"PC-NEWSSTAND-PRESS-BLOCK\",\"blocks\":null,\"materials\":null,\"excludeInPaging\":false,\"positionForPaging\":0,\"realtime\":false,\"pid\":\"817\",\"name\":\"미디어제주\",\"logoLight\":{\"url\":\"https://s.pstatic.net/static/newsstand/2020/logo/light/0604/817.png\"},\"logoDark\":{\"url\":\"https://s.pstatic.net/static/newsstand/2020/logo/dark/0604/817.png\"},\"showThumbnailView\":true,\"showListView\":true,\"regDate\":\"20250818 16:00:32\",\"_id\":null,\"@type\":\"PC-NEWSSTAND-PRESS-BLOCK\",\"@code\":null,\"@template\":\"NONE\",\"@flowId\":null,\"@flowExecutionId\":null,\"@provider\":null,\"@lastModifiedAt\":null},{\"@type\":\"PC-NEWSSTAND-PRESS-BLOCK\",\"blocks\":null,\"materials\":null,\"excludeInPaging\":false,\"positionForPaging\":0,\"realtime\":false,\"pid\":\"938\",\"name\":\"그린포스트코리아\",\"logoLight\":{\"url\":\"https://s.pstatic.net/static/newsstand/2020/logo/light/0604/938.png\"},\"logoDark\":{\"url\":\"https://s.pstatic.net/static/newsstand/2020/logo/dark/0604/938.png\"},\"showThumbnailView\":true,\"showListView\":true,\"regDate\":\"20250818 16:00:48\",\"_id\":null,\"@type\":\"PC-NEWSSTAND-PRESS-BLOCK\",\"@code\":null,\"@template\":\"NONE\",\"@flowId\":null,\"@flowExecutionId\":null,\"@provider\":null,\"@lastModifiedAt\":null},{\"@type\":\"PC-NEWSSTAND-PRESS-BLOCK\",\"blocks\":null,\"materials\":null,\"excludeInPaging\":false,\"positionForPaging\":0,\"realtime\":false,\"pid\":\"818\",\"name\":\"IT동아\",\"logoLight\":{\"url\":\"https://s.pstatic.net/static/newsstand/2020/logo/light/0604/818.png\"},\"logoDark\":{\"url\":\"https://s.pstatic.net/static/newsstand/2020/logo/dark/0604/818.png\"},\"showThumbnailView\":true,\"showListView\":true,\"regDate\":\"20250818 15:02:52\",\"_id\":null,\"@type\":\"PC-NEWSSTAND-PRESS-BLOCK\",\"@code\":null,\"@template\":\"NONE\",\"@flowId\":null,\"@flowExecutionId\":null,\"@provider\":null,\"@lastModifiedAt\":null},{\"@type\":\"PC-NEWSSTAND-PRESS-BLOCK\",\"blocks\":null,\"materials\":null,\"excludeInPaging\":false,\"positionForPaging\":0,\"realtime\":false,\"pid\":\"819\",\"name\":\"바이라인네트워크\",\"logoLight\":{\"url\":\"https://s.pstatic.net/static/newsstand/2020/logo/light/0604/819.png\"},\"logoDark\":{\"url\":\"https://s.pstatic.net/static/newsstand/2020/logo/dark/0604/819.png\"},\"showThumbnailView\":true,\"showListView\":true,\"regDate\":\"20250818 15:14:15\",\"_id\":null,\"@type\":\"PC-NEWSSTAND-PRESS-BLOCK\",\"@code\":null,\"@template\":\"NONE\",\"@flowId\":null,\"@flowExecutionId\":null,\"@provider\":null,\"@lastModifiedAt\":null},{\"@type\":\"PC-NEWSSTAND-PRESS-BLOCK\",\"blocks\":null,\"materials\":null,\"excludeInPaging\":false,\"positionForPaging\":0,\"realtime\":false,\"pid\":\"140\",\"name\":\"씨네21\",\"logoLight\":{\"url\":\"https://s.pstatic.net/static/newsstand/2020/logo/light/0604/140.png\"},\"logoDark\":{\"url\":\"https://s.pstatic.net/static/newsstand/2020/logo/dark/0604/140.png\"},\"showThumbnailView\":true,\"showListView\":true,\"regDate\":\"20250818 16:00:00\",\"_id\":null,\"@type\":\"PC-NEWSSTAND-PRESS-BLOCK\",\"@code\":null,\"@template\":\"NONE\",\"@flowId\":null,\"@flowExecutionId\":null,\"@provider\":null,\"@lastModifiedAt\":null},{\"@type\":\"PC-NEWSSTAND-PRESS-BLOCK\",\"blocks\":null,\"materials\":null,\"excludeInPaging\":false,\"positionForPaging\":0,\"realtime\":false,\"pid\":\"020\",\"name\":\"동아일보\",\"logoLight\":{\"url\":\"https://s.pstatic.net/static/newsstand/up/2025/0418/nsd17313279.png\"},\"logoDark\":{\"url\":\"https://s.pstatic.net/static/newsstand/up/2025/0418/nsd173115317.png\"},\"showThumbnailView\":true,\"showListView\":true,\"regDate\":\"20250818 16:00:27\",\"_id\":null,\"@type\":\"PC-NEWSSTAND-PRESS-BLOCK\",\"@code\":null,\"@template\":\"NONE\",\"@flowId\":null,\"@flowExecutionId\":null,\"@provider\":null,\"@lastModifiedAt\":null},{\"@type\":\"PC-NEWSSTAND-PRESS-BLOCK\",\"blocks\":null,\"materials\":null,\"excludeInPaging\":false,\"positionForPaging\":0,\"realtime\":false,\"pid\":\"021\",\"name\":\"문화일보\",\"logoLight\":{\"url\":\"https://s.pstatic.net/static/newsstand/up/2025/0418/nsd174041516.png\"},\"logoDark\":{\"url\":\"https://s.pstatic.net/static/newsstand/up/2025/0418/nsd174052596.png\"},\"showThumbnailView\":true,\"showListView\":true,\"regDate\":\"20250818 16:12:05\",\"_id\":null,\"@type\":\"PC-NEWSSTAND-PRESS-BLOCK\",\"@code\":null,\"@template\":\"NONE\",\"@flowId\":null,\"@flowExecutionId\":null,\"@provider\":null,\"@lastModifiedAt\":null},{\"@type\":\"PC-NEWSSTAND-PRESS-BLOCK\",\"blocks\":null,\"materials\":null,\"excludeInPaging\":false,\"positionForPaging\":0,\"realtime\":false,\"pid\":\"384\",\"name\":\"한국대학신문\",\"logoLight\":{\"url\":\"https://s.pstatic.net/static/newsstand/2020/logo/light/0604/384.png\"},\"logoDark\":{\"url\":\"https://s.pstatic.net/static/newsstand/2020/logo/dark/0604/384.png\"},\"showThumbnailView\":true,\"showListView\":true,\"regDate\":\"20250818 16:00:06\",\"_id\":null,\"@type\":\"PC-NEWSSTAND-PRESS-BLOCK\",\"@code\":null,\"@template\":\"NONE\",\"@flowId\":null,\"@flowExecutionId\":null,\"@provider\":null,\"@lastModifiedAt\":null},{\"@type\":\"PC-NEWSSTAND-PRESS-BLOCK\",\"blocks\":null,\"materials\":null,\"excludeInPaging\":false,\"positionForPaging\":0,\"realtime\":false,\"pid\":\"022\",\"name\":\"세계일보\",\"logoLight\":{\"url\":\"https://s.pstatic.net/static/newsstand/up/2025/0418/nsd174812228.png\"},\"logoDark\":{\"url\":\"https://s.pstatic.net/static/newsstand/up/2025/0418/nsd174823953.png\"},\"showThumbnailView\":true,\"showListView\":true,\"regDate\":\"20250818 16:05:09\",\"_id\":null,\"@type\":\"PC-NEWSSTAND-PRESS-BLOCK\",\"@code\":null,\"@template\":\"NONE\",\"@flowId\":null,\"@flowExecutionId\":null,\"@provider\":null,\"@lastModifiedAt\":null},{\"@type\":\"PC-NEWSSTAND-PRESS-BLOCK\",\"blocks\":null,\"materials\":null,\"excludeInPaging\":false,\"positionForPaging\":0,\"realtime\":false,\"pid\":\"143\",\"name\":\"쿠키뉴스\",\"logoLight\":{\"url\":\"https://s.pstatic.net/static/newsstand/up/2025/0421/nsd111533869.png\"},\"logoDark\":{\"url\":\"https://s.pstatic.net/static/newsstand/up/2025/0421/nsd111551222.png\"},\"showThumbnailView\":true,\"showListView\":true,\"regDate\":\"20250818 15:33:18\",\"_id\":null,\"@type\":\"PC-NEWSSTAND-PRESS-BLOCK\",\"@code\":null,\"@template\":\"NONE\",\"@flowId\":null,\"@flowExecutionId\":null,\"@provider\":null,\"@lastModifiedAt\":null},{\"@type\":\"PC-NEWSSTAND-PRESS-BLOCK\",\"blocks\":null,\"materials\":null,\"excludeInPaging\":false,\"positionForPaging\":0,\"realtime\":false,\"pid\":\"385\",\"name\":\"영남일보\",\"logoLight\":{\"url\":\"https://s.pstatic.net/static/newsstand/2020/logo/light/0604/385.png\"},\"logoDark\":{\"url\":\"https://s.pstatic.net/static/newsstand/2020/logo/dark/0604/385.png\"},\"showThumbnailView\":true,\"showListView\":true,\"regDate\":\"20250818 16:00:10\",\"_id\":null,\"@type\":\"PC-NEWSSTAND-PRESS-BLOCK\",\"@code\":null,\"@template\":\"NONE\",\"@flowId\":null,\"@flowExecutionId\":null,\"@provider\":null,\"@lastModifiedAt\":null},{\"@type\":\"PC-NEWSSTAND-PRESS-BLOCK\",\"blocks\":null,\"materials\":null,\"excludeInPaging\":false,\"positionForPaging\":0,\"realtime\":false,\"pid\":\"023\",\"name\":\"조선일보\",\"logoLight\":{\"url\":\"https://s.pstatic.net/static/newsstand/up/2025/0418/nsd181012156.png\"},\"logoDark\":{\"url\":\"https://s.pstatic.net/static/newsstand/up/2025/0418/nsd181024126.png\"},\"showThumbnailView\":true,\"showListView\":true,\"regDate\":\"20250818 15:52:30\",\"_id\":null,\"@type\":\"PC-NEWSSTAND-PRESS-BLOCK\",\"@code\":null,\"@template\":\"NONE\",\"@flowId\":null,\"@flowExecutionId\":null,\"@provider\":null,\"@lastModifiedAt\":null},{\"@type\":\"PC-NEWSSTAND-PRESS-BLOCK\",\"blocks\":null,\"materials\":null,\"excludeInPaging\":false,\"positionForPaging\":0,\"realtime\":false,\"pid\":\"144\",\"name\":\"스포츠경향\",\"logoLight\":{\"url\":\"https://s.pstatic.net/static/newsstand/2020/logo/light/0604/144.png\"},\"logoDark\":{\"url\":\"https://s.pstatic.net/static/newsstand/2020/logo/dark/0604/144.png\"},\"showThumbnailView\":true,\"showListView\":true,\"regDate\":\"20250818 15:59:22\",\"_id\":null,\"@type\":\"PC-NEWSSTAND-PRESS-BLOCK\",\"@code\":null,\"@template\":\"NONE\",\"@flowId\":null,\"@flowExecutionId\":null,\"@provider\":null,\"@lastModifiedAt\":null},{\"@type\":\"PC-NEWSSTAND-PRESS-BLOCK\",\"blocks\":null,\"materials\":null,\"excludeInPaging\":false,\"positionForPaging\":0,\"realtime\":false,\"pid\":\"024\",\"name\":\"매경이코노미\",\"logoLight\":{\"url\":\"https://s.pstatic.net/static/newsstand/up/2025/0418/nsd173440524.png\"},\"logoDark\":{\"url\":\"https://s.pstatic.net/static/newsstand/up/2025/0418/nsd17345250.png\"},\"showThumbnailView\":true,\"showListView\":true,\"regDate\":\"20250818 16:12:01\",\"_id\":null,\"@type\":\"PC-NEWSSTAND-PRESS-BLOCK\",\"@code\":null,\"@template\":\"NONE\",\"@flowId\":null,\"@flowExecutionId\":null,\"@provider\":null,\"@lastModifiedAt\":null},{\"@type\":\"PC-NEWSSTAND-PRESS-BLOCK\",\"blocks\":null,\"materials\":null,\"excludeInPaging\":false,\"positionForPaging\":0,\"realtime\":false,\"pid\":\"387\",\"name\":\"인천일보\",\"logoLight\":{\"url\":\"https://s.pstatic.net/static/newsstand/up/2022/0331/nsd155937506.png\"},\"logoDark\":{\"url\":\"https://s.pstatic.net/static/newsstand/up/2022/0331/nsd15594915.png\"},\"showThumbnailView\":true,\"showListView\":true,\"regDate\":\"20250818 16:00:03\",\"_id\":null,\"@type\":\"PC-NEWSSTAND-PRESS-BLOCK\",\"@code\":null,\"@template\":\"NONE\",\"@flowId\":null,\"@flowExecutionId\":null,\"@provider\":null,\"@lastModifiedAt\":null},{\"@type\":\"PC-NEWSSTAND-PRESS-BLOCK\",\"blocks\":null,\"materials\":null,\"excludeInPaging\":false,\"positionForPaging\":0,\"realtime\":false,\"pid\":\"025\",\"name\":\"중앙일보\",\"logoLight\":{\"url\":\"https://s.pstatic.net/static/newsstand/up/2025/0418/nsd181542864.png\"},\"logoDark\":{\"url\":\"https://s.pstatic.net/static/newsstand/up/2025/0418/nsd181556674.png\"},\"showThumbnailView\":true,\"showListView\":true,\"regDate\":\"20250818 15:51:00\",\"_id\":null,\"@type\":\"PC-NEWSSTAND-PRESS-BLOCK\",\"@code\":null,\"@template\":\"NONE\",\"@flowId\":null,\"@flowExecutionId\":null,\"@provider\":null,\"@lastModifiedAt\":null},{\"@type\":\"PC-NEWSSTAND-PRESS-BLOCK\",\"blocks\":null,\"materials\":null,\"excludeInPaging\":false,\"positionForPaging\":0,\"realtime\":false,\"pid\":\"388\",\"name\":\"전남일보\",\"logoLight\":{\"url\":\"https://s.pstatic.net/static/newsstand/2020/logo/light/0604/388.png\"},\"logoDark\":{\"url\":\"https://s.pstatic.net/static/newsstand/2020/logo/dark/0604/388.png\"},\"showThumbnailView\":true,\"showListView\":true,\"regDate\":\"20250818 16:01:09\",\"_id\":null,\"@type\":\"PC-NEWSSTAND-PRESS-BLOCK\",\"@code\":null,\"@template\":\"NONE\",\"@flowId\":null,\"@flowExecutionId\":null,\"@provider\":null,\"@lastModifiedAt\":null},{\"@type\":\"PC-NEWSSTAND-PRESS-BLOCK\",\"blocks\":null,\"materials\":null,\"excludeInPaging\":false,\"positionForPaging\":0,\"realtime\":false,\"pid\":\"389\",\"name\":\"제주도민일보\",\"logoLight\":{\"url\":\"https://s.pstatic.net/static/newsstand/2020/logo/light/0604/389.png\"},\"logoDark\":{\"url\":\"https://s.pstatic.net/static/newsstand/2020/logo/dark/0604/389.png\"},\"showThumbnailView\":true,\"showListView\":true,\"regDate\":\"20250818 16:00:35\",\"_id\":null,\"@type\":\"PC-NEWSSTAND-PRESS-BLOCK\",\"@code\":null,\"@template\":\"NONE\",\"@flowId\":null,\"@flowExecutionId\":null,\"@provider\":null,\"@lastModifiedAt\":null},{\"@type\":\"PC-NEWSSTAND-PRESS-BLOCK\",\"blocks\":null,\"materials\":null,\"excludeInPaging\":false,\"positionForPaging\":0,\"realtime\":false,\"pid\":\"940\",\"name\":\"스포츠투데이\",\"logoLight\":{\"url\":\"https://s.pstatic.net/static/newsstand/up/2022/0328/nsd223244325.png\"},\"logoDark\":{\"url\":\"https://s.pstatic.net/static/newsstand/up/2022/0328/nsd223257107.png\"},\"showThumbnailView\":true,\"showListView\":true,\"regDate\":\"20250818 16:10:01\",\"_id\":null,\"@type\":\"PC-NEWSSTAND-PRESS-BLOCK\",\"@code\":null,\"@template\":\"NONE\",\"@flowId\":null,\"@flowExecutionId\":null,\"@provider\":null,\"@lastModifiedAt\":null},{\"@type\":\"PC-NEWSSTAND-PRESS-BLOCK\",\"blocks\":null,\"materials\":null,\"excludeInPaging\":false,\"positionForPaging\":0,\"realtime\":false,\"pid\":\"028\",\"name\":\"한겨레\",\"logoLight\":{\"url\":\"https://s.pstatic.net/static/newsstand/up/2025/0418/nsd182533332.png\"},\"logoDark\":{\"url\":\"https://s.pstatic.net/static/newsstand/up/2025/0418/nsd182547177.png\"},\"showThumbnailView\":true,\"showListView\":true,\"regDate\":\"20250818 16:12:23\",\"_id\":null,\"@type\":\"PC-NEWSSTAND-PRESS-BLOCK\",\"@code\":null,\"@template\":\"NONE\",\"@flowId\":null,\"@flowExecutionId\":null,\"@provider\":null,\"@lastModifiedAt\":null},{\"@type\":\"PC-NEWSSTAND-PRESS-BLOCK\",\"blocks\":null,\"materials\":null,\"excludeInPaging\":false,\"positionForPaging\":0,\"realtime\":false,\"pid\":\"820\",\"name\":\"월간노동법률\",\"logoLight\":{\"url\":\"https://s.pstatic.net/static/newsstand/up/2022/0817/nsd14480190.png\"},\"logoDark\":{\"url\":\"https://s.pstatic.net/static/newsstand/up/2022/0817/nsd144754102.png\"},\"showThumbnailView\":true,\"showListView\":true,\"regDate\":\"20250818 09:08:04\",\"_id\":null,\"@type\":\"PC-NEWSSTAND-PRESS-BLOCK\",\"@code\":null,\"@template\":\"NONE\",\"@flowId\":null,\"@flowExecutionId\":null,\"@provider\":null,\"@lastModifiedAt\":null},{\"@type\":\"PC-NEWSSTAND-PRESS-BLOCK\",\"blocks\":null,\"materials\":null,\"excludeInPaging\":false,\"positionForPaging\":0,\"realtime\":false,\"pid\":\"941\",\"name\":\"초이스경제\",\"logoLight\":{\"url\":\"https://s.pstatic.net/static/newsstand/2020/logo/light/0604/941.png\"},\"logoDark\":{\"url\":\"https://s.pstatic.net/static/newsstand/2020/logo/dark/0604/941.png\"},\"showThumbnailView\":true,\"showListView\":true,\"regDate\":\"20250818 15:25:02\",\"_id\":null,\"@type\":\"PC-NEWSSTAND-PRESS-BLOCK\",\"@code\":null,\"@template\":\"NONE\",\"@flowId\":null,\"@flowExecutionId\":null,\"@provider\":null,\"@lastModifiedAt\":null},{\"@type\":\"PC-NEWSSTAND-PRESS-BLOCK\",\"blocks\":null,\"materials\":null,\"excludeInPaging\":false,\"positionForPaging\":0,\"realtime\":false,\"pid\":\"029\",\"name\":\"디지털타임스\",\"logoLight\":{\"url\":\"https://s.pstatic.net/static/newsstand/up/2025/0418/nsd173331727.png\"},\"logoDark\":{\"url\":\"https://s.pstatic.net/static/newsstand/up/2025/0418/nsd173347174.png\"},\"showThumbnailView\":true,\"showListView\":true,\"regDate\":\"20250818 16:05:10\",\"_id\":null,\"@type\":\"PC-NEWSSTAND-PRESS-BLOCK\",\"@code\":null,\"@template\":\"NONE\",\"@flowId\":null,\"@flowExecutionId\":null,\"@provider\":null,\"@lastModifiedAt\":null},{\"@type\":\"PC-NEWSSTAND-PRESS-BLOCK\",\"blocks\":null,\"materials\":null,\"excludeInPaging\":false,\"positionForPaging\":0,\"realtime\":false,\"pid\":\"821\",\"name\":\"경남도민일보\",\"logoLight\":{\"url\":\"https://s.pstatic.net/static/newsstand/2020/logo/light/0604/821.png\"},\"logoDark\":{\"url\":\"https://s.pstatic.net/static/newsstand/2020/logo/dark/0604/821.png\"},\"showThumbnailView\":true,\"showListView\":true,\"regDate\":\"20250818 16:10:45\",\"_id\":null,\"@type\":\"PC-NEWSSTAND-PRESS-BLOCK\",\"@code\":null,\"@template\":\"NONE\",\"@flowId\":null,\"@flowExecutionId\":null,\"@provider\":null,\"@lastModifiedAt\":null},{\"@type\":\"PC-NEWSSTAND-PRESS-BLOCK\",\"blocks\":null,\"materials\":null,\"excludeInPaging\":false,\"positionForPaging\":0,\"realtime\":false,\"pid\":\"942\",\"name\":\"비즈니스포스트\",\"logoLight\":{\"url\":\"https://s.pstatic.net/static/newsstand/2020/logo/light/0604/942.png\"},\"logoDark\":{\"url\":\"https://s.pstatic.net/static/newsstand/2020/logo/dark/0604/942.png\"},\"showThumbnailView\":true,\"showListView\":true,\"regDate\":\"20250818 14:58:40\",\"_id\":null,\"@type\":\"PC-NEWSSTAND-PRESS-BLOCK\",\"@code\":null,\"@template\":\"NONE\",\"@flowId\":null,\"@flowExecutionId\":null,\"@provider\":null,\"@lastModifiedAt\":null},{\"@type\":\"PC-NEWSSTAND-PRESS-BLOCK\",\"blocks\":null,\"materials\":null,\"excludeInPaging\":false,\"positionForPaging\":0,\"realtime\":false,\"pid\":\"822\",\"name\":\"프라임경제\",\"logoLight\":{\"url\":\"https://s.pstatic.net/static/newsstand/up/2020/0730/nsd13728808.png\"},\"logoDark\":{\"url\":\"https://s.pstatic.net/static/newsstand/up/2020/0730/nsd13719939.png\"},\"showThumbnailView\":true,\"showListView\":true,\"regDate\":\"20250818 16:00:04\",\"_id\":null,\"@type\":\"PC-NEWSSTAND-PRESS-BLOCK\",\"@code\":null,\"@template\":\"NONE\",\"@flowId\":null,\"@flowExecutionId\":null,\"@provider\":null,\"@lastModifiedAt\":null},{\"@type\":\"PC-NEWSSTAND-PRESS-BLOCK\",\"blocks\":null,\"materials\":null,\"excludeInPaging\":false,\"positionForPaging\":0,\"realtime\":false,\"pid\":\"943\",\"name\":\"비즈워치\",\"logoLight\":{\"url\":\"https://s.pstatic.net/static/newsstand/up/2025/0418/nsd174454995.png\"},\"logoDark\":{\"url\":\"https://s.pstatic.net/static/newsstand/up/2025/0418/nsd17459528.png\"},\"showThumbnailView\":true,\"showListView\":true,\"regDate\":\"20250818 15:32:46\",\"_id\":null,\"@type\":\"PC-NEWSSTAND-PRESS-BLOCK\",\"@code\":null,\"@template\":\"NONE\",\"@flowId\":null,\"@flowExecutionId\":null,\"@provider\":null,\"@lastModifiedAt\":null},{\"@type\":\"PC-NEWSSTAND-PRESS-BLOCK\",\"blocks\":null,\"materials\":null,\"excludeInPaging\":false,\"positionForPaging\":0,\"realtime\":false,\"pid\":\"823\",\"name\":\"KPI뉴스\",\"logoLight\":{\"url\":\"https://s.pstatic.net/static/newsstand/up/2024/1101/nsd102910563.png\"},\"logoDark\":{\"url\":\"https://s.pstatic.net/static/newsstand/up/2024/1101/nsd10293597.png\"},\"showThumbnailView\":true,\"showListView\":true,\"regDate\":\"20250818 08:43:53\",\"_id\":null,\"@type\":\"PC-NEWSSTAND-PRESS-BLOCK\",\"@code\":null,\"@template\":\"NONE\",\"@flowId\":null,\"@flowExecutionId\":null,\"@provider\":null,\"@lastModifiedAt\":null},{\"@type\":\"PC-NEWSSTAND-PRESS-BLOCK\",\"blocks\":null,\"materials\":null,\"excludeInPaging\":false,\"positionForPaging\":0,\"realtime\":false,\"pid\":\"944\",\"name\":\"나우뉴스\",\"logoLight\":{\"url\":\"https://s.pstatic.net/static/newsstand/up/2022/0804/nsd1343054.png\"},\"logoDark\":{\"url\":\"https://s.pstatic.net/static/newsstand/up/2022/0804/nsd13457540.png\"},\"showThumbnailView\":true,\"showListView\":true,\"regDate\":\"20250817 20:24:42\",\"_id\":null,\"@type\":\"PC-NEWSSTAND-PRESS-BLOCK\",\"@code\":null,\"@template\":\"NONE\",\"@flowId\":null,\"@flowExecutionId\":null,\"@provider\":null,\"@lastModifiedAt\":null},{\"@type\":\"PC-NEWSSTAND-PRESS-BLOCK\",\"blocks\":null,\"materials\":null,\"excludeInPaging\":false,\"positionForPaging\":0,\"realtime\":false,\"pid\":\"824\",\"name\":\"서울파이낸스\",\"logoLight\":{\"url\":\"https://s.pstatic.net/static/newsstand/2020/logo/light/0604/824.png\"},\"logoDark\":{\"url\":\"https://s.pstatic.net/static/newsstand/2020/logo/dark/0604/824.png\"},\"showThumbnailView\":true,\"showListView\":true,\"regDate\":\"20250818 16:00:33\",\"_id\":null,\"@type\":\"PC-NEWSSTAND-PRESS-BLOCK\",\"@code\":null,\"@template\":\"NONE\",\"@flowId\":null,\"@flowExecutionId\":null,\"@provider\":null,\"@lastModifiedAt\":null},{\"@type\":\"PC-NEWSSTAND-PRESS-BLOCK\",\"blocks\":null,\"materials\":null,\"excludeInPaging\":false,\"positionForPaging\":0,\"realtime\":false,\"pid\":\"945\",\"name\":\"YTN사이언스\",\"logoLight\":{\"url\":\"https://s.pstatic.net/static/newsstand/up/2020/0922/nsd152336602.png\"},\"logoDark\":{\"url\":\"https://s.pstatic.net/static/newsstand/up/2020/0922/nsd152323211.png\"},\"showThumbnailView\":true,\"showListView\":true,\"regDate\":\"20250818 16:05:00\",\"_id\":null,\"@type\":\"PC-NEWSSTAND-PRESS-BLOCK\",\"@code\":null,\"@template\":\"NONE\",\"@flowId\":null,\"@flowExecutionId\":null,\"@provider\":null,\"@lastModifiedAt\":null},{\"@type\":\"PC-NEWSSTAND-PRESS-BLOCK\",\"blocks\":null,\"materials\":null,\"excludeInPaging\":false,\"positionForPaging\":0,\"realtime\":false,\"pid\":\"825\",\"name\":\"이로운넷\",\"logoLight\":{\"url\":\"https://s.pstatic.net/static/newsstand/2020/logo/light/0604/825.png\"},\"logoDark\":{\"url\":\"https://s.pstatic.net/static/newsstand/2020/logo/dark/0604/825.png\"},\"showThumbnailView\":true,\"showListView\":true,\"regDate\":\"20250818 16:10:48\",\"_id\":null,\"@type\":\"PC-NEWSSTAND-PRESS-BLOCK\",\"@code\":null,\"@template\":\"NONE\",\"@flowId\":null,\"@flowExecutionId\":null,\"@provider\":null,\"@lastModifiedAt\":null},{\"@type\":\"PC-NEWSSTAND-PRESS-BLOCK\",\"blocks\":null,\"materials\":null,\"excludeInPaging\":false,\"positionForPaging\":0,\"realtime\":false,\"pid\":\"946\",\"name\":\"YONHAPNEWS\",\"logoLight\":{\"url\":\"https://s.pstatic.net/static/newsstand/2020/logo/light/0604/946.png\"},\"logoDark\":{\"url\":\"https://s.pstatic.net/static/newsstand/2020/logo/dark/0604/946.png\"},\"showThumbnailView\":true,\"showListView\":true,\"regDate\":\"20250818 15:32:13\",\"_id\":null,\"@type\":\"PC-NEWSSTAND-PRESS-BLOCK\",\"@code\":null,\"@template\":\"NONE\",\"@flowId\":null,\"@flowExecutionId\":null,\"@provider\":null,\"@lastModifiedAt\":null},{\"@type\":\"PC-NEWSSTAND-PRESS-BLOCK\",\"blocks\":null,\"materials\":null,\"excludeInPaging\":false,\"positionForPaging\":0,\"realtime\":false,\"pid\":\"826\",\"name\":\"톱데일리\",\"logoLight\":{\"url\":\"https://s.pstatic.net/static/newsstand/up/2022/0817/nsd14491516.png\"},\"logoDark\":{\"url\":\"https://s.pstatic.net/static/newsstand/up/2022/0817/nsd14499446.png\"},\"showThumbnailView\":true,\"showListView\":true,\"regDate\":\"20250818 16:00:14\",\"_id\":null,\"@type\":\"PC-NEWSSTAND-PRESS-BLOCK\",\"@code\":null,\"@template\":\"NONE\",\"@flowId\":null,\"@flowExecutionId\":null,\"@provider\":null,\"@lastModifiedAt\":null},{\"@type\":\"PC-NEWSSTAND-PRESS-BLOCK\",\"blocks\":null,\"materials\":null,\"excludeInPaging\":false,\"positionForPaging\":0,\"realtime\":false,\"pid\":\"947\",\"name\":\"조이뉴스24\",\"logoLight\":{\"url\":\"https://s.pstatic.net/static/newsstand/2020/logo/light/0604/947.png\"},\"logoDark\":{\"url\":\"https://s.pstatic.net/static/newsstand/2020/logo/dark/0604/947.png\"},\"showThumbnailView\":true,\"showListView\":true,\"regDate\":\"20250818 15:52:29\",\"_id\":null,\"@type\":\"PC-NEWSSTAND-PRESS-BLOCK\",\"@code\":null,\"@template\":\"NONE\",\"@flowId\":null,\"@flowExecutionId\":null,\"@provider\":null,\"@lastModifiedAt\":null},{\"@type\":\"PC-NEWSSTAND-PRESS-BLOCK\",\"blocks\":null,\"materials\":null,\"excludeInPaging\":false,\"positionForPaging\":0,\"realtime\":false,\"pid\":\"827\",\"name\":\"베이비뉴스\",\"logoLight\":{\"url\":\"https://s.pstatic.net/static/newsstand/up/2021/0222/nsd13325188.png\"},\"logoDark\":{\"url\":\"https://s.pstatic.net/static/newsstand/up/2021/0222/nsd13338358.png\"},\"showThumbnailView\":true,\"showListView\":true,\"regDate\":\"20250818 16:00:36\",\"_id\":null,\"@type\":\"PC-NEWSSTAND-PRESS-BLOCK\",\"@code\":null,\"@template\":\"NONE\",\"@flowId\":null,\"@flowExecutionId\":null,\"@provider\":null,\"@lastModifiedAt\":null},{\"@type\":\"PC-NEWSSTAND-PRESS-BLOCK\",\"blocks\":null,\"materials\":null,\"excludeInPaging\":false,\"positionForPaging\":0,\"realtime\":false,\"pid\":\"948\",\"name\":\"한겨레21\",\"logoLight\":{\"url\":\"https://s.pstatic.net/static/newsstand/up/2025/0418/nsd182645116.png\"},\"logoDark\":{\"url\":\"https://s.pstatic.net/static/newsstand/up/2025/0418/nsd182657747.png\"},\"showThumbnailView\":true,\"showListView\":true,\"regDate\":\"20250818 11:07:18\",\"_id\":null,\"@type\":\"PC-NEWSSTAND-PRESS-BLOCK\",\"@code\":null,\"@template\":\"NONE\",\"@flowId\":null,\"@flowExecutionId\":null,\"@provider\":null,\"@lastModifiedAt\":null},{\"@type\":\"PC-NEWSSTAND-PRESS-BLOCK\",\"blocks\":null,\"materials\":null,\"excludeInPaging\":false,\"positionForPaging\":0,\"realtime\":false,\"pid\":\"828\",\"name\":\"식품저널 foodnews\",\"logoLight\":{\"url\":\"https://s.pstatic.net/static/newsstand/up/2021/0211/nsd0427277.png\"},\"logoDark\":{\"url\":\"https://s.pstatic.net/static/newsstand/up/2021/0211/nsd0439284.png\"},\"showThumbnailView\":true,\"showListView\":true,\"regDate\":\"20250818 16:00:36\",\"_id\":null,\"@type\":\"PC-NEWSSTAND-PRESS-BLOCK\",\"@code\":null,\"@template\":\"NONE\",\"@flowId\":null,\"@flowExecutionId\":null,\"@provider\":null,\"@lastModifiedAt\":null},{\"@type\":\"PC-NEWSSTAND-PRESS-BLOCK\",\"blocks\":null,\"materials\":null,\"excludeInPaging\":false,\"positionForPaging\":0,\"realtime\":false,\"pid\":\"829\",\"name\":\"미디어스\",\"logoLight\":{\"url\":\"https://s.pstatic.net/static/newsstand/up/2021/0211/nsd01153196.png\"},\"logoDark\":{\"url\":\"https://s.pstatic.net/static/newsstand/up/2021/0211/nsd01153196.png\"},\"showThumbnailView\":true,\"showListView\":true,\"regDate\":\"20250818 16:10:57\",\"_id\":null,\"@type\":\"PC-NEWSSTAND-PRESS-BLOCK\",\"@code\":null,\"@template\":\"NONE\",\"@flowId\":null,\"@flowExecutionId\":null,\"@provider\":null,\"@lastModifiedAt\":null},{\"@type\":\"PC-NEWSSTAND-PRESS-BLOCK\",\"blocks\":null,\"materials\":null,\"excludeInPaging\":false,\"positionForPaging\":0,\"realtime\":false,\"pid\":\"391\",\"name\":\"충청일보\",\"logoLight\":{\"url\":\"https://s.pstatic.net/static/newsstand/2020/logo/light/0604/391.png\"},\"logoDark\":{\"url\":\"https://s.pstatic.net/static/newsstand/2020/logo/dark/0604/391.png\"},\"showThumbnailView\":true,\"showListView\":true,\"regDate\":\"20250817 23:14:58\",\"_id\":null,\"@type\":\"PC-NEWSSTAND-PRESS-BLOCK\",\"@code\":null,\"@template\":\"NONE\",\"@flowId\":null,\"@flowExecutionId\":null,\"@provider\":null,\"@lastModifiedAt\":null},{\"@type\":\"PC-NEWSSTAND-PRESS-BLOCK\",\"blocks\":null,\"materials\":null,\"excludeInPaging\":false,\"positionForPaging\":0,\"realtime\":false,\"pid\":\"030\",\"name\":\"전자신문\",\"logoLight\":{\"url\":\"https://s.pstatic.net/static/newsstand/up/2025/0418/nsd1884140.png\"},\"logoDark\":{\"url\":\"https://s.pstatic.net/static/newsstand/up/2025/0418/nsd18815657.png\"},\"showThumbnailView\":true,\"showListView\":true,\"regDate\":\"20250818 16:00:18\",\"_id\":null,\"@type\":\"PC-NEWSSTAND-PRESS-BLOCK\",\"@code\":null,\"@template\":\"NONE\",\"@flowId\":null,\"@flowExecutionId\":null,\"@provider\":null,\"@lastModifiedAt\":null},{\"@type\":\"PC-NEWSSTAND-PRESS-BLOCK\",\"blocks\":null,\"materials\":null,\"excludeInPaging\":false,\"positionForPaging\":0,\"realtime\":false,\"pid\":\"031\",\"name\":\"아이뉴스24\",\"logoLight\":{\"url\":\"https://s.pstatic.net/static/newsstand/up/2025/0418/nsd18025837.png\"},\"logoDark\":{\"url\":\"https://s.pstatic.net/static/newsstand/up/2025/0418/nsd18039590.png\"},\"showThumbnailView\":true,\"showListView\":true,\"regDate\":\"20250818 16:05:11\",\"_id\":null,\"@type\":\"PC-NEWSSTAND-PRESS-BLOCK\",\"@code\":null,\"@template\":\"NONE\",\"@flowId\":null,\"@flowExecutionId\":null,\"@provider\":null,\"@lastModifiedAt\":null},{\"@type\":\"PC-NEWSSTAND-PRESS-BLOCK\",\"blocks\":null,\"materials\":null,\"excludeInPaging\":false,\"positionForPaging\":0,\"realtime\":false,\"pid\":\"032\",\"name\":\"경향신문\",\"logoLight\":{\"url\":\"https://s.pstatic.net/static/newsstand/up/2025/0418/nsd16545193.png\"},\"logoDark\":{\"url\":\"https://s.pstatic.net/static/newsstand/up/2025/0418/nsd165423235.png\"},\"showThumbnailView\":true,\"showListView\":true,\"regDate\":\"20250818 16:00:30\",\"_id\":null,\"@type\":\"PC-NEWSSTAND-PRESS-BLOCK\",\"@code\":null,\"@template\":\"NONE\",\"@flowId\":null,\"@flowExecutionId\":null,\"@provider\":null,\"@lastModifiedAt\":null},{\"@type\":\"PC-NEWSSTAND-PRESS-BLOCK\",\"blocks\":null,\"materials\":null,\"excludeInPaging\":false,\"positionForPaging\":0,\"realtime\":false,\"pid\":\"396\",\"name\":\"스포츠월드\",\"logoLight\":{\"url\":\"https://s.pstatic.net/static/newsstand/2020/logo/light/0604/396.png\"},\"logoDark\":{\"url\":\"https://s.pstatic.net/static/newsstand/2020/logo/dark/0604/396.png\"},\"showThumbnailView\":true,\"showListView\":true,\"regDate\":\"20250818 15:41:08\",\"_id\":null,\"@type\":\"PC-NEWSSTAND-PRESS-BLOCK\",\"@code\":null,\"@template\":\"NONE\",\"@flowId\":null,\"@flowExecutionId\":null,\"@provider\":null,\"@lastModifiedAt\":null},{\"@type\":\"PC-NEWSSTAND-PRESS-BLOCK\",\"blocks\":null,\"materials\":null,\"excludeInPaging\":false,\"positionForPaging\":0,\"realtime\":false,\"pid\":\"277\",\"name\":\"아시아경제\",\"logoLight\":{\"url\":\"https://s.pstatic.net/static/newsstand/up/2025/0418/nsd175927519.png\"},\"logoDark\":{\"url\":\"https://s.pstatic.net/static/newsstand/up/2025/0418/nsd175939310.png\"},\"showThumbnailView\":true,\"showListView\":true,\"regDate\":\"20250818 15:54:32\",\"_id\":null,\"@type\":\"PC-NEWSSTAND-PRESS-BLOCK\",\"@code\":null,\"@template\":\"NONE\",\"@flowId\":null,\"@flowExecutionId\":null,\"@provider\":null,\"@lastModifiedAt\":null},{\"@type\":\"PC-NEWSSTAND-PRESS-BLOCK\",\"blocks\":null,\"materials\":null,\"excludeInPaging\":false,\"positionForPaging\":0,\"realtime\":false,\"pid\":\"950\",\"name\":\"월간중앙\",\"logoLight\":{\"url\":\"https://s.pstatic.net/static/newsstand/up/2024/1015/nsd144951657.png\"},\"logoDark\":{\"url\":\"https://s.pstatic.net/static/newsstand/up/2024/1015/nsd14509252.png\"},\"showThumbnailView\":true,\"showListView\":true,\"regDate\":\"20250818 16:01:06\",\"_id\":null,\"@type\":\"PC-NEWSSTAND-PRESS-BLOCK\",\"@code\":null,\"@template\":\"NONE\",\"@flowId\":null,\"@flowExecutionId\":null,\"@provider\":null,\"@lastModifiedAt\":null},{\"@type\":\"PC-NEWSSTAND-PRESS-BLOCK\",\"blocks\":null,\"materials\":null,\"excludeInPaging\":false,\"positionForPaging\":0,\"realtime\":false,\"pid\":\"038\",\"name\":\"한국일보\",\"logoLight\":{\"url\":\"https://s.pstatic.net/static/newsstand/up/2025/0418/nsd183051314.png\"},\"logoDark\":{\"url\":\"https://s.pstatic.net/static/newsstand/up/2025/0418/nsd18312532.png\"},\"showThumbnailView\":true,\"showListView\":true,\"regDate\":\"20250818 16:00:46\",\"_id\":null,\"@type\":\"PC-NEWSSTAND-PRESS-BLOCK\",\"@code\":null,\"@template\":\"NONE\",\"@flowId\":null,\"@flowExecutionId\":null,\"@provider\":null,\"@lastModifiedAt\":null},{\"@type\":\"PC-NEWSSTAND-PRESS-BLOCK\",\"blocks\":null,\"materials\":null,\"excludeInPaging\":false,\"positionForPaging\":0,\"realtime\":false,\"pid\":\"830\",\"name\":\"게임동아\",\"logoLight\":{\"url\":\"https://s.pstatic.net/static/newsstand/up/2021/0211/nsd02321523.png\"},\"logoDark\":{\"url\":\"https://s.pstatic.net/static/newsstand/up/2021/0211/nsd02332888.png\"},\"showThumbnailView\":true,\"showListView\":true,\"regDate\":\"20250818 15:50:26\",\"_id\":null,\"@type\":\"PC-NEWSSTAND-PRESS-BLOCK\",\"@code\":null,\"@template\":\"NONE\",\"@flowId\":null,\"@flowExecutionId\":null,\"@provider\":null,\"@lastModifiedAt\":null},{\"@type\":\"PC-NEWSSTAND-PRESS-BLOCK\",\"blocks\":null,\"materials\":null,\"excludeInPaging\":false,\"positionForPaging\":0,\"realtime\":false,\"pid\":\"951\",\"name\":\"포브스코리아\",\"logoLight\":{\"url\":\"https://s.pstatic.net/static/newsstand/up/2025/0219/nsd122730866.png\"},\"logoDark\":{\"url\":\"https://s.pstatic.net/static/newsstand/up/2025/0219/nsd122750849.png\"},\"showThumbnailView\":true,\"showListView\":true,\"regDate\":\"20250818 16:01:08\",\"_id\":null,\"@type\":\"PC-NEWSSTAND-PRESS-BLOCK\",\"@code\":null,\"@template\":\"NONE\",\"@flowId\":null,\"@flowExecutionId\":null,\"@provider\":null,\"@lastModifiedAt\":null},{\"@type\":\"PC-NEWSSTAND-PRESS-BLOCK\",\"blocks\":null,\"materials\":null,\"excludeInPaging\":false,\"positionForPaging\":0,\"realtime\":false,\"pid\":\"952\",\"name\":\"보안뉴스\",\"logoLight\":{\"url\":\"https://s.pstatic.net/static/newsstand/2020/logo/light/0604/952.png\"},\"logoDark\":{\"url\":\"https://s.pstatic.net/static/newsstand/2020/logo/dark/0604/952.png\"},\"showThumbnailView\":true,\"showListView\":true,\"regDate\":\"20250818 10:27:00\",\"_id\":null,\"@type\":\"PC-NEWSSTAND-PRESS-BLOCK\",\"@code\":null,\"@template\":\"NONE\",\"@flowId\":null,\"@flowExecutionId\":null,\"@provider\":null,\"@lastModifiedAt\":null},{\"@type\":\"PC-NEWSSTAND-PRESS-BLOCK\",\"blocks\":null,\"materials\":null,\"excludeInPaging\":false,\"positionForPaging\":0,\"realtime\":false,\"pid\":\"953\",\"name\":\"디지털투데이\",\"logoLight\":{\"url\":\"https://s.pstatic.net/static/newsstand/2020/logo/light/0604/953.png\"},\"logoDark\":{\"url\":\"https://s.pstatic.net/static/newsstand/2020/logo/dark/0604/953.png\"},\"showThumbnailView\":true,\"showListView\":true,\"regDate\":\"20250818 16:00:05\",\"_id\":null,\"@type\":\"PC-NEWSSTAND-PRESS-BLOCK\",\"@code\":null,\"@template\":\"NONE\",\"@flowId\":null,\"@flowExecutionId\":null,\"@provider\":null,\"@lastModifiedAt\":null},{\"@type\":\"PC-NEWSSTAND-PRESS-BLOCK\",\"blocks\":null,\"materials\":null,\"excludeInPaging\":false,\"positionForPaging\":0,\"realtime\":false,\"pid\":\"954\",\"name\":\"CNB뉴스\",\"logoLight\":{\"url\":\"https://s.pstatic.net/static/newsstand/2020/logo/light/0604/954.png\"},\"logoDark\":{\"url\":\"https://s.pstatic.net/static/newsstand/2020/logo/dark/0604/954.png\"},\"showThumbnailView\":true,\"showListView\":true,\"regDate\":\"20250818 16:10:02\",\"_id\":null,\"@type\":\"PC-NEWSSTAND-PRESS-BLOCK\",\"@code\":null,\"@template\":\"NONE\",\"@flowId\":null,\"@flowExecutionId\":null,\"@provider\":null,\"@lastModifiedAt\":null},{\"@type\":\"PC-NEWSSTAND-PRESS-BLOCK\",\"blocks\":null,\"materials\":null,\"excludeInPaging\":false,\"positionForPaging\":0,\"realtime\":false,\"pid\":\"955\",\"name\":\"독서신문\",\"logoLight\":{\"url\":\"https://s.pstatic.net/static/newsstand/2020/logo/light/0604/955.png\"},\"logoDark\":{\"url\":\"https://s.pstatic.net/static/newsstand/2020/logo/dark/0604/955.png\"},\"showThumbnailView\":true,\"showListView\":true,\"regDate\":\"20250818 16:00:06\",\"_id\":null,\"@type\":\"PC-NEWSSTAND-PRESS-BLOCK\",\"@code\":null,\"@template\":\"NONE\",\"@flowId\":null,\"@flowExecutionId\":null,\"@provider\":null,\"@lastModifiedAt\":null},{\"@type\":\"PC-NEWSSTAND-PRESS-BLOCK\",\"blocks\":null,\"materials\":null,\"excludeInPaging\":false,\"positionForPaging\":0,\"realtime\":false,\"pid\":\"956\",\"name\":\"철강금속신문\",\"logoLight\":{\"url\":\"https://s.pstatic.net/static/newsstand/2020/logo/light/0604/956.png\"},\"logoDark\":{\"url\":\"https://s.pstatic.net/static/newsstand/2020/logo/dark/0604/956.png\"},\"showThumbnailView\":true,\"showListView\":true,\"regDate\":\"20250818 16:00:04\",\"_id\":null,\"@type\":\"PC-NEWSSTAND-PRESS-BLOCK\",\"@code\":null,\"@template\":\"NONE\",\"@flowId\":null,\"@flowExecutionId\":null,\"@provider\":null,\"@lastModifiedAt\":null},{\"@type\":\"PC-NEWSSTAND-PRESS-BLOCK\",\"blocks\":null,\"materials\":null,\"excludeInPaging\":false,\"positionForPaging\":0,\"realtime\":false,\"pid\":\"957\",\"name\":\"시사위크\",\"logoLight\":{\"url\":\"https://s.pstatic.net/static/newsstand/2020/logo/light/0604/957.png\"},\"logoDark\":{\"url\":\"https://s.pstatic.net/static/newsstand/2020/logo/dark/0604/957.png\"},\"showThumbnailView\":true,\"showListView\":true,\"regDate\":\"20250814 18:45:33\",\"_id\":null,\"@type\":\"PC-NEWSSTAND-PRESS-BLOCK\",\"@code\":null,\"@template\":\"NONE\",\"@flowId\":null,\"@flowExecutionId\":null,\"@provider\":null,\"@lastModifiedAt\":null},{\"@type\":\"PC-NEWSSTAND-PRESS-BLOCK\",\"blocks\":null,\"materials\":null,\"excludeInPaging\":false,\"positionForPaging\":0,\"realtime\":false,\"pid\":\"958\",\"name\":\"베리타스알파\",\"logoLight\":{\"url\":\"https://s.pstatic.net/static/newsstand/up/2023/0826/nsd0145257.png\"},\"logoDark\":{\"url\":\"https://s.pstatic.net/static/newsstand/up/2023/0826/nsd0136682.png\"},\"showThumbnailView\":true,\"showListView\":true,\"regDate\":\"20250818 16:01:04\",\"_id\":null,\"@type\":\"PC-NEWSSTAND-PRESS-BLOCK\",\"@code\":null,\"@template\":\"NONE\",\"@flowId\":null,\"@flowExecutionId\":null,\"@provider\":null,\"@lastModifiedAt\":null},{\"@type\":\"PC-NEWSSTAND-PRESS-BLOCK\",\"blocks\":null,\"materials\":null,\"excludeInPaging\":false,\"positionForPaging\":0,\"realtime\":false,\"pid\":\"959\",\"name\":\"M이코노미뉴스\",\"logoLight\":{\"url\":\"https://s.pstatic.net/static/newsstand/up/2021/1221/nsd15292271.png\"},\"logoDark\":{\"url\":\"https://s.pstatic.net/static/newsstand/up/2021/1221/nsd171157172.png\"},\"showThumbnailView\":true,\"showListView\":true,\"regDate\":\"20250818 16:00:30\",\"_id\":null,\"@type\":\"PC-NEWSSTAND-PRESS-BLOCK\",\"@code\":null,\"@template\":\"NONE\",\"@flowId\":null,\"@flowExecutionId\":null,\"@provider\":null,\"@lastModifiedAt\":null},{\"@type\":\"PC-NEWSSTAND-PRESS-BLOCK\",\"blocks\":null,\"materials\":null,\"excludeInPaging\":false,\"positionForPaging\":0,\"realtime\":false,\"pid\":\"040\",\"name\":\"코리아타임스\",\"logoLight\":{\"url\":\"https://s.pstatic.net/static/newsstand/2020/logo/light/0604/040.png\"},\"logoDark\":{\"url\":\"https://s.pstatic.net/static/newsstand/2020/logo/dark/0604/040.png\"},\"showThumbnailView\":true,\"showListView\":true,\"regDate\":\"20250818 16:00:05\",\"_id\":null,\"@type\":\"PC-NEWSSTAND-PRESS-BLOCK\",\"@code\":null,\"@template\":\"NONE\",\"@flowId\":null,\"@flowExecutionId\":null,\"@provider\":null,\"@lastModifiedAt\":null},{\"@type\":\"PC-NEWSSTAND-PRESS-BLOCK\",\"blocks\":null,\"materials\":null,\"excludeInPaging\":false,\"positionForPaging\":0,\"realtime\":false,\"pid\":\"042\",\"name\":\"데일리한국\",\"logoLight\":{\"url\":\"https://s.pstatic.net/static/newsstand/2020/logo/light/0604/042.png\"},\"logoDark\":{\"url\":\"https://s.pstatic.net/static/newsstand/2020/logo/dark/0604/042.png\"},\"showThumbnailView\":true,\"showListView\":true,\"regDate\":\"20250818 16:00:40\",\"_id\":null,\"@type\":\"PC-NEWSSTAND-PRESS-BLOCK\",\"@code\":null,\"@template\":\"NONE\",\"@flowId\":null,\"@flowExecutionId\":null,\"@provider\":null,\"@lastModifiedAt\":null},{\"@type\":\"PC-NEWSSTAND-PRESS-BLOCK\",\"blocks\":null,\"materials\":null,\"excludeInPaging\":false,\"positionForPaging\":0,\"realtime\":false,\"pid\":\"044\",\"name\":\"코리아헤럴드\",\"logoLight\":{\"url\":\"https://s.pstatic.net/static/newsstand/up/2025/0418/nsd182116196.png\"},\"logoDark\":{\"url\":\"https://s.pstatic.net/static/newsstand/up/2025/0418/nsd182130812.png\"},\"showThumbnailView\":true,\"showListView\":true,\"regDate\":\"20250818 15:39:27\",\"_id\":null,\"@type\":\"PC-NEWSSTAND-PRESS-BLOCK\",\"@code\":null,\"@template\":\"NONE\",\"@flowId\":null,\"@flowExecutionId\":null,\"@provider\":null,\"@lastModifiedAt\":null},{\"@type\":\"PC-NEWSSTAND-PRESS-BLOCK\",\"blocks\":null,\"materials\":null,\"excludeInPaging\":false,\"positionForPaging\":0,\"realtime\":false,\"pid\":\"047\",\"name\":\"오마이뉴스\",\"logoLight\":{\"url\":\"https://s.pstatic.net/static/newsstand/up/2025/0418/nsd18344563.png\"},\"logoDark\":{\"url\":\"https://s.pstatic.net/static/newsstand/up/2025/0418/nsd18355852.png\"},\"showThumbnailView\":true,\"showListView\":true,\"regDate\":\"20250818 16:04:04\",\"_id\":null,\"@type\":\"PC-NEWSSTAND-PRESS-BLOCK\",\"@code\":null,\"@template\":\"NONE\",\"@flowId\":null,\"@flowExecutionId\":null,\"@provider\":null,\"@lastModifiedAt\":null},{\"@type\":\"PC-NEWSSTAND-PRESS-BLOCK\",\"blocks\":null,\"materials\":null,\"excludeInPaging\":false,\"positionForPaging\":0,\"realtime\":false,\"pid\":\"960\",\"name\":\"대한경제\",\"logoLight\":{\"url\":\"https://s.pstatic.net/static/newsstand/up/2022/1115/nsd153942530.png\"},\"logoDark\":{\"url\":\"https://s.pstatic.net/static/newsstand/up/2022/1115/nsd153934427.png\"},\"showThumbnailView\":true,\"showListView\":true,\"regDate\":\"20250818 16:00:24\",\"_id\":null,\"@type\":\"PC-NEWSSTAND-PRESS-BLOCK\",\"@code\":null,\"@template\":\"NONE\",\"@flowId\":null,\"@flowExecutionId\":null,\"@provider\":null,\"@lastModifiedAt\":null},{\"@type\":\"PC-NEWSSTAND-PRESS-BLOCK\",\"blocks\":null,\"materials\":null,\"excludeInPaging\":false,\"positionForPaging\":0,\"realtime\":false,\"pid\":\"961\",\"name\":\"메트로신문\",\"logoLight\":{\"url\":\"https://s.pstatic.net/static/newsstand/2020/logo/light/0604/961.png\"},\"logoDark\":{\"url\":\"https://s.pstatic.net/static/newsstand/2020/logo/dark/0604/961.png\"},\"showThumbnailView\":true,\"showListView\":true,\"regDate\":\"20250818 16:00:12\",\"_id\":null,\"@type\":\"PC-NEWSSTAND-PRESS-BLOCK\",\"@code\":null,\"@template\":\"NONE\",\"@flowId\":null,\"@flowExecutionId\":null,\"@provider\":null,\"@lastModifiedAt\":null},{\"@type\":\"PC-NEWSSTAND-PRESS-BLOCK\",\"blocks\":null,\"materials\":null,\"excludeInPaging\":false,\"positionForPaging\":0,\"realtime\":false,\"pid\":\"962\",\"name\":\"스포츠한국\",\"logoLight\":{\"url\":\"https://s.pstatic.net/static/newsstand/2020/logo/light/0604/962.png\"},\"logoDark\":{\"url\":\"https://s.pstatic.net/static/newsstand/2020/logo/dark/0604/962.png\"},\"showThumbnailView\":true,\"showListView\":true,\"regDate\":\"20250818 16:00:42\",\"_id\":null,\"@type\":\"PC-NEWSSTAND-PRESS-BLOCK\",\"@code\":null,\"@template\":\"NONE\",\"@flowId\":null,\"@flowExecutionId\":null,\"@provider\":null,\"@lastModifiedAt\":null},{\"@type\":\"PC-NEWSSTAND-PRESS-BLOCK\",\"blocks\":null,\"materials\":null,\"excludeInPaging\":false,\"positionForPaging\":0,\"realtime\":false,\"pid\":\"963\",\"name\":\"에너지경제\",\"logoLight\":{\"url\":\"https://s.pstatic.net/static/newsstand/2020/logo/light/0604/963.png\"},\"logoDark\":{\"url\":\"https://s.pstatic.net/static/newsstand/2020/logo/dark/0604/963.png\"},\"showThumbnailView\":true,\"showListView\":true,\"regDate\":\"20250818 16:00:14\",\"_id\":null,\"@type\":\"PC-NEWSSTAND-PRESS-BLOCK\",\"@code\":null,\"@template\":\"NONE\",\"@flowId\":null,\"@flowExecutionId\":null,\"@provider\":null,\"@lastModifiedAt\":null},{\"@type\":\"PC-NEWSSTAND-PRESS-BLOCK\",\"blocks\":null,\"materials\":null,\"excludeInPaging\":false,\"positionForPaging\":0,\"realtime\":false,\"pid\":\"964\",\"name\":\"이뉴스투데이\",\"logoLight\":{\"url\":\"https://s.pstatic.net/static/newsstand/2020/logo/light/0604/964.png\"},\"logoDark\":{\"url\":\"https://s.pstatic.net/static/newsstand/2020/logo/dark/0604/964.png\"},\"showThumbnailView\":true,\"showListView\":true,\"regDate\":\"20250818 16:01:01\",\"_id\":null,\"@type\":\"PC-NEWSSTAND-PRESS-BLOCK\",\"@code\":null,\"@template\":\"NONE\",\"@flowId\":null,\"@flowExecutionId\":null,\"@provider\":null,\"@lastModifiedAt\":null},{\"@type\":\"PC-NEWSSTAND-PRESS-BLOCK\",\"blocks\":null,\"materials\":null,\"excludeInPaging\":false,\"positionForPaging\":0,\"realtime\":false,\"pid\":\"965\",\"name\":\"전기신문\",\"logoLight\":{\"url\":\"https://s.pstatic.net/static/newsstand/2020/logo/light/0604/965.png\"},\"logoDark\":{\"url\":\"https://s.pstatic.net/static/newsstand/2020/logo/dark/0604/965.png\"},\"showThumbnailView\":true,\"showListView\":true,\"regDate\":\"20250818 16:00:39\",\"_id\":null,\"@type\":\"PC-NEWSSTAND-PRESS-BLOCK\",\"@code\":null,\"@template\":\"NONE\",\"@flowId\":null,\"@flowExecutionId\":null,\"@provider\":null,\"@lastModifiedAt\":null},{\"@type\":\"PC-NEWSSTAND-PRESS-BLOCK\",\"blocks\":null,\"materials\":null,\"excludeInPaging\":false,\"positionForPaging\":0,\"realtime\":false,\"pid\":\"966\",\"name\":\"정신의학신문\",\"logoLight\":{\"url\":\"https://s.pstatic.net/static/newsstand/2020/logo/light/0604/966.png\"},\"logoDark\":{\"url\":\"https://s.pstatic.net/static/newsstand/2020/logo/dark/0604/966.png\"},\"showThumbnailView\":true,\"showListView\":true,\"regDate\":\"20250818 16:00:37\",\"_id\":null,\"@type\":\"PC-NEWSSTAND-PRESS-BLOCK\",\"@code\":null,\"@template\":\"NONE\",\"@flowId\":null,\"@flowExecutionId\":null,\"@provider\":null,\"@lastModifiedAt\":null},{\"@type\":\"PC-NEWSSTAND-PRESS-BLOCK\",\"blocks\":null,\"materials\":null,\"excludeInPaging\":false,\"positionForPaging\":0,\"realtime\":false,\"pid\":\"967\",\"name\":\"코리아쉬핑가제트\",\"logoLight\":{\"url\":\"https://s.pstatic.net/static/newsstand/2020/logo/light/0604/967.png\"},\"logoDark\":{\"url\":\"https://s.pstatic.net/static/newsstand/2020/logo/dark/0604/967.png\"},\"showThumbnailView\":true,\"showListView\":true,\"regDate\":\"20250818 16:00:01\",\"_id\":null,\"@type\":\"PC-NEWSSTAND-PRESS-BLOCK\",\"@code\":null,\"@template\":\"NONE\",\"@flowId\":null,\"@flowExecutionId\":null,\"@provider\":null,\"@lastModifiedAt\":null},{\"@type\":\"PC-NEWSSTAND-PRESS-BLOCK\",\"blocks\":null,\"materials\":null,\"excludeInPaging\":false,\"positionForPaging\":0,\"realtime\":false,\"pid\":\"968\",\"name\":\"한국금융신문\",\"logoLight\":{\"url\":\"https://s.pstatic.net/static/newsstand/2020/logo/light/0604/968.png\"},\"logoDark\":{\"url\":\"https://s.pstatic.net/static/newsstand/2020/logo/dark/0604/968.png\"},\"showThumbnailView\":true,\"showListView\":true,\"regDate\":\"20250818 16:00:04\",\"_id\":null,\"@type\":\"PC-NEWSSTAND-PRESS-BLOCK\",\"@code\":null,\"@template\":\"NONE\",\"@flowId\":null,\"@flowExecutionId\":null,\"@provider\":null,\"@lastModifiedAt\":null},{\"@type\":\"PC-NEWSSTAND-PRESS-BLOCK\",\"blocks\":null,\"materials\":null,\"excludeInPaging\":false,\"positionForPaging\":0,\"realtime\":false,\"pid\":\"969\",\"name\":\"매일노동뉴스\",\"logoLight\":{\"url\":\"https://s.pstatic.net/static/newsstand/2020/logo/light/0604/969.png\"},\"logoDark\":{\"url\":\"https://s.pstatic.net/static/newsstand/2020/logo/dark/0604/969.png\"},\"showThumbnailView\":true,\"showListView\":true,\"regDate\":\"20250818 07:40:04\",\"_id\":null,\"@type\":\"PC-NEWSSTAND-PRESS-BLOCK\",\"@code\":null,\"@template\":\"NONE\",\"@flowId\":null,\"@flowExecutionId\":null,\"@provider\":null,\"@lastModifiedAt\":null},{\"@type\":\"PC-NEWSSTAND-PRESS-BLOCK\",\"blocks\":null,\"materials\":null,\"excludeInPaging\":false,\"positionForPaging\":0,\"realtime\":false,\"pid\":\"050\",\"name\":\"한경비즈니스\",\"logoLight\":{\"url\":\"https://s.pstatic.net/static/newsstand/up/2025/0418/nsd182742490.png\"},\"logoDark\":{\"url\":\"https://s.pstatic.net/static/newsstand/up/2025/0418/nsd182757714.png\"},\"showThumbnailView\":true,\"showListView\":true,\"regDate\":\"20250818 10:14:15\",\"_id\":null,\"@type\":\"PC-NEWSSTAND-PRESS-BLOCK\",\"@code\":null,\"@template\":\"NONE\",\"@flowId\":null,\"@flowExecutionId\":null,\"@provider\":null,\"@lastModifiedAt\":null},{\"@type\":\"PC-NEWSSTAND-PRESS-BLOCK\",\"blocks\":null,\"materials\":null,\"excludeInPaging\":false,\"positionForPaging\":0,\"realtime\":false,\"pid\":\"293\",\"name\":\"블로터\",\"logoLight\":{\"url\":\"https://s.pstatic.net/static/newsstand/up/2025/0418/nsd17435516.png\"},\"logoDark\":{\"url\":\"https://s.pstatic.net/static/newsstand/up/2025/0418/nsd17448335.png\"},\"showThumbnailView\":true,\"showListView\":true,\"regDate\":\"20250818 16:00:47\",\"_id\":null,\"@type\":\"PC-NEWSSTAND-PRESS-BLOCK\",\"@code\":null,\"@template\":\"NONE\",\"@flowId\":null,\"@flowExecutionId\":null,\"@provider\":null,\"@lastModifiedAt\":null},{\"@type\":\"PC-NEWSSTAND-PRESS-BLOCK\",\"blocks\":null,\"materials\":null,\"excludeInPaging\":false,\"positionForPaging\":0,\"realtime\":false,\"pid\":\"052\",\"name\":\"YTN\",\"logoLight\":{\"url\":\"https://s.pstatic.net/static/newsstand/up/2025/0418/nsd162134806.png\"},\"logoDark\":{\"url\":\"https://s.pstatic.net/static/newsstand/2020/logo/dark/0604/052.png\"},\"showThumbnailView\":true,\"showListView\":true,\"regDate\":\"20250818 15:59:50\",\"_id\":null,\"@type\":\"PC-NEWSSTAND-PRESS-BLOCK\",\"@code\":null,\"@template\":\"NONE\",\"@flowId\":null,\"@flowExecutionId\":null,\"@provider\":null,\"@lastModifiedAt\":null},{\"@type\":\"PC-NEWSSTAND-PRESS-BLOCK\",\"blocks\":null,\"materials\":null,\"excludeInPaging\":false,\"positionForPaging\":0,\"realtime\":false,\"pid\":\"296\",\"name\":\"코메디닷컴\",\"logoLight\":{\"url\":\"https://s.pstatic.net/static/newsstand/up/2025/0418/nsd182222162.png\"},\"logoDark\":{\"url\":\"https://s.pstatic.net/static/newsstand/up/2025/0418/nsd182235729.png\"},\"showThumbnailView\":true,\"showListView\":true,\"regDate\":\"20250818 11:23:13\",\"_id\":null,\"@type\":\"PC-NEWSSTAND-PRESS-BLOCK\",\"@code\":null,\"@template\":\"NONE\",\"@flowId\":null,\"@flowExecutionId\":null,\"@provider\":null,\"@lastModifiedAt\":null},{\"@type\":\"PC-NEWSSTAND-PRESS-BLOCK\",\"blocks\":null,\"materials\":null,\"excludeInPaging\":false,\"positionForPaging\":0,\"realtime\":false,\"pid\":\"055\",\"name\":\"SBS\",\"logoLight\":{\"url\":\"https://s.pstatic.net/static/newsstand/up/2025/0418/nsd161750512.png\"},\"logoDark\":{\"url\":\"https://s.pstatic.net/static/newsstand/up/2025/0418/nsd16183692.png\"},\"showThumbnailView\":true,\"showListView\":true,\"regDate\":\"20250818 16:05:07\",\"_id\":null,\"@type\":\"PC-NEWSSTAND-PRESS-BLOCK\",\"@code\":null,\"@template\":\"NONE\",\"@flowId\":null,\"@flowExecutionId\":null,\"@provider\":null,\"@lastModifiedAt\":null},{\"@type\":\"PC-NEWSSTAND-PRESS-BLOCK\",\"blocks\":null,\"materials\":null,\"excludeInPaging\":false,\"positionForPaging\":0,\"realtime\":false,\"pid\":\"056\",\"name\":\"KBS\",\"logoLight\":{\"url\":\"https://s.pstatic.net/static/newsstand/up/2025/0418/nsd161319927.png\"},\"logoDark\":{\"url\":\"https://s.pstatic.net/static/newsstand/up/2025/0418/nsd161333220.png\"},\"showThumbnailView\":true,\"showListView\":true,\"regDate\":\"20250818 16:12:00\",\"_id\":null,\"@type\":\"PC-NEWSSTAND-PRESS-BLOCK\",\"@code\":null,\"@template\":\"NONE\",\"@flowId\":null,\"@flowExecutionId\":null,\"@provider\":null,\"@lastModifiedAt\":null},{\"@type\":\"PC-NEWSSTAND-PRESS-BLOCK\",\"blocks\":null,\"materials\":null,\"excludeInPaging\":false,\"positionForPaging\":0,\"realtime\":false,\"pid\":\"057\",\"name\":\"MBN\",\"logoLight\":{\"url\":\"https://s.pstatic.net/static/newsstand/up/2025/0418/nsd161629389.png\"},\"logoDark\":{\"url\":\"https://s.pstatic.net/static/newsstand/up/2025/0418/nsd161647802.png\"},\"showThumbnailView\":true,\"showListView\":true,\"regDate\":\"20250818 16:05:01\",\"_id\":null,\"@type\":\"PC-NEWSSTAND-PRESS-BLOCK\",\"@code\":null,\"@template\":\"NONE\",\"@flowId\":null,\"@flowExecutionId\":null,\"@provider\":null,\"@lastModifiedAt\":null},{\"@type\":\"PC-NEWSSTAND-PRESS-BLOCK\",\"blocks\":null,\"materials\":null,\"excludeInPaging\":false,\"positionForPaging\":0,\"realtime\":false,\"pid\":\"970\",\"name\":\"소비자가만드는신문\",\"logoLight\":{\"url\":\"https://s.pstatic.net/static/newsstand/2020/logo/light/0604/970.png\"},\"logoDark\":{\"url\":\"https://s.pstatic.net/static/newsstand/2020/logo/dark/0604/970.png\"},\"showThumbnailView\":true,\"showListView\":true,\"regDate\":\"20250818 14:07:06\",\"_id\":null,\"@type\":\"PC-NEWSSTAND-PRESS-BLOCK\",\"@code\":null,\"@template\":\"NONE\",\"@flowId\":null,\"@flowExecutionId\":null,\"@provider\":null,\"@lastModifiedAt\":null},{\"@type\":\"PC-NEWSSTAND-PRESS-BLOCK\",\"blocks\":null,\"materials\":null,\"excludeInPaging\":false,\"positionForPaging\":0,\"realtime\":false,\"pid\":\"971\",\"name\":\"일요시사\",\"logoLight\":{\"url\":\"https://s.pstatic.net/static/newsstand/2020/logo/light/0604/971.png\"},\"logoDark\":{\"url\":\"https://s.pstatic.net/static/newsstand/2020/logo/dark/0604/971.png\"},\"showThumbnailView\":true,\"showListView\":true,\"regDate\":\"20250818 16:00:02\",\"_id\":null,\"@type\":\"PC-NEWSSTAND-PRESS-BLOCK\",\"@code\":null,\"@template\":\"NONE\",\"@flowId\":null,\"@flowExecutionId\":null,\"@provider\":null,\"@lastModifiedAt\":null},{\"@type\":\"PC-NEWSSTAND-PRESS-BLOCK\",\"blocks\":null,\"materials\":null,\"excludeInPaging\":false,\"positionForPaging\":0,\"realtime\":false,\"pid\":\"972\",\"name\":\"PD저널\",\"logoLight\":{\"url\":\"https://s.pstatic.net/static/newsstand/2020/logo/light/0604/972.png\"},\"logoDark\":{\"url\":\"https://s.pstatic.net/static/newsstand/2020/logo/dark/0604/972.png\"},\"showThumbnailView\":true,\"showListView\":true,\"regDate\":\"20250818 10:15:52\",\"_id\":null,\"@type\":\"PC-NEWSSTAND-PRESS-BLOCK\",\"@code\":null,\"@template\":\"NONE\",\"@flowId\":null,\"@flowExecutionId\":null,\"@provider\":null,\"@lastModifiedAt\":null},{\"@type\":\"PC-NEWSSTAND-PRESS-BLOCK\",\"blocks\":null,\"materials\":null,\"excludeInPaging\":false,\"positionForPaging\":0,\"realtime\":false,\"pid\":\"973\",\"name\":\"비즈한국\",\"logoLight\":{\"url\":\"https://s.pstatic.net/static/newsstand/2020/logo/light/0604/973.png\"},\"logoDark\":{\"url\":\"https://s.pstatic.net/static/newsstand/2020/logo/dark/0604/973.png\"},\"showThumbnailView\":true,\"showListView\":true,\"regDate\":\"20250818 16:05:34\",\"_id\":null,\"@type\":\"PC-NEWSSTAND-PRESS-BLOCK\",\"@code\":null,\"@template\":\"NONE\",\"@flowId\":null,\"@flowExecutionId\":null,\"@provider\":null,\"@lastModifiedAt\":null},{\"@type\":\"PC-NEWSSTAND-PRESS-BLOCK\",\"blocks\":null,\"materials\":null,\"excludeInPaging\":false,\"positionForPaging\":0,\"realtime\":false,\"pid\":\"974\",\"name\":\"BBS NEWS\",\"logoLight\":{\"url\":\"https://s.pstatic.net/static/newsstand/2020/logo/light/0604/974.png\"},\"logoDark\":{\"url\":\"https://s.pstatic.net/static/newsstand/2020/logo/dark/0604/974.png\"},\"showThumbnailView\":true,\"showListView\":true,\"regDate\":\"20250817 17:56:33\",\"_id\":null,\"@type\":\"PC-NEWSSTAND-PRESS-BLOCK\",\"@code\":null,\"@template\":\"NONE\",\"@flowId\":null,\"@flowExecutionId\":null,\"@provider\":null,\"@lastModifiedAt\":null},{\"@type\":\"PC-NEWSSTAND-PRESS-BLOCK\",\"blocks\":null,\"materials\":null,\"excludeInPaging\":false,\"positionForPaging\":0,\"realtime\":false,\"pid\":\"975\",\"name\":\"시사저널이코노미\",\"logoLight\":{\"url\":\"https://s.pstatic.net/static/newsstand/2020/logo/light/0604/975.png\"},\"logoDark\":{\"url\":\"https://s.pstatic.net/static/newsstand/2020/logo/dark/0604/975.png\"},\"showThumbnailView\":true,\"showListView\":true,\"regDate\":\"20250818 16:00:08\",\"_id\":null,\"@type\":\"PC-NEWSSTAND-PRESS-BLOCK\",\"@code\":null,\"@template\":\"NONE\",\"@flowId\":null,\"@flowExecutionId\":null,\"@provider\":null,\"@lastModifiedAt\":null},{\"@type\":\"PC-NEWSSTAND-PRESS-BLOCK\",\"blocks\":null,\"materials\":null,\"excludeInPaging\":false,\"positionForPaging\":0,\"realtime\":false,\"pid\":\"976\",\"name\":\"무등일보\",\"logoLight\":{\"url\":\"https://s.pstatic.net/static/newsstand/2020/logo/light/0604/976.png\"},\"logoDark\":{\"url\":\"https://s.pstatic.net/static/newsstand/2020/logo/dark/0604/976.png\"},\"showThumbnailView\":true,\"showListView\":true,\"regDate\":\"20250818 16:00:09\",\"_id\":null,\"@type\":\"PC-NEWSSTAND-PRESS-BLOCK\",\"@code\":null,\"@template\":\"NONE\",\"@flowId\":null,\"@flowExecutionId\":null,\"@provider\":null,\"@lastModifiedAt\":null},{\"@type\":\"PC-NEWSSTAND-PRESS-BLOCK\",\"blocks\":null,\"materials\":null,\"excludeInPaging\":false,\"positionForPaging\":0,\"realtime\":false,\"pid\":\"977\",\"name\":\"헬로디디\",\"logoLight\":{\"url\":\"https://s.pstatic.net/static/newsstand/2020/logo/light/0604/977.png\"},\"logoDark\":{\"url\":\"https://s.pstatic.net/static/newsstand/2020/logo/dark/0604/977.png\"},\"showThumbnailView\":true,\"showListView\":true,\"regDate\":\"20250818 16:00:34\",\"_id\":null,\"@type\":\"PC-NEWSSTAND-PRESS-BLOCK\",\"@code\":null,\"@template\":\"NONE\",\"@flowId\":null,\"@flowExecutionId\":null,\"@provider\":null,\"@lastModifiedAt\":null},{\"@type\":\"PC-NEWSSTAND-PRESS-BLOCK\",\"blocks\":null,\"materials\":null,\"excludeInPaging\":false,\"positionForPaging\":0,\"realtime\":false,\"pid\":\"978\",\"name\":\"경북도민일보\",\"logoLight\":{\"url\":\"https://s.pstatic.net/static/newsstand/2020/logo/light/0604/978.png\"},\"logoDark\":{\"url\":\"https://s.pstatic.net/static/newsstand/2020/logo/dark/0604/978.png\"},\"showThumbnailView\":true,\"showListView\":true,\"regDate\":\"20250817 23:22:00\",\"_id\":null,\"@type\":\"PC-NEWSSTAND-PRESS-BLOCK\",\"@code\":null,\"@template\":\"NONE\",\"@flowId\":null,\"@flowExecutionId\":null,\"@provider\":null,\"@lastModifiedAt\":null},{\"@type\":\"PC-NEWSSTAND-PRESS-BLOCK\",\"blocks\":null,\"materials\":null,\"excludeInPaging\":false,\"positionForPaging\":0,\"realtime\":false,\"pid\":\"979\",\"name\":\"약사공론\",\"logoLight\":{\"url\":\"https://s.pstatic.net/static/newsstand/2020/logo/light/0604/979.png\"},\"logoDark\":{\"url\":\"https://s.pstatic.net/static/newsstand/2020/logo/dark/0604/979.png\"},\"showThumbnailView\":true,\"showListView\":true,\"regDate\":\"20250818 15:46:41\",\"_id\":null,\"@type\":\"PC-NEWSSTAND-PRESS-BLOCK\",\"@code\":null,\"@template\":\"NONE\",\"@flowId\":null,\"@flowExecutionId\":null,\"@provider\":null,\"@lastModifiedAt\":null},{\"@type\":\"PC-NEWSSTAND-PRESS-BLOCK\",\"blocks\":null,\"materials\":null,\"excludeInPaging\":false,\"positionForPaging\":0,\"realtime\":false,\"pid\":\"980\",\"name\":\"KBC광주방송\",\"logoLight\":{\"url\":\"https://s.pstatic.net/static/newsstand/up/2025/0418/nsd161128598.png\"},\"logoDark\":{\"url\":\"https://s.pstatic.net/static/newsstand/up/2025/0418/nsd161142279.png\"},\"showThumbnailView\":true,\"showListView\":true,\"regDate\":\"20250818 15:55:51\",\"_id\":null,\"@type\":\"PC-NEWSSTAND-PRESS-BLOCK\",\"@code\":null,\"@template\":\"NONE\",\"@flowId\":null,\"@flowExecutionId\":null,\"@provider\":null,\"@lastModifiedAt\":null},{\"@type\":\"PC-NEWSSTAND-PRESS-BLOCK\",\"blocks\":null,\"materials\":null,\"excludeInPaging\":false,\"positionForPaging\":0,\"realtime\":false,\"pid\":\"981\",\"name\":\"TBS\",\"logoLight\":{\"url\":\"https://s.pstatic.net/static/newsstand/2020/logo/light/0604/981.png\"},\"logoDark\":{\"url\":\"https://s.pstatic.net/static/newsstand/2020/logo/dark/0604/981.png\"},\"showThumbnailView\":true,\"showListView\":true,\"regDate\":\"20250818 16:12:38\",\"_id\":null,\"@type\":\"PC-NEWSSTAND-PRESS-BLOCK\",\"@code\":null,\"@template\":\"NONE\",\"@flowId\":null,\"@flowExecutionId\":null,\"@provider\":null,\"@lastModifiedAt\":null},{\"@type\":\"PC-NEWSSTAND-PRESS-BLOCK\",\"blocks\":null,\"materials\":null,\"excludeInPaging\":false,\"positionForPaging\":0,\"realtime\":false,\"pid\":\"982\",\"name\":\"이코노미조선\",\"logoLight\":{\"url\":\"https://s.pstatic.net/static/newsstand/2020/logo/light/0604/982.png\"},\"logoDark\":{\"url\":\"https://s.pstatic.net/static/newsstand/2020/logo/dark/0604/982.png\"},\"showThumbnailView\":true,\"showListView\":true,\"regDate\":\"20250818 11:03:36\",\"_id\":null,\"@type\":\"PC-NEWSSTAND-PRESS-BLOCK\",\"@code\":null,\"@template\":\"NONE\",\"@flowId\":null,\"@flowExecutionId\":null,\"@provider\":null,\"@lastModifiedAt\":null},{\"@type\":\"PC-NEWSSTAND-PRESS-BLOCK\",\"blocks\":null,\"materials\":null,\"excludeInPaging\":false,\"positionForPaging\":0,\"realtime\":false,\"pid\":\"983\",\"name\":\"중부매일\",\"logoLight\":{\"url\":\"https://s.pstatic.net/static/newsstand/2020/logo/light/0604/983.png\"},\"logoDark\":{\"url\":\"https://s.pstatic.net/static/newsstand/2020/logo/dark/0604/983.png\"},\"showThumbnailView\":true,\"showListView\":true,\"regDate\":\"20250817 19:03:52\",\"_id\":null,\"@type\":\"PC-NEWSSTAND-PRESS-BLOCK\",\"@code\":null,\"@template\":\"NONE\",\"@flowId\":null,\"@flowExecutionId\":null,\"@provider\":null,\"@lastModifiedAt\":null},{\"@type\":\"PC-NEWSSTAND-PRESS-BLOCK\",\"blocks\":null,\"materials\":null,\"excludeInPaging\":false,\"positionForPaging\":0,\"realtime\":false,\"pid\":\"984\",\"name\":\"낚시춘추\",\"logoLight\":{\"url\":\"https://s.pstatic.net/static/newsstand/2020/logo/light/0604/984.png\"},\"logoDark\":{\"url\":\"https://s.pstatic.net/static/newsstand/2020/logo/dark/0604/984.png\"},\"showThumbnailView\":true,\"showListView\":true,\"regDate\":\"20250814 15:20:00\",\"_id\":null,\"@type\":\"PC-NEWSSTAND-PRESS-BLOCK\",\"@code\":null,\"@template\":\"NONE\",\"@flowId\":null,\"@flowExecutionId\":null,\"@provider\":null,\"@lastModifiedAt\":null},{\"@type\":\"PC-NEWSSTAND-PRESS-BLOCK\",\"blocks\":null,\"materials\":null,\"excludeInPaging\":false,\"positionForPaging\":0,\"realtime\":false,\"pid\":\"986\",\"name\":\"투데이신문\",\"logoLight\":{\"url\":\"https://s.pstatic.net/static/newsstand/up/2020/1019/nsd144531857.png\"},\"logoDark\":{\"url\":\"https://s.pstatic.net/static/newsstand/up/2020/1019/nsd144525568.png\"},\"showThumbnailView\":true,\"showListView\":true,\"regDate\":\"20250818 16:00:05\",\"_id\":null,\"@type\":\"PC-NEWSSTAND-PRESS-BLOCK\",\"@code\":null,\"@template\":\"NONE\",\"@flowId\":null,\"@flowExecutionId\":null,\"@provider\":null,\"@lastModifiedAt\":null},{\"@type\":\"PC-NEWSSTAND-PRESS-BLOCK\",\"blocks\":null,\"materials\":null,\"excludeInPaging\":false,\"positionForPaging\":0,\"realtime\":false,\"pid\":\"988\",\"name\":\"이코노미사이언스\",\"logoLight\":{\"url\":\"https://s.pstatic.net/static/newsstand/up/2024/1112/nsd9551191.png\"},\"logoDark\":{\"url\":\"https://s.pstatic.net/static/newsstand/up/2024/1112/nsd95454919.png\"},\"showThumbnailView\":true,\"showListView\":true,\"regDate\":\"20250814 16:37:52\",\"_id\":null,\"@type\":\"PC-NEWSSTAND-PRESS-BLOCK\",\"@code\":null,\"@template\":\"NONE\",\"@flowId\":null,\"@flowExecutionId\":null,\"@provider\":null,\"@lastModifiedAt\":null},{\"@type\":\"PC-NEWSSTAND-PRESS-BLOCK\",\"blocks\":null,\"materials\":null,\"excludeInPaging\":false,\"positionForPaging\":0,\"realtime\":false,\"pid\":\"989\",\"name\":\"TBC\",\"logoLight\":{\"url\":\"https://s.pstatic.net/static/newsstand/2020/logo/light/0604/989.png\"},\"logoDark\":{\"url\":\"https://s.pstatic.net/static/newsstand/2020/logo/dark/0604/989.png\"},\"showThumbnailView\":true,\"showListView\":true,\"regDate\":\"20250818 08:54:40\",\"_id\":null,\"@type\":\"PC-NEWSSTAND-PRESS-BLOCK\",\"@code\":null,\"@template\":\"NONE\",\"@flowId\":null,\"@flowExecutionId\":null,\"@provider\":null,\"@lastModifiedAt\":null},{\"@type\":\"PC-NEWSSTAND-PRESS-BLOCK\",\"blocks\":null,\"materials\":null,\"excludeInPaging\":false,\"positionForPaging\":0,\"realtime\":false,\"pid\":\"073\",\"name\":\"스포츠서울\",\"logoLight\":{\"url\":\"https://s.pstatic.net/static/newsstand/up/2020/0708/nsd94830278.png\"},\"logoDark\":{\"url\":\"https://s.pstatic.net/static/newsstand/up/2020/0708/nsd94820151.png\"},\"showThumbnailView\":true,\"showListView\":true,\"regDate\":\"20250818 16:12:11\",\"_id\":null,\"@type\":\"PC-NEWSSTAND-PRESS-BLOCK\",\"@code\":null,\"@template\":\"NONE\",\"@flowId\":null,\"@flowExecutionId\":null,\"@provider\":null,\"@lastModifiedAt\":null},{\"@type\":\"PC-NEWSSTAND-PRESS-BLOCK\",\"blocks\":null,\"materials\":null,\"excludeInPaging\":false,\"positionForPaging\":0,\"realtime\":false,\"pid\":\"075\",\"name\":\"맥스무비\",\"logoLight\":{\"url\":\"https://s.pstatic.net/static/newsstand/2020/logo/light/0604/075.png\"},\"logoDark\":{\"url\":\"https://s.pstatic.net/static/newsstand/2020/logo/dark/0604/075.png\"},\"showThumbnailView\":true,\"showListView\":true,\"regDate\":\"20250818 14:38:29\",\"_id\":null,\"@type\":\"PC-NEWSSTAND-PRESS-BLOCK\",\"@code\":null,\"@template\":\"NONE\",\"@flowId\":null,\"@flowExecutionId\":null,\"@provider\":null,\"@lastModifiedAt\":null},{\"@type\":\"PC-NEWSSTAND-PRESS-BLOCK\",\"blocks\":null,\"materials\":null,\"excludeInPaging\":false,\"positionForPaging\":0,\"realtime\":false,\"pid\":\"076\",\"name\":\"스포츠조선\",\"logoLight\":{\"url\":\"https://s.pstatic.net/static/newsstand/2020/logo/light/0604/076.png\"},\"logoDark\":{\"url\":\"https://s.pstatic.net/static/newsstand/2020/logo/dark/0604/076.png\"},\"showThumbnailView\":true,\"showListView\":true,\"regDate\":\"20250818 15:59:47\",\"_id\":null,\"@type\":\"PC-NEWSSTAND-PRESS-BLOCK\",\"@code\":null,\"@template\":\"NONE\",\"@flowId\":null,\"@flowExecutionId\":null,\"@provider\":null,\"@lastModifiedAt\":null},{\"@type\":\"PC-NEWSSTAND-PRESS-BLOCK\",\"blocks\":null,\"materials\":null,\"excludeInPaging\":false,\"positionForPaging\":0,\"realtime\":false,\"pid\":\"990\",\"name\":\"주간조선\",\"logoLight\":{\"url\":\"https://s.pstatic.net/static/newsstand/up/2025/0418/nsd181318779.png\"},\"logoDark\":{\"url\":\"https://s.pstatic.net/static/newsstand/up/2025/0418/nsd181331721.png\"},\"showThumbnailView\":true,\"showListView\":true,\"regDate\":\"20250818 16:00:43\",\"_id\":null,\"@type\":\"PC-NEWSSTAND-PRESS-BLOCK\",\"@code\":null,\"@template\":\"NONE\",\"@flowId\":null,\"@flowExecutionId\":null,\"@provider\":null,\"@lastModifiedAt\":null},{\"@type\":\"PC-NEWSSTAND-PRESS-BLOCK\",\"blocks\":null,\"materials\":null,\"excludeInPaging\":false,\"positionForPaging\":0,\"realtime\":false,\"pid\":\"991\",\"name\":\"데일리NK\",\"logoLight\":{\"url\":\"https://s.pstatic.net/static/newsstand/2020/logo/light/0604/991.png\"},\"logoDark\":{\"url\":\"https://s.pstatic.net/static/newsstand/2020/logo/dark/0604/991.png\"},\"showThumbnailView\":true,\"showListView\":true,\"regDate\":\"20250818 07:12:39\",\"_id\":null,\"@type\":\"PC-NEWSSTAND-PRESS-BLOCK\",\"@code\":null,\"@template\":\"NONE\",\"@flowId\":null,\"@flowExecutionId\":null,\"@provider\":null,\"@lastModifiedAt\":null},{\"@type\":\"PC-NEWSSTAND-PRESS-BLOCK\",\"blocks\":null,\"materials\":null,\"excludeInPaging\":false,\"positionForPaging\":0,\"realtime\":false,\"pid\":\"079\",\"name\":\"노컷뉴스\",\"logoLight\":{\"url\":\"https://s.pstatic.net/static/newsstand/up/2025/0418/nsd16586474.png\"},\"logoDark\":{\"url\":\"https://s.pstatic.net/static/newsstand/up/2025/0418/nsd165823173.png\"},\"showThumbnailView\":true,\"showListView\":true,\"regDate\":\"20250818 16:10:46\",\"_id\":null,\"@type\":\"PC-NEWSSTAND-PRESS-BLOCK\",\"@code\":null,\"@template\":\"NONE\",\"@flowId\":null,\"@flowExecutionId\":null,\"@provider\":null,\"@lastModifiedAt\":null},{\"@type\":\"PC-NEWSSTAND-PRESS-BLOCK\",\"blocks\":null,\"materials\":null,\"excludeInPaging\":false,\"positionForPaging\":0,\"realtime\":false,\"pid\":\"993\",\"name\":\"허프포스트코리아\",\"logoLight\":{\"url\":\"https://s.pstatic.net/static/newsstand/2020/logo/light/0604/993.png\"},\"logoDark\":{\"url\":\"https://s.pstatic.net/static/newsstand/2020/logo/dark/0604/993.png\"},\"showThumbnailView\":true,\"showListView\":true,\"regDate\":\"20250818 16:00:44\",\"_id\":null,\"@type\":\"PC-NEWSSTAND-PRESS-BLOCK\",\"@code\":null,\"@template\":\"NONE\",\"@flowId\":null,\"@flowExecutionId\":null,\"@provider\":null,\"@lastModifiedAt\":null},{\"@type\":\"PC-NEWSSTAND-PRESS-BLOCK\",\"blocks\":null,\"materials\":null,\"excludeInPaging\":false,\"positionForPaging\":0,\"realtime\":false,\"pid\":\"994\",\"name\":\"AI타임스\",\"logoLight\":{\"url\":\"https://s.pstatic.net/static/newsstand/up/2021/1112/nsd102040597.png\"},\"logoDark\":{\"url\":\"https://s.pstatic.net/static/newsstand/up/2021/1112/nsd102110770.png\"},\"showThumbnailView\":true,\"showListView\":true,\"regDate\":\"20250818 16:00:38\",\"_id\":null,\"@type\":\"PC-NEWSSTAND-PRESS-BLOCK\",\"@code\":null,\"@template\":\"NONE\",\"@flowId\":null,\"@flowExecutionId\":null,\"@provider\":null,\"@lastModifiedAt\":null},{\"@type\":\"PC-NEWSSTAND-PRESS-BLOCK\",\"blocks\":null,\"materials\":null,\"excludeInPaging\":false,\"positionForPaging\":0,\"realtime\":false,\"pid\":\"995\",\"name\":\"뉴스포스트\",\"logoLight\":{\"url\":\"https://s.pstatic.net/static/newsstand/up/2021/1112/nsd10248812.png\"},\"logoDark\":{\"url\":\"https://s.pstatic.net/static/newsstand/up/2021/1112/nsd102419893.png\"},\"showThumbnailView\":true,\"showListView\":true,\"regDate\":\"20250818 16:00:39\",\"_id\":null,\"@type\":\"PC-NEWSSTAND-PRESS-BLOCK\",\"@code\":null,\"@template\":\"NONE\",\"@flowId\":null,\"@flowExecutionId\":null,\"@provider\":null,\"@lastModifiedAt\":null},{\"@type\":\"PC-NEWSSTAND-PRESS-BLOCK\",\"blocks\":null,\"materials\":null,\"excludeInPaging\":false,\"positionForPaging\":0,\"realtime\":false,\"pid\":\"996\",\"name\":\"매경헬스\",\"logoLight\":{\"url\":\"https://s.pstatic.net/static/newsstand/up/2023/0330/nsd10125746.png\"},\"logoDark\":{\"url\":\"https://s.pstatic.net/static/newsstand/up/2023/0330/nsd10148542.png\"},\"showThumbnailView\":true,\"showListView\":true,\"regDate\":\"20250818 16:00:40\",\"_id\":null,\"@type\":\"PC-NEWSSTAND-PRESS-BLOCK\",\"@code\":null,\"@template\":\"NONE\",\"@flowId\":null,\"@flowExecutionId\":null,\"@provider\":null,\"@lastModifiedAt\":null},{\"@type\":\"PC-NEWSSTAND-PRESS-BLOCK\",\"blocks\":null,\"materials\":null,\"excludeInPaging\":false,\"positionForPaging\":0,\"realtime\":false,\"pid\":\"997\",\"name\":\"뉴스펭귄\",\"logoLight\":{\"url\":\"https://s.pstatic.net/static/newsstand/up/2022/0405/nsd15024245.png\"},\"logoDark\":{\"url\":\"https://s.pstatic.net/static/newsstand/up/2022/0405/nsd15014578.png\"},\"showThumbnailView\":true,\"showListView\":true,\"regDate\":\"20250818 16:10:55\",\"_id\":null,\"@type\":\"PC-NEWSSTAND-PRESS-BLOCK\",\"@code\":null,\"@template\":\"NONE\",\"@flowId\":null,\"@flowExecutionId\":null,\"@provider\":null,\"@lastModifiedAt\":null},{\"@type\":\"PC-NEWSSTAND-PRESS-BLOCK\",\"blocks\":null,\"materials\":null,\"excludeInPaging\":false,\"positionForPaging\":0,\"realtime\":false,\"pid\":\"998\",\"name\":\"뉴스앤조이\",\"logoLight\":{\"url\":\"https://s.pstatic.net/static/newsstand/up/2022/0328/nsd22503109.png\"},\"logoDark\":{\"url\":\"https://s.pstatic.net/static/newsstand/up/2022/0328/nsd22509287.png\"},\"showThumbnailView\":true,\"showListView\":true,\"regDate\":\"20250818 16:00:41\",\"_id\":null,\"@type\":\"PC-NEWSSTAND-PRESS-BLOCK\",\"@code\":null,\"@template\":\"NONE\",\"@flowId\":null,\"@flowExecutionId\":null,\"@provider\":null,\"@lastModifiedAt\":null},{\"@type\":\"PC-NEWSSTAND-PRESS-BLOCK\",\"blocks\":null,\"materials\":null,\"excludeInPaging\":false,\"positionForPaging\":0,\"realtime\":false,\"pid\":\"081\",\"name\":\"서울신문\",\"logoLight\":{\"url\":\"https://s.pstatic.net/static/newsstand/up/2025/0418/nsd1747652.png\"},\"logoDark\":{\"url\":\"https://s.pstatic.net/static/newsstand/up/2025/0418/nsd174717805.png\"},\"showThumbnailView\":true,\"showListView\":true,\"regDate\":\"20250818 15:46:22\",\"_id\":null,\"@type\":\"PC-NEWSSTAND-PRESS-BLOCK\",\"@code\":null,\"@template\":\"NONE\",\"@flowId\":null,\"@flowExecutionId\":null,\"@provider\":null,\"@lastModifiedAt\":null},{\"@type\":\"PC-NEWSSTAND-PRESS-BLOCK\",\"blocks\":null,\"materials\":null,\"excludeInPaging\":false,\"positionForPaging\":0,\"realtime\":false,\"pid\":\"082\",\"name\":\"부산일보\",\"logoLight\":{\"url\":\"https://s.pstatic.net/static/newsstand/up/2025/0418/nsd174249881.png\"},\"logoDark\":{\"url\":\"https://s.pstatic.net/static/newsstand/up/2025/0418/nsd17433161.png\"},\"showThumbnailView\":true,\"showListView\":true,\"regDate\":\"20250818 16:03:01\",\"_id\":null,\"@type\":\"PC-NEWSSTAND-PRESS-BLOCK\",\"@code\":null,\"@template\":\"NONE\",\"@flowId\":null,\"@flowExecutionId\":null,\"@provider\":null,\"@lastModifiedAt\":null},{\"@type\":\"PC-NEWSSTAND-PRESS-BLOCK\",\"blocks\":null,\"materials\":null,\"excludeInPaging\":false,\"positionForPaging\":0,\"realtime\":false,\"pid\":\"083\",\"name\":\"광주일보\",\"logoLight\":{\"url\":\"https://s.pstatic.net/static/newsstand/up/2023/0309/nsd195548501.png\"},\"logoDark\":{\"url\":\"https://s.pstatic.net/static/newsstand/up/2023/0309/nsd1956932.png\"},\"showThumbnailView\":true,\"showListView\":true,\"regDate\":\"20250818 16:00:01\",\"_id\":null,\"@type\":\"PC-NEWSSTAND-PRESS-BLOCK\",\"@code\":null,\"@template\":\"NONE\",\"@flowId\":null,\"@flowExecutionId\":null,\"@provider\":null,\"@lastModifiedAt\":null},{\"@type\":\"PC-NEWSSTAND-PRESS-BLOCK\",\"blocks\":null,\"materials\":null,\"excludeInPaging\":false,\"positionForPaging\":0,\"realtime\":false,\"pid\":\"087\",\"name\":\"강원일보\",\"logoLight\":{\"url\":\"https://s.pstatic.net/static/newsstand/up/2025/0418/nsd162538495.png\"},\"logoDark\":{\"url\":\"https://s.pstatic.net/static/newsstand/up/2025/0418/nsd162554126.png\"},\"showThumbnailView\":true,\"showListView\":true,\"regDate\":\"20250818 14:46:44\",\"_id\":null,\"@type\":\"PC-NEWSSTAND-PRESS-BLOCK\",\"@code\":null,\"@template\":\"NONE\",\"@flowId\":null,\"@flowExecutionId\":null,\"@provider\":null,\"@lastModifiedAt\":null},{\"@type\":\"PC-NEWSSTAND-PRESS-BLOCK\",\"blocks\":null,\"materials\":null,\"excludeInPaging\":false,\"positionForPaging\":0,\"realtime\":false,\"pid\":\"088\",\"name\":\"매일신문\",\"logoLight\":{\"url\":\"https://s.pstatic.net/static/newsstand/up/2025/0418/nsd17377527.png\"},\"logoDark\":{\"url\":\"https://s.pstatic.net/static/newsstand/up/2025/0418/nsd173719609.png\"},\"showThumbnailView\":true,\"showListView\":true,\"regDate\":\"20250818 15:20:13\",\"_id\":null,\"@type\":\"PC-NEWSSTAND-PRESS-BLOCK\",\"@code\":null,\"@template\":\"NONE\",\"@flowId\":null,\"@flowExecutionId\":null,\"@provider\":null,\"@lastModifiedAt\":null},{\"@type\":\"PC-NEWSSTAND-PRESS-BLOCK\",\"blocks\":null,\"materials\":null,\"excludeInPaging\":false,\"positionForPaging\":0,\"realtime\":false,\"pid\":\"089\",\"name\":\"대전일보\",\"logoLight\":{\"url\":\"https://s.pstatic.net/static/newsstand/up/2025/0418/nsd1750914.png\"},\"logoDark\":{\"url\":\"https://s.pstatic.net/static/newsstand/up/2025/0418/nsd17513766.png\"},\"showThumbnailView\":true,\"showListView\":true,\"regDate\":\"20250818 16:05:02\",\"_id\":null,\"@type\":\"PC-NEWSSTAND-PRESS-BLOCK\",\"@code\":null,\"@template\":\"NONE\",\"@flowId\":null,\"@flowExecutionId\":null,\"@provider\":null,\"@lastModifiedAt\":null},{\"@type\":\"PC-NEWSSTAND-PRESS-BLOCK\",\"blocks\":null,\"materials\":null,\"excludeInPaging\":false,\"positionForPaging\":0,\"realtime\":false,\"pid\":\"529\",\"name\":\"스포츠춘추\",\"logoLight\":{\"url\":\"https://s.pstatic.net/static/newsstand/up/2022/0116/nsd19454239.png\"},\"logoDark\":{\"url\":\"https://s.pstatic.net/static/newsstand/up/2022/0116/nsd194523259.png\"},\"showThumbnailView\":true,\"showListView\":true,\"regDate\":\"20250818 16:00:39\",\"_id\":null,\"@type\":\"PC-NEWSSTAND-PRESS-BLOCK\",\"@code\":null,\"@template\":\"NONE\",\"@flowId\":null,\"@flowExecutionId\":null,\"@provider\":null,\"@lastModifiedAt\":null},{\"@type\":\"PC-NEWSSTAND-PRESS-BLOCK\",\"blocks\":null,\"materials\":null,\"excludeInPaging\":false,\"positionForPaging\":0,\"realtime\":false,\"pid\":\"092\",\"name\":\"지디넷코리아\",\"logoLight\":{\"url\":\"https://s.pstatic.net/static/newsstand/up/2025/0418/nsd18180929.png\"},\"logoDark\":{\"url\":\"https://s.pstatic.net/static/newsstand/up/2025/0418/nsd18182244.png\"},\"showThumbnailView\":true,\"showListView\":true,\"regDate\":\"20250818 16:02:55\",\"_id\":null,\"@type\":\"PC-NEWSSTAND-PRESS-BLOCK\",\"@code\":null,\"@template\":\"NONE\",\"@flowId\":null,\"@flowExecutionId\":null,\"@provider\":null,\"@lastModifiedAt\":null},{\"@type\":\"PC-NEWSSTAND-PRESS-BLOCK\",\"blocks\":null,\"materials\":null,\"excludeInPaging\":false,\"positionForPaging\":0,\"realtime\":false,\"pid\":\"094\",\"name\":\"월간 산\",\"logoLight\":{\"url\":\"https://s.pstatic.net/static/newsstand/up/2025/0418/nsd18445157.png\"},\"logoDark\":{\"url\":\"https://s.pstatic.net/static/newsstand/up/2025/0418/nsd18456870.png\"},\"showThumbnailView\":true,\"showListView\":true,\"regDate\":\"20250818 16:00:43\",\"_id\":null,\"@type\":\"PC-NEWSSTAND-PRESS-BLOCK\",\"@code\":null,\"@template\":\"NONE\",\"@flowId\":null,\"@flowExecutionId\":null,\"@provider\":null,\"@lastModifiedAt\":null},{\"@type\":\"PC-NEWSSTAND-PRESS-BLOCK\",\"blocks\":null,\"materials\":null,\"excludeInPaging\":false,\"positionForPaging\":0,\"realtime\":false,\"pid\":\"410\",\"name\":\"MK스포츠\",\"logoLight\":{\"url\":\"https://s.pstatic.net/static/newsstand/2020/logo/light/0604/410.png\"},\"logoDark\":{\"url\":\"https://s.pstatic.net/static/newsstand/2020/logo/dark/0604/410.png\"},\"showThumbnailView\":true,\"showListView\":true,\"regDate\":\"20250818 16:05:26\",\"_id\":null,\"@type\":\"PC-NEWSSTAND-PRESS-BLOCK\",\"@code\":null,\"@template\":\"NONE\",\"@flowId\":null,\"@flowExecutionId\":null,\"@provider\":null,\"@lastModifiedAt\":null},{\"@type\":\"PC-NEWSSTAND-PRESS-BLOCK\",\"blocks\":null,\"materials\":null,\"excludeInPaging\":false,\"positionForPaging\":0,\"realtime\":false,\"pid\":\"536\",\"name\":\"더팩트\",\"logoLight\":{\"url\":\"https://s.pstatic.net/static/newsstand/up/2025/0418/nsd1778591.png\"},\"logoDark\":{\"url\":\"https://s.pstatic.net/static/newsstand/up/2025/0418/nsd17724719.png\"},\"showThumbnailView\":true,\"showListView\":true,\"regDate\":\"20250818 15:54:23\",\"_id\":null,\"@type\":\"PC-NEWSSTAND-PRESS-BLOCK\",\"@code\":null,\"@template\":\"NONE\",\"@flowId\":null,\"@flowExecutionId\":null,\"@provider\":null,\"@lastModifiedAt\":null},{\"@type\":\"PC-NEWSSTAND-PRESS-BLOCK\",\"blocks\":null,\"materials\":null,\"excludeInPaging\":false,\"positionForPaging\":0,\"realtime\":false,\"pid\":\"416\",\"name\":\"SBS연예뉴스\",\"logoLight\":{\"url\":\"https://s.pstatic.net/static/newsstand/up/2020/1228/nsd1681569.png\"},\"logoDark\":{\"url\":\"https://s.pstatic.net/static/newsstand/up/2020/1228/nsd1688305.png\"},\"showThumbnailView\":true,\"showListView\":true,\"regDate\":\"20250818 16:12:29\",\"_id\":null,\"@type\":\"PC-NEWSSTAND-PRESS-BLOCK\",\"@code\":null,\"@template\":\"NONE\",\"@flowId\":null,\"@flowExecutionId\":null,\"@provider\":null,\"@lastModifiedAt\":null},{\"@type\":\"PC-NEWSSTAND-PRESS-BLOCK\",\"blocks\":null,\"materials\":null,\"excludeInPaging\":false,\"positionForPaging\":0,\"realtime\":false,\"pid\":\"417\",\"name\":\"머니S\",\"logoLight\":{\"url\":\"https://s.pstatic.net/static/newsstand/up/2025/0418/nsd173828874.png\"},\"logoDark\":{\"url\":\"https://s.pstatic.net/static/newsstand/up/2025/0418/nsd173843283.png\"},\"showThumbnailView\":true,\"showListView\":true,\"regDate\":\"20250818 16:12:30\",\"_id\":null,\"@type\":\"PC-NEWSSTAND-PRESS-BLOCK\",\"@code\":null,\"@template\":\"NONE\",\"@flowId\":null,\"@flowExecutionId\":null,\"@provider\":null,\"@lastModifiedAt\":null},{\"@type\":\"PC-NEWSSTAND-PRESS-BLOCK\",\"blocks\":null,\"materials\":null,\"excludeInPaging\":false,\"positionForPaging\":0,\"realtime\":false,\"pid\":\"539\",\"name\":\"위키트리\",\"logoLight\":{\"url\":\"https://s.pstatic.net/static/newsstand/2020/logo/light/0604/539.png\"},\"logoDark\":{\"url\":\"https://s.pstatic.net/static/newsstand/2020/logo/dark/0604/539.png\"},\"showThumbnailView\":true,\"showListView\":true,\"regDate\":\"20250818 16:05:28\",\"_id\":null,\"@type\":\"PC-NEWSSTAND-PRESS-BLOCK\",\"@code\":null,\"@template\":\"NONE\",\"@flowId\":null,\"@flowExecutionId\":null,\"@provider\":null,\"@lastModifiedAt\":null},{\"@type\":\"PC-NEWSSTAND-PRESS-BLOCK\",\"blocks\":null,\"materials\":null,\"excludeInPaging\":false,\"positionForPaging\":0,\"realtime\":false,\"pid\":\"421\",\"name\":\"뉴스1\",\"logoLight\":{\"url\":\"https://s.pstatic.net/static/newsstand/up/2025/0418/nsd171363.png\"},\"logoDark\":{\"url\":\"https://s.pstatic.net/static/newsstand/up/2025/0418/nsd17114288.png\"},\"showThumbnailView\":true,\"showListView\":true,\"regDate\":\"20250818 16:03:42\",\"_id\":null,\"@type\":\"PC-NEWSSTAND-PRESS-BLOCK\",\"@code\":null,\"@template\":\"NONE\",\"@flowId\":null,\"@flowExecutionId\":null,\"@provider\":null,\"@lastModifiedAt\":null},{\"@type\":\"PC-NEWSSTAND-PRESS-BLOCK\",\"blocks\":null,\"materials\":null,\"excludeInPaging\":false,\"positionForPaging\":0,\"realtime\":false,\"pid\":\"301\",\"name\":\"드림투데이\",\"logoLight\":{\"url\":\"https://s.pstatic.net/static/newsstand/up/2025/0521/nsd11716387.png\"},\"logoDark\":{\"url\":\"https://s.pstatic.net/static/newsstand/up/2025/0521/nsd1176592.png\"},\"showThumbnailView\":true,\"showListView\":true,\"regDate\":\"20250818 16:00:34\",\"_id\":null,\"@type\":\"PC-NEWSSTAND-PRESS-BLOCK\",\"@code\":null,\"@template\":\"NONE\",\"@flowId\":null,\"@flowExecutionId\":null,\"@provider\":null,\"@lastModifiedAt\":null},{\"@type\":\"PC-NEWSSTAND-PRESS-BLOCK\",\"blocks\":null,\"materials\":null,\"excludeInPaging\":false,\"positionForPaging\":0,\"realtime\":false,\"pid\":\"422\",\"name\":\"연합뉴스TV\",\"logoLight\":{\"url\":\"https://s.pstatic.net/static/newsstand/up/2025/0418/nsd18244498.png\"},\"logoDark\":{\"url\":\"https://s.pstatic.net/static/newsstand/up/2025/0418/nsd18255712.png\"},\"showThumbnailView\":true,\"showListView\":true,\"regDate\":\"20250818 16:05:21\",\"_id\":null,\"@type\":\"PC-NEWSSTAND-PRESS-BLOCK\",\"@code\":null,\"@template\":\"NONE\",\"@flowId\":null,\"@flowExecutionId\":null,\"@provider\":null,\"@lastModifiedAt\":null},{\"@type\":\"PC-NEWSSTAND-PRESS-BLOCK\",\"blocks\":null,\"materials\":null,\"excludeInPaging\":false,\"positionForPaging\":0,\"realtime\":false,\"pid\":\"308\",\"name\":\"시사IN\",\"logoLight\":{\"url\":\"https://s.pstatic.net/static/newsstand/up/2025/0418/nsd174916541.png\"},\"logoDark\":{\"url\":\"https://s.pstatic.net/static/newsstand/up/2025/0418/nsd174929782.png\"},\"showThumbnailView\":true,\"showListView\":true,\"regDate\":\"20250818 08:23:34\",\"_id\":null,\"@type\":\"PC-NEWSSTAND-PRESS-BLOCK\",\"@code\":null,\"@template\":\"NONE\",\"@flowId\":null,\"@flowExecutionId\":null,\"@provider\":null,\"@lastModifiedAt\":null},{\"@type\":\"PC-NEWSSTAND-PRESS-BLOCK\",\"blocks\":null,\"materials\":null,\"excludeInPaging\":false,\"positionForPaging\":0,\"realtime\":false,\"pid\":\"310\",\"name\":\"여성신문\",\"logoLight\":{\"url\":\"https://s.pstatic.net/static/newsstand/up/2025/0418/nsd18127785.png\"},\"logoDark\":{\"url\":\"https://s.pstatic.net/static/newsstand/up/2025/0418/nsd18140858.png\"},\"showThumbnailView\":true,\"showListView\":true,\"regDate\":\"20250818 16:00:02\",\"_id\":null,\"@type\":\"PC-NEWSSTAND-PRESS-BLOCK\",\"@code\":null,\"@template\":\"NONE\",\"@flowId\":null,\"@flowExecutionId\":null,\"@provider\":null,\"@lastModifiedAt\":null},{\"@type\":\"PC-NEWSSTAND-PRESS-BLOCK\",\"blocks\":null,\"materials\":null,\"excludeInPaging\":false,\"positionForPaging\":0,\"realtime\":false,\"pid\":\"311\",\"name\":\"엑스포츠뉴스\",\"logoLight\":{\"url\":\"https://s.pstatic.net/static/newsstand/2020/logo/light/0604/311.png\"},\"logoDark\":{\"url\":\"https://s.pstatic.net/static/newsstand/2020/logo/dark/0604/311.png\"},\"showThumbnailView\":true,\"showListView\":true,\"regDate\":\"20250818 15:27:13\",\"_id\":null,\"@type\":\"PC-NEWSSTAND-PRESS-BLOCK\",\"@code\":null,\"@template\":\"NONE\",\"@flowId\":null,\"@flowExecutionId\":null,\"@provider\":null,\"@lastModifiedAt\":null},{\"@type\":\"PC-NEWSSTAND-PRESS-BLOCK\",\"blocks\":null,\"materials\":null,\"excludeInPaging\":false,\"positionForPaging\":0,\"realtime\":false,\"pid\":\"312\",\"name\":\"텐아시아\",\"logoLight\":{\"url\":\"https://s.pstatic.net/static/newsstand/2020/logo/light/0604/312.png\"},\"logoDark\":{\"url\":\"https://s.pstatic.net/static/newsstand/2020/logo/dark/0604/312.png\"},\"showThumbnailView\":true,\"showListView\":true,\"regDate\":\"20250818 11:47:53\",\"_id\":null,\"@type\":\"PC-NEWSSTAND-PRESS-BLOCK\",\"@code\":null,\"@template\":\"NONE\",\"@flowId\":null,\"@flowExecutionId\":null,\"@provider\":null,\"@lastModifiedAt\":null},{\"@type\":\"PC-NEWSSTAND-PRESS-BLOCK\",\"blocks\":null,\"materials\":null,\"excludeInPaging\":false,\"positionForPaging\":0,\"realtime\":false,\"pid\":\"314\",\"name\":\"스포츠동아\",\"logoLight\":{\"url\":\"https://s.pstatic.net/static/newsstand/2020/logo/light/0604/314.png\"},\"logoDark\":{\"url\":\"https://s.pstatic.net/static/newsstand/2020/logo/dark/0604/314.png\"},\"showThumbnailView\":true,\"showListView\":true,\"regDate\":\"20250818 16:02:44\",\"_id\":null,\"@type\":\"PC-NEWSSTAND-PRESS-BLOCK\",\"@code\":null,\"@template\":\"NONE\",\"@flowId\":null,\"@flowExecutionId\":null,\"@provider\":null,\"@lastModifiedAt\":null},{\"@type\":\"PC-NEWSSTAND-PRESS-BLOCK\",\"blocks\":null,\"materials\":null,\"excludeInPaging\":false,\"positionForPaging\":0,\"realtime\":false,\"pid\":\"681\",\"name\":\"이코노타임즈\",\"logoLight\":{\"url\":\"https://s.pstatic.net/static/newsstand/up/2022/0615/nsd7251644.png\"},\"logoDark\":{\"url\":\"https://s.pstatic.net/static/newsstand/up/2022/0615/nsd7244919.png\"},\"showThumbnailView\":true,\"showListView\":true,\"regDate\":\"20250730 16:53:51\",\"_id\":null,\"@type\":\"PC-NEWSSTAND-PRESS-BLOCK\",\"@code\":null,\"@template\":\"NONE\",\"@flowId\":null,\"@flowExecutionId\":null,\"@provider\":null,\"@lastModifiedAt\":null},{\"@type\":\"PC-NEWSSTAND-PRESS-BLOCK\",\"blocks\":null,\"materials\":null,\"excludeInPaging\":false,\"positionForPaging\":0,\"realtime\":false,\"pid\":\"440\",\"name\":\"티브이데일리\",\"logoLight\":{\"url\":\"https://s.pstatic.net/static/newsstand/2020/logo/light/0604/440.png\"},\"logoDark\":{\"url\":\"https://s.pstatic.net/static/newsstand/2020/logo/dark/0604/440.png\"},\"showThumbnailView\":true,\"showListView\":true,\"regDate\":\"20250818 16:00:01\",\"_id\":null,\"@type\":\"PC-NEWSSTAND-PRESS-BLOCK\",\"@code\":null,\"@template\":\"NONE\",\"@flowId\":null,\"@flowExecutionId\":null,\"@provider\":null,\"@lastModifiedAt\":null},{\"@type\":\"PC-NEWSSTAND-PRESS-BLOCK\",\"blocks\":null,\"materials\":null,\"excludeInPaging\":false,\"positionForPaging\":0,\"realtime\":false,\"pid\":\"682\",\"name\":\"여성경제신문\",\"logoLight\":{\"url\":\"https://s.pstatic.net/static/newsstand/up/2022/1018/nsd132851977.png\"},\"logoDark\":{\"url\":\"https://s.pstatic.net/static/newsstand/up/2022/1018/nsd132844419.png\"},\"showThumbnailView\":true,\"showListView\":true,\"regDate\":\"20250818 16:00:45\",\"_id\":null,\"@type\":\"PC-NEWSSTAND-PRESS-BLOCK\",\"@code\":null,\"@template\":\"NONE\",\"@flowId\":null,\"@flowExecutionId\":null,\"@provider\":null,\"@lastModifiedAt\":null},{\"@type\":\"PC-NEWSSTAND-PRESS-BLOCK\",\"blocks\":null,\"materials\":null,\"excludeInPaging\":false,\"positionForPaging\":0,\"realtime\":false,\"pid\":\"683\",\"name\":\"MS투데이\",\"logoLight\":{\"url\":\"https://s.pstatic.net/static/newsstand/up/2022/1017/nsd202940832.png\"},\"logoDark\":{\"url\":\"https://s.pstatic.net/static/newsstand/up/2022/1017/nsd202933363.png\"},\"showThumbnailView\":true,\"showListView\":true,\"regDate\":\"20250818 16:00:46\",\"_id\":null,\"@type\":\"PC-NEWSSTAND-PRESS-BLOCK\",\"@code\":null,\"@template\":\"NONE\",\"@flowId\":null,\"@flowExecutionId\":null,\"@provider\":null,\"@lastModifiedAt\":null},{\"@type\":\"PC-NEWSSTAND-PRESS-BLOCK\",\"blocks\":null,\"materials\":null,\"excludeInPaging\":false,\"positionForPaging\":0,\"realtime\":false,\"pid\":\"684\",\"name\":\"TJB대전방송\",\"logoLight\":{\"url\":\"https://s.pstatic.net/static/newsstand/up/2023/0103/nsd95227559.png\"},\"logoDark\":{\"url\":\"https://s.pstatic.net/static/newsstand/up/2023/0103/nsd9522095.png\"},\"showThumbnailView\":true,\"showListView\":true,\"regDate\":\"20250818 16:03:01\",\"_id\":null,\"@type\":\"PC-NEWSSTAND-PRESS-BLOCK\",\"@code\":null,\"@template\":\"NONE\",\"@flowId\":null,\"@flowExecutionId\":null,\"@provider\":null,\"@lastModifiedAt\":null},{\"@type\":\"PC-NEWSSTAND-PRESS-BLOCK\",\"blocks\":null,\"materials\":null,\"excludeInPaging\":false,\"positionForPaging\":0,\"realtime\":false,\"pid\":\"685\",\"name\":\"서울와이어\",\"logoLight\":{\"url\":\"https://s.pstatic.net/static/newsstand/up/2022/1024/nsd174430433.png\"},\"logoDark\":{\"url\":\"https://s.pstatic.net/static/newsstand/up/2022/1024/nsd174424325.png\"},\"showThumbnailView\":true,\"showListView\":true,\"regDate\":\"20250818 16:00:46\",\"_id\":null,\"@type\":\"PC-NEWSSTAND-PRESS-BLOCK\",\"@code\":null,\"@template\":\"NONE\",\"@flowId\":null,\"@flowExecutionId\":null,\"@provider\":null,\"@lastModifiedAt\":null},{\"@type\":\"PC-NEWSSTAND-PRESS-BLOCK\",\"blocks\":null,\"materials\":null,\"excludeInPaging\":false,\"positionForPaging\":0,\"realtime\":false,\"pid\":\"686\",\"name\":\"주간경향\",\"logoLight\":{\"url\":\"https://s.pstatic.net/static/newsstand/up/2025/0418/nsd181217467.png\"},\"logoDark\":{\"url\":\"https://s.pstatic.net/static/newsstand/up/2025/0418/nsd181231652.png\"},\"showThumbnailView\":true,\"showListView\":true,\"regDate\":\"20250818 15:50:22\",\"_id\":null,\"@type\":\"PC-NEWSSTAND-PRESS-BLOCK\",\"@code\":null,\"@template\":\"NONE\",\"@flowId\":null,\"@flowExecutionId\":null,\"@provider\":null,\"@lastModifiedAt\":null},{\"@type\":\"PC-NEWSSTAND-PRESS-BLOCK\",\"blocks\":null,\"materials\":null,\"excludeInPaging\":false,\"positionForPaging\":0,\"realtime\":false,\"pid\":\"687\",\"name\":\"뉴스클레임\",\"logoLight\":{\"url\":\"https://s.pstatic.net/static/newsstand/up/2022/1006/nsd205818702.png\"},\"logoDark\":{\"url\":\"https://s.pstatic.net/static/newsstand/up/2022/1006/nsd205810265.png\"},\"showThumbnailView\":true,\"showListView\":true,\"regDate\":\"20250818 16:00:44\",\"_id\":null,\"@type\":\"PC-NEWSSTAND-PRESS-BLOCK\",\"@code\":null,\"@template\":\"NONE\",\"@flowId\":null,\"@flowExecutionId\":null,\"@provider\":null,\"@lastModifiedAt\":null},{\"@type\":\"PC-NEWSSTAND-PRESS-BLOCK\",\"blocks\":null,\"materials\":null,\"excludeInPaging\":false,\"positionForPaging\":0,\"realtime\":false,\"pid\":\"688\",\"name\":\"경기신문\",\"logoLight\":{\"url\":\"https://s.pstatic.net/static/newsstand/up/2022/1017/nsd202616515.png\"},\"logoDark\":{\"url\":\"https://s.pstatic.net/static/newsstand/up/2022/1017/nsd20268714.png\"},\"showThumbnailView\":true,\"showListView\":true,\"regDate\":\"20250818 16:00:02\",\"_id\":null,\"@type\":\"PC-NEWSSTAND-PRESS-BLOCK\",\"@code\":null,\"@template\":\"NONE\",\"@flowId\":null,\"@flowExecutionId\":null,\"@provider\":null,\"@lastModifiedAt\":null},{\"@type\":\"PC-NEWSSTAND-PRESS-BLOCK\",\"blocks\":null,\"materials\":null,\"excludeInPaging\":false,\"positionForPaging\":0,\"realtime\":false,\"pid\":\"326\",\"name\":\"KBS World\",\"logoLight\":{\"url\":\"https://s.pstatic.net/static/newsstand/2020/logo/light/0604/326.png\"},\"logoDark\":{\"url\":\"https://s.pstatic.net/static/newsstand/2020/logo/dark/0604/326.png\"},\"showThumbnailView\":true,\"showListView\":true,\"regDate\":\"20250818 15:58:29\",\"_id\":null,\"@type\":\"PC-NEWSSTAND-PRESS-BLOCK\",\"@code\":null,\"@template\":\"NONE\",\"@flowId\":null,\"@flowExecutionId\":null,\"@provider\":null,\"@lastModifiedAt\":null},{\"@type\":\"PC-NEWSSTAND-PRESS-BLOCK\",\"blocks\":null,\"materials\":null,\"excludeInPaging\":false,\"positionForPaging\":0,\"realtime\":false,\"pid\":\"447\",\"name\":\"뉴스엔\",\"logoLight\":{\"url\":\"https://s.pstatic.net/static/newsstand/2020/logo/light/0604/447.png\"},\"logoDark\":{\"url\":\"https://s.pstatic.net/static/newsstand/2020/logo/dark/0604/447.png\"},\"showThumbnailView\":true,\"showListView\":true,\"regDate\":\"20250818 14:57:47\",\"_id\":null,\"@type\":\"PC-NEWSSTAND-PRESS-BLOCK\",\"@code\":null,\"@template\":\"NONE\",\"@flowId\":null,\"@flowExecutionId\":null,\"@provider\":null,\"@lastModifiedAt\":null},{\"@type\":\"PC-NEWSSTAND-PRESS-BLOCK\",\"blocks\":null,\"materials\":null,\"excludeInPaging\":false,\"positionForPaging\":0,\"realtime\":false,\"pid\":\"689\",\"name\":\"인천투데이\",\"logoLight\":{\"url\":\"https://s.pstatic.net/static/newsstand/up/2022/1107/nsd1054226.png\"},\"logoDark\":{\"url\":\"https://s.pstatic.net/static/newsstand/up/2022/1107/nsd105354391.png\"},\"showThumbnailView\":true,\"showListView\":true,\"regDate\":\"20250818 16:00:45\",\"_id\":null,\"@type\":\"PC-NEWSSTAND-PRESS-BLOCK\",\"@code\":null,\"@template\":\"NONE\",\"@flowId\":null,\"@flowExecutionId\":null,\"@provider\":null,\"@lastModifiedAt\":null},{\"@type\":\"PC-NEWSSTAND-PRESS-BLOCK\",\"blocks\":null,\"materials\":null,\"excludeInPaging\":false,\"positionForPaging\":0,\"realtime\":false,\"pid\":\"327\",\"name\":\"뉴데일리\",\"logoLight\":{\"url\":\"https://s.pstatic.net/static/newsstand/up/2024/0124/nsd95528325.png\"},\"logoDark\":{\"url\":\"https://s.pstatic.net/static/newsstand/up/2024/0124/nsd95520363.png\"},\"showThumbnailView\":true,\"showListView\":true,\"regDate\":\"20250818 16:05:12\",\"_id\":null,\"@type\":\"PC-NEWSSTAND-PRESS-BLOCK\",\"@code\":null,\"@template\":\"NONE\",\"@flowId\":null,\"@flowExecutionId\":null,\"@provider\":null,\"@lastModifiedAt\":null},{\"@type\":\"PC-NEWSSTAND-PRESS-BLOCK\",\"blocks\":null,\"materials\":null,\"excludeInPaging\":false,\"positionForPaging\":0,\"realtime\":false,\"pid\":\"328\",\"name\":\"에이블뉴스\",\"logoLight\":{\"url\":\"https://s.pstatic.net/static/newsstand/2020/logo/light/0604/328.png\"},\"logoDark\":{\"url\":\"https://s.pstatic.net/static/newsstand/2020/logo/dark/0604/328.png\"},\"showThumbnailView\":true,\"showListView\":true,\"regDate\":\"20250818 16:00:47\",\"_id\":null,\"@type\":\"PC-NEWSSTAND-PRESS-BLOCK\",\"@code\":null,\"@template\":\"NONE\",\"@flowId\":null,\"@flowExecutionId\":null,\"@provider\":null,\"@lastModifiedAt\":null},{\"@type\":\"PC-NEWSSTAND-PRESS-BLOCK\",\"blocks\":null,\"materials\":null,\"excludeInPaging\":false,\"positionForPaging\":0,\"realtime\":false,\"pid\":\"329\",\"name\":\"소년한국일보\",\"logoLight\":{\"url\":\"https://s.pstatic.net/static/newsstand/up/2021/0728/nsd1110888.png\"},\"logoDark\":{\"url\":\"https://s.pstatic.net/static/newsstand/up/2021/0728/nsd111059924.png\"},\"showThumbnailView\":true,\"showListView\":true,\"regDate\":\"20250818 16:00:37\",\"_id\":null,\"@type\":\"PC-NEWSSTAND-PRESS-BLOCK\",\"@code\":null,\"@template\":\"NONE\",\"@flowId\":null,\"@flowExecutionId\":null,\"@provider\":null,\"@lastModifiedAt\":null},{\"@type\":\"PC-NEWSSTAND-PRESS-BLOCK\",\"blocks\":null,\"materials\":null,\"excludeInPaging\":false,\"positionForPaging\":0,\"realtime\":false,\"pid\":\"690\",\"name\":\"정책브리핑\",\"logoLight\":{\"url\":\"https://s.pstatic.net/static/newsstand/up/2022/1116/nsd113848865.png\"},\"logoDark\":{\"url\":\"https://s.pstatic.net/static/newsstand/up/2022/1116/nsd113840778.png\"},\"showThumbnailView\":true,\"showListView\":true,\"regDate\":\"20250818 15:57:02\",\"_id\":null,\"@type\":\"PC-NEWSSTAND-PRESS-BLOCK\",\"@code\":null,\"@template\":\"NONE\",\"@flowId\":null,\"@flowExecutionId\":null,\"@provider\":null,\"@lastModifiedAt\":null},{\"@type\":\"PC-NEWSSTAND-PRESS-BLOCK\",\"blocks\":null,\"materials\":null,\"excludeInPaging\":false,\"positionForPaging\":0,\"realtime\":false,\"pid\":\"691\",\"name\":\"여성동아\",\"logoLight\":{\"url\":\"https://s.pstatic.net/static/newsstand/up/2023/0418/nsd124451202.png\"},\"logoDark\":{\"url\":\"https://s.pstatic.net/static/newsstand/up/2023/0418/nsd124439166.png\"},\"showThumbnailView\":true,\"showListView\":true,\"regDate\":\"20250818 15:25:26\",\"_id\":null,\"@type\":\"PC-NEWSSTAND-PRESS-BLOCK\",\"@code\":null,\"@template\":\"NONE\",\"@flowId\":null,\"@flowExecutionId\":null,\"@provider\":null,\"@lastModifiedAt\":null},{\"@type\":\"PC-NEWSSTAND-PRESS-BLOCK\",\"blocks\":null,\"materials\":null,\"excludeInPaging\":false,\"positionForPaging\":0,\"realtime\":false,\"pid\":\"330\",\"name\":\"중앙데일리\",\"logoLight\":{\"url\":\"https://s.pstatic.net/static/newsstand/up/2025/0418/nsd182012954.png\"},\"logoDark\":{\"url\":\"https://s.pstatic.net/static/newsstand/up/2025/0418/nsd182025175.png\"},\"showThumbnailView\":true,\"showListView\":true,\"regDate\":\"20250818 15:48:44\",\"_id\":null,\"@type\":\"PC-NEWSSTAND-PRESS-BLOCK\",\"@code\":null,\"@template\":\"NONE\",\"@flowId\":null,\"@flowExecutionId\":null,\"@provider\":null,\"@lastModifiedAt\":null},{\"@type\":\"PC-NEWSSTAND-PRESS-BLOCK\",\"blocks\":null,\"materials\":null,\"excludeInPaging\":false,\"positionForPaging\":0,\"realtime\":false,\"pid\":\"331\",\"name\":\"충청투데이\",\"logoLight\":{\"url\":\"https://s.pstatic.net/static/newsstand/2020/logo/light/0604/331.png\"},\"logoDark\":{\"url\":\"https://s.pstatic.net/static/newsstand/2020/logo/dark/0604/331.png\"},\"showThumbnailView\":true,\"showListView\":true,\"regDate\":\"20250817 17:28:55\",\"_id\":null,\"@type\":\"PC-NEWSSTAND-PRESS-BLOCK\",\"@code\":null,\"@template\":\"NONE\",\"@flowId\":null,\"@flowExecutionId\":null,\"@provider\":null,\"@lastModifiedAt\":null},{\"@type\":\"PC-NEWSSTAND-PRESS-BLOCK\",\"blocks\":null,\"materials\":null,\"excludeInPaging\":false,\"positionForPaging\":0,\"realtime\":false,\"pid\":\"332\",\"name\":\"국제신문\",\"logoLight\":{\"url\":\"https://s.pstatic.net/static/newsstand/up/2025/0418/nsd165638566.png\"},\"logoDark\":{\"url\":\"https://s.pstatic.net/static/newsstand/up/2025/0418/nsd165653491.png\"},\"showThumbnailView\":true,\"showListView\":true,\"regDate\":\"20250818 16:03:04\",\"_id\":null,\"@type\":\"PC-NEWSSTAND-PRESS-BLOCK\",\"@code\":null,\"@template\":\"NONE\",\"@flowId\":null,\"@flowExecutionId\":null,\"@provider\":null,\"@lastModifiedAt\":null},{\"@type\":\"PC-NEWSSTAND-PRESS-BLOCK\",\"blocks\":null,\"materials\":null,\"excludeInPaging\":false,\"positionForPaging\":0,\"realtime\":false,\"pid\":\"333\",\"name\":\"경남신문\",\"logoLight\":{\"url\":\"https://s.pstatic.net/static/newsstand/2020/logo/light/0604/333.png\"},\"logoDark\":{\"url\":\"https://s.pstatic.net/static/newsstand/2020/logo/dark/0604/333.png\"},\"showThumbnailView\":true,\"showListView\":true,\"regDate\":\"20250818 16:01:10\",\"_id\":null,\"@type\":\"PC-NEWSSTAND-PRESS-BLOCK\",\"@code\":null,\"@template\":\"NONE\",\"@flowId\":null,\"@flowExecutionId\":null,\"@provider\":null,\"@lastModifiedAt\":null},{\"@type\":\"PC-NEWSSTAND-PRESS-BLOCK\",\"blocks\":null,\"materials\":null,\"excludeInPaging\":false,\"positionForPaging\":0,\"realtime\":false,\"pid\":\"213\",\"name\":\"TV리포트\",\"logoLight\":{\"url\":\"https://s.pstatic.net/static/newsstand/up/2023/0714/nsd125517690.png\"},\"logoDark\":{\"url\":\"https://s.pstatic.net/static/newsstand/up/2023/0714/nsd125510155.png\"},\"showThumbnailView\":true,\"showListView\":true,\"regDate\":\"20250818 14:55:02\",\"_id\":null,\"@type\":\"PC-NEWSSTAND-PRESS-BLOCK\",\"@code\":null,\"@template\":\"NONE\",\"@flowId\":null,\"@flowExecutionId\":null,\"@provider\":null,\"@lastModifiedAt\":null},{\"@type\":\"PC-NEWSSTAND-PRESS-BLOCK\",\"blocks\":null,\"materials\":null,\"excludeInPaging\":false,\"positionForPaging\":0,\"realtime\":false,\"pid\":\"334\",\"name\":\"제주의소리\",\"logoLight\":{\"url\":\"https://s.pstatic.net/static/newsstand/2020/logo/light/0604/334.png\"},\"logoDark\":{\"url\":\"https://s.pstatic.net/static/newsstand/2020/logo/dark/0604/334.png\"},\"showThumbnailView\":true,\"showListView\":true,\"regDate\":\"20250818 15:52:50\",\"_id\":null,\"@type\":\"PC-NEWSSTAND-PRESS-BLOCK\",\"@code\":null,\"@template\":\"NONE\",\"@flowId\":null,\"@flowExecutionId\":null,\"@provider\":null,\"@lastModifiedAt\":null},{\"@type\":\"PC-NEWSSTAND-PRESS-BLOCK\",\"blocks\":null,\"materials\":null,\"excludeInPaging\":false,\"positionForPaging\":0,\"realtime\":false,\"pid\":\"214\",\"name\":\"MBC\",\"logoLight\":{\"url\":\"https://s.pstatic.net/static/newsstand/up/2025/0418/nsd161450864.png\"},\"logoDark\":{\"url\":\"https://s.pstatic.net/static/newsstand/up/2025/0418/nsd161561.png\"},\"showThumbnailView\":true,\"showListView\":true,\"regDate\":\"20250818 16:00:08\",\"_id\":null,\"@type\":\"PC-NEWSSTAND-PRESS-BLOCK\",\"@code\":null,\"@template\":\"NONE\",\"@flowId\":null,\"@flowExecutionId\":null,\"@provider\":null,\"@lastModifiedAt\":null},{\"@type\":\"PC-NEWSSTAND-PRESS-BLOCK\",\"blocks\":null,\"materials\":null,\"excludeInPaging\":false,\"positionForPaging\":0,\"realtime\":false,\"pid\":\"335\",\"name\":\"강원도민일보\",\"logoLight\":{\"url\":\"https://s.pstatic.net/static/newsstand/up/2025/0418/nsd162426349.png\"},\"logoDark\":{\"url\":\"https://s.pstatic.net/static/newsstand/up/2025/0418/nsd162439445.png\"},\"showThumbnailView\":true,\"showListView\":true,\"regDate\":\"20250818 15:37:55\",\"_id\":null,\"@type\":\"PC-NEWSSTAND-PRESS-BLOCK\",\"@code\":null,\"@template\":\"NONE\",\"@flowId\":null,\"@flowExecutionId\":null,\"@provider\":null,\"@lastModifiedAt\":null},{\"@type\":\"PC-NEWSSTAND-PRESS-BLOCK\",\"blocks\":null,\"materials\":null,\"excludeInPaging\":false,\"positionForPaging\":0,\"realtime\":false,\"pid\":\"215\",\"name\":\"한국경제TV\",\"logoLight\":{\"url\":\"https://s.pstatic.net/static/newsstand/up/2025/0418/nsd182944971.png\"},\"logoDark\":{\"url\":\"https://s.pstatic.net/static/newsstand/up/2025/0418/nsd18301174.png\"},\"showThumbnailView\":true,\"showListView\":true,\"regDate\":\"20250818 16:00:28\",\"_id\":null,\"@type\":\"PC-NEWSSTAND-PRESS-BLOCK\",\"@code\":null,\"@template\":\"NONE\",\"@flowId\":null,\"@flowExecutionId\":null,\"@provider\":null,\"@lastModifiedAt\":null},{\"@type\":\"PC-NEWSSTAND-PRESS-BLOCK\",\"blocks\":null,\"materials\":null,\"excludeInPaging\":false,\"positionForPaging\":0,\"realtime\":false,\"pid\":\"336\",\"name\":\"전북일보\",\"logoLight\":{\"url\":\"https://s.pstatic.net/static/newsstand/2020/logo/light/0604/336.png\"},\"logoDark\":{\"url\":\"https://s.pstatic.net/static/newsstand/2020/logo/dark/0604/336.png\"},\"showThumbnailView\":true,\"showListView\":true,\"regDate\":\"20250818 13:43:38\",\"_id\":null,\"@type\":\"PC-NEWSSTAND-PRESS-BLOCK\",\"@code\":null,\"@template\":\"NONE\",\"@flowId\":null,\"@flowExecutionId\":null,\"@provider\":null,\"@lastModifiedAt\":null},{\"@type\":\"PC-NEWSSTAND-PRESS-BLOCK\",\"blocks\":null,\"materials\":null,\"excludeInPaging\":false,\"positionForPaging\":0,\"realtime\":false,\"pid\":\"337\",\"name\":\"경북일보\",\"logoLight\":{\"url\":\"https://s.pstatic.net/static/newsstand/2020/logo/light/0604/337.png\"},\"logoDark\":{\"url\":\"https://s.pstatic.net/static/newsstand/2020/logo/dark/0604/337.png\"},\"showThumbnailView\":true,\"showListView\":true,\"regDate\":\"20250817 22:25:20\",\"_id\":null,\"@type\":\"PC-NEWSSTAND-PRESS-BLOCK\",\"@code\":null,\"@template\":\"NONE\",\"@flowId\":null,\"@flowExecutionId\":null,\"@provider\":null,\"@lastModifiedAt\":null},{\"@type\":\"PC-NEWSSTAND-PRESS-BLOCK\",\"blocks\":null,\"materials\":null,\"excludeInPaging\":false,\"positionForPaging\":0,\"realtime\":false,\"pid\":\"338\",\"name\":\"경인일보\",\"logoLight\":{\"url\":\"https://s.pstatic.net/static/newsstand/2020/logo/light/0604/338.png\"},\"logoDark\":{\"url\":\"https://s.pstatic.net/static/newsstand/2020/logo/dark/0604/338.png\"},\"showThumbnailView\":true,\"showListView\":true,\"regDate\":\"20250818 16:05:16\",\"_id\":null,\"@type\":\"PC-NEWSSTAND-PRESS-BLOCK\",\"@code\":null,\"@template\":\"NONE\",\"@flowId\":null,\"@flowExecutionId\":null,\"@provider\":null,\"@lastModifiedAt\":null},{\"@type\":\"PC-NEWSSTAND-PRESS-BLOCK\",\"blocks\":null,\"materials\":null,\"excludeInPaging\":false,\"positionForPaging\":0,\"realtime\":false,\"pid\":\"339\",\"name\":\"경기일보\",\"logoLight\":{\"url\":\"https://s.pstatic.net/static/newsstand/up/2025/0418/nsd165241278.png\"},\"logoDark\":{\"url\":\"https://s.pstatic.net/static/newsstand/up/2025/0418/nsd165254812.png\"},\"showThumbnailView\":true,\"showListView\":true,\"regDate\":\"20250818 14:48:26\",\"_id\":null,\"@type\":\"PC-NEWSSTAND-PRESS-BLOCK\",\"@code\":null,\"@template\":\"NONE\",\"@flowId\":null,\"@flowExecutionId\":null,\"@provider\":null,\"@lastModifiedAt\":null},{\"@type\":\"PC-NEWSSTAND-PRESS-BLOCK\",\"blocks\":null,\"materials\":null,\"excludeInPaging\":false,\"positionForPaging\":0,\"realtime\":false,\"pid\":\"340\",\"name\":\"OBS\",\"logoLight\":{\"url\":\"https://s.pstatic.net/static/newsstand/2020/logo/light/0604/340.png\"},\"logoDark\":{\"url\":\"https://s.pstatic.net/static/newsstand/2020/logo/dark/0604/340.png\"},\"showThumbnailView\":true,\"showListView\":true,\"regDate\":\"20250818 12:53:10\",\"_id\":null,\"@type\":\"PC-NEWSSTAND-PRESS-BLOCK\",\"@code\":null,\"@template\":\"NONE\",\"@flowId\":null,\"@flowExecutionId\":null,\"@provider\":null,\"@lastModifiedAt\":null},{\"@type\":\"PC-NEWSSTAND-PRESS-BLOCK\",\"blocks\":null,\"materials\":null,\"excludeInPaging\":false,\"positionForPaging\":0,\"realtime\":false,\"pid\":\"344\",\"name\":\"EBS\",\"logoLight\":{\"url\":\"https://s.pstatic.net/static/newsstand/up/2020/0803/nsd20247547.png\"},\"logoDark\":{\"url\":\"https://s.pstatic.net/static/newsstand/up/2020/0803/nsd202358800.png\"},\"showThumbnailView\":true,\"showListView\":true,\"regDate\":\"20250818 15:46:55\",\"_id\":null,\"@type\":\"PC-NEWSSTAND-PRESS-BLOCK\",\"@code\":null,\"@template\":\"NONE\",\"@flowId\":null,\"@flowExecutionId\":null,\"@provider\":null,\"@lastModifiedAt\":null},{\"@type\":\"PC-NEWSSTAND-PRESS-BLOCK\",\"blocks\":null,\"materials\":null,\"excludeInPaging\":false,\"positionForPaging\":0,\"realtime\":false,\"pid\":\"345\",\"name\":\"디자인정글\",\"logoLight\":{\"url\":\"https://s.pstatic.net/static/newsstand/2020/logo/light/0604/345.png\"},\"logoDark\":{\"url\":\"https://s.pstatic.net/static/newsstand/2020/logo/dark/0604/345.png\"},\"showThumbnailView\":true,\"showListView\":true,\"regDate\":\"20250811 15:12:58\",\"_id\":null,\"@type\":\"PC-NEWSSTAND-PRESS-BLOCK\",\"@code\":null,\"@template\":\"NONE\",\"@flowId\":null,\"@flowExecutionId\":null,\"@provider\":null,\"@lastModifiedAt\":null},{\"@type\":\"PC-NEWSSTAND-PRESS-BLOCK\",\"blocks\":null,\"materials\":null,\"excludeInPaging\":false,\"positionForPaging\":0,\"realtime\":false,\"pid\":\"346\",\"name\":\"헬스조선\",\"logoLight\":{\"url\":\"https://s.pstatic.net/static/newsstand/up/2025/0418/nsd183246211.png\"},\"logoDark\":{\"url\":\"https://s.pstatic.net/static/newsstand/up/2025/0418/nsd183259246.png\"},\"showThumbnailView\":true,\"showListView\":true,\"regDate\":\"20250818 16:04:02\",\"_id\":null,\"@type\":\"PC-NEWSSTAND-PRESS-BLOCK\",\"@code\":null,\"@template\":\"NONE\",\"@flowId\":null,\"@flowExecutionId\":null,\"@provider\":null,\"@lastModifiedAt\":null},{\"@type\":\"PC-NEWSSTAND-PRESS-BLOCK\",\"blocks\":null,\"materials\":null,\"excludeInPaging\":false,\"positionForPaging\":0,\"realtime\":false,\"pid\":\"108\",\"name\":\"스타뉴스\",\"logoLight\":{\"url\":\"https://s.pstatic.net/static/newsstand/2020/logo/light/0604/108.png\"},\"logoDark\":{\"url\":\"https://s.pstatic.net/static/newsstand/2020/logo/dark/0604/108.png\"},\"showThumbnailView\":true,\"showListView\":true,\"regDate\":\"20250818 16:05:02\",\"_id\":null,\"@type\":\"PC-NEWSSTAND-PRESS-BLOCK\",\"@code\":null,\"@template\":\"NONE\",\"@flowId\":null,\"@flowExecutionId\":null,\"@provider\":null,\"@lastModifiedAt\":null},{\"@type\":\"PC-NEWSSTAND-PRESS-BLOCK\",\"blocks\":null,\"materials\":null,\"excludeInPaging\":false,\"positionForPaging\":0,\"realtime\":false,\"pid\":\"109\",\"name\":\"OSEN\",\"logoLight\":{\"url\":\"https://s.pstatic.net/static/newsstand/up/2020/0610/nsd151458769.png\"},\"logoDark\":{\"url\":\"https://s.pstatic.net/static/newsstand/up/2020/0610/nsd151458769.png\"},\"showThumbnailView\":true,\"showListView\":true,\"regDate\":\"20250818 09:49:50\",\"_id\":null,\"@type\":\"PC-NEWSSTAND-PRESS-BLOCK\",\"@code\":null,\"@template\":\"NONE\",\"@flowId\":null,\"@flowExecutionId\":null,\"@provider\":null,\"@lastModifiedAt\":null},{\"@type\":\"PC-NEWSSTAND-PRESS-BLOCK\",\"blocks\":null,\"materials\":null,\"excludeInPaging\":false,\"positionForPaging\":0,\"realtime\":false,\"pid\":\"901\",\"name\":\"제민일보\",\"logoLight\":{\"url\":\"https://s.pstatic.net/static/newsstand/up/2020/1119/nsd213345745.png\"},\"logoDark\":{\"url\":\"https://s.pstatic.net/static/newsstand/up/2020/1119/nsd213339585.png\"},\"showThumbnailView\":true,\"showListView\":true,\"regDate\":\"20250817 19:07:26\",\"_id\":null,\"@type\":\"PC-NEWSSTAND-PRESS-BLOCK\",\"@code\":null,\"@template\":\"NONE\",\"@flowId\":null,\"@flowExecutionId\":null,\"@provider\":null,\"@lastModifiedAt\":null},{\"@type\":\"PC-NEWSSTAND-PRESS-BLOCK\",\"blocks\":null,\"materials\":null,\"excludeInPaging\":false,\"positionForPaging\":0,\"realtime\":false,\"pid\":\"902\",\"name\":\"TV조선\",\"logoLight\":{\"url\":\"https://s.pstatic.net/static/newsstand/up/2025/0418/nsd162017484.png\"},\"logoDark\":{\"url\":\"https://s.pstatic.net/static/newsstand/up/2025/0418/nsd162032135.png\"},\"showThumbnailView\":true,\"showListView\":true,\"regDate\":\"20250818 16:07:59\",\"_id\":null,\"@type\":\"PC-NEWSSTAND-PRESS-BLOCK\",\"@code\":null,\"@template\":\"NONE\",\"@flowId\":null,\"@flowExecutionId\":null,\"@provider\":null,\"@lastModifiedAt\":null},{\"@type\":\"PC-NEWSSTAND-PRESS-BLOCK\",\"blocks\":null,\"materials\":null,\"excludeInPaging\":false,\"positionForPaging\":0,\"realtime\":false,\"pid\":\"903\",\"name\":\"채널A\",\"logoLight\":{\"url\":\"https://s.pstatic.net/static/newsstand/up/2025/0418/nsd181916575.png\"},\"logoDark\":{\"url\":\"https://s.pstatic.net/static/newsstand/up/2025/0418/nsd181929906.png\"},\"showThumbnailView\":true,\"showListView\":true,\"regDate\":\"20250818 16:00:30\",\"_id\":null,\"@type\":\"PC-NEWSSTAND-PRESS-BLOCK\",\"@code\":null,\"@template\":\"NONE\",\"@flowId\":null,\"@flowExecutionId\":null,\"@provider\":null,\"@lastModifiedAt\":null},{\"@type\":\"PC-NEWSSTAND-PRESS-BLOCK\",\"blocks\":null,\"materials\":null,\"excludeInPaging\":false,\"positionForPaging\":0,\"realtime\":false,\"pid\":\"904\",\"name\":\"JTBC\",\"logoLight\":{\"url\":\"https://s.pstatic.net/static/newsstand/up/2025/0418/nsd169122.png\"},\"logoDark\":{\"url\":\"https://s.pstatic.net/static/newsstand/up/2025/0418/nsd16919234.png\"},\"showThumbnailView\":true,\"showListView\":true,\"regDate\":\"20250818 15:52:24\",\"_id\":null,\"@type\":\"PC-NEWSSTAND-PRESS-BLOCK\",\"@code\":null,\"@template\":\"NONE\",\"@flowId\":null,\"@flowExecutionId\":null,\"@provider\":null,\"@lastModifiedAt\":null},{\"@type\":\"PC-NEWSSTAND-PRESS-BLOCK\",\"blocks\":null,\"materials\":null,\"excludeInPaging\":false,\"positionForPaging\":0,\"realtime\":false,\"pid\":\"905\",\"name\":\"더스쿠프\",\"logoLight\":{\"url\":\"https://s.pstatic.net/static/newsstand/up/2025/0418/nsd1761708.png\"},\"logoDark\":{\"url\":\"https://s.pstatic.net/static/newsstand/up/2025/0418/nsd17614327.png\"},\"showThumbnailView\":true,\"showListView\":true,\"regDate\":\"20250817 08:58:02\",\"_id\":null,\"@type\":\"PC-NEWSSTAND-PRESS-BLOCK\",\"@code\":null,\"@template\":\"NONE\",\"@flowId\":null,\"@flowExecutionId\":null,\"@provider\":null,\"@lastModifiedAt\":null},{\"@type\":\"PC-NEWSSTAND-PRESS-BLOCK\",\"blocks\":null,\"materials\":null,\"excludeInPaging\":false,\"positionForPaging\":0,\"realtime\":false,\"pid\":\"906\",\"name\":\"KNN\",\"logoLight\":{\"url\":\"https://s.pstatic.net/static/newsstand/2020/logo/light/0604/906.png\"},\"logoDark\":{\"url\":\"https://s.pstatic.net/static/newsstand/2020/logo/dark/0604/906.png\"},\"showThumbnailView\":true,\"showListView\":true,\"regDate\":\"20250818 10:48:15\",\"_id\":null,\"@type\":\"PC-NEWSSTAND-PRESS-BLOCK\",\"@code\":null,\"@template\":\"NONE\",\"@flowId\":null,\"@flowExecutionId\":null,\"@provider\":null,\"@lastModifiedAt\":null}],\"materials\":null,\"excludeInPaging\":false,\"positionForPaging\":0,\"realtime\":false,\"majorPidList\":[\"032\",\"005\",\"079\",\"327\",\"930\",\"003\",\"368\",\"020\",\"029\",\"117\",\"009\",\"088\",\"008\",\"021\",\"006\",\"293\",\"011\",\"081\",\"022\",\"073\",\"076\",\"308\",\"277\",\"920\",\"031\",\"422\",\"047\",\"018\",\"241\",\"030\",\"366\",\"023\",\"330\",\"025\",\"092\",\"903\",\"044\",\"014\",\"002\",\"028\",\"015\",\"215\",\"038\",\"016\",\"904\",\"056\",\"326\",\"214\",\"057\",\"109\",\"055\",\"052\"],\"minorPidList\":[\"944\",\"687\",\"913\",\"914\",\"960\",\"536\",\"804\",\"042\",\"812\",\"969\",\"417\",\"961\",\"809\",\"814\",\"942\",\"943\",\"973\",\"685\",\"824\",\"970\",\"816\",\"957\",\"975\",\"810\",\"921\",\"963\",\"682\",\"013\",\"801\",\"539\",\"964\",\"825\",\"243\",\"922\",\"803\",\"923\",\"971\",\"925\",\"690\",\"123\",\"353\",\"941\",\"143\",\"826\",\"822\",\"968\",\"993\",\"974\",\"932\",\"954\",\"120\",\"823\",\"683\",\"959\",\"972\",\"421\",\"916\",\"376\",\"934\",\"344\",\"980\",\"906\",\"340\",\"374\",\"989\",\"981\",\"684\",\"902\",\"945\",\"910\",\"138\",\"953\",\"952\",\"977\",\"994\",\"818\",\"917\",\"681\",\"040\",\"946\",\"830\",\"447\",\"108\",\"802\",\"144\",\"314\",\"396\",\"529\",\"940\",\"962\",\"139\",\"477\",\"311\",\"947\",\"312\",\"440\",\"410\",\"416\",\"213\",\"356\",\"908\",\"938\",\"984\",\"911\",\"998\",\"997\",\"995\",\"905\",\"991\",\"955\",\"363\",\"345\",\"364\",\"915\",\"024\",\"996\",\"075\",\"829\",\"819\",\"815\",\"122\",\"958\",\"827\",\"355\",\"808\",\"329\",\"135\",\"828\",\"140\",\"979\",\"328\",\"354\",\"691\",\"310\",\"094\",\"820\",\"950\",\"988\",\"982\",\"813\",\"924\",\"807\",\"965\",\"966\",\"686\",\"990\",\"361\",\"956\",\"928\",\"967\",\"296\",\"986\",\"951\",\"948\",\"806\",\"050\",\"805\",\"811\",\"384\",\"346\"],\"catePidList\":{\"ct7\":[\"356\",\"908\",\"938\",\"984\",\"911\",\"998\",\"997\",\"995\",\"905\",\"991\",\"955\",\"363\",\"345\",\"364\",\"915\",\"024\",\"996\",\"075\",\"829\",\"819\",\"815\",\"122\",\"958\",\"827\",\"355\",\"808\",\"329\",\"308\",\"135\",\"828\",\"140\",\"979\",\"328\",\"354\",\"691\",\"310\",\"094\",\"820\",\"950\",\"988\",\"982\",\"813\",\"924\",\"807\",\"965\",\"966\",\"686\",\"990\",\"361\",\"956\",\"928\",\"967\",\"296\",\"986\",\"951\",\"948\",\"806\",\"050\",\"805\",\"811\",\"384\",\"346\"],\"ct8\":[\"335\",\"087\",\"688\",\"339\",\"821\",\"333\",\"978\",\"907\",\"337\",\"935\",\"338\",\"083\",\"332\",\"909\",\"936\",\"089\",\"301\",\"088\",\"976\",\"817\",\"082\",\"385\",\"387\",\"689\",\"388\",\"937\",\"336\",\"901\",\"389\",\"334\",\"983\",\"926\",\"927\",\"391\",\"331\"],\"ct5\":[\"681\",\"330\",\"040\",\"044\",\"326\",\"946\"],\"ct6\":[\"830\",\"447\",\"117\",\"108\",\"802\",\"144\",\"314\",\"073\",\"396\",\"076\",\"529\",\"940\",\"962\",\"139\",\"477\",\"311\",\"241\",\"947\",\"312\",\"440\",\"410\",\"109\",\"416\",\"213\"],\"ct3\":[\"421\",\"003\",\"916\",\"422\",\"376\",\"903\",\"215\",\"934\",\"344\",\"904\",\"980\",\"056\",\"906\",\"214\",\"057\",\"340\",\"055\",\"374\",\"989\",\"981\",\"684\",\"902\",\"052\",\"945\"],\"ct4\":[\"910\",\"138\",\"029\",\"953\",\"952\",\"293\",\"030\",\"092\",\"977\",\"994\",\"818\",\"917\"],\"ct2\":[\"032\",\"005\",\"944\",\"079\",\"327\",\"687\",\"930\",\"913\",\"914\",\"960\",\"536\",\"804\",\"368\",\"042\",\"020\",\"812\",\"009\",\"969\",\"417\",\"008\",\"961\",\"021\",\"006\",\"809\",\"814\",\"942\",\"943\",\"973\",\"011\",\"081\",\"685\",\"824\",\"022\",\"970\",\"816\",\"957\",\"975\",\"810\",\"277\",\"920\",\"031\",\"921\",\"963\",\"682\",\"013\",\"047\",\"801\",\"539\",\"964\",\"018\",\"825\",\"243\",\"922\",\"803\",\"923\",\"971\",\"925\",\"690\",\"366\",\"023\",\"123\",\"353\",\"025\",\"941\",\"143\",\"826\",\"014\",\"822\",\"002\",\"028\",\"015\",\"968\",\"038\",\"993\",\"016\",\"974\",\"932\",\"954\",\"120\",\"823\",\"683\",\"959\",\"972\"]},\"targetLocalPidList\":[\"335\",\"087\",\"688\",\"339\",\"821\",\"333\",\"978\",\"907\",\"337\",\"935\",\"338\",\"083\",\"332\",\"909\",\"936\",\"089\",\"301\",\"976\",\"817\",\"082\",\"385\",\"387\",\"689\",\"388\",\"937\",\"336\",\"901\",\"389\",\"334\",\"983\",\"926\",\"927\",\"391\",\"331\"],\"subsPidList\":[],\"firstPressBlock\":null,\"rcode2\":\"default\",\"rcode\":\"default\",\"_id\":null,\"@type\":\"PC-NEWSSTAND-BLOCK\",\"@code\":\"PC-NEWSSTAND\",\"@template\":\"PC-NEWSSTAND\",\"@flowId\":null,\"@flowExecutionId\":null,\"@provider\":null,\"@lastModifiedAt\":null}],\"materials\":null,\"excludeInPaging\":false,\"positionForPaging\":0,\"realtime\":false,\"_id\":null,\"@type\":\"BLOCK\",\"@code\":\"PC-MEDIA-NEWSSTAND\",\"@template\":\"NONE\",\"@flowId\":null,\"@flowExecutionId\":null,\"@provider\":null,\"@lastModifiedAt\":null}],\"materials\":null,\"excludeInPaging\":false,\"positionForPaging\":0,\"realtime\":false,\"sportsLive\":true,\"_id\":\"643e68a5a10d3006855e268d\",\"@type\":\"PC-MEDIA-CONTENTS-BLOCK\",\"@code\":\"PC-MEDIA-WRAPPER\",\"@template\":\"PC-MEDIA-WRAPPER\",\"@flowId\":\"PC-MEDIA-WRAPPER\",\"@flowExecutionId\":\"6c5f8269-7c03-11f0-87ef-c572127b0b30\",\"@provider\":\"lambda\",\"@lastModifiedAt\":[2025,8,18,7,17,43,913000000]}\\nwindow[\"EAGER-DATA\"][\"PC-NEWSSTAND-YONHAP\"] = {\"@type\":\"BLOCK\",\"blocks\":[{\"@type\":\"BLOCK\",\"blocks\":null,\"materials\":[],\"excludeInPaging\":false,\"positionForPaging\":0,\"realtime\":false,\"_id\":null,\"@type\":\"BLOCK\",\"@code\":null,\"@template\":\"NONE\",\"@flowId\":null,\"@flowExecutionId\":null,\"@provider\":null,\"@lastModifiedAt\":null}],\"materials\":[{\"@type\":\"MATERIAL-PC-NEWS-ONELINE\",\"gdid\":null,\"title\":\"김건희, 구속후 두번째 조사도 진술거부…\\\\\"모른다·기억 안나\\\\\"\",\"url\":\"https://news.naver.com/main/list.naver?mode=LPOD&mid=sec&sid1=001&sid2=140&oid=001&isYeonhapFlash=Y&aid=0015571739\",\"aid\":null,\"emergency\":false,\"notCompleted\":false,\"officeName\":\"연합뉴스\",\"officeId\":\"001\",\"officeHomeUrl\":null,\"officeWeight\":0,\"officeWeightRate\":0.0,\"_id\":\"643543b2caf3d87b7e0a0da6\"},{\"@type\":\"MATERIAL-PC-NEWS-ONELINE\",\"gdid\":null,\"title\":\"李대통령 \\\\\"을지연습, 北 공격이나 한반도 긴장 고조 의도 없어\\\\\"\",\"url\":\"https://news.naver.com/main/list.naver?mode=LPOD&mid=sec&sid1=001&sid2=140&oid=001&isYeonhapFlash=Y&aid=0015571357\",\"aid\":null,\"emergency\":false,\"notCompleted\":false,\"officeName\":\"연합뉴스\",\"officeId\":\"001\",\"officeHomeUrl\":null,\"officeWeight\":0,\"officeWeightRate\":0.0,\"_id\":\"677344ca0dae05b66ec43489\"},{\"@type\":\"MATERIAL-PC-NEWS-ONELINE\",\"gdid\":null,\"title\":\"넥스트레이드, 79개 종목 거래중지 예고…\\'15%룰\\' 영향\",\"url\":\"https://news.naver.com/main/list.naver?mode=LPOD&mid=sec&sid1=001&sid2=140&oid=001&isYeonhapFlash=Y&aid=0015571608\",\"aid\":null,\"emergency\":false,\"notCompleted\":false,\"officeName\":\"연합뉴스\",\"officeId\":\"001\",\"officeHomeUrl\":null,\"officeWeight\":0,\"officeWeightRate\":0.0,\"_id\":\"677344ca0dae05b66ec4348a\"},{\"@type\":\"MATERIAL-PC-NEWS-ONELINE\",\"gdid\":null,\"title\":\"李대통령 \\\\\"언론의 고의적 왜곡·허위정보엔 책임 물어야\\\\\"\",\"url\":\"https://news.naver.com/main/list.naver?mode=LPOD&mid=sec&sid1=001&sid2=140&oid=001&isYeonhapFlash=Y&aid=0015571378\",\"aid\":null,\"emergency\":false,\"notCompleted\":false,\"officeName\":\"연합뉴스\",\"officeId\":\"001\",\"officeHomeUrl\":null,\"officeWeight\":0,\"officeWeightRate\":0.0,\"_id\":\"677344ca0dae05b66ec4348b\"},{\"@type\":\"MATERIAL-PC-NEWS-ONELINE\",\"gdid\":null,\"title\":\"특검, 내일 한덕수 소환…\\\\\"尹 보좌, 계엄 형사책임 조사\\\\\"\",\"url\":\"https://news.naver.com/main/list.naver?mode=LPOD&mid=sec&sid1=001&sid2=140&oid=001&isYeonhapFlash=Y&aid=0015571609\",\"aid\":null,\"emergency\":false,\"notCompleted\":false,\"officeName\":\"연합뉴스\",\"officeId\":\"001\",\"officeHomeUrl\":null,\"officeWeight\":0,\"officeWeightRate\":0.0,\"_id\":\"677344ca0dae05b66ec4348c\"},{\"@type\":\"MATERIAL-PC-NEWS-ONELINE\",\"gdid\":null,\"title\":\"\\\\\"尹부부 계엄 공동책임\\\\\" 위자료 소송…1만2천명 참여로 시작\",\"url\":\"https://news.naver.com/main/list.naver?mode=LPOD&mid=sec&sid1=001&sid2=140&oid=001&isYeonhapFlash=Y&aid=0015571187\",\"aid\":null,\"emergency\":false,\"notCompleted\":false,\"officeName\":\"연합뉴스\",\"officeId\":\"001\",\"officeHomeUrl\":null,\"officeWeight\":0,\"officeWeightRate\":0.0,\"_id\":\"683f13f2f74934e40c0fed6b\"},{\"@type\":\"MATERIAL-PC-NEWS-ONELINE\",\"gdid\":null,\"title\":\"유튜브 출연·DJ묘역 참배·복당신청…조국 정치행보 \\'시동\\'\",\"url\":\"https://news.naver.com/main/list.naver?mode=LPOD&mid=sec&sid1=001&sid2=140&oid=001&isYeonhapFlash=Y&aid=0015571186\",\"aid\":null,\"emergency\":false,\"notCompleted\":false,\"officeName\":\"연합뉴스\",\"officeId\":\"001\",\"officeHomeUrl\":null,\"officeWeight\":0,\"officeWeightRate\":0.0,\"_id\":\"6878979ea0b3054b67365363\"},{\"@type\":\"MATERIAL-PC-NEWS-ONELINE\",\"gdid\":null,\"title\":\"6·27대책에 7월 서울 집값 상승폭 축소…경기는 확대\",\"url\":\"https://news.naver.com/main/list.naver?mode=LPOD&mid=sec&sid1=001&sid2=140&oid=001&isYeonhapFlash=Y&aid=0015571339\",\"aid\":null,\"emergency\":false,\"notCompleted\":false,\"officeName\":\"연합뉴스\",\"officeId\":\"001\",\"officeHomeUrl\":null,\"officeWeight\":0,\"officeWeightRate\":0.0,\"_id\":\"6878c912557b0ee3fe1086d6\"},{\"@type\":\"MATERIAL-PC-NEWS-ONELINE\",\"gdid\":null,\"title\":\"서울 민간아파트 평균분양가 평당 4천536만원…전월대비 1.4%↓\",\"url\":\"https://news.naver.com/main/list.naver?mode=LPOD&mid=sec&sid1=001&sid2=140&oid=001&isYeonhapFlash=Y&aid=0015570766\",\"aid\":null,\"emergency\":false,\"notCompleted\":false,\"officeName\":\"연합뉴스\",\"officeId\":\"001\",\"officeHomeUrl\":null,\"officeWeight\":0,\"officeWeightRate\":0.0,\"_id\":\"68818016fdd2424b6e815e7f\"},{\"@type\":\"MATERIAL-PC-NEWS-ONELINE\",\"gdid\":null,\"title\":\"여가장관 후보자 \\\\\"청년 성평등 인식격차 심각…차별금지법 필요\\\\\"\",\"url\":\"https://news.naver.com/main/list.naver?mode=LPOD&mid=sec&sid1=001&sid2=140&oid=001&isYeonhapFlash=Y&aid=0015570833\",\"aid\":null,\"emergency\":false,\"notCompleted\":false,\"officeName\":\"연합뉴스\",\"officeId\":\"001\",\"officeHomeUrl\":null,\"officeWeight\":0,\"officeWeightRate\":0.0,\"_id\":\"689ea9660b650caa86bf3a51\"}],\"excludeInPaging\":false,\"positionForPaging\":0,\"realtime\":false,\"_id\":\"643543b2a10d3006850fa263\",\"@type\":\"BLOCK\",\"@code\":\"PC-NEWSSTAND-YONHAP\",\"@template\":\"PC-NEWSSTAND-YONHAP\",\"@flowId\":\"PC-YONHAP\",\"@flowExecutionId\":\"b3297511-7c03-11f0-aae1-a92e3ea7c98b\",\"@provider\":\"lambda\",\"@lastModifiedAt\":[2025,8,18,7,19,38,149000000]}\\nwindow[\"EAGER-DATA\"][\"PC-PREMIUM-AD\"] = {\"@type\":\"PC-PREMIUM-AD-BLOCK\",\"blocks\":null,\"materials\":null,\"excludeInPaging\":false,\"positionForPaging\":0,\"realtime\":false,\"adResponse\":{\"type\":\"N010\",\"adlineId\":null,\"vimp100p0s\":null,\"assets\":null,\"vimp50p1s\":\"https://siape.veta.naver.com/fxview?eu=EU10044434&calp=-&oj=UDLDkoMX9MMAyd8h7aqH5IcsGjYUhZ5xNt4E7l8v6lc&ac=8206821&src=4733402&evtcd=V900&x_ti=1362&tb=&oid=&sid1=&sid2=&rk=xG0SyYPCxEJJZHGgnc9VdQ&eltts=ZqQPOWf9m%2B%2BQsB2%2BmtDA0A%3D%3D&brs=Y&&eid=V900\"},\"_id\":null,\"@type\":null,\"@code\":\"PC-PREMIUM-AD\",\"@template\":\"PC-PREMIUM-AD\",\"@flowId\":null,\"@flowExecutionId\":null,\"@provider\":null,\"@lastModifiedAt\":null}\\nwindow[\"EAGER-DATA\"][\"PC-MYSERVICE-META\"] = {\"@type\":\"PC-MYSREVICE-META\",\"blocks\":null,\"materials\":null,\"excludeInPaging\":false,\"positionForPaging\":0,\"realtime\":false,\"serviceMetaList\":[],\"_id\":\"68414a73a10d30068523e7ee\",\"@type\":\"MY-SERVICE-META-BLOCK\",\"@code\":\"PC-MYSERVICE-META\",\"@template\":\"NONE\",\"@flowId\":\"PC-MYSERVICE-META\",\"@flowExecutionId\":\"c9ee02f3-7c03-11f0-aae1-1719a0ea1083\",\"@provider\":\"lambda\",\"@lastModifiedAt\":[2025,8,18,7,20,16,376000000]}\\nwindow[\"EAGER-DATA\"][\"CAS-MINICONTENT-PC-SEARCH-RIGHT\"] = {\"@type\":\"MINI-CONTENT-BLOCK\",\"blocks\":null,\"materials\":null,\"excludeInPaging\":false,\"positionForPaging\":0,\"realtime\":false,\"items\":[],\"_id\":\"6433d8a5a10d300685012682\",\"@type\":\"MINI-CONTENT-BLOCK\",\"@code\":\"CAS-MINICONTENT-PC-SEARCH-RIGHT\",\"@template\":\"NONE\",\"@flowId\":\"CAS-MINICONTENT\",\"@flowExecutionId\":\"b2addc70-7c03-11f0-aae1-315a1707060c\",\"@provider\":\"lambda\",\"@lastModifiedAt\":[2025,8,18,7,19,37,324000000]}\\nwindow[\"EAGER-DATA\"][\"PC-HEADLINE-AD\"] = {\"@type\":\"PC-HEADLINE-AD-BLOCK\",\"blocks\":null,\"materials\":null,\"excludeInPaging\":false,\"positionForPaging\":0,\"realtime\":false,\"adResponse\":{\"type\":\"N401\",\"adlineId\":\"3038463\",\"vimp100p0s\":\"https://siape.veta.naver.com/fxview?eu=EU10044129&calp=-&oj=ZJlEFeSBKmJXowR%2BgEfWLYcsGjYUhZ5xNt4E7l8v6lc&ac=9165526&src=7747152&evtcd=V900&x_ti=1585&tb=&oid=&sid1=&sid2=&rk=y7UkTtP4E6yjwIvYSgmuLA&eltts=ZqQPOWf9m%2B%2BQsB2%2BmtDA0A%3D%3D&brs=Y&&eid=V900\",\"assets\":{\"hl_web_img\":{\"url\":\"https://ssl.pstatic.net/melona/libs/1540/1540381/f061541430171db54622_20250813151250432.png\",\"alt\":\"[광고]로지텍 키보드 50% 할인까지! Adobe Creative Cloud\",\"w\":488,\"h\":216},\"hl_web_img_dark\":{\"url\":\"https://ssl.pstatic.net/melona/libs/1540/1540381/57330e0e9520fb2dff1e_20250813151259113.png\",\"alt\":\"[광고]로지텍 키보드 50% 할인까지! Adobe Creative Cloud\",\"w\":488,\"h\":216},\"hl_link\":{\"url\":\"https://siape.veta.naver.com/fxclick?eu=EU10044129&calp=-&oj=ZJlEFeSBKmJXowR%2BgEfWLYcsGjYUhZ5xNt4E7l8v6lc&ac=9165526&src=7747152&br=4796803&evtcd=P901&x_ti=1585&tb=&oid=&sid1=&sid2=&rk=y7UkTtP4E6yjwIvYSgmuLA&eltts=ZqQPOWf9m%2B%2BQsB2%2BmtDA0A%3D%3D&brs=Y&&a=4200B4867CA5A3A69FC32593652F41F6AC4A45428FEAFEADBB1D10510AC5569A7D740A7B9CA706623B399B3371B39F3E3A0C04B3B8F454EBB2B404B8AF72C3E1D65638C447297778E4D670D5BA79D9273529D3926175B0B4436C2FCFEA313088C128204547DEDABEB418A258F9F7D95D96488A352A7CDDBAFB9DAE\",\"clicktracking\":\"https://ssl.pstatic.net/tveta/libs/1by1.gif\"},\"bb_web_img\":{\"url\":\"https://ssl.pstatic.net/melona/libs/1540/1540381/f7ffbf1776fa604887f6_20250812152300306.png\",\"alt\":\"Adobe\",\"w\":80,\"h\":80},\"bb_web_img_dark\":{\"url\":\"https://ssl.pstatic.net/melona/libs/1540/1540381/f7ffbf1776fa604887f6_20250812152300306.png\",\"alt\":\"Adobe\",\"w\":80,\"h\":80},\"bb_link\":{\"url\":\"https://siape.veta.naver.com/fxclick?eu=EU10044129&calp=-&oj=ZJlEFeSBKmJXowR%2BgEfWLYcsGjYUhZ5xNt4E7l8v6lc&ac=9165526&src=7747154&br=4796804&evtcd=BUBBLE_CLK_1&x_ti=1585&tb=&oid=&sid1=&sid2=&rk=y7UkTtP4E6yjwIvYSgmuLA&eltts=ZqQPOWf9m%2B%2BQsB2%2BmtDA0A%3D%3D&brs=Y&&a=287F67F11A346792C2BB9682124DDC029FF0ADE7AC73C7980D76C0EB1B30862E7FE1C3A23AF231CA681C1D35AE4C85F111986FF3CA864CF34518425E0D006E3D387B6BCE6A51CBF4C9550B793A953A8F90A58267B7568BC9FBA342E84AA3809307237FAE3D47D22B054866B8BA63C3D13E1903ADC886B7E136297B\",\"clicktracking\":\"https://ssl.pstatic.net/tveta/libs/1by1.gif\"},\"bb_web_text\":\"Adobe\"}},\"_id\":null,\"@type\":null,\"@code\":\"PC-HEADLINE-AD\",\"@template\":\"PC-HEADLINE-AD\",\"@flowId\":null,\"@flowExecutionId\":null,\"@provider\":null,\"@lastModifiedAt\":null}\\nwindow[\"EAGER-DATA\"][\"CAS-MINICONTENT-PC-MEDIA-TAB-EVENT\"] = {\"@type\":\"MINI-CONTENT-BLOCK\",\"blocks\":null,\"materials\":null,\"excludeInPaging\":false,\"positionForPaging\":0,\"realtime\":false,\"items\":[],\"_id\":\"643687e1a10d300685630556\",\"@type\":\"MINI-CONTENT-BLOCK\",\"@code\":\"CAS-MINICONTENT-PC-MEDIA-TAB-EVENT\",\"@template\":\"NONE\",\"@flowId\":\"CAS-MINICONTENT\",\"@flowExecutionId\":\"b9db0518-7c03-11f0-aae1-f13a3d126978\",\"@provider\":\"lambda\",\"@lastModifiedAt\":[2025,8,18,7,19,49,361000000]}\\nwindow[\"EAGER-DATA\"][\"CAS-MINICONTENT-PC-MID-BANNER\"] = {\"@type\":\"MINI-CONTENT-BLOCK\",\"blocks\":null,\"materials\":null,\"excludeInPaging\":false,\"positionForPaging\":0,\"realtime\":false,\"items\":[],\"_id\":\"648ae476a10d300685fbab10\",\"@type\":\"MINI-CONTENT-BLOCK\",\"@code\":\"CAS-MINICONTENT-PC-MID-BANNER\",\"@template\":\"NONE\",\"@flowId\":\"CAS-MINICONTENT\",\"@flowExecutionId\":\"d2e3b59f-7c03-11f0-aae1-13509223578e\",\"@provider\":\"lambda\",\"@lastModifiedAt\":[2025,8,18,7,20,31,363000000]}\\nwindow[\"EAGER-DATA\"][\"CAS-MINICONTENT-PC-TAB-META\"] = {\"@type\":\"MINI-CONTENT-BLOCK\",\"blocks\":null,\"materials\":null,\"excludeInPaging\":false,\"positionForPaging\":0,\"realtime\":false,\"items\":[{\"content\":{\"area\":\"FEED\",\"tabList\":[{\"clickCode\":\"tct.mynr\",\"name\":\"추천・구독\",\"id\":\"PC-FEED-RECOMMEND\",\"contingencyEnabled\":true,\"enabled\":true,\"useFeedCasEditTemplate\":false,\"weight\":1},{\"clickCode\":\"tct.wtn\",\"name\":\"자동차\",\"id\":\"PC-FEED-CARGAME\",\"contingencyEnabled\":true,\"enabled\":true,\"useFeedCasEditTemplate\":true,\"weight\":1},{\"clickCode\":\"tct.wtn\",\"name\":\"웹툰\",\"id\":\"PC-FEED-WEBTOON\",\"contingencyEnabled\":true,\"enabled\":true,\"useFeedCasEditTemplate\":true,\"weight\":1},{\"clickCode\":\"tct.bty\",\"name\":\"패션뷰티\",\"id\":\"PC-FEED-BEAUTY\",\"contingencyEnabled\":true,\"enabled\":true,\"useFeedCasEditTemplate\":false,\"weight\":1},{\"clickCode\":\"tct.fod\",\"name\":\"레시피\",\"id\":\"PC-FEED-RECIPE\",\"contingencyEnabled\":true,\"enabled\":true,\"useFeedCasEditTemplate\":true,\"weight\":1},{\"clickCode\":\"tct.lif\",\"name\":\"리빙\",\"id\":\"PC-FEED-LIVINGHOME\",\"contingencyEnabled\":true,\"enabled\":true,\"useFeedCasEditTemplate\":true,\"weight\":1},{\"clickCode\":\"tct.bok\",\"name\":\"책방\",\"id\":\"PC-FEED-CULTURE\",\"contingencyEnabled\":true,\"enabled\":true,\"useFeedCasEditTemplate\":true,\"weight\":1},{\"clickCode\":\"tct.lec\",\"name\":\"지식+\",\"id\":\"PC-FEED-LECTURE\",\"contingencyEnabled\":true,\"enabled\":true,\"useFeedCasEditTemplate\":true,\"weight\":1},{\"clickCode\":\"tct.health\",\"name\":\"건강\",\"id\":\"PC-FEED-HEALTH\",\"contingencyEnabled\":true,\"enabled\":true,\"useFeedCasEditTemplate\":false,\"weight\":1},{\"clickCode\":\"tct.gameapp\",\"name\":\"게임\",\"id\":\"PC-FEED-GAMEAPP\",\"contingencyEnabled\":true,\"enabled\":true,\"useFeedCasEditTemplate\":false,\"weight\":1}],\"@type\":\"BLOCK-PC-TAB-META\"},\"exposure\":true,\"@miniContentId\":\"643e64d370a065058f369bac\",\"@miniContentCode\":\"PC-TAB-META\",\"@startAt\":\"2023-04-10 00:00\",\"@endAt\":\"2030-05-30 23:59\",\"@createdAt\":\"2023-04-18T18:37:23.412\",\"@updatedAt\":\"2023-11-08T11:34:03.902\"},{\"content\":{\"area\":\"MEDIA\",\"tabList\":[{\"clickCode\":\"nst.nsd\",\"name\":\"뉴스스탠드\",\"id\":\"PC-MEDIA-NEWSSTAND\",\"contingencyEnabled\":true,\"enabled\":true,\"useFeedCasEditTemplate\":false,\"weight\":1},{\"clickCode\":\"nst.nch\",\"name\":\"언론사편집\",\"id\":\"PC-MEDIA-NEWS\",\"contingencyEnabled\":true,\"enabled\":true,\"useFeedCasEditTemplate\":false,\"weight\":1},{\"clickCode\":\"nst.ent\",\"name\":\"엔터\",\"id\":\"PC-MEDIA-ENTER\",\"contingencyEnabled\":true,\"enabled\":true,\"useFeedCasEditTemplate\":false,\"weight\":1},{\"clickCode\":\"nst.spo\",\"name\":\"스포츠\",\"id\":\"PC-MEDIA-SPORTS\",\"contingencyEnabled\":true,\"enabled\":true,\"useFeedCasEditTemplate\":false,\"weight\":1},{\"clickCode\":\"nst.fin\",\"name\":\"경제\",\"id\":\"PC-MEDIA-ECONOMIC\",\"contingencyEnabled\":true,\"enabled\":true,\"useFeedCasEditTemplate\":false,\"weight\":1},{\"clickCode\":\"nst.shpt\",\"name\":\"쇼핑투데이\",\"id\":\"PC-MEDIA-SHOPPING-TODAY\",\"contingencyEnabled\":true,\"enabled\":true,\"useFeedCasEditTemplate\":false,\"weight\":1}],\"@type\":\"BLOCK-PC-TAB-META\"},\"exposure\":true,\"@miniContentId\":\"643e642c8793487c84743a38\",\"@miniContentCode\":\"PC-TAB-META\",\"@startAt\":\"2023-04-11 00:00\",\"@endAt\":\"2030-05-31 23:59\",\"@createdAt\":\"2023-04-18T18:34:36.648\",\"@updatedAt\":\"2024-04-18T16:13:27.109\"}],\"_id\":\"643e6299a10d3006853cc04c\",\"@type\":\"MINI-CONTENT-BLOCK\",\"@code\":\"CAS-MINICONTENT-PC-TAB-META\",\"@template\":\"NONE\",\"@flowId\":\"CAS-MINICONTENT\",\"@flowExecutionId\":\"bc371d5c-7c03-11f0-8788-77d1d11b7232\",\"@provider\":\"lambda\",\"@lastModifiedAt\":[2025,8,18,7,19,53,329000000]}\\n</script> \\n\\n\\n <script defer=\"defer\" src=\"https://pm.pstatic.net/resources/js/polyfill.5444eff6.js?o=www\" crossorigin=\"anonymous\"></script><script defer=\"defer\" src=\"https://pm.pstatic.net/resources/js/preload.786464b6.js?o=www\" crossorigin=\"anonymous\"></script><script defer=\"defer\" src=\"https://pm.pstatic.net/resources/js/search.08fd58b0.js?o=www\" crossorigin=\"anonymous\"></script><script defer=\"defer\" src=\"https://pm.pstatic.net/resources/js/main.4c47e876.js?o=www\" crossorigin=\"anonymous\"></script><link href=\"https://pm.pstatic.net/resources/css/main.219e071b.css\" rel=\"stylesheet\"></head> <body> <div id=\"u_skip\"> <a href=\"#topAsideButton\"><span>상단영역 바로가기</span></a> <a href=\"#shortcutArea\"><span>서비스 메뉴 바로가기</span></a> <a href=\"#newsstand\"><span>새소식 블록 바로가기</span></a> <a href=\"#shopping\"><span>쇼핑 블록 바로가기</span></a> <a href=\"#feed\"><span>관심사 블록 바로가기</span></a> <a href=\"#account\"><span>MY 영역 바로가기</span></a> <a href=\"#widgetboard\"><span>위젯 보드 바로가기</span></a> <a href=\"#viewSetting\"><span>보기 설정 바로가기</span></a> </div>   <script type=\"text/plain\" id=\"ad-timeboard-response\" data-gfp-banner-size=\"830x130\" data-gfp-banner-type=\"full\">{\"payload\":{\"requestId\":\"cde1d8d198ef454881f6daf00bce3888\",\"head\":{\"version\":\"0.0.1\",\"description\":\"Naver SSP Waterfall List\"},\"eventTracking\":{\"ackImpressions\":[{\"url\":\"https://tivan.naver.com/sc2/1/\"}],\"activeViewImpressions\":[{\"url\":\"https://tivan.naver.com/sc2/2/\"}],\"clicks\":[{\"url\":\"https://tivan.naver.com/sc2/3/\"}],\"completions\":[{\"url\":\"https://tivan.naver.com/sc2/4/\"}],\"attached\":[{\"url\":\"https://tivan.naver.com/sc2/10/\"}],\"renderedImpressions\":[{\"url\":\"https://tivan.naver.com/sc2/11/\"}],\"viewableImpressions\":[{\"url\":\"https://tivan.naver.com/sc2/12/\"}],\"loadErrors\":[{\"url\":\"https://tivan.naver.com/sc2/91/\"}],\"startErrors\":[{\"url\":\"https://tivan.naver.com/sc2/92/\"}],\"lazyRenderMediaFailed\":[{\"url\":\"https://tivan.naver.com/sc2/93/\"}],\"mute\":[{\"url\":\"https://tivan.naver.com/sc2/5/\"}],\"close\":[{\"url\":\"https://tivan.naver.com/sc2/6/\"}]},\"adUnit\":\"p_main_timeboard_v1\",\"randomNumber\":99,\"adDivId\":\"ad_timeboard\",\"advertiserDomains\":[\"fficial.naver.com\"],\"adDuplicationKeys\":[\"URL:https://fficial.naver.com/\"],\"ads\":[{\"encrypted\":\"y8pgkFIb4NUw6YxcaqKx_xb-31FBqCwYpANs1v6q_u_qYX329m68WG_yMCddAaEIf-20c4eqBoGQ-WxaxR04mBhCVuJS2Q37R5Kxm95lOUF5zaLcJ_HiUhe9Acu8ObZhjYYDQ3sgCMLJ_iZ3ULqGFBqiHRf6cU3WRZ41jRny69btpUJH6q5PCJ7Z6nSOKDFawGTXRvhxxSih05FDfJzwn1Gyc8sVDcTOpaOgtGSpNshaRecR3OoO1fTVTGnFWvsB_ohBnZMiPPXr881xer9-m9qBfmViDQTQoU9wlFW6n0BDKnbnpfH_pb8xqSwRR8Vd6wNLXeoWQy0zbP3g7EEiT9wn54AeDMmMjiOcuS45tesfFIo566WSp8A4YHtyGMV6FxPX3ESTTAfqv7L9e1ZEiSnIAZS2orRykZQL-6cmGamUXwZWTm8TPo651s5zh0ocsn7iXjCXok3i8vMTY6P4IxnAY7-rBesq8XidMJOLMa5By6eFzUNZ3JLkrXj_kUr8Fq6dfgevUrGEs4KCy7NFasce1doudW8nFwSRGTD6CC7xvXuYafCY__Ji1-9OfKnJKtsDlJGjxDDpLEAmvj6S7lIk03fIUlSvTGwSkUKrDoNSahIfcgM9JKjDlDaLtA5k6hIM7TWpLfxc1ARyQcFtcuehyEy0HCluvpQRkjXC_fY=\",\"connectionType\":\"S2S\",\"adProviderType\":\"IN_NAVER\",\"adProviderName\":\"NDP_SF\",\"layoutType\":\"FLUID\",\"creativeType\":\"BANNER\",\"renderType\":\"SF\",\"eventTracking\":{\"ackImpressions\":[{\"url\":\"https://siape.veta.naver.com/openrtb/nurl?eu=EU10043567\\\\u0026calp=-\\\\u0026oj=cQgn6aire5M27BLG0zY4CXH7mSfetPFgsdc68rayS6Cb2e2Xse1rFpJXW%2FXix1um5sz8TOCxud%2BHLBo2FIWecTdT6GBT63PsyTJ%2BOB4RVudUm6krydHIR8ZUV3E600t9QGg3q%2Bjskg8Ds2%2FsKIsqnpH4IYR7C5ZCEFwetYPeoFYsofqkg1fObN%2BE0mZGJbpztCnUqcXonS%2BStJVc5gHpxFLDEdaOUZK7\\\\u0026ac=9165183\\\\u0026src=7746176\\\\u0026evtcd=BID_WIN\\\\u0026x_ti=1504\\\\u0026rk=5uLxpyXSi1fPcELgHLCP-w\\\\u0026eltts=ZqQPOWf9m%2B%2BQsB2%2BmtDA0A%3D%3D\\\\u0026brs=Y\\\\u0026\"}],\"attached\":[],\"activeViewImpressions\":[],\"renderedImpressions\":[],\"viewableImpressions\":[],\"clicks\":[],\"vimp1px\":[],\"vimp100\":[],\"vimp100p\":[],\"admute\":[],\"advmute\":[],\"like\":[],\"unlike\":[],\"close\":[],\"bounce\":[],\"priv\":[]},\"adInfo\":{\"placeId\":\"6436232db28a76002ea3f30c\",\"adomain\":[\"fficial.naver.com\"],\"cid\":\"1542842\",\"crid\":\"2778868\",\"exp\":86400,\"adContext\":\"{\\\\\"id\\\\\":\\\\\"cde1d8d198ef454881f6daf00bce3888\\\\\",\\\\\"impId\\\\\":\\\\\"BR0_I0\\\\\",\\\\\"adomain\\\\\":[\\\\\"fficial.naver.com\\\\\"],\\\\\"adProviderName\\\\\":\\\\\"NDP_SF\\\\\",\\\\\"cid\\\\\":[\\\\\"1542842\\\\\"],\\\\\"crid\\\\\":[\\\\\"2778868\\\\\"],\\\\\"creativeType\\\\\":\\\\\"BANNER\\\\\",\\\\\"cur\\\\\":\\\\\"KRW\\\\\",\\\\\"price\\\\\":\\\\\"9rbc6p3esL0AtGrYT9O69YV2YE6bT9xOJy05Nhw=\\\\\",\\\\\"catType\\\\\":\\\\\"NCAT\\\\\",\\\\\"cat\\\\\":[\\\\\"125\\\\\",\\\\\"125002\\\\\"]}\",\"adm\":\"%3Cscript%20src%3D%22https%3A%2F%2Fssl.pstatic.net%2Fmelona%2Flibs%2Fglad%2Fbridge%2Fgfp-bridge.js%22%3E%3C%2Fscript%3E%0D%0A%0D%0A%3Ca%20href%3D%22https%3A%2F%2Fsiape.veta.naver.com%2Ffxclick%3Feu%3DEU10043567%26calp%3D-%26oj%3DcQgn6aire5M27BLG0zY4CXH7mSfetPFgsdc68rayS6Cb2e2Xse1rFpJXW%252FXix1um5sz8TOCxud%252BHLBo2FIWecTdT6GBT63PsyTJ%252BOB4RVudUm6krydHIR8ZUV3E600t9QGg3q%252Bjskg8Ds2%252FsKIsqnpH4IYR7C5ZCEFwetYPeoFYsofqkg1fObN%252BE0mZGJbpztCnUqcXonS%252BStJVc5gHpxFLDEdaOUZK7%26ac%3D9165183%26src%3D7746176%26br%3D4796348%26evtcd%3DP901%26x_ti%3D1504%26tb%3D%26oid%3D%26sid1%3D%26sid2%3D%26rk%3D5uLxpyXSi1fPcELgHLCP-w%26eltts%3DZqQPOWf9m%252B%252BQsB2%252BmtDA0A%253D%253D%26brs%3DY%26%22%20id%3D%22ac_banner_a%22%20target%3D%22_blank%22%20style%3D%22display%3Ablock%22%3E%0D%0A%20%20%20%20%3Cimg%20src%3D%22https%3A%2F%2Fssl.pstatic.net%2Fmelona%2Flibs%2F1542%2F1542842%2F9e604764b27e6feab4a0_20250813105044245.png%22%20width%3D%22830%22%20height%3D%22130%22%20alt%3D%22%5B%EA%B4%91%EA%B3%A0%5D%EC%A2%80%EB%B9%84%EB%94%B8%20PD%EA%B0%80%20%EB%A7%90%ED%95%98%EB%8A%94%20%EC%84%B1%EA%B3%B5%EC%A0%81%EC%9D%B8%20IP%20%ED%99%95%EC%9E%A5%EC%9D%98%20%EC%A1%B0%EA%B1%B4%22%3E%0D%0A%3C%2Fa%3E%0D%0A%0D%0A%3Cscript%20type%3D%22text%2Fjavascript%22%20src%3D%22https%3A%2F%2Fssl.pstatic.net%2Fmelona%2Flibs%2Fassets%2Fjs%2Fpc%2Fmain%2Fmin%2Fpc.veta.core.min.js%3F20240228%22%3E%3C%2Fscript%3E%0D%0A%3Cscript%20type%3D%22text%2Fjavascript%22%3E%0D%0A%20%20%20%20%28function%28ns%2C%20bridge%29%20%7B%0D%0A%20%20%20%20%20%20%20%20var%20LOG%20%3D%20%7B%0D%0A%20%20%20%20%20%20%20%20%20%20%20%20VIEWABLED%3A%20%22https%3A%2F%2Fsiape.veta.naver.com%2Ffxview%3Feu%3DEU10043567%26calp%3D-%26oj%3DcQgn6aire5M27BLG0zY4CXH7mSfetPFgsdc68rayS6Cb2e2Xse1rFpJXW%252FXix1um5sz8TOCxud%252BHLBo2FIWecTdT6GBT63PsyTJ%252BOB4RVudUm6krydHIR8ZUV3E600t9QGg3q%252Bjskg8Ds2%252FsKIsqnpH4IYR7C5ZCEFwetYPeoFYsofqkg1fObN%252BE0mZGJbpztCnUqcXonS%252BStJVc5gHpxFLDEdaOUZK7%26ac%3D9165183%26src%3D7746176%26evtcd%3DV900%26x_ti%3D1504%26tb%3D%26oid%3D%26sid1%3D%26sid2%3D%26rk%3D5uLxpyXSi1fPcELgHLCP-w%26eltts%3DZqQPOWf9m%252B%252BQsB2%252BmtDA0A%253D%253D%26brs%3DY%26%26eid%3DV900%22%2C%0D%0A%20%20%20%20%20%20%20%20%20%20%20%20RENDERED%3A%20%22https%3A%2F%2Fsiape.veta.naver.com%2Ffxview%3Feu%3DEU10043567%26calp%3D-%26oj%3DcQgn6aire5M27BLG0zY4CXH7mSfetPFgsdc68rayS6Cb2e2Xse1rFpJXW%252FXix1um5sz8TOCxud%252BHLBo2FIWecTdT6GBT63PsyTJ%252BOB4RVudUm6krydHIR8ZUV3E600t9QGg3q%252Bjskg8Ds2%252FsKIsqnpH4IYR7C5ZCEFwetYPeoFYsofqkg1fObN%252BE0mZGJbpztCnUqcXonS%252BStJVc5gHpxFLDEdaOUZK7%26ac%3D9165183%26src%3D7746177%26evtcd%3DV602%26x_ti%3D1504%26tb%3D%26oid%3D%26sid1%3D%26sid2%3D%26rk%3D5uLxpyXSi1fPcELgHLCP-w%26eltts%3DZqQPOWf9m%252B%252BQsB2%252BmtDA0A%253D%253D%26brs%3DY%26%26eid%3DV810%22%0D%0A%20%20%20%20%20%20%20%20%7D%3B%0D%0A%0D%0A%20%20%20%20%20%20%20%20var%20util%20%3D%20ns.Util%20%3F%20new%20ns.Util%28%29%20%3A%20new%20NBP_CORP.Nimp%28%29%3B%0D%0A%20%20%20%20%20%20%20%20var%20gladSdkBridge%20%3D%20bridge.createSdkBridge%28%29%3B%0D%0A%20%20%20%20%20%20%20%20var%20eventList%20%3D%20%7B%7D%3B%0D%0A%0D%0A%20%20%20%20%20%20%20%20%2F%2F%20%EC%9D%91%EB%8B%B5%EB%85%B8%EC%B6%9C%0D%0A%20%20%20%20%20%20%20%20util.log%28LOG.RENDERED%29%3B%0D%0A%0D%0A%20%20%20%20%20%20%20%20%2F%2F%20%EC%9C%A0%ED%9A%A8%EB%85%B8%EC%B6%9C%0D%0A%20%20%20%20%20%20%20%20eventList%5Bbridge.EVENT.VIEWABLED%5D%20%3D%20function%28%29%20%7B%0D%0A%20%20%20%20%20%20%20%20%20%20%20%20util.log%28LOG.VIEWABLED%29%3B%0D%0A%20%20%20%20%20%20%20%20%7D%3B%0D%0A%0D%0A%20%20%20%20%20%20%20%20gladSdkBridge.setEventListeners%28eventList%29%3B%0D%0A%20%20%20%20%7D%29%28%0D%0A%20%20%20%20%20%20%20%20window.naver_corp_da%20%7C%7C%20%7B%7D%2C%0D%0A%20%20%20%20%20%20%20%20window.gladBridge%0D%0A%20%20%20%20%29%3B%0D%0A%3C%2Fscript%3E\",\"encoded\":1,\"responseSize\":{\"height\":130,\"width\":830,\"force\":0},\"template\":\"%3C%21doctype%20html%3E%3Chtml%3E%3Chead%3E%3Cmeta%20name%3D%22viewport%22%20content%3D%22width%3Ddevice-width%2C%20user-scalable%3Dno%22%2F%3E%3Cstyle%20data-gfp-role%3D%22adMarkLegacyStyle%22%3E%5Bdata-gfp-role%3D%22adMarkLegacy%22%5D%20%7Bdisplay%3A%20none%3B%7D%3C%2Fstyle%3E%3Cscript%3Ewindow.gladBridge%20%3D%20%7BRUNTIME%3A%20%22InApp%22%7D%3B%3C%2Fscript%3E%3C%2Fhead%3E%3Cbody%20style%3D%22margin%3A%200%3B%20padding%3A%200%22%3E%7B%7Badm%7D%7D%3Cscript%20src%3D%22https%3A%2F%2Fssl.pstatic.net%2Ftveta%2Flibs%2Fglad_admute%2Fprod%2Fglad-admute.js%22%3E%3C%2Fscript%3E%3Cscript%3Econst%20adMuteOptions%20%3D%20%7BmuteUrl%3A%20%22%25%25MUTE_URL%25%25%22%2C%20privacyUrl%3A%20%22%25%25PRIV_URL%25%25%22%2C%20creativeType%3A%20%22BANNER%22%2C%20runtimeType%3A%20%22InApp%22%7D%3B%20if%28adMuteOptions.muteUrl%20%7C%7C%20adMuteOptions.privacyUrl%29%20%7B%20window.gladAdMute.checkAdMarkLegacyStyle%28adMuteOptions%29%3B%20const%20adMuteController%20%3D%20window.gladAdMute.createAdMuteController%28adMuteOptions%29%3B%20adMuteController.render%28%29%3B%20%7D%3C%2Fscript%3E%3C%2Fbody%3E%3C%2Fhtml%3E\"}},{\"encrypted\":\"o_8RHmnGQ89y6wd8W0WljeIjpHVYTfOCU0opxdd9hbKdENrM_IWw4ZLgDc-vP_1MIVr8s3D9R6K6ufeiIrF8BTvPEfUNFAJsc0AE3UoP9NBdYVjMR76NEZ6M4FsSkTUC6QV_KRm_xwFd7lb9wOCe1H9m8Enohz8sBXH7H9041UqIZ4mJTV6cfEWVlpF_TKMxPu6TdDbO1_Zo3o7Kf5zY6GRNpvuTL6EVj9_uTuTE9tpUIAeGPuEZXtY5h-RiECaHM33k1aWjTC0ID950fE1ZDped9vKz0c1QpBK1pUi-h-bkgIj8sFwxbTuocHEcqZEPiJBrZwan_jMad1bZokxGYtE3sU2QgNgW4oR-vgXPk48FnV974hzCmnOMYCOsSM3GHPtEBiE_-CEF3JDrahXhMhs21g7H2A0_BISuddA7St5bq-xI8sWiZCfrSmIJocJjM9W_D1_yI84Wht2PedEGSQ==\",\"connectionType\":\"S2S\",\"adProviderName\":\"GFP\",\"layoutType\":\"FLUID\",\"creativeType\":\"BANNER\",\"renderType\":\"EMPTY\",\"eventTracking\":{\"ackImpressions\":[{\"url\":\"https://siape.veta.naver.com/openrtb/nbackimp?eu=EU10043567\\\\u0026oj=cQgn6aire5M27BLG0zY4CXH7mSfetPFgsdc68rayS6Cb2e2Xse1rFpJXW%2FXix1um5sz8TOCxud%2BHLBo2FIWecTdT6GBT63PsyTJ%2BOB4RVudUm6krydHIR8ZUV3E600t9QGg3q%2Bjskg8Ds2%2FsKIsqnpH4IYR7C5ZCEFwetYPeoFYsofqkg1fObN%2BE0mZGJbpztCnUqcXonS%2BStJVc5gHpxFLDEdaOUZK7\\\\u0026evtcd=BID_LOSE\\\\u0026rk=5uLxpyXSi1fPcELgHLCP-w\\\\u0026eltts=ZqQPOWf9m%2B%2BQsB2%2BmtDA0A%3D%3D\\\\u0026calp=-\\\\u0026ac=9165183\\\\u0026src=7746176\\\\u0026x_ti=1504\\\\u0026brs=Y\"}],\"attached\":[],\"activeViewImpressions\":[{\"url\":\"https://siape.veta.naver.com/openrtb/nbimp?oj=cQgn6aire5M27BLG0zY4CXH7mSfetPFgsdc68rayS6Cb2e2Xse1rFpJXW%2FXix1um5sz8TOCxud%2BHLBo2FIWecTdT6GBT63PsyTJ%2BOB4RVudUm6krydHIR8ZUV3E600t9QGg3q%2Bjskg8Ds2%2FsKIsqnpH4IYR7C5ZCEFwetYPeoFYsofqkg1fObN%2BE0mZGJbpztCnUqcXonS%2BStJVc5gHpxFLDEdaOUZK7\\\\u0026rk=5uLxpyXSi1fPcELgHLCP-w\\\\u0026eltts=ZqQPOWf9m%2B%2BQsB2%2BmtDA0A%3D%3D\"}],\"renderedImpressions\":[],\"viewableImpressions\":[{\"url\":\"https://siape.veta.naver.com/openrtb/nbimp?oj=cQgn6aire5M27BLG0zY4CXH7mSfetPFgsdc68rayS6Cb2e2Xse1rFpJXW%2FXix1um5sz8TOCxud%2BHLBo2FIWecTdT6GBT63PsyTJ%2BOB4RVudUm6krydHIR8ZUV3E600t9QGg3q%2Bjskg8Ds2%2FsKIsqnpH4IYR7C5ZCEFwetYPeoFYsofqkg1fObN%2BE0mZGJbpztCnUqcXonS%2BStJVc5gHpxFLDEdaOUZK7\\\\u0026rk=5uLxpyXSi1fPcELgHLCP-w\\\\u0026eltts=ZqQPOWf9m%2B%2BQsB2%2BmtDA0A%3D%3D\"}],\"clicks\":[],\"vimp1px\":[],\"vimp100\":[],\"vimp100p\":[],\"admute\":[],\"advmute\":[],\"like\":[],\"unlike\":[],\"close\":[],\"bounce\":[],\"priv\":[]},\"adInfo\":{\"responseSize\":{\"height\":0,\"width\":0}}}],\"config\":{\"imp\":{\"ratio\":100,\"ms\":0}}},\"additionalInfo\":{\"adCount\":1,\"adDuplicate\":{\"advertiserDomains\":[\"fficial.naver.com\"],\"adDuplicationKeys\":[\"URL:https://fficial.naver.com/\"]},\"adSize\":{\"h\":130,\"w\":830}}}\\n</script> <div id=\"wrap\"> <div id=\"header\" role=\"banner\"> <div id=\"topSearchWrap\" class=\"header_inner\"> <div id=\"special-logo\" class=\"search_special_bg\"></div> <div id=\"timeboard-ex\" class=\"ad_area\" style=\"width:1280px\"> </div> <div id=\"search_area\" class=\"search_area\" style=\"border-color:#fff\"> <div class=\"search_group\"> <div id=\"search\" class=\"search_group_inner\"> <h1 id=\"special-input-logo\" class=\"search_logo\"></h1> <form id=\"sform\" name=\"search\" role=\"search\" action=\"https://search.naver.com/search.naver\" method=\"get\"> <fieldset> <legend class=\"blind\">검색</legend> <input type=\"hidden\" name=\"where\" value=\"nexearch\"/> <input type=\"hidden\" id=\"sm\" name=\"sm\" value=\"top_hty\"/> <input type=\"hidden\" id=\"fbm\" name=\"fbm\" value=\"0\"/> <input type=\"hidden\" id=\"acr\" name=\"acr\" value=\"\" disabled=\"disabled\"/> <input type=\"hidden\" id=\"acq\" name=\"acq\" value=\"\" disabled=\"disabled\"/> <input type=\"hidden\" id=\"qdt\" name=\"qdt\" value=\"\" disabled=\"disabled\"/> <input type=\"hidden\" id=\"ie\" name=\"ie\" value=\"utf8\"/> <input type=\"hidden\" id=\"acir\" name=\"acir\" value=\"\" disabled=\"disabled\"/> <input type=\"hidden\" id=\"os\" name=\"os\" value=\"\" disabled=\"disabled\"/> <input type=\"hidden\" id=\"bid\" name=\"bid\" value=\"\" disabled=\"disabled\"/> <input type=\"hidden\" id=\"pkid\" name=\"pkid\" value=\"\" disabled=\"disabled\"/> <input type=\"hidden\" id=\"eid\" name=\"eid\" value=\"\" disabled=\"disabled\"/> <input type=\"hidden\" id=\"mra\" name=\"mra\" value=\"\" disabled=\"disabled\"/> <div role=\"combobox\" aria-expanded=\"false\" aria-haspopup=\"listbox\" aria-owns=\"autoFrame\" class=\"search_input_box\"> <input id=\"query\" name=\"query\" type=\"search\" title=\"검색어를 입력해 주세요.\" placeholder=\"검색어를 입력해 주세요.\" maxlength=\"255\" autocomplete=\"off\" class=\"search_input\" data-atcmp-element=\"\" aria-controls=\"atcmp_recent\" aria-autocomplete=\"list\" aria-activedescendant=\"\"> </div> <button type=\"submit\" class=\"btn_search\" onclick=\\'window.ntm.push({event:\"nclick\",el:this,click_area:\"sch.action\"})\\'> <span class=\"ico_btn_search_svg\"> <svg id=\"search-btn\" viewBox=\"0 0 50 50\" xmlns=\"http://www.w3.org/2000/svg\"> <path d=\"M22.13.5c11.378 0 20.632 9.256 20.632 20.63 0 4.699-1.566 9.155-4.439 12.782l10.164 10.165a2.41 2.41 0 0 1-1.706 4.115 2.412 2.412 0 0 1-1.706-.705L33.31 35.719a2.41 2.41 0 0 1 0-3.41 15.71 15.71 0 0 0 4.628-11.178c0-8.718-7.09-15.808-15.807-15.808-8.718 0-15.808 7.09-15.808 15.808 0 7.15 4.817 13.43 11.714 15.273a2.41 2.41 0 0 1 1.705 2.954 2.41 2.41 0 0 1-2.95 1.705C7.788 38.658 1.5 30.46 1.5 21.131 1.5 9.756 10.756.5 22.13.5zm4.716 34.746a3.483 3.483 0 1 1 0 6.966 3.483 3.483 0 0 1 0-6.966z\"/> </svg> </span> <span class=\"blind\">검색</span> </button> </fieldset> </form> <div class=\"search_box\"> <button id=\"ke_kbd_btn\" type=\"button\" class=\"btn_keyboard\" aria-pressed=\"false\"> <span class=\"keybord_text\"> <span class=\"blind\">입력도구</span> </span> </button> <div id=\"_nx_kbd\" style=\"display:none\"></div> <button id=\"nautocomplete\" type=\"button\" class=\"btn_arrow\" data-atcmp-element> <span class=\"blind\">자동완성/최근검색어펼치기</span> </button> </div> <div class=\"layer_atcmp\" id=\"autoFrame\" style=\"display:none\"></div> </div> </div> </div> <div id=\"search-right\"></div> <div id=\"shortcutArea\" class=\"shortcut_area\" role=\"navigation\" aria-label=\"주요 서비스\"></div> <div id=\"topAsideArea\" class=\"menu_area\"></div> <div id=\"topPayArea\" class=\"pay_area\"></div> <div id=\"topTalkArea\" class=\"talk_area\"></div> <div id=\"topNotiArea\" class=\"notify_area\"></div> <div id=\"topShoppingArea\" class=\"shopping_area\"></div> </div> </div> <div id=\"container\" role=\"main\"> <div id=\"ad_premium_area\" class=\"ad_premium_area\" style=\"min-width:1920px\"> </div> <div id=\"root\"></div> </div> <div id=\"footer\" role=\"contentinfo\"></div> </div>      <script> window[\\'EAGER-DATA\\'] = window[\\'EAGER-DATA\\'] || {};\\n        window[\\'EAGER-DATA\\'][\\'GV\\'] = {\\n            svt: \\'20250818162108\\',  }; </script> <script>!function(){function t(t){var e=document.getElementById(\"search_area\"),l=document.getElementById(\"search-btn\");if(!t)return e&&e.removeAttribute(\"style\"),void(l&&l.setAttribute(\"style\",\"fill: #03c75a\"));e&&e.setAttribute(\"style\",\"border-color: \"+t),l&&l.setAttribute(\"class\",\"ico_btn_search type_color\"),l&&l.setAttribute(\"style\",\"fill: \"+t)}var e=window[\"EAGER-DATA\"][\"CAS-MINICONTENT-PC-SPECIAL-LOGO\"];if(!e||!e.items||e.items.length>0==!1)return void t();var l=Math.floor(Math.random()*e.items.length),s=e.items[l];e.items=[s];const o=s&&s.content?s.content.input:null;t(o&&o.color);const i=document.getElementById(\"search\"),n=i&&(!o||!o.showSearchLogo);n&&i.classList.add(\"type_special_logo_full\"),window.addEventListener(\"header-sticky-state-change\",(function(){var t;(t=document.getElementById(\"header\"))&&t.classList.contains(\"ani_fixed\")?n&&i.classList.remove(\"type_special_logo_full\"):n&&i.classList.add(\"type_special_logo_full\")}));var r=o&&o.placeholder;if(r){var a=document.getElementById(\"query\");a&&r&&a.setAttribute(\"title\",r),a&&r&&a.setAttribute(\"placeholder\",r)}}()</script> </body> </html>'"
            ],
            "application/vnd.google.colaboratory.intrinsic+json": {
              "type": "string"
            }
          },
          "metadata": {},
          "execution_count": 5
        }
      ]
    },
    {
      "cell_type": "code",
      "metadata": {
        "id": "J8q9kVHaNhmQ"
      },
      "source": [
        "import requests\n",
        "res = requests.get('http://google.com')\n",
        "res.raise_for_status()\n",
        "\n",
        "with open('crawl1.html','w', encoding = 'utf-8') as f:\n",
        "  f.write(res.text)\n"
      ],
      "execution_count": null,
      "outputs": []
    },
    {
      "cell_type": "markdown",
      "metadata": {
        "id": "sNxVt7bvQkmG"
      },
      "source": [
        "##1.2.beautifulsoup : HTML 파싱을 위한 라이브러리"
      ]
    },
    {
      "cell_type": "code",
      "metadata": {
        "id": "6a9UYLZCqeT5",
        "colab": {
          "base_uri": "https://localhost:8080/"
        },
        "outputId": "fcc8fb47-53dd-41d5-d88a-07885f7c32f7"
      },
      "source": [
        "#!pip install beautifulsoup4 #Parsing을 위한 라이브러리\n",
        "#!pip install lxml #XML parser로 이용"
      ],
      "execution_count": null,
      "outputs": [
        {
          "output_type": "stream",
          "name": "stdout",
          "text": [
            "Requirement already satisfied: beautifulsoup4 in /usr/local/lib/python3.10/dist-packages (4.11.2)\n",
            "Requirement already satisfied: soupsieve>1.2 in /usr/local/lib/python3.10/dist-packages (from beautifulsoup4) (2.4.1)\n",
            "Requirement already satisfied: lxml in /usr/local/lib/python3.10/dist-packages (4.9.3)\n"
          ]
        }
      ]
    },
    {
      "cell_type": "code",
      "metadata": {
        "id": "FvaK9ZxzqeNp",
        "colab": {
          "base_uri": "https://localhost:8080/"
        },
        "outputId": "4926d499-66a5-43b2-84d1-8c1af5a2f2ba"
      },
      "source": [
        "import requests\n",
        "from bs4 import BeautifulSoup\n",
        "\n",
        "url = 'https://comic.naver.com/webtoon/weekday.nhn'\n",
        "res = requests.get(url)\n",
        "res.raise_for_status()\n",
        "\n",
        "soup = BeautifulSoup(res.text, \"lxml\")\n",
        "soup\n"
      ],
      "execution_count": null,
      "outputs": [
        {
          "output_type": "execute_result",
          "data": {
            "text/plain": [
              "<!DOCTYPE html>\n",
              "<html lang=\"ko\">\n",
              "<head>\n",
              "<title>네이버 웹툰</title>\n",
              "<link href=\"https://shared-comic.pstatic.net/favicon/favicon_96x96.ico\" rel=\"icon\" type=\"image/x-icon\"/>\n",
              "<link href=\"https://ssl.pstatic.net/static/wcc/kw-owner/prod-1.0/index.css\" rel=\"stylesheet\" type=\"text/css\"/>\n",
              "<link href=\"https://m.comic.naver.com/webtoon/weekday\" rel=\"canonical\"/>\n",
              "<meta content=\"6Wv2YrpTSpapViVikuUS-ebAqZDiKxcrDV_clkRzH9A\" name=\"google-site-verification\"/>\n",
              "<meta charset=\"utf-8\"/>\n",
              "<meta content=\"ie=edge\" http-equiv=\"x-ua-compatible\"/>\n",
              "<meta content=\"article\" property=\"og:type\"/>\n",
              "<meta content=\"네이버 웹툰\" property=\"og:article:author\"/>\n",
              "<meta content=\"https://comic.naver.com\" property=\"og:article:author:url\"/>\n",
              "<meta content=\"네이버 웹툰\" property=\"og:title\"/>\n",
              "<meta content=\"https://ssl.pstatic.net/static/comic/images/og_tag_v3.png\" property=\"og:image\"/>\n",
              "<meta content=\"매일매일 새로운 재미, 네이버 웹툰.\" property=\"og:description\"/>\n",
              "<script>\n",
              "\t\tif (/MSIE \\d|Trident.*rv:/.test(navigator.userAgent)) {\n",
              "\t\t\twindow.location = 'microsoft-edge:' + window.location;\n",
              "\t\t\tsetTimeout(function () {\n",
              "\t\t\t\twindow.location = 'https://go.microsoft.com/fwlink/?linkid=2135547';\n",
              "\t\t\t}, 1);\n",
              "\t\t}\n",
              "\t</script>\n",
              "<script async=\"\" src=\"https://ssl.pstatic.net/tveta/libs/glad/prod/gfp-core.js\"></script>\n",
              "<script>\n",
              "\t\tvar ccsrv = 'cc.naver.com';\n",
              "\t\twindow.gladsdk = window.gladsdk || { cmd: [] };\n",
              "\t</script>\n",
              "</head>\n",
              "<body>\n",
              "<div id=\"root\"></div>\n",
              "</body>\n",
              "<script src=\"https://ssl.pstatic.net/static/wcc/kw-owner/prod-1.0/index.js\" type=\"text/javascript\"></script>\n",
              "<script src=\"/runtime-abada66fdb96bf4dec97.js\" type=\"text/javascript\"></script>\n",
              "<script src=\"/vendor-react-d37d9c657a271200d9cf.js\" type=\"text/javascript\"></script>\n",
              "<script src=\"/vendor-react-common-72f7a4aa692e097dd248.js\" type=\"text/javascript\"></script>\n",
              "<script src=\"/vendor-common-731b83d570b21355d0be.js\" type=\"text/javascript\"></script>\n",
              "<script src=\"/vendor-log-feb99cf7b041c7e3b64d.js\" type=\"text/javascript\"></script>\n",
              "<script src=\"/router-8c0dbe7de13f5b8bb4a5.js\" type=\"text/javascript\"></script>\n",
              "</html>"
            ]
          },
          "metadata": {},
          "execution_count": 7
        }
      ]
    },
    {
      "cell_type": "code",
      "metadata": {
        "id": "m4gP-Ba7qeJV",
        "colab": {
          "base_uri": "https://localhost:8080/"
        },
        "outputId": "43c86b3f-4d34-41b1-9140-06c130098ed7"
      },
      "source": [
        "soup.title"
      ],
      "execution_count": null,
      "outputs": [
        {
          "output_type": "execute_result",
          "data": {
            "text/plain": [
              "<title>네이버 웹툰</title>"
            ]
          },
          "metadata": {},
          "execution_count": 8
        }
      ]
    },
    {
      "cell_type": "code",
      "metadata": {
        "id": "IO0EZP-HqeGD",
        "colab": {
          "base_uri": "https://localhost:8080/",
          "height": 35
        },
        "outputId": "cb3d0002-20a0-42b6-b573-a82c494560bf"
      },
      "source": [
        "soup.title.get_text() #해당 태그에 대한 텍스트값"
      ],
      "execution_count": null,
      "outputs": [
        {
          "output_type": "execute_result",
          "data": {
            "text/plain": [
              "'네이버 웹툰'"
            ],
            "application/vnd.google.colaboratory.intrinsic+json": {
              "type": "string"
            }
          },
          "metadata": {},
          "execution_count": 9
        }
      ]
    },
    {
      "cell_type": "markdown",
      "source": [
        "- daum 검색 결과"
      ],
      "metadata": {
        "id": "Yaj5Kmh8cgWa"
      }
    },
    {
      "cell_type": "code",
      "metadata": {
        "id": "_SqTuGFFgGaz"
      },
      "source": [
        "import requests\n",
        "from bs4 import BeautifulSoup\n",
        "\n",
        "res = requests.get('https://search.daum.net/search?w=tot&DA=YZR&t__nil_searchbox=btn&sug=&sugo=&sq=&o=&q=2022%EB%85%84%EC%98%81%ED%99%94%EC%88%9C%EC%9C%84')\n",
        "res.raise_for_status()\n",
        "soup = BeautifulSoup(res.text, 'lxml')\n",
        "\n",
        "images = soup.find_all('img', attrs = {'class':'thumb_img'})\n",
        "\n",
        "for idx, image in enumerate(images):\n",
        "  print(image['src'])\n",
        "  image_url = image['src']\n",
        "  if image_url.startswith('//'):\n",
        "    image_url = 'http'+ image_url\n",
        "\n",
        "  print(image_url)\n",
        "  image_res = requests.get(image_url)\n",
        "  image_res.raise_for_status()\n",
        "\n",
        "  with open('moive{}.jpg'.format(idx+1), 'wb')as f:\n",
        "    f.write(image_res.content)\n",
        "  if idx>=4 :#상위 5개 이미지 다운로드\n",
        "    break"
      ],
      "execution_count": null,
      "outputs": []
    },
    {
      "cell_type": "markdown",
      "metadata": {
        "id": "pqflgLzHQ8es"
      },
      "source": [
        "- 네이버 주가 정보"
      ]
    },
    {
      "cell_type": "code",
      "metadata": {
        "id": "YG5A5NZUQ7z1",
        "colab": {
          "base_uri": "https://localhost:8080/"
        },
        "outputId": "744467d5-c52c-45cd-dc93-06fdd1c980ad"
      },
      "source": [
        "import csv\n",
        "import requests\n",
        "from bs4 import BeautifulSoup\n",
        "\n",
        "url = 'https://finance.naver.com/sise/sise_market_sum.nhn?sosok=0&page='\n",
        "\n",
        "for page in range(1,2):\n",
        "  res = requests.get(url + str(page))\n",
        "  res.raise_for_status()\n",
        "  soup = BeautifulSoup(res.text, 'lxml')\n",
        "\n",
        "\n",
        "  data_rows = soup.find('table',attrs={'class':'type_2'}).find('tbody').find_all('tr')\n",
        "  for row in data_rows:\n",
        "    columns = row.find_all('td')\n",
        "    data = [column.get_text().strip() for column in columns]\n",
        "    print(data)\n"
      ],
      "execution_count": null,
      "outputs": [
        {
          "output_type": "stream",
          "name": "stdout",
          "text": [
            "['']\n",
            "['1', '삼성전자', '70,000', '하락\\n\\t\\t\\t\\t1,600', '-2.23%', '100', '4,143,747', '5,919,638', '50.57', '13,554,269', '13.56', '9.03', '']\n",
            "['2', 'SK하이닉스', '267,500', '하락\\n\\t\\t\\t\\t9,000', '-3.25%', '5,000', '1,947,406', '728,002', '55.48', '1,928,554', '7.50', '31.06', '']\n",
            "['3', 'LG에너지솔루션', '383,000', '하락\\n\\t\\t\\t\\t11,000', '-2.79%', '500', '896,220', '234,000', '4.19', '167,924', '-77.00', '-4.93', '']\n",
            "['4', '삼성바이오로직스', '1,028,000', '하락\\n\\t\\t\\t\\t5,000', '-0.48%', '2,500', '731,669', '71,174', '12.86', '40,399', '57.18', '10.45', '']\n",
            "['5', '삼성전자우', '57,300', '하락\\n\\t\\t\\t\\t900', '-1.55%', '100', '467,553', '815,975', '74.22', '1,320,693', '11.10', 'N/A', '']\n",
            "['']\n",
            "['']\n",
            "['']\n",
            "['6', '한화에어로스페이스', '888,000', '상승\\n\\t\\t\\t\\t5,000', '+0.57%', '5,000', '457,883', '51,563', '43.84', '216,731', '17.96', '53.94', '']\n",
            "['7', '현대차', '216,500', '하락\\n\\t\\t\\t\\t1,000', '-0.46%', '5,000', '443,301', '204,758', '36.17', '405,813', '4.72', '12.43', '']\n",
            "['8', 'HD현대중공업', '476,000', '하락\\n\\t\\t\\t\\t1,000', '-0.21%', '5,000', '422,560', '88,773', '11.04', '215,570', '48.18', '11.39', '']\n",
            "['9', '두산에너빌리티', '65,100', '하락\\n\\t\\t\\t\\t400', '-0.61%', '5,000', '417,005', '640,561', '23.70', '3,325,497', '-409.43', '1.52', '']\n",
            "['10', 'KB금융', '107,200', '하락\\n\\t\\t\\t\\t6,000', '-5.30%', '5,000', '408,927', '381,462', '77.81', '1,621,279', '7.44', '8.86', '']\n",
            "['']\n",
            "['']\n",
            "['']\n",
            "['11', '기아', '102,200', '하락\\n\\t\\t\\t\\t1,500', '-1.45%', '5,000', '406,421', '397,673', '39.75', '539,476', '4.36', '19.09', '']\n",
            "['12', '셀트리온', '172,900', '하락\\n\\t\\t\\t\\t2,100', '-1.20%', '1,000', '399,294', '230,939', '21.37', '265,297', '80.01', '2.46', '']\n",
            "['13', 'NAVER', '226,000', '상승\\n\\t\\t\\t\\t1,500', '+0.67%', '100', '358,068', '158,437', '42.28', '479,724', '19.73', '7.90', '']\n",
            "['14', '한화오션', '109,200', '상승\\n\\t\\t\\t\\t2,600', '+2.44%', '5,000', '334,603', '306,413', '14.74', '2,099,188', '38.52', '11.52', '']\n",
            "['15', '신한지주', '67,500', '하락\\n\\t\\t\\t\\t1,600', '-2.32%', '5,000', '327,709', '485,495', '60.08', '1,490,270', '7.41', '8.11', '']\n",
            "['']\n",
            "['']\n",
            "['']\n",
            "['16', '카카오', '65,000', '상승\\n\\t\\t\\t\\t600', '+0.93%', '100', '287,381', '442,125', '29.21', '1,926,649', '187.86', '0.56', '']\n",
            "['17', '삼성물산', '161,500', '하락\\n\\t\\t\\t\\t2,400', '-1.46%', '100', '274,512', '169,977', '27.53', '191,040', '12.90', '6.83', '']\n",
            "['18', '현대모비스', '292,000', '하락\\n\\t\\t\\t\\t4,500', '-1.52%', '5,000', '268,042', '91,795', '43.62', '93,609', '6.43', '9.35', '']\n",
            "['19', 'HD한국조선해양', '369,500', '하락\\n\\t\\t\\t\\t9,000', '-2.38%', '5,000', '261,507', '70,773', '32.93', '206,509', '17.68', '11.16', '']\n",
            "['20', '삼성생명', '127,500', '하락\\n\\t\\t\\t\\t1,000', '-0.78%', '500', '255,000', '200,000', '22.00', '281,730', '12.03', '6.18', '']\n",
            "['']\n",
            "['']\n",
            "['']\n",
            "['21', '한국전력', '39,450', '상승\\n\\t\\t\\t\\t600', '+1.54%', '5,000', '253,255', '641,964', '20.45', '5,248,703', '4.82', '9.22', '']\n",
            "['22', 'POSCO홀딩스', '301,500', '하락\\n\\t\\t\\t\\t6,000', '-1.95%', '5,000', '244,013', '80,933', '29.98', '254,583', '29.31', '2.00', '']\n",
            "['23', 'HMM', '23,650', '상승\\n\\t\\t\\t\\t1,550', '+7.01%', '5,000', '242,422', '1,025,039', '6.96', '5,425,175', '5.35', '15.35', '']\n",
            "['24', '하나금융지주', '82,800', '하락\\n\\t\\t\\t\\t3,500', '-4.06%', '5,000', '235,751', '284,724', '67.25', '1,021,547', '6.25', '9.11', '']\n",
            "['25', '메리츠금융지주', '119,300', '하락\\n\\t\\t\\t\\t1,500', '-1.24%', '500', '214,757', '180,014', '15.64', '227,966', '9.77', '23.44', '']\n",
            "['']\n",
            "['']\n",
            "['']\n",
            "['26', '삼성화재', '441,000', '보합0', '0.00%', '500', '202,909', '46,011', '55.78', '77,672', '11.26', '13.11', '']\n",
            "['27', '현대로템', '178,900', '하락\\n\\t\\t\\t\\t800', '-0.45%', '5,000', '195,256', '109,142', '31.08', '587,266', '38.36', '21.85', '']\n",
            "['28', 'LG화학', '276,000', '하락\\n\\t\\t\\t\\t6,500', '-2.30%', '5,000', '194,835', '70,592', '31.62', '187,334', '-23.10', '-2.11', '']\n",
            "['29', '우리금융지주', '24,700', '하락\\n\\t\\t\\t\\t750', '-2.95%', '5,000', '183,420', '742,592', '47.08', '1,365,962', '6.37', '9.39', '']\n",
            "['30', 'SK스퀘어', '137,600', '하락\\n\\t\\t\\t\\t6,100', '-4.24%', '100', '182,376', '132,541', '53.47', '264,690', '3.71', '21.70', '']\n",
            "['']\n",
            "['']\n",
            "['']\n",
            "['31', '삼성SDI', '219,500', '하락\\n\\t\\t\\t\\t4,500', '-2.01%', '5,000', '176,885', '80,586', '26.69', '319,220', '150.24', '3.13', '']\n",
            "['32', '삼성중공업', '19,290', '상승\\n\\t\\t\\t\\t400', '+2.12%', '1,000', '169,752', '880,000', '31.29', '8,441,758', '116.20', '1.77', '']\n",
            "['33', 'HD현대일렉트릭', '460,000', '하락\\n\\t\\t\\t\\t27,500', '-5.64%', '5,000', '165,817', '36,047', '35.57', '270,153', '29.52', '39.34', '']\n",
            "['34', 'KT&G', '133,900', '상승\\n\\t\\t\\t\\t200', '+0.15%', '5,000', '163,442', '122,062', '42.46', '315,502', '15.08', '12.66', '']\n",
            "['35', 'SK이노베이션', '105,500', '하락\\n\\t\\t\\t\\t3,600', '-3.30%', '5,000', '159,342', '151,035', '13.56', '233,601', '-5.21', '-9.65', '']\n",
            "['']\n",
            "['']\n",
            "['']\n",
            "['36', '고려아연', '782,000', '하락\\n\\t\\t\\t\\t25,000', '-3.10%', '5,000', '156,582', '20,023', '12.01', '11,537', '65.71', '2.28', '']\n",
            "['37', '기업은행', '19,260', '하락\\n\\t\\t\\t\\t200', '-1.03%', '5,000', '153,584', '797,426', '13.88', '711,220', '5.75', '8.06', '']\n",
            "['38', '크래프톤', '313,000', '하락\\n\\t\\t\\t\\t2,500', '-0.79%', '100', '148,341', '47,393', '42.85', '71,102', '11.31', '21.10', '']\n",
            "['39', 'KT', '55,300', '하락\\n\\t\\t\\t\\t400', '-0.72%', '5,000', '139,368', '252,022', '49.00', '125,940', '22.02', '2.85', '']\n",
            "['40', '포스코퓨처엠', '155,300', '하락\\n\\t\\t\\t\\t7,900', '-4.84%', '500', '138,133', '88,946', '9.76', '239,556', '-55.58', '-7.98', '']\n",
            "['']\n",
            "['']\n",
            "['']\n",
            "['41', 'SK', '184,100', '하락\\n\\t\\t\\t\\t2,200', '-1.18%', '200', '133,477', '72,503', '25.27', '144,958', '14.99', '-5.64', '']\n",
            "['42', '현대글로비스', '171,500', '하락\\n\\t\\t\\t\\t5,800', '-3.27%', '500', '128,625', '75,000', '50.06', '239,416', '10.83', '13.24', '']\n",
            "['43', 'LG전자', '76,800', '하락\\n\\t\\t\\t\\t400', '-0.52%', '5,000', '125,097', '162,886', '29.30', '287,958', '20.08', '1.81', '']\n",
            "['44', '카카오뱅크', '25,900', '하락\\n\\t\\t\\t\\t750', '-2.81%', '5,000', '123,541', '476,990', '16.29', '669,688', '26.48', '6.95', '']\n",
            "['45', 'SK텔레콤', '55,800', '하락\\n\\t\\t\\t\\t300', '-0.53%', '100', '119,853', '214,790', '38.64', '581,602', '9.50', '10.83', '']\n",
            "['']\n",
            "['']\n",
            "['']\n",
            "['46', '삼성전기', '158,200', '하락\\n\\t\\t\\t\\t4,400', '-2.71%', '5,000', '118,165', '74,694', '35.24', '300,453', '19.49', '8.16', '']\n",
            "['47', '하이브', '280,500', '하락\\n\\t\\t\\t\\t3,000', '-1.06%', '500', '116,834', '41,652', '20.69', '148,873', '223.33', '0.31', '']\n",
            "['48', '삼성에스디에스', '150,800', '하락\\n\\t\\t\\t\\t600', '-0.40%', '500', '116,686', '77,378', '18.74', '87,893', '15.40', '8.42', '']\n",
            "['49', 'LG', '73,000', '하락\\n\\t\\t\\t\\t1,700', '-2.28%', '5,000', '114,793', '157,251', '34.74', '204,060', '14.45', '2.16', '']\n",
            "['50', 'LIG넥스원', '509,000', '상승\\n\\t\\t\\t\\t3,000', '+0.59%', '5,000', '111,980', '22,000', '32.11', '102,592', '45.64', '19.59', '']\n",
            "['']\n",
            "['']\n",
            "['']\n"
          ]
        }
      ]
    },
    {
      "cell_type": "code",
      "metadata": {
        "colab": {
          "base_uri": "https://localhost:8080/"
        },
        "id": "6MZM7aKRW1z3",
        "outputId": "8ca663c4-fbf7-44ed-afd1-c6df7ca249ae"
      },
      "source": [
        "import csv\n",
        "import requests\n",
        "from bs4 import BeautifulSoup\n",
        "\n",
        "url = 'https://finance.naver.com/sise/sise_market_sum.nhn?sosok=0&page='\n",
        "\n",
        "for page in range(1,2):\n",
        "  res = requests.get(url + str(page))\n",
        "  res.raise_for_status()\n",
        "  soup = BeautifulSoup(res.text, 'lxml')\n",
        "\n",
        "\n",
        "  data_rows = soup.find('table',attrs={'class':'type_2'}).find('tbody').find_all('tr')\n",
        "  for row in data_rows:\n",
        "    columns = row.find_all('td')\n",
        "    if len(columns) <=1: #비어있는 라인 제외시키기\n",
        "      continue\n",
        "    data = [column.get_text().strip() for column in columns]\n",
        "    print(data)\n"
      ],
      "execution_count": null,
      "outputs": [
        {
          "output_type": "stream",
          "name": "stdout",
          "text": [
            "['1', '삼성전자', '70,000', '하락\\n\\t\\t\\t\\t1,600', '-2.23%', '100', '4,143,747', '5,919,638', '50.57', '13,554,269', '13.56', '9.03', '']\n",
            "['2', 'SK하이닉스', '267,500', '하락\\n\\t\\t\\t\\t9,000', '-3.25%', '5,000', '1,947,406', '728,002', '55.48', '1,928,554', '7.50', '31.06', '']\n",
            "['3', 'LG에너지솔루션', '383,000', '하락\\n\\t\\t\\t\\t11,000', '-2.79%', '500', '896,220', '234,000', '4.19', '167,924', '-77.00', '-4.93', '']\n",
            "['4', '삼성바이오로직스', '1,028,000', '하락\\n\\t\\t\\t\\t5,000', '-0.48%', '2,500', '731,669', '71,174', '12.86', '40,399', '57.18', '10.45', '']\n",
            "['5', '삼성전자우', '57,300', '하락\\n\\t\\t\\t\\t900', '-1.55%', '100', '467,553', '815,975', '74.22', '1,320,693', '11.10', 'N/A', '']\n",
            "['6', '한화에어로스페이스', '888,000', '상승\\n\\t\\t\\t\\t5,000', '+0.57%', '5,000', '457,883', '51,563', '43.84', '216,731', '17.96', '53.94', '']\n",
            "['7', '현대차', '216,500', '하락\\n\\t\\t\\t\\t1,000', '-0.46%', '5,000', '443,301', '204,758', '36.17', '405,813', '4.72', '12.43', '']\n",
            "['8', 'HD현대중공업', '476,000', '하락\\n\\t\\t\\t\\t1,000', '-0.21%', '5,000', '422,560', '88,773', '11.04', '215,570', '48.18', '11.39', '']\n",
            "['9', '두산에너빌리티', '65,100', '하락\\n\\t\\t\\t\\t400', '-0.61%', '5,000', '417,005', '640,561', '23.70', '3,325,497', '-409.43', '1.52', '']\n",
            "['10', 'KB금융', '107,200', '하락\\n\\t\\t\\t\\t6,000', '-5.30%', '5,000', '408,927', '381,462', '77.81', '1,621,279', '7.44', '8.86', '']\n",
            "['11', '기아', '102,200', '하락\\n\\t\\t\\t\\t1,500', '-1.45%', '5,000', '406,421', '397,673', '39.75', '539,476', '4.36', '19.09', '']\n",
            "['12', '셀트리온', '172,900', '하락\\n\\t\\t\\t\\t2,100', '-1.20%', '1,000', '399,294', '230,939', '21.37', '265,297', '80.01', '2.46', '']\n",
            "['13', 'NAVER', '226,000', '상승\\n\\t\\t\\t\\t1,500', '+0.67%', '100', '358,068', '158,437', '42.28', '479,724', '19.73', '7.90', '']\n",
            "['14', '한화오션', '109,200', '상승\\n\\t\\t\\t\\t2,600', '+2.44%', '5,000', '334,603', '306,413', '14.74', '2,099,188', '38.52', '11.52', '']\n",
            "['15', '신한지주', '67,500', '하락\\n\\t\\t\\t\\t1,600', '-2.32%', '5,000', '327,709', '485,495', '60.08', '1,490,270', '7.41', '8.11', '']\n",
            "['16', '카카오', '65,000', '상승\\n\\t\\t\\t\\t600', '+0.93%', '100', '287,381', '442,125', '29.21', '1,926,649', '187.86', '0.56', '']\n",
            "['17', '삼성물산', '161,500', '하락\\n\\t\\t\\t\\t2,400', '-1.46%', '100', '274,512', '169,977', '27.53', '191,040', '12.90', '6.83', '']\n",
            "['18', '현대모비스', '292,000', '하락\\n\\t\\t\\t\\t4,500', '-1.52%', '5,000', '268,042', '91,795', '43.62', '93,609', '6.43', '9.35', '']\n",
            "['19', 'HD한국조선해양', '369,500', '하락\\n\\t\\t\\t\\t9,000', '-2.38%', '5,000', '261,507', '70,773', '32.93', '206,509', '17.68', '11.16', '']\n",
            "['20', '삼성생명', '127,500', '하락\\n\\t\\t\\t\\t1,000', '-0.78%', '500', '255,000', '200,000', '22.00', '281,730', '12.03', '6.18', '']\n",
            "['21', '한국전력', '39,450', '상승\\n\\t\\t\\t\\t600', '+1.54%', '5,000', '253,255', '641,964', '20.45', '5,248,703', '4.82', '9.22', '']\n",
            "['22', 'POSCO홀딩스', '301,500', '하락\\n\\t\\t\\t\\t6,000', '-1.95%', '5,000', '244,013', '80,933', '29.98', '254,583', '29.31', '2.00', '']\n",
            "['23', 'HMM', '23,650', '상승\\n\\t\\t\\t\\t1,550', '+7.01%', '5,000', '242,422', '1,025,039', '6.96', '5,425,175', '5.35', '15.35', '']\n",
            "['24', '하나금융지주', '82,800', '하락\\n\\t\\t\\t\\t3,500', '-4.06%', '5,000', '235,751', '284,724', '67.25', '1,021,547', '6.25', '9.11', '']\n",
            "['25', '메리츠금융지주', '119,300', '하락\\n\\t\\t\\t\\t1,500', '-1.24%', '500', '214,757', '180,014', '15.64', '227,966', '9.77', '23.44', '']\n",
            "['26', '삼성화재', '441,000', '보합0', '0.00%', '500', '202,909', '46,011', '55.78', '77,672', '11.26', '13.11', '']\n",
            "['27', '현대로템', '178,900', '하락\\n\\t\\t\\t\\t800', '-0.45%', '5,000', '195,256', '109,142', '31.08', '587,266', '38.36', '21.85', '']\n",
            "['28', 'LG화학', '276,000', '하락\\n\\t\\t\\t\\t6,500', '-2.30%', '5,000', '194,835', '70,592', '31.62', '187,334', '-23.10', '-2.11', '']\n",
            "['29', '우리금융지주', '24,700', '하락\\n\\t\\t\\t\\t750', '-2.95%', '5,000', '183,420', '742,592', '47.08', '1,365,962', '6.37', '9.39', '']\n",
            "['30', 'SK스퀘어', '137,600', '하락\\n\\t\\t\\t\\t6,100', '-4.24%', '100', '182,376', '132,541', '53.47', '264,690', '3.71', '21.70', '']\n",
            "['31', '삼성SDI', '219,500', '하락\\n\\t\\t\\t\\t4,500', '-2.01%', '5,000', '176,885', '80,586', '26.69', '319,220', '150.24', '3.13', '']\n",
            "['32', '삼성중공업', '19,290', '상승\\n\\t\\t\\t\\t400', '+2.12%', '1,000', '169,752', '880,000', '31.29', '8,441,758', '116.20', '1.77', '']\n",
            "['33', 'HD현대일렉트릭', '460,000', '하락\\n\\t\\t\\t\\t27,500', '-5.64%', '5,000', '165,817', '36,047', '35.57', '270,153', '29.52', '39.34', '']\n",
            "['34', 'KT&G', '133,900', '상승\\n\\t\\t\\t\\t200', '+0.15%', '5,000', '163,442', '122,062', '42.46', '315,502', '15.08', '12.66', '']\n",
            "['35', 'SK이노베이션', '105,500', '하락\\n\\t\\t\\t\\t3,600', '-3.30%', '5,000', '159,342', '151,035', '13.56', '233,601', '-5.21', '-9.65', '']\n",
            "['36', '고려아연', '782,000', '하락\\n\\t\\t\\t\\t25,000', '-3.10%', '5,000', '156,582', '20,023', '12.01', '11,537', '65.71', '2.28', '']\n",
            "['37', '기업은행', '19,260', '하락\\n\\t\\t\\t\\t200', '-1.03%', '5,000', '153,584', '797,426', '13.88', '711,220', '5.75', '8.06', '']\n",
            "['38', '크래프톤', '313,000', '하락\\n\\t\\t\\t\\t2,500', '-0.79%', '100', '148,341', '47,393', '42.85', '71,102', '11.31', '21.10', '']\n",
            "['39', 'KT', '55,300', '하락\\n\\t\\t\\t\\t400', '-0.72%', '5,000', '139,368', '252,022', '49.00', '125,940', '22.02', '2.85', '']\n",
            "['40', '포스코퓨처엠', '155,300', '하락\\n\\t\\t\\t\\t7,900', '-4.84%', '500', '138,133', '88,946', '9.76', '239,556', '-55.58', '-7.98', '']\n",
            "['41', 'SK', '184,100', '하락\\n\\t\\t\\t\\t2,200', '-1.18%', '200', '133,477', '72,503', '25.27', '144,958', '14.99', '-5.64', '']\n",
            "['42', '현대글로비스', '171,500', '하락\\n\\t\\t\\t\\t5,800', '-3.27%', '500', '128,625', '75,000', '50.06', '239,416', '10.83', '13.24', '']\n",
            "['43', 'LG전자', '76,800', '하락\\n\\t\\t\\t\\t400', '-0.52%', '5,000', '125,097', '162,886', '29.30', '287,958', '20.08', '1.81', '']\n",
            "['44', '카카오뱅크', '25,900', '하락\\n\\t\\t\\t\\t750', '-2.81%', '5,000', '123,541', '476,990', '16.29', '669,688', '26.48', '6.95', '']\n",
            "['45', 'SK텔레콤', '55,800', '하락\\n\\t\\t\\t\\t300', '-0.53%', '100', '119,853', '214,790', '38.64', '581,602', '9.50', '10.83', '']\n",
            "['46', '삼성전기', '158,200', '하락\\n\\t\\t\\t\\t4,400', '-2.71%', '5,000', '118,165', '74,694', '35.24', '300,453', '19.49', '8.16', '']\n",
            "['47', '하이브', '280,500', '하락\\n\\t\\t\\t\\t3,000', '-1.06%', '500', '116,834', '41,652', '20.69', '148,873', '223.33', '0.31', '']\n",
            "['48', '삼성에스디에스', '150,800', '하락\\n\\t\\t\\t\\t600', '-0.40%', '500', '116,686', '77,378', '18.74', '87,893', '15.40', '8.42', '']\n",
            "['49', 'LG', '73,000', '하락\\n\\t\\t\\t\\t1,700', '-2.28%', '5,000', '114,793', '157,251', '34.74', '204,060', '14.45', '2.16', '']\n",
            "['50', 'LIG넥스원', '509,000', '상승\\n\\t\\t\\t\\t3,000', '+0.59%', '5,000', '111,980', '22,000', '32.11', '102,592', '45.64', '19.59', '']\n"
          ]
        }
      ]
    },
    {
      "cell_type": "code",
      "metadata": {
        "id": "l1M1GDwzW187",
        "colab": {
          "base_uri": "https://localhost:8080/"
        },
        "outputId": "6fa220cf-e01b-4b1f-f8f6-8e2ae890d727"
      },
      "source": [
        "import csv\n",
        "import requests\n",
        "from bs4 import BeautifulSoup\n",
        "\n",
        "url = 'https://finance.naver.com/sise/sise_market_sum.nhn?sosok=0&page='\n",
        "\n",
        "filename = 'kospi.csv'\n",
        "\n",
        "f = open(filename, 'w', encoding = 'utf-8-sig', newline = '') #utf-8에서 인코딩 문제 발생 시, utf-8-signature로 인코딩\n",
        "writer = csv.writer(f)\n",
        "\n",
        "for page in range(1,2):\n",
        "  res = requests.get(url + str(page))\n",
        "  res.raise_for_status()\n",
        "  soup = BeautifulSoup(res.text, 'lxml')\n",
        "\n",
        "  data_rows = soup.find('table',attrs={'class':'type_2'}).find('tbody').find_all('tr')\n",
        "  for row in data_rows:\n",
        "    columns = row.find_all('td')\n",
        "    if len(columns) <=1: #의미 없는 데이터는 skip\n",
        "      continue\n",
        "    data = [column.get_text().strip() for column in columns]\n",
        "    print(data)\n",
        "    writer.writerow(data)\n"
      ],
      "execution_count": null,
      "outputs": [
        {
          "output_type": "stream",
          "name": "stdout",
          "text": [
            "['1', '삼성전자', '70,000', '하락\\n\\t\\t\\t\\t1,600', '-2.23%', '100', '4,143,747', '5,919,638', '50.57', '13,554,269', '13.56', '9.03', '']\n",
            "['2', 'SK하이닉스', '267,500', '하락\\n\\t\\t\\t\\t9,000', '-3.25%', '5,000', '1,947,406', '728,002', '55.48', '1,928,554', '7.50', '31.06', '']\n",
            "['3', 'LG에너지솔루션', '383,000', '하락\\n\\t\\t\\t\\t11,000', '-2.79%', '500', '896,220', '234,000', '4.19', '167,924', '-77.00', '-4.93', '']\n",
            "['4', '삼성바이오로직스', '1,028,000', '하락\\n\\t\\t\\t\\t5,000', '-0.48%', '2,500', '731,669', '71,174', '12.86', '40,399', '57.18', '10.45', '']\n",
            "['5', '삼성전자우', '57,300', '하락\\n\\t\\t\\t\\t900', '-1.55%', '100', '467,553', '815,975', '74.22', '1,320,693', '11.10', 'N/A', '']\n",
            "['6', '한화에어로스페이스', '888,000', '상승\\n\\t\\t\\t\\t5,000', '+0.57%', '5,000', '457,883', '51,563', '43.84', '216,731', '17.96', '53.94', '']\n",
            "['7', '현대차', '216,500', '하락\\n\\t\\t\\t\\t1,000', '-0.46%', '5,000', '443,301', '204,758', '36.17', '405,813', '4.72', '12.43', '']\n",
            "['8', 'HD현대중공업', '476,000', '하락\\n\\t\\t\\t\\t1,000', '-0.21%', '5,000', '422,560', '88,773', '11.04', '215,570', '48.18', '11.39', '']\n",
            "['9', '두산에너빌리티', '65,100', '하락\\n\\t\\t\\t\\t400', '-0.61%', '5,000', '417,005', '640,561', '23.70', '3,325,497', '-409.43', '1.52', '']\n",
            "['10', 'KB금융', '107,200', '하락\\n\\t\\t\\t\\t6,000', '-5.30%', '5,000', '408,927', '381,462', '77.81', '1,621,279', '7.44', '8.86', '']\n",
            "['11', '기아', '102,200', '하락\\n\\t\\t\\t\\t1,500', '-1.45%', '5,000', '406,421', '397,673', '39.75', '539,476', '4.36', '19.09', '']\n",
            "['12', '셀트리온', '172,900', '하락\\n\\t\\t\\t\\t2,100', '-1.20%', '1,000', '399,294', '230,939', '21.37', '265,297', '80.01', '2.46', '']\n",
            "['13', 'NAVER', '226,000', '상승\\n\\t\\t\\t\\t1,500', '+0.67%', '100', '358,068', '158,437', '42.28', '479,724', '19.73', '7.90', '']\n",
            "['14', '한화오션', '109,200', '상승\\n\\t\\t\\t\\t2,600', '+2.44%', '5,000', '334,603', '306,413', '14.74', '2,099,188', '38.52', '11.52', '']\n",
            "['15', '신한지주', '67,500', '하락\\n\\t\\t\\t\\t1,600', '-2.32%', '5,000', '327,709', '485,495', '60.08', '1,490,270', '7.41', '8.11', '']\n",
            "['16', '카카오', '65,000', '상승\\n\\t\\t\\t\\t600', '+0.93%', '100', '287,381', '442,125', '29.21', '1,926,649', '187.86', '0.56', '']\n",
            "['17', '삼성물산', '161,500', '하락\\n\\t\\t\\t\\t2,400', '-1.46%', '100', '274,512', '169,977', '27.53', '191,040', '12.90', '6.83', '']\n",
            "['18', '현대모비스', '292,000', '하락\\n\\t\\t\\t\\t4,500', '-1.52%', '5,000', '268,042', '91,795', '43.62', '93,609', '6.43', '9.35', '']\n",
            "['19', 'HD한국조선해양', '369,500', '하락\\n\\t\\t\\t\\t9,000', '-2.38%', '5,000', '261,507', '70,773', '32.93', '206,509', '17.68', '11.16', '']\n",
            "['20', '삼성생명', '127,500', '하락\\n\\t\\t\\t\\t1,000', '-0.78%', '500', '255,000', '200,000', '22.00', '281,730', '12.03', '6.18', '']\n",
            "['21', '한국전력', '39,450', '상승\\n\\t\\t\\t\\t600', '+1.54%', '5,000', '253,255', '641,964', '20.45', '5,248,703', '4.82', '9.22', '']\n",
            "['22', 'POSCO홀딩스', '301,500', '하락\\n\\t\\t\\t\\t6,000', '-1.95%', '5,000', '244,013', '80,933', '29.98', '254,583', '29.31', '2.00', '']\n",
            "['23', 'HMM', '23,650', '상승\\n\\t\\t\\t\\t1,550', '+7.01%', '5,000', '242,422', '1,025,039', '6.96', '5,425,175', '5.35', '15.35', '']\n",
            "['24', '하나금융지주', '82,800', '하락\\n\\t\\t\\t\\t3,500', '-4.06%', '5,000', '235,751', '284,724', '67.25', '1,021,547', '6.25', '9.11', '']\n",
            "['25', '메리츠금융지주', '119,300', '하락\\n\\t\\t\\t\\t1,500', '-1.24%', '500', '214,757', '180,014', '15.64', '227,966', '9.77', '23.44', '']\n",
            "['26', '삼성화재', '441,000', '보합0', '0.00%', '500', '202,909', '46,011', '55.78', '77,672', '11.26', '13.11', '']\n",
            "['27', '현대로템', '178,900', '하락\\n\\t\\t\\t\\t800', '-0.45%', '5,000', '195,256', '109,142', '31.08', '587,266', '38.36', '21.85', '']\n",
            "['28', 'LG화학', '276,000', '하락\\n\\t\\t\\t\\t6,500', '-2.30%', '5,000', '194,835', '70,592', '31.62', '187,334', '-23.10', '-2.11', '']\n",
            "['29', '우리금융지주', '24,700', '하락\\n\\t\\t\\t\\t750', '-2.95%', '5,000', '183,420', '742,592', '47.08', '1,365,962', '6.37', '9.39', '']\n",
            "['30', 'SK스퀘어', '137,600', '하락\\n\\t\\t\\t\\t6,100', '-4.24%', '100', '182,376', '132,541', '53.47', '264,690', '3.71', '21.70', '']\n",
            "['31', '삼성SDI', '219,500', '하락\\n\\t\\t\\t\\t4,500', '-2.01%', '5,000', '176,885', '80,586', '26.69', '319,220', '150.24', '3.13', '']\n",
            "['32', '삼성중공업', '19,290', '상승\\n\\t\\t\\t\\t400', '+2.12%', '1,000', '169,752', '880,000', '31.29', '8,441,758', '116.20', '1.77', '']\n",
            "['33', 'HD현대일렉트릭', '460,000', '하락\\n\\t\\t\\t\\t27,500', '-5.64%', '5,000', '165,817', '36,047', '35.57', '270,153', '29.52', '39.34', '']\n",
            "['34', 'KT&G', '133,900', '상승\\n\\t\\t\\t\\t200', '+0.15%', '5,000', '163,442', '122,062', '42.46', '315,502', '15.08', '12.66', '']\n",
            "['35', 'SK이노베이션', '105,500', '하락\\n\\t\\t\\t\\t3,600', '-3.30%', '5,000', '159,342', '151,035', '13.56', '233,601', '-5.21', '-9.65', '']\n",
            "['36', '고려아연', '782,000', '하락\\n\\t\\t\\t\\t25,000', '-3.10%', '5,000', '156,582', '20,023', '12.01', '11,537', '65.71', '2.28', '']\n",
            "['37', '기업은행', '19,260', '하락\\n\\t\\t\\t\\t200', '-1.03%', '5,000', '153,584', '797,426', '13.88', '711,220', '5.75', '8.06', '']\n",
            "['38', '크래프톤', '313,000', '하락\\n\\t\\t\\t\\t2,500', '-0.79%', '100', '148,341', '47,393', '42.85', '71,102', '11.31', '21.10', '']\n",
            "['39', 'KT', '55,300', '하락\\n\\t\\t\\t\\t400', '-0.72%', '5,000', '139,368', '252,022', '49.00', '125,940', '22.02', '2.85', '']\n",
            "['40', '포스코퓨처엠', '155,300', '하락\\n\\t\\t\\t\\t7,900', '-4.84%', '500', '138,133', '88,946', '9.76', '239,556', '-55.58', '-7.98', '']\n",
            "['41', 'SK', '184,100', '하락\\n\\t\\t\\t\\t2,200', '-1.18%', '200', '133,477', '72,503', '25.27', '144,958', '14.99', '-5.64', '']\n",
            "['42', '현대글로비스', '171,500', '하락\\n\\t\\t\\t\\t5,800', '-3.27%', '500', '128,625', '75,000', '50.06', '239,416', '10.83', '13.24', '']\n",
            "['43', 'LG전자', '76,800', '하락\\n\\t\\t\\t\\t400', '-0.52%', '5,000', '125,097', '162,886', '29.30', '287,958', '20.08', '1.81', '']\n",
            "['44', '카카오뱅크', '25,900', '하락\\n\\t\\t\\t\\t750', '-2.81%', '5,000', '123,541', '476,990', '16.29', '669,688', '26.48', '6.95', '']\n",
            "['45', 'SK텔레콤', '55,800', '하락\\n\\t\\t\\t\\t300', '-0.53%', '100', '119,853', '214,790', '38.64', '581,602', '9.50', '10.83', '']\n",
            "['46', '삼성전기', '158,200', '하락\\n\\t\\t\\t\\t4,400', '-2.71%', '5,000', '118,165', '74,694', '35.24', '300,453', '19.49', '8.16', '']\n",
            "['47', '하이브', '280,500', '하락\\n\\t\\t\\t\\t3,000', '-1.06%', '500', '116,834', '41,652', '20.69', '148,873', '223.33', '0.31', '']\n",
            "['48', '삼성에스디에스', '150,800', '하락\\n\\t\\t\\t\\t600', '-0.40%', '500', '116,686', '77,378', '18.74', '87,893', '15.40', '8.42', '']\n",
            "['49', 'LG', '73,000', '하락\\n\\t\\t\\t\\t1,700', '-2.28%', '5,000', '114,793', '157,251', '34.74', '204,060', '14.45', '2.16', '']\n",
            "['50', 'LIG넥스원', '509,000', '상승\\n\\t\\t\\t\\t3,000', '+0.59%', '5,000', '111,980', '22,000', '32.11', '102,592', '45.64', '19.59', '']\n"
          ]
        }
      ]
    },
    {
      "cell_type": "code",
      "metadata": {
        "id": "Q7_aSuxoW2BG",
        "colab": {
          "base_uri": "https://localhost:8080/"
        },
        "outputId": "b17a37e7-6dc8-4e2c-af6c-57c53b9da857"
      },
      "source": [
        "import csv\n",
        "import requests\n",
        "from bs4 import BeautifulSoup\n",
        "\n",
        "url = 'https://finance.naver.com/sise/sise_market_sum.nhn?sosok=0&page='\n",
        "\n",
        "filename = 'kospi2.csv'\n",
        "\n",
        "f = open(filename, 'w', encoding = 'utf-8-sig', newline = '')\n",
        "writer = csv.writer(f)\n",
        "\n",
        "title = 'N\t종목명\t현재가\t전일비\t등락률\t액면가\t시가총액\t상장주식수\t외국인비율\t거래량\tPER\tROE'.split('\\t')\n",
        "writer.writerow(title)\n",
        "\n",
        "for page in range(1,5):\n",
        "  res = requests.get(url + str(page))\n",
        "  res.raise_for_status()\n",
        "  soup = BeautifulSoup(res.text, 'lxml')\n",
        "\n",
        "\n",
        "  data_rows = soup.find('table',attrs={'class':'type_2'}).find('tbody').find_all('tr')\n",
        "  for row in data_rows:\n",
        "    columns = row.find_all('td')\n",
        "    if len(columns) <=1: #의미 없는 데이터는 skip\n",
        "      continue\n",
        "    data = [column.get_text().strip() for column in columns]\n",
        "    print(data)\n",
        "    writer.writerow(data)\n",
        "\n"
      ],
      "execution_count": null,
      "outputs": [
        {
          "output_type": "stream",
          "name": "stdout",
          "text": [
            "['1', '삼성전자', '70,000', '하락\\n\\t\\t\\t\\t1,600', '-2.23%', '100', '4,143,747', '5,919,638', '50.57', '13,554,269', '13.56', '9.03', '']\n",
            "['2', 'SK하이닉스', '267,500', '하락\\n\\t\\t\\t\\t9,000', '-3.25%', '5,000', '1,947,406', '728,002', '55.48', '1,928,554', '7.50', '31.06', '']\n",
            "['3', 'LG에너지솔루션', '383,000', '하락\\n\\t\\t\\t\\t11,000', '-2.79%', '500', '896,220', '234,000', '4.19', '167,924', '-77.00', '-4.93', '']\n",
            "['4', '삼성바이오로직스', '1,028,000', '하락\\n\\t\\t\\t\\t5,000', '-0.48%', '2,500', '731,669', '71,174', '12.86', '40,399', '57.18', '10.45', '']\n",
            "['5', '삼성전자우', '57,300', '하락\\n\\t\\t\\t\\t900', '-1.55%', '100', '467,553', '815,975', '74.22', '1,320,693', '11.10', 'N/A', '']\n",
            "['6', '한화에어로스페이스', '888,000', '상승\\n\\t\\t\\t\\t5,000', '+0.57%', '5,000', '457,883', '51,563', '43.84', '216,731', '17.96', '53.94', '']\n",
            "['7', '현대차', '216,500', '하락\\n\\t\\t\\t\\t1,000', '-0.46%', '5,000', '443,301', '204,758', '36.17', '405,813', '4.72', '12.43', '']\n",
            "['8', 'HD현대중공업', '476,000', '하락\\n\\t\\t\\t\\t1,000', '-0.21%', '5,000', '422,560', '88,773', '11.04', '215,570', '48.18', '11.39', '']\n",
            "['9', '두산에너빌리티', '65,100', '하락\\n\\t\\t\\t\\t400', '-0.61%', '5,000', '417,005', '640,561', '23.70', '3,325,497', '-409.43', '1.52', '']\n",
            "['10', 'KB금융', '107,200', '하락\\n\\t\\t\\t\\t6,000', '-5.30%', '5,000', '408,927', '381,462', '77.81', '1,621,279', '7.44', '8.86', '']\n",
            "['11', '기아', '102,200', '하락\\n\\t\\t\\t\\t1,500', '-1.45%', '5,000', '406,421', '397,673', '39.75', '539,476', '4.36', '19.09', '']\n",
            "['12', '셀트리온', '172,900', '하락\\n\\t\\t\\t\\t2,100', '-1.20%', '1,000', '399,294', '230,939', '21.37', '265,297', '80.01', '2.46', '']\n",
            "['13', 'NAVER', '226,000', '상승\\n\\t\\t\\t\\t1,500', '+0.67%', '100', '358,068', '158,437', '42.28', '479,724', '19.73', '7.90', '']\n",
            "['14', '한화오션', '109,200', '상승\\n\\t\\t\\t\\t2,600', '+2.44%', '5,000', '334,603', '306,413', '14.74', '2,099,188', '38.52', '11.52', '']\n",
            "['15', '신한지주', '67,500', '하락\\n\\t\\t\\t\\t1,600', '-2.32%', '5,000', '327,709', '485,495', '60.08', '1,490,270', '7.41', '8.11', '']\n",
            "['16', '카카오', '65,000', '상승\\n\\t\\t\\t\\t600', '+0.93%', '100', '287,381', '442,125', '29.21', '1,926,649', '187.86', '0.56', '']\n",
            "['17', '삼성물산', '161,500', '하락\\n\\t\\t\\t\\t2,400', '-1.46%', '100', '274,512', '169,977', '27.53', '191,040', '12.90', '6.83', '']\n",
            "['18', '현대모비스', '292,000', '하락\\n\\t\\t\\t\\t4,500', '-1.52%', '5,000', '268,042', '91,795', '43.62', '93,609', '6.43', '9.35', '']\n",
            "['19', 'HD한국조선해양', '369,500', '하락\\n\\t\\t\\t\\t9,000', '-2.38%', '5,000', '261,507', '70,773', '32.93', '206,509', '17.68', '11.16', '']\n",
            "['20', '삼성생명', '127,500', '하락\\n\\t\\t\\t\\t1,000', '-0.78%', '500', '255,000', '200,000', '22.00', '281,730', '12.03', '6.18', '']\n",
            "['21', '한국전력', '39,450', '상승\\n\\t\\t\\t\\t600', '+1.54%', '5,000', '253,255', '641,964', '20.45', '5,248,703', '4.82', '9.22', '']\n",
            "['22', 'POSCO홀딩스', '301,500', '하락\\n\\t\\t\\t\\t6,000', '-1.95%', '5,000', '244,013', '80,933', '29.98', '254,583', '29.31', '2.00', '']\n",
            "['23', 'HMM', '23,650', '상승\\n\\t\\t\\t\\t1,550', '+7.01%', '5,000', '242,422', '1,025,039', '6.96', '5,425,175', '5.35', '15.35', '']\n",
            "['24', '하나금융지주', '82,800', '하락\\n\\t\\t\\t\\t3,500', '-4.06%', '5,000', '235,751', '284,724', '67.25', '1,021,547', '6.25', '9.11', '']\n",
            "['25', '메리츠금융지주', '119,300', '하락\\n\\t\\t\\t\\t1,500', '-1.24%', '500', '214,757', '180,014', '15.64', '227,966', '9.77', '23.44', '']\n",
            "['26', '삼성화재', '441,000', '보합0', '0.00%', '500', '202,909', '46,011', '55.78', '77,672', '11.26', '13.11', '']\n",
            "['27', '현대로템', '178,900', '하락\\n\\t\\t\\t\\t800', '-0.45%', '5,000', '195,256', '109,142', '31.08', '587,266', '38.36', '21.85', '']\n",
            "['28', 'LG화학', '276,000', '하락\\n\\t\\t\\t\\t6,500', '-2.30%', '5,000', '194,835', '70,592', '31.62', '187,334', '-23.10', '-2.11', '']\n",
            "['29', '우리금융지주', '24,700', '하락\\n\\t\\t\\t\\t750', '-2.95%', '5,000', '183,420', '742,592', '47.08', '1,365,962', '6.37', '9.39', '']\n",
            "['30', 'SK스퀘어', '137,600', '하락\\n\\t\\t\\t\\t6,100', '-4.24%', '100', '182,376', '132,541', '53.47', '264,690', '3.71', '21.70', '']\n",
            "['31', '삼성SDI', '219,500', '하락\\n\\t\\t\\t\\t4,500', '-2.01%', '5,000', '176,885', '80,586', '26.69', '319,220', '150.24', '3.13', '']\n",
            "['32', '삼성중공업', '19,290', '상승\\n\\t\\t\\t\\t400', '+2.12%', '1,000', '169,752', '880,000', '31.29', '8,441,758', '116.20', '1.77', '']\n",
            "['33', 'HD현대일렉트릭', '460,000', '하락\\n\\t\\t\\t\\t27,500', '-5.64%', '5,000', '165,817', '36,047', '35.57', '270,153', '29.52', '39.34', '']\n",
            "['34', 'KT&G', '133,900', '상승\\n\\t\\t\\t\\t200', '+0.15%', '5,000', '163,442', '122,062', '42.46', '315,502', '15.08', '12.66', '']\n",
            "['35', 'SK이노베이션', '105,500', '하락\\n\\t\\t\\t\\t3,600', '-3.30%', '5,000', '159,342', '151,035', '13.56', '233,601', '-5.21', '-9.65', '']\n",
            "['36', '고려아연', '782,000', '하락\\n\\t\\t\\t\\t25,000', '-3.10%', '5,000', '156,582', '20,023', '12.01', '11,537', '65.71', '2.28', '']\n",
            "['37', '기업은행', '19,260', '하락\\n\\t\\t\\t\\t200', '-1.03%', '5,000', '153,584', '797,426', '13.88', '711,220', '5.75', '8.06', '']\n",
            "['38', '크래프톤', '313,000', '하락\\n\\t\\t\\t\\t2,500', '-0.79%', '100', '148,341', '47,393', '42.85', '71,102', '11.31', '21.10', '']\n",
            "['39', 'KT', '55,300', '하락\\n\\t\\t\\t\\t400', '-0.72%', '5,000', '139,368', '252,022', '49.00', '125,940', '22.02', '2.85', '']\n",
            "['40', '포스코퓨처엠', '155,300', '하락\\n\\t\\t\\t\\t7,900', '-4.84%', '500', '138,133', '88,946', '9.76', '239,556', '-55.58', '-7.98', '']\n",
            "['41', 'SK', '184,100', '하락\\n\\t\\t\\t\\t2,200', '-1.18%', '200', '133,477', '72,503', '25.27', '144,958', '14.99', '-5.64', '']\n",
            "['42', '현대글로비스', '171,500', '하락\\n\\t\\t\\t\\t5,800', '-3.27%', '500', '128,625', '75,000', '50.06', '239,416', '10.83', '13.24', '']\n",
            "['43', 'LG전자', '76,800', '하락\\n\\t\\t\\t\\t400', '-0.52%', '5,000', '125,097', '162,886', '29.30', '287,958', '20.08', '1.81', '']\n",
            "['44', '카카오뱅크', '25,900', '하락\\n\\t\\t\\t\\t750', '-2.81%', '5,000', '123,541', '476,990', '16.29', '669,688', '26.48', '6.95', '']\n",
            "['45', 'SK텔레콤', '55,800', '하락\\n\\t\\t\\t\\t300', '-0.53%', '100', '119,853', '214,790', '38.64', '581,602', '9.50', '10.83', '']\n",
            "['46', '삼성전기', '158,200', '하락\\n\\t\\t\\t\\t4,400', '-2.71%', '5,000', '118,165', '74,694', '35.24', '300,453', '19.49', '8.16', '']\n",
            "['47', '하이브', '280,500', '하락\\n\\t\\t\\t\\t3,000', '-1.06%', '500', '116,834', '41,652', '20.69', '148,873', '223.33', '0.31', '']\n",
            "['48', '삼성에스디에스', '150,800', '하락\\n\\t\\t\\t\\t600', '-0.40%', '500', '116,686', '77,378', '18.74', '87,893', '15.40', '8.42', '']\n",
            "['49', 'LG', '73,000', '하락\\n\\t\\t\\t\\t1,700', '-2.28%', '5,000', '114,793', '157,251', '34.74', '204,060', '14.45', '2.16', '']\n",
            "['50', 'LIG넥스원', '509,000', '상승\\n\\t\\t\\t\\t3,000', '+0.59%', '5,000', '111,980', '22,000', '32.11', '102,592', '45.64', '19.59', '']\n",
            "['51', '효성중공업', '1,177,000', '하락\\n\\t\\t\\t\\t38,000', '-3.13%', '5,000', '109,750', '9,325', '24.57', '82,959', '36.21', '14.90', '']\n",
            "['52', '미래에셋증권', '18,270', '하락\\n\\t\\t\\t\\t540', '-2.87%', '5,000', '104,197', '570,316', '13.02', '1,555,956', '13.39', '7.94', '']\n",
            "['53', '삼양식품', '1,377,000', '하락\\n\\t\\t\\t\\t3,000', '-0.22%', '5,000', '103,730', '7,533', '19.92', '56,603', '34.05', '39.37', '']\n",
            "['54', 'HD현대', '131,100', '하락\\n\\t\\t\\t\\t3,400', '-2.53%', '1,000', '103,560', '78,993', '24.26', '97,251', '19.72', '6.36', '']\n",
            "['55', '한화시스템', '53,300', '하락\\n\\t\\t\\t\\t1,200', '-2.20%', '5,000', '100,694', '188,919', '7.01', '639,061', '22.87', '19.63', '']\n",
            "['56', '두산', '568,000', '상승\\n\\t\\t\\t\\t13,000', '+2.34%', '5,000', '93,855', '16,524', '15.88', '115,652', '-58.62', '-14.57', '']\n",
            "['57', 'DB손해보험', '130,100', '상승\\n\\t\\t\\t\\t1,200', '+0.93%', '500', '92,111', '70,800', '44.59', '205,294', '5.41', '18.98', '']\n",
            "['58', '대한항공', '24,850', '하락\\n\\t\\t\\t\\t50', '-0.20%', '5,000', '91,503', '368,221', '16.75', '930,901', '7.48', '13.17', '']\n",
            "['59', '유한양행', '113,700', '하락\\n\\t\\t\\t\\t700', '-0.61%', '1,000', '90,924', '79,968', '16.91', '287,661', '138.49', '3.41', '']\n",
            "['60', 'KODEX CD금리액티브(합성)', '1,074,795', '상승\\n\\t\\t\\t\\t75', '+0.01%', '0', '89,620', '8,338', '0.00', '209,587', 'N/A', 'N/A', '']\n",
            "['61', 'TIGER 미국S&P500', '22,160', '상승\\n\\t\\t\\t\\t15', '+0.07%', '0', '89,471', '403,750', '0.02', '4,581,313', 'N/A', 'N/A', '']\n",
            "['62', '한국항공우주', '90,800', '하락\\n\\t\\t\\t\\t100', '-0.11%', '5,000', '88,507', '97,475', '34.33', '344,285', '53.47', '10.42', '']\n",
            "['63', '카카오페이', '65,400', '하락\\n\\t\\t\\t\\t500', '-0.76%', '500', '88,338', '135,074', '33.90', '439,042', '-2,109.68', '-0.73', '']\n",
            "['64', 'HD현대마린솔루션', '193,900', '하락\\n\\t\\t\\t\\t2,900', '-1.47%', '500', '86,924', '44,829', '29.78', '100,843', '34.70', '44.98', '']\n",
            "['65', 'LS ELECTRIC', '286,000', '하락\\n\\t\\t\\t\\t21,000', '-6.84%', '5,000', '85,800', '30,000', '24.29', '271,805', '37.27', '13.44', '']\n",
            "['66', '포스코인터내셔널', '48,200', '하락\\n\\t\\t\\t\\t1,000', '-2.03%', '5,000', '84,795', '175,923', '5.70', '232,731', '15.76', '8.14', '']\n",
            "['67', '한미반도체', '88,800', '하락\\n\\t\\t\\t\\t4,200', '-4.52%', '100', '84,637', '95,312', '7.12', '595,561', '62.45', '27.43', '']\n",
            "['68', '에이피알', '214,500', '상승\\n\\t\\t\\t\\t1,000', '+0.47%', '100', '81,604', '38,044', '24.15', '277,674', '61.02', '41.34', '']\n",
            "['69', 'HD현대미포', '195,200', '상승\\n\\t\\t\\t\\t5,200', '+2.74%', '5,000', '77,967', '39,942', '21.90', '376,858', '51.07', '5.25', '']\n",
            "['70', 'SK바이오팜', '99,200', '하락\\n\\t\\t\\t\\t1,400', '-1.39%', '500', '77,687', '78,313', '10.79', '119,159', '30.92', '58.01', '']\n",
            "['71', '한진칼', '116,000', '하락\\n\\t\\t\\t\\t3,300', '-2.77%', '2,500', '77,444', '66,762', '20.88', '53,343', '17.00', '16.75', '']\n",
            "['72', '코웨이', '104,400', '하락\\n\\t\\t\\t\\t400', '-0.38%', '500', '75,073', '71,909', '60.28', '115,584', '13.31', '19.38', '']\n",
            "['73', '한국금융지주', '133,500', '하락\\n\\t\\t\\t\\t4,000', '-2.91%', '5,000', '74,394', '55,726', '37.85', '195,990', '7.10', '11.54', '']\n",
            "['74', '아모레퍼시픽', '121,800', '하락\\n\\t\\t\\t\\t800', '-0.65%', '500', '71,244', '58,493', '23.05', '116,032', '13.45', '11.69', '']\n",
            "['75', '현대건설', '63,900', '상승\\n\\t\\t\\t\\t100', '+0.16%', '5,000', '71,156', '111,356', '25.05', '494,048', '-35.26', '-2.09', '']\n",
            "['76', 'LG씨엔에스', '72,400', '상승\\n\\t\\t\\t\\t200', '+0.28%', '500', '70,145', '96,886', '7.03', '485,766', '15.75', '18.32', '']\n",
            "['77', 'KODEX 머니마켓액티브', '103,570', '상승\\n\\t\\t\\t\\t10', '+0.01%', '0', '68,983', '66,605', '0.00', '561,914', 'N/A', 'N/A', '']\n",
            "['78', 'S-Oil', '60,500', '하락\\n\\t\\t\\t\\t700', '-1.14%', '2,500', '68,113', '112,583', '74.51', '99,206', '-17.47', '-2.18', '']\n",
            "['79', 'KODEX 200', '43,060', '하락\\n\\t\\t\\t\\t660', '-1.51%', '0', '67,776', '157,400', '33.37', '4,505,022', 'N/A', 'N/A', '']\n",
            "['80', 'LG유플러스', '15,290', '상승\\n\\t\\t\\t\\t380', '+2.55%', '5,000', '66,758', '436,611', '38.40', '1,723,972', '16.32', '4.40', '']\n",
            "['81', 'NH투자증권', '19,190', '하락\\n\\t\\t\\t\\t150', '-0.78%', '5,000', '62,192', '324,086', '15.97', '545,710', '9.93', '8.73', '']\n",
            "['82', '한화', '82,100', '하락\\n\\t\\t\\t\\t1,800', '-2.15%', '5,000', '61,541', '74,959', '16.59', '149,992', '7.85', '7.19', '']\n",
            "['83', '삼성증권', '68,300', '하락\\n\\t\\t\\t\\t500', '-0.73%', '5,000', '60,992', '89,300', '29.15', '190,148', '6.82', '12.89', '']\n",
            "['84', 'LG디스플레이', '11,940', '상승\\n\\t\\t\\t\\t60', '+0.51%', '5,000', '59,700', '500,000', '23.39', '4,952,720', '-2.92', '-37.21', '']\n",
            "['85', '현대차2우B', '169,000', '하락\\n\\t\\t\\t\\t500', '-0.29%', '5,000', '59,089', '34,964', '59.74', '67,507', '3.68', 'N/A', '']\n",
            "['86', '삼성카드', '50,000', '하락\\n\\t\\t\\t\\t600', '-1.19%', '5,000', '57,929', '115,859', '6.05', '59,344', '8.63', '8.00', '']\n",
            "['87', '맥쿼리인프라', '11,640', '하락\\n\\t\\t\\t\\t50', '-0.43%', '0', '55,747', '478,922', '9.23', '1,007,704', 'N/A', 'N/A', '']\n",
            "['88', 'TIGER 미국나스닥100', '145,680', '하락\\n\\t\\t\\t\\t295', '-0.20%', '0', '55,475', '38,080', '0.17', '251,630', 'N/A', 'N/A', '']\n",
            "['89', '삼성E&A', '28,250', '상승\\n\\t\\t\\t\\t100', '+0.36%', '5,000', '55,370', '196,000', '45.74', '533,186', '7.43', '19.65', '']\n",
            "['90', '두산밥캣', '56,300', '보합0', '0.00%', '500', '53,967', '95,856', '33.96', '275,560', '12.22', '8.77', '']\n",
            "['91', '키움증권', '205,500', '하락\\n\\t\\t\\t\\t5,000', '-2.38%', '5,000', '53,791', '26,176', '27.68', '76,878', '6.38', '15.98', '']\n",
            "['92', '한화솔루션', '30,400', '상승\\n\\t\\t\\t\\t400', '+1.33%', '5,000', '52,255', '171,893', '10.93', '2,442,427', '-5.36', '-15.99', '']\n",
            "['93', '넷마블', '58,900', '보합0', '0.00%', '100', '50,627', '85,954', '27.51', '147,935', '49.79', '0.49', '']\n",
            "['94', 'LS', '156,700', '하락\\n\\t\\t\\t\\t8,800', '-5.32%', '5,000', '50,457', '32,200', '15.35', '167,268', '17.76', '5.09', '']\n",
            "['95', 'KODEX 미국S&P500', '20,345', '상승\\n\\t\\t\\t\\t10', '+0.05%', '0', '49,581', '243,700', '0.18', '4,143,507', 'N/A', 'N/A', '']\n",
            "['96', '한국타이어앤테크놀로지', '39,000', '하락\\n\\t\\t\\t\\t750', '-1.89%', '500', '48,311', '123,875', '35.08', '723,868', '4.48', '10.79', '']\n",
            "['97', 'TIGER CD금리투자KIS(합성)', '56,430', '상승\\n\\t\\t\\t\\t5', '+0.01%', '0', '47,725', '84,574', '0.02', '172,602', 'N/A', 'N/A', '']\n",
            "['98', 'BNK금융지주', '14,610', '하락\\n\\t\\t\\t\\t40', '-0.27%', '5,000', '46,516', '318,384', '39.83', '764,928', '7.26', '6.96', '']\n",
            "['99', 'LG생활건강', '296,500', '하락\\n\\t\\t\\t\\t9,000', '-2.95%', '5,000', '46,308', '15,618', '26.72', '65,277', '29.06', '3.44', '']\n",
            "['100', '엔씨소프트', '206,000', '하락\\n\\t\\t\\t\\t4,000', '-1.90%', '500', '44,381', '21,544', '32.87', '58,102', '60.45', '2.99', '']\n",
            "['101', '이수페타시스', '59,700', '하락\\n\\t\\t\\t\\t1,800', '-2.93%', '1,000', '43,825', '73,409', '24.75', '1,796,633', '41.78', '24.92', '']\n",
            "['102', 'CJ', '149,600', '상승\\n\\t\\t\\t\\t5,100', '+3.53%', '5,000', '43,649', '29,177', '11.56', '265,456', '53.72', '1.83', '']\n",
            "['103', '현대제철', '32,350', '하락\\n\\t\\t\\t\\t650', '-1.97%', '5,000', '43,170', '133,446', '19.95', '484,579', '-43.89', '-0.06', '']\n",
            "['104', '오리온', '108,200', '하락\\n\\t\\t\\t\\t1,300', '-1.19%', '500', '42,778', '39,536', '31.50', '122,529', '7.99', '16.57', '']\n",
            "['105', 'JB금융지주', '21,900', '하락\\n\\t\\t\\t\\t300', '-1.35%', '5,000', '41,869', '191,183', '34.78', '492,796', '6.40', '12.80', '']\n",
            "['106', '현대오토에버', '150,500', '하락\\n\\t\\t\\t\\t1,900', '-1.25%', '500', '41,273', '27,424', '2.91', '40,656', '25.02', '10.40', '']\n",
            "['107', 'GS', '43,950', '하락\\n\\t\\t\\t\\t1,950', '-4.25%', '5,000', '40,836', '92,915', '16.14', '283,466', '10.10', '4.12', '']\n",
            "['108', '두산로보틱스', '61,800', '하락\\n\\t\\t\\t\\t1,600', '-2.52%', '500', '40,059', '64,820', '2.90', '111,015', '-92.93', '-8.69', '']\n",
            "['109', 'KODEX KOFR금리액티브(합성)', '110,790', '상승\\n\\t\\t\\t\\t10', '+0.01%', '0', '39,477', '35,632', '0.00', '51,184', 'N/A', 'N/A', '']\n",
            "['110', 'LG이노텍', '164,400', '하락\\n\\t\\t\\t\\t2,500', '-1.50%', '5,000', '38,909', '23,667', '24.26', '134,976', '9.81', '8.92', '']\n",
            "['111', '강원랜드', '18,080', '하락\\n\\t\\t\\t\\t90', '-0.50%', '500', '38,680', '213,940', '14.45', '301,700', '8.82', '12.09', '']\n",
            "['112', '현대차우', '164,900', '하락\\n\\t\\t\\t\\t1,100', '-0.66%', '5,000', '38,489', '23,341', '57.89', '78,951', '3.59', 'N/A', '']\n",
            "['113', 'SKC', '100,500', '하락\\n\\t\\t\\t\\t2,500', '-2.43%', '5,000', '38,058', '37,868', '14.73', '145,263', '-7.29', '-34.34', '']\n",
            "['114', '에코프로머티', '54,100', '하락\\n\\t\\t\\t\\t2,400', '-4.25%', '500', '37,833', '69,932', '21.59', '363,072', '-90.17', '-5.56', '']\n",
            "['115', 'SK바이오사이언스', '48,100', '상승\\n\\t\\t\\t\\t1,450', '+3.11%', '500', '37,696', '78,369', '6.32', '262,986', '-71.15', '-3.07', '']\n",
            "['116', '한전기술', '98,200', '상승\\n\\t\\t\\t\\t100', '+0.10%', '200', '37,532', '38,220', '10.86', '227,410', '32.42', '10.40', '']\n",
            "['117', '한국가스공사', '40,600', '상승\\n\\t\\t\\t\\t350', '+0.87%', '5,000', '37,479', '92,313', '10.09', '238,241', '3.38', '11.21', '']\n",
            "['118', '포스코DX', '24,350', '하락\\n\\t\\t\\t\\t1,250', '-4.88%', '500', '37,020', '152,035', '3.36', '263,569', '44.11', '17.92', '']\n",
            "['119', 'KODEX 종합채권(AA-이상)액티브', '118,855', '하락\\n\\t\\t\\t\\t280', '-0.24%', '0', '36,452', '30,669', '0.00', '37,116', 'N/A', 'N/A', '']\n",
            "['120', '한미약품', '281,500', '상승\\n\\t\\t\\t\\t2,000', '+0.72%', '2,500', '36,063', '12,811', '13.05', '34,968', '33.11', '11.89', '']\n",
            "['121', '산일전기', '115,200', '상승\\n\\t\\t\\t\\t1,200', '+1.05%', '500', '35,073', '30,445', '10.62', '422,940', '35.84', '29.88', '']\n",
            "['122', 'CJ제일제당', '231,500', '하락\\n\\t\\t\\t\\t4,500', '-1.91%', '5,000', '34,850', '15,054', '20.21', '64,626', '51.32', '1.97', '']\n",
            "['123', '풍산', '121,300', '하락\\n\\t\\t\\t\\t1,300', '-1.06%', '5,000', '33,993', '28,024', '24.55', '141,056', '14.12', '11.33', '']\n",
            "['124', 'TIGER 미국테크TOP10 INDXX', '27,035', '상승\\n\\t\\t\\t\\t10', '+0.04%', '0', '33,848', '125,200', '0.12', '3,026,941', 'N/A', 'N/A', '']\n",
            "['125', '한화엔진', '40,350', '상승\\n\\t\\t\\t\\t1,850', '+4.81%', '1,000', '33,671', '83,447', '17.35', '1,476,356', '40.23', '25.64', '']\n",
            "['126', 'KCC', '373,500', '하락\\n\\t\\t\\t\\t4,500', '-1.19%', '5,000', '33,191', '8,886', '9.96', '16,752', '-28.23', '6.08', '']\n",
            "['127', '대한조선', '83,700', '하락\\n\\t\\t\\t\\t4,700', '-5.32%', '5,000', '32,247', '38,526', '0.45', '495,019', '6.72', '55.26', '']\n",
            "['128', '현대엘리베이터', '82,000', '상승\\n\\t\\t\\t\\t400', '+0.49%', '5,000', '32,056', '39,092', '25.50', '161,003', '15.34', '14.42', '']\n",
            "['129', '엘앤에프', '84,300', '하락\\n\\t\\t\\t\\t6,200', '-6.85%', '500', '30,615', '36,316', '14.38', '490,606', '-8.11', '-41.74', '']\n",
            "['130', '대한전선', '16,340', '하락\\n\\t\\t\\t\\t460', '-2.74%', '1,000', '30,465', '186,447', '7.05', '814,141', '39.00', '5.85', '']\n",
            "['131', 'KODEX 미국나스닥100', '21,880', '하락\\n\\t\\t\\t\\t45', '-0.21%', '0', '30,019', '137,200', '0.07', '1,122,397', 'N/A', 'N/A', '']\n",
            "['132', '서울보증보험', '42,450', '하락\\n\\t\\t\\t\\t250', '-0.59%', '2,500', '29,639', '69,822', '0.95', '47,820', '13.91', '4.12', '']\n",
            "['133', '한미사이언스', '42,850', '상승\\n\\t\\t\\t\\t1,000', '+2.39%', '500', '29,306', '68,392', '2.09', '183,989', '55.58', '7.30', '']\n",
            "['134', '에스원', '76,100', '상승\\n\\t\\t\\t\\t400', '+0.53%', '500', '28,917', '37,999', '56.03', '36,836', '16.24', '10.85', '']\n",
            "['135', '금호석유화학', '109,100', '상승\\n\\t\\t\\t\\t800', '+0.74%', '5,000', '28,867', '26,460', '18.13', '56,163', '8.97', '5.88', '']\n",
            "['136', 'TIGER KOFR금리액티브(합성)', '109,500', '상승\\n\\t\\t\\t\\t5', '0.00%', '0', '28,580', '26,100', '0.00', '65,668', 'N/A', 'N/A', '']\n",
            "['137', 'TIGER 200', '43,090', '하락\\n\\t\\t\\t\\t660', '-1.51%', '0', '28,482', '66,100', '10.85', '1,196,181', 'N/A', 'N/A', '']\n",
            "['138', '한화비전', '56,000', '하락\\n\\t\\t\\t\\t3,000', '-5.08%', '500', '28,273', '50,488', '23.03', '358,913', '88.19', 'N/A', '']\n",
            "['139', 'HD현대마린엔진', '83,000', '보합0', '0.00%', '2,500', '28,155', '33,921', '12.82', '306,026', '32.18', '28.34', '']\n",
            "['140', 'KODEX 200TR', '15,420', '하락\\n\\t\\t\\t\\t240', '-1.53%', '0', '28,057', '181,950', '0.01', '332,927', 'N/A', 'N/A', '']\n",
            "['141', '롯데지주', '26,700', '하락\\n\\t\\t\\t\\t600', '-2.20%', '200', '28,011', '104,909', '8.47', '92,580', '-2.60', '-15.56', '']\n",
            "['142', 'HD현대인프라코어', '14,450', '하락\\n\\t\\t\\t\\t1,820', '-11.19%', '1,000', '27,829', '192,591', '15.70', '7,109,526', '34.99', '5.92', '']\n",
            "['143', '동서', '27,150', '하락\\n\\t\\t\\t\\t100', '-0.37%', '500', '27,069', '99,700', '4.22', '46,386', '19.00', '9.52', '']\n",
            "['144', '한화생명', '3,100', '하락\\n\\t\\t\\t\\t25', '-0.80%', '5,000', '26,924', '868,530', '10.29', '1,565,564', '3.98', '6.98', '']\n",
            "['145', '롯데케미칼', '61,000', '상승\\n\\t\\t\\t\\t100', '+0.16%', '5,000', '26,093', '42,775', '20.74', '66,365', '-1.44', '-11.44', '']\n",
            "['146', '영원무역', '57,300', '하락\\n\\t\\t\\t\\t700', '-1.21%', '500', '25,390', '44,311', '29.83', '25,251', '5.89', '12.32', '']\n",
            "['147', '현대해상', '28,150', '상승\\n\\t\\t\\t\\t350', '+1.26%', '500', '25,166', '89,400', '35.43', '516,194', '3.69', '15.75', '']\n",
            "['148', 'TIGER 미국필라델피아반도체나스닥', '20,950', '하락\\n\\t\\t\\t\\t300', '-1.41%', '0', '25,035', '119,500', '0.23', '1,207,873', 'N/A', 'N/A', '']\n",
            "['149', '한전KPS', '54,600', '상승\\n\\t\\t\\t\\t1,300', '+2.44%', '200', '24,570', '45,000', '12.10', '287,603', '17.54', '13.26', '']\n",
            "['150', 'RISE 머니마켓액티브', '54,565', '상승\\n\\t\\t\\t\\t5', '+0.01%', '0', '24,333', '44,594', '0.90', '745,479', 'N/A', 'N/A', '']\n",
            "['151', 'F&F', '61,800', '하락\\n\\t\\t\\t\\t1,100', '-1.75%', '100', '23,674', '38,307', '11.08', '30,710', '6.81', '25.27', '']\n",
            "['152', '시프트업', '40,150', '하락\\n\\t\\t\\t\\t100', '-0.25%', '200', '23,601', '58,782', '36.89', '91,855', '14.78', '31.30', '']\n",
            "['153', '미스토홀딩스', '38,600', '상승\\n\\t\\t\\t\\t2,000', '+5.46%', '1,000', '23,197', '60,096', '38.03', '565,524', '24.70', '4.30', '']\n",
            "['154', 'iM금융지주', '14,230', '하락\\n\\t\\t\\t\\t70', '-0.49%', '5,000', '23,060', '162,055', '45.06', '593,428', '9.33', '3.60', '']\n",
            "['155', 'KODEX CD1년금리플러스액티브(합성)', '1,023,200', '상승\\n\\t\\t\\t\\t45', '0.00%', '0', '22,941', '2,242', '0.00', '4,822', 'N/A', 'N/A', '']\n",
            "['156', 'KODEX 레버리지', '24,660', '하락\\n\\t\\t\\t\\t795', '-3.12%', '0', '22,884', '92,800', '0.40', '18,434,907', 'N/A', 'N/A', '']\n",
            "['157', '제일기획', '19,660', '하락\\n\\t\\t\\t\\t240', '-1.21%', '200', '22,617', '115,041', '23.16', '192,216', '11.71', '15.12', '']\n",
            "['158', 'ACE 미국30년국채액티브(H)', '7,645', '하락\\n\\t\\t\\t\\t95', '-1.23%', '0', '22,576', '295,300', '0.01', '3,952,683', 'N/A', 'N/A', '']\n",
            "['159', 'SK가스', '243,500', '하락\\n\\t\\t\\t\\t3,500', '-1.42%', '5,000', '22,512', '9,245', '7.30', '9,021', '9.13', '6.74', '']\n",
            "['160', 'ACE 미국S&P500', '22,400', '상승\\n\\t\\t\\t\\t15', '+0.07%', '0', '22,445', '100,200', '0.09', '526,413', 'N/A', 'N/A', '']\n",
            "['161', '농심', '366,500', '하락\\n\\t\\t\\t\\t14,500', '-3.81%', '5,000', '22,293', '6,083', '18.48', '49,689', '14.27', '6.17', '']\n",
            "['162', '코스맥스', '194,400', '상승\\n\\t\\t\\t\\t4,300', '+2.26%', '500', '22,063', '11,350', '32.63', '171,239', '29.54', '20.53', '']\n",
            "['163', '한온시스템', '3,235', '상승\\n\\t\\t\\t\\t75', '+2.37%', '100', '21,958', '678,763', '4.83', '2,161,563', '-4.69', '-13.90', '']\n",
            "['164', 'TIGER 미국배당다우존스', '12,025', '하락\\n\\t\\t\\t\\t20', '-0.17%', '0', '21,819', '181,450', '0.11', '1,156,816', 'N/A', 'N/A', '']\n",
            "['165', 'SK아이이테크놀로지', '30,400', '하락\\n\\t\\t\\t\\t1,300', '-4.10%', '1,000', '21,674', '71,298', '7.19', '242,101', '-10.53', '-10.41', '']\n",
            "['166', '아모레퍼시픽홀딩스', '27,200', '하락\\n\\t\\t\\t\\t800', '-2.86%', '500', '21,613', '79,458', '11.37', '90,530', '9.67', '7.57', '']\n",
            "['167', '팬오션', '4,020', '하락\\n\\t\\t\\t\\t80', '-1.95%', '1,000', '21,490', '534,570', '16.12', '998,605', '7.34', '5.17', '']\n",
            "['168', '이마트', '77,700', '하락\\n\\t\\t\\t\\t800', '-1.02%', '5,000', '21,442', '27,596', '24.32', '125,150', '-3.96', '-5.40', '']\n",
            "['169', '신영증권', '129,600', '상승\\n\\t\\t\\t\\t600', '+0.47%', '5,000', '21,306', '16,440', '6.85', '17,282', '16.80', '6.45', '']\n",
            "['170', '달바글로벌', '172,800', '상승\\n\\t\\t\\t\\t2,400', '+1.41%', '100', '21,231', '12,286', '9.34', '212,958', '121.09', '26.21', '']\n",
            "['171', '코리안리', '10,720', '하락\\n\\t\\t\\t\\t250', '-2.28%', '500', '20,885', '194,821', '26.69', '162,109', '5.90', '9.45', '']\n",
            "['172', 'TIGER 머니마켓액티브', '100,990', '보합0', '0.00%', '0', '20,691', '20,488', '1.95', '109,640', 'N/A', 'N/A', '']\n",
            "['173', '한국앤컴퍼니', '21,750', '하락\\n\\t\\t\\t\\t100', '-0.46%', '500', '20,648', '94,935', '9.99', '123,498', '5.86', '8.28', '']\n",
            "['174', '더존비즈온', '67,800', '하락\\n\\t\\t\\t\\t500', '-0.73%', '500', '20,600', '30,383', '10.71', '160,547', '38.35', '12.17', '']\n",
            "['175', 'BGF리테일', '119,000', '보합0', '0.00%', '1,000', '20,568', '17,284', '28.48', '24,217', '11.11', '17.29', '']\n",
            "['176', 'DB하이텍', '45,900', '하락\\n\\t\\t\\t\\t700', '-1.50%', '5,000', '20,379', '44,399', '28.65', '155,981', '8.82', '12.44', '']\n",
            "['177', '동원산업', '45,350', '하락\\n\\t\\t\\t\\t1,000', '-2.16%', '1,000', '20,021', '44,148', '5.08', '48,230', '25.34', '2.74', '']\n",
            "['178', 'OCI홀딩스', '105,700', '상승\\n\\t\\t\\t\\t7,300', '+7.42%', '5,000', '19,887', '18,815', '17.40', '293,597', '-25.68', '2.54', '']\n",
            "['179', '아시아나항공', '9,530', '하락\\n\\t\\t\\t\\t30', '-0.31%', '5,000', '19,631', '205,991', '2.82', '52,045', '-8.66', '-53.21', '']\n",
            "['180', 'SNT다이내믹스', '58,900', '상승\\n\\t\\t\\t\\t1,700', '+2.97%', '2,500', '19,586', '33,253', '7.86', '139,666', '19.39', '12.90', '']\n",
            "['181', '호텔신라', '49,200', '하락\\n\\t\\t\\t\\t500', '-1.01%', '5,000', '19,310', '39,248', '12.47', '110,396', '-29.78', '-6.50', '']\n",
            "['182', '한솔케미칼', '169,200', '하락\\n\\t\\t\\t\\t2,400', '-1.40%', '5,000', '19,179', '11,335', '35.20', '40,661', '15.06', '13.48', '']\n",
            "['183', '씨에스윈드', '45,400', '하락\\n\\t\\t\\t\\t100', '-0.22%', '500', '19,146', '42,171', '12.93', '188,378', '6.94', '13.92', '']\n",
            "['184', 'CJ대한통운', '82,900', '하락\\n\\t\\t\\t\\t200', '-0.24%', '5,000', '18,911', '22,812', '14.23', '42,797', '8.04', '6.58', '']\n",
            "['185', '파라다이스', '20,650', '상승\\n\\t\\t\\t\\t150', '+0.73%', '500', '18,887', '91,461', '12.41', '985,535', '23.47', '4.97', '']\n",
            "['186', '한국콜마', '79,500', '하락\\n\\t\\t\\t\\t200', '-0.25%', '500', '18,766', '23,605', '38.76', '203,141', '19.35', '12.50', '']\n",
            "['187', '롯데쇼핑', '66,300', '하락\\n\\t\\t\\t\\t600', '-0.90%', '5,000', '18,755', '28,289', '9.11', '35,779', '-1.82', '-7.75', '']\n",
            "['188', '일진전기', '38,800', '하락\\n\\t\\t\\t\\t600', '-1.52%', '1,000', '18,502', '47,685', '10.88', '462,457', '28.01', '10.60', '']\n",
            "['189', 'KODEX 코스닥150레버리지', '8,865', '하락\\n\\t\\t\\t\\t455', '-4.88%', '0', '17,712', '199,800', '0.36', '22,409,235', 'N/A', 'N/A', '']\n",
            "['190', '두산퓨얼셀', '26,350', '상승\\n\\t\\t\\t\\t200', '+0.76%', '100', '17,258', '65,494', '12.01', '657,374', '-105.82', 'N/A', '']\n",
            "['191', 'ACE 미국나스닥100', '25,045', '하락\\n\\t\\t\\t\\t50', '-0.20%', '0', '17,106', '68,300', '0.22', '456,963', 'N/A', 'N/A', '']\n",
            "['192', 'TIGER 25-10 회사채(A+이상)액티브', '55,280', '하락\\n\\t\\t\\t\\t25', '-0.05%', '0', '17,103', '30,938', '0.18', '100,158', 'N/A', 'N/A', '']\n",
            "['193', 'KODEX 200선물인버스2X', '1,314', '상승\\n\\t\\t\\t\\t39', '+3.06%', '0', '16,698', '1,270,800', '0.94', '210,651,466', 'N/A', 'N/A', '']\n",
            "['194', 'RISE 종합채권(A-이상)액티브', '110,480', '하락\\n\\t\\t\\t\\t250', '-0.23%', '0', '16,376', '14,823', '0.00', '2,236', 'N/A', 'N/A', '']\n",
            "['195', '영원무역홀딩스', '120,800', '하락\\n\\t\\t\\t\\t7,300', '-5.70%', '500', '16,307', '13,499', '21.19', '17,808', '4.97', '13.17', '']\n",
            "['196', 'DL이앤씨', '42,100', '하락\\n\\t\\t\\t\\t500', '-1.17%', '5,000', '16,290', '38,694', '29.17', '232,734', '7.74', '4.77', '']\n",
            "['197', '현대백화점', '71,700', '하락\\n\\t\\t\\t\\t1,000', '-1.38%', '5,000', '16,225', '22,629', '23.70', '20,192', '-45.58', '-0.81', '']\n",
            "['198', 'HL만도', '34,450', '하락\\n\\t\\t\\t\\t450', '-1.29%', '1,000', '16,177', '46,957', '24.51', '106,223', '88.79', '5.47', '']\n",
            "['199', '한국카본', '31,050', '상승\\n\\t\\t\\t\\t500', '+1.64%', '500', '16,118', '51,908', '12.98', '448,722', '38.24', '4.38', '']\n",
            "['200', 'HD현대건설기계', '91,200', '하락\\n\\t\\t\\t\\t9,800', '-9.70%', '5,000', '16,108', '17,662', '17.61', '405,154', '20.53', '6.18', '']\n"
          ]
        }
      ]
    },
    {
      "cell_type": "markdown",
      "source": [
        "- api 활용 수집\n"
      ],
      "metadata": {
        "id": "ilavI8gvEcfR"
      }
    },
    {
      "cell_type": "code",
      "source": [
        "!pip install -U pykrx"
      ],
      "metadata": {
        "colab": {
          "base_uri": "https://localhost:8080/"
        },
        "id": "GfQQcnW1ETtz",
        "outputId": "79a01bcc-3b53-42b3-d446-99e063ff3f11"
      },
      "execution_count": null,
      "outputs": [
        {
          "output_type": "stream",
          "name": "stdout",
          "text": [
            "Collecting pykrx\n",
            "  Downloading pykrx-1.0.44-py3-none-any.whl (2.2 MB)\n",
            "\u001b[?25l     \u001b[90m━━━━━━━━━━━━━━━━━━━━━━━━━━━━━━━━━━━━━━━━\u001b[0m \u001b[32m0.0/2.2 MB\u001b[0m \u001b[31m?\u001b[0m eta \u001b[36m-:--:--\u001b[0m\r\u001b[2K     \u001b[91m━━━━━━━━━━━━━━━━━━━━━━━━━━━━━━━━━━━━━━━\u001b[0m\u001b[91m╸\u001b[0m \u001b[32m2.2/2.2 MB\u001b[0m \u001b[31m118.7 MB/s\u001b[0m eta \u001b[36m0:00:01\u001b[0m\r\u001b[2K     \u001b[90m━━━━━━━━━━━━━━━━━━━━━━━━━━━━━━━━━━━━━━━━\u001b[0m \u001b[32m2.2/2.2 MB\u001b[0m \u001b[31m60.4 MB/s\u001b[0m eta \u001b[36m0:00:00\u001b[0m\n",
            "\u001b[?25hRequirement already satisfied: requests in /usr/local/lib/python3.10/dist-packages (from pykrx) (2.27.1)\n",
            "Requirement already satisfied: pandas in /usr/local/lib/python3.10/dist-packages (from pykrx) (1.5.3)\n",
            "Collecting datetime (from pykrx)\n",
            "  Downloading DateTime-5.1-py3-none-any.whl (52 kB)\n",
            "\u001b[?25l     \u001b[90m━━━━━━━━━━━━━━━━━━━━━━━━━━━━━━━━━━━━━━━━\u001b[0m \u001b[32m0.0/52.1 kB\u001b[0m \u001b[31m?\u001b[0m eta \u001b[36m-:--:--\u001b[0m\r\u001b[2K     \u001b[90m━━━━━━━━━━━━━━━━━━━━━━━━━━━━━━━━━━━━━━━━\u001b[0m \u001b[32m52.1/52.1 kB\u001b[0m \u001b[31m6.1 MB/s\u001b[0m eta \u001b[36m0:00:00\u001b[0m\n",
            "\u001b[?25hRequirement already satisfied: numpy in /usr/local/lib/python3.10/dist-packages (from pykrx) (1.22.4)\n",
            "Requirement already satisfied: xlrd in /usr/local/lib/python3.10/dist-packages (from pykrx) (2.0.1)\n",
            "Collecting deprecated (from pykrx)\n",
            "  Downloading Deprecated-1.2.14-py2.py3-none-any.whl (9.6 kB)\n",
            "Requirement already satisfied: multipledispatch in /usr/local/lib/python3.10/dist-packages (from pykrx) (1.0.0)\n",
            "Requirement already satisfied: matplotlib in /usr/local/lib/python3.10/dist-packages (from pykrx) (3.7.1)\n",
            "Collecting zope.interface (from datetime->pykrx)\n",
            "  Downloading zope.interface-6.0-cp310-cp310-manylinux_2_5_x86_64.manylinux1_x86_64.manylinux_2_17_x86_64.manylinux2014_x86_64.whl (246 kB)\n",
            "\u001b[2K     \u001b[90m━━━━━━━━━━━━━━━━━━━━━━━━━━━━━━━━━━━━━━\u001b[0m \u001b[32m247.0/247.0 kB\u001b[0m \u001b[31m17.8 MB/s\u001b[0m eta \u001b[36m0:00:00\u001b[0m\n",
            "\u001b[?25hRequirement already satisfied: pytz in /usr/local/lib/python3.10/dist-packages (from datetime->pykrx) (2022.7.1)\n",
            "Requirement already satisfied: wrapt<2,>=1.10 in /usr/local/lib/python3.10/dist-packages (from deprecated->pykrx) (1.14.1)\n",
            "Requirement already satisfied: contourpy>=1.0.1 in /usr/local/lib/python3.10/dist-packages (from matplotlib->pykrx) (1.1.0)\n",
            "Requirement already satisfied: cycler>=0.10 in /usr/local/lib/python3.10/dist-packages (from matplotlib->pykrx) (0.11.0)\n",
            "Requirement already satisfied: fonttools>=4.22.0 in /usr/local/lib/python3.10/dist-packages (from matplotlib->pykrx) (4.40.0)\n",
            "Requirement already satisfied: kiwisolver>=1.0.1 in /usr/local/lib/python3.10/dist-packages (from matplotlib->pykrx) (1.4.4)\n",
            "Requirement already satisfied: packaging>=20.0 in /usr/local/lib/python3.10/dist-packages (from matplotlib->pykrx) (23.1)\n",
            "Requirement already satisfied: pillow>=6.2.0 in /usr/local/lib/python3.10/dist-packages (from matplotlib->pykrx) (8.4.0)\n",
            "Requirement already satisfied: pyparsing>=2.3.1 in /usr/local/lib/python3.10/dist-packages (from matplotlib->pykrx) (3.1.0)\n",
            "Requirement already satisfied: python-dateutil>=2.7 in /usr/local/lib/python3.10/dist-packages (from matplotlib->pykrx) (2.8.2)\n",
            "Requirement already satisfied: urllib3<1.27,>=1.21.1 in /usr/local/lib/python3.10/dist-packages (from requests->pykrx) (1.26.16)\n",
            "Requirement already satisfied: certifi>=2017.4.17 in /usr/local/lib/python3.10/dist-packages (from requests->pykrx) (2023.5.7)\n",
            "Requirement already satisfied: charset-normalizer~=2.0.0 in /usr/local/lib/python3.10/dist-packages (from requests->pykrx) (2.0.12)\n",
            "Requirement already satisfied: idna<4,>=2.5 in /usr/local/lib/python3.10/dist-packages (from requests->pykrx) (3.4)\n",
            "Requirement already satisfied: six>=1.5 in /usr/local/lib/python3.10/dist-packages (from python-dateutil>=2.7->matplotlib->pykrx) (1.16.0)\n",
            "Requirement already satisfied: setuptools in /usr/local/lib/python3.10/dist-packages (from zope.interface->datetime->pykrx) (67.7.2)\n",
            "Installing collected packages: zope.interface, deprecated, datetime, pykrx\n",
            "Successfully installed datetime-5.1 deprecated-1.2.14 pykrx-1.0.44 zope.interface-6.0\n"
          ]
        }
      ]
    },
    {
      "cell_type": "code",
      "source": [
        "from pykrx import stock\n",
        "\n",
        "tickers = stock.get_market_ticker_list(\"20210115\")\n",
        "tickers\n",
        "\n",
        "stock1 = stock.get_market_ticker_name(\"000660\")\n",
        "stock1\n",
        "\n",
        "df = stock.get_market_ohlcv_by_date(\"20210104\", \"20210108\", \"005930\")\n",
        "df.head(5)\n",
        "\n",
        "df = stock.get_market_ohlcv_by_date(\"20210104\", \"20210108\", \"005930\", \"m\")\n",
        "df.head(5)\n",
        "\n"
      ],
      "metadata": {
        "colab": {
          "base_uri": "https://localhost:8080/",
          "height": 112
        },
        "id": "j4UTjrbkE7g1",
        "outputId": "1f8fa467-791d-453c-817e-b667231cd413"
      },
      "execution_count": null,
      "outputs": [
        {
          "output_type": "execute_result",
          "data": {
            "text/plain": [
              "               시가     고가     저가     종가        거래량\n",
              "날짜                                               \n",
              "2021-01-31  81000  90000  80200  88800  207737907"
            ],
            "text/html": [
              "\n",
              "\n",
              "  <div id=\"df-6f2de3da-3607-4a02-82c0-185937ec3ea5\">\n",
              "    <div class=\"colab-df-container\">\n",
              "      <div>\n",
              "<style scoped>\n",
              "    .dataframe tbody tr th:only-of-type {\n",
              "        vertical-align: middle;\n",
              "    }\n",
              "\n",
              "    .dataframe tbody tr th {\n",
              "        vertical-align: top;\n",
              "    }\n",
              "\n",
              "    .dataframe thead th {\n",
              "        text-align: right;\n",
              "    }\n",
              "</style>\n",
              "<table border=\"1\" class=\"dataframe\">\n",
              "  <thead>\n",
              "    <tr style=\"text-align: right;\">\n",
              "      <th></th>\n",
              "      <th>시가</th>\n",
              "      <th>고가</th>\n",
              "      <th>저가</th>\n",
              "      <th>종가</th>\n",
              "      <th>거래량</th>\n",
              "    </tr>\n",
              "    <tr>\n",
              "      <th>날짜</th>\n",
              "      <th></th>\n",
              "      <th></th>\n",
              "      <th></th>\n",
              "      <th></th>\n",
              "      <th></th>\n",
              "    </tr>\n",
              "  </thead>\n",
              "  <tbody>\n",
              "    <tr>\n",
              "      <th>2021-01-31</th>\n",
              "      <td>81000</td>\n",
              "      <td>90000</td>\n",
              "      <td>80200</td>\n",
              "      <td>88800</td>\n",
              "      <td>207737907</td>\n",
              "    </tr>\n",
              "  </tbody>\n",
              "</table>\n",
              "</div>\n",
              "      <button class=\"colab-df-convert\" onclick=\"convertToInteractive('df-6f2de3da-3607-4a02-82c0-185937ec3ea5')\"\n",
              "              title=\"Convert this dataframe to an interactive table.\"\n",
              "              style=\"display:none;\">\n",
              "\n",
              "  <svg xmlns=\"http://www.w3.org/2000/svg\" height=\"24px\"viewBox=\"0 0 24 24\"\n",
              "       width=\"24px\">\n",
              "    <path d=\"M0 0h24v24H0V0z\" fill=\"none\"/>\n",
              "    <path d=\"M18.56 5.44l.94 2.06.94-2.06 2.06-.94-2.06-.94-.94-2.06-.94 2.06-2.06.94zm-11 1L8.5 8.5l.94-2.06 2.06-.94-2.06-.94L8.5 2.5l-.94 2.06-2.06.94zm10 10l.94 2.06.94-2.06 2.06-.94-2.06-.94-.94-2.06-.94 2.06-2.06.94z\"/><path d=\"M17.41 7.96l-1.37-1.37c-.4-.4-.92-.59-1.43-.59-.52 0-1.04.2-1.43.59L10.3 9.45l-7.72 7.72c-.78.78-.78 2.05 0 2.83L4 21.41c.39.39.9.59 1.41.59.51 0 1.02-.2 1.41-.59l7.78-7.78 2.81-2.81c.8-.78.8-2.07 0-2.86zM5.41 20L4 18.59l7.72-7.72 1.47 1.35L5.41 20z\"/>\n",
              "  </svg>\n",
              "      </button>\n",
              "\n",
              "\n",
              "\n",
              "    <div id=\"df-ed1a862d-5839-4a22-9577-174676ff2205\">\n",
              "      <button class=\"colab-df-quickchart\" onclick=\"quickchart('df-ed1a862d-5839-4a22-9577-174676ff2205')\"\n",
              "              title=\"Suggest charts.\"\n",
              "              style=\"display:none;\">\n",
              "\n",
              "<svg xmlns=\"http://www.w3.org/2000/svg\" height=\"24px\"viewBox=\"0 0 24 24\"\n",
              "     width=\"24px\">\n",
              "    <g>\n",
              "        <path d=\"M19 3H5c-1.1 0-2 .9-2 2v14c0 1.1.9 2 2 2h14c1.1 0 2-.9 2-2V5c0-1.1-.9-2-2-2zM9 17H7v-7h2v7zm4 0h-2V7h2v10zm4 0h-2v-4h2v4z\"/>\n",
              "    </g>\n",
              "</svg>\n",
              "      </button>\n",
              "    </div>\n",
              "\n",
              "<style>\n",
              "  .colab-df-quickchart {\n",
              "    background-color: #E8F0FE;\n",
              "    border: none;\n",
              "    border-radius: 50%;\n",
              "    cursor: pointer;\n",
              "    display: none;\n",
              "    fill: #1967D2;\n",
              "    height: 32px;\n",
              "    padding: 0 0 0 0;\n",
              "    width: 32px;\n",
              "  }\n",
              "\n",
              "  .colab-df-quickchart:hover {\n",
              "    background-color: #E2EBFA;\n",
              "    box-shadow: 0px 1px 2px rgba(60, 64, 67, 0.3), 0px 1px 3px 1px rgba(60, 64, 67, 0.15);\n",
              "    fill: #174EA6;\n",
              "  }\n",
              "\n",
              "  [theme=dark] .colab-df-quickchart {\n",
              "    background-color: #3B4455;\n",
              "    fill: #D2E3FC;\n",
              "  }\n",
              "\n",
              "  [theme=dark] .colab-df-quickchart:hover {\n",
              "    background-color: #434B5C;\n",
              "    box-shadow: 0px 1px 3px 1px rgba(0, 0, 0, 0.15);\n",
              "    filter: drop-shadow(0px 1px 2px rgba(0, 0, 0, 0.3));\n",
              "    fill: #FFFFFF;\n",
              "  }\n",
              "</style>\n",
              "\n",
              "    <script>\n",
              "      async function quickchart(key) {\n",
              "        const containerElement = document.querySelector('#' + key);\n",
              "        const charts = await google.colab.kernel.invokeFunction(\n",
              "            'suggestCharts', [key], {});\n",
              "      }\n",
              "    </script>\n",
              "\n",
              "      <script>\n",
              "\n",
              "function displayQuickchartButton(domScope) {\n",
              "  let quickchartButtonEl =\n",
              "    domScope.querySelector('#df-ed1a862d-5839-4a22-9577-174676ff2205 button.colab-df-quickchart');\n",
              "  quickchartButtonEl.style.display =\n",
              "    google.colab.kernel.accessAllowed ? 'block' : 'none';\n",
              "}\n",
              "\n",
              "        displayQuickchartButton(document);\n",
              "      </script>\n",
              "      <style>\n",
              "    .colab-df-container {\n",
              "      display:flex;\n",
              "      flex-wrap:wrap;\n",
              "      gap: 12px;\n",
              "    }\n",
              "\n",
              "    .colab-df-convert {\n",
              "      background-color: #E8F0FE;\n",
              "      border: none;\n",
              "      border-radius: 50%;\n",
              "      cursor: pointer;\n",
              "      display: none;\n",
              "      fill: #1967D2;\n",
              "      height: 32px;\n",
              "      padding: 0 0 0 0;\n",
              "      width: 32px;\n",
              "    }\n",
              "\n",
              "    .colab-df-convert:hover {\n",
              "      background-color: #E2EBFA;\n",
              "      box-shadow: 0px 1px 2px rgba(60, 64, 67, 0.3), 0px 1px 3px 1px rgba(60, 64, 67, 0.15);\n",
              "      fill: #174EA6;\n",
              "    }\n",
              "\n",
              "    [theme=dark] .colab-df-convert {\n",
              "      background-color: #3B4455;\n",
              "      fill: #D2E3FC;\n",
              "    }\n",
              "\n",
              "    [theme=dark] .colab-df-convert:hover {\n",
              "      background-color: #434B5C;\n",
              "      box-shadow: 0px 1px 3px 1px rgba(0, 0, 0, 0.15);\n",
              "      filter: drop-shadow(0px 1px 2px rgba(0, 0, 0, 0.3));\n",
              "      fill: #FFFFFF;\n",
              "    }\n",
              "  </style>\n",
              "\n",
              "      <script>\n",
              "        const buttonEl =\n",
              "          document.querySelector('#df-6f2de3da-3607-4a02-82c0-185937ec3ea5 button.colab-df-convert');\n",
              "        buttonEl.style.display =\n",
              "          google.colab.kernel.accessAllowed ? 'block' : 'none';\n",
              "\n",
              "        async function convertToInteractive(key) {\n",
              "          const element = document.querySelector('#df-6f2de3da-3607-4a02-82c0-185937ec3ea5');\n",
              "          const dataTable =\n",
              "            await google.colab.kernel.invokeFunction('convertToInteractive',\n",
              "                                                     [key], {});\n",
              "          if (!dataTable) return;\n",
              "\n",
              "          const docLinkHtml = 'Like what you see? Visit the ' +\n",
              "            '<a target=\"_blank\" href=https://colab.research.google.com/notebooks/data_table.ipynb>data table notebook</a>'\n",
              "            + ' to learn more about interactive tables.';\n",
              "          element.innerHTML = '';\n",
              "          dataTable['output_type'] = 'display_data';\n",
              "          await google.colab.output.renderOutput(dataTable, element);\n",
              "          const docLink = document.createElement('div');\n",
              "          docLink.innerHTML = docLinkHtml;\n",
              "          element.appendChild(docLink);\n",
              "        }\n",
              "      </script>\n",
              "    </div>\n",
              "  </div>\n"
            ]
          },
          "metadata": {},
          "execution_count": 64
        }
      ]
    },
    {
      "cell_type": "markdown",
      "source": [
        "![image.png](data:image/png;base64,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)"
      ],
      "metadata": {
        "id": "PKodG7oJFl_u"
      }
    },
    {
      "cell_type": "code",
      "source": [
        "from pykrx import stock\n",
        "\n",
        "tickers = stock.get_market_ticker_list(\"20210115\")\n",
        "len(tickers)\n",
        "tickers\n",
        "\n",
        "stock1 = stock.get_market_ticker_name(\"060310\")\n",
        "stock1\n"
      ],
      "metadata": {
        "colab": {
          "base_uri": "https://localhost:8080/",
          "height": 35
        },
        "id": "p5WDsldxFe1K",
        "outputId": "29f99d71-2a98-42b9-d171-c26af44b40db"
      },
      "execution_count": null,
      "outputs": [
        {
          "output_type": "execute_result",
          "data": {
            "text/plain": [
              "'3S'"
            ],
            "application/vnd.google.colaboratory.intrinsic+json": {
              "type": "string"
            }
          },
          "metadata": {},
          "execution_count": 65
        }
      ]
    },
    {
      "cell_type": "code",
      "source": [
        "df = stock.get_market_ohlcv_by_date(\"20210104\", \"20210108\", \"005930\")\n",
        "df.head(5)\n",
        "\n",
        "#월별: m, 일별: d, 연도별: y\n",
        "df = stock.get_market_ohlcv_by_date(\"20210104\", \"20210108\", \"005930\", \"d\")\n",
        "df\n",
        "\n",
        "df = stock.get_market_ohlcv_by_date(\"20201104\", \"20210108\", \"005930\", \"m\")\n",
        "df\n",
        "\n"
      ],
      "metadata": {
        "colab": {
          "base_uri": "https://localhost:8080/",
          "height": 174
        },
        "id": "jHZo2RFnFtVr",
        "outputId": "4288c6b1-b325-48ec-9c65-89caafcc4a5f"
      },
      "execution_count": null,
      "outputs": [
        {
          "output_type": "execute_result",
          "data": {
            "text/plain": [
              "               시가     고가     저가     종가        거래량\n",
              "날짜                                               \n",
              "2020-11-30  58900  69500  57800  66700  460991347\n",
              "2020-12-31  67100  81300  67100  81000  529998852\n",
              "2021-01-31  81000  90000  80200  88800  207737907"
            ],
            "text/html": [
              "\n",
              "\n",
              "  <div id=\"df-d9b89932-84dc-46dc-a42c-7ec354d36743\">\n",
              "    <div class=\"colab-df-container\">\n",
              "      <div>\n",
              "<style scoped>\n",
              "    .dataframe tbody tr th:only-of-type {\n",
              "        vertical-align: middle;\n",
              "    }\n",
              "\n",
              "    .dataframe tbody tr th {\n",
              "        vertical-align: top;\n",
              "    }\n",
              "\n",
              "    .dataframe thead th {\n",
              "        text-align: right;\n",
              "    }\n",
              "</style>\n",
              "<table border=\"1\" class=\"dataframe\">\n",
              "  <thead>\n",
              "    <tr style=\"text-align: right;\">\n",
              "      <th></th>\n",
              "      <th>시가</th>\n",
              "      <th>고가</th>\n",
              "      <th>저가</th>\n",
              "      <th>종가</th>\n",
              "      <th>거래량</th>\n",
              "    </tr>\n",
              "    <tr>\n",
              "      <th>날짜</th>\n",
              "      <th></th>\n",
              "      <th></th>\n",
              "      <th></th>\n",
              "      <th></th>\n",
              "      <th></th>\n",
              "    </tr>\n",
              "  </thead>\n",
              "  <tbody>\n",
              "    <tr>\n",
              "      <th>2020-11-30</th>\n",
              "      <td>58900</td>\n",
              "      <td>69500</td>\n",
              "      <td>57800</td>\n",
              "      <td>66700</td>\n",
              "      <td>460991347</td>\n",
              "    </tr>\n",
              "    <tr>\n",
              "      <th>2020-12-31</th>\n",
              "      <td>67100</td>\n",
              "      <td>81300</td>\n",
              "      <td>67100</td>\n",
              "      <td>81000</td>\n",
              "      <td>529998852</td>\n",
              "    </tr>\n",
              "    <tr>\n",
              "      <th>2021-01-31</th>\n",
              "      <td>81000</td>\n",
              "      <td>90000</td>\n",
              "      <td>80200</td>\n",
              "      <td>88800</td>\n",
              "      <td>207737907</td>\n",
              "    </tr>\n",
              "  </tbody>\n",
              "</table>\n",
              "</div>\n",
              "      <button class=\"colab-df-convert\" onclick=\"convertToInteractive('df-d9b89932-84dc-46dc-a42c-7ec354d36743')\"\n",
              "              title=\"Convert this dataframe to an interactive table.\"\n",
              "              style=\"display:none;\">\n",
              "\n",
              "  <svg xmlns=\"http://www.w3.org/2000/svg\" height=\"24px\"viewBox=\"0 0 24 24\"\n",
              "       width=\"24px\">\n",
              "    <path d=\"M0 0h24v24H0V0z\" fill=\"none\"/>\n",
              "    <path d=\"M18.56 5.44l.94 2.06.94-2.06 2.06-.94-2.06-.94-.94-2.06-.94 2.06-2.06.94zm-11 1L8.5 8.5l.94-2.06 2.06-.94-2.06-.94L8.5 2.5l-.94 2.06-2.06.94zm10 10l.94 2.06.94-2.06 2.06-.94-2.06-.94-.94-2.06-.94 2.06-2.06.94z\"/><path d=\"M17.41 7.96l-1.37-1.37c-.4-.4-.92-.59-1.43-.59-.52 0-1.04.2-1.43.59L10.3 9.45l-7.72 7.72c-.78.78-.78 2.05 0 2.83L4 21.41c.39.39.9.59 1.41.59.51 0 1.02-.2 1.41-.59l7.78-7.78 2.81-2.81c.8-.78.8-2.07 0-2.86zM5.41 20L4 18.59l7.72-7.72 1.47 1.35L5.41 20z\"/>\n",
              "  </svg>\n",
              "      </button>\n",
              "\n",
              "\n",
              "\n",
              "    <div id=\"df-af30e486-8d30-4505-9c25-fe98559d1774\">\n",
              "      <button class=\"colab-df-quickchart\" onclick=\"quickchart('df-af30e486-8d30-4505-9c25-fe98559d1774')\"\n",
              "              title=\"Suggest charts.\"\n",
              "              style=\"display:none;\">\n",
              "\n",
              "<svg xmlns=\"http://www.w3.org/2000/svg\" height=\"24px\"viewBox=\"0 0 24 24\"\n",
              "     width=\"24px\">\n",
              "    <g>\n",
              "        <path d=\"M19 3H5c-1.1 0-2 .9-2 2v14c0 1.1.9 2 2 2h14c1.1 0 2-.9 2-2V5c0-1.1-.9-2-2-2zM9 17H7v-7h2v7zm4 0h-2V7h2v10zm4 0h-2v-4h2v4z\"/>\n",
              "    </g>\n",
              "</svg>\n",
              "      </button>\n",
              "    </div>\n",
              "\n",
              "<style>\n",
              "  .colab-df-quickchart {\n",
              "    background-color: #E8F0FE;\n",
              "    border: none;\n",
              "    border-radius: 50%;\n",
              "    cursor: pointer;\n",
              "    display: none;\n",
              "    fill: #1967D2;\n",
              "    height: 32px;\n",
              "    padding: 0 0 0 0;\n",
              "    width: 32px;\n",
              "  }\n",
              "\n",
              "  .colab-df-quickchart:hover {\n",
              "    background-color: #E2EBFA;\n",
              "    box-shadow: 0px 1px 2px rgba(60, 64, 67, 0.3), 0px 1px 3px 1px rgba(60, 64, 67, 0.15);\n",
              "    fill: #174EA6;\n",
              "  }\n",
              "\n",
              "  [theme=dark] .colab-df-quickchart {\n",
              "    background-color: #3B4455;\n",
              "    fill: #D2E3FC;\n",
              "  }\n",
              "\n",
              "  [theme=dark] .colab-df-quickchart:hover {\n",
              "    background-color: #434B5C;\n",
              "    box-shadow: 0px 1px 3px 1px rgba(0, 0, 0, 0.15);\n",
              "    filter: drop-shadow(0px 1px 2px rgba(0, 0, 0, 0.3));\n",
              "    fill: #FFFFFF;\n",
              "  }\n",
              "</style>\n",
              "\n",
              "    <script>\n",
              "      async function quickchart(key) {\n",
              "        const containerElement = document.querySelector('#' + key);\n",
              "        const charts = await google.colab.kernel.invokeFunction(\n",
              "            'suggestCharts', [key], {});\n",
              "      }\n",
              "    </script>\n",
              "\n",
              "      <script>\n",
              "\n",
              "function displayQuickchartButton(domScope) {\n",
              "  let quickchartButtonEl =\n",
              "    domScope.querySelector('#df-af30e486-8d30-4505-9c25-fe98559d1774 button.colab-df-quickchart');\n",
              "  quickchartButtonEl.style.display =\n",
              "    google.colab.kernel.accessAllowed ? 'block' : 'none';\n",
              "}\n",
              "\n",
              "        displayQuickchartButton(document);\n",
              "      </script>\n",
              "      <style>\n",
              "    .colab-df-container {\n",
              "      display:flex;\n",
              "      flex-wrap:wrap;\n",
              "      gap: 12px;\n",
              "    }\n",
              "\n",
              "    .colab-df-convert {\n",
              "      background-color: #E8F0FE;\n",
              "      border: none;\n",
              "      border-radius: 50%;\n",
              "      cursor: pointer;\n",
              "      display: none;\n",
              "      fill: #1967D2;\n",
              "      height: 32px;\n",
              "      padding: 0 0 0 0;\n",
              "      width: 32px;\n",
              "    }\n",
              "\n",
              "    .colab-df-convert:hover {\n",
              "      background-color: #E2EBFA;\n",
              "      box-shadow: 0px 1px 2px rgba(60, 64, 67, 0.3), 0px 1px 3px 1px rgba(60, 64, 67, 0.15);\n",
              "      fill: #174EA6;\n",
              "    }\n",
              "\n",
              "    [theme=dark] .colab-df-convert {\n",
              "      background-color: #3B4455;\n",
              "      fill: #D2E3FC;\n",
              "    }\n",
              "\n",
              "    [theme=dark] .colab-df-convert:hover {\n",
              "      background-color: #434B5C;\n",
              "      box-shadow: 0px 1px 3px 1px rgba(0, 0, 0, 0.15);\n",
              "      filter: drop-shadow(0px 1px 2px rgba(0, 0, 0, 0.3));\n",
              "      fill: #FFFFFF;\n",
              "    }\n",
              "  </style>\n",
              "\n",
              "      <script>\n",
              "        const buttonEl =\n",
              "          document.querySelector('#df-d9b89932-84dc-46dc-a42c-7ec354d36743 button.colab-df-convert');\n",
              "        buttonEl.style.display =\n",
              "          google.colab.kernel.accessAllowed ? 'block' : 'none';\n",
              "\n",
              "        async function convertToInteractive(key) {\n",
              "          const element = document.querySelector('#df-d9b89932-84dc-46dc-a42c-7ec354d36743');\n",
              "          const dataTable =\n",
              "            await google.colab.kernel.invokeFunction('convertToInteractive',\n",
              "                                                     [key], {});\n",
              "          if (!dataTable) return;\n",
              "\n",
              "          const docLinkHtml = 'Like what you see? Visit the ' +\n",
              "            '<a target=\"_blank\" href=https://colab.research.google.com/notebooks/data_table.ipynb>data table notebook</a>'\n",
              "            + ' to learn more about interactive tables.';\n",
              "          element.innerHTML = '';\n",
              "          dataTable['output_type'] = 'display_data';\n",
              "          await google.colab.output.renderOutput(dataTable, element);\n",
              "          const docLink = document.createElement('div');\n",
              "          docLink.innerHTML = docLinkHtml;\n",
              "          element.appendChild(docLink);\n",
              "        }\n",
              "      </script>\n",
              "    </div>\n",
              "  </div>\n"
            ]
          },
          "metadata": {},
          "execution_count": 66
        }
      ]
    },
    {
      "cell_type": "code",
      "source": [
        "df = stock.get_market_price_change_by_ticker(\"20210104\", \"20210115\")\n",
        "print(df.head(5))\n",
        "\n",
        "df = stock.get_market_ohlcv_by_date(\"20210104\", \"20210115\", \"000020\")\n",
        "df\n",
        "\n",
        "#KOSPI, KOSDAQ, KONEX 지원\n",
        "df = stock.get_market_trading_volume_by_date(\"20210104\", \"20210115\", \"KOSPI\")\n",
        "print(df.head(5))\n",
        "\n",
        "df = stock.get_market_trading_volume_by_date(\"20200101\", \"20210115\", 'KOSPI', freq='m')\n",
        "df\n",
        "\n",
        "df = stock.get_market_trading_value_by_date(\"20210104\", \"20210115\", \"KOSPI\")\n",
        "df\n"
      ],
      "metadata": {
        "colab": {
          "base_uri": "https://localhost:8080/",
          "height": 647
        },
        "id": "pVIod1n0FwGQ",
        "outputId": "500d39b8-6bb0-415d-ab94-4a3c89a3d574"
      },
      "execution_count": null,
      "outputs": [
        {
          "output_type": "stream",
          "name": "stdout",
          "text": [
            "            종목명      시가      종가   변동폭   등락률       거래량          거래대금\n",
            "티커                                                                 \n",
            "095570   AJ네트웍스    4615    4510  -105 -2.28   3982449   18726203680\n",
            "006840    AK홀딩스   25150   26300  1150  4.57   1590631   41092351750\n",
            "027410      BGF    4895    4830   -65 -1.33   4729036   23091599895\n",
            "282330   BGF리테일  135500  145000  9500  7.01    809850  114155484750\n",
            "138930  BNK금융지주    5680    5880   200  3.52  36350605  209410643490\n",
            "                기관합계      기타법인        개인     외국인합계  전체\n",
            "날짜                                                    \n",
            "2021-01-04 -18241927  -2321155  13307925   7255157   0\n",
            "2021-01-05   -282797 -20356879  21335001   -695325   0\n",
            "2021-01-06 -28606702   1763197  19464237   7379268   0\n",
            "2021-01-07  16803440  -4926713 -23957887  12081160   0\n",
            "2021-01-08 -24886527   1334709   6228334  17323484   0\n"
          ]
        },
        {
          "output_type": "execute_result",
          "data": {
            "text/plain": [
              "                     기관합계         기타법인             개인          외국인합계  전체\n",
              "날짜                                                                      \n",
              "2021-01-04 -1189876714363  69165156608  1031014166618    89697391137   0\n",
              "2021-01-05  -536265643081  16098509714   728387733108  -208220599741   0\n",
              "2021-01-06 -1369155503764  37370130195  1729261196142  -397475822573   0\n",
              "2021-01-07  1033917002121  36342229807 -1183634539101   113375307173   0\n",
              "2021-01-08 -1147931424901  63596153201  -559141825960  1643477097660   0\n",
              "2021-01-11 -3743203896260 -31327947241  4492145003867  -717613160366   0\n",
              "2021-01-12 -1723898682006  30388878033  2312445113552  -618935309579   0\n",
              "2021-01-13  -372450411172   9868157834   169086090692   193496162646   0\n",
              "2021-01-14 -1428981445508  38743362517   712730906649   677507176342   0\n",
              "2021-01-15 -1414745885546  54444293672  2113924037705  -753622445831   0"
            ],
            "text/html": [
              "\n",
              "\n",
              "  <div id=\"df-f1fa5090-e53b-4813-806a-55ae3c864a57\">\n",
              "    <div class=\"colab-df-container\">\n",
              "      <div>\n",
              "<style scoped>\n",
              "    .dataframe tbody tr th:only-of-type {\n",
              "        vertical-align: middle;\n",
              "    }\n",
              "\n",
              "    .dataframe tbody tr th {\n",
              "        vertical-align: top;\n",
              "    }\n",
              "\n",
              "    .dataframe thead th {\n",
              "        text-align: right;\n",
              "    }\n",
              "</style>\n",
              "<table border=\"1\" class=\"dataframe\">\n",
              "  <thead>\n",
              "    <tr style=\"text-align: right;\">\n",
              "      <th></th>\n",
              "      <th>기관합계</th>\n",
              "      <th>기타법인</th>\n",
              "      <th>개인</th>\n",
              "      <th>외국인합계</th>\n",
              "      <th>전체</th>\n",
              "    </tr>\n",
              "    <tr>\n",
              "      <th>날짜</th>\n",
              "      <th></th>\n",
              "      <th></th>\n",
              "      <th></th>\n",
              "      <th></th>\n",
              "      <th></th>\n",
              "    </tr>\n",
              "  </thead>\n",
              "  <tbody>\n",
              "    <tr>\n",
              "      <th>2021-01-04</th>\n",
              "      <td>-1189876714363</td>\n",
              "      <td>69165156608</td>\n",
              "      <td>1031014166618</td>\n",
              "      <td>89697391137</td>\n",
              "      <td>0</td>\n",
              "    </tr>\n",
              "    <tr>\n",
              "      <th>2021-01-05</th>\n",
              "      <td>-536265643081</td>\n",
              "      <td>16098509714</td>\n",
              "      <td>728387733108</td>\n",
              "      <td>-208220599741</td>\n",
              "      <td>0</td>\n",
              "    </tr>\n",
              "    <tr>\n",
              "      <th>2021-01-06</th>\n",
              "      <td>-1369155503764</td>\n",
              "      <td>37370130195</td>\n",
              "      <td>1729261196142</td>\n",
              "      <td>-397475822573</td>\n",
              "      <td>0</td>\n",
              "    </tr>\n",
              "    <tr>\n",
              "      <th>2021-01-07</th>\n",
              "      <td>1033917002121</td>\n",
              "      <td>36342229807</td>\n",
              "      <td>-1183634539101</td>\n",
              "      <td>113375307173</td>\n",
              "      <td>0</td>\n",
              "    </tr>\n",
              "    <tr>\n",
              "      <th>2021-01-08</th>\n",
              "      <td>-1147931424901</td>\n",
              "      <td>63596153201</td>\n",
              "      <td>-559141825960</td>\n",
              "      <td>1643477097660</td>\n",
              "      <td>0</td>\n",
              "    </tr>\n",
              "    <tr>\n",
              "      <th>2021-01-11</th>\n",
              "      <td>-3743203896260</td>\n",
              "      <td>-31327947241</td>\n",
              "      <td>4492145003867</td>\n",
              "      <td>-717613160366</td>\n",
              "      <td>0</td>\n",
              "    </tr>\n",
              "    <tr>\n",
              "      <th>2021-01-12</th>\n",
              "      <td>-1723898682006</td>\n",
              "      <td>30388878033</td>\n",
              "      <td>2312445113552</td>\n",
              "      <td>-618935309579</td>\n",
              "      <td>0</td>\n",
              "    </tr>\n",
              "    <tr>\n",
              "      <th>2021-01-13</th>\n",
              "      <td>-372450411172</td>\n",
              "      <td>9868157834</td>\n",
              "      <td>169086090692</td>\n",
              "      <td>193496162646</td>\n",
              "      <td>0</td>\n",
              "    </tr>\n",
              "    <tr>\n",
              "      <th>2021-01-14</th>\n",
              "      <td>-1428981445508</td>\n",
              "      <td>38743362517</td>\n",
              "      <td>712730906649</td>\n",
              "      <td>677507176342</td>\n",
              "      <td>0</td>\n",
              "    </tr>\n",
              "    <tr>\n",
              "      <th>2021-01-15</th>\n",
              "      <td>-1414745885546</td>\n",
              "      <td>54444293672</td>\n",
              "      <td>2113924037705</td>\n",
              "      <td>-753622445831</td>\n",
              "      <td>0</td>\n",
              "    </tr>\n",
              "  </tbody>\n",
              "</table>\n",
              "</div>\n",
              "      <button class=\"colab-df-convert\" onclick=\"convertToInteractive('df-f1fa5090-e53b-4813-806a-55ae3c864a57')\"\n",
              "              title=\"Convert this dataframe to an interactive table.\"\n",
              "              style=\"display:none;\">\n",
              "\n",
              "  <svg xmlns=\"http://www.w3.org/2000/svg\" height=\"24px\"viewBox=\"0 0 24 24\"\n",
              "       width=\"24px\">\n",
              "    <path d=\"M0 0h24v24H0V0z\" fill=\"none\"/>\n",
              "    <path d=\"M18.56 5.44l.94 2.06.94-2.06 2.06-.94-2.06-.94-.94-2.06-.94 2.06-2.06.94zm-11 1L8.5 8.5l.94-2.06 2.06-.94-2.06-.94L8.5 2.5l-.94 2.06-2.06.94zm10 10l.94 2.06.94-2.06 2.06-.94-2.06-.94-.94-2.06-.94 2.06-2.06.94z\"/><path d=\"M17.41 7.96l-1.37-1.37c-.4-.4-.92-.59-1.43-.59-.52 0-1.04.2-1.43.59L10.3 9.45l-7.72 7.72c-.78.78-.78 2.05 0 2.83L4 21.41c.39.39.9.59 1.41.59.51 0 1.02-.2 1.41-.59l7.78-7.78 2.81-2.81c.8-.78.8-2.07 0-2.86zM5.41 20L4 18.59l7.72-7.72 1.47 1.35L5.41 20z\"/>\n",
              "  </svg>\n",
              "      </button>\n",
              "\n",
              "\n",
              "\n",
              "    <div id=\"df-d4c26dea-9700-4f16-9d87-dd9923826501\">\n",
              "      <button class=\"colab-df-quickchart\" onclick=\"quickchart('df-d4c26dea-9700-4f16-9d87-dd9923826501')\"\n",
              "              title=\"Suggest charts.\"\n",
              "              style=\"display:none;\">\n",
              "\n",
              "<svg xmlns=\"http://www.w3.org/2000/svg\" height=\"24px\"viewBox=\"0 0 24 24\"\n",
              "     width=\"24px\">\n",
              "    <g>\n",
              "        <path d=\"M19 3H5c-1.1 0-2 .9-2 2v14c0 1.1.9 2 2 2h14c1.1 0 2-.9 2-2V5c0-1.1-.9-2-2-2zM9 17H7v-7h2v7zm4 0h-2V7h2v10zm4 0h-2v-4h2v4z\"/>\n",
              "    </g>\n",
              "</svg>\n",
              "      </button>\n",
              "    </div>\n",
              "\n",
              "<style>\n",
              "  .colab-df-quickchart {\n",
              "    background-color: #E8F0FE;\n",
              "    border: none;\n",
              "    border-radius: 50%;\n",
              "    cursor: pointer;\n",
              "    display: none;\n",
              "    fill: #1967D2;\n",
              "    height: 32px;\n",
              "    padding: 0 0 0 0;\n",
              "    width: 32px;\n",
              "  }\n",
              "\n",
              "  .colab-df-quickchart:hover {\n",
              "    background-color: #E2EBFA;\n",
              "    box-shadow: 0px 1px 2px rgba(60, 64, 67, 0.3), 0px 1px 3px 1px rgba(60, 64, 67, 0.15);\n",
              "    fill: #174EA6;\n",
              "  }\n",
              "\n",
              "  [theme=dark] .colab-df-quickchart {\n",
              "    background-color: #3B4455;\n",
              "    fill: #D2E3FC;\n",
              "  }\n",
              "\n",
              "  [theme=dark] .colab-df-quickchart:hover {\n",
              "    background-color: #434B5C;\n",
              "    box-shadow: 0px 1px 3px 1px rgba(0, 0, 0, 0.15);\n",
              "    filter: drop-shadow(0px 1px 2px rgba(0, 0, 0, 0.3));\n",
              "    fill: #FFFFFF;\n",
              "  }\n",
              "</style>\n",
              "\n",
              "    <script>\n",
              "      async function quickchart(key) {\n",
              "        const containerElement = document.querySelector('#' + key);\n",
              "        const charts = await google.colab.kernel.invokeFunction(\n",
              "            'suggestCharts', [key], {});\n",
              "      }\n",
              "    </script>\n",
              "\n",
              "      <script>\n",
              "\n",
              "function displayQuickchartButton(domScope) {\n",
              "  let quickchartButtonEl =\n",
              "    domScope.querySelector('#df-d4c26dea-9700-4f16-9d87-dd9923826501 button.colab-df-quickchart');\n",
              "  quickchartButtonEl.style.display =\n",
              "    google.colab.kernel.accessAllowed ? 'block' : 'none';\n",
              "}\n",
              "\n",
              "        displayQuickchartButton(document);\n",
              "      </script>\n",
              "      <style>\n",
              "    .colab-df-container {\n",
              "      display:flex;\n",
              "      flex-wrap:wrap;\n",
              "      gap: 12px;\n",
              "    }\n",
              "\n",
              "    .colab-df-convert {\n",
              "      background-color: #E8F0FE;\n",
              "      border: none;\n",
              "      border-radius: 50%;\n",
              "      cursor: pointer;\n",
              "      display: none;\n",
              "      fill: #1967D2;\n",
              "      height: 32px;\n",
              "      padding: 0 0 0 0;\n",
              "      width: 32px;\n",
              "    }\n",
              "\n",
              "    .colab-df-convert:hover {\n",
              "      background-color: #E2EBFA;\n",
              "      box-shadow: 0px 1px 2px rgba(60, 64, 67, 0.3), 0px 1px 3px 1px rgba(60, 64, 67, 0.15);\n",
              "      fill: #174EA6;\n",
              "    }\n",
              "\n",
              "    [theme=dark] .colab-df-convert {\n",
              "      background-color: #3B4455;\n",
              "      fill: #D2E3FC;\n",
              "    }\n",
              "\n",
              "    [theme=dark] .colab-df-convert:hover {\n",
              "      background-color: #434B5C;\n",
              "      box-shadow: 0px 1px 3px 1px rgba(0, 0, 0, 0.15);\n",
              "      filter: drop-shadow(0px 1px 2px rgba(0, 0, 0, 0.3));\n",
              "      fill: #FFFFFF;\n",
              "    }\n",
              "  </style>\n",
              "\n",
              "      <script>\n",
              "        const buttonEl =\n",
              "          document.querySelector('#df-f1fa5090-e53b-4813-806a-55ae3c864a57 button.colab-df-convert');\n",
              "        buttonEl.style.display =\n",
              "          google.colab.kernel.accessAllowed ? 'block' : 'none';\n",
              "\n",
              "        async function convertToInteractive(key) {\n",
              "          const element = document.querySelector('#df-f1fa5090-e53b-4813-806a-55ae3c864a57');\n",
              "          const dataTable =\n",
              "            await google.colab.kernel.invokeFunction('convertToInteractive',\n",
              "                                                     [key], {});\n",
              "          if (!dataTable) return;\n",
              "\n",
              "          const docLinkHtml = 'Like what you see? Visit the ' +\n",
              "            '<a target=\"_blank\" href=https://colab.research.google.com/notebooks/data_table.ipynb>data table notebook</a>'\n",
              "            + ' to learn more about interactive tables.';\n",
              "          element.innerHTML = '';\n",
              "          dataTable['output_type'] = 'display_data';\n",
              "          await google.colab.output.renderOutput(dataTable, element);\n",
              "          const docLink = document.createElement('div');\n",
              "          docLink.innerHTML = docLinkHtml;\n",
              "          element.appendChild(docLink);\n",
              "        }\n",
              "      </script>\n",
              "    </div>\n",
              "  </div>\n"
            ]
          },
          "metadata": {},
          "execution_count": 67
        }
      ]
    },
    {
      "cell_type": "code",
      "source": [
        "df = stock.get_market_fundamental_by_ticker(\"20210115\")\n",
        "print(df.head(2))\n",
        "\n",
        "df = stock.get_market_fundamental_by_date(\"20210104\", \"20210115\", '005930')\n",
        "print(df.head(2))\n",
        "\n",
        "df = stock.get_market_fundamental_by_date(\"20201004\", \"20210115\", \"005930\", \"m\")\n",
        "print(df.head(2))\n"
      ],
      "metadata": {
        "colab": {
          "base_uri": "https://localhost:8080/"
        },
        "id": "O_hOXY3fF1O4",
        "outputId": "24fa2a6a-2b7d-4653-952f-3c2d06cf31e7"
      },
      "execution_count": null,
      "outputs": [
        {
          "output_type": "stream",
          "name": "stdout",
          "text": [
            "          BPS    PER   PBR   EPS   DIV  DPS\n",
            "티커                                         \n",
            "095570   6802   4.59  0.66   982  6.65  300\n",
            "006840  62448  12.13  0.42  2168  2.85  750\n",
            "              BPS    PER   PBR   EPS   DIV   DPS\n",
            "날짜                                              \n",
            "2021-01-04  37528  26.22  2.21  3166  1.71  1416\n",
            "2021-01-05  37528  26.50  2.24  3166  1.69  1416\n",
            "              BPS    PER   PBR   EPS   DIV   DPS\n",
            "날짜                                              \n",
            "2020-10-31  37528  18.54  1.56  3166  2.41  1416\n",
            "2020-11-30  37528  18.13  1.53  3166  2.47  1416\n"
          ]
        }
      ]
    },
    {
      "cell_type": "markdown",
      "source": [],
      "metadata": {
        "id": "KDv4uZePxPQh"
      }
    },
    {
      "cell_type": "markdown",
      "metadata": {
        "id": "2jcil7RAftO-"
      },
      "source": [
        "## 1.3. 정규 표현식(Regular Expression)"
      ]
    },
    {
      "cell_type": "markdown",
      "metadata": {
        "id": "b3q068w6mjnX"
      },
      "source": [
        "참고\n",
        "\n",
        "\n",
        "<figure>\n",
        "<img src = 'https://miro.medium.com/max/700/1*Y-q0dkUClSW0dX6uuysnJQ.png'>\n",
        "<figure>\n",
        "\n",
        "<figure>\n",
        "<img src = 'https://miro.medium.com/max/700/1*c__WeRlFyGY_-7LeKQkNnQ.png'>\n",
        "<figure>\n",
        "\n"
      ]
    },
    {
      "cell_type": "markdown",
      "metadata": {
        "id": "DJdmfWnvnXkU"
      },
      "source": [
        "<figure>\n",
        "<img src = 'https://miro.medium.com/max/661/1*6pIp6zuIoRHUOXjEDDUNCA.png'>\n",
        "<figure>"
      ]
    },
    {
      "cell_type": "code",
      "metadata": {
        "colab": {
          "base_uri": "https://localhost:8080/"
        },
        "id": "yWAKfa_XlwVs",
        "outputId": "07f02f9c-cea3-47b9-cd3a-91628fe7190a"
      },
      "source": [
        "import re\n",
        "r = re.compile(\"a.c\")\n",
        "r.search(\"kkk\")\n",
        "# 아무런 결과도 출력되지 않는다.\n",
        "r.search(\"abc\")"
      ],
      "execution_count": 1,
      "outputs": [
        {
          "output_type": "execute_result",
          "data": {
            "text/plain": [
              "<re.Match object; span=(0, 3), match='abc'>"
            ]
          },
          "metadata": {},
          "execution_count": 1
        }
      ]
    },
    {
      "cell_type": "code",
      "metadata": {
        "colab": {
          "base_uri": "https://localhost:8080/"
        },
        "id": "ucM6z0vbnvGQ",
        "outputId": "cabc2502-01ed-427f-a83c-28aa7f3bdced"
      },
      "source": [
        "r = re.compile(\"ab?c\")\n",
        "r.search(\"abbc\")\n",
        "# 아무것도 출력되지 않음\n",
        "r.search(\"abc\")\n",
        "# b가 있는 것으로 판단하여 abc를 매치함."
      ],
      "execution_count": 2,
      "outputs": [
        {
          "output_type": "execute_result",
          "data": {
            "text/plain": [
              "<re.Match object; span=(0, 3), match='abc'>"
            ]
          },
          "metadata": {},
          "execution_count": 2
        }
      ]
    },
    {
      "cell_type": "code",
      "metadata": {
        "colab": {
          "base_uri": "https://localhost:8080/"
        },
        "id": "mEBFlSaJn0aQ",
        "outputId": "f0f263da-714f-48ac-b164-0cb6e9efa674"
      },
      "source": [
        "r.search(\"ac\")\n",
        "# b가 없는 것으로 판단하여 ac를 매치함."
      ],
      "execution_count": 3,
      "outputs": [
        {
          "output_type": "execute_result",
          "data": {
            "text/plain": [
              "<re.Match object; span=(0, 2), match='ac'>"
            ]
          },
          "metadata": {},
          "execution_count": 3
        }
      ]
    },
    {
      "cell_type": "markdown",
      "metadata": {
        "id": "LFr7rlCUn6BM"
      },
      "source": [
        "- 0개 이상 문자 매치\n"
      ]
    },
    {
      "cell_type": "code",
      "metadata": {
        "id": "7CiNe8Fpn5L4"
      },
      "source": [
        "r = re.compile(\"ab*c\")\n",
        "r.search(\"a\")\n",
        "# 아무것도 출력되지 않음."
      ],
      "execution_count": 4,
      "outputs": []
    },
    {
      "cell_type": "code",
      "metadata": {
        "colab": {
          "base_uri": "https://localhost:8080/"
        },
        "id": "q13_T3don5OR",
        "outputId": "a8dcc396-9dd0-4fac-d923-bc369b2acb0b"
      },
      "source": [
        "r.search(\"ac\")"
      ],
      "execution_count": 5,
      "outputs": [
        {
          "output_type": "execute_result",
          "data": {
            "text/plain": [
              "<re.Match object; span=(0, 2), match='ac'>"
            ]
          },
          "metadata": {},
          "execution_count": 5
        }
      ]
    },
    {
      "cell_type": "code",
      "metadata": {
        "colab": {
          "base_uri": "https://localhost:8080/"
        },
        "id": "PZB6GP8zn5SU",
        "outputId": "fd9b1db5-066e-4610-ebbe-134e049d743c"
      },
      "source": [
        "r.search(\"abc\")"
      ],
      "execution_count": 6,
      "outputs": [
        {
          "output_type": "execute_result",
          "data": {
            "text/plain": [
              "<re.Match object; span=(0, 3), match='abc'>"
            ]
          },
          "metadata": {},
          "execution_count": 6
        }
      ]
    },
    {
      "cell_type": "code",
      "metadata": {
        "colab": {
          "base_uri": "https://localhost:8080/"
        },
        "id": "BVGmeToLn5Vb",
        "outputId": "6e0e386c-a857-4d1a-8a23-096af1175277"
      },
      "source": [
        "r.search(\"abbc\")"
      ],
      "execution_count": 7,
      "outputs": [
        {
          "output_type": "execute_result",
          "data": {
            "text/plain": [
              "<re.Match object; span=(0, 4), match='abbc'>"
            ]
          },
          "metadata": {},
          "execution_count": 7
        }
      ]
    },
    {
      "cell_type": "markdown",
      "metadata": {
        "id": "ZSkU7IyWoA1h"
      },
      "source": [
        "- '+' : 최소 1번 이상 출현\n"
      ]
    },
    {
      "cell_type": "code",
      "metadata": {
        "colab": {
          "base_uri": "https://localhost:8080/"
        },
        "id": "ErjEqSScn5ZN",
        "outputId": "56452c7e-4003-428b-a83e-bfa7670e3b7a"
      },
      "source": [
        "r = re.compile('ab+c')\n",
        "r.search(\"ac\")\n",
        "# 아무것도 출력되지 않는다.\n",
        "\n",
        "r.search(\"abc\")"
      ],
      "execution_count": 8,
      "outputs": [
        {
          "output_type": "execute_result",
          "data": {
            "text/plain": [
              "<re.Match object; span=(0, 3), match='abc'>"
            ]
          },
          "metadata": {},
          "execution_count": 8
        }
      ]
    },
    {
      "cell_type": "markdown",
      "metadata": {
        "id": "UecA1Y3OoGlE"
      },
      "source": [
        "- ' ^': 시작 문자 지정"
      ]
    },
    {
      "cell_type": "code",
      "metadata": {
        "colab": {
          "base_uri": "https://localhost:8080/"
        },
        "id": "e5WNrSLUn5cB",
        "outputId": "ab0426bc-0f7e-4e04-892b-4766674b6f98"
      },
      "source": [
        "r = re.compile('^a')\n",
        "r.search('bbc')\n",
        "# 아무것도 출력되지 않음\n",
        "r.search('ab')"
      ],
      "execution_count": 9,
      "outputs": [
        {
          "output_type": "execute_result",
          "data": {
            "text/plain": [
              "<re.Match object; span=(0, 1), match='a'>"
            ]
          },
          "metadata": {},
          "execution_count": 9
        }
      ]
    },
    {
      "cell_type": "markdown",
      "metadata": {
        "id": "GqVYqmPdoKs9"
      },
      "source": [
        "{숫자}: 출현 빈도 지정\n",
        "{숫자1, 숫자2}\n",
        "{숫자,}\n",
        "\n",
        "문자에 해당 기호를 붙이면, 해당 문자를 숫자만큼 반복한 것을 나타낸다. 예를 들어 정규 표현식이 ab{2}c라면 a와 c사이에 b가 존재하면서 b가 2개인 문자열에 대해서 매치한다."
      ]
    },
    {
      "cell_type": "code",
      "metadata": {
        "colab": {
          "base_uri": "https://localhost:8080/"
        },
        "id": "FOqSSzqVn5eh",
        "outputId": "e4c9332c-f8cf-4dd7-8a80-a0e55eadd29c"
      },
      "source": [
        "r = re.compile(\"ab{2}c\")\n",
        "r.search(\"ac\")\n",
        "# 아무것도 출력되지 않는다.\n",
        "r.search(\"abc\")\n",
        "# 아무것도 출력되지 않는다.\n",
        "r.search(\"abbc\")"
      ],
      "execution_count": 10,
      "outputs": [
        {
          "output_type": "execute_result",
          "data": {
            "text/plain": [
              "<re.Match object; span=(0, 4), match='abbc'>"
            ]
          },
          "metadata": {},
          "execution_count": 10
        }
      ]
    },
    {
      "cell_type": "code",
      "metadata": {
        "id": "6rKFOAa-n5iT"
      },
      "source": [
        "r.search(\"abbbbbc\")"
      ],
      "execution_count": 11,
      "outputs": []
    },
    {
      "cell_type": "code",
      "metadata": {
        "colab": {
          "base_uri": "https://localhost:8080/"
        },
        "id": "dETY6f16oQ4N",
        "outputId": "61aec2a5-ca2a-4d97-e33e-66ace81c63d3"
      },
      "source": [
        "r = re.compile(\"ab{2,8}c\")\n",
        "r.search('ac')\n",
        "# 아무런 결과도 출력되지 않음\n",
        "r.search(\"abc\")\n",
        "# 아무런 결과도 출력되지 않음\n",
        "r.search(\"abbc\")"
      ],
      "execution_count": 12,
      "outputs": [
        {
          "output_type": "execute_result",
          "data": {
            "text/plain": [
              "<re.Match object; span=(0, 4), match='abbc'>"
            ]
          },
          "metadata": {},
          "execution_count": 12
        }
      ]
    },
    {
      "cell_type": "code",
      "metadata": {
        "colab": {
          "base_uri": "https://localhost:8080/"
        },
        "id": "pSy5xqYkoQ63",
        "outputId": "5da10c0c-fb9e-4ebb-e4cf-495755aa9d60"
      },
      "source": [
        "r.search(\"abbbbc\")"
      ],
      "execution_count": 13,
      "outputs": [
        {
          "output_type": "execute_result",
          "data": {
            "text/plain": [
              "<re.Match object; span=(0, 6), match='abbbbc'>"
            ]
          },
          "metadata": {},
          "execution_count": 13
        }
      ]
    },
    {
      "cell_type": "code",
      "metadata": {
        "id": "yYt_Z16NoQ9l"
      },
      "source": [
        "r.search(\"abbbbbbbbbbbbbc\")"
      ],
      "execution_count": 14,
      "outputs": []
    },
    {
      "cell_type": "code",
      "metadata": {
        "colab": {
          "base_uri": "https://localhost:8080/"
        },
        "id": "xYDNKfksoRAM",
        "outputId": "b51804c7-99c6-4e0e-a8dc-aea4bcaabab6"
      },
      "source": [
        "r = re.compile(\"a{2,}bc\")\n",
        "r.search(\"bc\")\n",
        "# 아무런 결과도 출력되지 않음\n",
        "r.search(\"aa\")\n",
        "# 아무런 결과도 출력되지 않음\n",
        "r.search(\"aabc\")"
      ],
      "execution_count": 15,
      "outputs": [
        {
          "output_type": "execute_result",
          "data": {
            "text/plain": [
              "<re.Match object; span=(0, 4), match='aabc'>"
            ]
          },
          "metadata": {},
          "execution_count": 15
        }
      ]
    },
    {
      "cell_type": "code",
      "metadata": {
        "colab": {
          "base_uri": "https://localhost:8080/"
        },
        "id": "GMS5yC4PoRC2",
        "outputId": "7692bd8e-6c18-42e3-f292-bd7a58528acc"
      },
      "source": [
        "r.search(\"aaaaabc\")"
      ],
      "execution_count": 16,
      "outputs": [
        {
          "output_type": "execute_result",
          "data": {
            "text/plain": [
              "<re.Match object; span=(0, 7), match='aaaaabc'>"
            ]
          },
          "metadata": {},
          "execution_count": 16
        }
      ]
    },
    {
      "cell_type": "markdown",
      "metadata": {
        "id": "95LIGxFfopJZ"
      },
      "source": [
        "[] : [ ] 안 문자들과 매치\n",
        "[a-zA-Z]\n",
        "[0–9]"
      ]
    },
    {
      "cell_type": "code",
      "metadata": {
        "colab": {
          "base_uri": "https://localhost:8080/"
        },
        "id": "IV1ubrIcoRFe",
        "outputId": "50216468-a368-43e5-ec20-695ca89f8189"
      },
      "source": [
        "r = re.compile(\"[abc]\")\n",
        "r.search('zzz')\n",
        "# 아무것도 출력되지 않음\n",
        "r.search('a')"
      ],
      "execution_count": 17,
      "outputs": [
        {
          "output_type": "execute_result",
          "data": {
            "text/plain": [
              "<re.Match object; span=(0, 1), match='a'>"
            ]
          },
          "metadata": {},
          "execution_count": 17
        }
      ]
    },
    {
      "cell_type": "code",
      "metadata": {
        "colab": {
          "base_uri": "https://localhost:8080/"
        },
        "id": "5VdzaHtYoRJy",
        "outputId": "a558eca1-1cfb-452c-c29b-2c37facd5aa5"
      },
      "source": [
        "r.search('acg')"
      ],
      "execution_count": 18,
      "outputs": [
        {
          "output_type": "execute_result",
          "data": {
            "text/plain": [
              "<re.Match object; span=(0, 1), match='a'>"
            ]
          },
          "metadata": {},
          "execution_count": 18
        }
      ]
    },
    {
      "cell_type": "code",
      "metadata": {
        "colab": {
          "base_uri": "https://localhost:8080/"
        },
        "id": "cj_txezzot9l",
        "outputId": "b4bb1398-a81a-42ac-9019-efade18006ea"
      },
      "source": [
        "r.search('babo')"
      ],
      "execution_count": 19,
      "outputs": [
        {
          "output_type": "execute_result",
          "data": {
            "text/plain": [
              "<re.Match object; span=(0, 1), match='b'>"
            ]
          },
          "metadata": {},
          "execution_count": 19
        }
      ]
    },
    {
      "cell_type": "markdown",
      "metadata": {
        "id": "LwDQcJEPpAMv"
      },
      "source": [
        "[^문자]:  ^ 기호 뒤에 붙은 문자들을 제외한 모든 문자를 매치"
      ]
    },
    {
      "cell_type": "code",
      "metadata": {
        "colab": {
          "base_uri": "https://localhost:8080/"
        },
        "id": "6khEjAygouEM",
        "outputId": "4fe2f80c-1915-4f4b-d0c4-40cfc31d3d3d"
      },
      "source": [
        "r = re.compile('[^abc]')\n",
        "r.search(\"a\")\n",
        "# 아무것도 출력되지 않음\n",
        "r.search(\"ahoho\")"
      ],
      "execution_count": 20,
      "outputs": [
        {
          "output_type": "execute_result",
          "data": {
            "text/plain": [
              "<re.Match object; span=(1, 2), match='h'>"
            ]
          },
          "metadata": {},
          "execution_count": 20
        }
      ]
    },
    {
      "cell_type": "code",
      "metadata": {
        "colab": {
          "base_uri": "https://localhost:8080/"
        },
        "id": "EIZKaAHpouIH",
        "outputId": "65f37324-dab8-4b44-c45c-7733b1ef3844"
      },
      "source": [
        "r.search(\"1st\")"
      ],
      "execution_count": 21,
      "outputs": [
        {
          "output_type": "execute_result",
          "data": {
            "text/plain": [
              "<re.Match object; span=(0, 1), match='1'>"
            ]
          },
          "metadata": {},
          "execution_count": 21
        }
      ]
    },
    {
      "cell_type": "markdown",
      "metadata": {
        "id": "s24N9GSQpHiP"
      },
      "source": [
        "- re.match()와 re.search()의 차이\n",
        " - search()가 정규 표현식 전체에 대해서 문자열이 매치하는지를 본다면, match()는 문자열의 첫 부분부터 정규표현식과 매치하는지를 확인\n",
        "문자열 중간에 찾을 패턴이 있다고 하더라도, match 함수는 문자열의 시작에서 패턴이 일치하지 않으면 찾지 않음"
      ]
    },
    {
      "cell_type": "code",
      "metadata": {
        "colab": {
          "base_uri": "https://localhost:8080/"
        },
        "id": "jo7NJ8FFpGkx",
        "outputId": "31bc8a06-f45a-4040-8d5e-40c196868c95"
      },
      "source": [
        "r = re.compile(\"ab.\")\n",
        "r.search(\"kkkabc\")"
      ],
      "execution_count": 22,
      "outputs": [
        {
          "output_type": "execute_result",
          "data": {
            "text/plain": [
              "<re.Match object; span=(3, 6), match='abc'>"
            ]
          },
          "metadata": {},
          "execution_count": 22
        }
      ]
    },
    {
      "cell_type": "code",
      "metadata": {
        "id": "F26A2vvVpUTP"
      },
      "source": [
        "r.match(\"kkkabc\")\n",
        "# 아무것도 출력되지 않음"
      ],
      "execution_count": 23,
      "outputs": []
    },
    {
      "cell_type": "code",
      "metadata": {
        "colab": {
          "base_uri": "https://localhost:8080/"
        },
        "id": "3JOMnM1QpW7D",
        "outputId": "91ec67b4-c12b-4e18-d183-5cb4ce1c7cf4"
      },
      "source": [
        "r.match(\"abckkk\")"
      ],
      "execution_count": 24,
      "outputs": [
        {
          "output_type": "execute_result",
          "data": {
            "text/plain": [
              "<re.Match object; span=(0, 3), match='abc'>"
            ]
          },
          "metadata": {},
          "execution_count": 24
        }
      ]
    },
    {
      "cell_type": "markdown",
      "metadata": {
        "id": "5xsVXDAvpZVq"
      },
      "source": [
        " - re.split(): 입력된 정규 표현식을 기준으로 문자열들을 분리하여 리스트로 리턴"
      ]
    },
    {
      "cell_type": "code",
      "metadata": {
        "colab": {
          "base_uri": "https://localhost:8080/"
        },
        "id": "eBqfSX0UpGn9",
        "outputId": "73b03191-7dd8-4f3d-e53c-0d7bb00f7d2c"
      },
      "source": [
        "text = \"사과 딸기 수박 멜론 바나나\"\n",
        "re.split(\" \",text)"
      ],
      "execution_count": 25,
      "outputs": [
        {
          "output_type": "execute_result",
          "data": {
            "text/plain": [
              "['사과', '딸기', '수박', '멜론', '바나나']"
            ]
          },
          "metadata": {},
          "execution_count": 25
        }
      ]
    },
    {
      "cell_type": "code",
      "metadata": {
        "id": "AgBvcTRPpGt8",
        "colab": {
          "base_uri": "https://localhost:8080/"
        },
        "outputId": "99cf12d2-634e-4294-de47-533be9693fb9"
      },
      "source": [
        "text = \"\"\"사과\n",
        "딸기\n",
        "수박\n",
        "멜론\n",
        "바나나\"\"\"\n",
        "re.split(\"\\n\", text)"
      ],
      "execution_count": 26,
      "outputs": [
        {
          "output_type": "execute_result",
          "data": {
            "text/plain": [
              "['사과', '딸기', '수박', '멜론', '바나나']"
            ]
          },
          "metadata": {},
          "execution_count": 26
        }
      ]
    },
    {
      "cell_type": "code",
      "metadata": {
        "colab": {
          "base_uri": "https://localhost:8080/"
        },
        "id": "KnQw92xFpG0I",
        "outputId": "89d22ed9-6ffe-4c8e-b607-0ed49c04296d"
      },
      "source": [
        "text = \"사과+딸기+수박+멜론+바나나\"\n",
        "re.split(\"\\+\", text)"
      ],
      "execution_count": 27,
      "outputs": [
        {
          "output_type": "execute_result",
          "data": {
            "text/plain": [
              "['사과', '딸기', '수박', '멜론', '바나나']"
            ]
          },
          "metadata": {},
          "execution_count": 27
        }
      ]
    },
    {
      "cell_type": "markdown",
      "metadata": {
        "id": "kg2aGh9Wpfoi"
      },
      "source": [
        " - re.findall(): 정규 표현식과 매치되는 모든 문자열들을 리스트로 반환"
      ]
    },
    {
      "cell_type": "code",
      "metadata": {
        "id": "oeYg7WNnpG4K",
        "colab": {
          "base_uri": "https://localhost:8080/"
        },
        "outputId": "df766074-b3e5-45d7-f51e-225ad20b0194"
      },
      "source": [
        "text = \"\"\"이름 : 김철수\n",
        "전화번호 : 010 - 1234 - 1234\n",
        "나이 : 30\n",
        "성별 : 남\"\"\"\n",
        "re.findall(\"\\d+\", text)"
      ],
      "execution_count": 28,
      "outputs": [
        {
          "output_type": "execute_result",
          "data": {
            "text/plain": [
              "['010', '1234', '1234', '30']"
            ]
          },
          "metadata": {},
          "execution_count": 28
        }
      ]
    },
    {
      "cell_type": "code",
      "metadata": {
        "colab": {
          "base_uri": "https://localhost:8080/"
        },
        "id": "jJKGJOyhpG7p",
        "outputId": "3fd26915-d8f9-4f4d-f0db-a9ad279724a7"
      },
      "source": [
        "re.findall(\"\\d+\", \"문자열입니당.\")"
      ],
      "execution_count": 29,
      "outputs": [
        {
          "output_type": "execute_result",
          "data": {
            "text/plain": [
              "[]"
            ]
          },
          "metadata": {},
          "execution_count": 29
        }
      ]
    },
    {
      "cell_type": "markdown",
      "metadata": {
        "id": "IMvuNMA9pmDz"
      },
      "source": [
        " - re.sub()"
      ]
    },
    {
      "cell_type": "code",
      "metadata": {
        "colab": {
          "base_uri": "https://localhost:8080/",
          "height": 54
        },
        "id": "agOy_pS6pG_6",
        "outputId": "db4b8bbf-0d82-4f41-e165-6441b4fe3a2a"
      },
      "source": [
        "text=\"Regular expression : A regular expression, regex or regexp[1] (sometimes called a rational expression)[2][3] is, in theoretical computer science and formal language theory, a sequence of characters that define a search pattern.\"\n",
        "re.sub('[^a-zA-Z]',' ',text)"
      ],
      "execution_count": 30,
      "outputs": [
        {
          "output_type": "execute_result",
          "data": {
            "text/plain": [
              "'Regular expression   A regular expression  regex or regexp     sometimes called a rational expression        is  in theoretical computer science and formal language theory  a sequence of characters that define a search pattern '"
            ],
            "application/vnd.google.colaboratory.intrinsic+json": {
              "type": "string"
            }
          },
          "metadata": {},
          "execution_count": 30
        }
      ]
    },
    {
      "cell_type": "markdown",
      "metadata": {
        "id": "6ypWDGeuptnH"
      },
      "source": [
        "정규 표현식 텍스트 전처리 연습"
      ]
    },
    {
      "cell_type": "code",
      "metadata": {
        "id": "werXP728pwbr",
        "colab": {
          "base_uri": "https://localhost:8080/"
        },
        "outputId": "d781656e-79ef-477d-c846-53e2ef1afa3c"
      },
      "source": [
        "text = \"\"\"100 John    PROF\n",
        "101 James    STUD\n",
        "102 Mac    STUD\"\"\"\n",
        "re.split('\\s+', text)"
      ],
      "execution_count": 31,
      "outputs": [
        {
          "output_type": "execute_result",
          "data": {
            "text/plain": [
              "['100', 'John', 'PROF', '101', 'James', 'STUD', '102', 'Mac', 'STUD']"
            ]
          },
          "metadata": {},
          "execution_count": 31
        }
      ]
    },
    {
      "cell_type": "markdown",
      "metadata": {
        "id": "6wbXUkKRpzg-"
      },
      "source": [
        "'\\s+' 는 공백 여러 개를 기준으로 split\n"
      ]
    },
    {
      "cell_type": "code",
      "metadata": {
        "colab": {
          "base_uri": "https://localhost:8080/"
        },
        "id": "SW5hRr0jpwsB",
        "outputId": "d19bafbd-3c6f-4020-bf39-3ecf6204b9a8"
      },
      "source": [
        "re.findall('\\d+', text)"
      ],
      "execution_count": 32,
      "outputs": [
        {
          "output_type": "execute_result",
          "data": {
            "text/plain": [
              "['100', '101', '102']"
            ]
          },
          "metadata": {},
          "execution_count": 32
        }
      ]
    },
    {
      "cell_type": "markdown",
      "metadata": {
        "id": "L2zf6Da5p3m8"
      },
      "source": [
        "'\\d+' 숫자 문자열을 반환"
      ]
    },
    {
      "cell_type": "code",
      "metadata": {
        "colab": {
          "base_uri": "https://localhost:8080/"
        },
        "id": "FzITueLxp480",
        "outputId": "df95b68a-094f-46c7-f841-e4fee53409a0"
      },
      "source": [
        "re.findall('[A-Z]', text)"
      ],
      "execution_count": 33,
      "outputs": [
        {
          "output_type": "execute_result",
          "data": {
            "text/plain": [
              "['J', 'P', 'R', 'O', 'F', 'J', 'S', 'T', 'U', 'D', 'M', 'S', 'T', 'U', 'D']"
            ]
          },
          "metadata": {},
          "execution_count": 33
        }
      ]
    },
    {
      "cell_type": "code",
      "metadata": {
        "colab": {
          "base_uri": "https://localhost:8080/"
        },
        "id": "oJ5NciT0pwvz",
        "outputId": "646d2b9c-d8ad-41d0-de30-85cb5e3be569"
      },
      "source": [
        "re.findall('[A-Z]{4}',text)"
      ],
      "execution_count": 34,
      "outputs": [
        {
          "output_type": "execute_result",
          "data": {
            "text/plain": [
              "['PROF', 'STUD', 'STUD']"
            ]
          },
          "metadata": {},
          "execution_count": 34
        }
      ]
    },
    {
      "cell_type": "code",
      "metadata": {
        "colab": {
          "base_uri": "https://localhost:8080/"
        },
        "id": "Qh4Bddxvpwz3",
        "outputId": "a531e6d2-0ca1-4bcd-81ab-5648a315562f"
      },
      "source": [
        "re.findall('[A-Z][a-z]+', text)"
      ],
      "execution_count": 35,
      "outputs": [
        {
          "output_type": "execute_result",
          "data": {
            "text/plain": [
              "['John', 'James', 'Mac']"
            ]
          },
          "metadata": {},
          "execution_count": 35
        }
      ]
    },
    {
      "cell_type": "markdown",
      "source": [
        "#2. 뉴스 수집"
      ],
      "metadata": {
        "id": "OV3yCggGLHWz"
      }
    },
    {
      "cell_type": "code",
      "source": [
        "from bs4 import BeautifulSoup\n",
        "import urllib\n",
        "import numpy as np\n",
        "import pandas as pd\n",
        "import time\n",
        "\n",
        "#----------------------------------------------#\n",
        "#변경할 부분\n",
        "startdate = \"2023.04.01\"\n",
        "enddate = \"2023.04.01\"\n",
        "searchword = \"전기차\" #검색어\n",
        "#----------------------------------------------#\n",
        "\n",
        "base_url = \"https://search.naver.com/search.naver?where=news&sm=tab_pge&query\"+urllib.parse.urlencode([('',searchword)], doseq=True)+\"&sort=1&photo=3&field=0&pd=3&ds=\"+startdate+\"&de=\"+enddate+\"&mynews=1&office_type=0&office_section_code=0&news_office_checked=&nso=so:dd,p:from\"+startdate.replace(\".\", \"\")+\"to\"+enddate.replace(\".\", \"\")+\",a:all&mynews=0&start=\"\n",
        "titles = [ ]\n",
        "urls = [ ]\n",
        "i=1\n",
        "\n",
        "while True:\n",
        " try:\n",
        "    time.sleep(0.45)\n",
        "    url = base_url+str(i)\n",
        "    html = urllib.request.urlopen(url).read()\n",
        "    soup = BeautifulSoup(html, 'html.parser')\n",
        "    t_url = soup.select('a[href^=\"https://n.news.naver.com/mnews/article/\"]')  #클래스 표시\n",
        "    t_len = len(t_url)\n",
        "    if t_len <1:\n",
        "        break\n",
        "\n",
        "    for j in np.arange(t_len)+1:\n",
        "            try:\n",
        "                url = soup.select('a[href^=\"https://n.news.naver.com/mnews/article/\"]')[j]['href']\n",
        "                urls.append(url)\n",
        "            except Exception as e:\n",
        "                continue\n",
        "    i=i+10\n",
        "\n",
        " except Exception as e:\n",
        "    continue\n",
        "\n",
        "result = pd.DataFrame({\"Url\": urls})\n",
        "#result.Url[0] #1행 출력"
      ],
      "metadata": {
        "id": "DDtrZy-A4t1U"
      },
      "execution_count": 37,
      "outputs": []
    },
    {
      "cell_type": "code",
      "source": [
        "\"news.naver.com\" in result.Url[0]"
      ],
      "metadata": {
        "colab": {
          "base_uri": "https://localhost:8080/"
        },
        "id": "6n8kTOG42bZZ",
        "outputId": "2e2d340a-cbfe-4b81-e59a-6e76a295299a"
      },
      "execution_count": 38,
      "outputs": [
        {
          "output_type": "execute_result",
          "data": {
            "text/plain": [
              "True"
            ]
          },
          "metadata": {},
          "execution_count": 38
        }
      ]
    },
    {
      "cell_type": "markdown",
      "source": [
        " - 본문 수집"
      ],
      "metadata": {
        "id": "1PFFIKQUyUpF"
      }
    },
    {
      "cell_type": "code",
      "source": [
        "articles = []\n",
        "dates = []\n",
        "likes = []\n",
        "\n",
        "for i in result.Url:\n",
        "   try:\n",
        "    if( \"news.naver.com\" in i ):\n",
        "     print(i)\n",
        "     time.sleep(0.45)\n",
        "     html = urllib.request.urlopen(i).read()\n",
        "     soup = BeautifulSoup(html, 'html.parser')\n",
        "    article = soup.find('article', {'id': 'dic_area'})\n",
        "    for tag in article.find_all(['span', 'strong']):\n",
        "      tag.decompose()\n",
        "    for br in article.find_all('br'):\n",
        "      br.replace_with('\\n')\n",
        "    news = article.get_text(strip=True, separator='\\n')\n",
        "    articles.append(news)\n",
        "    time_span = soup.find('span', class_='_ARTICLE_DATE_TIME')\n",
        "    news_time = time_span.get('data-date-time')\n",
        "    dates.append(news_time)\n",
        "   except Exception as e:\n",
        "    print(e)\n",
        "    continue\n"
      ],
      "metadata": {
        "id": "RpxuhJDuyGD7",
        "colab": {
          "base_uri": "https://localhost:8080/"
        },
        "outputId": "103dd9f4-9b69-41e8-8de6-fd4a6b85b37e"
      },
      "execution_count": 39,
      "outputs": [
        {
          "output_type": "stream",
          "name": "stdout",
          "text": [
            "https://n.news.naver.com/mnews/article/008/0004869466?sid=101\n",
            "https://n.news.naver.com/mnews/article/277/0005239464?sid=101\n",
            "https://n.news.naver.com/mnews/article/023/0003755355?sid=110\n",
            "https://n.news.naver.com/mnews/article/020/0003488833?sid=105\n",
            "https://n.news.naver.com/mnews/article/353/0000044615?sid=101\n",
            "https://n.news.naver.com/mnews/article/015/0004827510?sid=101\n",
            "https://n.news.naver.com/mnews/article/011/0004174019?sid=104\n",
            "https://n.news.naver.com/mnews/article/015/0004827508?sid=101\n",
            "https://n.news.naver.com/mnews/article/011/0004174018?sid=101\n"
          ]
        }
      ]
    },
    {
      "cell_type": "code",
      "source": [
        "# 수집된 내용을 표로 정리하기, news컬럼, date컬럼\n",
        "train_data = pd.DataFrame({'articles':articles, 'date':dates})\n",
        "train_data"
      ],
      "metadata": {
        "id": "pbrwdRK05FeV",
        "colab": {
          "base_uri": "https://localhost:8080/",
          "height": 332
        },
        "outputId": "7b141bca-12cb-43c5-b8ec-f4094f354862"
      },
      "execution_count": 40,
      "outputs": [
        {
          "output_type": "execute_result",
          "data": {
            "text/plain": [
              "                                            articles                 date\n",
              "0  [편집자주] 지난해 원자재 가격 급상승으로 전세계 증시가 충격을 먹었습니다. 갈 곳...  2023-04-01 10:00:00\n",
              "1  한국에서 생산한 양극재·음극재 등 배터리 소재가 들어간 전기차도 미국에서 보조금을 ...  2023-04-01 05:01:07\n",
              "2  지난 30여 년간 줄곧 흑자를 냈던 대(對)중국 무역이 올 들어 적자로 돌아섰다. ...  2023-04-01 03:09:01\n",
              "3  전기차의 급속 충전 성능을 높이거나 주행거리를 늘리려면 배터리 열을 안정적으로 관리...  2023-04-01 03:01:50\n",
              "4  미국의 인플레이션 감축법(IRA) 중 전기차 세액공제와 관련한 세부 규정이 발표됐다...  2023-04-01 01:00:01\n",
              "5  미국 인플레이션 감축법(IRA) 세부지침이 31일 발표됨에 따라 현대자동차, LG에...  2023-04-01 00:09:01\n",
              "6  [서울경제]\\n미국 정부가 인플레이션감축법(IRA) 세부 지침에서 미국과 자유무역협...  2023-04-01 00:05:01\n",
              "7  한국산 양극재(양극 활물질)와 음극재(음극 활물질)로 제조된 배터리가 들어간 전기자...  2023-04-01 00:05:03\n",
              "8  [서울경제]\\n미국이 인플레이션감축법(IRA)에 따른 전기차 배터리 세부 지침에서 ...  2023-04-01 00:04:01"
            ],
            "text/html": [
              "\n",
              "  <div id=\"df-f6774c0d-cc1e-45bb-8449-5f088ff340e2\" class=\"colab-df-container\">\n",
              "    <div>\n",
              "<style scoped>\n",
              "    .dataframe tbody tr th:only-of-type {\n",
              "        vertical-align: middle;\n",
              "    }\n",
              "\n",
              "    .dataframe tbody tr th {\n",
              "        vertical-align: top;\n",
              "    }\n",
              "\n",
              "    .dataframe thead th {\n",
              "        text-align: right;\n",
              "    }\n",
              "</style>\n",
              "<table border=\"1\" class=\"dataframe\">\n",
              "  <thead>\n",
              "    <tr style=\"text-align: right;\">\n",
              "      <th></th>\n",
              "      <th>articles</th>\n",
              "      <th>date</th>\n",
              "    </tr>\n",
              "  </thead>\n",
              "  <tbody>\n",
              "    <tr>\n",
              "      <th>0</th>\n",
              "      <td>[편집자주] 지난해 원자재 가격 급상승으로 전세계 증시가 충격을 먹었습니다. 갈 곳...</td>\n",
              "      <td>2023-04-01 10:00:00</td>\n",
              "    </tr>\n",
              "    <tr>\n",
              "      <th>1</th>\n",
              "      <td>한국에서 생산한 양극재·음극재 등 배터리 소재가 들어간 전기차도 미국에서 보조금을 ...</td>\n",
              "      <td>2023-04-01 05:01:07</td>\n",
              "    </tr>\n",
              "    <tr>\n",
              "      <th>2</th>\n",
              "      <td>지난 30여 년간 줄곧 흑자를 냈던 대(對)중국 무역이 올 들어 적자로 돌아섰다. ...</td>\n",
              "      <td>2023-04-01 03:09:01</td>\n",
              "    </tr>\n",
              "    <tr>\n",
              "      <th>3</th>\n",
              "      <td>전기차의 급속 충전 성능을 높이거나 주행거리를 늘리려면 배터리 열을 안정적으로 관리...</td>\n",
              "      <td>2023-04-01 03:01:50</td>\n",
              "    </tr>\n",
              "    <tr>\n",
              "      <th>4</th>\n",
              "      <td>미국의 인플레이션 감축법(IRA) 중 전기차 세액공제와 관련한 세부 규정이 발표됐다...</td>\n",
              "      <td>2023-04-01 01:00:01</td>\n",
              "    </tr>\n",
              "    <tr>\n",
              "      <th>5</th>\n",
              "      <td>미국 인플레이션 감축법(IRA) 세부지침이 31일 발표됨에 따라 현대자동차, LG에...</td>\n",
              "      <td>2023-04-01 00:09:01</td>\n",
              "    </tr>\n",
              "    <tr>\n",
              "      <th>6</th>\n",
              "      <td>[서울경제]\\n미국 정부가 인플레이션감축법(IRA) 세부 지침에서 미국과 자유무역협...</td>\n",
              "      <td>2023-04-01 00:05:01</td>\n",
              "    </tr>\n",
              "    <tr>\n",
              "      <th>7</th>\n",
              "      <td>한국산 양극재(양극 활물질)와 음극재(음극 활물질)로 제조된 배터리가 들어간 전기자...</td>\n",
              "      <td>2023-04-01 00:05:03</td>\n",
              "    </tr>\n",
              "    <tr>\n",
              "      <th>8</th>\n",
              "      <td>[서울경제]\\n미국이 인플레이션감축법(IRA)에 따른 전기차 배터리 세부 지침에서 ...</td>\n",
              "      <td>2023-04-01 00:04:01</td>\n",
              "    </tr>\n",
              "  </tbody>\n",
              "</table>\n",
              "</div>\n",
              "    <div class=\"colab-df-buttons\">\n",
              "\n",
              "  <div class=\"colab-df-container\">\n",
              "    <button class=\"colab-df-convert\" onclick=\"convertToInteractive('df-f6774c0d-cc1e-45bb-8449-5f088ff340e2')\"\n",
              "            title=\"Convert this dataframe to an interactive table.\"\n",
              "            style=\"display:none;\">\n",
              "\n",
              "  <svg xmlns=\"http://www.w3.org/2000/svg\" height=\"24px\" viewBox=\"0 -960 960 960\">\n",
              "    <path d=\"M120-120v-720h720v720H120Zm60-500h600v-160H180v160Zm220 220h160v-160H400v160Zm0 220h160v-160H400v160ZM180-400h160v-160H180v160Zm440 0h160v-160H620v160ZM180-180h160v-160H180v160Zm440 0h160v-160H620v160Z\"/>\n",
              "  </svg>\n",
              "    </button>\n",
              "\n",
              "  <style>\n",
              "    .colab-df-container {\n",
              "      display:flex;\n",
              "      gap: 12px;\n",
              "    }\n",
              "\n",
              "    .colab-df-convert {\n",
              "      background-color: #E8F0FE;\n",
              "      border: none;\n",
              "      border-radius: 50%;\n",
              "      cursor: pointer;\n",
              "      display: none;\n",
              "      fill: #1967D2;\n",
              "      height: 32px;\n",
              "      padding: 0 0 0 0;\n",
              "      width: 32px;\n",
              "    }\n",
              "\n",
              "    .colab-df-convert:hover {\n",
              "      background-color: #E2EBFA;\n",
              "      box-shadow: 0px 1px 2px rgba(60, 64, 67, 0.3), 0px 1px 3px 1px rgba(60, 64, 67, 0.15);\n",
              "      fill: #174EA6;\n",
              "    }\n",
              "\n",
              "    .colab-df-buttons div {\n",
              "      margin-bottom: 4px;\n",
              "    }\n",
              "\n",
              "    [theme=dark] .colab-df-convert {\n",
              "      background-color: #3B4455;\n",
              "      fill: #D2E3FC;\n",
              "    }\n",
              "\n",
              "    [theme=dark] .colab-df-convert:hover {\n",
              "      background-color: #434B5C;\n",
              "      box-shadow: 0px 1px 3px 1px rgba(0, 0, 0, 0.15);\n",
              "      filter: drop-shadow(0px 1px 2px rgba(0, 0, 0, 0.3));\n",
              "      fill: #FFFFFF;\n",
              "    }\n",
              "  </style>\n",
              "\n",
              "    <script>\n",
              "      const buttonEl =\n",
              "        document.querySelector('#df-f6774c0d-cc1e-45bb-8449-5f088ff340e2 button.colab-df-convert');\n",
              "      buttonEl.style.display =\n",
              "        google.colab.kernel.accessAllowed ? 'block' : 'none';\n",
              "\n",
              "      async function convertToInteractive(key) {\n",
              "        const element = document.querySelector('#df-f6774c0d-cc1e-45bb-8449-5f088ff340e2');\n",
              "        const dataTable =\n",
              "          await google.colab.kernel.invokeFunction('convertToInteractive',\n",
              "                                                    [key], {});\n",
              "        if (!dataTable) return;\n",
              "\n",
              "        const docLinkHtml = 'Like what you see? Visit the ' +\n",
              "          '<a target=\"_blank\" href=https://colab.research.google.com/notebooks/data_table.ipynb>data table notebook</a>'\n",
              "          + ' to learn more about interactive tables.';\n",
              "        element.innerHTML = '';\n",
              "        dataTable['output_type'] = 'display_data';\n",
              "        await google.colab.output.renderOutput(dataTable, element);\n",
              "        const docLink = document.createElement('div');\n",
              "        docLink.innerHTML = docLinkHtml;\n",
              "        element.appendChild(docLink);\n",
              "      }\n",
              "    </script>\n",
              "  </div>\n",
              "\n",
              "\n",
              "    <div id=\"df-34b1ef27-27ad-4ecd-aa46-c3418a8f7bf5\">\n",
              "      <button class=\"colab-df-quickchart\" onclick=\"quickchart('df-34b1ef27-27ad-4ecd-aa46-c3418a8f7bf5')\"\n",
              "                title=\"Suggest charts\"\n",
              "                style=\"display:none;\">\n",
              "\n",
              "<svg xmlns=\"http://www.w3.org/2000/svg\" height=\"24px\"viewBox=\"0 0 24 24\"\n",
              "     width=\"24px\">\n",
              "    <g>\n",
              "        <path d=\"M19 3H5c-1.1 0-2 .9-2 2v14c0 1.1.9 2 2 2h14c1.1 0 2-.9 2-2V5c0-1.1-.9-2-2-2zM9 17H7v-7h2v7zm4 0h-2V7h2v10zm4 0h-2v-4h2v4z\"/>\n",
              "    </g>\n",
              "</svg>\n",
              "      </button>\n",
              "\n",
              "<style>\n",
              "  .colab-df-quickchart {\n",
              "      --bg-color: #E8F0FE;\n",
              "      --fill-color: #1967D2;\n",
              "      --hover-bg-color: #E2EBFA;\n",
              "      --hover-fill-color: #174EA6;\n",
              "      --disabled-fill-color: #AAA;\n",
              "      --disabled-bg-color: #DDD;\n",
              "  }\n",
              "\n",
              "  [theme=dark] .colab-df-quickchart {\n",
              "      --bg-color: #3B4455;\n",
              "      --fill-color: #D2E3FC;\n",
              "      --hover-bg-color: #434B5C;\n",
              "      --hover-fill-color: #FFFFFF;\n",
              "      --disabled-bg-color: #3B4455;\n",
              "      --disabled-fill-color: #666;\n",
              "  }\n",
              "\n",
              "  .colab-df-quickchart {\n",
              "    background-color: var(--bg-color);\n",
              "    border: none;\n",
              "    border-radius: 50%;\n",
              "    cursor: pointer;\n",
              "    display: none;\n",
              "    fill: var(--fill-color);\n",
              "    height: 32px;\n",
              "    padding: 0;\n",
              "    width: 32px;\n",
              "  }\n",
              "\n",
              "  .colab-df-quickchart:hover {\n",
              "    background-color: var(--hover-bg-color);\n",
              "    box-shadow: 0 1px 2px rgba(60, 64, 67, 0.3), 0 1px 3px 1px rgba(60, 64, 67, 0.15);\n",
              "    fill: var(--button-hover-fill-color);\n",
              "  }\n",
              "\n",
              "  .colab-df-quickchart-complete:disabled,\n",
              "  .colab-df-quickchart-complete:disabled:hover {\n",
              "    background-color: var(--disabled-bg-color);\n",
              "    fill: var(--disabled-fill-color);\n",
              "    box-shadow: none;\n",
              "  }\n",
              "\n",
              "  .colab-df-spinner {\n",
              "    border: 2px solid var(--fill-color);\n",
              "    border-color: transparent;\n",
              "    border-bottom-color: var(--fill-color);\n",
              "    animation:\n",
              "      spin 1s steps(1) infinite;\n",
              "  }\n",
              "\n",
              "  @keyframes spin {\n",
              "    0% {\n",
              "      border-color: transparent;\n",
              "      border-bottom-color: var(--fill-color);\n",
              "      border-left-color: var(--fill-color);\n",
              "    }\n",
              "    20% {\n",
              "      border-color: transparent;\n",
              "      border-left-color: var(--fill-color);\n",
              "      border-top-color: var(--fill-color);\n",
              "    }\n",
              "    30% {\n",
              "      border-color: transparent;\n",
              "      border-left-color: var(--fill-color);\n",
              "      border-top-color: var(--fill-color);\n",
              "      border-right-color: var(--fill-color);\n",
              "    }\n",
              "    40% {\n",
              "      border-color: transparent;\n",
              "      border-right-color: var(--fill-color);\n",
              "      border-top-color: var(--fill-color);\n",
              "    }\n",
              "    60% {\n",
              "      border-color: transparent;\n",
              "      border-right-color: var(--fill-color);\n",
              "    }\n",
              "    80% {\n",
              "      border-color: transparent;\n",
              "      border-right-color: var(--fill-color);\n",
              "      border-bottom-color: var(--fill-color);\n",
              "    }\n",
              "    90% {\n",
              "      border-color: transparent;\n",
              "      border-bottom-color: var(--fill-color);\n",
              "    }\n",
              "  }\n",
              "</style>\n",
              "\n",
              "      <script>\n",
              "        async function quickchart(key) {\n",
              "          const quickchartButtonEl =\n",
              "            document.querySelector('#' + key + ' button');\n",
              "          quickchartButtonEl.disabled = true;  // To prevent multiple clicks.\n",
              "          quickchartButtonEl.classList.add('colab-df-spinner');\n",
              "          try {\n",
              "            const charts = await google.colab.kernel.invokeFunction(\n",
              "                'suggestCharts', [key], {});\n",
              "          } catch (error) {\n",
              "            console.error('Error during call to suggestCharts:', error);\n",
              "          }\n",
              "          quickchartButtonEl.classList.remove('colab-df-spinner');\n",
              "          quickchartButtonEl.classList.add('colab-df-quickchart-complete');\n",
              "        }\n",
              "        (() => {\n",
              "          let quickchartButtonEl =\n",
              "            document.querySelector('#df-34b1ef27-27ad-4ecd-aa46-c3418a8f7bf5 button');\n",
              "          quickchartButtonEl.style.display =\n",
              "            google.colab.kernel.accessAllowed ? 'block' : 'none';\n",
              "        })();\n",
              "      </script>\n",
              "    </div>\n",
              "\n",
              "  <div id=\"id_8b251c61-ca88-45bd-ae7f-ddea4d21f17c\">\n",
              "    <style>\n",
              "      .colab-df-generate {\n",
              "        background-color: #E8F0FE;\n",
              "        border: none;\n",
              "        border-radius: 50%;\n",
              "        cursor: pointer;\n",
              "        display: none;\n",
              "        fill: #1967D2;\n",
              "        height: 32px;\n",
              "        padding: 0 0 0 0;\n",
              "        width: 32px;\n",
              "      }\n",
              "\n",
              "      .colab-df-generate:hover {\n",
              "        background-color: #E2EBFA;\n",
              "        box-shadow: 0px 1px 2px rgba(60, 64, 67, 0.3), 0px 1px 3px 1px rgba(60, 64, 67, 0.15);\n",
              "        fill: #174EA6;\n",
              "      }\n",
              "\n",
              "      [theme=dark] .colab-df-generate {\n",
              "        background-color: #3B4455;\n",
              "        fill: #D2E3FC;\n",
              "      }\n",
              "\n",
              "      [theme=dark] .colab-df-generate:hover {\n",
              "        background-color: #434B5C;\n",
              "        box-shadow: 0px 1px 3px 1px rgba(0, 0, 0, 0.15);\n",
              "        filter: drop-shadow(0px 1px 2px rgba(0, 0, 0, 0.3));\n",
              "        fill: #FFFFFF;\n",
              "      }\n",
              "    </style>\n",
              "    <button class=\"colab-df-generate\" onclick=\"generateWithVariable('train_data')\"\n",
              "            title=\"Generate code using this dataframe.\"\n",
              "            style=\"display:none;\">\n",
              "\n",
              "  <svg xmlns=\"http://www.w3.org/2000/svg\" height=\"24px\"viewBox=\"0 0 24 24\"\n",
              "       width=\"24px\">\n",
              "    <path d=\"M7,19H8.4L18.45,9,17,7.55,7,17.6ZM5,21V16.75L18.45,3.32a2,2,0,0,1,2.83,0l1.4,1.43a1.91,1.91,0,0,1,.58,1.4,1.91,1.91,0,0,1-.58,1.4L9.25,21ZM18.45,9,17,7.55Zm-12,3A5.31,5.31,0,0,0,4.9,8.1,5.31,5.31,0,0,0,1,6.5,5.31,5.31,0,0,0,4.9,4.9,5.31,5.31,0,0,0,6.5,1,5.31,5.31,0,0,0,8.1,4.9,5.31,5.31,0,0,0,12,6.5,5.46,5.46,0,0,0,6.5,12Z\"/>\n",
              "  </svg>\n",
              "    </button>\n",
              "    <script>\n",
              "      (() => {\n",
              "      const buttonEl =\n",
              "        document.querySelector('#id_8b251c61-ca88-45bd-ae7f-ddea4d21f17c button.colab-df-generate');\n",
              "      buttonEl.style.display =\n",
              "        google.colab.kernel.accessAllowed ? 'block' : 'none';\n",
              "\n",
              "      buttonEl.onclick = () => {\n",
              "        google.colab.notebook.generateWithVariable('train_data');\n",
              "      }\n",
              "      })();\n",
              "    </script>\n",
              "  </div>\n",
              "\n",
              "    </div>\n",
              "  </div>\n"
            ],
            "application/vnd.google.colaboratory.intrinsic+json": {
              "type": "dataframe",
              "variable_name": "train_data",
              "summary": "{\n  \"name\": \"train_data\",\n  \"rows\": 9,\n  \"fields\": [\n    {\n      \"column\": \"articles\",\n      \"properties\": {\n        \"dtype\": \"string\",\n        \"num_unique_values\": 9,\n        \"samples\": [\n          \"\\ud55c\\uad6d\\uc0b0 \\uc591\\uadf9\\uc7ac(\\uc591\\uadf9 \\ud65c\\ubb3c\\uc9c8)\\uc640 \\uc74c\\uadf9\\uc7ac(\\uc74c\\uadf9 \\ud65c\\ubb3c\\uc9c8)\\ub85c \\uc81c\\uc870\\ub41c \\ubc30\\ud130\\ub9ac\\uac00 \\ub4e4\\uc5b4\\uac04 \\uc804\\uae30\\uc790\\ub3d9\\ucc28\\uac00 \\ubbf8\\uad6d \\uc778\\ud50c\\ub808\\uc774\\uc158 \\uac10\\ucd95\\ubc95(IRA)\\uc758 \\ubcf4\\uc870\\uae08\\uc744 \\ubc1b\\ub294\\ub2e4. \\uc9c0\\uae08\\ucc98\\ub7fc \\ud55c\\uad6d\\uc5d0\\uc11c \\uc0dd\\uc0b0\\ud55c \\ubd84\\ub9d0 \\ud615\\ud0dc\\uc758 \\uc591\\uadf9\\uc7ac\\uc640 \\uc74c\\uadf9\\uc7ac\\ub97c \\ubbf8\\uad6d\\uc73c\\ub85c \\uc218\\ucd9c\\ud574 \\ud604\\uc9c0\\uc5d0\\uc11c \\ubc30\\ud130\\ub9ac \\ubd80\\ud488\\uc73c\\ub85c \\uc644\\uc131\\ud574\\ub3c4 \\ubbf8\\uad6d \\ub0b4 \\uc804\\uae30\\ucc28 \\ubcf4\\uc870\\uae08 \\ub300\\uc0c1\\uc5d0 \\ud3ec\\ud568\\ub418\\ub294 \\uac83\\uc774\\ub2e4.\\n\\ubbf8 \\uc7ac\\ubb34\\ubd80\\ub294 31\\uc77c IRA\\uc0c1 \\uc138\\uc561\\uacf5\\uc81c \\uc138\\ubd80 \\uc9c0\\uce68\\uc744 \\uacf5\\uac1c\\ud558\\uace0 \\ud574\\ub2f9 \\uaddc\\uc815\\uc744 4\\uc6d4 18\\uc77c\\ubd80\\ud130 \\uc2dc\\ud589\\ud55c\\ub2e4\\uace0 \\ubc1d\\ud614\\ub2e4. 4\\uc6d4 18\\uc77c\\uc744 \\uae30\\uc900\\uc73c\\ub85c \\ubd81\\ubbf8\\uc0b0 \\ubc30\\ud130\\ub9ac \\ubd80\\ud488\\uc744 50%(2029\\ub144 100%) \\uc774\\uc0c1 \\uc4f0\\uac70\\ub098, \\ubbf8\\uad6d\\uacfc \\uc790\\uc720\\ubb34\\uc5ed\\ud611\\uc815(FTA)\\uc744 \\uccb4\\uacb0\\ud55c \\uad6d\\uac00\\uc640 \\uc77c\\ubcf8 \\ub4f1\\uc5d0\\uc11c \\uac00\\uacf5\\ud55c \\ubc30\\ud130\\ub9ac \\uad11\\ubb3c\\uc744 40%(2027\\ub144 80%) \\uc774\\uc0c1 \\uc0ac\\uc6a9\\ud558\\uba74 \\uc804\\uae30\\ucc28 \\ud55c \\ub300\\uc5d0 \\uac01\\uac01 \\ucd5c\\ub300 3750\\ub2ec\\ub7ec\\uc758 \\uc138\\uc561\\uacf5\\uc81c \\ud61c\\ud0dd\\uc744 \\ubc1b\\ub294\\ub2e4.\\n\\ud574\\uc678\\uc5d0\\uc11c \\ucc44\\uad74\\ud55c \\uad11\\ubb3c\\uc774\\uc5b4\\ub3c4 \\ud55c\\uad6d \\ub4f1\\uc5d0\\uc11c 50% \\uc774\\uc0c1\\uc758 \\ubd80\\uac00\\uac00\\uce58\\ub97c \\ub354\\ud558\\ub294 \\ud615\\ud0dc\\ub85c \\uac00\\uacf5\\ud558\\uba74 \\ubbf8\\uad6d\\uc5d0\\uc11c \\ucd5c\\ub300 3750\\ub2ec\\ub7ec\\uc758 \\uc138\\uc561\\uacf5\\uc81c\\ub97c \\ubc1b\\ub294\\ub2e4. \\ud55c\\uad6d\\uc0b0 \\uc591\\uadf9 \\ud65c\\ubb3c\\uc9c8\\uacfc \\uc74c\\uadf9 \\ud65c\\ubb3c\\uc9c8\\uc744 \\ubbf8\\uad6d\\uc73c\\ub85c \\uc218\\ucd9c\\ud574 \\ubbf8\\uad6d\\uc5d0\\uc11c \\uc591\\uadf9\\ud310\\uacfc \\uc74c\\uadf9\\ud310 \\ub4f1\\uc73c\\ub85c \\uc0dd\\uc0b0\\ud574\\ub3c4 \\ub098\\uba38\\uc9c0 3750\\ub2ec\\ub7ec\\uc758 \\ubcf4\\uc870\\uae08\\uc744 \\ubc1b\\uc744 \\uc218 \\uc788\\uac8c \\ub41c\\ub2e4.\\n\\uc6cc\\uc2f1\\ud134=\\uc815\\uc778\\uc124 \\ud2b9\\ud30c\\uc6d0/\\uae40\\uc77c\\uaddc \\uae30\\uc790 surisuri@hankyung.com\",\n          \"\\ud55c\\uad6d\\uc5d0\\uc11c \\uc0dd\\uc0b0\\ud55c \\uc591\\uadf9\\uc7ac\\u00b7\\uc74c\\uadf9\\uc7ac \\ub4f1 \\ubc30\\ud130\\ub9ac \\uc18c\\uc7ac\\uac00 \\ub4e4\\uc5b4\\uac04 \\uc804\\uae30\\ucc28\\ub3c4 \\ubbf8\\uad6d\\uc5d0\\uc11c \\ubcf4\\uc870\\uae08\\uc744 \\ubc1b\\uc744 \\uc218 \\uc788\\uac8c \\ub410\\ub2e4. \\uc0dd\\uc0b0\\uc744 \\uc704\\ud574 \\ud604\\uc9c0 \\uacf5\\uc7a5\\uc744 \\uad73\\uc774 \\uc9d3\\uc9c0 \\uc54a\\uace0 \\ud55c\\uad6d\\uc5d0\\uc11c \\uc0dd\\uc0b0\\ud574\\ub3c4 \\ubcf4\\uc870\\uae08 \\ub4f1\\uc758 \\ud61c\\ud0dd\\uc744 \\ubcfc \\uc218 \\uc788\\ub2e4\\ub294 \\uac83\\uc774\\ub2e4. \\uad6d\\ub0b4 \\ubc30\\ud130\\ub9ac \\uc81c\\uc870 \\uc0dd\\ud0dc\\uacc4\\ub294 \\uc77c\\uc815 \\ubd80\\ubd84 \\uc9c0\\ucf30\\ub2e4\\ub294 \\ud3c9\\uac00\\uac00 \\ub098\\uc628\\ub2e4.\\n\\ubbf8\\uad6d \\uc7ac\\ubb34\\ubd80\\ub294 31\\uc77c(\\ud604\\uc9c0\\uc2dc\\uac04) \\uc774 \\uac19\\uc740 \\ub0b4\\uc6a9\\uc758 \\uc778\\ud50c\\ub808\\uc774\\uc158 \\uac10\\ucd95\\ubc95(IRA) \\uc804\\uae30\\ucc28 \\uc138\\uc561\\uacf5\\uc81c \\uc138\\ubd80 \\uc9c0\\uce68 \\uaddc\\uc815\\uc548\\uc744 \\ubc1c\\ud45c\\ud588\\ub2e4. \\uc8fc\\uc694 \\ub0b4\\uc6a9\\uc740 \\u25b2\\ubd81\\ubbf8\\uc5d0\\uc11c \\uc81c\\uc870 \\ub610\\ub294 \\uc870\\ub9bd\\ud55c \\ubd80\\ud488\\uc744 \\uc804\\uae30\\ucc28 \\ubc30\\ud130\\ub9ac\\uc5d0 50%(2029\\ub144 100%\\ub85c \\uc5f0\\ub3c4\\ubcc4 \\ub2e8\\uacc4\\uc801 \\uc0c1\\uc2b9) \\uc774\\uc0c1 \\uc0ac\\uc6a9\\ud55c \\uacbd\\uc6b0 \\u25b2\\ubc30\\ud130\\ub9ac\\uc5d0 \\ub4e4\\uc5b4\\uac00\\ub294 \\ud575\\uc2ec \\uad11\\ubb3c\\uc758 40%(2027\\ub144 80% \\uc774\\uc0c1\\uc73c\\ub85c \\uc5f0\\ub3c4\\ubcc4 \\ub2e8\\uacc4\\uc801 \\uc0c1\\uc2b9) \\uc774\\uc0c1\\uc744 \\ubbf8\\uad6d\\uc774\\ub098 \\ubbf8\\uad6d\\uacfc \\uc790\\uc720\\ubb34\\uc5ed\\ud611\\uc815(FTA)\\uc744 \\uccb4\\uacb0\\ud55c \\uad6d\\uac00\\uc5d0\\uc11c \\ucc44\\uad74\\u00b7\\uac00\\uacf5\\ud55c \\uacbd\\uc6b0\\uc5d0 \\ud574\\ub2f9\\ud558\\uba74 \\uac01\\uac01 3750\\ub2ec\\ub7ec(\\uc57d 489\\ub9cc\\uc6d0)\\uc758 \\ubcf4\\uc870\\uae08\\uc744 \\ubc1b\\uc744 \\uc218 \\uc788\\ub2e4. \\uc804\\uae30\\ucc28 1\\ub300\\ub2f9 \\ucd5c\\ub300 7500\\ub2ec\\ub7ec(\\uc57d 978\\ub9cc\\uc6d0) \\ubcf4\\uc870\\uae08\\uc744 \\ubc1b\\uc744 \\uc218 \\uc788\\ub294 \\uac83\\uc774\\ub2e4. \\ud574\\ub2f9 \\uaddc\\uc815\\uc740 4\\uc6d418\\uc77c\\ubd80\\ud130 \\uc2dc\\ud589\\ud55c\\ub2e4.\\n\\uc774\\ubc88 \\ubc1c\\ud45c\\uc758 \\ud575\\uc2ec\\uc740 \\uc591\\uadf9\\uc7ac\\u00b7\\uc74c\\uadf9\\uc7ac \\ub4f1\\uc758 '\\ubc30\\ud130\\ub9ac \\uad11\\ubb3c' \\ud3ec\\ud568 \\uc5ec\\ubd80\\uc640 \\ucca8\\ub2e8 \\uc81c\\uc870 \\uc0dd\\uc0b0\\uc138\\uc561\\uacf5\\uc81c(AMPC) \\uc870\\uc815 \\uc5ec\\ubd80\\uc600\\ub2e4.\\n\\uc7ac\\ubb34\\ubd80\\ub294 \\uc774\\ubc88\\uc5d0 \\ubc1c\\ud45c\\ud55c \\uaddc\\uc815\\uc5d0\\uc11c \\ubc30\\ud130\\ub9ac \\ubd80\\ud488\\uc744 \\uc74c\\uadf9\\ud310, \\uc591\\uadf9\\ud310, \\ubd84\\ub9ac\\ub9c9, \\uc804\\ud574\\uc9c8, \\ubc30\\ud130\\ub9ac \\uc140, \\ubaa8\\ub4c8 \\ub4f1\\uc73c\\ub85c \\uc815\\uc758\\ud588\\ub2e4. \\uadf8\\ub7ec\\ub098 \\uc74c\\uadf9\\ud310\\uc774\\ub098 \\uc591\\uadf9\\ud310\\uc744 \\ub9cc\\ub4dc\\ub294 \\ub370 \\uc0ac\\uc6a9\\ud558\\ub294 '\\uad6c\\uc131 \\uc7ac\\ub8cc'\\ub294 \\ubc30\\ud130\\ub9ac \\ubd80\\ud488\\uc5d0 \\ud3ec\\ud568\\ud558\\uc9c0 \\uc54a\\uae30\\ub85c \\ud588\\ub2e4.\\n\\ubc30\\ud130\\ub9ac \\uc6d0\\uac00\\uc758 50% \\uc774\\uc0c1\\uc744 \\ucc28\\uc9c0\\ud558\\ub294 \\uc591\\uadf9\\uc7ac\\uc640 \\uc74c\\uadf9\\uc7ac \\ub4f1 \\ud575\\uc2ec\\uc18c\\uc7ac\\ub294 '\\uad11\\ubb3c'\\ub85c \\uc815\\uc758\\ud588\\ub2e4. \\ubc30\\ud130\\ub9ac \\uad11\\ubb3c\\uc758 \\uacbd\\uc6b0, \\ubbf8\\uad6d\\uacfc FTA\\ub97c \\uccb4\\uacb0\\ud558\\uc9c0 \\uc54a\\uc740 \\uad6d\\uac00\\uc5d0\\uc11c \\uc218\\uc785\\ud55c \\uc7ac\\ub8cc\\ub97c \\ubbf8\\uad6d\\uacfc FTA\\ub97c \\ub9fa\\uc740 \\uad6d\\uac00\\uc5d0\\uc11c \\uac00\\uacf5\\ud574 \\ubd80\\uac00\\uac00\\uce58 50% \\uc774\\uc0c1\\uc744 \\uc62c\\ub9b4 \\uc218 \\uc788\\ub2e4\\uba74 \\ubcf4\\uc870\\uae08\\uc744 \\ubc1b\\uc744 \\uc218 \\uc788\\ub2e4. \\ud55c\\uad6d \\ubc30\\ud130\\ub9ac \\uae30\\uc5c5\\ub4e4\\uc740 \\uc804\\uad6c\\uccb4(\\uc591\\uadf9\\uc7ac \\uc6d0\\ub8cc)\\ub97c \\uc911\\uad6d\\uc73c\\ub85c\\ubd80\\ud130 \\uc218\\uc785\\ud574 \\uc591\\uadf9\\uc7ac\\ub97c \\uc0dd\\uc0b0\\ud55c\\ub2e4. \\uc774\\ubc88 IRA \\uc138\\ubd80 \\uaddc\\uc815 \\ubc1c\\ud45c\\ub85c \\uc774\\uac19\\uc740 \\uc0dd\\uc0b0 \\uccb4\\uc81c\\ub97c \\ub2f9\\ubd84\\uac04\\uc740 \\uc720\\uc9c0\\ud560 \\uc218 \\uc788\\uc744 \\uac83\\uc73c\\ub85c \\ubcf4\\uc778\\ub2e4. \\ub354\\ubd88\\uc5b4 \\uc778\\ub3c4\\ub124\\uc2dc\\uc544\\ub098 \\uc544\\ub974\\ud5e8\\ud2f0\\ub098 \\ub4f1 \\ubbf8\\uad6d FTA\\uccb4\\uacb0\\uad6d\\uc774 \\uc544\\ub2cc \\uad6d\\uac00\\uc5d0\\uc11c \\ub9ac\\ud2ac\\u00b7\\ub2c8\\ucf08 \\ub4f1 \\uc6d0\\uc790\\uc7ac\\ub97c \\ud655\\ubcf4\\ud55c \\ud55c\\uad6d \\ubc30\\ud130\\ub9ac \\uae30\\uc5c5\\ub4e4\\uc740 \\uc774\\ubc88 \\uc138\\ubd80 \\uaddc\\uc815 \\ubcc0\\ud654\\ub85c \\uc6d0\\uc790\\uc7ac \\uc218\\uae09\\uc744 \\ubcf4\\ub2e4 \\uc548\\uc815\\ud654\\ud560 \\uc218 \\uc788\\uac8c \\ub410\\ub2e4.\\n\\ubc30\\ud130\\ub9ac\\uc140 \\uae30\\uc900 1\\u33beh\\ub2f9 35\\ub2ec\\ub7ec, \\ubaa8\\ub4c8\\uae4c\\uc9c0 \\uc0dd\\uc0b0\\ud558\\uba74 45\\ub2ec\\ub7ec \\uc218\\uc900\\uc758 \\ubcf4\\uc870\\uae08(\\uc138\\uc561\\uacf5\\uc81c \\ud615\\ud0dc)\\uc744 \\uc9c0\\uae09\\ud55c\\ub2e4. \\ubd81\\ubbf8\\uc11c \\ub300\\uaddc\\ubaa8 \\ubc30\\ud130\\ub9ac\\ub97c \\uc0dd\\uc0b0\\ud558\\ub294 \\uad6d\\ub0b4 \\ubc30\\ud130\\ub9ac 3\\uc0ac\\ub294 \\uc870(\\u5146)\\ub2e8\\uc704 \\ubcf4\\uc870\\uae08\\uc744 \\ubc1b\\uc744 \\uc218 \\uc788\\uc744 \\uac83\\uc73c\\ub85c \\uae30\\ub300\\ub41c\\ub2e4. LG\\uc5d0\\ub108\\uc9c0\\uc194\\ub8e8\\uc158\\uc740 \\uc138\\uc561\\uacf5\\uc81c\\uac00 \\uc601\\uc5c5\\uc774\\uc775\\uc73c\\ub85c \\ud68c\\uacc4\\ucc98\\ub9ac\\ub420 \\uacbd\\uc6b0 \\uc62c\\ud574 4700\\uc5b5\\uc6d0, 2024\\ub144 1\\uc8701000\\uc5b5\\uc6d0, 2025\\ub144 2\\uc8702000\\uc5b5\\uc6d0\\uc758 \\uc774\\uc775\\uc744 \\ubcfc \\uac83\\uc73c\\ub85c \\ucd94\\uc815\\ub41c\\ub2e4.(\\ud55c\\uad6d\\ud22c\\uc790\\uc99d\\uad8c \\uc790\\ub8cc)\",\n          \"\\ubbf8\\uad6d \\uc778\\ud50c\\ub808\\uc774\\uc158 \\uac10\\ucd95\\ubc95(IRA) \\uc138\\ubd80\\uc9c0\\uce68\\uc774 31\\uc77c \\ubc1c\\ud45c\\ub428\\uc5d0 \\ub530\\ub77c \\ud604\\ub300\\uc790\\ub3d9\\ucc28, LG\\uc5d0\\ub108\\uc9c0\\uc194\\ub8e8\\uc158 \\ub4f1 \\ud55c\\uad6d \\uc790\\ub3d9\\ucc28\\uc640 \\ubc30\\ud130\\ub9ac \\uc5c5\\uccb4\\ub4e4\\uc740 \\uace7\\ubc14\\ub85c \\ub300\\uc751\\ubc29\\uc548 \\ub9c8\\ub828\\uc5d0 \\ub4e4\\uc5b4\\uac14\\ub2e4. \\ud604\\ub300\\ucc28\\ub294 \\ubbf8\\uad6d \\ud604\\uc9c0 \\uc804\\uae30\\ucc28 \\uc0dd\\uc0b0\\uc744 \\uc55e\\ub2f9\\uae30\\uae30\\ub85c \\ud588\\uc73c\\uba70, \\ubc30\\ud130\\ub9ac\\uc5c5\\uacc4\\ub294 \\uadf8\\ub3d9\\uc548 \\uc694\\uad6c\\ud558\\ub358 \\uc0ac\\ud56d\\uc774 \\uc0c1\\ub2f9 \\ubd80\\ubd84 \\ubc18\\uc601\\ub41c \\ub9cc\\ud07c \\uae30\\uc874 \\uc0dd\\uc0b0\\uccb4\\uc81c\\uc5d0 \\uc9d1\\uc911\\ud55c\\ub2e4\\ub294 \\uacc4\\ud68d\\uc774\\ub2e4.\\n\\ubbf8 \\uc7ac\\ubb34\\ubd80\\uac00 \\uc774\\ub0a0 \\uacf5\\uac1c\\ud55c IRA \\uc804\\uae30\\ucc28 \\uad6c\\ub9e4 \\uc138\\uc561\\uacf5\\uc81c \\uc138\\ubd80 \\uc694\\uac74\\uc740 \\uc9c0\\ub09c\\ud574 \\ubc1d\\ud78c \\ub0b4\\uc6a9\\uc758 \\ud070 \\ud2c0\\uc744 \\uc720\\uc9c0\\ud588\\ub2e4. \\uc138 \\uac00\\uc9c0 \\uc694\\uac74\\uc744 \\ucda9\\uc871\\ud574\\uc57c \\uc804\\uae30\\ucc28 \\ud55c \\ub300\\uc5d0 \\ucd5c\\ub300 7500\\ub2ec\\ub7ec\\uc758 \\ubcf4\\uc870\\uae08 \\ud61c\\ud0dd\\uc744 \\uc8fc\\uaca0\\ub2e4\\ub294 \\uac83\\uc774 \\ud575\\uc2ec\\uc774\\ub2e4.\\n\\uc6b0\\uc120 \\uae30\\ubcf8\\uc801\\uc73c\\ub85c \\ubd81\\ubbf8\\uc5d0\\uc11c \\ucd5c\\uc885 \\uc870\\ub9bd\\ud55c \\uc804\\uae30\\ucc28\\ub9cc \\uc138\\uc561\\uacf5\\uc81c\\ub97c \\ubc1b\\uc744 \\uc218 \\uc788\\ub2e4. \\uc5ec\\uae30\\uc5d0 \\ubbf8\\uad6d \\ub610\\ub294 \\ubbf8\\uad6d\\uacfc \\uc790\\uc720\\ubb34\\uc5ed\\ud611\\uc815(FTA)\\uc744 \\uccb4\\uacb0\\ud55c \\uad6d\\uac00\\uc5d0\\uc11c \\ubc30\\ud130\\ub9ac \\uad11\\ubb3c\\uc744 \\uc870\\ub2ec\\ud574\\uc57c \\ud55c\\ub2e4\\ub294 \\uc870\\uac74\\uc774 \\ubd99\\ub294\\ub2e4. 4\\uc6d4 18\\uc77c\\ubd80\\ud130 \\ubc30\\ud130\\ub9ac \\uad11\\ubb3c \\uc870\\ub2ec\\ube44\\uc728 40%\\ub97c \\ucda9\\uc871\\ud574\\uc57c 3750\\ub2ec\\ub7ec\\uc758 \\uc138\\uc561\\uacf5\\uc81c\\ub97c \\ubc1b\\uc744 \\uc218 \\uc788\\ub2e4. \\uc774 \\ube44\\uc728\\uc740 \\ub2e8\\uacc4\\uc801\\uc73c\\ub85c 2027\\ub144 80%\\uae4c\\uc9c0 \\ub192\\uc544\\uc9c4\\ub2e4. \\ubd81\\ubbf8\\uc0b0 \\ubc30\\ud130\\ub9ac \\ubd80\\ud488 \\uc870\\ub2ec\\ube44\\uc728\\ub3c4 \\ucda9\\uc871\\ud574\\uc57c \\ud55c\\ub2e4. \\uc5ed\\uc2dc 18\\uc77c\\ubd80\\ud130 50% \\uc870\\ub2ec\\ube44\\uc728\\uc744 \\ub9de\\ucdb0\\uc57c \\ub098\\uba38\\uc9c0 3750\\ub2ec\\ub7ec\\ub97c \\ubc1b\\uc744 \\uc218 \\uc788\\ub2e4. \\uc804\\uae30\\ucc28 1\\ub300\\uc5d0 \\ucd1d 7500\\ub2ec\\ub7ec\\uc758 \\uc138\\uc561\\uacf5\\uc81c\\ub97c \\ubaa8\\ub450 \\ubc1b\\uc744 \\uc218 \\uc788\\uac8c \\ub418\\ub294 \\uc148\\uc774\\ub2e4.\\n\\ud604\\ub300\\ucc28\\ub294 \\uc9c0\\ub09c 2\\uc6d4\\ubd80\\ud130 GV70 \\uc804\\uae30\\ucc28\\ub97c \\uc568\\ub77c\\ubc30\\ub9c8 \\uacf5\\uc7a5\\uc5d0\\uc11c \\uc0dd\\uc0b0\\ud558\\uae30 \\uc2dc\\uc791\\ud574 \\uc870\\ub9cc\\uac04 \\ucc98\\uc74c\\uc73c\\ub85c \\ubcf4\\uc870\\uae08\\uc744 \\ubc1b\\uc744 \\uc218 \\uc788\\uc744 \\uac83\\uc73c\\ub85c \\ubcf4\\uc778\\ub2e4. \\uae30\\uc544 \\uc5ed\\uc2dc \\uae30\\uc874 \\uc870\\uc9c0\\uc544 \\uacf5\\uc7a5\\uc5d0\\uc11c \\ucd94\\uac00 \\uc804\\uae30\\ucc28 \\uc0dd\\uc0b0\\uc744 \\uac80\\ud1a0\\ud558\\uace0 \\ub098\\uc130\\ub2e4. 2025\\ub144 \\uac00\\ub3d9\\uc744 \\ubaa9\\ud45c\\ub85c \\uac74\\uc124 \\uc911\\uc778 \\uc870\\uc9c0\\uc544 \\uc804\\uae30\\ucc28 \\uc2e0\\uacf5\\uc7a5 \\uc644\\uacf5\\ub3c4 \\uc55e\\ub2f9\\uae30\\uae30\\ub85c \\ud588\\ub2e4.\\n\\uc870\\uc9c0\\uc544 \\uc2e0\\uacf5\\uc7a5\\uc740 \\uc5f0\\uac04 \\ucd5c\\ub300 30\\ub9cc \\ub300 \\uc0dd\\uc0b0\\uc774 \\uac00\\ub2a5\\ud55c \\uc804\\uae30\\ucc28 \\uc804\\uc6a9\\uacf5\\uc7a5\\uc774\\ub2e4. \\ud604\\ub300\\ucc28, \\uae30\\uc544, \\uc81c\\ub124\\uc2dc\\uc2a4 \\ub4f1 3\\uac1c \\ube0c\\ub79c\\ub4dc \\uc804\\uae30\\ucc28\\ub97c \\ubaa8\\ub450 \\uc0dd\\uc0b0\\ud560 \\uacc4\\ud68d\\uc774\\ub2e4. \\uccab \\uc591\\uc0b0 \\ubaa8\\ub378\\uc740 \\ud604\\ub300\\ucc28 \\uc2e0\\ud615 \\uc544\\uc774\\uc624\\ub2c9 5\\ub2e4.\\n\\ubbf8 \\uc7ac\\ubb34\\ubd80\\ub294 \\uc774\\ubc88\\uc5d0 \\ubc1c\\ud45c\\ud55c \\uc9c0\\uce68\\uc5d0\\uc11c \\ubc30\\ud130\\ub9ac \\ubd80\\ud488\\uc744 \\uc74c\\uadf9\\ud310, \\uc591\\uadf9\\ud310, \\ubd84\\ub9ac\\ub9c9, \\uc804\\ud574\\uc9c8, \\ubc30\\ud130\\ub9ac \\uc140, \\ubaa8\\ub4c8 \\ub4f1\\uc73c\\ub85c \\uc815\\uc758\\ud588\\ub2e4. \\uadf8\\ub7ec\\ub098 \\uc74c\\uadf9\\ud310\\uc774\\ub098 \\uc591\\uadf9\\ud310\\uc744 \\ub9cc\\ub4dc\\ub294 \\ub370 \\uc0ac\\uc6a9\\ud558\\ub294 \\u2018\\uad6c\\uc131 \\uc7ac\\ub8cc\\u2019\\ub294 \\ubc30\\ud130\\ub9ac \\ubd80\\ud488\\uc5d0 \\ud3ec\\ud568\\ud558\\uc9c0 \\uc54a\\uace0 \\uad11\\ubb3c\\ub85c \\uaddc\\uc815\\ud588\\ub2e4.\\n\\ud55c\\uad6d \\ubc30\\ud130\\ub9ac \\uc5c5\\uccb4\\uc758 \\uacbd\\uc6b0 \\uad6c\\uc131 \\uc7ac\\ub8cc\\uc778 \\uc591\\uadf9 \\ud65c\\ubb3c\\uc9c8 \\ub4f1\\uc740 \\uad6d\\ub0b4\\uc5d0\\uc11c, \\uc774\\ud6c4 \\uc74c\\uadf9\\ud310\\uc774\\ub098 \\uc591\\uadf9\\ud310\\uc744 \\ub9cc\\ub4dc\\ub294 \\ub2e8\\uacc4\\ub294 \\ubbf8\\uad6d\\uc5d0\\uc11c \\uc9c4\\ud589\\ud558\\ub294 \\uac83\\uc73c\\ub85c \\uc54c\\ub824\\uc84c\\ub2e4. \\uc774\\ub300\\ub85c\\uba74 \\ud55c\\uad6d \\uc5c5\\uccb4\\ub4e4\\uc740 \\ud604\\uc7ac \\uacf5\\uc815\\uc744 \\ubc14\\uafb8\\uc9c0 \\uc54a\\uc544\\ub3c4 IRA \\ubcf4\\uc870\\uae08 \\uc9c0\\uae09 \\ub300\\uc0c1\\uc774 \\ub420 \\uc218 \\uc788\\ub2e4.\\n\\ud575\\uc2ec \\uad11\\ubb3c\\uacfc \\uad00\\ub828, \\ubbf8\\uad6d\\uacfc FTA\\ub97c \\uccb4\\uacb0\\ud558\\uc9c0 \\uc54a\\uc740 \\uad6d\\uac00\\uc5d0\\uc11c \\ucd94\\ucd9c\\ud55c \\uacbd\\uc6b0\\uc5d0\\ub3c4 FTA \\uccb4\\uacb0\\uad6d\\uc5d0\\uc11c \\uac00\\uacf5\\ud574 \\uc77c\\uc815 \\uae30\\uc900\\uc744 \\ucda9\\uc871\\ud558\\uba74 \\ubcf4\\uc870\\uae08 \\ub300\\uc0c1\\uc73c\\ub85c \\uc778\\uc815\\ud574\\uc8fc\\uae30\\ub85c \\ud588\\ub2e4. \\uc778\\ub3c4\\ub124\\uc2dc\\uc544\\ub098 \\uc544\\ub974\\ud5e8\\ud2f0\\ub098 \\ub4f1 \\ubbf8\\uad6d\\uacfc FTA\\ub97c \\uccb4\\uacb0\\ud558\\uc9c0 \\uc54a\\uc740 \\uad6d\\uac00\\ub85c\\ubd80\\ud130 \\uc218\\uc785\\ud55c \\uad11\\ubb3c\\uc744 \\ud55c\\uad6d\\uc5d0\\uc11c \\uac00\\uacf5\\ud574 \\ubd80\\uac00\\uac00\\uce58 \\uae30\\uc900(50% \\uc774\\uc0c1)\\uc744 \\ucda9\\uc871\\ud558\\uba74 \\ubcf4\\uc870\\uae08\\uc744 \\ubc1b\\uc744 \\uc218 \\uc788\\ub2e4\\ub294 \\uc598\\uae30\\ub2e4.\\n\\uc774\\ub7f0 \\uc870\\uac74\\uc740 \\uadf8\\ub3d9\\uc548 \\ud55c\\uad6d \\uc5c5\\uccb4\\ub4e4\\uc774 \\uc694\\uad6c\\ud574\\uc628 \\uac83\\uc774\\ub2e4. \\ubbf8 \\uc815\\ubd80\\uac00 \\ud55c\\uad6d \\uc5c5\\uccb4\\ub4e4\\uc758 \\uc785\\uc7a5\\uc744 \\uc0c1\\ub2f9 \\ubd80\\ubd84 \\ubc18\\uc601\\ud574 \\uc138\\ubd80\\uc9c0\\uce68\\uc744 \\ub9c8\\ub828\\ud568\\uc5d0 \\ub530\\ub77c \\ud55c\\uad6d \\ubc30\\ud130\\ub9ac \\uc5c5\\uccb4\\ub4e4\\uc740 \\uc548\\uc2ec\\ud558\\ub294 \\ubd84\\uc704\\uae30\\ub2e4. \\uc815\\ubd80 \\uad00\\uacc4\\uc790\\ub294 \\u201c\\ud55c\\uad6d \\uc5c5\\uccb4\\ub4e4\\uc740 \\ud604\\uc7ac \\uacf5\\uc815\\uc744 \\ubc14\\uafb8\\uc9c0 \\uc54a\\uc544\\ub3c4 \\ubcf4\\uc870\\uae08 \\ub300\\uc0c1\\uc5d0 \\ud3ec\\ud568\\ub420 \\uc218 \\uc788\\uac8c \\ub410\\uae30 \\ub54c\\ubb38\\uc5d0 \\uc5c5\\uccb4\\ub4e4\\uc5d0 \\uc720\\ub9ac\\ud558\\uac8c \\uaddc\\uc815\\uc774 \\ub098\\uc628 \\uac83\\uc73c\\ub85c \\ud310\\ub2e8\\ub41c\\ub2e4\\u201d\\uace0 \\ub9d0\\ud588\\ub2e4.\\n\\u2018\\uc0dd\\uc0b0\\uc138\\uc561\\uacf5\\uc81c(AMPC)\\u2019\\uc5d0 \\ub530\\ub77c \\ubc30\\ud130\\ub9ac \\uc5c5\\uccb4\\ub4e4\\uc740 \\ud604\\uc9c0\\uc5d0\\uc11c \\uc0dd\\uc0b0\\ud55c \\ubc30\\ud130\\ub9ac \\uc140(\\u33beh\\ub2f9 35\\ub2ec\\ub7ec)\\uacfc \\ubaa8\\ub4c8(\\u33beh\\ub2f9 10\\ub2ec\\ub7ec)\\uc5d0 \\ub300\\ud574\\uc11c\\ub3c4 \\uc138\\uc561\\uacf5\\uc81c \\ud615\\ud0dc\\uc758 \\ubcf4\\uc870\\uae08\\uc744 \\ubc1b\\ub294\\ub2e4. \\uc99d\\uad8c\\uc5c5\\uacc4\\ub294 \\ubc30\\ud130\\ub9ac 3\\uc0ac\\uac00 \\ud604\\uc9c0\\uc5d0\\uc11c \\uc81c\\uc870\\ud558\\ub294 \\uc0dd\\uc0b0 \\uaddc\\ubaa8\\ub97c \\uae30\\uc900\\uc73c\\ub85c \\uacc4\\uc0b0\\ud574 \\uc5f0\\uac04 \\uc870(\\u5146) \\ub2e8\\uc704 \\ubcf4\\uc870\\uae08\\uc744 \\uc218\\ub839\\ud560 \\uc218 \\uc788\\uc744 \\uac83\\uc73c\\ub85c \\uacc4\\uc0b0\\ud558\\uace0 \\uc788\\ub2e4.\\n\\uae40\\uc77c\\uaddc \\uae30\\uc790/\\uc6cc\\uc2f1\\ud134=\\uc815\\uc778\\uc124 \\ud2b9\\ud30c\\uc6d0 black0419@hankyung.com\"\n        ],\n        \"semantic_type\": \"\",\n        \"description\": \"\"\n      }\n    },\n    {\n      \"column\": \"date\",\n      \"properties\": {\n        \"dtype\": \"object\",\n        \"num_unique_values\": 9,\n        \"samples\": [\n          \"2023-04-01 00:05:03\",\n          \"2023-04-01 05:01:07\",\n          \"2023-04-01 00:09:01\"\n        ],\n        \"semantic_type\": \"\",\n        \"description\": \"\"\n      }\n    }\n  ]\n}"
            }
          },
          "metadata": {},
          "execution_count": 40
        }
      ]
    },
    {
      "cell_type": "markdown",
      "source": [
        "#3. Selenium 사용하기\n",
        "-\n",
        "- 헤드리스 크롬 설치 → 드라이버 준비 → JS 렌더링 대기 → 클릭/페이지네이션 → 무한스크롤 → CSV 저장/스크린샷"
      ],
      "metadata": {
        "id": "ZiKAOWYxEtBF"
      }
    },
    {
      "cell_type": "code",
      "source": [
        "# 필수 패키지\n",
        "!pip -q install selenium webdriver-manager pandas bs4\n",
        "\n",
        "# 크롬 설치 (Colab용)\n",
        "!apt-get update -y\n",
        "!apt-get install -y wget gnupg unzip\n",
        "!wget -q https://dl.google.com/linux/direct/google-chrome-stable_current_amd64.deb\n",
        "!dpkg -i google-chrome-stable_current_amd64.deb || apt-get -fy install\n"
      ],
      "metadata": {
        "colab": {
          "base_uri": "https://localhost:8080/"
        },
        "id": "3DG_y3kzEuuw",
        "outputId": "9f3ec27a-24e6-449e-a8c3-467e0ceb2cb2"
      },
      "execution_count": 41,
      "outputs": [
        {
          "output_type": "stream",
          "name": "stdout",
          "text": [
            "\u001b[2K   \u001b[90m━━━━━━━━━━━━━━━━━━━━━━━━━━━━━━━━━━━━━━━━\u001b[0m \u001b[32m9.6/9.6 MB\u001b[0m \u001b[31m105.8 MB/s\u001b[0m eta \u001b[36m0:00:00\u001b[0m\n",
            "\u001b[2K   \u001b[90m━━━━━━━━━━━━━━━━━━━━━━━━━━━━━━━━━━━━━━━━\u001b[0m \u001b[32m499.2/499.2 kB\u001b[0m \u001b[31m37.3 MB/s\u001b[0m eta \u001b[36m0:00:00\u001b[0m\n",
            "Get:1 https://cloud.r-project.org/bin/linux/ubuntu jammy-cran40/ InRelease [3,632 B]\n",
            "Get:2 https://developer.download.nvidia.com/compute/cuda/repos/ubuntu2204/x86_64  InRelease [1,581 B]\n",
            "Hit:3 https://cli.github.com/packages stable InRelease\n",
            "Get:4 https://developer.download.nvidia.com/compute/cuda/repos/ubuntu2204/x86_64  Packages [1,937 kB]\n",
            "Hit:5 http://archive.ubuntu.com/ubuntu jammy InRelease\n",
            "Get:6 http://security.ubuntu.com/ubuntu jammy-security InRelease [129 kB]\n",
            "Get:7 http://archive.ubuntu.com/ubuntu jammy-updates InRelease [128 kB]\n",
            "Hit:8 https://r2u.stat.illinois.edu/ubuntu jammy InRelease\n",
            "Get:9 http://archive.ubuntu.com/ubuntu jammy-backports InRelease [127 kB]\n",
            "Hit:10 https://ppa.launchpadcontent.net/deadsnakes/ppa/ubuntu jammy InRelease\n",
            "Get:11 http://archive.ubuntu.com/ubuntu jammy-updates/restricted amd64 Packages [5,361 kB]\n",
            "Hit:12 https://ppa.launchpadcontent.net/graphics-drivers/ppa/ubuntu jammy InRelease\n",
            "Hit:13 https://ppa.launchpadcontent.net/ubuntugis/ppa/ubuntu jammy InRelease\n",
            "Get:14 http://archive.ubuntu.com/ubuntu jammy-updates/universe amd64 Packages [1,575 kB]\n",
            "Get:15 http://archive.ubuntu.com/ubuntu jammy-updates/main amd64 Packages [3,544 kB]\n",
            "Fetched 12.8 MB in 2s (8,352 kB/s)\n",
            "Reading package lists... Done\n",
            "W: Skipping acquire of configured file 'main/source/Sources' as repository 'https://r2u.stat.illinois.edu/ubuntu jammy InRelease' does not seem to provide it (sources.list entry misspelt?)\n",
            "Reading package lists... Done\n",
            "Building dependency tree... Done\n",
            "Reading state information... Done\n",
            "gnupg is already the newest version (2.2.27-3ubuntu2.4).\n",
            "gnupg set to manually installed.\n",
            "unzip is already the newest version (6.0-26ubuntu3.2).\n",
            "wget is already the newest version (1.21.2-2ubuntu1.1).\n",
            "0 upgraded, 0 newly installed, 0 to remove and 36 not upgraded.\n",
            "Selecting previously unselected package google-chrome-stable.\n",
            "(Reading database ... 126380 files and directories currently installed.)\n",
            "Preparing to unpack google-chrome-stable_current_amd64.deb ...\n",
            "Unpacking google-chrome-stable (139.0.7258.127-1) ...\n",
            "\u001b[1mdpkg:\u001b[0m dependency problems prevent configuration of google-chrome-stable:\n",
            " google-chrome-stable depends on libvulkan1; however:\n",
            "  Package libvulkan1 is not installed.\n",
            "\n",
            "\u001b[1mdpkg:\u001b[0m error processing package google-chrome-stable (--install):\n",
            " dependency problems - leaving unconfigured\n",
            "Processing triggers for mailcap (3.70+nmu1ubuntu1) ...\n",
            "Processing triggers for man-db (2.10.2-1) ...\n",
            "Errors were encountered while processing:\n",
            " google-chrome-stable\n",
            "Reading package lists... Done\n",
            "Building dependency tree... Done\n",
            "Reading state information... Done\n",
            "Correcting dependencies... Done\n",
            "The following additional packages will be installed:\n",
            "  libvulkan1 mesa-vulkan-drivers\n",
            "The following NEW packages will be installed:\n",
            "  libvulkan1 mesa-vulkan-drivers\n",
            "0 upgraded, 2 newly installed, 0 to remove and 36 not upgraded.\n",
            "1 not fully installed or removed.\n",
            "Need to get 10.9 MB of archives.\n",
            "After this operation, 51.3 MB of additional disk space will be used.\n",
            "Get:1 http://archive.ubuntu.com/ubuntu jammy/main amd64 libvulkan1 amd64 1.3.204.1-2 [128 kB]\n",
            "Get:2 http://archive.ubuntu.com/ubuntu jammy-updates/main amd64 mesa-vulkan-drivers amd64 23.2.1-1ubuntu3.1~22.04.3 [10.7 MB]\n",
            "Fetched 10.9 MB in 1s (10.9 MB/s)\n",
            "Selecting previously unselected package libvulkan1:amd64.\n",
            "(Reading database ... 126498 files and directories currently installed.)\n",
            "Preparing to unpack .../libvulkan1_1.3.204.1-2_amd64.deb ...\n",
            "Unpacking libvulkan1:amd64 (1.3.204.1-2) ...\n",
            "Selecting previously unselected package mesa-vulkan-drivers:amd64.\n",
            "Preparing to unpack .../mesa-vulkan-drivers_23.2.1-1ubuntu3.1~22.04.3_amd64.deb ...\n",
            "Unpacking mesa-vulkan-drivers:amd64 (23.2.1-1ubuntu3.1~22.04.3) ...\n",
            "Setting up libvulkan1:amd64 (1.3.204.1-2) ...\n",
            "Setting up mesa-vulkan-drivers:amd64 (23.2.1-1ubuntu3.1~22.04.3) ...\n",
            "Setting up google-chrome-stable (139.0.7258.127-1) ...\n",
            "update-alternatives: using /usr/bin/google-chrome-stable to provide /usr/bin/x-www-browser (x-www-browser) in auto mode\n",
            "update-alternatives: using /usr/bin/google-chrome-stable to provide /usr/bin/gnome-www-browser (gnome-www-browser) in auto mode\n",
            "update-alternatives: using /usr/bin/google-chrome-stable to provide /usr/bin/google-chrome (google-chrome) in auto mode\n",
            "Processing triggers for libc-bin (2.35-0ubuntu3.8) ...\n",
            "/sbin/ldconfig.real: /usr/local/lib/libur_adapter_level_zero_v2.so.0 is not a symbolic link\n",
            "\n",
            "/sbin/ldconfig.real: /usr/local/lib/libumf.so.0 is not a symbolic link\n",
            "\n",
            "/sbin/ldconfig.real: /usr/local/lib/libtcm.so.1 is not a symbolic link\n",
            "\n",
            "/sbin/ldconfig.real: /usr/local/lib/libtbbbind_2_0.so.3 is not a symbolic link\n",
            "\n",
            "/sbin/ldconfig.real: /usr/local/lib/libtbbmalloc.so.2 is not a symbolic link\n",
            "\n",
            "/sbin/ldconfig.real: /usr/local/lib/libhwloc.so.15 is not a symbolic link\n",
            "\n",
            "/sbin/ldconfig.real: /usr/local/lib/libur_adapter_level_zero.so.0 is not a symbolic link\n",
            "\n",
            "/sbin/ldconfig.real: /usr/local/lib/libtbb.so.12 is not a symbolic link\n",
            "\n",
            "/sbin/ldconfig.real: /usr/local/lib/libur_adapter_opencl.so.0 is not a symbolic link\n",
            "\n",
            "/sbin/ldconfig.real: /usr/local/lib/libtbbmalloc_proxy.so.2 is not a symbolic link\n",
            "\n",
            "/sbin/ldconfig.real: /usr/local/lib/libur_loader.so.0 is not a symbolic link\n",
            "\n",
            "/sbin/ldconfig.real: /usr/local/lib/libtbbbind_2_5.so.3 is not a symbolic link\n",
            "\n",
            "/sbin/ldconfig.real: /usr/local/lib/libtbbbind.so.3 is not a symbolic link\n",
            "\n",
            "/sbin/ldconfig.real: /usr/local/lib/libtcm_debug.so.1 is not a symbolic link\n",
            "\n"
          ]
        }
      ]
    },
    {
      "cell_type": "code",
      "source": [
        "from selenium import webdriver\n",
        "from selenium.webdriver.chrome.service import Service\n",
        "from webdriver_manager.chrome import ChromeDriverManager\n",
        "from selenium.webdriver.chrome.options import Options\n",
        "\n",
        "def create_driver(headless: bool = True):\n",
        "    chrome_options = Options()\n",
        "    if headless:\n",
        "        chrome_options.add_argument(\"--headless=new\")  # 최신 헤드리스 모드\n",
        "    chrome_options.add_argument(\"--no-sandbox\")\n",
        "    chrome_options.add_argument(\"--disable-dev-shm-usage\")\n",
        "    chrome_options.add_argument(\"--window-size=1366,768\")\n",
        "    # 필요시 UA 지정\n",
        "    # chrome_options.add_argument(\"--user-agent=Mozilla/5.0 ...\")\n",
        "\n",
        "    # Colab에 설치된 Chrome 바이너리 명시 (안정)\n",
        "    chrome_options.binary_location = \"/usr/bin/google-chrome\"\n",
        "\n",
        "    service = Service(ChromeDriverManager().install())\n",
        "    driver = webdriver.Chrome(service=service, options=chrome_options)\n",
        "    return driver\n",
        "\n",
        "driver = create_driver(headless=True)\n",
        "driver.get(\"https://example.com\")\n",
        "print(driver.title)\n",
        "driver.quit()\n"
      ],
      "metadata": {
        "colab": {
          "base_uri": "https://localhost:8080/"
        },
        "id": "B9HBuQ0VFM8B",
        "outputId": "2b0533a6-e027-4c74-d28d-fda391361673"
      },
      "execution_count": 42,
      "outputs": [
        {
          "output_type": "stream",
          "name": "stdout",
          "text": [
            "Example Domain\n"
          ]
        }
      ]
    },
    {
      "cell_type": "markdown",
      "source": [
        "- 기본 패턴: JS 렌더링 대기 → 요소 추출 → CSV 저장"
      ],
      "metadata": {
        "id": "893fWF72FoCR"
      }
    },
    {
      "cell_type": "code",
      "source": [
        "import time, pandas as pd\n",
        "from bs4 import BeautifulSoup\n",
        "from selenium.webdriver.common.by import By\n",
        "from selenium.webdriver.support.ui import WebDriverWait\n",
        "from selenium.webdriver.support import expected_conditions as EC\n",
        "\n",
        "driver = create_driver(headless=True)\n",
        "driver.get(\"https://quotes.toscrape.com/js/\")\n",
        "\n",
        "# ① JS 렌더링 대기\n",
        "WebDriverWait(driver, 10).until(\n",
        "    EC.presence_of_all_elements_located((By.CSS_SELECTOR, \".quote\"))\n",
        ")\n",
        "\n",
        "# ② 파싱\n",
        "soup = BeautifulSoup(driver.page_source, \"html.parser\")\n",
        "rows = []\n",
        "for q in soup.select(\".quote\"):\n",
        "    text = q.select_one(\".text\").get_text(strip=True)\n",
        "    author = q.select_one(\".author\").get_text(strip=True)\n",
        "    tags = [t.get_text(strip=True) for t in q.select(\".tag\")]\n",
        "    rows.append({\"text\": text, \"author\": author, \"tags\": \", \".join(tags)})\n",
        "\n",
        "df = pd.DataFrame(rows)\n",
        "df.head()\n",
        "df.to_csv(\"/content/quotes_js.csv\", index=False, encoding=\"utf-8-sig\")\n",
        "print(\"저장 완료: /content/quotes_js.csv\")\n",
        "\n",
        "driver.quit()\n"
      ],
      "metadata": {
        "colab": {
          "base_uri": "https://localhost:8080/"
        },
        "id": "ux8ysoxaFM-l",
        "outputId": "7f4adb52-3526-4ab8-8c9f-150fc8dffdbd"
      },
      "execution_count": 43,
      "outputs": [
        {
          "output_type": "stream",
          "name": "stdout",
          "text": [
            "저장 완료: /content/quotes_js.csv\n"
          ]
        }
      ]
    },
    {
      "cell_type": "markdown",
      "source": [
        "- 페이지네이션"
      ],
      "metadata": {
        "id": "VI88EzzvFmRT"
      }
    },
    {
      "cell_type": "code",
      "source": [
        "from selenium.webdriver.common.by import By\n",
        "from selenium.webdriver.common.keys import Keys\n",
        "\n",
        "driver = create_driver(headless=True)\n",
        "driver.get(\"https://news.ycombinator.com/\")\n",
        "\n",
        "all_items = []\n",
        "\n",
        "for page in range(1, 4):  # 1~3페이지\n",
        "    WebDriverWait(driver, 10).until(\n",
        "        EC.presence_of_all_elements_located((By.CSS_SELECTOR, \".athing\"))\n",
        "    )\n",
        "    soup = BeautifulSoup(driver.page_source, \"html.parser\")\n",
        "\n",
        "    for row in soup.select(\".athing\"):\n",
        "        rank = row.select_one(\".rank\")\n",
        "        title_link = row.select_one(\".titleline a\")\n",
        "        if title_link:\n",
        "            all_items.append({\n",
        "                \"page\": page,\n",
        "                \"rank\": rank.get_text(strip=True) if rank else \"\",\n",
        "                \"title\": title_link.get_text(strip=True),\n",
        "                \"url\": title_link.get(\"href\", \"\")\n",
        "            })\n",
        "\n",
        "    # 다음 페이지로 (More 버튼 클릭)\n",
        "    more = driver.find_elements(By.LINK_TEXT, \"More\")\n",
        "    if not more:\n",
        "        break\n",
        "    more[0].click()\n",
        "    time.sleep(1)\n",
        "\n",
        "import pandas as pd\n",
        "df_hn = pd.DataFrame(all_items)\n",
        "df_hn.to_csv(\"/content/hn_3pages.csv\", index=False, encoding=\"utf-8-sig\")\n",
        "print(\"저장 완료: /content/hn_3pages.csv\")\n",
        "\n",
        "driver.quit()\n"
      ],
      "metadata": {
        "colab": {
          "base_uri": "https://localhost:8080/"
        },
        "id": "R2VzSR4cFNBE",
        "outputId": "62df0a3e-4ad0-4d86-818a-93d30948966f"
      },
      "execution_count": 44,
      "outputs": [
        {
          "output_type": "stream",
          "name": "stdout",
          "text": [
            "저장 완료: /content/hn_3pages.csv\n"
          ]
        }
      ]
    },
    {
      "cell_type": "markdown",
      "source": [
        "- 무한스크롤"
      ],
      "metadata": {
        "id": "HF5YkpLuFeza"
      }
    },
    {
      "cell_type": "code",
      "source": [
        "import time, pandas as pd\n",
        "from bs4 import BeautifulSoup\n",
        "\n",
        "def infinite_scroll_collect(url, item_selector, max_rounds=20, wait_sec=1.0):\n",
        "    driver = create_driver(headless=True)\n",
        "    driver.get(url)\n",
        "    last_height = driver.execute_script(\"return document.body.scrollHeight\")\n",
        "    rounds = 0\n",
        "\n",
        "    while rounds < max_rounds:\n",
        "        # 맨 아래까지 스크롤\n",
        "        driver.execute_script(\"window.scrollTo(0, document.body.scrollHeight);\")\n",
        "        time.sleep(wait_sec)\n",
        "\n",
        "        new_height = driver.execute_script(\"return document.body.scrollHeight\")\n",
        "        if new_height == last_height:\n",
        "            # 더 이상 로딩되는 게 없으면 종료\n",
        "            break\n",
        "        last_height = new_height\n",
        "        rounds += 1\n",
        "\n",
        "    # 파싱\n",
        "    soup = BeautifulSoup(driver.page_source, \"html.parser\")\n",
        "    items = soup.select(item_selector)\n",
        "    driver.quit()\n",
        "    return items\n",
        "\n",
        "# 예시: 데모용(실제 타겟 사이트의 셀렉터로 바꿔 쓰세요)\n",
        "items = infinite_scroll_collect(\n",
        "    url=\"https://news.ycombinator.com/\",\n",
        "    item_selector=\".athing\",\n",
        "    max_rounds=5,\n",
        "    wait_sec=0.7\n",
        ")\n",
        "print(\"수집된 요소 수:\", len(items))\n"
      ],
      "metadata": {
        "colab": {
          "base_uri": "https://localhost:8080/"
        },
        "id": "mVUj5-jZFNDQ",
        "outputId": "797bcc08-343d-4a1b-9f3c-c359115db93c"
      },
      "execution_count": 45,
      "outputs": [
        {
          "output_type": "stream",
          "name": "stdout",
          "text": [
            "수집된 요소 수: 30\n"
          ]
        }
      ]
    },
    {
      "cell_type": "markdown",
      "source": [
        "- 버튼클릭/스크린샷 등"
      ],
      "metadata": {
        "id": "m4TGqIyqFcYm"
      }
    },
    {
      "cell_type": "code",
      "source": [
        "import os"
      ],
      "metadata": {
        "id": "TkmKRkQQxrn3"
      },
      "execution_count": 47,
      "outputs": []
    },
    {
      "cell_type": "code",
      "source": [
        "driver = create_driver(headless=True)\n",
        "os.makedirs(\"/content/shots\", exist_ok=True)\n",
        "\n",
        "try:\n",
        "    driver.get(\"https://the-internet.herokuapp.com/dynamic_loading/2\")\n",
        "\n",
        "    # Start 버튼 클릭\n",
        "    start_btn = WebDriverWait(driver, 10).until(\n",
        "        EC.element_to_be_clickable((By.CSS_SELECTOR, \"#start button\"))\n",
        "    )\n",
        "    start_btn.click()\n",
        "\n",
        "    # 로딩 후 결과 텍스트가 나타날 때까지 대기\n",
        "    result = WebDriverWait(driver, 15).until(\n",
        "        EC.visibility_of_element_located((By.CSS_SELECTOR, \"#finish\"))\n",
        "    )\n",
        "    print(\"결과 텍스트:\", result.text)\n",
        "\n",
        "    shot_path = \"/content/shots/dynamic_loading.png\"\n",
        "    driver.save_screenshot(shot_path)\n",
        "    print(\"스크린샷 저장:\", shot_path)\n",
        "finally:\n",
        "    driver.quit()\n"
      ],
      "metadata": {
        "colab": {
          "base_uri": "https://localhost:8080/"
        },
        "id": "lhTFx3AWFNIH",
        "outputId": "91a63a0a-38e0-4c3d-a86e-801983f72cd4"
      },
      "execution_count": 48,
      "outputs": [
        {
          "output_type": "stream",
          "name": "stdout",
          "text": [
            "결과 텍스트: Hello World!\n",
            "스크린샷 저장: /content/shots/dynamic_loading.png\n"
          ]
        }
      ]
    },
    {
      "cell_type": "markdown",
      "source": [
        "#4. Playwright\n",
        "- (마이크로소프트가 만든) 오픈소스 브라우저 자동화 라이브러리이자 도구 세트\n",
        " - 자동 대기(auto-wait), 강력한 Locator(get_by_*, :has()), 트레이싱/비디오, 네트워크 인터셉트, 멀티 콘텍스트(독립 세션)\n",
        "- 크로스 브라우저: Chromium / Firefox / WebKit 지원, headless·headed 모두 OK\n",
        "- 자동 대기(Auto-wait): 클릭/입력/네비게이션 시 DOM 안정화까지 자동 대기 → flaky ↓\n",
        "- Locator 기반 셀렉터: get_by_role, get_by_text, CSS/XPath, :has() 등 강력\n",
        "- 멀티 컨텍스트: 독립 쿠키/세션(시크릿) 동시 실행, 모바일/지오로케이션/타임존 에뮬\n",
        "- 네트워크 인터셉트: 요청/응답 가로채기, mock 응답, 리소스 차단\n",
        "- 트레이싱/스크린샷/비디오: 디버깅/재현성 ↑ (테스트 자동화에도 최적)\n",
        "- Colab/Jupyter 친화: Async API 권장(이벤트 루프 충돌 없음)"
      ],
      "metadata": {
        "id": "tdY8qqpzJyk9"
      }
    },
    {
      "cell_type": "code",
      "source": [
        "!pip -q install playwright\n",
        "!playwright install --with-deps chromium"
      ],
      "metadata": {
        "colab": {
          "base_uri": "https://localhost:8080/"
        },
        "id": "7vWnBXH8yclP",
        "outputId": "aec6bfe4-7df9-4fa0-d094-deff7380ecc8"
      },
      "execution_count": 49,
      "outputs": [
        {
          "output_type": "stream",
          "name": "stdout",
          "text": [
            "\u001b[2K   \u001b[90m━━━━━━━━━━━━━━━━━━━━━━━━━━━━━━━━━━━━━━━━\u001b[0m \u001b[32m45.9/45.9 MB\u001b[0m \u001b[31m30.6 MB/s\u001b[0m eta \u001b[36m0:00:00\u001b[0m\n",
            "\u001b[?25hInstalling dependencies...\n",
            "Hit:1 https://cli.github.com/packages stable InRelease\n",
            "Hit:2 https://cloud.r-project.org/bin/linux/ubuntu jammy-cran40/ InRelease\n",
            "Hit:3 https://developer.download.nvidia.com/compute/cuda/repos/ubuntu2204/x86_64  InRelease\n",
            "Hit:4 http://security.ubuntu.com/ubuntu jammy-security InRelease\n",
            "Hit:5 http://archive.ubuntu.com/ubuntu jammy InRelease\n",
            "Get:6 http://archive.ubuntu.com/ubuntu jammy-updates InRelease [128 kB]\n",
            "Hit:7 https://r2u.stat.illinois.edu/ubuntu jammy InRelease\n",
            "Hit:8 http://archive.ubuntu.com/ubuntu jammy-backports InRelease\n",
            "Hit:9 https://ppa.launchpadcontent.net/deadsnakes/ppa/ubuntu jammy InRelease\n",
            "Hit:10 https://ppa.launchpadcontent.net/graphics-drivers/ppa/ubuntu jammy InRelease\n",
            "Hit:11 https://ppa.launchpadcontent.net/ubuntugis/ppa/ubuntu jammy InRelease\n",
            "Get:12 https://dl.google.com/linux/chrome/deb stable InRelease [1,825 B]\n",
            "Get:13 https://dl.google.com/linux/chrome/deb stable/main amd64 Packages [1,217 B]\n",
            "Fetched 131 kB in 2s (78.0 kB/s)\n",
            "Reading package lists... Done\n",
            "W: Skipping acquire of configured file 'main/source/Sources' as repository 'https://r2u.stat.illinois.edu/ubuntu jammy InRelease' does not seem to provide it (sources.list entry misspelt?)\n",
            "Reading package lists... Done\n",
            "Building dependency tree... Done\n",
            "Reading state information... Done\n",
            "fonts-liberation is already the newest version (1:1.07.4-11).\n",
            "libasound2 is already the newest version (1.2.6.1-1ubuntu1).\n",
            "libasound2 set to manually installed.\n",
            "libatk-bridge2.0-0 is already the newest version (2.38.0-3).\n",
            "libatk-bridge2.0-0 set to manually installed.\n",
            "libatk1.0-0 is already the newest version (2.36.0-3build1).\n",
            "libatk1.0-0 set to manually installed.\n",
            "libatspi2.0-0 is already the newest version (2.44.0-3).\n",
            "libatspi2.0-0 set to manually installed.\n",
            "libcairo2 is already the newest version (1.16.0-5ubuntu2).\n",
            "libcairo2 set to manually installed.\n",
            "libfontconfig1 is already the newest version (2.13.1-4.2ubuntu5).\n",
            "libxcb1 is already the newest version (1.14-3ubuntu3).\n",
            "libxcb1 set to manually installed.\n",
            "libxcomposite1 is already the newest version (1:0.4.5-1build2).\n",
            "libxcomposite1 set to manually installed.\n",
            "libxdamage1 is already the newest version (1:1.1.5-2build2).\n",
            "libxdamage1 set to manually installed.\n",
            "libxext6 is already the newest version (2:1.3.4-1build1).\n",
            "libxfixes3 is already the newest version (1:6.0.0-1).\n",
            "libxfixes3 set to manually installed.\n",
            "libxkbcommon0 is already the newest version (1.4.0-1).\n",
            "libxkbcommon0 set to manually installed.\n",
            "libxrandr2 is already the newest version (2:1.5.2-1build1).\n",
            "libxrandr2 set to manually installed.\n",
            "libcups2 is already the newest version (2.4.1op1-1ubuntu4.11).\n",
            "libcups2 set to manually installed.\n",
            "libdbus-1-3 is already the newest version (1.12.20-2ubuntu4.1).\n",
            "libdbus-1-3 set to manually installed.\n",
            "libdrm2 is already the newest version (2.4.113-2~ubuntu0.22.04.1).\n",
            "libdrm2 set to manually installed.\n",
            "libfreetype6 is already the newest version (2.11.1+dfsg-1ubuntu0.3).\n",
            "libfreetype6 set to manually installed.\n",
            "libgbm1 is already the newest version (23.2.1-1ubuntu3.1~22.04.3).\n",
            "libgbm1 set to manually installed.\n",
            "libglib2.0-0 is already the newest version (2.72.4-0ubuntu2.5).\n",
            "libnspr4 is already the newest version (2:4.35-0ubuntu0.22.04.1).\n",
            "libnspr4 set to manually installed.\n",
            "libnss3 is already the newest version (2:3.98-0ubuntu0.22.04.2).\n",
            "libnss3 set to manually installed.\n",
            "libpango-1.0-0 is already the newest version (1.50.6+ds-2ubuntu1).\n",
            "libpango-1.0-0 set to manually installed.\n",
            "libwayland-client0 is already the newest version (1.20.0-1ubuntu0.1).\n",
            "libwayland-client0 set to manually installed.\n",
            "libx11-6 is already the newest version (2:1.7.5-1ubuntu0.3).\n",
            "libx11-6 set to manually installed.\n",
            "xvfb is already the newest version (2:21.1.4-2ubuntu1.7~22.04.15).\n",
            "The following additional packages will be installed:\n",
            "  xfonts-encodings xfonts-utils\n",
            "Recommended packages:\n",
            "  fonts-ipafont-mincho fonts-tlwg-loma\n",
            "The following NEW packages will be installed:\n",
            "  fonts-freefont-ttf fonts-ipafont-gothic fonts-noto-color-emoji\n",
            "  fonts-tlwg-loma-otf fonts-unifont fonts-wqy-zenhei xfonts-cyrillic\n",
            "  xfonts-encodings xfonts-scalable xfonts-utils\n",
            "0 upgraded, 10 newly installed, 0 to remove and 36 not upgraded.\n",
            "Need to get 28.4 MB of archives.\n",
            "After this operation, 67.9 MB of additional disk space will be used.\n",
            "Get:1 http://archive.ubuntu.com/ubuntu jammy/universe amd64 fonts-ipafont-gothic all 00303-21ubuntu1 [3,513 kB]\n",
            "Get:2 http://archive.ubuntu.com/ubuntu jammy/main amd64 fonts-freefont-ttf all 20120503-10build1 [2,388 kB]\n",
            "Get:3 http://archive.ubuntu.com/ubuntu jammy-updates/main amd64 fonts-noto-color-emoji all 2.047-0ubuntu0.22.04.1 [10.0 MB]\n",
            "Get:4 http://archive.ubuntu.com/ubuntu jammy/universe amd64 fonts-tlwg-loma-otf all 1:0.7.3-1 [107 kB]\n",
            "Get:5 http://archive.ubuntu.com/ubuntu jammy/universe amd64 fonts-unifont all 1:14.0.01-1 [3,551 kB]\n",
            "Get:6 http://archive.ubuntu.com/ubuntu jammy/universe amd64 fonts-wqy-zenhei all 0.9.45-8 [7,472 kB]\n",
            "Get:7 http://archive.ubuntu.com/ubuntu jammy/main amd64 xfonts-encodings all 1:1.0.5-0ubuntu2 [578 kB]\n",
            "Get:8 http://archive.ubuntu.com/ubuntu jammy/main amd64 xfonts-utils amd64 1:7.7+6build2 [94.6 kB]\n",
            "Get:9 http://archive.ubuntu.com/ubuntu jammy/universe amd64 xfonts-cyrillic all 1:1.0.5 [386 kB]\n",
            "Get:10 http://archive.ubuntu.com/ubuntu jammy/main amd64 xfonts-scalable all 1:1.0.3-1.2ubuntu1 [306 kB]\n",
            "Fetched 28.4 MB in 2s (18.6 MB/s)\n",
            "Selecting previously unselected package fonts-ipafont-gothic.\n",
            "(Reading database ... 126536 files and directories currently installed.)\n",
            "Preparing to unpack .../0-fonts-ipafont-gothic_00303-21ubuntu1_all.deb ...\n",
            "Unpacking fonts-ipafont-gothic (00303-21ubuntu1) ...\n",
            "Selecting previously unselected package fonts-freefont-ttf.\n",
            "Preparing to unpack .../1-fonts-freefont-ttf_20120503-10build1_all.deb ...\n",
            "Unpacking fonts-freefont-ttf (20120503-10build1) ...\n",
            "Selecting previously unselected package fonts-noto-color-emoji.\n",
            "Preparing to unpack .../2-fonts-noto-color-emoji_2.047-0ubuntu0.22.04.1_all.deb ...\n",
            "Unpacking fonts-noto-color-emoji (2.047-0ubuntu0.22.04.1) ...\n",
            "Selecting previously unselected package fonts-tlwg-loma-otf.\n",
            "Preparing to unpack .../3-fonts-tlwg-loma-otf_1%3a0.7.3-1_all.deb ...\n",
            "Unpacking fonts-tlwg-loma-otf (1:0.7.3-1) ...\n",
            "Selecting previously unselected package fonts-unifont.\n",
            "Preparing to unpack .../4-fonts-unifont_1%3a14.0.01-1_all.deb ...\n",
            "Unpacking fonts-unifont (1:14.0.01-1) ...\n",
            "Selecting previously unselected package fonts-wqy-zenhei.\n",
            "Preparing to unpack .../5-fonts-wqy-zenhei_0.9.45-8_all.deb ...\n",
            "Unpacking fonts-wqy-zenhei (0.9.45-8) ...\n",
            "Selecting previously unselected package xfonts-encodings.\n",
            "Preparing to unpack .../6-xfonts-encodings_1%3a1.0.5-0ubuntu2_all.deb ...\n",
            "Unpacking xfonts-encodings (1:1.0.5-0ubuntu2) ...\n",
            "Selecting previously unselected package xfonts-utils.\n",
            "Preparing to unpack .../7-xfonts-utils_1%3a7.7+6build2_amd64.deb ...\n",
            "Unpacking xfonts-utils (1:7.7+6build2) ...\n",
            "Selecting previously unselected package xfonts-cyrillic.\n",
            "Preparing to unpack .../8-xfonts-cyrillic_1%3a1.0.5_all.deb ...\n",
            "Unpacking xfonts-cyrillic (1:1.0.5) ...\n",
            "Selecting previously unselected package xfonts-scalable.\n",
            "Preparing to unpack .../9-xfonts-scalable_1%3a1.0.3-1.2ubuntu1_all.deb ...\n",
            "Unpacking xfonts-scalable (1:1.0.3-1.2ubuntu1) ...\n",
            "Setting up fonts-noto-color-emoji (2.047-0ubuntu0.22.04.1) ...\n",
            "Setting up fonts-wqy-zenhei (0.9.45-8) ...\n",
            "Setting up fonts-freefont-ttf (20120503-10build1) ...\n",
            "Setting up fonts-tlwg-loma-otf (1:0.7.3-1) ...\n",
            "Setting up xfonts-encodings (1:1.0.5-0ubuntu2) ...\n",
            "Setting up fonts-ipafont-gothic (00303-21ubuntu1) ...\n",
            "update-alternatives: using /usr/share/fonts/opentype/ipafont-gothic/ipag.ttf to provide /usr/share/fonts/truetype/fonts-japanese-gothic.ttf (fonts-japanese-gothic.ttf) in auto mode\n",
            "Setting up fonts-unifont (1:14.0.01-1) ...\n",
            "Setting up xfonts-utils (1:7.7+6build2) ...\n",
            "Setting up xfonts-cyrillic (1:1.0.5) ...\n",
            "Setting up xfonts-scalable (1:1.0.3-1.2ubuntu1) ...\n",
            "Processing triggers for man-db (2.10.2-1) ...\n",
            "Processing triggers for fontconfig (2.13.1-4.2ubuntu5) ...\n",
            "Downloading Chromium 139.0.7258.5 (playwright build v1181)\u001b[2m from https://cdn.playwright.dev/dbazure/download/playwright/builds/chromium/1181/chromium-linux.zip\u001b[22m\n",
            "\u001b[1G172.5 MiB [] 0% 0.0s\u001b[0K\u001b[1G172.5 MiB [] 0% 24.8s\u001b[0K\u001b[1G172.5 MiB [] 0% 14.4s\u001b[0K\u001b[1G172.5 MiB [] 0% 6.8s\u001b[0K\u001b[1G172.5 MiB [] 1% 4.1s\u001b[0K\u001b[1G172.5 MiB [] 2% 3.0s\u001b[0K\u001b[1G172.5 MiB [] 3% 2.4s\u001b[0K\u001b[1G172.5 MiB [] 4% 2.1s\u001b[0K\u001b[1G172.5 MiB [] 5% 2.2s\u001b[0K\u001b[1G172.5 MiB [] 6% 2.0s\u001b[0K\u001b[1G172.5 MiB [] 7% 1.9s\u001b[0K\u001b[1G172.5 MiB [] 8% 1.8s\u001b[0K\u001b[1G172.5 MiB [] 9% 1.8s\u001b[0K\u001b[1G172.5 MiB [] 11% 1.7s\u001b[0K\u001b[1G172.5 MiB [] 12% 1.6s\u001b[0K\u001b[1G172.5 MiB [] 14% 1.5s\u001b[0K\u001b[1G172.5 MiB [] 15% 1.4s\u001b[0K\u001b[1G172.5 MiB [] 17% 1.3s\u001b[0K\u001b[1G172.5 MiB [] 18% 1.3s\u001b[0K\u001b[1G172.5 MiB [] 20% 1.2s\u001b[0K\u001b[1G172.5 MiB [] 21% 1.2s\u001b[0K\u001b[1G172.5 MiB [] 22% 1.2s\u001b[0K\u001b[1G172.5 MiB [] 23% 1.2s\u001b[0K\u001b[1G172.5 MiB [] 24% 1.2s\u001b[0K\u001b[1G172.5 MiB [] 25% 1.2s\u001b[0K\u001b[1G172.5 MiB [] 26% 1.2s\u001b[0K\u001b[1G172.5 MiB [] 27% 1.2s\u001b[0K\u001b[1G172.5 MiB [] 28% 1.2s\u001b[0K\u001b[1G172.5 MiB [] 29% 1.2s\u001b[0K\u001b[1G172.5 MiB [] 30% 1.2s\u001b[0K\u001b[1G172.5 MiB [] 32% 1.2s\u001b[0K\u001b[1G172.5 MiB [] 33% 1.1s\u001b[0K\u001b[1G172.5 MiB [] 35% 1.1s\u001b[0K\u001b[1G172.5 MiB [] 36% 1.0s\u001b[0K\u001b[1G172.5 MiB [] 38% 1.0s\u001b[0K\u001b[1G172.5 MiB [] 39% 1.0s\u001b[0K\u001b[1G172.5 MiB [] 41% 0.9s\u001b[0K\u001b[1G172.5 MiB [] 43% 0.9s\u001b[0K\u001b[1G172.5 MiB [] 44% 0.9s\u001b[0K\u001b[1G172.5 MiB [] 45% 0.8s\u001b[0K\u001b[1G172.5 MiB [] 47% 0.8s\u001b[0K\u001b[1G172.5 MiB [] 49% 0.8s\u001b[0K\u001b[1G172.5 MiB [] 50% 0.7s\u001b[0K\u001b[1G172.5 MiB [] 51% 0.7s\u001b[0K\u001b[1G172.5 MiB [] 52% 0.7s\u001b[0K\u001b[1G172.5 MiB [] 53% 0.7s\u001b[0K\u001b[1G172.5 MiB [] 54% 0.7s\u001b[0K\u001b[1G172.5 MiB [] 55% 0.7s\u001b[0K\u001b[1G172.5 MiB [] 56% 0.7s\u001b[0K\u001b[1G172.5 MiB [] 57% 0.6s\u001b[0K\u001b[1G172.5 MiB [] 59% 0.6s\u001b[0K\u001b[1G172.5 MiB [] 61% 0.6s\u001b[0K\u001b[1G172.5 MiB [] 62% 0.5s\u001b[0K\u001b[1G172.5 MiB [] 64% 0.5s\u001b[0K\u001b[1G172.5 MiB [] 66% 0.5s\u001b[0K\u001b[1G172.5 MiB [] 68% 0.5s\u001b[0K\u001b[1G172.5 MiB [] 69% 0.4s\u001b[0K\u001b[1G172.5 MiB [] 70% 0.4s\u001b[0K\u001b[1G172.5 MiB [] 71% 0.4s\u001b[0K\u001b[1G172.5 MiB [] 72% 0.4s\u001b[0K\u001b[1G172.5 MiB [] 74% 0.4s\u001b[0K\u001b[1G172.5 MiB [] 75% 0.3s\u001b[0K\u001b[1G172.5 MiB [] 77% 0.3s\u001b[0K\u001b[1G172.5 MiB [] 79% 0.3s\u001b[0K\u001b[1G172.5 MiB [] 80% 0.3s\u001b[0K\u001b[1G172.5 MiB [] 82% 0.2s\u001b[0K\u001b[1G172.5 MiB [] 84% 0.2s\u001b[0K\u001b[1G172.5 MiB [] 85% 0.2s\u001b[0K\u001b[1G172.5 MiB [] 86% 0.2s\u001b[0K\u001b[1G172.5 MiB [] 88% 0.2s\u001b[0K\u001b[1G172.5 MiB [] 89% 0.1s\u001b[0K\u001b[1G172.5 MiB [] 90% 0.1s\u001b[0K\u001b[1G172.5 MiB [] 91% 0.1s\u001b[0K\u001b[1G172.5 MiB [] 92% 0.1s\u001b[0K\u001b[1G172.5 MiB [] 94% 0.1s\u001b[0K\u001b[1G172.5 MiB [] 96% 0.1s\u001b[0K\u001b[1G172.5 MiB [] 97% 0.0s\u001b[0K\u001b[1G172.5 MiB [] 98% 0.0s\u001b[0K\u001b[1G172.5 MiB [] 100% 0.0s\u001b[0K\n",
            "Chromium 139.0.7258.5 (playwright build v1181) downloaded to /root/.cache/ms-playwright/chromium-1181\n",
            "Downloading FFMPEG playwright build v1011\u001b[2m from https://cdn.playwright.dev/dbazure/download/playwright/builds/ffmpeg/1011/ffmpeg-linux.zip\u001b[22m\n",
            "\u001b[1G2.3 MiB [] 0% 0.0s\u001b[0K\u001b[1G2.3 MiB [] 11% 0.1s\u001b[0K\u001b[1G2.3 MiB [] 52% 0.0s\u001b[0K\u001b[1G2.3 MiB [] 100% 0.0s\u001b[0K\n",
            "FFMPEG playwright build v1011 downloaded to /root/.cache/ms-playwright/ffmpeg-1011\n",
            "Downloading Chromium Headless Shell 139.0.7258.5 (playwright build v1181)\u001b[2m from https://cdn.playwright.dev/dbazure/download/playwright/builds/chromium/1181/chromium-headless-shell-linux.zip\u001b[22m\n",
            "\u001b[1G104.8 MiB [] 0% 0.0s\u001b[0K\u001b[1G104.8 MiB [] 0% 22.2s\u001b[0K\u001b[1G104.8 MiB [] 0% 12.9s\u001b[0K\u001b[1G104.8 MiB [] 0% 7.1s\u001b[0K\u001b[1G104.8 MiB [] 1% 4.5s\u001b[0K\u001b[1G104.8 MiB [] 2% 4.1s\u001b[0K\u001b[1G104.8 MiB [] 2% 3.3s\u001b[0K\u001b[1G104.8 MiB [] 3% 3.0s\u001b[0K\u001b[1G104.8 MiB [] 4% 2.6s\u001b[0K\u001b[1G104.8 MiB [] 6% 2.3s\u001b[0K\u001b[1G104.8 MiB [] 7% 2.1s\u001b[0K\u001b[1G104.8 MiB [] 8% 2.1s\u001b[0K\u001b[1G104.8 MiB [] 9% 2.2s\u001b[0K\u001b[1G104.8 MiB [] 10% 2.0s\u001b[0K\u001b[1G104.8 MiB [] 10% 2.1s\u001b[0K\u001b[1G104.8 MiB [] 12% 1.9s\u001b[0K\u001b[1G104.8 MiB [] 14% 1.8s\u001b[0K\u001b[1G104.8 MiB [] 15% 1.7s\u001b[0K\u001b[1G104.8 MiB [] 16% 1.7s\u001b[0K\u001b[1G104.8 MiB [] 17% 1.7s\u001b[0K\u001b[1G104.8 MiB [] 18% 1.6s\u001b[0K\u001b[1G104.8 MiB [] 19% 1.5s\u001b[0K\u001b[1G104.8 MiB [] 21% 1.4s\u001b[0K\u001b[1G104.8 MiB [] 23% 1.3s\u001b[0K\u001b[1G104.8 MiB [] 25% 1.2s\u001b[0K\u001b[1G104.8 MiB [] 28% 1.1s\u001b[0K\u001b[1G104.8 MiB [] 30% 1.1s\u001b[0K\u001b[1G104.8 MiB [] 32% 1.0s\u001b[0K\u001b[1G104.8 MiB [] 34% 0.9s\u001b[0K\u001b[1G104.8 MiB [] 36% 0.9s\u001b[0K\u001b[1G104.8 MiB [] 38% 0.9s\u001b[0K\u001b[1G104.8 MiB [] 39% 0.9s\u001b[0K\u001b[1G104.8 MiB [] 40% 0.9s\u001b[0K\u001b[1G104.8 MiB [] 40% 1.0s\u001b[0K\u001b[1G104.8 MiB [] 43% 0.9s\u001b[0K\u001b[1G104.8 MiB [] 45% 0.8s\u001b[0K\u001b[1G104.8 MiB [] 46% 0.8s\u001b[0K\u001b[1G104.8 MiB [] 48% 0.8s\u001b[0K\u001b[1G104.8 MiB [] 51% 0.7s\u001b[0K\u001b[1G104.8 MiB [] 53% 0.7s\u001b[0K\u001b[1G104.8 MiB [] 55% 0.6s\u001b[0K\u001b[1G104.8 MiB [] 58% 0.6s\u001b[0K\u001b[1G104.8 MiB [] 60% 0.5s\u001b[0K\u001b[1G104.8 MiB [] 64% 0.5s\u001b[0K\u001b[1G104.8 MiB [] 66% 0.4s\u001b[0K\u001b[1G104.8 MiB [] 69% 0.4s\u001b[0K\u001b[1G104.8 MiB [] 71% 0.4s\u001b[0K\u001b[1G104.8 MiB [] 74% 0.3s\u001b[0K\u001b[1G104.8 MiB [] 76% 0.3s\u001b[0K\u001b[1G104.8 MiB [] 77% 0.3s\u001b[0K\u001b[1G104.8 MiB [] 79% 0.2s\u001b[0K\u001b[1G104.8 MiB [] 82% 0.2s\u001b[0K\u001b[1G104.8 MiB [] 84% 0.2s\u001b[0K\u001b[1G104.8 MiB [] 85% 0.2s\u001b[0K\u001b[1G104.8 MiB [] 86% 0.2s\u001b[0K\u001b[1G104.8 MiB [] 87% 0.2s\u001b[0K\u001b[1G104.8 MiB [] 88% 0.1s\u001b[0K\u001b[1G104.8 MiB [] 89% 0.1s\u001b[0K\u001b[1G104.8 MiB [] 91% 0.1s\u001b[0K\u001b[1G104.8 MiB [] 93% 0.1s\u001b[0K\u001b[1G104.8 MiB [] 95% 0.1s\u001b[0K\u001b[1G104.8 MiB [] 97% 0.0s\u001b[0K\u001b[1G104.8 MiB [] 99% 0.0s\u001b[0K\u001b[1G104.8 MiB [] 100% 0.0s\u001b[0K\n",
            "Chromium Headless Shell 139.0.7258.5 (playwright build v1181) downloaded to /root/.cache/ms-playwright/chromium_headless_shell-1181\n"
          ]
        }
      ]
    },
    {
      "cell_type": "markdown",
      "source": [
        "- 기본 예"
      ],
      "metadata": {
        "id": "l6WZ87mU08hB"
      }
    },
    {
      "cell_type": "code",
      "source": [
        "from playwright.async_api import async_playwright\n",
        "async with async_playwright() as p: #비동기, await 사용\n",
        "    b = await p.chromium.launch(headless=True)\n",
        "    page = await (await b.new_context()).new_page()\n",
        "    await page.goto(\"https://example.com\", wait_until=\"networkidle\")\n",
        "    print(await page.title()); await b.close()\n"
      ],
      "metadata": {
        "colab": {
          "base_uri": "https://localhost:8080/"
        },
        "id": "gFrdLTnG0TRf",
        "outputId": "0d134f64-50e4-40de-e300-950805abd856"
      },
      "execution_count": 58,
      "outputs": [
        {
          "output_type": "stream",
          "name": "stdout",
          "text": [
            "Example Domain\n"
          ]
        }
      ]
    },
    {
      "cell_type": "markdown",
      "source": [
        "- 기본 예2"
      ],
      "metadata": {
        "id": "nY9SS2SL097u"
      }
    },
    {
      "cell_type": "code",
      "source": [
        "from playwright.async_api import async_playwright\n",
        "\n",
        "async def run():\n",
        "    async with async_playwright() as p:          # 시작/정리 자동\n",
        "        browser = await p.chromium.launch()   #크롬의 오픈소스 버전, 새로 설치, p.chromium은 그 Chromium 계열 브라우저를 제어하는 핸들\n",
        "        page = await (await browser.new_context()).new_page()\n",
        "        await page.goto(\"https://example.com\", wait_until=\"networkidle\")\n",
        "        title = await page.title()\n",
        "        await browser.close()                    # 컨텍스트 정리 + 브라우저 닫기(중복 호출 OK)\n",
        "    return title\n"
      ],
      "metadata": {
        "id": "G3tsw2Uh0_a4"
      },
      "execution_count": 59,
      "outputs": []
    },
    {
      "cell_type": "markdown",
      "source": [
        "- 기본 예2"
      ],
      "metadata": {
        "id": "C_LUJ-6e1TSp"
      }
    },
    {
      "cell_type": "code",
      "source": [
        "import pandas as pd\n",
        "\n",
        "from playwright.async_api import async_playwright\n",
        "\n",
        "async def scrape_quotes(max_pages=3):\n",
        "    async with async_playwright() as p:\n",
        "        # 1) 브라우저/컨텍스트/페이지\n",
        "        browser = await p.chromium.launch(headless=True)\n",
        "        context = await browser.new_context(\n",
        "            viewport={\"width\": 1280, \"height\": 800},\n",
        "            user_agent=\"Mozilla/5.0 (X11; Linux x86_64) Playwright/Colab\"\n",
        "        )\n",
        "        page = await context.new_page()\n",
        "        page.set_default_timeout(15000)  # 15s\n",
        "\n",
        "        rows = []\n",
        "        await page.goto(\"https://quotes.toscrape.com/js/\", wait_until=\"networkidle\")\n",
        "\n",
        "        for _ in range(max_pages):\n",
        "            # 2) 동적 렌더링 대기\n",
        "            await page.wait_for_selector(\".quote\")\n",
        "\n",
        "            # 3) 데이터 추출\n",
        "            for q in await page.locator(\".quote\").all():\n",
        "                text = await q.locator(\".text\").inner_text()\n",
        "                author = await q.locator(\".author\").inner_text()\n",
        "                tags = await q.locator(\".tag\").all_inner_texts()\n",
        "                rows.append({\"text\": text, \"author\": author, \"tags\": \", \".join(tags)})\n",
        "\n",
        "            # 4) 페이지네이션 (없으면 종료)\n",
        "            next_btn = page.locator(\"li.next >> a\")\n",
        "            if await next_btn.count() == 0:\n",
        "                break\n",
        "            await next_btn.click()\n",
        "\n",
        "        # 5) 스크린샷 저장\n",
        "        import os\n",
        "        os.makedirs(\"/content/shots\", exist_ok=True)\n",
        "        await page.screenshot(path=\"/content/shots/quotes.png\", full_page=True)\n",
        "\n",
        "        await browser.close()\n",
        "        return rows\n",
        "\n",
        "rows = await scrape_quotes(max_pages=5)\n",
        "df = pd.DataFrame(rows)\n",
        "df.to_csv(\"/content/quotes_playwright.csv\", index=False, encoding=\"utf-8-sig\")\n",
        "print(\"Saved:\", len(df), \"rows\")\n",
        "print(\"Files: /content/shots/quotes.png , /content/quotes_playwright.csv\")\n"
      ],
      "metadata": {
        "colab": {
          "base_uri": "https://localhost:8080/"
        },
        "id": "U7vrUOBmyhAu",
        "outputId": "6dfa672f-b12d-412d-e41c-1c892d4ca7ce"
      },
      "execution_count": 50,
      "outputs": [
        {
          "output_type": "stream",
          "name": "stdout",
          "text": [
            "Saved: 50 rows\n",
            "Files: /content/shots/quotes.png , /content/quotes_playwright.csv\n"
          ]
        }
      ]
    },
    {
      "cell_type": "markdown",
      "source": [
        "- form 입력/버튼 클릭 및 네비게이션"
      ],
      "metadata": {
        "id": "fEh4Vb3ZzW-Q"
      }
    },
    {
      "cell_type": "code",
      "source": [
        "import nest_asyncio, asyncio\n",
        "nest_asyncio.apply()"
      ],
      "metadata": {
        "id": "S3JObwTayye0"
      },
      "execution_count": 52,
      "outputs": []
    },
    {
      "cell_type": "code",
      "source": [
        "from urllib.parse import quote_plus, urljoin\n",
        "from playwright.async_api import async_playwright\n",
        "\n",
        "async def search_wikipedia_direct(q=\"Retrieval-augmented generation\", max_results=5):\n",
        "    async with async_playwright() as p:\n",
        "        b = await p.chromium.launch(headless=True)\n",
        "        ctx = await b.new_context()\n",
        "        page = await ctx.new_page()\n",
        "        url = f\"https://en.wikipedia.org/w/index.php?title=Special:Search&ns0=1&limit=50&search={quote_plus(q)}\"\n",
        "        await page.goto(url, wait_until=\"domcontentloaded\")\n",
        "\n",
        "        items = []\n",
        "        if await page.locator(\".mw-search-results\").count():\n",
        "            for a in (await page.locator(\".mw-search-result-heading a\").all())[:max_results]:\n",
        "                href = await a.get_attribute(\"href\")\n",
        "                items.append({\"title\": await a.inner_text(), \"url\": urljoin(\"https://en.wikipedia.org\", href or \"\")})\n",
        "        else:\n",
        "            await page.wait_for_selector(\"#firstHeading\")\n",
        "            items.append({\"title\": await page.locator(\"#firstHeading\").inner_text(), \"url\": page.url})\n",
        "        await b.close()\n",
        "        return items\n"
      ],
      "metadata": {
        "id": "LLfy3yDVymIC"
      },
      "execution_count": 57,
      "outputs": []
    },
    {
      "cell_type": "markdown",
      "source": [
        "- 이미지 차단으로 속도 개선"
      ],
      "metadata": {
        "id": "MCjcarKPzRlX"
      }
    },
    {
      "cell_type": "code",
      "source": [
        "from playwright.async_api import async_playwright\n",
        "\n",
        "async def fast_text_only(url):\n",
        "    async with async_playwright() as p:\n",
        "        b = await p.chromium.launch()\n",
        "        ctx = await b.new_context()\n",
        "\n",
        "        # 이미지/CSS 차단 (사이트에 따라 과도 차단 시 레이아웃 깨질 수 있음)\n",
        "        await ctx.route(\"**/*\", lambda route: route.abort() if route.request.resource_type in {\"image\",\"media\",\"font\"} else route.continue_())\n",
        "\n",
        "        page = await ctx.new_page()\n",
        "        await page.goto(url, wait_until=\"networkidle\")\n",
        "        html = await page.content()\n",
        "        await b.close()\n",
        "        return html\n",
        "\n",
        "html = await fast_text_only(\"https://news.ycombinator.com/\")\n",
        "len(html)\n"
      ],
      "metadata": {
        "colab": {
          "base_uri": "https://localhost:8080/"
        },
        "id": "N2_Vk7H2yo8I",
        "outputId": "7be716eb-ab9e-4c13-c71e-df5150255354"
      },
      "execution_count": 65,
      "outputs": [
        {
          "output_type": "execute_result",
          "data": {
            "text/plain": [
              "34926"
            ]
          },
          "metadata": {},
          "execution_count": 65
        }
      ]
    },
    {
      "cell_type": "code",
      "source": [
        "html"
      ],
      "metadata": {
        "colab": {
          "base_uri": "https://localhost:8080/",
          "height": 146
        },
        "id": "63t5R6UW3R1Q",
        "outputId": "22e73ae2-8d6d-4856-f0db-85b4a3d3f142"
      },
      "execution_count": 66,
      "outputs": [
        {
          "output_type": "execute_result",
          "data": {
            "text/plain": [
              "'<html lang=\"en\" op=\"news\"><head><meta name=\"referrer\" content=\"origin\"><meta name=\"viewport\" content=\"width=device-width, initial-scale=1.0\"><link rel=\"stylesheet\" type=\"text/css\" href=\"news.css?sJrC2FNC7onakFWpNx3H\"><link rel=\"icon\" href=\"y18.svg\"><link rel=\"alternate\" type=\"application/rss+xml\" title=\"RSS\" href=\"rss\"><title>Hacker News</title></head><body><center><table id=\"hnmain\" border=\"0\" cellpadding=\"0\" cellspacing=\"0\" width=\"85%\" bgcolor=\"#f6f6ef\"><tbody><tr><td bgcolor=\"#ff6600\"><table border=\"0\" cellpadding=\"0\" cellspacing=\"0\" width=\"100%\" style=\"padding:2px\"><tbody><tr><td style=\"width:18px;padding-right:4px\"><a href=\"https://news.ycombinator.com\"><img src=\"y18.svg\" width=\"18\" height=\"18\" style=\"border:1px white solid; display:block\"></a></td><td style=\"line-height:12pt; height:10px;\"><span class=\"pagetop\"><b class=\"hnname\"><a href=\"news\">Hacker News</a></b><a href=\"newest\">new</a> | <a href=\"front\">past</a> | <a href=\"newcomments\">comments</a> | <a href=\"ask\">ask</a> | <a href=\"show\">show</a> | <a href=\"jobs\">jobs</a> | <a href=\"submit\" rel=\"nofollow\">submit</a></span></td><td style=\"text-align:right;padding-right:4px;\"><span class=\"pagetop\"><a href=\"login?goto=news\">login</a></span></td></tr></tbody></table></td></tr><tr style=\"height:10px\"></tr><tr id=\"bigbox\"><td><table border=\"0\" cellpadding=\"0\" cellspacing=\"0\"><tbody><tr class=\"athing submission\" id=\"44943986\"><td align=\"right\" valign=\"top\" class=\"title\"><span class=\"rank\">1.</span></td><td valign=\"top\" class=\"votelinks\"><center><a id=\"up_44943986\" href=\"vote?id=44943986&amp;how=up&amp;goto=news\"><div class=\"votearrow\" title=\"upvote\"></div></a></center></td><td class=\"title\"><span class=\"titleline\"><a href=\"https://www.youtube.com/watch?v=sRPnX_f2V_c\">Show HN: We started building an AI dev tool but it turned into a Sims-style game</a><span class=\"sitebit comhead\"> (<a href=\"from?site=youtube.com\"><span class=\"sitestr\">youtube.com</span></a>)</span></span></td></tr><tr><td colspan=\"2\"></td><td class=\"subtext\"><span class=\"subline\"><span class=\"score\" id=\"score_44943986\">47 points</span> by <a href=\"user?id=maxraven\" class=\"hnuser\">maxraven</a> <span class=\"age\" title=\"2025-08-18T18:51:23 1755543083\"><a href=\"item?id=44943986\">1 hour ago</a></span> <span id=\"unv_44943986\"></span> | <a href=\"hide?id=44943986&amp;goto=news\">hide</a> | <a href=\"item?id=44943986\">28&nbsp;comments</a></span></td></tr><tr class=\"spacer\" style=\"height:5px\"></tr><tr class=\"athing submission\" id=\"44942731\"><td align=\"right\" valign=\"top\" class=\"title\"><span class=\"rank\">2.</span></td><td valign=\"top\" class=\"votelinks\"><center><a id=\"up_44942731\" href=\"vote?id=44942731&amp;how=up&amp;goto=news\"><div class=\"votearrow\" title=\"upvote\"></div></a></center></td><td class=\"title\"><span class=\"titleline\"><a href=\"https://github.com/epicenter-so/epicenter/tree/main/apps/whispering\">Show HN: Whispering – Open-source, local-first dictation you can trust</a><span class=\"sitebit comhead\"> (<a href=\"from?site=github.com/epicenter-so\"><span class=\"sitestr\">github.com/epicenter-so</span></a>)</span></span></td></tr><tr><td colspan=\"2\"></td><td class=\"subtext\"><span class=\"subline\"><span class=\"score\" id=\"score_44942731\">95 points</span> by <a href=\"user?id=braden-w\" class=\"hnuser\">braden-w</a> <span class=\"age\" title=\"2025-08-18T16:52:29 1755535949\"><a href=\"item?id=44942731\">3 hours ago</a></span> <span id=\"unv_44942731\"></span> | <a href=\"hide?id=44942731&amp;goto=news\">hide</a> | <a href=\"item?id=44942731\">24&nbsp;comments</a></span></td></tr><tr class=\"spacer\" style=\"height:5px\"></tr><tr class=\"athing submission\" id=\"44942936\"><td align=\"right\" valign=\"top\" class=\"title\"><span class=\"rank\">3.</span></td><td valign=\"top\" class=\"votelinks\"><center><a id=\"up_44942936\" href=\"vote?id=44942936&amp;how=up&amp;goto=news\"><div class=\"votearrow\" title=\"upvote\"></div></a></center></td><td class=\"title\"><span class=\"titleline\"><a href=\"https://graic.net/p/left-to-right-programming\">Left to Right Programming</a><span class=\"sitebit comhead\"> (<a href=\"from?site=graic.net\"><span class=\"sitestr\">graic.net</span></a>)</span></span></td></tr><tr><td colspan=\"2\"></td><td class=\"subtext\"><span class=\"subline\"><span class=\"score\" id=\"score_44942936\">80 points</span> by <a href=\"user?id=graic\" class=\"hnuser\">graic</a> <span class=\"age\" title=\"2025-08-18T17:08:36 1755536916\"><a href=\"item?id=44942936\">3 hours ago</a></span> <span id=\"unv_44942936\"></span> | <a href=\"hide?id=44942936&amp;goto=news\">hide</a> | <a href=\"item?id=44942936\">68&nbsp;comments</a></span></td></tr><tr class=\"spacer\" style=\"height:5px\"></tr><tr class=\"athing submission\" id=\"44923520\"><td align=\"right\" valign=\"top\" class=\"title\"><span class=\"rank\">4.</span></td><td valign=\"top\" class=\"votelinks\"><center><a id=\"up_44923520\" href=\"vote?id=44923520&amp;how=up&amp;goto=news\"><div class=\"votearrow\" title=\"upvote\"></div></a></center></td><td class=\"title\"><span class=\"titleline\"><a href=\"https://scrollguard.app/\">Show HN: I built an app to block Shorts and Reels</a><span class=\"sitebit comhead\"> (<a href=\"from?site=scrollguard.app\"><span class=\"sitestr\">scrollguard.app</span></a>)</span></span></td></tr><tr><td colspan=\"2\"></td><td class=\"subtext\"><span class=\"subline\"><span class=\"score\" id=\"score_44923520\">377 points</span> by <a href=\"user?id=adrianhacar\" class=\"hnuser\">adrianhacar</a> <span class=\"age\" title=\"2025-08-16T14:01:38 1755352898\"><a href=\"item?id=44923520\">8 hours ago</a></span> <span id=\"unv_44923520\"></span> | <a href=\"hide?id=44923520&amp;goto=news\">hide</a> | <a href=\"item?id=44923520\">145&nbsp;comments</a></span></td></tr><tr class=\"spacer\" style=\"height:5px\"></tr><tr class=\"athing submission\" id=\"44940485\"><td align=\"right\" valign=\"top\" class=\"title\"><span class=\"rank\">5.</span></td><td valign=\"top\" class=\"votelinks\"><center><a id=\"up_44940485\" href=\"vote?id=44940485&amp;how=up&amp;goto=news\"><div class=\"votearrow\" title=\"upvote\"></div></a></center></td><td class=\"title\"><span class=\"titleline\"><a href=\"https://github.com/FFmpeg/asm-lessons\">FFmpeg Assembly Language Lessons</a><span class=\"sitebit comhead\"> (<a href=\"from?site=github.com/ffmpeg\"><span class=\"sitestr\">github.com/ffmpeg</span></a>)</span></span></td></tr><tr><td colspan=\"2\"></td><td class=\"subtext\"><span class=\"subline\"><span class=\"score\" id=\"score_44940485\">247 points</span> by <a href=\"user?id=flykespice\" class=\"hnuser\">flykespice</a> <span class=\"age\" title=\"2025-08-18T13:39:53 1755524393\"><a href=\"item?id=44940485\">6 hours ago</a></span> <span id=\"unv_44940485\"></span> | <a href=\"hide?id=44940485&amp;goto=news\">hide</a> | <a href=\"item?id=44940485\">73&nbsp;comments</a></span></td></tr><tr class=\"spacer\" style=\"height:5px\"></tr><tr class=\"athing submission\" id=\"44942501\"><td align=\"right\" valign=\"top\" class=\"title\"><span class=\"rank\">6.</span></td><td valign=\"top\" class=\"votelinks\"><center><a id=\"up_44942501\" href=\"vote?id=44942501&amp;how=up&amp;goto=news\"><div class=\"votearrow\" title=\"upvote\"></div></a></center></td><td class=\"title\"><span class=\"titleline\"><a href=\"https://annas-archive.org/blog/an-update-from-the-team.html\">Anna\\'s Archive: An Update from the Team</a><span class=\"sitebit comhead\"> (<a href=\"from?site=annas-archive.org\"><span class=\"sitestr\">annas-archive.org</span></a>)</span></span></td></tr><tr><td colspan=\"2\"></td><td class=\"subtext\"><span class=\"subline\"><span class=\"score\" id=\"score_44942501\">610 points</span> by <a href=\"user?id=jerheinze\" class=\"hnuser\">jerheinze</a> <span class=\"age\" title=\"2025-08-18T16:31:48 1755534708\"><a href=\"item?id=44942501\">3 hours ago</a></span> <span id=\"unv_44942501\"></span> | <a href=\"hide?id=44942501&amp;goto=news\">hide</a> | <a href=\"item?id=44942501\">264&nbsp;comments</a></span></td></tr><tr class=\"spacer\" style=\"height:5px\"></tr><tr class=\"athing submission\" id=\"44941580\"><td align=\"right\" valign=\"top\" class=\"title\"><span class=\"rank\">7.</span></td><td valign=\"top\" class=\"votelinks\"><center><a id=\"up_44941580\" href=\"vote?id=44941580&amp;how=up&amp;goto=news\"><div class=\"votearrow\" title=\"upvote\"></div></a></center></td><td class=\"title\"><span class=\"titleline\"><a href=\"https://www.realitydefender.com/platform/api\">Launch HN: Reality Defender (YC W22) – API for Deepfake and GenAI Detection</a><span class=\"sitebit comhead\"> (<a href=\"from?site=realitydefender.com\"><span class=\"sitestr\">realitydefender.com</span></a>)</span></span></td></tr><tr><td colspan=\"2\"></td><td class=\"subtext\"><span class=\"subline\"><span class=\"score\" id=\"score_44941580\">53 points</span> by <a href=\"user?id=bpcrd\" class=\"hnuser\">bpcrd</a> <span class=\"age\" title=\"2025-08-18T15:16:34 1755530194\"><a href=\"item?id=44941580\">5 hours ago</a></span> <span id=\"unv_44941580\"></span> | <a href=\"hide?id=44941580&amp;goto=news\">hide</a> | <a href=\"item?id=44941580\">26&nbsp;comments</a></span></td></tr><tr class=\"spacer\" style=\"height:5px\"></tr><tr class=\"athing submission\" id=\"44941711\"><td align=\"right\" valign=\"top\" class=\"title\"><span class=\"rank\">8.</span></td><td valign=\"top\" class=\"votelinks\"><center><a id=\"up_44941711\" href=\"vote?id=44941711&amp;how=up&amp;goto=news\"><div class=\"votearrow\" title=\"upvote\"></div></a></center></td><td class=\"title\"><span class=\"titleline\"><a href=\"https://www.asimov.press/p/cell-weight\">The Weight of a Cell</a><span class=\"sitebit comhead\"> (<a href=\"from?site=asimov.press\"><span class=\"sitestr\">asimov.press</span></a>)</span></span></td></tr><tr><td colspan=\"2\"></td><td class=\"subtext\"><span class=\"subline\"><span class=\"score\" id=\"score_44941711\">64 points</span> by <a href=\"user?id=arbesman\" class=\"hnuser\">arbesman</a> <span class=\"age\" title=\"2025-08-18T15:29:27 1755530967\"><a href=\"item?id=44941711\">4 hours ago</a></span> <span id=\"unv_44941711\"></span> | <a href=\"hide?id=44941711&amp;goto=news\">hide</a> | <a href=\"item?id=44941711\">21&nbsp;comments</a></span></td></tr><tr class=\"spacer\" style=\"height:5px\"></tr><tr class=\"athing submission\" id=\"44944291\"><td align=\"right\" valign=\"top\" class=\"title\"><span class=\"rank\">9.</span></td><td valign=\"top\" class=\"votelinks\"><center><a id=\"up_44944291\" href=\"vote?id=44944291&amp;how=up&amp;goto=news\"><div class=\"votearrow\" title=\"upvote\"></div></a></center></td><td class=\"title\"><span class=\"titleline\"><a href=\"https://arstechnica.com/tech-policy/2025/08/t-mobile-claimed-selling-location-data-without-consent-is-legal-judges-disagree/\">T-Mobile claimed selling location data without consent is legal–judges disagree</a><span class=\"sitebit comhead\"> (<a href=\"from?site=arstechnica.com\"><span class=\"sitestr\">arstechnica.com</span></a>)</span></span></td></tr><tr><td colspan=\"2\"></td><td class=\"subtext\"><span class=\"subline\"><span class=\"score\" id=\"score_44944291\">58 points</span> by <a href=\"user?id=Bender\" class=\"hnuser\">Bender</a> <span class=\"age\" title=\"2025-08-18T19:25:01 1755545101\"><a href=\"item?id=44944291\">1 hour ago</a></span> <span id=\"unv_44944291\"></span> | <a href=\"hide?id=44944291&amp;goto=news\">hide</a> | <a href=\"item?id=44944291\">13&nbsp;comments</a></span></td></tr><tr class=\"spacer\" style=\"height:5px\"></tr><tr class=\"athing submission\" id=\"44921780\"><td align=\"right\" valign=\"top\" class=\"title\"><span class=\"rank\">10.</span></td><td valign=\"top\" class=\"votelinks\"><center><a id=\"up_44921780\" href=\"vote?id=44921780&amp;how=up&amp;goto=news\"><div class=\"votearrow\" title=\"upvote\"></div></a></center></td><td class=\"title\"><span class=\"titleline\"><a href=\"https://5wgraphicsblog.com/2016/10/24/the-cutaway-illustrations-of-fred-freeman/\">The Cutaway Illustrations of Fred Freeman</a><span class=\"sitebit comhead\"> (<a href=\"from?site=5wgraphicsblog.com\"><span class=\"sitestr\">5wgraphicsblog.com</span></a>)</span></span></td></tr><tr><td colspan=\"2\"></td><td class=\"subtext\"><span class=\"subline\"><span class=\"score\" id=\"score_44921780\">45 points</span> by <a href=\"user?id=Michelangelo11\" class=\"hnuser\">Michelangelo11</a> <span class=\"age\" title=\"2025-08-16T09:41:57 1755337317\"><a href=\"item?id=44921780\">3 hours ago</a></span> <span id=\"unv_44921780\"></span> | <a href=\"hide?id=44921780&amp;goto=news\">hide</a> | <a href=\"item?id=44921780\">5&nbsp;comments</a></span></td></tr><tr class=\"spacer\" style=\"height:5px\"></tr><tr class=\"athing submission\" id=\"44943160\"><td align=\"right\" valign=\"top\" class=\"title\"><span class=\"rank\">11.</span></td><td valign=\"top\" class=\"votelinks\"><center><a id=\"up_44943160\" href=\"vote?id=44943160&amp;how=up&amp;goto=news\"><div class=\"votearrow\" title=\"upvote\"></div></a></center></td><td class=\"title\"><span class=\"titleline\"><a href=\"https://arxiv.org/abs/2501.04765\">TREAD: Token Routing for Efficient Architecture-Agnostic Diffusion Training</a><span class=\"sitebit comhead\"> (<a href=\"from?site=arxiv.org\"><span class=\"sitestr\">arxiv.org</span></a>)</span></span></td></tr><tr><td colspan=\"2\"></td><td class=\"subtext\"><span class=\"subline\"><span class=\"score\" id=\"score_44943160\">30 points</span> by <a href=\"user?id=fzliu\" class=\"hnuser\">fzliu</a> <span class=\"age\" title=\"2025-08-18T17:29:16 1755538156\"><a href=\"item?id=44943160\">2 hours ago</a></span> <span id=\"unv_44943160\"></span> | <a href=\"hide?id=44943160&amp;goto=news\">hide</a> | <a href=\"item?id=44943160\">5&nbsp;comments</a></span></td></tr><tr class=\"spacer\" style=\"height:5px\"></tr><tr class=\"athing submission\" id=\"44937991\"><td align=\"right\" valign=\"top\" class=\"title\"><span class=\"rank\">12.</span></td><td valign=\"top\" class=\"votelinks\"><center><a id=\"up_44937991\" href=\"vote?id=44937991&amp;how=up&amp;goto=news\"><div class=\"votearrow\" title=\"upvote\"></div></a></center></td><td class=\"title\"><span class=\"titleline\"><a href=\"https://hyperclay.com/\">Web apps in a single, portable, self-updating, vanilla HTML file</a><span class=\"sitebit comhead\"> (<a href=\"from?site=hyperclay.com\"><span class=\"sitestr\">hyperclay.com</span></a>)</span></span></td></tr><tr><td colspan=\"2\"></td><td class=\"subtext\"><span class=\"subline\"><span class=\"score\" id=\"score_44937991\">552 points</span> by <a href=\"user?id=pil0u\" class=\"hnuser\">pil0u</a> <span class=\"age\" title=\"2025-08-18T06:38:11 1755499091\"><a href=\"item?id=44937991\">13 hours ago</a></span> <span id=\"unv_44937991\"></span> | <a href=\"hide?id=44937991&amp;goto=news\">hide</a> | <a href=\"item?id=44937991\">197&nbsp;comments</a></span></td></tr><tr class=\"spacer\" style=\"height:5px\"></tr><tr class=\"athing submission\" id=\"44941369\"><td align=\"right\" valign=\"top\" class=\"title\"><span class=\"rank\">13.</span></td><td valign=\"top\" class=\"votelinks\"><center><a id=\"up_44941369\" href=\"vote?id=44941369&amp;how=up&amp;goto=news\"><div class=\"votearrow\" title=\"upvote\"></div></a></center></td><td class=\"title\"><span class=\"titleline\"><a href=\"https://www.nytimes.com/2025/08/18/arts/counter-strike-half-life-minh-le.html\">Counter-Strike: A billion-dollar game built in a dorm room</a><span class=\"sitebit comhead\"> (<a href=\"from?site=nytimes.com\"><span class=\"sitestr\">nytimes.com</span></a>)</span></span></td></tr><tr><td colspan=\"2\"></td><td class=\"subtext\"><span class=\"subline\"><span class=\"score\" id=\"score_44941369\">65 points</span> by <a href=\"user?id=asnyder\" class=\"hnuser\">asnyder</a> <span class=\"age\" title=\"2025-08-18T14:59:26 1755529166\"><a href=\"item?id=44941369\">4 hours ago</a></span> <span id=\"unv_44941369\"></span> | <a href=\"hide?id=44941369&amp;goto=news\">hide</a> | <a href=\"item?id=44941369\">77&nbsp;comments</a></span></td></tr><tr class=\"spacer\" style=\"height:5px\"></tr><tr class=\"athing submission\" id=\"44943420\"><td align=\"right\" valign=\"top\" class=\"title\"><span class=\"rank\">14.</span></td><td valign=\"top\" class=\"votelinks\"><center><a id=\"up_44943420\" href=\"vote?id=44943420&amp;how=up&amp;goto=news\"><div class=\"votearrow\" title=\"upvote\"></div></a></center></td><td class=\"title\"><span class=\"titleline\"><a href=\"https://www.sustainabilitybynumbers.com/p/electric-car-battery-degradation\">How much do electric car batteries degrade?</a><span class=\"sitebit comhead\"> (<a href=\"from?site=sustainabilitybynumbers.com\"><span class=\"sitestr\">sustainabilitybynumbers.com</span></a>)</span></span></td></tr><tr><td colspan=\"2\"></td><td class=\"subtext\"><span class=\"subline\"><span class=\"score\" id=\"score_44943420\">52 points</span> by <a href=\"user?id=xnx\" class=\"hnuser\">xnx</a> <span class=\"age\" title=\"2025-08-18T17:53:20 1755539600\"><a href=\"item?id=44943420\">2 hours ago</a></span> <span id=\"unv_44943420\"></span> | <a href=\"hide?id=44943420&amp;goto=news\">hide</a> | <a href=\"item?id=44943420\">73&nbsp;comments</a></span></td></tr><tr class=\"spacer\" style=\"height:5px\"></tr><tr class=\"athing submission\" id=\"44941963\"><td align=\"right\" valign=\"top\" class=\"title\"><span class=\"rank\">15.</span></td><td valign=\"top\" class=\"votelinks\"><center><a id=\"up_44941963\" href=\"vote?id=44941963&amp;how=up&amp;goto=news\"><div class=\"votearrow\" title=\"upvote\"></div></a></center></td><td class=\"title\"><span class=\"titleline\"><a href=\"https://people.idsia.ch/~juergen/who-invented-backpropagation.html\">Who Invented Backpropagation?</a><span class=\"sitebit comhead\"> (<a href=\"from?site=idsia.ch\"><span class=\"sitestr\">idsia.ch</span></a>)</span></span></td></tr><tr><td colspan=\"2\"></td><td class=\"subtext\"><span class=\"subline\"><span class=\"score\" id=\"score_44941963\">136 points</span> by <a href=\"user?id=nothrowaways\" class=\"hnuser\">nothrowaways</a> <span class=\"age\" title=\"2025-08-18T15:50:21 1755532221\"><a href=\"item?id=44941963\">4 hours ago</a></span> <span id=\"unv_44941963\"></span> | <a href=\"hide?id=44941963&amp;goto=news\">hide</a> | <a href=\"item?id=44941963\">73&nbsp;comments</a></span></td></tr><tr class=\"spacer\" style=\"height:5px\"></tr><tr class=\"athing submission\" id=\"44916339\"><td align=\"right\" valign=\"top\" class=\"title\"><span class=\"rank\">16.</span></td><td valign=\"top\" class=\"votelinks\"><center><a id=\"up_44916339\" href=\"vote?id=44916339&amp;how=up&amp;goto=news\"><div class=\"votearrow\" title=\"upvote\"></div></a></center></td><td class=\"title\"><span class=\"titleline\"><a href=\"https://sdiehl.github.io/typechecker-zoo/\">Typechecker Zoo</a><span class=\"sitebit comhead\"> (<a href=\"from?site=sdiehl.github.io\"><span class=\"sitestr\">sdiehl.github.io</span></a>)</span></span></td></tr><tr><td colspan=\"2\"></td><td class=\"subtext\"><span class=\"subline\"><span class=\"score\" id=\"score_44916339\">106 points</span> by <a href=\"user?id=todsacerdoti\" class=\"hnuser\">todsacerdoti</a> <span class=\"age\" title=\"2025-08-15T19:11:16 1755285076\"><a href=\"item?id=44916339\">7 hours ago</a></span> <span id=\"unv_44916339\"></span> | <a href=\"hide?id=44916339&amp;goto=news\">hide</a> | <a href=\"item?id=44916339\">18&nbsp;comments</a></span></td></tr><tr class=\"spacer\" style=\"height:5px\"></tr><tr class=\"athing submission\" id=\"44944627\"><td align=\"right\" valign=\"top\" class=\"title\"><span class=\"rank\">17.</span></td><td valign=\"top\" class=\"votelinks\"><center><a id=\"up_44944627\" href=\"vote?id=44944627&amp;how=up&amp;goto=news\"><div class=\"votearrow\" title=\"upvote\"></div></a></center></td><td class=\"title\"><span class=\"titleline\"><a href=\"https://www.wsj.com/tech/intel-us-government-stake-22a7f987\">White House in Talks with Intel for 10% U.S. Government Stake</a><span class=\"sitebit comhead\"> (<a href=\"from?site=wsj.com\"><span class=\"sitestr\">wsj.com</span></a>)</span></span></td></tr><tr><td colspan=\"2\"></td><td class=\"subtext\"><span class=\"subline\"><span class=\"score\" id=\"score_44944627\">27 points</span> by <a href=\"user?id=sugarpimpdorsey\" class=\"hnuser\">sugarpimpdorsey</a> <span class=\"age\" title=\"2025-08-18T19:55:34 1755546934\"><a href=\"item?id=44944627\">29 minutes ago</a></span> <span id=\"unv_44944627\"></span> | <a href=\"hide?id=44944627&amp;goto=news\">hide</a> | <a href=\"item?id=44944627\">16&nbsp;comments</a></span></td></tr><tr class=\"spacer\" style=\"height:5px\"></tr><tr class=\"athing submission\" id=\"44942602\"><td align=\"right\" valign=\"top\" class=\"title\"><span class=\"rank\">18.</span></td><td valign=\"top\" class=\"votelinks\"><center><a id=\"up_44942602\" href=\"vote?id=44942602&amp;how=up&amp;goto=news\"><div class=\"votearrow\" title=\"upvote\"></div></a></center></td><td class=\"title\"><span class=\"titleline\"><a href=\"https://www.myretrotvs.com/\">My Retro TVs</a><span class=\"sitebit comhead\"> (<a href=\"from?site=myretrotvs.com\"><span class=\"sitestr\">myretrotvs.com</span></a>)</span></span></td></tr><tr><td colspan=\"2\"></td><td class=\"subtext\"><span class=\"subline\"><span class=\"score\" id=\"score_44942602\">98 points</span> by <a href=\"user?id=the-mitr\" class=\"hnuser\">the-mitr</a> <span class=\"age\" title=\"2025-08-18T16:40:48 1755535248\"><a href=\"item?id=44942602\">3 hours ago</a></span> <span id=\"unv_44942602\"></span> | <a href=\"hide?id=44942602&amp;goto=news\">hide</a> | <a href=\"item?id=44942602\">18&nbsp;comments</a></span></td></tr><tr class=\"spacer\" style=\"height:5px\"></tr><tr class=\"athing submission\" id=\"44938309\"><td align=\"right\" valign=\"top\" class=\"title\"><span class=\"rank\">19.</span></td><td valign=\"top\" class=\"votelinks\"><center><a id=\"up_44938309\" href=\"vote?id=44938309&amp;how=up&amp;goto=news\"><div class=\"votearrow\" title=\"upvote\"></div></a></center></td><td class=\"title\"><span class=\"titleline\"><a href=\"https://lareviewofbooks.org/article/mindless-machines-mindless-myths/\">Mindless Machines, Mindless Myths</a><span class=\"sitebit comhead\"> (<a href=\"from?site=lareviewofbooks.org\"><span class=\"sitestr\">lareviewofbooks.org</span></a>)</span></span></td></tr><tr><td colspan=\"2\"></td><td class=\"subtext\"><span class=\"subline\"><span class=\"score\" id=\"score_44938309\">18 points</span> by <a href=\"user?id=lermontov\" class=\"hnuser\">lermontov</a> <span class=\"age\" title=\"2025-08-18T07:47:44 1755503264\"><a href=\"item?id=44938309\">2 hours ago</a></span> <span id=\"unv_44938309\"></span> | <a href=\"hide?id=44938309&amp;goto=news\">hide</a> | <a href=\"item?id=44938309\">discuss</a></span></td></tr><tr class=\"spacer\" style=\"height:5px\"></tr><tr class=\"athing submission\" id=\"44942761\"><td align=\"right\" valign=\"top\" class=\"title\"><span class=\"rank\">20.</span></td><td valign=\"top\" class=\"votelinks\"><center><a id=\"up_44942761\" href=\"vote?id=44942761&amp;how=up&amp;goto=news\"><div class=\"votearrow\" title=\"upvote\"></div></a></center></td><td class=\"title\"><span class=\"titleline\"><a href=\"https://nearlyright.com/how-ai-researchers-accidentally-discovered-that-everything-they-thought-about-learning-was-wrong/\">The lottery ticket hypothesis: why neural networks work</a><span class=\"sitebit comhead\"> (<a href=\"from?site=nearlyright.com\"><span class=\"sitestr\">nearlyright.com</span></a>)</span></span></td></tr><tr><td colspan=\"2\"></td><td class=\"subtext\"><span class=\"subline\"><span class=\"score\" id=\"score_44942761\">20 points</span> by <a href=\"user?id=076ae80a-3c97-4\" class=\"hnuser\">076ae80a-3c97-4</a> <span class=\"age\" title=\"2025-08-18T16:54:25 1755536065\"><a href=\"item?id=44942761\">3 hours ago</a></span> <span id=\"unv_44942761\"></span> | <a href=\"hide?id=44942761&amp;goto=news\">hide</a> | <a href=\"item?id=44942761\">4&nbsp;comments</a></span></td></tr><tr class=\"spacer\" style=\"height:5px\"></tr><tr class=\"athing submission\" id=\"44938046\"><td align=\"right\" valign=\"top\" class=\"title\"><span class=\"rank\">21.</span></td><td valign=\"top\" class=\"votelinks\"><center><a id=\"up_44938046\" href=\"vote?id=44938046&amp;how=up&amp;goto=news\"><div class=\"votearrow\" title=\"upvote\"></div></a></center></td><td class=\"title\"><span class=\"titleline\"><a href=\"https://lwn.net/SubscriberLink/1032947/67e23ce1a3f9f129/\">Finding a Successor to the FHS</a><span class=\"sitebit comhead\"> (<a href=\"from?site=lwn.net\"><span class=\"sitestr\">lwn.net</span></a>)</span></span></td></tr><tr><td colspan=\"2\"></td><td class=\"subtext\"><span class=\"subline\"><span class=\"score\" id=\"score_44938046\">22 points</span> by <a href=\"user?id=firexcy\" class=\"hnuser\">firexcy</a> <span class=\"age\" title=\"2025-08-18T06:48:40 1755499720\"><a href=\"item?id=44938046\">2 hours ago</a></span> <span id=\"unv_44938046\"></span> | <a href=\"hide?id=44938046&amp;goto=news\">hide</a> | <a href=\"item?id=44938046\">12&nbsp;comments</a></span></td></tr><tr class=\"spacer\" style=\"height:5px\"></tr><tr class=\"athing submission\" id=\"44938818\"><td align=\"right\" valign=\"top\" class=\"title\"><span class=\"rank\">22.</span></td><td valign=\"top\" class=\"votelinks\"><center><a id=\"up_44938818\" href=\"vote?id=44938818&amp;how=up&amp;goto=news\"><div class=\"votearrow\" title=\"upvote\"></div></a></center></td><td class=\"title\"><span class=\"titleline\"><a href=\"https://medicalxpress.com/news/2025-08-alternative-lasik-lasers.html\">Electromechanical reshaping,  an alternative to laser eye surgery</a><span class=\"sitebit comhead\"> (<a href=\"from?site=medicalxpress.com\"><span class=\"sitestr\">medicalxpress.com</span></a>)</span></span></td></tr><tr><td colspan=\"2\"></td><td class=\"subtext\"><span class=\"subline\"><span class=\"score\" id=\"score_44938818\">198 points</span> by <a href=\"user?id=Gaishan\" class=\"hnuser\">Gaishan</a> <span class=\"age\" title=\"2025-08-18T09:35:17 1755509717\"><a href=\"item?id=44938818\">9 hours ago</a></span> <span id=\"unv_44938818\"></span> | <a href=\"hide?id=44938818&amp;goto=news\">hide</a> | <a href=\"item?id=44938818\">83&nbsp;comments</a></span></td></tr><tr class=\"spacer\" style=\"height:5px\"></tr><tr class=\"athing submission\" id=\"44921879\"><td align=\"right\" valign=\"top\" class=\"title\"><span class=\"rank\">23.</span></td><td valign=\"top\" class=\"votelinks\"><center><a id=\"up_44921879\" href=\"vote?id=44921879&amp;how=up&amp;goto=news\"><div class=\"votearrow\" title=\"upvote\"></div></a></center></td><td class=\"title\"><span class=\"titleline\"><a href=\"https://www.nature.com/articles/s41586-025-09321-3\">Countrywide natural experiment links built environment to physical activity</a><span class=\"sitebit comhead\"> (<a href=\"from?site=nature.com\"><span class=\"sitestr\">nature.com</span></a>)</span></span></td></tr><tr><td colspan=\"2\"></td><td class=\"subtext\"><span class=\"subline\"><span class=\"score\" id=\"score_44921879\">35 points</span> by <a href=\"user?id=Anon84\" class=\"hnuser\">Anon84</a> <span class=\"age\" title=\"2025-08-16T10:02:35 1755338555\"><a href=\"item?id=44921879\">7 hours ago</a></span> <span id=\"unv_44921879\"></span> | <a href=\"hide?id=44921879&amp;goto=news\">hide</a> | <a href=\"item?id=44921879\">22&nbsp;comments</a></span></td></tr><tr class=\"spacer\" style=\"height:5px\"></tr><tr class=\"athing submission\" id=\"44942954\"><td align=\"right\" valign=\"top\" class=\"title\"><span class=\"rank\">24.</span></td><td valign=\"top\" class=\"votelinks\"><center><a id=\"up_44942954\" href=\"vote?id=44942954&amp;how=up&amp;goto=news\"><div class=\"votearrow\" title=\"upvote\"></div></a></center></td><td class=\"title\"><span class=\"titleline\"><a href=\"https://blog.gingerbeardman.com/2021/04/17/turning-an-ipad-pro-into-the-ultimate-classic-macintosh/\">Turning an iPad Pro into the Ultimate Classic Macintosh (2021)</a><span class=\"sitebit comhead\"> (<a href=\"from?site=gingerbeardman.com\"><span class=\"sitestr\">gingerbeardman.com</span></a>)</span></span></td></tr><tr><td colspan=\"2\"></td><td class=\"subtext\"><span class=\"subline\"><span class=\"score\" id=\"score_44942954\">61 points</span> by <a href=\"user?id=rcarmo\" class=\"hnuser\">rcarmo</a> <span class=\"age\" title=\"2025-08-18T17:09:36 1755536976\"><a href=\"item?id=44942954\">3 hours ago</a></span> <span id=\"unv_44942954\"></span> | <a href=\"hide?id=44942954&amp;goto=news\">hide</a> | <a href=\"item?id=44942954\">9&nbsp;comments</a></span></td></tr><tr class=\"spacer\" style=\"height:5px\"></tr><tr class=\"athing submission\" id=\"44920747\"><td align=\"right\" valign=\"top\" class=\"title\"><span class=\"rank\">25.</span></td><td valign=\"top\" class=\"votelinks\"><center><a id=\"up_44920747\" href=\"vote?id=44920747&amp;how=up&amp;goto=news\"><div class=\"votearrow\" title=\"upvote\"></div></a></center></td><td class=\"title\"><span class=\"titleline\"><a href=\"https://juliusvonbismarck.com/bank/index.php/projects/image-fulgurator/2/\">Image Fulgurator (2011)</a><span class=\"sitebit comhead\"> (<a href=\"from?site=juliusvonbismarck.com\"><span class=\"sitestr\">juliusvonbismarck.com</span></a>)</span></span></td></tr><tr><td colspan=\"2\"></td><td class=\"subtext\"><span class=\"subline\"><span class=\"score\" id=\"score_44920747\">36 points</span> by <a href=\"user?id=Liftyee\" class=\"hnuser\">Liftyee</a> <span class=\"age\" title=\"2025-08-16T06:26:08 1755325568\"><a href=\"item?id=44920747\">5 hours ago</a></span> <span id=\"unv_44920747\"></span> | <a href=\"hide?id=44920747&amp;goto=news\">hide</a> | <a href=\"item?id=44920747\">2&nbsp;comments</a></span></td></tr><tr class=\"spacer\" style=\"height:5px\"></tr><tr class=\"athing submission\" id=\"44937550\"><td align=\"right\" valign=\"top\" class=\"title\"><span class=\"rank\">26.</span></td><td valign=\"top\" class=\"votelinks\"><center><a id=\"up_44937550\" href=\"vote?id=44937550&amp;how=up&amp;goto=news\"><div class=\"votearrow\" title=\"upvote\"></div></a></center></td><td class=\"title\"><span class=\"titleline\"><a href=\"https://roguesecurity.dev/blog/systemd-hardening\">SystemD Service Hardening</a><span class=\"sitebit comhead\"> (<a href=\"from?site=roguesecurity.dev\"><span class=\"sitestr\">roguesecurity.dev</span></a>)</span></span></td></tr><tr><td colspan=\"2\"></td><td class=\"subtext\"><span class=\"subline\"><span class=\"score\" id=\"score_44937550\">225 points</span> by <a href=\"user?id=todsacerdoti\" class=\"hnuser\">todsacerdoti</a> <span class=\"age\" title=\"2025-08-18T04:57:47 1755493067\"><a href=\"item?id=44937550\">15 hours ago</a></span> <span id=\"unv_44937550\"></span> | <a href=\"hide?id=44937550&amp;goto=news\">hide</a> | <a href=\"item?id=44937550\">81&nbsp;comments</a></span></td></tr><tr class=\"spacer\" style=\"height:5px\"></tr><tr class=\"athing submission\" id=\"44940089\"><td align=\"right\" valign=\"top\" class=\"title\"><span class=\"rank\">27.</span></td><td valign=\"top\" class=\"votelinks\"><center><a id=\"up_44940089\" href=\"vote?id=44940089&amp;how=up&amp;goto=news\"><div class=\"votearrow\" title=\"upvote\"></div></a></center></td><td class=\"title\"><span class=\"titleline\"><a href=\"https://github.com/awslabs/mcp/blob/main/VIBE_CODING_TIPS_TRICKS.md\">Vibe coding tips and tricks</a><span class=\"sitebit comhead\"> (<a href=\"from?site=github.com/awslabs\"><span class=\"sitestr\">github.com/awslabs</span></a>)</span></span></td></tr><tr><td colspan=\"2\"></td><td class=\"subtext\"><span class=\"subline\"><span class=\"score\" id=\"score_44940089\">154 points</span> by <a href=\"user?id=mooreds\" class=\"hnuser\">mooreds</a> <span class=\"age\" title=\"2025-08-18T12:57:28 1755521848\"><a href=\"item?id=44940089\">7 hours ago</a></span> <span id=\"unv_44940089\"></span> | <a href=\"hide?id=44940089&amp;goto=news\">hide</a> | <a href=\"item?id=44940089\">77&nbsp;comments</a></span></td></tr><tr class=\"spacer\" style=\"height:5px\"></tr><tr class=\"athing submission\" id=\"44942949\"><td align=\"right\" valign=\"top\" class=\"title\"><span class=\"rank\">28.</span></td><td valign=\"top\" class=\"votelinks\"><center><a id=\"up_44942949\" href=\"vote?id=44942949&amp;how=up&amp;goto=news\"><div class=\"votearrow\" title=\"upvote\"></div></a></center></td><td class=\"title\"><span class=\"titleline\"><a href=\"https://blog.gingerbeardman.com/2021/04/24/macintosh-drawing-software-compared/\" rel=\"nofollow\">Macintosh Drawing Software Compared</a><span class=\"sitebit comhead\"> (<a href=\"from?site=gingerbeardman.com\"><span class=\"sitestr\">gingerbeardman.com</span></a>)</span></span></td></tr><tr><td colspan=\"2\"></td><td class=\"subtext\"><span class=\"subline\"><span class=\"score\" id=\"score_44942949\">8 points</span> by <a href=\"user?id=rcarmo\" class=\"hnuser\">rcarmo</a> <span class=\"age\" title=\"2025-08-18T17:09:17 1755536957\"><a href=\"item?id=44942949\">3 hours ago</a></span> <span id=\"unv_44942949\"></span> | <a href=\"hide?id=44942949&amp;goto=news\">hide</a> | <a href=\"item?id=44942949\">1&nbsp;comment</a></span></td></tr><tr class=\"spacer\" style=\"height:5px\"></tr><tr class=\"athing submission\" id=\"44912822\"><td align=\"right\" valign=\"top\" class=\"title\"><span class=\"rank\">29.</span></td><td valign=\"top\" class=\"votelinks\"><center><a id=\"up_44912822\" href=\"vote?id=44912822&amp;how=up&amp;goto=news\"><div class=\"votearrow\" title=\"upvote\"></div></a></center></td><td class=\"title\"><span class=\"titleline\"><a href=\"https://abramsplanetarium.org/SkyCalendar/index.html\">Sky Calendar</a><span class=\"sitebit comhead\"> (<a href=\"from?site=abramsplanetarium.org\"><span class=\"sitestr\">abramsplanetarium.org</span></a>)</span></span></td></tr><tr><td colspan=\"2\"></td><td class=\"subtext\"><span class=\"subline\"><span class=\"score\" id=\"score_44912822\">53 points</span> by <a href=\"user?id=NaOH\" class=\"hnuser\">NaOH</a> <span class=\"age\" title=\"2025-08-15T14:24:29 1755267869\"><a href=\"item?id=44912822\">8 hours ago</a></span> <span id=\"unv_44912822\"></span> | <a href=\"hide?id=44912822&amp;goto=news\">hide</a> | <a href=\"item?id=44912822\">4&nbsp;comments</a></span></td></tr><tr class=\"spacer\" style=\"height:5px\"></tr><tr class=\"athing submission\" id=\"44935658\"><td align=\"right\" valign=\"top\" class=\"title\"><span class=\"rank\">30.</span></td><td valign=\"top\" class=\"votelinks\"><center><a id=\"up_44935658\" href=\"vote?id=44935658&amp;how=up&amp;goto=news\"><div class=\"votearrow\" title=\"upvote\"></div></a></center></td><td class=\"title\"><span class=\"titleline\"><a href=\"https://www.newyorker.com/magazine/2025/08/18/baldwin-a-love-story-nicholas-boggs-book-review\">The Lives and Loves of James Baldwin</a><span class=\"sitebit comhead\"> (<a href=\"from?site=newyorker.com\"><span class=\"sitestr\">newyorker.com</span></a>)</span></span></td></tr><tr><td colspan=\"2\"></td><td class=\"subtext\"><span class=\"subline\"><span class=\"score\" id=\"score_44935658\">82 points</span> by <a href=\"user?id=Caiero\" class=\"hnuser\">Caiero</a> <span class=\"age\" title=\"2025-08-17T22:53:21 1755471201\"><a href=\"item?id=44935658\">13 hours ago</a></span> <span id=\"unv_44935658\"></span> | <a href=\"hide?id=44935658&amp;goto=news\">hide</a> | <a href=\"item?id=44935658\">12&nbsp;comments</a></span></td></tr><tr class=\"spacer\" style=\"height:5px\"></tr><tr class=\"morespace\" style=\"height:10px\"></tr><tr><td colspan=\"2\"></td><td class=\"title\"><a href=\"?p=2\" class=\"morelink\" rel=\"next\">More</a></td></tr></tbody></table></td></tr><tr><td><img src=\"s.gif\" height=\"10\" width=\"0\"><table width=\"100%\" cellspacing=\"0\" cellpadding=\"1\"><tbody><tr><td bgcolor=\"#ff6600\"></td></tr></tbody></table><br>\\n<center><span class=\"yclinks\"><a href=\"newsguidelines.html\">Guidelines</a> | <a href=\"newsfaq.html\">FAQ</a> | <a href=\"lists\">Lists</a> | <a href=\"https://github.com/HackerNews/API\">API</a> | <a href=\"security.html\">Security</a> | <a href=\"https://www.ycombinator.com/legal/\">Legal</a> | <a href=\"https://www.ycombinator.com/apply/\">Apply to YC</a> | <a href=\"mailto:hn@ycombinator.com\">Contact</a></span><br><br>\\n<form method=\"get\" action=\"//hn.algolia.com/\">Search: <input type=\"text\" name=\"q\" size=\"17\" autocorrect=\"off\" spellcheck=\"false\" autocapitalize=\"off\" autocomplete=\"off\"></form></center></td></tr></tbody></table></center><script type=\"text/javascript\" src=\"hn.js?sJrC2FNC7onakFWpNx3H\"></script></body></html>'"
            ],
            "application/vnd.google.colaboratory.intrinsic+json": {
              "type": "string"
            }
          },
          "metadata": {},
          "execution_count": 66
        }
      ]
    },
    {
      "cell_type": "code",
      "source": [
        "from bs4 import BeautifulSoup\n",
        "from urllib.parse import urljoin\n",
        "import pandas as pd\n",
        "\n",
        "# html 변수는 이미 fast_text_only()로 받아온 문자열이라고 가정\n",
        "soup = BeautifulSoup(html, \"html.parser\")\n",
        "\n",
        "base = \"https://news.ycombinator.com/\"\n",
        "rows = []\n",
        "\n",
        "# HN은 각 글이 tr.athing, 그 다음 tr에 메타정보(td.subtext)가 옵니다.\n",
        "for tr in soup.select(\"tr.athing\"):\n",
        "    # 제목/링크/순위\n",
        "    a = tr.select_one(\"span.titleline > a\") or tr.select_one(\"a.storylink\")  # (구버전 호환)\n",
        "    title = a.get_text(strip=True) if a else \"\"\n",
        "    url = urljoin(base, a.get(\"href\", \"\")) if a else \"\"\n",
        "    rank_el = tr.select_one(\"span.rank\")\n",
        "    rank = rank_el.get_text(strip=True).rstrip(\".\") if rank_el else None\n",
        "\n",
        "    # 다음 행의 메타 정보\n",
        "    sub = tr.find_next_sibling(\"tr\")\n",
        "    subtext = sub.select_one(\"td.subtext\") if sub else None\n",
        "\n",
        "    points = author = age = comments = None\n",
        "    if subtext:\n",
        "        score_el = subtext.select_one(\"span.score\")\n",
        "        if score_el:\n",
        "            # \"123 points\" → 123\n",
        "            try:\n",
        "                points = int(score_el.get_text(strip=True).split()[0])\n",
        "            except Exception:\n",
        "                points = score_el.get_text(strip=True)\n",
        "\n",
        "        user_el = subtext.select_one(\"a.hnuser\")\n",
        "        author = user_el.get_text(strip=True) if user_el else None\n",
        "\n",
        "        age_el = subtext.select_one(\"span.age a\")\n",
        "        age = age_el.get_text(strip=True) if age_el else None\n",
        "\n",
        "        # 마지막 링크가 보통 \"X comments\" 또는 \"discuss\"\n",
        "        links = subtext.find_all(\"a\")\n",
        "        if links:\n",
        "            ctext = links[-1].get_text(strip=True)\n",
        "            if \"comment\" in ctext or \"discuss\" in ctext:\n",
        "                comments = ctext\n",
        "\n",
        "    rows.append({\n",
        "        \"rank\": rank,\n",
        "        \"title\": title,\n",
        "        \"url\": url,\n",
        "        \"points\": points,\n",
        "        \"author\": author,\n",
        "        \"age\": age,\n",
        "        \"comments\": comments,\n",
        "    })\n",
        "\n",
        "df = pd.DataFrame(rows)\n",
        "df.head()\n"
      ],
      "metadata": {
        "colab": {
          "base_uri": "https://localhost:8080/",
          "height": 206
        },
        "id": "de__KzYk4OLc",
        "outputId": "f5ec8306-4d87-4664-c74f-24b75081b1a4"
      },
      "execution_count": 70,
      "outputs": [
        {
          "output_type": "execute_result",
          "data": {
            "text/plain": [
              "  rank                                              title  \\\n",
              "0    1  Show HN: We started building an AI dev tool bu...   \n",
              "1    2  Show HN: Whispering – Open-source, local-first...   \n",
              "2    3                          Left to Right Programming   \n",
              "3    4  Show HN: I built an app to block Shorts and Reels   \n",
              "4    5                   FFmpeg Assembly Language Lessons   \n",
              "\n",
              "                                                 url  points       author  \\\n",
              "0        https://www.youtube.com/watch?v=sRPnX_f2V_c      47     maxraven   \n",
              "1  https://github.com/epicenter-so/epicenter/tree...      95     braden-w   \n",
              "2      https://graic.net/p/left-to-right-programming      80        graic   \n",
              "3                           https://scrollguard.app/     377  adrianhacar   \n",
              "4              https://github.com/FFmpeg/asm-lessons     247   flykespice   \n",
              "\n",
              "           age      comments  \n",
              "0   1 hour ago   28 comments  \n",
              "1  3 hours ago   24 comments  \n",
              "2  3 hours ago   68 comments  \n",
              "3  8 hours ago  145 comments  \n",
              "4  6 hours ago   73 comments  "
            ],
            "text/html": [
              "\n",
              "  <div id=\"df-8aacc397-bc1b-4976-b6b5-e631eb9b2fb7\" class=\"colab-df-container\">\n",
              "    <div>\n",
              "<style scoped>\n",
              "    .dataframe tbody tr th:only-of-type {\n",
              "        vertical-align: middle;\n",
              "    }\n",
              "\n",
              "    .dataframe tbody tr th {\n",
              "        vertical-align: top;\n",
              "    }\n",
              "\n",
              "    .dataframe thead th {\n",
              "        text-align: right;\n",
              "    }\n",
              "</style>\n",
              "<table border=\"1\" class=\"dataframe\">\n",
              "  <thead>\n",
              "    <tr style=\"text-align: right;\">\n",
              "      <th></th>\n",
              "      <th>rank</th>\n",
              "      <th>title</th>\n",
              "      <th>url</th>\n",
              "      <th>points</th>\n",
              "      <th>author</th>\n",
              "      <th>age</th>\n",
              "      <th>comments</th>\n",
              "    </tr>\n",
              "  </thead>\n",
              "  <tbody>\n",
              "    <tr>\n",
              "      <th>0</th>\n",
              "      <td>1</td>\n",
              "      <td>Show HN: We started building an AI dev tool bu...</td>\n",
              "      <td>https://www.youtube.com/watch?v=sRPnX_f2V_c</td>\n",
              "      <td>47</td>\n",
              "      <td>maxraven</td>\n",
              "      <td>1 hour ago</td>\n",
              "      <td>28 comments</td>\n",
              "    </tr>\n",
              "    <tr>\n",
              "      <th>1</th>\n",
              "      <td>2</td>\n",
              "      <td>Show HN: Whispering – Open-source, local-first...</td>\n",
              "      <td>https://github.com/epicenter-so/epicenter/tree...</td>\n",
              "      <td>95</td>\n",
              "      <td>braden-w</td>\n",
              "      <td>3 hours ago</td>\n",
              "      <td>24 comments</td>\n",
              "    </tr>\n",
              "    <tr>\n",
              "      <th>2</th>\n",
              "      <td>3</td>\n",
              "      <td>Left to Right Programming</td>\n",
              "      <td>https://graic.net/p/left-to-right-programming</td>\n",
              "      <td>80</td>\n",
              "      <td>graic</td>\n",
              "      <td>3 hours ago</td>\n",
              "      <td>68 comments</td>\n",
              "    </tr>\n",
              "    <tr>\n",
              "      <th>3</th>\n",
              "      <td>4</td>\n",
              "      <td>Show HN: I built an app to block Shorts and Reels</td>\n",
              "      <td>https://scrollguard.app/</td>\n",
              "      <td>377</td>\n",
              "      <td>adrianhacar</td>\n",
              "      <td>8 hours ago</td>\n",
              "      <td>145 comments</td>\n",
              "    </tr>\n",
              "    <tr>\n",
              "      <th>4</th>\n",
              "      <td>5</td>\n",
              "      <td>FFmpeg Assembly Language Lessons</td>\n",
              "      <td>https://github.com/FFmpeg/asm-lessons</td>\n",
              "      <td>247</td>\n",
              "      <td>flykespice</td>\n",
              "      <td>6 hours ago</td>\n",
              "      <td>73 comments</td>\n",
              "    </tr>\n",
              "  </tbody>\n",
              "</table>\n",
              "</div>\n",
              "    <div class=\"colab-df-buttons\">\n",
              "\n",
              "  <div class=\"colab-df-container\">\n",
              "    <button class=\"colab-df-convert\" onclick=\"convertToInteractive('df-8aacc397-bc1b-4976-b6b5-e631eb9b2fb7')\"\n",
              "            title=\"Convert this dataframe to an interactive table.\"\n",
              "            style=\"display:none;\">\n",
              "\n",
              "  <svg xmlns=\"http://www.w3.org/2000/svg\" height=\"24px\" viewBox=\"0 -960 960 960\">\n",
              "    <path d=\"M120-120v-720h720v720H120Zm60-500h600v-160H180v160Zm220 220h160v-160H400v160Zm0 220h160v-160H400v160ZM180-400h160v-160H180v160Zm440 0h160v-160H620v160ZM180-180h160v-160H180v160Zm440 0h160v-160H620v160Z\"/>\n",
              "  </svg>\n",
              "    </button>\n",
              "\n",
              "  <style>\n",
              "    .colab-df-container {\n",
              "      display:flex;\n",
              "      gap: 12px;\n",
              "    }\n",
              "\n",
              "    .colab-df-convert {\n",
              "      background-color: #E8F0FE;\n",
              "      border: none;\n",
              "      border-radius: 50%;\n",
              "      cursor: pointer;\n",
              "      display: none;\n",
              "      fill: #1967D2;\n",
              "      height: 32px;\n",
              "      padding: 0 0 0 0;\n",
              "      width: 32px;\n",
              "    }\n",
              "\n",
              "    .colab-df-convert:hover {\n",
              "      background-color: #E2EBFA;\n",
              "      box-shadow: 0px 1px 2px rgba(60, 64, 67, 0.3), 0px 1px 3px 1px rgba(60, 64, 67, 0.15);\n",
              "      fill: #174EA6;\n",
              "    }\n",
              "\n",
              "    .colab-df-buttons div {\n",
              "      margin-bottom: 4px;\n",
              "    }\n",
              "\n",
              "    [theme=dark] .colab-df-convert {\n",
              "      background-color: #3B4455;\n",
              "      fill: #D2E3FC;\n",
              "    }\n",
              "\n",
              "    [theme=dark] .colab-df-convert:hover {\n",
              "      background-color: #434B5C;\n",
              "      box-shadow: 0px 1px 3px 1px rgba(0, 0, 0, 0.15);\n",
              "      filter: drop-shadow(0px 1px 2px rgba(0, 0, 0, 0.3));\n",
              "      fill: #FFFFFF;\n",
              "    }\n",
              "  </style>\n",
              "\n",
              "    <script>\n",
              "      const buttonEl =\n",
              "        document.querySelector('#df-8aacc397-bc1b-4976-b6b5-e631eb9b2fb7 button.colab-df-convert');\n",
              "      buttonEl.style.display =\n",
              "        google.colab.kernel.accessAllowed ? 'block' : 'none';\n",
              "\n",
              "      async function convertToInteractive(key) {\n",
              "        const element = document.querySelector('#df-8aacc397-bc1b-4976-b6b5-e631eb9b2fb7');\n",
              "        const dataTable =\n",
              "          await google.colab.kernel.invokeFunction('convertToInteractive',\n",
              "                                                    [key], {});\n",
              "        if (!dataTable) return;\n",
              "\n",
              "        const docLinkHtml = 'Like what you see? Visit the ' +\n",
              "          '<a target=\"_blank\" href=https://colab.research.google.com/notebooks/data_table.ipynb>data table notebook</a>'\n",
              "          + ' to learn more about interactive tables.';\n",
              "        element.innerHTML = '';\n",
              "        dataTable['output_type'] = 'display_data';\n",
              "        await google.colab.output.renderOutput(dataTable, element);\n",
              "        const docLink = document.createElement('div');\n",
              "        docLink.innerHTML = docLinkHtml;\n",
              "        element.appendChild(docLink);\n",
              "      }\n",
              "    </script>\n",
              "  </div>\n",
              "\n",
              "\n",
              "    <div id=\"df-93fb4b93-9545-4980-9e72-dd744203544a\">\n",
              "      <button class=\"colab-df-quickchart\" onclick=\"quickchart('df-93fb4b93-9545-4980-9e72-dd744203544a')\"\n",
              "                title=\"Suggest charts\"\n",
              "                style=\"display:none;\">\n",
              "\n",
              "<svg xmlns=\"http://www.w3.org/2000/svg\" height=\"24px\"viewBox=\"0 0 24 24\"\n",
              "     width=\"24px\">\n",
              "    <g>\n",
              "        <path d=\"M19 3H5c-1.1 0-2 .9-2 2v14c0 1.1.9 2 2 2h14c1.1 0 2-.9 2-2V5c0-1.1-.9-2-2-2zM9 17H7v-7h2v7zm4 0h-2V7h2v10zm4 0h-2v-4h2v4z\"/>\n",
              "    </g>\n",
              "</svg>\n",
              "      </button>\n",
              "\n",
              "<style>\n",
              "  .colab-df-quickchart {\n",
              "      --bg-color: #E8F0FE;\n",
              "      --fill-color: #1967D2;\n",
              "      --hover-bg-color: #E2EBFA;\n",
              "      --hover-fill-color: #174EA6;\n",
              "      --disabled-fill-color: #AAA;\n",
              "      --disabled-bg-color: #DDD;\n",
              "  }\n",
              "\n",
              "  [theme=dark] .colab-df-quickchart {\n",
              "      --bg-color: #3B4455;\n",
              "      --fill-color: #D2E3FC;\n",
              "      --hover-bg-color: #434B5C;\n",
              "      --hover-fill-color: #FFFFFF;\n",
              "      --disabled-bg-color: #3B4455;\n",
              "      --disabled-fill-color: #666;\n",
              "  }\n",
              "\n",
              "  .colab-df-quickchart {\n",
              "    background-color: var(--bg-color);\n",
              "    border: none;\n",
              "    border-radius: 50%;\n",
              "    cursor: pointer;\n",
              "    display: none;\n",
              "    fill: var(--fill-color);\n",
              "    height: 32px;\n",
              "    padding: 0;\n",
              "    width: 32px;\n",
              "  }\n",
              "\n",
              "  .colab-df-quickchart:hover {\n",
              "    background-color: var(--hover-bg-color);\n",
              "    box-shadow: 0 1px 2px rgba(60, 64, 67, 0.3), 0 1px 3px 1px rgba(60, 64, 67, 0.15);\n",
              "    fill: var(--button-hover-fill-color);\n",
              "  }\n",
              "\n",
              "  .colab-df-quickchart-complete:disabled,\n",
              "  .colab-df-quickchart-complete:disabled:hover {\n",
              "    background-color: var(--disabled-bg-color);\n",
              "    fill: var(--disabled-fill-color);\n",
              "    box-shadow: none;\n",
              "  }\n",
              "\n",
              "  .colab-df-spinner {\n",
              "    border: 2px solid var(--fill-color);\n",
              "    border-color: transparent;\n",
              "    border-bottom-color: var(--fill-color);\n",
              "    animation:\n",
              "      spin 1s steps(1) infinite;\n",
              "  }\n",
              "\n",
              "  @keyframes spin {\n",
              "    0% {\n",
              "      border-color: transparent;\n",
              "      border-bottom-color: var(--fill-color);\n",
              "      border-left-color: var(--fill-color);\n",
              "    }\n",
              "    20% {\n",
              "      border-color: transparent;\n",
              "      border-left-color: var(--fill-color);\n",
              "      border-top-color: var(--fill-color);\n",
              "    }\n",
              "    30% {\n",
              "      border-color: transparent;\n",
              "      border-left-color: var(--fill-color);\n",
              "      border-top-color: var(--fill-color);\n",
              "      border-right-color: var(--fill-color);\n",
              "    }\n",
              "    40% {\n",
              "      border-color: transparent;\n",
              "      border-right-color: var(--fill-color);\n",
              "      border-top-color: var(--fill-color);\n",
              "    }\n",
              "    60% {\n",
              "      border-color: transparent;\n",
              "      border-right-color: var(--fill-color);\n",
              "    }\n",
              "    80% {\n",
              "      border-color: transparent;\n",
              "      border-right-color: var(--fill-color);\n",
              "      border-bottom-color: var(--fill-color);\n",
              "    }\n",
              "    90% {\n",
              "      border-color: transparent;\n",
              "      border-bottom-color: var(--fill-color);\n",
              "    }\n",
              "  }\n",
              "</style>\n",
              "\n",
              "      <script>\n",
              "        async function quickchart(key) {\n",
              "          const quickchartButtonEl =\n",
              "            document.querySelector('#' + key + ' button');\n",
              "          quickchartButtonEl.disabled = true;  // To prevent multiple clicks.\n",
              "          quickchartButtonEl.classList.add('colab-df-spinner');\n",
              "          try {\n",
              "            const charts = await google.colab.kernel.invokeFunction(\n",
              "                'suggestCharts', [key], {});\n",
              "          } catch (error) {\n",
              "            console.error('Error during call to suggestCharts:', error);\n",
              "          }\n",
              "          quickchartButtonEl.classList.remove('colab-df-spinner');\n",
              "          quickchartButtonEl.classList.add('colab-df-quickchart-complete');\n",
              "        }\n",
              "        (() => {\n",
              "          let quickchartButtonEl =\n",
              "            document.querySelector('#df-93fb4b93-9545-4980-9e72-dd744203544a button');\n",
              "          quickchartButtonEl.style.display =\n",
              "            google.colab.kernel.accessAllowed ? 'block' : 'none';\n",
              "        })();\n",
              "      </script>\n",
              "    </div>\n",
              "\n",
              "    </div>\n",
              "  </div>\n"
            ],
            "application/vnd.google.colaboratory.intrinsic+json": {
              "type": "dataframe",
              "variable_name": "df",
              "summary": "{\n  \"name\": \"df\",\n  \"rows\": 30,\n  \"fields\": [\n    {\n      \"column\": \"rank\",\n      \"properties\": {\n        \"dtype\": \"string\",\n        \"num_unique_values\": 30,\n        \"samples\": [\n          \"28\",\n          \"16\",\n          \"24\"\n        ],\n        \"semantic_type\": \"\",\n        \"description\": \"\"\n      }\n    },\n    {\n      \"column\": \"title\",\n      \"properties\": {\n        \"dtype\": \"string\",\n        \"num_unique_values\": 30,\n        \"samples\": [\n          \"Macintosh Drawing Software Compared\",\n          \"Typechecker Zoo\",\n          \"Turning an iPad Pro into the Ultimate Classic Macintosh (2021)\"\n        ],\n        \"semantic_type\": \"\",\n        \"description\": \"\"\n      }\n    },\n    {\n      \"column\": \"url\",\n      \"properties\": {\n        \"dtype\": \"string\",\n        \"num_unique_values\": 30,\n        \"samples\": [\n          \"https://blog.gingerbeardman.com/2021/04/24/macintosh-drawing-software-compared/\",\n          \"https://sdiehl.github.io/typechecker-zoo/\",\n          \"https://blog.gingerbeardman.com/2021/04/17/turning-an-ipad-pro-into-the-ultimate-classic-macintosh/\"\n        ],\n        \"semantic_type\": \"\",\n        \"description\": \"\"\n      }\n    },\n    {\n      \"column\": \"points\",\n      \"properties\": {\n        \"dtype\": \"number\",\n        \"std\": 148,\n        \"min\": 8,\n        \"max\": 610,\n        \"num_unique_values\": 29,\n        \"samples\": [\n          8,\n          27,\n          65\n        ],\n        \"semantic_type\": \"\",\n        \"description\": \"\"\n      }\n    },\n    {\n      \"column\": \"author\",\n      \"properties\": {\n        \"dtype\": \"string\",\n        \"num_unique_values\": 28,\n        \"samples\": [\n          \"Michelangelo11\",\n          \"mooreds\",\n          \"Bender\"\n        ],\n        \"semantic_type\": \"\",\n        \"description\": \"\"\n      }\n    },\n    {\n      \"column\": \"age\",\n      \"properties\": {\n        \"dtype\": \"category\",\n        \"num_unique_values\": 12,\n        \"samples\": [\n          \"9 hours ago\",\n          \"29 minutes ago\",\n          \"1 hour ago\"\n        ],\n        \"semantic_type\": \"\",\n        \"description\": \"\"\n      }\n    },\n    {\n      \"column\": \"comments\",\n      \"properties\": {\n        \"dtype\": \"string\",\n        \"num_unique_values\": 23,\n        \"samples\": [\n          \"4\\u00a0comments\",\n          \"5\\u00a0comments\",\n          \"28\\u00a0comments\"\n        ],\n        \"semantic_type\": \"\",\n        \"description\": \"\"\n      }\n    }\n  ]\n}"
            }
          },
          "metadata": {},
          "execution_count": 70
        }
      ]
    }
  ]
}