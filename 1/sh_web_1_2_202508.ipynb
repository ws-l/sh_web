{
  "nbformat": 4,
  "nbformat_minor": 0,
  "metadata": {
    "colab": {
      "provenance": []
    },
    "kernelspec": {
      "name": "python3",
      "display_name": "Python 3"
    },
    "language_info": {
      "name": "python"
    }
  },
  "cells": [
    {
      "cell_type": "markdown",
      "source": [
        "# 1. LangChain 웹페이지 로더"
      ],
      "metadata": {
        "id": "dwYxznSkLkaq"
      }
    },
    {
      "cell_type": "code",
      "source": [
        "!pip -q install langchain langchain-community langchain-text-splitters \\\n",
        "               sentence-transformers faiss-cpu transformers accelerate \\\n",
        "               pypdf unstructured trafilatura \\\n",
        "               playwright bs4 html2text\n",
        "# Playwright 브라우저 설치 (동적 렌더링용)\n",
        "!playwright install --with-deps chromium\n",
        "!pip -q install -U  trafilatura"
      ],
      "metadata": {
        "colab": {
          "base_uri": "https://localhost:8080/"
        },
        "id": "9Ce1O2jJLkiS",
        "outputId": "1814f5cb-27e6-410c-9fc7-ae0134c9aec5"
      },
      "execution_count": 10,
      "outputs": [
        {
          "output_type": "stream",
          "name": "stdout",
          "text": [
            "\u001b[2K   \u001b[90m━━━━━━━━━━━━━━━━━━━━━━━━━━━━━━━━━━━━━━━━\u001b[0m \u001b[32m132.6/132.6 kB\u001b[0m \u001b[31m5.1 MB/s\u001b[0m eta \u001b[36m0:00:00\u001b[0m\n",
            "\u001b[2K   \u001b[90m━━━━━━━━━━━━━━━━━━━━━━━━━━━━━━━━━━━━━━━━\u001b[0m \u001b[32m45.9/45.9 MB\u001b[0m \u001b[31m17.4 MB/s\u001b[0m eta \u001b[36m0:00:00\u001b[0m\n",
            "\u001b[2K   \u001b[90m━━━━━━━━━━━━━━━━━━━━━━━━━━━━━━━━━━━━━━━━\u001b[0m \u001b[32m837.9/837.9 kB\u001b[0m \u001b[31m44.6 MB/s\u001b[0m eta \u001b[36m0:00:00\u001b[0m\n",
            "\u001b[2K   \u001b[90m━━━━━━━━━━━━━━━━━━━━━━━━━━━━━━━━━━━━━━━━\u001b[0m \u001b[32m315.5/315.5 kB\u001b[0m \u001b[31m20.3 MB/s\u001b[0m eta \u001b[36m0:00:00\u001b[0m\n",
            "\u001b[2K   \u001b[90m━━━━━━━━━━━━━━━━━━━━━━━━━━━━━━━━━━━━━━━━\u001b[0m \u001b[32m274.7/274.7 kB\u001b[0m \u001b[31m17.1 MB/s\u001b[0m eta \u001b[36m0:00:00\u001b[0m\n",
            "\u001b[?25hInstalling dependencies...\n",
            "Get:1 http://security.ubuntu.com/ubuntu jammy-security InRelease [129 kB]\n",
            "Hit:2 https://cli.github.com/packages stable InRelease\n",
            "Get:3 https://cloud.r-project.org/bin/linux/ubuntu jammy-cran40/ InRelease [3,632 B]\n",
            "Get:4 https://developer.download.nvidia.com/compute/cuda/repos/ubuntu2204/x86_64  InRelease [1,581 B]\n",
            "Hit:5 https://r2u.stat.illinois.edu/ubuntu jammy InRelease\n",
            "Hit:6 http://archive.ubuntu.com/ubuntu jammy InRelease\n",
            "Get:7 http://archive.ubuntu.com/ubuntu jammy-updates InRelease [128 kB]\n",
            "Get:8 https://developer.download.nvidia.com/compute/cuda/repos/ubuntu2204/x86_64  Packages [1,937 kB]\n",
            "Get:9 https://ppa.launchpadcontent.net/deadsnakes/ppa/ubuntu jammy InRelease [18.1 kB]\n",
            "Get:10 http://security.ubuntu.com/ubuntu jammy-security/universe amd64 Packages [1,271 kB]\n",
            "Hit:11 https://ppa.launchpadcontent.net/graphics-drivers/ppa/ubuntu jammy InRelease\n",
            "Get:12 http://archive.ubuntu.com/ubuntu jammy-backports InRelease [127 kB]\n",
            "Hit:13 https://ppa.launchpadcontent.net/ubuntugis/ppa/ubuntu jammy InRelease\n",
            "Get:14 http://security.ubuntu.com/ubuntu jammy-security/main amd64 Packages [3,209 kB]\n",
            "Get:15 https://ppa.launchpadcontent.net/deadsnakes/ppa/ubuntu jammy/main amd64 Packages [33.2 kB]\n",
            "Get:16 http://archive.ubuntu.com/ubuntu jammy-updates/universe amd64 Packages [1,575 kB]\n",
            "Get:17 http://archive.ubuntu.com/ubuntu jammy-updates/main amd64 Packages [3,521 kB]\n",
            "Fetched 12.0 MB in 4s (3,094 kB/s)\n",
            "Reading package lists... Done\n",
            "W: Skipping acquire of configured file 'main/source/Sources' as repository 'https://r2u.stat.illinois.edu/ubuntu jammy InRelease' does not seem to provide it (sources.list entry misspelt?)\n",
            "Reading package lists... Done\n",
            "Building dependency tree... Done\n",
            "Reading state information... Done\n",
            "fonts-liberation is already the newest version (1:1.07.4-11).\n",
            "libasound2 is already the newest version (1.2.6.1-1ubuntu1).\n",
            "libasound2 set to manually installed.\n",
            "libatk-bridge2.0-0 is already the newest version (2.38.0-3).\n",
            "libatk-bridge2.0-0 set to manually installed.\n",
            "libatk1.0-0 is already the newest version (2.36.0-3build1).\n",
            "libatk1.0-0 set to manually installed.\n",
            "libatspi2.0-0 is already the newest version (2.44.0-3).\n",
            "libatspi2.0-0 set to manually installed.\n",
            "libcairo2 is already the newest version (1.16.0-5ubuntu2).\n",
            "libcairo2 set to manually installed.\n",
            "libfontconfig1 is already the newest version (2.13.1-4.2ubuntu5).\n",
            "libxcb1 is already the newest version (1.14-3ubuntu3).\n",
            "libxcb1 set to manually installed.\n",
            "libxcomposite1 is already the newest version (1:0.4.5-1build2).\n",
            "libxcomposite1 set to manually installed.\n",
            "libxdamage1 is already the newest version (1:1.1.5-2build2).\n",
            "libxdamage1 set to manually installed.\n",
            "libxext6 is already the newest version (2:1.3.4-1build1).\n",
            "libxfixes3 is already the newest version (1:6.0.0-1).\n",
            "libxfixes3 set to manually installed.\n",
            "libxkbcommon0 is already the newest version (1.4.0-1).\n",
            "libxkbcommon0 set to manually installed.\n",
            "libxrandr2 is already the newest version (2:1.5.2-1build1).\n",
            "libxrandr2 set to manually installed.\n",
            "libcups2 is already the newest version (2.4.1op1-1ubuntu4.11).\n",
            "libcups2 set to manually installed.\n",
            "libdbus-1-3 is already the newest version (1.12.20-2ubuntu4.1).\n",
            "libdbus-1-3 set to manually installed.\n",
            "libdrm2 is already the newest version (2.4.113-2~ubuntu0.22.04.1).\n",
            "libdrm2 set to manually installed.\n",
            "libfreetype6 is already the newest version (2.11.1+dfsg-1ubuntu0.3).\n",
            "libfreetype6 set to manually installed.\n",
            "libgbm1 is already the newest version (23.2.1-1ubuntu3.1~22.04.3).\n",
            "libgbm1 set to manually installed.\n",
            "libglib2.0-0 is already the newest version (2.72.4-0ubuntu2.5).\n",
            "libnspr4 is already the newest version (2:4.35-0ubuntu0.22.04.1).\n",
            "libnspr4 set to manually installed.\n",
            "libnss3 is already the newest version (2:3.98-0ubuntu0.22.04.2).\n",
            "libnss3 set to manually installed.\n",
            "libpango-1.0-0 is already the newest version (1.50.6+ds-2ubuntu1).\n",
            "libpango-1.0-0 set to manually installed.\n",
            "libwayland-client0 is already the newest version (1.20.0-1ubuntu0.1).\n",
            "libwayland-client0 set to manually installed.\n",
            "libx11-6 is already the newest version (2:1.7.5-1ubuntu0.3).\n",
            "libx11-6 set to manually installed.\n",
            "xvfb is already the newest version (2:21.1.4-2ubuntu1.7~22.04.15).\n",
            "The following additional packages will be installed:\n",
            "  xfonts-encodings xfonts-utils\n",
            "Recommended packages:\n",
            "  fonts-ipafont-mincho fonts-tlwg-loma\n",
            "The following NEW packages will be installed:\n",
            "  fonts-freefont-ttf fonts-ipafont-gothic fonts-noto-color-emoji\n",
            "  fonts-tlwg-loma-otf fonts-unifont fonts-wqy-zenhei xfonts-cyrillic\n",
            "  xfonts-encodings xfonts-scalable xfonts-utils\n",
            "0 upgraded, 10 newly installed, 0 to remove and 35 not upgraded.\n",
            "Need to get 28.4 MB of archives.\n",
            "After this operation, 67.9 MB of additional disk space will be used.\n",
            "Get:1 http://archive.ubuntu.com/ubuntu jammy/universe amd64 fonts-ipafont-gothic all 00303-21ubuntu1 [3,513 kB]\n",
            "Get:2 http://archive.ubuntu.com/ubuntu jammy/main amd64 fonts-freefont-ttf all 20120503-10build1 [2,388 kB]\n",
            "Get:3 http://archive.ubuntu.com/ubuntu jammy-updates/main amd64 fonts-noto-color-emoji all 2.047-0ubuntu0.22.04.1 [10.0 MB]\n",
            "Get:4 http://archive.ubuntu.com/ubuntu jammy/universe amd64 fonts-tlwg-loma-otf all 1:0.7.3-1 [107 kB]\n",
            "Get:5 http://archive.ubuntu.com/ubuntu jammy/universe amd64 fonts-unifont all 1:14.0.01-1 [3,551 kB]\n",
            "Get:6 http://archive.ubuntu.com/ubuntu jammy/universe amd64 fonts-wqy-zenhei all 0.9.45-8 [7,472 kB]\n",
            "Get:7 http://archive.ubuntu.com/ubuntu jammy/main amd64 xfonts-encodings all 1:1.0.5-0ubuntu2 [578 kB]\n",
            "Get:8 http://archive.ubuntu.com/ubuntu jammy/main amd64 xfonts-utils amd64 1:7.7+6build2 [94.6 kB]\n",
            "Get:9 http://archive.ubuntu.com/ubuntu jammy/universe amd64 xfonts-cyrillic all 1:1.0.5 [386 kB]\n",
            "Get:10 http://archive.ubuntu.com/ubuntu jammy/main amd64 xfonts-scalable all 1:1.0.3-1.2ubuntu1 [306 kB]\n",
            "Fetched 28.4 MB in 2s (14.8 MB/s)\n",
            "Selecting previously unselected package fonts-ipafont-gothic.\n",
            "(Reading database ... 126380 files and directories currently installed.)\n",
            "Preparing to unpack .../0-fonts-ipafont-gothic_00303-21ubuntu1_all.deb ...\n",
            "Unpacking fonts-ipafont-gothic (00303-21ubuntu1) ...\n",
            "Selecting previously unselected package fonts-freefont-ttf.\n",
            "Preparing to unpack .../1-fonts-freefont-ttf_20120503-10build1_all.deb ...\n",
            "Unpacking fonts-freefont-ttf (20120503-10build1) ...\n",
            "Selecting previously unselected package fonts-noto-color-emoji.\n",
            "Preparing to unpack .../2-fonts-noto-color-emoji_2.047-0ubuntu0.22.04.1_all.deb ...\n",
            "Unpacking fonts-noto-color-emoji (2.047-0ubuntu0.22.04.1) ...\n",
            "Selecting previously unselected package fonts-tlwg-loma-otf.\n",
            "Preparing to unpack .../3-fonts-tlwg-loma-otf_1%3a0.7.3-1_all.deb ...\n",
            "Unpacking fonts-tlwg-loma-otf (1:0.7.3-1) ...\n",
            "Selecting previously unselected package fonts-unifont.\n",
            "Preparing to unpack .../4-fonts-unifont_1%3a14.0.01-1_all.deb ...\n",
            "Unpacking fonts-unifont (1:14.0.01-1) ...\n",
            "Selecting previously unselected package fonts-wqy-zenhei.\n",
            "Preparing to unpack .../5-fonts-wqy-zenhei_0.9.45-8_all.deb ...\n",
            "Unpacking fonts-wqy-zenhei (0.9.45-8) ...\n",
            "Selecting previously unselected package xfonts-encodings.\n",
            "Preparing to unpack .../6-xfonts-encodings_1%3a1.0.5-0ubuntu2_all.deb ...\n",
            "Unpacking xfonts-encodings (1:1.0.5-0ubuntu2) ...\n",
            "Selecting previously unselected package xfonts-utils.\n",
            "Preparing to unpack .../7-xfonts-utils_1%3a7.7+6build2_amd64.deb ...\n",
            "Unpacking xfonts-utils (1:7.7+6build2) ...\n",
            "Selecting previously unselected package xfonts-cyrillic.\n",
            "Preparing to unpack .../8-xfonts-cyrillic_1%3a1.0.5_all.deb ...\n",
            "Unpacking xfonts-cyrillic (1:1.0.5) ...\n",
            "Selecting previously unselected package xfonts-scalable.\n",
            "Preparing to unpack .../9-xfonts-scalable_1%3a1.0.3-1.2ubuntu1_all.deb ...\n",
            "Unpacking xfonts-scalable (1:1.0.3-1.2ubuntu1) ...\n",
            "Setting up fonts-noto-color-emoji (2.047-0ubuntu0.22.04.1) ...\n",
            "Setting up fonts-wqy-zenhei (0.9.45-8) ...\n",
            "Setting up fonts-freefont-ttf (20120503-10build1) ...\n",
            "Setting up fonts-tlwg-loma-otf (1:0.7.3-1) ...\n",
            "Setting up xfonts-encodings (1:1.0.5-0ubuntu2) ...\n",
            "Setting up fonts-ipafont-gothic (00303-21ubuntu1) ...\n",
            "update-alternatives: using /usr/share/fonts/opentype/ipafont-gothic/ipag.ttf to provide /usr/share/fonts/truetype/fonts-japanese-gothic.ttf (fonts-japanese-gothic.ttf) in auto mode\n",
            "Setting up fonts-unifont (1:14.0.01-1) ...\n",
            "Setting up xfonts-utils (1:7.7+6build2) ...\n",
            "Setting up xfonts-cyrillic (1:1.0.5) ...\n",
            "Setting up xfonts-scalable (1:1.0.3-1.2ubuntu1) ...\n",
            "Processing triggers for man-db (2.10.2-1) ...\n",
            "Processing triggers for fontconfig (2.13.1-4.2ubuntu5) ...\n",
            "Downloading Chromium 139.0.7258.5 (playwright build v1181)\u001b[2m from https://cdn.playwright.dev/dbazure/download/playwright/builds/chromium/1181/chromium-linux.zip\u001b[22m\n",
            "\u001b[1G172.5 MiB [] 0% 0.0s\u001b[0K\u001b[1G172.5 MiB [] 0% 47.7s\u001b[0K\u001b[1G172.5 MiB [] 0% 26.7s\u001b[0K\u001b[1G172.5 MiB [] 0% 18.0s\u001b[0K\u001b[1G172.5 MiB [] 0% 11.5s\u001b[0K\u001b[1G172.5 MiB [] 0% 8.5s\u001b[0K\u001b[1G172.5 MiB [] 1% 7.2s\u001b[0K\u001b[1G172.5 MiB [] 1% 6.2s\u001b[0K\u001b[1G172.5 MiB [] 2% 6.1s\u001b[0K\u001b[1G172.5 MiB [] 2% 5.5s\u001b[0K\u001b[1G172.5 MiB [] 3% 5.1s\u001b[0K\u001b[1G172.5 MiB [] 3% 4.7s\u001b[0K\u001b[1G172.5 MiB [] 4% 4.4s\u001b[0K\u001b[1G172.5 MiB [] 4% 4.1s\u001b[0K\u001b[1G172.5 MiB [] 5% 4.2s\u001b[0K\u001b[1G172.5 MiB [] 5% 4.5s\u001b[0K\u001b[1G172.5 MiB [] 5% 4.6s\u001b[0K\u001b[1G172.5 MiB [] 6% 4.5s\u001b[0K\u001b[1G172.5 MiB [] 6% 4.6s\u001b[0K\u001b[1G172.5 MiB [] 6% 4.7s\u001b[0K\u001b[1G172.5 MiB [] 7% 4.6s\u001b[0K\u001b[1G172.5 MiB [] 7% 4.5s\u001b[0K\u001b[1G172.5 MiB [] 7% 4.6s\u001b[0K\u001b[1G172.5 MiB [] 8% 4.5s\u001b[0K\u001b[1G172.5 MiB [] 8% 4.3s\u001b[0K\u001b[1G172.5 MiB [] 9% 4.3s\u001b[0K\u001b[1G172.5 MiB [] 9% 4.5s\u001b[0K\u001b[1G172.5 MiB [] 10% 4.4s\u001b[0K\u001b[1G172.5 MiB [] 10% 4.3s\u001b[0K\u001b[1G172.5 MiB [] 10% 4.4s\u001b[0K\u001b[1G172.5 MiB [] 11% 4.3s\u001b[0K\u001b[1G172.5 MiB [] 11% 4.4s\u001b[0K\u001b[1G172.5 MiB [] 12% 4.3s\u001b[0K\u001b[1G172.5 MiB [] 12% 4.2s\u001b[0K\u001b[1G172.5 MiB [] 13% 4.1s\u001b[0K\u001b[1G172.5 MiB [] 13% 4.0s\u001b[0K\u001b[1G172.5 MiB [] 14% 4.0s\u001b[0K\u001b[1G172.5 MiB [] 15% 3.9s\u001b[0K\u001b[1G172.5 MiB [] 16% 3.8s\u001b[0K\u001b[1G172.5 MiB [] 17% 3.7s\u001b[0K\u001b[1G172.5 MiB [] 17% 3.6s\u001b[0K\u001b[1G172.5 MiB [] 18% 3.6s\u001b[0K\u001b[1G172.5 MiB [] 19% 3.5s\u001b[0K\u001b[1G172.5 MiB [] 19% 3.4s\u001b[0K\u001b[1G172.5 MiB [] 20% 3.3s\u001b[0K\u001b[1G172.5 MiB [] 21% 3.2s\u001b[0K\u001b[1G172.5 MiB [] 21% 3.3s\u001b[0K\u001b[1G172.5 MiB [] 22% 3.3s\u001b[0K\u001b[1G172.5 MiB [] 23% 3.2s\u001b[0K\u001b[1G172.5 MiB [] 23% 3.1s\u001b[0K\u001b[1G172.5 MiB [] 24% 3.1s\u001b[0K\u001b[1G172.5 MiB [] 25% 3.1s\u001b[0K\u001b[1G172.5 MiB [] 25% 3.0s\u001b[0K\u001b[1G172.5 MiB [] 26% 2.9s\u001b[0K\u001b[1G172.5 MiB [] 27% 2.8s\u001b[0K\u001b[1G172.5 MiB [] 28% 2.7s\u001b[0K\u001b[1G172.5 MiB [] 29% 2.7s\u001b[0K\u001b[1G172.5 MiB [] 29% 2.6s\u001b[0K\u001b[1G172.5 MiB [] 30% 2.6s\u001b[0K\u001b[1G172.5 MiB [] 31% 2.5s\u001b[0K\u001b[1G172.5 MiB [] 32% 2.5s\u001b[0K\u001b[1G172.5 MiB [] 32% 2.6s\u001b[0K\u001b[1G172.5 MiB [] 33% 2.5s\u001b[0K\u001b[1G172.5 MiB [] 33% 2.6s\u001b[0K\u001b[1G172.5 MiB [] 34% 2.5s\u001b[0K\u001b[1G172.5 MiB [] 35% 2.5s\u001b[0K\u001b[1G172.5 MiB [] 36% 2.4s\u001b[0K\u001b[1G172.5 MiB [] 37% 2.4s\u001b[0K\u001b[1G172.5 MiB [] 38% 2.3s\u001b[0K\u001b[1G172.5 MiB [] 39% 2.3s\u001b[0K\u001b[1G172.5 MiB [] 39% 2.2s\u001b[0K\u001b[1G172.5 MiB [] 40% 2.2s\u001b[0K\u001b[1G172.5 MiB [] 41% 2.2s\u001b[0K\u001b[1G172.5 MiB [] 42% 2.1s\u001b[0K\u001b[1G172.5 MiB [] 43% 2.1s\u001b[0K\u001b[1G172.5 MiB [] 44% 2.0s\u001b[0K\u001b[1G172.5 MiB [] 45% 2.0s\u001b[0K\u001b[1G172.5 MiB [] 46% 2.0s\u001b[0K\u001b[1G172.5 MiB [] 47% 1.9s\u001b[0K\u001b[1G172.5 MiB [] 48% 1.9s\u001b[0K\u001b[1G172.5 MiB [] 49% 1.9s\u001b[0K\u001b[1G172.5 MiB [] 50% 1.9s\u001b[0K\u001b[1G172.5 MiB [] 51% 1.8s\u001b[0K\u001b[1G172.5 MiB [] 52% 1.8s\u001b[0K\u001b[1G172.5 MiB [] 53% 1.8s\u001b[0K\u001b[1G172.5 MiB [] 53% 1.7s\u001b[0K\u001b[1G172.5 MiB [] 54% 1.7s\u001b[0K\u001b[1G172.5 MiB [] 55% 1.7s\u001b[0K\u001b[1G172.5 MiB [] 56% 1.7s\u001b[0K\u001b[1G172.5 MiB [] 56% 1.6s\u001b[0K\u001b[1G172.5 MiB [] 57% 1.6s\u001b[0K\u001b[1G172.5 MiB [] 58% 1.6s\u001b[0K\u001b[1G172.5 MiB [] 58% 1.5s\u001b[0K\u001b[1G172.5 MiB [] 59% 1.5s\u001b[0K\u001b[1G172.5 MiB [] 60% 1.5s\u001b[0K\u001b[1G172.5 MiB [] 60% 1.4s\u001b[0K\u001b[1G172.5 MiB [] 62% 1.4s\u001b[0K\u001b[1G172.5 MiB [] 63% 1.3s\u001b[0K\u001b[1G172.5 MiB [] 64% 1.3s\u001b[0K\u001b[1G172.5 MiB [] 65% 1.2s\u001b[0K\u001b[1G172.5 MiB [] 66% 1.2s\u001b[0K\u001b[1G172.5 MiB [] 67% 1.1s\u001b[0K\u001b[1G172.5 MiB [] 69% 1.1s\u001b[0K\u001b[1G172.5 MiB [] 70% 1.0s\u001b[0K\u001b[1G172.5 MiB [] 71% 1.0s\u001b[0K\u001b[1G172.5 MiB [] 72% 0.9s\u001b[0K\u001b[1G172.5 MiB [] 73% 0.9s\u001b[0K\u001b[1G172.5 MiB [] 75% 0.8s\u001b[0K\u001b[1G172.5 MiB [] 76% 0.8s\u001b[0K\u001b[1G172.5 MiB [] 77% 0.7s\u001b[0K\u001b[1G172.5 MiB [] 78% 0.7s\u001b[0K\u001b[1G172.5 MiB [] 79% 0.6s\u001b[0K\u001b[1G172.5 MiB [] 80% 0.6s\u001b[0K\u001b[1G172.5 MiB [] 81% 0.6s\u001b[0K\u001b[1G172.5 MiB [] 82% 0.5s\u001b[0K\u001b[1G172.5 MiB [] 83% 0.5s\u001b[0K\u001b[1G172.5 MiB [] 84% 0.5s\u001b[0K\u001b[1G172.5 MiB [] 85% 0.4s\u001b[0K\u001b[1G172.5 MiB [] 86% 0.4s\u001b[0K\u001b[1G172.5 MiB [] 87% 0.4s\u001b[0K\u001b[1G172.5 MiB [] 88% 0.4s\u001b[0K\u001b[1G172.5 MiB [] 89% 0.3s\u001b[0K\u001b[1G172.5 MiB [] 90% 0.3s\u001b[0K\u001b[1G172.5 MiB [] 91% 0.3s\u001b[0K\u001b[1G172.5 MiB [] 92% 0.2s\u001b[0K\u001b[1G172.5 MiB [] 93% 0.2s\u001b[0K\u001b[1G172.5 MiB [] 94% 0.2s\u001b[0K\u001b[1G172.5 MiB [] 95% 0.1s\u001b[0K\u001b[1G172.5 MiB [] 96% 0.1s\u001b[0K\u001b[1G172.5 MiB [] 97% 0.1s\u001b[0K\u001b[1G172.5 MiB [] 98% 0.0s\u001b[0K\u001b[1G172.5 MiB [] 99% 0.0s\u001b[0K\u001b[1G172.5 MiB [] 100% 0.0s\u001b[0K\n",
            "Chromium 139.0.7258.5 (playwright build v1181) downloaded to /root/.cache/ms-playwright/chromium-1181\n",
            "Downloading FFMPEG playwright build v1011\u001b[2m from https://cdn.playwright.dev/dbazure/download/playwright/builds/ffmpeg/1011/ffmpeg-linux.zip\u001b[22m\n",
            "\u001b[1G2.3 MiB [] 0% 0.0s\u001b[0K\u001b[1G2.3 MiB [] 2% 0.7s\u001b[0K\u001b[1G2.3 MiB [] 9% 0.3s\u001b[0K\u001b[1G2.3 MiB [] 20% 0.2s\u001b[0K\u001b[1G2.3 MiB [] 44% 0.1s\u001b[0K\u001b[1G2.3 MiB [] 76% 0.0s\u001b[0K\u001b[1G2.3 MiB [] 100% 0.0s\u001b[0K\n",
            "FFMPEG playwright build v1011 downloaded to /root/.cache/ms-playwright/ffmpeg-1011\n",
            "Downloading Chromium Headless Shell 139.0.7258.5 (playwright build v1181)\u001b[2m from https://cdn.playwright.dev/dbazure/download/playwright/builds/chromium/1181/chromium-headless-shell-linux.zip\u001b[22m\n",
            "\u001b[1G104.8 MiB [] 0% 0.0s\u001b[0K\u001b[1G104.8 MiB [] 0% 32.2s\u001b[0K\u001b[1G104.8 MiB [] 0% 17.1s\u001b[0K\u001b[1G104.8 MiB [] 0% 10.5s\u001b[0K\u001b[1G104.8 MiB [] 1% 6.6s\u001b[0K\u001b[1G104.8 MiB [] 1% 5.1s\u001b[0K\u001b[1G104.8 MiB [] 2% 4.1s\u001b[0K\u001b[1G104.8 MiB [] 3% 3.7s\u001b[0K\u001b[1G104.8 MiB [] 4% 3.1s\u001b[0K\u001b[1G104.8 MiB [] 5% 2.7s\u001b[0K\u001b[1G104.8 MiB [] 5% 2.8s\u001b[0K\u001b[1G104.8 MiB [] 6% 2.8s\u001b[0K\u001b[1G104.8 MiB [] 7% 2.7s\u001b[0K\u001b[1G104.8 MiB [] 7% 2.6s\u001b[0K\u001b[1G104.8 MiB [] 8% 2.5s\u001b[0K\u001b[1G104.8 MiB [] 8% 2.7s\u001b[0K\u001b[1G104.8 MiB [] 9% 2.5s\u001b[0K\u001b[1G104.8 MiB [] 10% 2.6s\u001b[0K\u001b[1G104.8 MiB [] 11% 2.5s\u001b[0K\u001b[1G104.8 MiB [] 12% 2.4s\u001b[0K\u001b[1G104.8 MiB [] 13% 2.4s\u001b[0K\u001b[1G104.8 MiB [] 14% 2.4s\u001b[0K\u001b[1G104.8 MiB [] 15% 2.3s\u001b[0K\u001b[1G104.8 MiB [] 15% 2.4s\u001b[0K\u001b[1G104.8 MiB [] 17% 2.2s\u001b[0K\u001b[1G104.8 MiB [] 18% 2.1s\u001b[0K\u001b[1G104.8 MiB [] 19% 2.1s\u001b[0K\u001b[1G104.8 MiB [] 20% 2.1s\u001b[0K\u001b[1G104.8 MiB [] 21% 2.0s\u001b[0K\u001b[1G104.8 MiB [] 22% 1.9s\u001b[0K\u001b[1G104.8 MiB [] 23% 1.9s\u001b[0K\u001b[1G104.8 MiB [] 24% 1.8s\u001b[0K\u001b[1G104.8 MiB [] 26% 1.7s\u001b[0K\u001b[1G104.8 MiB [] 27% 1.6s\u001b[0K\u001b[1G104.8 MiB [] 28% 1.6s\u001b[0K\u001b[1G104.8 MiB [] 30% 1.5s\u001b[0K\u001b[1G104.8 MiB [] 31% 1.5s\u001b[0K\u001b[1G104.8 MiB [] 32% 1.5s\u001b[0K\u001b[1G104.8 MiB [] 33% 1.4s\u001b[0K\u001b[1G104.8 MiB [] 34% 1.4s\u001b[0K\u001b[1G104.8 MiB [] 35% 1.4s\u001b[0K\u001b[1G104.8 MiB [] 36% 1.4s\u001b[0K\u001b[1G104.8 MiB [] 37% 1.4s\u001b[0K\u001b[1G104.8 MiB [] 38% 1.3s\u001b[0K\u001b[1G104.8 MiB [] 39% 1.3s\u001b[0K\u001b[1G104.8 MiB [] 41% 1.3s\u001b[0K\u001b[1G104.8 MiB [] 42% 1.2s\u001b[0K\u001b[1G104.8 MiB [] 43% 1.2s\u001b[0K\u001b[1G104.8 MiB [] 44% 1.1s\u001b[0K\u001b[1G104.8 MiB [] 45% 1.1s\u001b[0K\u001b[1G104.8 MiB [] 46% 1.1s\u001b[0K\u001b[1G104.8 MiB [] 47% 1.1s\u001b[0K\u001b[1G104.8 MiB [] 48% 1.1s\u001b[0K\u001b[1G104.8 MiB [] 49% 1.0s\u001b[0K\u001b[1G104.8 MiB [] 50% 1.0s\u001b[0K\u001b[1G104.8 MiB [] 51% 1.0s\u001b[0K\u001b[1G104.8 MiB [] 52% 1.0s\u001b[0K\u001b[1G104.8 MiB [] 53% 0.9s\u001b[0K\u001b[1G104.8 MiB [] 55% 0.9s\u001b[0K\u001b[1G104.8 MiB [] 56% 0.8s\u001b[0K\u001b[1G104.8 MiB [] 58% 0.8s\u001b[0K\u001b[1G104.8 MiB [] 59% 0.8s\u001b[0K\u001b[1G104.8 MiB [] 61% 0.7s\u001b[0K\u001b[1G104.8 MiB [] 62% 0.7s\u001b[0K\u001b[1G104.8 MiB [] 63% 0.7s\u001b[0K\u001b[1G104.8 MiB [] 65% 0.7s\u001b[0K\u001b[1G104.8 MiB [] 66% 0.6s\u001b[0K\u001b[1G104.8 MiB [] 67% 0.6s\u001b[0K\u001b[1G104.8 MiB [] 69% 0.6s\u001b[0K\u001b[1G104.8 MiB [] 70% 0.5s\u001b[0K\u001b[1G104.8 MiB [] 72% 0.5s\u001b[0K\u001b[1G104.8 MiB [] 73% 0.5s\u001b[0K\u001b[1G104.8 MiB [] 75% 0.4s\u001b[0K\u001b[1G104.8 MiB [] 76% 0.4s\u001b[0K\u001b[1G104.8 MiB [] 77% 0.4s\u001b[0K\u001b[1G104.8 MiB [] 79% 0.3s\u001b[0K\u001b[1G104.8 MiB [] 80% 0.3s\u001b[0K\u001b[1G104.8 MiB [] 82% 0.3s\u001b[0K\u001b[1G104.8 MiB [] 83% 0.3s\u001b[0K\u001b[1G104.8 MiB [] 84% 0.3s\u001b[0K\u001b[1G104.8 MiB [] 86% 0.2s\u001b[0K\u001b[1G104.8 MiB [] 87% 0.2s\u001b[0K\u001b[1G104.8 MiB [] 88% 0.2s\u001b[0K\u001b[1G104.8 MiB [] 90% 0.2s\u001b[0K\u001b[1G104.8 MiB [] 91% 0.1s\u001b[0K\u001b[1G104.8 MiB [] 93% 0.1s\u001b[0K\u001b[1G104.8 MiB [] 95% 0.1s\u001b[0K\u001b[1G104.8 MiB [] 97% 0.0s\u001b[0K\u001b[1G104.8 MiB [] 99% 0.0s\u001b[0K\u001b[1G104.8 MiB [] 100% 0.0s\u001b[0K\n",
            "Chromium Headless Shell 139.0.7258.5 (playwright build v1181) downloaded to /root/.cache/ms-playwright/chromium_headless_shell-1181\n"
          ]
        }
      ]
    },
    {
      "cell_type": "code",
      "source": [
        "!pip -q install -U  trafilatura"
      ],
      "metadata": {
        "id": "Z3WZh6hiOHZe"
      },
      "execution_count": 39,
      "outputs": []
    },
    {
      "cell_type": "markdown",
      "source": [
        "- 가장 간단한 정적 페이지: WebBaseLoader\n",
        " - 요청/파싱이 빠르고 가벼움 (정적 HTML에 적합)"
      ],
      "metadata": {
        "id": "WolV_21hLyV6"
      }
    },
    {
      "cell_type": "code",
      "source": [
        "from langchain_community.document_loaders import WebBaseLoader\n",
        "from bs4 import SoupStrainer\n",
        "\n",
        "urls = [\n",
        "    \"https://example.com/\",\n",
        "    \"https://www.pinecone.io/learn/retrieval-augmented-generation/\"\n",
        "]\n",
        "\n",
        "# <article>만 긁는 등 필요 영역만 파싱(선택)\n",
        "only_article = SoupStrainer([\"article\", \"main\"])\n",
        "\n",
        "loader = WebBaseLoader(\n",
        "    web_paths=urls,\n",
        "    requests_per_second=1,           # 예의 있게\n",
        "    continue_on_failure=True,        # 중간 오류 무시\n",
        "    bs_kwargs={\"parse_only\": only_article}\n",
        ")\n",
        "web_docs = loader.load()\n",
        "len(web_docs), web_docs[0].metadata\n"
      ],
      "metadata": {
        "colab": {
          "base_uri": "https://localhost:8080/"
        },
        "id": "s6qka3IjLtQQ",
        "outputId": "f764df56-8597-4e32-bbb8-f63161d0f5ca"
      },
      "execution_count": 48,
      "outputs": [
        {
          "output_type": "execute_result",
          "data": {
            "text/plain": [
              "(2, {'source': 'https://example.com/'})"
            ]
          },
          "metadata": {},
          "execution_count": 48
        }
      ]
    },
    {
      "cell_type": "markdown",
      "source": [
        "- 비동기 수집 + HTML → 텍스트 정제: AsyncHtmlLoader + Html2TextTransformer\n",
        " - 여러 URL을 한 번에 빠르게 가져오고, 불필요한 태그를 텍스트로 변환"
      ],
      "metadata": {
        "id": "lwECTy51L3Kl"
      }
    },
    {
      "cell_type": "code",
      "source": [
        "from langchain_community.document_loaders import AsyncHtmlLoader\n",
        "from langchain_community.document_transformers import Html2TextTransformer\n",
        "\n",
        "urls = [\n",
        "    \"https://python.langchain.com/docs/get_started/introduction\",\n",
        "    \"https://python.langchain.com/docs/modules/data_connection/document_loaders/\"\n",
        "]\n",
        "\n",
        "async_loader = AsyncHtmlLoader(urls)\n",
        "html_docs = async_loader.load()\n",
        "\n",
        "html2text = Html2TextTransformer()\n",
        "clean_docs = html2text.transform_documents(html_docs)\n",
        "print(len(clean_docs), clean_docs[0].page_content[:400])\n"
      ],
      "metadata": {
        "colab": {
          "base_uri": "https://localhost:8080/"
        },
        "id": "kCBpx0AxLtSm",
        "outputId": "111e06f7-8870-4d09-c354-fd6c80382fd2"
      },
      "execution_count": 49,
      "outputs": [
        {
          "output_type": "stream",
          "name": "stderr",
          "text": [
            "Fetching pages: 100%|##########| 2/2 [00:00<00:00,  7.30it/s]"
          ]
        },
        {
          "output_type": "stream",
          "name": "stdout",
          "text": [
            "2 Skip to main content\n",
            "\n",
            "Our new LangChain Academy Course Deep Research with LangGraph is now live!\n",
            "Enroll for free.\n",
            "\n",
            "IntegrationsAPI Reference\n",
            "\n",
            "More\n",
            "\n",
            "  * Contributing\n",
            "  * People\n",
            "  * Error reference\n",
            "  * * * *\n",
            "\n",
            "  * LangSmith\n",
            "  * LangGraph\n",
            "  * LangChain Hub\n",
            "  * LangChain JS/TS\n",
            "\n",
            "v0.3\n",
            "\n",
            "  * v0.3\n",
            "  * v0.2\n",
            "  * v0.1\n",
            "\n",
            "💬\n",
            "\n",
            "Search\n",
            "\n",
            "  * Introduction\n",
            "  * Tutorials\n",
            "\n",
            "    * Build a Question Answering application over\n"
          ]
        },
        {
          "output_type": "stream",
          "name": "stderr",
          "text": [
            "\n"
          ]
        }
      ]
    },
    {
      "cell_type": "code",
      "source": [
        "# 3) HTML→텍스트 변환(링크/리스트 정리)\n",
        "html2text = Html2TextTransformer()\n",
        "text_docs = html2text.transform_documents(clean_docs)\n",
        "\n",
        "print(\"정제 후 미리보기:\\n\", text_docs[0].page_content[:500])\n",
        "print(\"메타데이터:\", text_docs[0].metadata)"
      ],
      "metadata": {
        "colab": {
          "base_uri": "https://localhost:8080/"
        },
        "id": "4Zbes49qMWcm",
        "outputId": "5e3ea911-bcfa-4b7e-9771-051e58d90ff2"
      },
      "execution_count": 50,
      "outputs": [
        {
          "output_type": "stream",
          "name": "stdout",
          "text": [
            "정제 후 미리보기:\n",
            " Skip to main content Our new LangChain Academy Course Deep Research with\n",
            "LangGraph is now live! Enroll for free. IntegrationsAPI Reference More *\n",
            "Contributing * People * Error reference * * * * * LangSmith * LangGraph *\n",
            "LangChain Hub * LangChain JS/TS v0.3 * v0.3 * v0.2 * v0.1 💬 Search *\n",
            "Introduction * Tutorials * Build a Question Answering application over a Graph\n",
            "Database * Tutorials * Build a simple LLM application with chat models and\n",
            "prompt templates * Build a Chatbot * Build a Retrieval Au\n",
            "메타데이터: {'source': 'https://python.langchain.com/docs/get_started/introduction', 'title': 'Introduction | 🦜️🔗 LangChain', 'description': 'LangChain is a framework for developing applications powered by large language models (LLMs).', 'language': 'en'}\n"
          ]
        }
      ]
    },
    {
      "cell_type": "code",
      "source": [
        "cleaned_docs = []\n",
        "for d in docs:\n",
        "    soup = BeautifulSoup(d.page_content, \"html.parser\")\n",
        "    for sel in [\"header\", \"nav\", \"footer\", \"aside\", \".ads\", \".sponsored\"]:\n",
        "        for el in soup.select(sel):\n",
        "            el.decompose()\n",
        "    d.page_content = soup.get_text(\" \", strip=True)\n",
        "    cleaned_docs.append(d)\n",
        "\n"
      ],
      "metadata": {
        "id": "pAqwI8GOMIz0"
      },
      "execution_count": 51,
      "outputs": []
    },
    {
      "cell_type": "markdown",
      "source": [
        "- Unstructured 기반 범용 로더: UnstructuredURLLoader\n",
        " - PDF/HTML 혼재 페이지에 유용"
      ],
      "metadata": {
        "id": "5QT5iChzMN3z"
      }
    },
    {
      "cell_type": "code",
      "source": [
        "from langchain_community.document_loaders import UnstructuredURLLoader\n",
        "\n",
        "urls = [\n",
        "    \"https://example.com/\",\n",
        "    \"https://arxiv.org/pdf/2307.XXXX.pdf\"\n",
        "]\n",
        "un_loader = UnstructuredURLLoader(urls=urls, continue_on_failure=True)\n",
        "un_docs = un_loader.load()\n",
        "len(un_docs)\n"
      ],
      "metadata": {
        "colab": {
          "base_uri": "https://localhost:8080/"
        },
        "id": "7rlMHFyrMN_T",
        "outputId": "2719f4e3-8d0b-409c-899a-57adae4ab6f5"
      },
      "execution_count": 52,
      "outputs": [
        {
          "output_type": "execute_result",
          "data": {
            "text/plain": [
              "2"
            ]
          },
          "metadata": {},
          "execution_count": 52
        }
      ]
    },
    {
      "cell_type": "code",
      "source": [
        "un_docs[1].page_content"
      ],
      "metadata": {
        "colab": {
          "base_uri": "https://localhost:8080/",
          "height": 54
        },
        "id": "PG8xwxI5NiN2",
        "outputId": "79af7f7c-6b21-495f-f5c1-a3c4ea62fc8c"
      },
      "execution_count": 53,
      "outputs": [
        {
          "output_type": "execute_result",
          "data": {
            "text/plain": [
              "\"No article for ''\\n\\nThe identifier you have specified '' appears to be invalid.\\n\\ninvalid arXiv identifier 2307.XXXX\\n\\nPlease inform help@arxiv.org if you believe that the identifier should correspond to a valid paper in arXiv.\""
            ],
            "application/vnd.google.colaboratory.intrinsic+json": {
              "type": "string"
            }
          },
          "metadata": {},
          "execution_count": 53
        }
      ]
    },
    {
      "cell_type": "markdown",
      "source": [
        "- 벡터스토어로 통합 (앞서 만든 파이프라인과 연결)\n",
        " - 위 어느 로더에서 얻은 *_docs든 같은 방식으로 청크 → 임베딩 → FAISS 인덱스"
      ],
      "metadata": {
        "id": "rPaRG9LRMOFL"
      }
    },
    {
      "cell_type": "code",
      "source": [
        "from langchain_text_splitters import RecursiveCharacterTextSplitter\n",
        "from langchain_community.embeddings import HuggingFaceEmbeddings\n",
        "from langchain_community.vectorstores import FAISS\n",
        "\n",
        "# ① 문서 합치기(원하는 로더 결과를 이어붙이기)\n",
        "docs_all = (web_docs if 'web_docs' in globals() else []) \\\n",
        "         + (clean_docs if 'clean_docs' in globals() else []) \\\n",
        "         + (pw_docs if 'pw_docs' in globals() else []) \\\n",
        "         + (site_docs if 'site_docs' in globals() else []) \\\n",
        "         + (tf_docs if 'tf_docs' in globals() else []) \\\n",
        "         + (un_docs if 'un_docs' in globals() else [])\n",
        "\n",
        "print(\"수집 문서:\", len(docs_all))\n",
        "\n",
        "# ② 청크 분할\n",
        "splitter = RecursiveCharacterTextSplitter(chunk_size=800, chunk_overlap=120)\n",
        "splits = splitter.split_documents(docs_all)\n",
        "print(\"청크 수:\", len(splits))\n",
        "\n",
        "# ③ 임베딩 & 벡터스토어\n",
        "embeddings = HuggingFaceEmbeddings(model_name=\"sentence-transformers/all-MiniLM-L6-v2\")\n",
        "vectorstore = FAISS.from_documents(splits, embeddings)\n",
        "\n",
        "# ④ retriever로 RAG 체인에 연결 (이전 답변의 llm/prompt/rag_chain 그대로 사용 가능)\n",
        "retriever = vectorstore.as_retriever(search_kwargs={\"k\": 4})\n"
      ],
      "metadata": {
        "colab": {
          "base_uri": "https://localhost:8080/"
        },
        "id": "OgTbpxDPMOMm",
        "outputId": "63854cd9-114d-4161-eb46-8072122baa52"
      },
      "execution_count": 54,
      "outputs": [
        {
          "output_type": "stream",
          "name": "stdout",
          "text": [
            "수집 문서: 6\n",
            "청크 수: 50\n"
          ]
        }
      ]
    },
    {
      "cell_type": "markdown",
      "source": [
        "- 정적 페이지: WebBaseLoader\n",
        "- 많은 페이지: SitemapLoader\n",
        "- 동적/로그인/JS 렌더링 필요: PlaywrightURLLoader\n",
        "\n",
        "- 중복/유사 청크 제거: URL 기준/내용 해시로 dedupe\n",
        "- requests_per_second 조절, robots.txt 준수, 과도한 병렬 요청 지양.\n",
        "- 출처 보존: metadata[\"source\"]에 URL이 들어오므로, 응답에 파일명 대신 URL을 “출처”로 표시하도록 프롬프트/포맷을 변경"
      ],
      "metadata": {
        "id": "OkQg1M8VMXsq"
      }
    },
    {
      "cell_type": "markdown",
      "source": [
        "#2.  Trafilatura\n",
        "- 웹페이지에서 본문 텍스트를 정제하여 추출해주는 파이썬 라이브러리"
      ],
      "metadata": {
        "id": "hnIregTp5-Nj"
      }
    },
    {
      "cell_type": "code",
      "source": [
        "# 설치\n",
        "!pip install trafilatura\n",
        "\n",
        "# 사용 예시\n",
        "import trafilatura\n",
        "import requests\n",
        "\n",
        "url = \"https://news.ycombinator.com/\"\n",
        "html = requests.get(url).text\n",
        "\n",
        "# 본문 추출\n",
        "text = trafilatura.extract(html)\n",
        "\n",
        "print(text[:500])  # 앞부분만 출력\n"
      ],
      "metadata": {
        "colab": {
          "base_uri": "https://localhost:8080/"
        },
        "id": "64ooOM3b6ACX",
        "outputId": "26a2d473-c2b9-4bf3-9014-8a5645ae5606"
      },
      "execution_count": 12,
      "outputs": [
        {
          "output_type": "stream",
          "name": "stdout",
          "text": [
            "Requirement already satisfied: trafilatura in /usr/local/lib/python3.11/dist-packages (2.0.0)\n",
            "Requirement already satisfied: certifi in /usr/local/lib/python3.11/dist-packages (from trafilatura) (2025.8.3)\n",
            "Requirement already satisfied: charset_normalizer>=3.4.0 in /usr/local/lib/python3.11/dist-packages (from trafilatura) (3.4.3)\n",
            "Requirement already satisfied: courlan>=1.3.2 in /usr/local/lib/python3.11/dist-packages (from trafilatura) (1.3.2)\n",
            "Requirement already satisfied: htmldate>=1.9.2 in /usr/local/lib/python3.11/dist-packages (from trafilatura) (1.9.3)\n",
            "Requirement already satisfied: justext>=3.0.1 in /usr/local/lib/python3.11/dist-packages (from trafilatura) (3.0.2)\n",
            "Requirement already satisfied: lxml>=5.3.0 in /usr/local/lib/python3.11/dist-packages (from trafilatura) (5.4.0)\n",
            "Requirement already satisfied: urllib3<3,>=1.26 in /usr/local/lib/python3.11/dist-packages (from trafilatura) (2.5.0)\n",
            "Requirement already satisfied: babel>=2.16.0 in /usr/local/lib/python3.11/dist-packages (from courlan>=1.3.2->trafilatura) (2.17.0)\n",
            "Requirement already satisfied: tld>=0.13 in /usr/local/lib/python3.11/dist-packages (from courlan>=1.3.2->trafilatura) (0.13.1)\n",
            "Requirement already satisfied: dateparser>=1.1.2 in /usr/local/lib/python3.11/dist-packages (from htmldate>=1.9.2->trafilatura) (1.2.2)\n",
            "Requirement already satisfied: python-dateutil>=2.9.0.post0 in /usr/local/lib/python3.11/dist-packages (from htmldate>=1.9.2->trafilatura) (2.9.0.post0)\n",
            "Requirement already satisfied: pytz>=2024.2 in /usr/local/lib/python3.11/dist-packages (from dateparser>=1.1.2->htmldate>=1.9.2->trafilatura) (2025.2)\n",
            "Requirement already satisfied: regex>=2024.9.11 in /usr/local/lib/python3.11/dist-packages (from dateparser>=1.1.2->htmldate>=1.9.2->trafilatura) (2024.11.6)\n",
            "Requirement already satisfied: tzlocal>=0.2 in /usr/local/lib/python3.11/dist-packages (from dateparser>=1.1.2->htmldate>=1.9.2->trafilatura) (5.3.1)\n",
            "Requirement already satisfied: lxml_html_clean in /usr/local/lib/python3.11/dist-packages (from lxml[html_clean]>=4.4.2->justext>=3.0.1->trafilatura) (0.4.2)\n",
            "Requirement already satisfied: six>=1.5 in /usr/local/lib/python3.11/dist-packages (from python-dateutil>=2.9.0.post0->htmldate>=1.9.2->trafilatura) (1.17.0)\n",
            "Hacker News\n",
            "new\n",
            "|\n",
            "past\n",
            "|\n",
            "comments\n",
            "|\n",
            "ask\n",
            "|\n",
            "show\n",
            "|\n",
            "jobs\n",
            "|\n",
            "submit\n",
            "login\n",
            "1.\n",
            "Show HN: We started building an AI dev tool but it turned into a Sims-style game\n",
            "(\n",
            "youtube.com\n",
            ")\n",
            "59 points\n",
            "by\n",
            "maxraven\n",
            "1 hour ago\n",
            "|\n",
            "hide\n",
            "|\n",
            "38 comments\n",
            "2.\n",
            "Show HN: Whispering – Open-source, local-first dictation you can trust\n",
            "(\n",
            "github.com/epicenter-so\n",
            ")\n",
            "113 points\n",
            "by\n",
            "braden-w\n",
            "3 hours ago\n",
            "|\n",
            "hide\n",
            "|\n",
            "27 comments\n",
            "3.\n",
            "Left to Right Programming\n",
            "(\n",
            "graic.net\n",
            ")\n",
            "92 points\n",
            "by\n",
            "graic\n",
            "3 hours ago\n",
            "|\n",
            "hide\n",
            "|\n",
            "81 comments\n",
            "4.\n",
            "Show HN: I built an a\n"
          ]
        }
      ]
    },
    {
      "cell_type": "markdown",
      "source": [
        "- fetch_url(url) → URL에서 HTML을 호출 (requests 대체)\n",
        "- extract(html) → 본문만 정제해서 추출\n",
        "- 기사/블로그처럼 글 중심 페이지에 활용.\n",
        "- 동적 렌더링(JS 기반)은 Playwright 같은 브라우저 자동화와 함께 사용"
      ],
      "metadata": {
        "id": "Ur5V9Obc6IDk"
      }
    }
  ]
}