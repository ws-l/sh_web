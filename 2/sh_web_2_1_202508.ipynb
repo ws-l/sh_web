{
  "nbformat": 4,
  "nbformat_minor": 0,
  "metadata": {
    "colab": {
      "provenance": []
    },
    "kernelspec": {
      "name": "python3",
      "display_name": "Python 3"
    },
    "language_info": {
      "name": "python"
    }
  },
  "cells": [
    {
      "cell_type": "markdown",
      "source": [
        "##1. requests, beutifulsoup이용한 웹 수집\n",
        "###1.1. 네이버주가"
      ],
      "metadata": {
        "id": "737Z1jEDmDCx"
      }
    },
    {
      "cell_type": "code",
      "source": [
        "import requests\n",
        "from bs4 import BeautifulSoup\n",
        "\n",
        "# ✅ 삼성전자(005930) 주식 페이지\n",
        "url = \"https://finance.naver.com/item/main.nhn?code=005930\"\n",
        "headers = {\"User-Agent\": \"Mozilla/5.0\"}  # User-Agent 넣어야 차단 안됨\n",
        "res = requests.get(url, headers=headers)\n",
        "res.raise_for_status()\n",
        "\n",
        "soup = BeautifulSoup(res.text, \"html.parser\")\n",
        "\n",
        "# ✅ 주가 정보 추출\n",
        "price = soup.select_one(\"p.no_today span.blind\").text  # 현재가\n",
        "change = soup.select_one(\"p.no_exday span.blind\").text  # 전일 대비\n",
        "percent = soup.select(\"p.no_exday span.blind\")[-1].text  # 변동률\n",
        "\n",
        "print(\"현재가:\", price)\n",
        "print(\"전일비:\", change)\n",
        "print(\"등락률:\", percent)\n"
      ],
      "metadata": {
        "colab": {
          "base_uri": "https://localhost:8080/"
        },
        "id": "wis31DsumDKW",
        "outputId": "36113d42-707f-416b-dfd3-0f4e6d59ae89"
      },
      "execution_count": 53,
      "outputs": [
        {
          "output_type": "stream",
          "name": "stdout",
          "text": [
            "현재가: 70,000\n",
            "전일비: 0\n",
            "등락률: 0.14\n"
          ]
        }
      ]
    },
    {
      "cell_type": "markdown",
      "source": [
        "###1.2. 여러 종목"
      ],
      "metadata": {
        "id": "vwqzzw8nmIMv"
      }
    },
    {
      "cell_type": "code",
      "source": [
        "import requests\n",
        "from bs4 import BeautifulSoup\n",
        "import pandas as pd\n",
        "\n",
        "codes = {\n",
        "    \"삼성전자\": \"005930\",\n",
        "    \"현대차\": \"005380\",\n",
        "    \"네이버\": \"035420\",\n",
        "    \"카카오\": \"035720\"\n",
        "}\n",
        "\n",
        "headers = {\"User-Agent\": \"Mozilla/5.0\"}\n",
        "results = []\n",
        "\n",
        "for name, code in codes.items():\n",
        "    url = f\"https://finance.naver.com/item/main.nhn?code={code}\"\n",
        "    res = requests.get(url, headers=headers)\n",
        "    soup = BeautifulSoup(res.text, \"html.parser\")\n",
        "\n",
        "    price = soup.select_one(\"p.no_today span.blind\").text\n",
        "    change = soup.select_one(\"p.no_exday span.blind\").text\n",
        "    percent = soup.select(\"p.no_exday span.blind\")[-1].text\n",
        "\n",
        "    results.append({\n",
        "        \"종목명\": name,\n",
        "        \"현재가\": price,\n",
        "        \"전일비\": change,\n",
        "        \"등락률\": percent\n",
        "    })\n",
        "\n",
        "df = pd.DataFrame(results)\n",
        "print(df)\n"
      ],
      "metadata": {
        "colab": {
          "base_uri": "https://localhost:8080/"
        },
        "id": "JnyXfsOymIWP",
        "outputId": "795d7693-082a-4162-f1d8-e6e62a523dae"
      },
      "execution_count": 54,
      "outputs": [
        {
          "output_type": "stream",
          "name": "stdout",
          "text": [
            "    종목명      현재가    전일비   등락률\n",
            "0  삼성전자   70,000      0  0.14\n",
            "1   현대차  219,000  2,500  0.92\n",
            "2   네이버  225,500    500  0.22\n",
            "3   카카오   65,200    200  0.46\n"
          ]
        }
      ]
    },
    {
      "cell_type": "markdown",
      "source": [
        "##2. selenium을 활용한 웹 수집\n"
      ],
      "metadata": {
        "id": "8OqCA9EVmIeO"
      }
    },
    {
      "cell_type": "code",
      "source": [
        "# 필수 패키지\n",
        "!pip -q install selenium webdriver-manager\n",
        "\n",
        "# 크롬 설치 (Colab용)\n",
        "!apt-get update -y\n",
        "!apt-get install -y wget gnupg unzip\n",
        "!wget -q https://dl.google.com/linux/direct/google-chrome-stable_current_amd64.deb\n",
        "!dpkg -i google-chrome-stable_current_amd64.deb || apt-get -fy install"
      ],
      "metadata": {
        "colab": {
          "base_uri": "https://localhost:8080/"
        },
        "id": "ZDQIoruVnD89",
        "outputId": "8cb37c88-9af6-4196-c78c-0785df888b15"
      },
      "execution_count": 11,
      "outputs": [
        {
          "output_type": "stream",
          "name": "stdout",
          "text": [
            "\r0% [Working]\r            \rHit:1 https://cloud.r-project.org/bin/linux/ubuntu jammy-cran40/ InRelease\n",
            "\r0% [Waiting for headers] [Connecting to security.ubuntu.com (185.125.190.83)] [\r                                                                               \rHit:2 https://cli.github.com/packages stable InRelease\n",
            "Hit:3 https://developer.download.nvidia.com/compute/cuda/repos/ubuntu2204/x86_64  InRelease\n",
            "Hit:4 http://security.ubuntu.com/ubuntu jammy-security InRelease\n",
            "Hit:5 https://r2u.stat.illinois.edu/ubuntu jammy InRelease\n",
            "Hit:6 https://ppa.launchpadcontent.net/deadsnakes/ppa/ubuntu jammy InRelease\n",
            "Hit:7 https://ppa.launchpadcontent.net/graphics-drivers/ppa/ubuntu jammy InRelease\n",
            "Hit:8 https://ppa.launchpadcontent.net/ubuntugis/ppa/ubuntu jammy InRelease\n",
            "Hit:9 http://archive.ubuntu.com/ubuntu jammy InRelease\n",
            "Hit:10 http://archive.ubuntu.com/ubuntu jammy-updates InRelease\n",
            "Hit:11 http://archive.ubuntu.com/ubuntu jammy-backports InRelease\n",
            "Reading package lists... Done\n",
            "W: Skipping acquire of configured file 'main/source/Sources' as repository 'https://r2u.stat.illinois.edu/ubuntu jammy InRelease' does not seem to provide it (sources.list entry misspelt?)\n",
            "Reading package lists... Done\n",
            "Building dependency tree... Done\n",
            "Reading state information... Done\n",
            "gnupg is already the newest version (2.2.27-3ubuntu2.4).\n",
            "gnupg set to manually installed.\n",
            "unzip is already the newest version (6.0-26ubuntu3.2).\n",
            "wget is already the newest version (1.21.2-2ubuntu1.1).\n",
            "0 upgraded, 0 newly installed, 0 to remove and 61 not upgraded.\n",
            "Selecting previously unselected package google-chrome-stable.\n",
            "(Reading database ... 126835 files and directories currently installed.)\n",
            "Preparing to unpack google-chrome-stable_current_amd64.deb ...\n",
            "Unpacking google-chrome-stable (139.0.7258.127-1) ...\n",
            "\u001b[1mdpkg:\u001b[0m dependency problems prevent configuration of google-chrome-stable:\n",
            " google-chrome-stable depends on libvulkan1; however:\n",
            "  Package libvulkan1 is not installed.\n",
            "\n",
            "\u001b[1mdpkg:\u001b[0m error processing package google-chrome-stable (--install):\n",
            " dependency problems - leaving unconfigured\n",
            "Processing triggers for mailcap (3.70+nmu1ubuntu1) ...\n",
            "Processing triggers for man-db (2.10.2-1) ...\n",
            "Errors were encountered while processing:\n",
            " google-chrome-stable\n",
            "Reading package lists... Done\n",
            "Building dependency tree... Done\n",
            "Reading state information... Done\n",
            "Correcting dependencies... Done\n",
            "The following additional packages will be installed:\n",
            "  libvulkan1 mesa-vulkan-drivers\n",
            "The following NEW packages will be installed:\n",
            "  libvulkan1 mesa-vulkan-drivers\n",
            "0 upgraded, 2 newly installed, 0 to remove and 61 not upgraded.\n",
            "1 not fully installed or removed.\n",
            "Need to get 10.9 MB of archives.\n",
            "After this operation, 51.3 MB of additional disk space will be used.\n",
            "Get:1 http://archive.ubuntu.com/ubuntu jammy/main amd64 libvulkan1 amd64 1.3.204.1-2 [128 kB]\n",
            "Get:2 http://archive.ubuntu.com/ubuntu jammy-updates/main amd64 mesa-vulkan-drivers amd64 23.2.1-1ubuntu3.1~22.04.3 [10.7 MB]\n",
            "Fetched 10.9 MB in 6s (1,741 kB/s)\n",
            "Selecting previously unselected package libvulkan1:amd64.\n",
            "(Reading database ... 126953 files and directories currently installed.)\n",
            "Preparing to unpack .../libvulkan1_1.3.204.1-2_amd64.deb ...\n",
            "Unpacking libvulkan1:amd64 (1.3.204.1-2) ...\n",
            "Selecting previously unselected package mesa-vulkan-drivers:amd64.\n",
            "Preparing to unpack .../mesa-vulkan-drivers_23.2.1-1ubuntu3.1~22.04.3_amd64.deb ...\n",
            "Unpacking mesa-vulkan-drivers:amd64 (23.2.1-1ubuntu3.1~22.04.3) ...\n",
            "Setting up libvulkan1:amd64 (1.3.204.1-2) ...\n",
            "Setting up mesa-vulkan-drivers:amd64 (23.2.1-1ubuntu3.1~22.04.3) ...\n",
            "Setting up google-chrome-stable (139.0.7258.127-1) ...\n",
            "update-alternatives: using /usr/bin/google-chrome-stable to provide /usr/bin/x-www-browser (x-www-browser) in auto mode\n",
            "update-alternatives: using /usr/bin/google-chrome-stable to provide /usr/bin/gnome-www-browser (gnome-www-browser) in auto mode\n",
            "update-alternatives: using /usr/bin/google-chrome-stable to provide /usr/bin/google-chrome (google-chrome) in auto mode\n",
            "Processing triggers for libc-bin (2.35-0ubuntu3.8) ...\n",
            "/sbin/ldconfig.real: /usr/local/lib/libur_adapter_level_zero_v2.so.0 is not a symbolic link\n",
            "\n",
            "/sbin/ldconfig.real: /usr/local/lib/libumf.so.0 is not a symbolic link\n",
            "\n",
            "/sbin/ldconfig.real: /usr/local/lib/libtcm.so.1 is not a symbolic link\n",
            "\n",
            "/sbin/ldconfig.real: /usr/local/lib/libtbbbind_2_0.so.3 is not a symbolic link\n",
            "\n",
            "/sbin/ldconfig.real: /usr/local/lib/libtbbmalloc.so.2 is not a symbolic link\n",
            "\n",
            "/sbin/ldconfig.real: /usr/local/lib/libhwloc.so.15 is not a symbolic link\n",
            "\n",
            "/sbin/ldconfig.real: /usr/local/lib/libur_adapter_level_zero.so.0 is not a symbolic link\n",
            "\n",
            "/sbin/ldconfig.real: /usr/local/lib/libtbb.so.12 is not a symbolic link\n",
            "\n",
            "/sbin/ldconfig.real: /usr/local/lib/libur_adapter_opencl.so.0 is not a symbolic link\n",
            "\n",
            "/sbin/ldconfig.real: /usr/local/lib/libtbbmalloc_proxy.so.2 is not a symbolic link\n",
            "\n",
            "/sbin/ldconfig.real: /usr/local/lib/libur_loader.so.0 is not a symbolic link\n",
            "\n",
            "/sbin/ldconfig.real: /usr/local/lib/libtbbbind_2_5.so.3 is not a symbolic link\n",
            "\n",
            "/sbin/ldconfig.real: /usr/local/lib/libtbbbind.so.3 is not a symbolic link\n",
            "\n",
            "/sbin/ldconfig.real: /usr/local/lib/libtcm_debug.so.1 is not a symbolic link\n",
            "\n"
          ]
        }
      ]
    },
    {
      "cell_type": "markdown",
      "source": [
        "###2.1. 네이버뉴스 수집"
      ],
      "metadata": {
        "id": "8cgXsaNonFas"
      }
    },
    {
      "cell_type": "code",
      "source": [
        "from selenium import webdriver\n",
        "from selenium.webdriver.chrome.service import Service\n",
        "from webdriver_manager.chrome import ChromeDriverManager\n",
        "from selenium.webdriver.chrome.options import Options\n",
        "from selenium.webdriver.support.ui import WebDriverWait\n",
        "from selenium.webdriver.support import expected_conditions as EC\n",
        "\n",
        "chrome_options = Options()\n",
        "chrome_options.add_argument(\"--headless=new\")  # 최신 헤드리스 모드\n",
        "chrome_options.add_argument(\"--no-sandbox\")\n",
        "chrome_options.add_argument(\"--disable-dev-shm-usage\")\n",
        "chrome_options.add_argument(\"--window-size=1366,768\")\n",
        "# 필요시 UA 지정\n",
        "# chrome_options.add_argument(\"--user-agent=Mozilla/5.0 ...\")\n",
        "\n",
        "# Colab에 설치된 Chrome 바이너리 명시 (안정)\n",
        "chrome_options.binary_location = \"/usr/bin/google-chrome\"\n",
        "\n",
        "service = Service(ChromeDriverManager().install())\n",
        "driver = webdriver.Chrome(service=service, options=chrome_options)"
      ],
      "metadata": {
        "id": "iNZwjWRFmIj1"
      },
      "execution_count": 47,
      "outputs": []
    },
    {
      "cell_type": "code",
      "source": [
        "driver.get(\"https://news.naver.com/section/105\")  # IT/과학 뉴스\n",
        "\n",
        "articles = driver.find_elements(By.CSS_SELECTOR, \"div.sa_text\")\n",
        "for a in articles:\n",
        "    title = a.find_element(By.TAG_NAME, \"a\").text\n",
        "    link = a.find_element(By.TAG_NAME, \"a\").get_attribute(\"href\")\n",
        "    print(title, link)\n",
        "driver.quit()\n"
      ],
      "metadata": {
        "colab": {
          "base_uri": "https://localhost:8080/"
        },
        "id": "0T6jRo7_qmF7",
        "outputId": "5406a497-28f0-4dbf-882d-748bf3d2b2b6"
      },
      "execution_count": 48,
      "outputs": [
        {
          "output_type": "stream",
          "name": "stdout",
          "text": [
            "업스테이지, AWS와 미국·아태지역 공공·규제산업 AI 도입 촉진 https://n.news.naver.com/mnews/article/421/0008434628\n",
            "펄어비스 '붉은사막', 게임스컴 어워드 4개 부문 노미네이트 https://n.news.naver.com/mnews/article/008/0005237516\n",
            "웹툰을 쇼트폼 애니처럼…네이버웹툰 ‘비디오 에피소드’ 시범 도입 https://n.news.naver.com/mnews/article/032/0003390433\n",
            "AWS “세계에서 가장 유용한 AI 에이전트 구축 장소될 것” https://n.news.naver.com/mnews/article/009/0005543829\n",
            "강대임 UST 총장 “매년 5건 학생창업 도전, 제도 손볼 것” https://n.news.naver.com/mnews/article/016/0002516369\n",
            " https://n.news.naver.com/mnews/article/056/0012010962\n",
            " https://n.news.naver.com/mnews/article/001/0015573201\n",
            " https://n.news.naver.com/mnews/article/366/0001101391\n",
            "“마피아가 뜬다”…페이팔 이어 실리콘밸리 주름잡는 ‘팰런티어’ 경쟁력은 https://n.news.naver.com/mnews/article/009/0005544154\n",
            "“0명, 이건 너무 심했다” 줄폐업 속출 하더니…6천원 할인에 ‘우르르’ https://n.news.naver.com/mnews/article/016/0002516478\n",
            "학습지 끊자 태블릿 거치대 값까지 내라? 방통위 나선다 https://n.news.naver.com/mnews/article/006/0000131389\n",
            "네이버·안랩 이어...'AI 반도체' 손에 쥔 리벨리온도 사우디로 https://n.news.naver.com/mnews/article/469/0000882413\n",
            "“신호 위반, 진입 금지 무시” 쏟아진 비판에 배달의민족 ‘발칵’…결국 사달 났다 https://n.news.naver.com/mnews/article/016/0002516461\n",
            "‘DEI는 죽었다’는 시대, 새 기회 찾은 여성 과학자 https://n.news.naver.com/mnews/article/310/0000128821\n",
            "K게임 신작 '게임스컴 2025' 대거 출격… 글로벌 시장 본격 공략 [한양경제] https://n.news.naver.com/mnews/article/666/0000081635\n",
            "“두 눈을 의심했다” 대낮, 서울 도심에 출몰 ‘경악’…갈수록 늘어난다 [지구, 뭐래?] https://n.news.naver.com/mnews/article/016/0002516450\n",
            "휴대폰 사면 현금 돌려준다더니 잠잠…고개 든 보조금 사기 https://n.news.naver.com/mnews/article/014/0005393751\n",
            "[비즈톡톡] 이해진 복귀 후 상반기 연구개발 투자 1조 넘긴 네이버 https://n.news.naver.com/mnews/article/366/0001101417\n",
            "구글, 테네시주에 소형 모듈형 원자로 건설… 2030년 50MW 목표 https://n.news.naver.com/mnews/article/092/0002386823\n",
            "‘명품폰’ 대접받는 삼성 폴더블폰… 인니·베트남서도 ‘엄지 척’ [르포] https://n.news.naver.com/mnews/article/014/0005393702\n",
            "美 정부 '인텔 구하기' 대작전…월가 반응은 '싸늘' https://n.news.naver.com/mnews/article/031/0000958362\n",
            "경제계, 노조법 개정이라도 막자…법안 저지 총력 https://n.news.naver.com/mnews/article/092/0002386818\n",
            "AI 훈풍에 SW 기업 날았다…영업이익률 두 자릿수 증가 https://n.news.naver.com/mnews/article/029/0002976415\n",
            "나이 든 뇌도 되살린다…기억력 좌우하는 단백질 발견 https://n.news.naver.com/mnews/article/366/0001101412\n",
            "K배터리 中에 3년 뒤져…'산학연 원팀' 전력질주하자 https://n.news.naver.com/mnews/article/009/0005544041\n",
            "\"관행 봐주기 없다\"…주병기 공정위원장 내정에 유통대기업 '얼음' https://n.news.naver.com/mnews/article/092/0002386815\n",
            "폭스콘 최대 매출처, 엔비디아 > 애플 https://n.news.naver.com/mnews/article/009/0005544033\n",
            "주주혜택 강화나선다는 아이센스…공언했던 글로벌社와 CGM 계약은 언제쯤? https://n.news.naver.com/mnews/article/029/0002976388\n",
            "'팰런티어 마피아' 실리콘밸리 권력지형 바꾼다 https://n.news.naver.com/mnews/article/009/0005543982\n",
            "점유율 80% 넘는데 수익은 '글쎄'…오픈AI, 인도서 6천원대 저가 요금제 출시한 까닭은 https://n.news.naver.com/mnews/article/092/0002386808\n",
            "마동석, 박은빈·장원영도 제쳤다…'친근한 이미지'로 선두 https://n.news.naver.com/mnews/article/015/0005172683\n",
            "4조원 쌓아놓은 삼성바이오로직스… 다양한 카드 놓고 증설 전략 설계 중 https://n.news.naver.com/mnews/article/029/0002976382\n",
            "빅5 병원 전공의 과반 복귀 전망…일부 병원 막판 모집 연장 https://n.news.naver.com/mnews/article/015/0005172680\n",
            "6개월 만에 '4조' 몰렸다…\"중국의 미래\" 앞다퉈 뛰어든 곳 [긱스] https://n.news.naver.com/mnews/article/015/0005172669\n",
            "자원 탐사 패러다임 바꾸는 호주 우주AI 스타트업 [긱스] https://n.news.naver.com/mnews/article/015/0005172665\n",
            "한화오션·현대건설, ‘해상풍력 원팀’ 결성…공급망 국산화 맞손 https://n.news.naver.com/mnews/article/092/0002386802\n",
            "'코인 빌리기' 신규 영업 중단에 업계 의견 분분 https://n.news.naver.com/mnews/article/018/0006093740\n",
            "[DD퇴근길] 韓 찾는 빌 게이츠, 전략적 파트너십 모색할까 https://n.news.naver.com/mnews/article/138/0002202996\n",
            "공무원, 원하는 AI 마음껏 쓴다…공공 AX 가속 https://n.news.naver.com/mnews/article/030/0003341992\n",
            "국가AI컴퓨팅센터 새 공모지침, 국가AI전략위원회서 확정한다 https://n.news.naver.com/mnews/article/030/0003341989\n",
            "“노인을 위한 택시는 어디에\"…택시 호출 앱 시대, 고령층 이동권 여전히 '제자리' https://n.news.naver.com/mnews/article/138/0002202995\n",
            "\"경쟁사보다 성능 180배 뛰어나\"…'NPU 유망주' 리벨리온의 자신감 https://n.news.naver.com/mnews/article/015/0005172661\n",
            "라인망가vs픽코마, 일본 웹툰 주도권 싸움 더 치열해진다 https://n.news.naver.com/mnews/article/092/0002386800\n",
            "척추 골절 반려견, 다시 뛰게 된 '비결'…\"수의사 팀워크의 힘\" https://n.news.naver.com/mnews/article/421/0008436213\n"
          ]
        }
      ]
    },
    {
      "cell_type": "markdown",
      "source": [
        "- 더보기 클릭하여 수집"
      ],
      "metadata": {
        "id": "Qm6PAP9au5e4"
      }
    },
    {
      "cell_type": "code",
      "source": [
        "from selenium import webdriver\n",
        "from selenium.webdriver.chrome.service import Service\n",
        "from webdriver_manager.chrome import ChromeDriverManager\n",
        "from selenium.webdriver.chrome.options import Options\n",
        "from selenium.webdriver.support.ui import WebDriverWait\n",
        "from selenium.webdriver.support import expected_conditions as EC\n",
        "\n",
        "chrome_options = Options()\n",
        "chrome_options.add_argument(\"--headless=new\")  # 최신 헤드리스 모드\n",
        "chrome_options.add_argument(\"--no-sandbox\")\n",
        "chrome_options.add_argument(\"--disable-dev-shm-usage\")\n",
        "chrome_options.add_argument(\"--window-size=1366,768\")\n",
        "# 필요시 UA 지정\n",
        "# chrome_options.add_argument(\"--user-agent=Mozilla/5.0 ...\")\n",
        "\n",
        "# Colab에 설치된 Chrome 바이너리 명시 (안정)\n",
        "chrome_options.binary_location = \"/usr/bin/google-chrome\"\n",
        "\n",
        "service = Service(ChromeDriverManager().install())\n",
        "driver = webdriver.Chrome(service=service, options=chrome_options)"
      ],
      "metadata": {
        "id": "ho50ld15upg3"
      },
      "execution_count": 49,
      "outputs": []
    },
    {
      "cell_type": "code",
      "source": [
        "# ✅ IT/과학 뉴스 섹션 (예시)\n",
        "url = \"https://news.naver.com/section/105\"\n",
        "driver.get(url)\n",
        "time.sleep(3)\n",
        "\n",
        "# ✅ \"더보기\" 버튼을 두 번 클릭\n",
        "for _ in range(2):\n",
        "    try:\n",
        "        more_button = driver.find_element(By.CSS_SELECTOR, \"a.section_more_inner\")\n",
        "        driver.execute_script(\"arguments[0].click();\", more_button)\n",
        "        time.sleep(3)  # 클릭 후 로딩 대기\n",
        "    except:\n",
        "        print(\"더보기 버튼 없음 또는 클릭 실패\")\n",
        "        break\n",
        "\n",
        "# ✅ 기사 제목 + URL 추출\n",
        "articles = driver.find_elements(By.CSS_SELECTOR, \"div.sa_text a.sa_text_title\")\n",
        "\n",
        "data = []\n",
        "for a in articles:\n",
        "    title = a.text.strip()\n",
        "    link = a.get_attribute(\"href\")\n",
        "    if title and link:\n",
        "        data.append({\"title\": title, \"link\": link})\n",
        "\n",
        "# ✅ DataFrame 변환 및 저장\n",
        "df = pd.DataFrame(data)\n",
        "print(df.head())\n",
        "df.to_excel(\"naver_news.xlsx\", index=False)\n",
        "print(\"엑셀 저장 완료 → naver_news.xlsx\")\n",
        "\n",
        "driver.quit()\n"
      ],
      "metadata": {
        "colab": {
          "base_uri": "https://localhost:8080/"
        },
        "id": "yTFE8xDaupoX",
        "outputId": "ade20912-9bd0-4e2a-8970-1f04d5f97d79"
      },
      "execution_count": 50,
      "outputs": [
        {
          "output_type": "stream",
          "name": "stdout",
          "text": [
            "                                  title  \\\n",
            "0    글로벌 4000만 게이머 눈도장…게임스컴 전야제 뜬 'K게임'   \n",
            "1      쇼츠·릴스 잡아라…네이버웹툰 ‘비디오 에피소드’ 시범 도입   \n",
            "2            \"AI 필수 인프라 6G, 정부 적극 지원해야\"   \n",
            "3  AWS \"세계에서 가장 신뢰할 수 있는 AI 환경 구축\"[AI픽]   \n",
            "4           강대임 UST 총장 \"학생 1000명 증원 목표\"   \n",
            "\n",
            "                                                link  \n",
            "0  https://n.news.naver.com/mnews/article/003/001...  \n",
            "1  https://n.news.naver.com/mnews/article/025/000...  \n",
            "2  https://n.news.naver.com/mnews/article/018/000...  \n",
            "3  https://n.news.naver.com/mnews/article/001/001...  \n",
            "4  https://n.news.naver.com/mnews/article/011/000...  \n",
            "엑셀 저장 완료 → naver_news.xlsx\n"
          ]
        }
      ]
    },
    {
      "cell_type": "markdown",
      "source": [
        "###2.2. 유튜브 댓글 수집"
      ],
      "metadata": {
        "id": "50NHT1FAmIqT"
      }
    },
    {
      "cell_type": "code",
      "source": [
        "# 1. 유튜브 영상 접속\n",
        "url = \"https://www.youtube.com/watch?v=dQw4w9WgXcQ\"  # 영상 ID 부분만 바꿔주면 됨\n",
        "driver.get(url)\n",
        "time.sleep(3)\n",
        "\n",
        "# 2. 영상 제목 추출\n",
        "title = driver.find_element(By.CSS_SELECTOR, \"h1.style-scope.ytd-watch-metadata\").text\n",
        "print(\"영상 제목:\", title)\n",
        "\n",
        "# 3. 댓글 영역으로 스크롤\n",
        "driver.find_element(By.TAG_NAME, \"body\").send_keys(Keys.END)\n",
        "time.sleep(3)\n",
        "\n",
        "# 여러 번 스크롤 해서 댓글 더 가져오기\n",
        "last_height = driver.execute_script(\"return document.documentElement.scrollHeight\")\n",
        "for _ in range(10):  # 10번 스크롤 → 댓글 많이 로드됨\n",
        "    driver.find_element(By.TAG_NAME, \"body\").send_keys(Keys.END)\n",
        "    time.sleep(2)\n",
        "    new_height = driver.execute_script(\"return document.documentElement.scrollHeight\")\n",
        "    if new_height == last_height:\n",
        "        break\n",
        "    last_height = new_height\n",
        "\n",
        "# 4. 댓글 수집\n",
        "comments_data = []\n",
        "comments = driver.find_elements(By.CSS_SELECTOR, \"#content #content-text\")\n",
        "authors = driver.find_elements(By.CSS_SELECTOR, \"#author-text span\")\n",
        "likes = driver.find_elements(By.CSS_SELECTOR, \"#vote-count-middle\")\n",
        "\n",
        "for author, comment, like in zip(authors, comments, likes):\n",
        "    comments_data.append({\n",
        "        \"author\": author.text,\n",
        "        \"comment\": comment.text,\n",
        "        \"likes\": like.text\n",
        "    })\n",
        "\n",
        "# 5. DataFrame 변환 후 저장\n",
        "df = pd.DataFrame(comments_data)\n",
        "print(df.head())\n",
        "\n",
        "df.to_excel(\"youtube_comments_colab.xlsx\", index=False)\n",
        "print(\"엑셀 저장 완료: youtube_comments_colab.xlsx\")\n",
        "\n",
        "driver.quit()"
      ],
      "metadata": {
        "colab": {
          "base_uri": "https://localhost:8080/"
        },
        "id": "7LWJ3qkvmIy2",
        "outputId": "aac9d2d2-4abb-4776-b5cb-db671a03d396"
      },
      "execution_count": 16,
      "outputs": [
        {
          "output_type": "stream",
          "name": "stdout",
          "text": [
            "영상 제목: Rick Astley - Never Gonna Give You Up (Official Video) (4K Remaster)\n",
            "          author                                            comment likes\n",
            "0                                  can confirm: he never gave us up   90K\n",
            "1                 Nobody can fool me anymore with this, I now re...  114K\n",
            "2    @Siuraneta5  Vote Rick Astley for president\\nHe will never:...  183K\n",
            "3                 I didn't get rickrolled today, I just really e...  334K\n",
            "4  @georgeealien  man I just got legitimately rickrolled right n...   425\n",
            "엑셀 저장 완료: youtube_comments_colab.xlsx\n"
          ]
        }
      ]
    },
    {
      "cell_type": "code",
      "source": [
        "# 크롬드라이버 실행 (코랩에 설치된 경로 사용)\n",
        "chrome_options = Options()\n",
        "chrome_options.add_argument(\"--headless=new\")  # 최신 헤드리스 모드\n",
        "chrome_options.add_argument(\"--no-sandbox\")\n",
        "chrome_options.add_argument(\"--disable-dev-shm-usage\")\n",
        "chrome_options.add_argument(\"--window-size=1366,768\")\n",
        "# 필요시 UA 지정\n",
        "# chrome_options.add_argument(\"--user-agent=Mozilla/5.0 ...\")\n",
        "\n",
        "# Colab에 설치된 Chrome 바이너리 명시 (안정)\n",
        "chrome_options.binary_location = \"/usr/bin/google-chrome\"\n",
        "\n",
        "service = Service(ChromeDriverManager().install())\n",
        "driver = webdriver.Chrome(service=service, options=chrome_options)"
      ],
      "metadata": {
        "id": "WN5vMaQSqfWh"
      },
      "execution_count": null,
      "outputs": []
    },
    {
      "cell_type": "code",
      "source": [
        "# 여러 개의 유튜브 영상 URL 리스트\n",
        "video_urls = [\n",
        "    \"https://www.youtube.com/watch?v=dQw4w9WgXcQ\",\n",
        "    \"https://www.youtube.com/watch?v=3JZ_D3ELwOQ\",\n",
        "    \"https://www.youtube.com/watch?v=kJQP7kiw5Fk\"\n",
        "]\n",
        "\n",
        "#  전체 결과 저장용 리스트\n",
        "all_comments = []\n",
        "\n",
        "for url in video_urls:\n",
        "    print(f\"영상 처리 중: {url}\")\n",
        "    driver.get(url)\n",
        "    time.sleep(3)\n",
        "\n",
        "    # 영상 제목\n",
        "    title = driver.find_element(By.CSS_SELECTOR, \"h1.style-scope.ytd-watch-metadata\").text\n",
        "\n",
        "    # 댓글 영역으로 스크롤\n",
        "    driver.find_element(By.TAG_NAME, \"body\").send_keys(Keys.END)\n",
        "    time.sleep(3)\n",
        "\n",
        "    # 무한 스크롤 (댓글 더 불러오기)\n",
        "    last_height = driver.execute_script(\"return document.documentElement.scrollHeight\")\n",
        "    for _ in range(5):  # 반복 횟수 늘리면 더 많은 댓글 수집 가능\n",
        "        driver.find_element(By.TAG_NAME, \"body\").send_keys(Keys.END)\n",
        "        time.sleep(2)\n",
        "        new_height = driver.execute_script(\"return document.documentElement.scrollHeight\")\n",
        "        if new_height == last_height:\n",
        "            break\n",
        "        last_height = new_height\n",
        "\n",
        "    # 댓글 수집\n",
        "    comments = driver.find_elements(By.CSS_SELECTOR, \"#content #content-text\")\n",
        "    authors = driver.find_elements(By.CSS_SELECTOR, \"#author-text span\")\n",
        "    likes = driver.find_elements(By.CSS_SELECTOR, \"#vote-count-middle\")\n",
        "\n",
        "    for author, comment, like in zip(authors, comments, likes):\n",
        "        all_comments.append({\n",
        "            \"video_url\": url,\n",
        "            \"video_title\": title,\n",
        "            \"author\": author.text,\n",
        "            \"comment\": comment.text,\n",
        "            \"likes\": like.text\n",
        "        })\n",
        "\n",
        "#  DataFrame으로 변환\n",
        "df = pd.DataFrame(all_comments)\n",
        "print(df.head())\n",
        "\n",
        "#  엑셀 저장\n",
        "df.to_excel(\"youtube_multi_comments.xlsx\", index=False)\n",
        "print(\"엑셀 저장 완료: youtube_multi_comments.xlsx\")\n",
        "\n",
        "driver.quit()\n"
      ],
      "metadata": {
        "colab": {
          "base_uri": "https://localhost:8080/"
        },
        "id": "DhVjvKYrnmgh",
        "outputId": "3306cafe-9a2b-4319-a9f6-0bbbc2451a8a"
      },
      "execution_count": 20,
      "outputs": [
        {
          "output_type": "stream",
          "name": "stdout",
          "text": [
            "▶ 영상 처리 중: https://www.youtube.com/watch?v=dQw4w9WgXcQ\n",
            "▶ 영상 처리 중: https://www.youtube.com/watch?v=3JZ_D3ELwOQ\n",
            "▶ 영상 처리 중: https://www.youtube.com/watch?v=kJQP7kiw5Fk\n",
            "                                     video_url           video_title  \\\n",
            "0  https://www.youtube.com/watch?v=3JZ_D3ELwOQ  Flexin' On Ya (2014)   \n",
            "1  https://www.youtube.com/watch?v=3JZ_D3ELwOQ  Flexin' On Ya (2014)   \n",
            "2  https://www.youtube.com/watch?v=3JZ_D3ELwOQ  Flexin' On Ya (2014)   \n",
            "3  https://www.youtube.com/watch?v=3JZ_D3ELwOQ  Flexin' On Ya (2014)   \n",
            "4  https://www.youtube.com/watch?v=3JZ_D3ELwOQ  Flexin' On Ya (2014)   \n",
            "\n",
            "                 author                                            comment  \\\n",
            "0            @XMan2001X                      He was super Kangaroo Jacked!   \n",
            "1       @crimsonnva2599                            Arkansas don't play man   \n",
            "2              @r4m3n4u                  kangaroo listens to NBA young boy   \n",
            "3  @christinaarnold4106                             Who’s watching in 2001   \n",
            "4           @Freedi2of2  Ray making a new show on Youtube made me recap...   \n",
            "\n",
            "  likes  \n",
            "0    31  \n",
            "1    14  \n",
            "2    16  \n",
            "3    56  \n",
            "4    30  \n",
            "엑셀 저장 완료: youtube_multi_comments.xlsx\n"
          ]
        }
      ]
    }
  ]
}