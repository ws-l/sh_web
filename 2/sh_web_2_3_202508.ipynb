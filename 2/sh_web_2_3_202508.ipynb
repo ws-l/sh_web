{
  "nbformat": 4,
  "nbformat_minor": 0,
  "metadata": {
    "colab": {
      "provenance": []
    },
    "kernelspec": {
      "name": "python3",
      "display_name": "Python 3"
    },
    "language_info": {
      "name": "python"
    }
  },
  "cells": [
    {
      "cell_type": "markdown",
      "source": [
        "###1. ngrok 가입\n",
        "- https://dashboard.ngrok.com/signup\n",
        "- Getting Started -> Yout authtoken"
      ],
      "metadata": {
        "id": "EjQYReCjHdHG"
      }
    },
    {
      "cell_type": "code",
      "execution_count": null,
      "metadata": {
        "id": "SYU29RlmFvtX",
        "colab": {
          "base_uri": "https://localhost:8080/"
        },
        "outputId": "50ed3793-e8b8-4f62-c9b0-1059febb828d"
      },
      "outputs": [
        {
          "output_type": "stream",
          "name": "stdout",
          "text": [
            "Requirement already satisfied: flask in /usr/local/lib/python3.11/dist-packages (3.1.1)\n",
            "Collecting pyngrok\n",
            "  Downloading pyngrok-7.3.0-py3-none-any.whl.metadata (8.1 kB)\n",
            "Requirement already satisfied: blinker>=1.9.0 in /usr/local/lib/python3.11/dist-packages (from flask) (1.9.0)\n",
            "Requirement already satisfied: click>=8.1.3 in /usr/local/lib/python3.11/dist-packages (from flask) (8.2.1)\n",
            "Requirement already satisfied: itsdangerous>=2.2.0 in /usr/local/lib/python3.11/dist-packages (from flask) (2.2.0)\n",
            "Requirement already satisfied: jinja2>=3.1.2 in /usr/local/lib/python3.11/dist-packages (from flask) (3.1.6)\n",
            "Requirement already satisfied: markupsafe>=2.1.1 in /usr/local/lib/python3.11/dist-packages (from flask) (3.0.2)\n",
            "Requirement already satisfied: werkzeug>=3.1.0 in /usr/local/lib/python3.11/dist-packages (from flask) (3.1.3)\n",
            "Requirement already satisfied: PyYAML>=5.1 in /usr/local/lib/python3.11/dist-packages (from pyngrok) (6.0.2)\n",
            "Downloading pyngrok-7.3.0-py3-none-any.whl (25 kB)\n",
            "Installing collected packages: pyngrok\n",
            "Successfully installed pyngrok-7.3.0\n"
          ]
        }
      ],
      "source": [
        "!pip install flask pyngrok"
      ]
    },
    {
      "cell_type": "code",
      "source": [
        "!ngrok config add-authtoken 30s47Zrpt0z8JIXJRCLMMklctLS_43GWGBsYeAL5k558po9Xo"
      ],
      "metadata": {
        "colab": {
          "base_uri": "https://localhost:8080/"
        },
        "id": "aiYQCW01H5zT",
        "outputId": "8d111f9e-4ec6-4380-ff05-3778c2dfeaeb"
      },
      "execution_count": null,
      "outputs": [
        {
          "output_type": "stream",
          "name": "stdout",
          "text": [
            "Authtoken saved to configuration file: /root/.config/ngrok/ngrok.yml\n"
          ]
        }
      ]
    },
    {
      "cell_type": "markdown",
      "source": [
        "#2. fastapi 설치\n",
        "- fastapi :  REST API 서버 개발, 머신러닝 모델 서빙 API, 실시간 데이터 처리 API\n",
        "- uvicorn :  FastAPI를 실행시키는 ASGI 서버(웹 서버, Asynchronous Server Gateway Interface, WSGI(Web Server Gateway Interface)의 비동기 버전으로 Python 웹 서버(예: uvicorn)와 웹 프레임워크(예: FastAPI) 사이의 표준 인터페이스)\n",
        "- nest-asyncio : Jupyter/Colab 같은 이미 asyncio(비동기 I/O 작업을 처리하기 위한 기반 프레임워크) 루프가 돌아가는 환경에서\n",
        "추가로 asyncio 서버(FastAPI 등)를 중복으로 실행할 수 있도록 도와주는 패치 도구,\n",
        "Colab, Jupyter, Spyder 등에서 uvicorn.run() 직접 실행 가능하게 해줌"
      ],
      "metadata": {
        "id": "QkWo3EIf90ph"
      }
    },
    {
      "cell_type": "code",
      "source": [
        "!pip install fastapi uvicorn nest-asyncio"
      ],
      "metadata": {
        "colab": {
          "base_uri": "https://localhost:8080/"
        },
        "id": "fhrxkWXwGQRL",
        "outputId": "56d30868-686c-4f47-a2f1-2dbdb2316c79"
      },
      "execution_count": null,
      "outputs": [
        {
          "output_type": "stream",
          "name": "stdout",
          "text": [
            "Requirement already satisfied: fastapi in /usr/local/lib/python3.11/dist-packages (0.116.1)\n",
            "Requirement already satisfied: uvicorn in /usr/local/lib/python3.11/dist-packages (0.35.0)\n",
            "Requirement already satisfied: nest-asyncio in /usr/local/lib/python3.11/dist-packages (1.6.0)\n",
            "Requirement already satisfied: starlette<0.48.0,>=0.40.0 in /usr/local/lib/python3.11/dist-packages (from fastapi) (0.47.2)\n",
            "Requirement already satisfied: pydantic!=1.8,!=1.8.1,!=2.0.0,!=2.0.1,!=2.1.0,<3.0.0,>=1.7.4 in /usr/local/lib/python3.11/dist-packages (from fastapi) (2.11.7)\n",
            "Requirement already satisfied: typing-extensions>=4.8.0 in /usr/local/lib/python3.11/dist-packages (from fastapi) (4.14.1)\n",
            "Requirement already satisfied: click>=7.0 in /usr/local/lib/python3.11/dist-packages (from uvicorn) (8.2.1)\n",
            "Requirement already satisfied: h11>=0.8 in /usr/local/lib/python3.11/dist-packages (from uvicorn) (0.16.0)\n",
            "Requirement already satisfied: annotated-types>=0.6.0 in /usr/local/lib/python3.11/dist-packages (from pydantic!=1.8,!=1.8.1,!=2.0.0,!=2.0.1,!=2.1.0,<3.0.0,>=1.7.4->fastapi) (0.7.0)\n",
            "Requirement already satisfied: pydantic-core==2.33.2 in /usr/local/lib/python3.11/dist-packages (from pydantic!=1.8,!=1.8.1,!=2.0.0,!=2.0.1,!=2.1.0,<3.0.0,>=1.7.4->fastapi) (2.33.2)\n",
            "Requirement already satisfied: typing-inspection>=0.4.0 in /usr/local/lib/python3.11/dist-packages (from pydantic!=1.8,!=1.8.1,!=2.0.0,!=2.0.1,!=2.1.0,<3.0.0,>=1.7.4->fastapi) (0.4.1)\n",
            "Requirement already satisfied: anyio<5,>=3.6.2 in /usr/local/lib/python3.11/dist-packages (from starlette<0.48.0,>=0.40.0->fastapi) (4.9.0)\n",
            "Requirement already satisfied: idna>=2.8 in /usr/local/lib/python3.11/dist-packages (from anyio<5,>=3.6.2->starlette<0.48.0,>=0.40.0->fastapi) (3.10)\n",
            "Requirement already satisfied: sniffio>=1.1 in /usr/local/lib/python3.11/dist-packages (from anyio<5,>=3.6.2->starlette<0.48.0,>=0.40.0->fastapi) (1.3.1)\n"
          ]
        }
      ]
    },
    {
      "cell_type": "code",
      "source": [
        "from fastapi import FastAPI\n",
        "from fastapi.responses import JSONResponse\n",
        "from pyngrok import ngrok\n",
        "import nest_asyncio\n",
        "import uvicorn\n",
        "import threading"
      ],
      "metadata": {
        "id": "MJlX-pZ3_Xx_"
      },
      "execution_count": null,
      "outputs": []
    },
    {
      "cell_type": "code",
      "source": [
        "# FastAPI 앱 정의\n",
        "app = FastAPI()\n",
        "\n",
        "@app.get(\"/\")\n",
        "def read_root():\n",
        "    return {\"message\": \"Hello from FastAPI + ngrok!\"}\n",
        "\n",
        "@app.get(\"/hello\")\n",
        "def say_hello(name: str = \"world\"):\n",
        "    return {\"greeting\": f\"Hello, {name}!\"}\n",
        "\n",
        "# asyncio 루프 재설정\n",
        "nest_asyncio.apply()\n",
        "\n",
        "# FastAPI 서버 실행 함수\n",
        "def run():\n",
        "    uvicorn.run(app, host=\"0.0.0.0\", port=8000)\n",
        "\n",
        "# 서버를 백그라운드에서 실행\n",
        "threading.Thread(target=run).start()\n",
        "\n",
        "# ngrok으로 8000 포트 열기\n",
        "public_url = ngrok.connect(8000)\n",
        "print(\"Public URL:\", public_url)\n"
      ],
      "metadata": {
        "colab": {
          "base_uri": "https://localhost:8080/"
        },
        "id": "yEfKfzR7Fyuz",
        "outputId": "a2f0b93e-44c4-434b-812d-4fb3cd70111c"
      },
      "execution_count": null,
      "outputs": [
        {
          "output_type": "stream",
          "name": "stderr",
          "text": [
            "INFO:     Started server process [707]\n",
            "INFO:     Waiting for application startup.\n",
            "INFO:     Application startup complete.\n",
            "INFO:     Uvicorn running on http://0.0.0.0:8000 (Press CTRL+C to quit)\n"
          ]
        },
        {
          "output_type": "stream",
          "name": "stdout",
          "text": [
            "Public URL: NgrokTunnel: \"https://2b1808c04ec0.ngrok-free.app\" -> \"http://localhost:8000\"\n"
          ]
        }
      ]
    },
    {
      "cell_type": "code",
      "source": [
        "public_url.public_url"
      ],
      "metadata": {
        "colab": {
          "base_uri": "https://localhost:8080/",
          "height": 35
        },
        "id": "ahT9YXR5AcTC",
        "outputId": "ec3bfa7d-581e-44a3-ced0-b15828bdfce5"
      },
      "execution_count": null,
      "outputs": [
        {
          "output_type": "execute_result",
          "data": {
            "text/plain": [
              "'https://2b1808c04ec0.ngrok-free.app'"
            ],
            "application/vnd.google.colaboratory.intrinsic+json": {
              "type": "string"
            }
          },
          "metadata": {},
          "execution_count": 6
        }
      ]
    },
    {
      "cell_type": "markdown",
      "source": [
        "- pydantic"
      ],
      "metadata": {
        "id": "j8-a8olWGh7P"
      }
    },
    {
      "cell_type": "code",
      "source": [
        "from pydantic import BaseModel\n",
        "\n",
        "class User(BaseModel):    #BaseModel 상속\n",
        "    name: str\n",
        "    age: int\n",
        "\n",
        "data = {\"name\": \"Alice\", \"age\": \"25\"}  # 문자열 \"25\"도 int로 변환됨\n",
        "user = User(**data) #User(name='Alice', age='25')와 같은 효과. data 딕셔너리의 키-값 쌍을 User 클래스의 생성자에 키워드 인수(keyword arguments) 로 전달\n",
        "print(user)\n"
      ],
      "metadata": {
        "colab": {
          "base_uri": "https://localhost:8080/"
        },
        "id": "oItVKUQ7GjTu",
        "outputId": "49c3599d-e8a5-4130-ccd7-710faa5ec4d8"
      },
      "execution_count": null,
      "outputs": [
        {
          "output_type": "stream",
          "name": "stdout",
          "text": [
            "name='Alice' age=25\n"
          ]
        }
      ]
    },
    {
      "cell_type": "code",
      "source": [
        "user.model_dump() #user.dict()\n",
        "user.model_dump_json()"
      ],
      "metadata": {
        "colab": {
          "base_uri": "https://localhost:8080/",
          "height": 35
        },
        "id": "y6vxzcDqhvBP",
        "outputId": "f2d46b16-a602-400a-b006-c537980ddfbc"
      },
      "execution_count": null,
      "outputs": [
        {
          "output_type": "execute_result",
          "data": {
            "text/plain": [
              "'{\"name\":\"Alice\",\"age\":25}'"
            ],
            "application/vnd.google.colaboratory.intrinsic+json": {
              "type": "string"
            }
          },
          "metadata": {},
          "execution_count": 10
        }
      ]
    },
    {
      "cell_type": "code",
      "source": [
        "from fastapi import FastAPI\n",
        "from pydantic import BaseModel\n",
        "\n",
        "app = FastAPI()\n",
        "\n",
        "class IrisInput(BaseModel):\n",
        "    sepal_length: float\n",
        "    sepal_width: float\n",
        "    petal_length: float\n",
        "    petal_width: float\n",
        "\n",
        "@app.post(\"/predict\")\n",
        "def predict(data: IrisInput):   #data는 IrisInput이어야 함, 타잎 힌트\n",
        "    return {\"received\": data.dict()}"
      ],
      "metadata": {
        "id": "fG-3PmYGGkk2"
      },
      "execution_count": null,
      "outputs": []
    },
    {
      "cell_type": "code",
      "source": [
        "from pydantic import BaseModel, Field\n",
        "\n",
        "class Product(BaseModel):\n",
        "    name: str = Field(..., min_length=2)      #Field()는 필드에 대해 기본값 설정 + 제약조건(validation rule) 을 명시, ...는 이 필드가 필수(required)임 의미\n",
        "    price: float = Field(..., gt=0)"
      ],
      "metadata": {
        "id": "3QosQbgmG0N8"
      },
      "execution_count": null,
      "outputs": []
    },
    {
      "cell_type": "markdown",
      "source": [
        "- pydantic의 Field 옵션\n",
        " - default:\t기본값 설정 (또는 ...로 필수 지정), 예:\tField(10) or Field(...)\n",
        " - title:\t필드 제목 (문서화에 사용됨), 예:\t\tField(..., title=\"Product Name\")\n",
        " - description:\t설명 (API 문서 등에 활용됨), 예:\t\tField(..., description=\"제품 이름\")\n",
        " - min_length:\t최소 문자열 길이, 예:\t\tField(..., min_length=3)\n",
        " - max_length:\t최대 문자열 길이, 예:\t\tField(..., max_length=20)\n",
        " - gt\t(greater than): 이 값보다 커야 함, 예:\t\tField(..., gt=0)\n",
        " - ge\t(greater or equal): 이상, 예:\t\tField(..., ge=0)\n",
        " - lt\t(less than): 미만, 예:\t\tField(..., lt=100)\n",
        " - le\t(less or equal): 이하, 예:\t\tField(..., le=100)\n",
        " - regex:\t문자열 정규표현식 검증, 예:\t\tField(..., regex=\"^item_[0-9]+$\")\n",
        " - example:\tOpenAPI 문서에서 예시로 보여줄 값, 예:\t\tField(..., example=\"TV\")\n",
        " - alias:\tJSON 키와 다른 필드명을 사용할 때, 예:\t\tField(..., alias=\"product_name\")\n",
        " - deprecated:\t더 이상 사용되지 않음을 명시, 예:\t (OpenAPI 문서에서 표시됨)\tField(..., deprecated=True)"
      ],
      "metadata": {
        "id": "9Etud6liiZzz"
      }
    },
    {
      "cell_type": "code",
      "source": [
        "# 유효한 입력 예:\n",
        "{\"name\": \"TV\", \"price\": 999.99}\n",
        "\n",
        "# 유효하지 않은 입력 예:\n",
        "{\"name\": \"\", \"price\": -3}"
      ],
      "metadata": {
        "colab": {
          "base_uri": "https://localhost:8080/"
        },
        "id": "O5AVoK2lG23_",
        "outputId": "faa57742-acdb-4ddc-dc5c-d7a4e4f9e440"
      },
      "execution_count": null,
      "outputs": [
        {
          "output_type": "execute_result",
          "data": {
            "text/plain": [
              "{'name': '', 'price': -3}"
            ]
          },
          "metadata": {},
          "execution_count": 8
        }
      ]
    },
    {
      "cell_type": "code",
      "source": [
        "{\n",
        "  \"detail\": [\n",
        "    {\n",
        "      \"loc\": [\"body\", \"name\"],\n",
        "      \"msg\": \"ensure this value has at least 2 characters\",\n",
        "      \"type\": \"value_error.any_str.min_length\",\n",
        "    },\n",
        "    {\n",
        "      \"loc\": [\"body\", \"price\"],\n",
        "      \"msg\": \"ensure this value is greater than 0\",\n",
        "      \"type\": \"value_error.number.not_gt\"\n",
        "    }\n",
        "  ]\n",
        "}\n"
      ],
      "metadata": {
        "colab": {
          "base_uri": "https://localhost:8080/"
        },
        "id": "ZSbVz2TVG6xP",
        "outputId": "aac62d9e-9b51-4ee4-8c36-0ff76f45d743"
      },
      "execution_count": null,
      "outputs": [
        {
          "output_type": "execute_result",
          "data": {
            "text/plain": [
              "{'detail': [{'loc': ['body', 'name'],\n",
              "   'msg': 'ensure this value has at least 2 characters',\n",
              "   'type': 'value_error.any_str.min_length'},\n",
              "  {'loc': ['body', 'price'],\n",
              "   'msg': 'ensure this value is greater than 0',\n",
              "   'type': 'value_error.number.not_gt'}]}"
            ]
          },
          "metadata": {},
          "execution_count": 7
        }
      ]
    },
    {
      "cell_type": "code",
      "source": [
        "user = User(name=\"Bob\", age=40)\n",
        "print(user.dict())   #  {'name': 'Bob', 'age': 40}  #model_dump()\n",
        "print(user.json())   # '{\"name\": \"Bob\", \"age\": 40}' #model_dump_json()"
      ],
      "metadata": {
        "colab": {
          "base_uri": "https://localhost:8080/"
        },
        "id": "LEz7dRhRHMzU",
        "outputId": "97ff27d2-34a2-4ff3-9ebe-51b4d3ea16e0"
      },
      "execution_count": null,
      "outputs": [
        {
          "output_type": "stream",
          "name": "stdout",
          "text": [
            "{'name': 'Bob', 'age': 40}\n",
            "{\"name\":\"Bob\",\"age\":40}\n"
          ]
        },
        {
          "output_type": "stream",
          "name": "stderr",
          "text": [
            "/tmp/ipython-input-1380281954.py:2: PydanticDeprecatedSince20: The `dict` method is deprecated; use `model_dump` instead. Deprecated in Pydantic V2.0 to be removed in V3.0. See Pydantic V2 Migration Guide at https://errors.pydantic.dev/2.11/migration/\n",
            "  print(user.dict())   #  {'name': 'Bob', 'age': 40}  #model_dump()\n",
            "/tmp/ipython-input-1380281954.py:3: PydanticDeprecatedSince20: The `json` method is deprecated; use `model_dump_json` instead. Deprecated in Pydantic V2.0 to be removed in V3.0. See Pydantic V2 Migration Guide at https://errors.pydantic.dev/2.11/migration/\n",
            "  print(user.json())   # '{\"name\": \"Bob\", \"age\": 40}' #model_dump_json()\n"
          ]
        }
      ]
    },
    {
      "cell_type": "markdown",
      "source": [
        "#3. fastapi 응용\n",
        "- 런타임 재시작 후 실행"
      ],
      "metadata": {
        "id": "VnEOwusJ_lQ2"
      }
    },
    {
      "cell_type": "code",
      "source": [
        "import pickle\n",
        "with open( \"model.pkl\", \"rb\" ) as f:\n",
        "    model = pickle.load(f)"
      ],
      "metadata": {
        "id": "oOypQerIGc2u"
      },
      "execution_count": null,
      "outputs": []
    },
    {
      "cell_type": "code",
      "source": [
        "from fastapi import FastAPI\n",
        "from pydantic import BaseModel\n",
        "from sklearn.datasets import load_iris\n",
        "from sklearn.tree import DecisionTreeClassifier\n",
        "from pyngrok import ngrok\n",
        "from typing import List\n",
        "import uvicorn\n",
        "import nest_asyncio\n",
        "import threading\n",
        "\n",
        "# -------------------\n",
        "# 1. 모델 학습\n",
        "# -------------------\n",
        "#iris = load_iris()\n",
        "#X, y = iris.data, iris.target\n",
        "#model = DecisionTreeClassifier()\n",
        "#model.fit(X, y)\n",
        "\n",
        "# -------------------\n",
        "# 2. FastAPI 정의\n",
        "# -------------------\n",
        "app = FastAPI()\n",
        "\n",
        "class ListInput(BaseModel):\n",
        "    values: List[float]\n",
        "\n",
        "class IrisInput(BaseModel):\n",
        "    income: float\n",
        "    age: float\n",
        "    loan: float\n",
        "\n",
        "@app.post(\"/predict\")\n",
        "def predict(data: IrisInput):\n",
        "    input_data = [[\n",
        "        data.income,\n",
        "        data.age,\n",
        "        data.loan\n",
        "    ]]\n",
        "    prediction = model.predict(input_data)[0]\n",
        "    return {\"prediction\": int(prediction)}\n",
        "\n",
        "\n",
        "# -------------------\n",
        "# 3. 서버 실행 및 ngrok 연결\n",
        "# -------------------\n",
        "nest_asyncio.apply()\n",
        "def run():\n",
        "    uvicorn.run(app, host=\"0.0.0.0\", port=8000)\n",
        "threading.Thread(target=run).start()\n",
        "public_url = ngrok.connect(8000)\n",
        "print(f\"Public FastAPI URL: {public_url}\")"
      ],
      "metadata": {
        "id": "DMimk3DYJda6"
      },
      "execution_count": null,
      "outputs": []
    },
    {
      "cell_type": "code",
      "source": [
        "import requests\n",
        "url = public_url.public_url+\"/predict\"\n",
        "X_new = {\n",
        "    \"income\": 60000.0,\n",
        "    \"age\": 65.0,\n",
        "    \"loan\": 1000.0\n",
        "}\n",
        "response = requests.post(url, json=X_new)\n",
        "print(response.json())"
      ],
      "metadata": {
        "colab": {
          "base_uri": "https://localhost:8080/"
        },
        "id": "KUlqawSTJkXx",
        "outputId": "2ef6d12f-a30d-4e29-e805-f9fe41c466bb"
      },
      "execution_count": null,
      "outputs": [
        {
          "output_type": "stream",
          "name": "stdout",
          "text": [
            "INFO:     34.125.135.95:0 - \"POST /predict HTTP/1.1\" 200 OK\n",
            "{'prediction': 0}\n"
          ]
        },
        {
          "output_type": "stream",
          "name": "stderr",
          "text": [
            "/usr/local/lib/python3.11/dist-packages/sklearn/utils/validation.py:2739: UserWarning: X does not have valid feature names, but DecisionTreeClassifier was fitted with feature names\n",
            "  warnings.warn(\n"
          ]
        }
      ]
    },
    {
      "cell_type": "markdown",
      "source": [],
      "metadata": {
        "id": "DfMnK-oS_4g8"
      }
    },
    {
      "cell_type": "code",
      "source": [
        "import requests\n",
        "\n",
        "url = public_url.public_url+\"/predict2\"\n",
        "X_new = {\"values\": [5.1, 3.5, 1.4, 0.2]}\n",
        "response = requests.post(url, json=X_new)\n",
        "print(response.json())"
      ],
      "metadata": {
        "colab": {
          "base_uri": "https://localhost:8080/"
        },
        "id": "H_azVx1qCHO7",
        "outputId": "93f85eb4-1a0f-4fff-c352-01ae9246bee0"
      },
      "execution_count": null,
      "outputs": [
        {
          "output_type": "stream",
          "name": "stdout",
          "text": [
            "INFO:     34.74.1.41:0 - \"POST /predict2 HTTP/1.1\" 200 OK\n",
            "{'prediction': 0, 'label': 'setosa'}\n"
          ]
        }
      ]
    },
    {
      "cell_type": "markdown",
      "source": [
        "#4, GPT와 연결"
      ],
      "metadata": {
        "id": "gSn7zW4r_5cm"
      }
    },
    {
      "cell_type": "code",
      "source": [
        "!pip -q install fastapi uvicorn nest_asyncio pyngrok"
      ],
      "metadata": {
        "id": "b8iyFK4VAg60"
      },
      "execution_count": 2,
      "outputs": []
    },
    {
      "cell_type": "code",
      "source": [
        "NGROK_TOKEN = \"30s47Zrpt0z8JIXJRCLMMklctLS_43GWGBsYeAL5k558po9Xo\"\n",
        "\n",
        "from fastapi import FastAPI, Query, Header, HTTPException\n",
        "from fastapi.middleware.cors import CORSMiddleware\n",
        "from fastapi.openapi.utils import get_openapi\n",
        "from pyngrok import ngrok\n",
        "import nest_asyncio, uvicorn, threading\n",
        "\n",
        "nest_asyncio.apply()\n",
        "ngrok.set_auth_token(NGROK_TOKEN)\n",
        "\n",
        "# Start tunnel (pyngrok returns 'http' by default; we need https)\n",
        "tunnel = ngrok.connect(8000, \"http\")\n",
        "public_url = tunnel.public_url.replace(\"http://\", \"https://\")\n",
        "print(\"PUBLIC URL:\", public_url, \"  OpenAPI:\", public_url + \"/openapi.json\")\n",
        "\n",
        "app = FastAPI(title=\"Colab FastAPI for GPT Actions\", version=\"1.0.0\")\n",
        "\n",
        "app.add_middleware(\n",
        "    CORSMiddleware,\n",
        "    allow_origins=[\"*\"], allow_methods=[\"*\"], allow_headers=[\"*\"],\n",
        ")\n",
        "\n",
        "# ---  endpoints ---\n",
        "@app.get(\"/sum\")\n",
        "def sum_numbers(a: float, b: float):\n",
        "    return {\"a\": a, \"b\": b, \"sum\": a + b}\n",
        "\n",
        "# --- inject servers[] into the OpenAPI schema ---\n",
        "def custom_openapi():\n",
        "    if app.openapi_schema:\n",
        "        return app.openapi_schema\n",
        "    app.openapi_schema = get_openapi(\n",
        "        title=app.title,\n",
        "        version=app.version,\n",
        "        description=app.description,\n",
        "        routes=app.routes,\n",
        "        servers=[{\"url\": public_url}],   # <-- IMPORTANT\n",
        "    )\n",
        "    return app.openapi_schema\n",
        "\n",
        "app.openapi = custom_openapi\n",
        "\n",
        "#uvicorn.run(app, host=\"0.0.0.0\", port=8000)\n",
        "\n",
        "def run():\n",
        "    uvicorn.run(app, host=\"0.0.0.0\", port=8000)\n",
        "\n",
        "thread = threading.Thread(target=run, daemon=True)\n",
        "thread.start()\n",
        "\n",
        "print(\"FastAPI 백그라운드 실행 중\")\n",
        "print(\"OpenAPI:\", public_url + \"/openapi.json\")"
      ],
      "metadata": {
        "colab": {
          "base_uri": "https://localhost:8080/"
        },
        "id": "-YTq97ccAWU-",
        "outputId": "e20e5f86-428a-47bb-8e29-c3c4bc384be2"
      },
      "execution_count": 5,
      "outputs": [
        {
          "output_type": "stream",
          "name": "stdout",
          "text": [
            "PUBLIC URL: https://71f8dfffb0b0.ngrok.app   OpenAPI: https://71f8dfffb0b0.ngrok.app/openapi.json\n",
            "FastAPI 백그라운드 실행 중\n",
            "OpenAPI: https://71f8dfffb0b0.ngrok.app/openapi.json\n"
          ]
        }
      ]
    },
    {
      "cell_type": "markdown",
      "source": [
        "- 모형 불러와서 저장"
      ],
      "metadata": {
        "id": "E4W-yNhXBjeV"
      }
    },
    {
      "cell_type": "code",
      "source": [
        "import pandas as pd\n",
        "from sklearn.feature_extraction.text import TfidfVectorizer\n",
        "from sklearn.linear_model import LogisticRegression\n",
        "import pickle\n",
        "\n",
        "# 예시 데이터\n",
        "texts = [\n",
        "    \"I love this movie, it was fantastic!\",\n",
        "    \"This film was terrible and boring.\",\n",
        "    \"Amazing acting and great story.\",\n",
        "    \"Worst movie I have ever seen.\"\n",
        "]\n",
        "labels = [1, 0, 1, 0]  # 1 = 긍정, 0 = 부정\n",
        "\n",
        "# TF-IDF + 로지스틱 회귀\n",
        "vectorizer = TfidfVectorizer()\n",
        "X = vectorizer.fit_transform(texts)\n",
        "\n",
        "model = LogisticRegression()\n",
        "model.fit(X, labels)\n",
        "\n",
        "# 저장\n",
        "with open(\"sentiment_model.pkl\", \"wb\") as f:\n",
        "    pickle.dump((vectorizer, model), f)\n",
        "\n",
        "print(\"모델 저장 완료\")\n"
      ],
      "metadata": {
        "colab": {
          "base_uri": "https://localhost:8080/"
        },
        "id": "rp7TtozYBjo5",
        "outputId": "2d2fc1d9-305f-4825-c5f7-e1914da31138"
      },
      "execution_count": 2,
      "outputs": [
        {
          "output_type": "stream",
          "name": "stdout",
          "text": [
            "모델 저장 완료\n"
          ]
        }
      ]
    },
    {
      "cell_type": "code",
      "source": [
        "from fastapi import FastAPI\n",
        "from pydantic import BaseModel\n",
        "import pickle\n",
        "\n",
        "# 모델 불러오기\n",
        "with open(\"sentiment_model.pkl\", \"rb\") as f:\n",
        "    vectorizer, model = pickle.load(f)\n",
        "\n",
        "# FastAPI 앱\n",
        "app = FastAPI()\n",
        "\n",
        "# 입력 데이터 구조 정의\n",
        "class TextIn(BaseModel):\n",
        "    text: str\n",
        "\n",
        "# 예측 API\n",
        "@app.post(\"/predict\")\n",
        "def predict(data: TextIn):\n",
        "    X = vectorizer.transform([data.text])\n",
        "    pred = model.predict(X)[0]\n",
        "    label = \"positive\" if pred == 1 else \"negative\"\n",
        "    return {\"input\": data.text, \"prediction\": label}\n"
      ],
      "metadata": {
        "id": "Rnn01p03Bo8-"
      },
      "execution_count": 4,
      "outputs": []
    },
    {
      "cell_type": "code",
      "source": [
        "!pip install pyngrok fastapi uvicorn nest_asyncio\n",
        "\n",
        "from pyngrok import ngrok\n",
        "import nest_asyncio, uvicorn, threading\n",
        "\n",
        "# ngrok 터널 열기\n",
        "public_url = ngrok.connect(8000)\n",
        "print(\"공개 URL:\", public_url)\n",
        "\n",
        "# FastAPI 실행 (백그라운드 스레드)\n",
        "nest_asyncio.apply()\n",
        "def run():\n",
        "    uvicorn.run(app, host=\"0.0.0.0\", port=8000)\n",
        "threading.Thread(target=run, daemon=True).start()\n"
      ],
      "metadata": {
        "colab": {
          "base_uri": "https://localhost:8080/"
        },
        "id": "3ICXdnl9Bo_y",
        "outputId": "f9c9e86a-e178-4949-df8a-f94aa769a46d"
      },
      "execution_count": 5,
      "outputs": [
        {
          "output_type": "stream",
          "name": "stdout",
          "text": [
            "Requirement already satisfied: pyngrok in /usr/local/lib/python3.11/dist-packages (7.3.0)\n",
            "Requirement already satisfied: fastapi in /usr/local/lib/python3.11/dist-packages (0.116.1)\n",
            "Requirement already satisfied: uvicorn in /usr/local/lib/python3.11/dist-packages (0.35.0)\n",
            "Requirement already satisfied: nest_asyncio in /usr/local/lib/python3.11/dist-packages (1.6.0)\n",
            "Requirement already satisfied: PyYAML>=5.1 in /usr/local/lib/python3.11/dist-packages (from pyngrok) (6.0.2)\n",
            "Requirement already satisfied: starlette<0.48.0,>=0.40.0 in /usr/local/lib/python3.11/dist-packages (from fastapi) (0.47.2)\n",
            "Requirement already satisfied: pydantic!=1.8,!=1.8.1,!=2.0.0,!=2.0.1,!=2.1.0,<3.0.0,>=1.7.4 in /usr/local/lib/python3.11/dist-packages (from fastapi) (2.11.7)\n",
            "Requirement already satisfied: typing-extensions>=4.8.0 in /usr/local/lib/python3.11/dist-packages (from fastapi) (4.14.1)\n",
            "Requirement already satisfied: click>=7.0 in /usr/local/lib/python3.11/dist-packages (from uvicorn) (8.2.1)\n",
            "Requirement already satisfied: h11>=0.8 in /usr/local/lib/python3.11/dist-packages (from uvicorn) (0.16.0)\n",
            "Requirement already satisfied: annotated-types>=0.6.0 in /usr/local/lib/python3.11/dist-packages (from pydantic!=1.8,!=1.8.1,!=2.0.0,!=2.0.1,!=2.1.0,<3.0.0,>=1.7.4->fastapi) (0.7.0)\n",
            "Requirement already satisfied: pydantic-core==2.33.2 in /usr/local/lib/python3.11/dist-packages (from pydantic!=1.8,!=1.8.1,!=2.0.0,!=2.0.1,!=2.1.0,<3.0.0,>=1.7.4->fastapi) (2.33.2)\n",
            "Requirement already satisfied: typing-inspection>=0.4.0 in /usr/local/lib/python3.11/dist-packages (from pydantic!=1.8,!=1.8.1,!=2.0.0,!=2.0.1,!=2.1.0,<3.0.0,>=1.7.4->fastapi) (0.4.1)\n",
            "Requirement already satisfied: anyio<5,>=3.6.2 in /usr/local/lib/python3.11/dist-packages (from starlette<0.48.0,>=0.40.0->fastapi) (4.10.0)\n",
            "Requirement already satisfied: idna>=2.8 in /usr/local/lib/python3.11/dist-packages (from anyio<5,>=3.6.2->starlette<0.48.0,>=0.40.0->fastapi) (3.10)\n",
            "Requirement already satisfied: sniffio>=1.1 in /usr/local/lib/python3.11/dist-packages (from anyio<5,>=3.6.2->starlette<0.48.0,>=0.40.0->fastapi) (1.3.1)\n",
            "공개 URL: NgrokTunnel: \"https://98daeccd0e1c.ngrok.app\" -> \"http://localhost:8000\"\n"
          ]
        }
      ]
    },
    {
      "cell_type": "code",
      "source": [
        "public_url.public_url"
      ],
      "metadata": {
        "colab": {
          "base_uri": "https://localhost:8080/",
          "height": 35
        },
        "id": "i1YsXCkLDJGa",
        "outputId": "71d80962-9aed-44cc-fae8-ea265c75b5f0"
      },
      "execution_count": 11,
      "outputs": [
        {
          "output_type": "execute_result",
          "data": {
            "text/plain": [
              "'https://98daeccd0e1c.ngrok.app'"
            ],
            "application/vnd.google.colaboratory.intrinsic+json": {
              "type": "string"
            }
          },
          "metadata": {},
          "execution_count": 11
        }
      ]
    },
    {
      "cell_type": "code",
      "source": [
        "import requests\n",
        "res = requests.post(f\"{public_url.public_url}/predict\", json={\"text\": \"I really enjoyed this movie!\"})\n",
        "print(res.json())"
      ],
      "metadata": {
        "colab": {
          "base_uri": "https://localhost:8080/"
        },
        "id": "rvqgMfAQBt_l",
        "outputId": "5641cc2b-2b87-4ab4-a919-33b7990bcacc"
      },
      "execution_count": 12,
      "outputs": [
        {
          "output_type": "stream",
          "name": "stdout",
          "text": [
            "INFO:     34.81.47.110:0 - \"POST /predict HTTP/1.1\" 200 OK\n",
            "{'input': 'I really enjoyed this movie!', 'prediction': 'positive'}\n"
          ]
        }
      ]
    }
  ]
}